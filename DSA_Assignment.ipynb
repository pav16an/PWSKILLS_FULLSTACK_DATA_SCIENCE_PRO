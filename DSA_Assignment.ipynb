{
  "cells": [
    {
      "cell_type": "markdown",
      "metadata": {
        "id": "view-in-github",
        "colab_type": "text"
      },
      "source": [
        "<a href=\"https://colab.research.google.com/github/pav16an/PWSKILLS_FULLSTACK_DATA_SCIENCE_PRO/blob/main/DSA_Assignment.ipynb\" target=\"_parent\"><img src=\"https://colab.research.google.com/assets/colab-badge.svg\" alt=\"Open In Colab\"/></a>"
      ]
    },
    {
      "cell_type": "markdown",
      "id": "2fb9987b",
      "metadata": {
        "id": "2fb9987b"
      },
      "source": [
        "Problem 1: Reverse a singly linked list.\n",
        "\n",
        "Input: 1 -> 2 -> 3 -> 4 -> 5\n",
        "\n",
        "Output: 5 -> 4 -> 3 -> 2 -> 1"
      ]
    },
    {
      "cell_type": "code",
      "execution_count": 33,
      "id": "9d60915b",
      "metadata": {
        "colab": {
          "base_uri": "https://localhost:8080/"
        },
        "id": "9d60915b",
        "outputId": "e7eee623-589a-4d0f-c159-662f6d7f07d7"
      },
      "outputs": [
        {
          "output_type": "stream",
          "name": "stdout",
          "text": [
            "1->2->3->4->5->6\n"
          ]
        }
      ],
      "source": [
        "class Link:\n",
        "    def __init__(self, data=None):\n",
        "        self.data = data\n",
        "        self.next = None\n",
        "    def setdata(self,data):\n",
        "        self.data=data\n",
        "    def getdata(self):\n",
        "        return self.data\n",
        "\n",
        "    def setnext(self, node):\n",
        "        self.next = node\n",
        "\n",
        "    def getdata(self):\n",
        "        return self.data\n",
        "\n",
        "    def getnext(self):\n",
        "        return self.next\n",
        "head = Link(1)\n",
        "node2 = Link(2)\n",
        "node3= Link(3)\n",
        "node4 =Link(4)\n",
        "node5 =Link(5)\n",
        "node6 =Link(6)\n",
        "\n",
        "\n",
        "#creating the linkage\n",
        "head.setnext(node2)\n",
        "node2.setnext(node3)\n",
        "node3.setnext(node4)\n",
        "node4.setnext(node5)\n",
        "node5.setnext(node6)\n",
        "\n",
        "def traverse(head):\n",
        "    if not head:\n",
        "        return\n",
        "    elif head.getnext()==None:\n",
        "        print(head.getdata())\n",
        "    else:\n",
        "        print(head.getdata(),end=\"->\")\n",
        "        return traverse(head.getnext())\n",
        "traverse(head)\n"
      ]
    },
    {
      "cell_type": "code",
      "execution_count": 34,
      "id": "53d3c497",
      "metadata": {
        "colab": {
          "base_uri": "https://localhost:8080/"
        },
        "id": "53d3c497",
        "outputId": "adb8bde3-2007-4607-fd83-bb810f040a05"
      },
      "outputs": [
        {
          "output_type": "stream",
          "name": "stdout",
          "text": [
            "1->2->3->4->5->6\n",
            "\n",
            "6->5->4->3->2->1\n"
          ]
        }
      ],
      "source": [
        "def reverse_linked_list(head):\n",
        "    prev = None\n",
        "    current = head\n",
        "    while current:\n",
        "        next_node = current.getnext()\n",
        "        current.setnext(prev)\n",
        "        prev = current\n",
        "        current = next_node\n",
        "\n",
        "    return prev\n",
        "\n",
        "traverse(head)\n",
        "print()\n",
        "head = reverse_linked_list(head)\n",
        "traverse(head)"
      ]
    },
    {
      "cell_type": "markdown",
      "id": "e975f5f9",
      "metadata": {
        "id": "e975f5f9"
      },
      "source": [
        "Problem 2 :Merge two sorted linked list into one sorted linked list\n",
        "\n",
        "Input: List1:1->3->5,list2:2->4->6\n",
        "\n",
        "output:1->2->3->4->5->6"
      ]
    },
    {
      "cell_type": "code",
      "execution_count": 35,
      "id": "39db8dc1",
      "metadata": {
        "colab": {
          "base_uri": "https://localhost:8080/"
        },
        "id": "39db8dc1",
        "outputId": "d927672d-25b5-4d73-e365-2f986db686fb"
      },
      "outputs": [
        {
          "output_type": "stream",
          "name": "stdout",
          "text": [
            "After Merging the two linked list:  1->3->5->2->4->6\n",
            "After sorting :  1->2->3->4->5->6\n"
          ]
        }
      ],
      "source": [
        "class Link:\n",
        "    def __init__(self, data=None):\n",
        "        self.data = data\n",
        "        self.next = None\n",
        "    def setdata(self,data):\n",
        "        self.data=data\n",
        "\n",
        "    def getdata(self):\n",
        "        return self.data\n",
        "\n",
        "    def setnext(self, node):\n",
        "        self.next = node\n",
        "\n",
        "    def getdata(self):\n",
        "        return self.data\n",
        "\n",
        "    def getnext(self):\n",
        "        return self.next\n",
        "# Linked list 1\n",
        "head1=Link(1)\n",
        "node2=Link(3)\n",
        "node3=Link(5)\n",
        "\n",
        "head1.setnext(node2)\n",
        "node2.setnext(node3)\n",
        "\n",
        "# linked list2\n",
        "head2=Link(2)\n",
        "node2=Link(4)\n",
        "node3=Link(6)\n",
        "\n",
        "head2.setnext(node2)\n",
        "node2.setnext(node3)\n",
        "\n",
        "def traverse(head):\n",
        "    if not head:\n",
        "        return\n",
        "    elif head.getnext()==None:\n",
        "        print(head.getdata())\n",
        "    else:\n",
        "        print(head.getdata(),end=\"->\")\n",
        "        traverse(head.getnext())\n",
        "# print(f\"List 1 : \",end = \" \")\n",
        "# traverse(head1)\n",
        "# print(f\"List 2 : \",end = \" \")\n",
        "# traverse(head2)\n",
        "def merge(head1,head2):\n",
        "    current=head1\n",
        "    while current.getnext() != None:\n",
        "        current =current.getnext()\n",
        "    current.setnext(head2)\n",
        "    return head1\n",
        "print(\"After Merging the two linked list: \",end=\" \")\n",
        "head=merge(head1,head2)\n",
        "traverse(head)\n",
        "\n",
        "def swap(p1,p2):\n",
        "    temp1 = p1.getdata()\n",
        "    p1 = p1.setdata(p2.getdata())\n",
        "    p2 = p2.setdata(temp1)\n",
        "\n",
        "\n",
        "def Sort(head):\n",
        "    swapped= True\n",
        "    while swapped:\n",
        "        swapped = False\n",
        "        current = head\n",
        "        while current.getnext():\n",
        "\n",
        "            if current.getdata() > current.getnext().getdata():\n",
        "                swap(current,current.getnext()) ## calling swap function\n",
        "                swapped = True\n",
        "            else:\n",
        "                current = current.getnext()\n",
        "\n",
        "    return head\n",
        "\n",
        "head1 = Sort(head1)\n",
        "print(\"After sorting : \",end= \" \")\n",
        "traverse(head1)"
      ]
    },
    {
      "cell_type": "markdown",
      "id": "17a539ae",
      "metadata": {
        "id": "17a539ae"
      },
      "source": [
        "Problem 3: Remove the nth node from the end of a linked list.\n",
        "\n",
        "Input: 1 -> 2 -> 3 -> 4 -> 5, n = 2\n",
        "\n",
        "Output: 1 -> 2 -> 3 -> 5"
      ]
    },
    {
      "cell_type": "code",
      "execution_count": 36,
      "id": "c4a246e9",
      "metadata": {
        "colab": {
          "base_uri": "https://localhost:8080/"
        },
        "id": "c4a246e9",
        "outputId": "3b9b6ce8-3c69-41c0-d249-8efd7db4314b"
      },
      "outputs": [
        {
          "output_type": "stream",
          "name": "stdout",
          "text": [
            "1->2->3->4->5->6\n",
            "1->2->3->4->5\n"
          ]
        }
      ],
      "source": [
        "class Link:\n",
        "    def __init__(self, data=None):\n",
        "        self.data = data\n",
        "        self.next = None\n",
        "    def setdata(self,data):\n",
        "        self.data=data\n",
        "    def getdata(self):\n",
        "        return self.data\n",
        "\n",
        "    def setnext(self, node):\n",
        "        self.next = node\n",
        "\n",
        "    def getdata(self):\n",
        "        return self.data\n",
        "\n",
        "    def getnext(self):\n",
        "        return self.next\n",
        "head = Link(1)\n",
        "node2 = Link(2)\n",
        "node3= Link(3)\n",
        "node4 =Link(4)\n",
        "node5 =Link(5)\n",
        "node6 =Link(6)\n",
        "\n",
        "\n",
        "#creating the linkage\n",
        "head.setnext(node2)\n",
        "node2.setnext(node3)\n",
        "node3.setnext(node4)\n",
        "node4.setnext(node5)\n",
        "node5.setnext(node6)\n",
        "\n",
        "def traverse(head):\n",
        "    if not head:\n",
        "        return\n",
        "    elif head.getnext()==None:\n",
        "        print(head.getdata())\n",
        "    else:\n",
        "        print(head.getdata(),end=\"->\")\n",
        "        return traverse(head.getnext())\n",
        "traverse(head)\n",
        "def remove_last(head,k):\n",
        "    slow=head\n",
        "    fast=head\n",
        "    i=0\n",
        "    while(i<k-1):\n",
        "        fast=fast.getnext()\n",
        "        i+=1\n",
        "    while fast != None and fast.getnext() !=None:\n",
        "        slow=slow.getnext()\n",
        "        fast=fast.getnext()\n",
        "    slow.setnext(slow.getnext().getnext())\n",
        "    return head\n",
        "head=remove_last(head,2)\n",
        "traverse(head)"
      ]
    },
    {
      "cell_type": "markdown",
      "id": "5a412f32",
      "metadata": {
        "id": "5a412f32"
      },
      "source": [
        "Problem 4: Find the intersection point of two linked lists.\n",
        "\n",
        "Input: List 1: 1 -> 2 -> 3 -> 4, List 2: 9 -> 8 -> 3 -> 4\n",
        "\n",
        "Output: Node with value 3"
      ]
    },
    {
      "cell_type": "code",
      "execution_count": 37,
      "id": "78f84f79",
      "metadata": {
        "colab": {
          "base_uri": "https://localhost:8080/"
        },
        "id": "78f84f79",
        "outputId": "cd406d4e-4c7a-45df-fb5d-454e2779f95d"
      },
      "outputs": [
        {
          "output_type": "stream",
          "name": "stdout",
          "text": [
            "1->2->3->4\n",
            "9->8->3->4\n",
            "node with value 3\n"
          ]
        }
      ],
      "source": [
        "class Link:\n",
        "    def __init__(self, data=None):\n",
        "        self.data = data\n",
        "        self.next = None\n",
        "    def setdata(self,data):\n",
        "        self.data=data\n",
        "\n",
        "    def getdata(self):\n",
        "        return self.data\n",
        "\n",
        "    def setnext(self, node):\n",
        "        self.next = node\n",
        "\n",
        "    def getdata(self):\n",
        "        return self.data\n",
        "\n",
        "    def getnext(self):\n",
        "        return self.next\n",
        "# Linked list 1\n",
        "head1=Link(1)\n",
        "node2=Link(2)\n",
        "node3=Link(3)\n",
        "node4=Link(4)\n",
        "\n",
        "head1.setnext(node2)\n",
        "node2.setnext(node3)\n",
        "node3.setnext(node4)\n",
        "\n",
        "# linked list2\n",
        "head2=Link(9)\n",
        "node2=Link(8)\n",
        "node3=Link(3)\n",
        "node4=Link(4)\n",
        "\n",
        "head2.setnext(node2)\n",
        "node2.setnext(node3)\n",
        "node3.setnext(node4)\n",
        "\n",
        "def traverse(head):\n",
        "    if not head:\n",
        "        return\n",
        "    elif head.getnext()==None:\n",
        "        print(head.getdata())\n",
        "    else:\n",
        "        print(head.getdata(),end=\"->\")\n",
        "        traverse(head.getnext())\n",
        "traverse(head1)\n",
        "traverse(head2)\n",
        "def intersection(head1,head2):\n",
        "    current1=head1\n",
        "    current2=head2\n",
        "    while current1 and current2:\n",
        "        if current1.getdata() == current2.getdata():\n",
        "            return current1.getdata()\n",
        "        current1=current1.getnext()\n",
        "        current2=current2.getnext()\n",
        "    return f\"there is no node are intersection\"\n",
        "print(f\"node with value {intersection(head1,head2)}\")\n",
        ""
      ]
    },
    {
      "cell_type": "markdown",
      "id": "5541f045",
      "metadata": {
        "id": "5541f045"
      },
      "source": [
        "Problem 5: Remove duplicates from a sorted linked list.\n",
        "\n",
        "Input: 1 -> 1 -> 2 -> 3 -> 3\n",
        "\n",
        "Output: 1 -> 2 -> 3"
      ]
    },
    {
      "cell_type": "code",
      "execution_count": 38,
      "id": "8f9cf175",
      "metadata": {
        "colab": {
          "base_uri": "https://localhost:8080/"
        },
        "id": "8f9cf175",
        "outputId": "83b51b87-b2b2-4af1-a2ee-47894ad46f4f"
      },
      "outputs": [
        {
          "output_type": "stream",
          "name": "stdout",
          "text": [
            "1->2->3->3\n",
            "1->2->3\n"
          ]
        }
      ],
      "source": [
        "class Link:\n",
        "    def __init__(self, data=None):\n",
        "        self.data = data\n",
        "        self.next = None\n",
        "    def setdata(self,data):\n",
        "        self.data=data\n",
        "    def getdata(self):\n",
        "        return self.data\n",
        "\n",
        "    def setnext(self, node):\n",
        "        self.next = node\n",
        "\n",
        "    def getdata(self):\n",
        "        return self.data\n",
        "\n",
        "    def getnext(self):\n",
        "        return self.next\n",
        "head = Link(1)\n",
        "node2 = Link(2)\n",
        "node3= Link(3)\n",
        "node4 =Link(3)\n",
        "\n",
        "head.setnext(node2)\n",
        "node2.setnext(node3)\n",
        "node3.setnext(node4)\n",
        "\n",
        "def traverse(head):\n",
        "    if not head:\n",
        "        return\n",
        "    elif head.getnext()==None:\n",
        "        print(head.getdata())\n",
        "    else:\n",
        "        print(head.getdata(),end=\"->\")\n",
        "        return traverse(head.getnext())\n",
        "traverse(head)\n",
        "\n",
        "def remove_duplicate(head):\n",
        "    current = head\n",
        "    while current:\n",
        "        temp = current\n",
        "        while temp.getnext():\n",
        "            if temp.getnext().getdata()==current.getdata():\n",
        "                temp.setnext(temp.getnext().getnext())\n",
        "            else:\n",
        "                temp=temp.getnext()\n",
        "        current=current.getnext()\n",
        "    return head\n",
        "head=remove_duplicate(head)\n",
        "traverse(head)"
      ]
    },
    {
      "cell_type": "markdown",
      "id": "b44c9c38",
      "metadata": {
        "id": "b44c9c38"
      },
      "source": [
        "Problem 6: Add two numbers represented by linked lists (where each node contains a single digit).\n",
        "\n",
        "Input: List 1: 2 -> 4 -> 3, List 2: 5 -> 6 -> 4 (represents 342 + 465)\n",
        "\n",
        "Output: 7 -> 0 -> 8 (represents 807)"
      ]
    },
    {
      "cell_type": "code",
      "execution_count": 39,
      "id": "667b85e6",
      "metadata": {
        "colab": {
          "base_uri": "https://localhost:8080/"
        },
        "id": "667b85e6",
        "outputId": "c3ce9a17-37e4-4232-8fcf-660f5976fd62"
      },
      "outputs": [
        {
          "output_type": "stream",
          "name": "stdout",
          "text": [
            "List 1 :  2->4->3\n",
            "List 2 :  5->6->4\n",
            "After added :  7->0->8\n"
          ]
        }
      ],
      "source": [
        "class Node:\n",
        "\n",
        "    # constructer initially they set as none\n",
        "    def __init__(self,data=None,Next = None):\n",
        "        self.data = data\n",
        "        self.next = Next\n",
        "\n",
        "    ## this is to insert data\n",
        "    def setData(self,data):\n",
        "        self.data = data\n",
        "\n",
        "    ## this is to retrive the data\n",
        "    def getData(self):\n",
        "        return self.data\n",
        "\n",
        "    ## this is to set the address\n",
        "    def setNext(self,Next):\n",
        "        self.next = Next\n",
        "\n",
        "    ## this is to get the address of the data\n",
        "    def getNext(self):\n",
        "        return self.next\n",
        "\n",
        "\n",
        "## creating list1\n",
        "head1 = Node(2)\n",
        "node2 = Node(4)\n",
        "node3 = Node(3)\n",
        "\n",
        "## setting addresses for list1\n",
        "head1.setNext(node2)\n",
        "node2.setNext(node3)\n",
        "\n",
        "## creating list2\n",
        "head2 = Node(5)\n",
        "node2 = Node(6)\n",
        "node3 = Node(4)\n",
        "head2.setNext(node2)\n",
        "node2.setNext(node3)\n",
        "\n",
        "\n",
        "## this function is for traversing a linked list using recursion\n",
        "def traverse(head):\n",
        "\n",
        "    ## base condition\n",
        "    if not head:\n",
        "        return\n",
        "\n",
        "    ## to avoid the \"->\" in last\n",
        "    elif head.getNext() == None:\n",
        "        print(head.getData())\n",
        "\n",
        "    ## else case for printing each and every node\n",
        "    else:\n",
        "        print(head.getData(),end=\"->\")\n",
        "        return traverse(head.getNext())\n",
        "\n",
        "\n",
        "### function for adding both nodes of linked lists\n",
        "def add_lists(head1,head2):\n",
        "    result_head = Node()\n",
        "    current_head = result_head\n",
        "    carry = 0 ## it helps to take the carry of sum\n",
        "\n",
        "    temp1 = head1\n",
        "    temp2 = head2\n",
        "\n",
        "    while temp1 or temp2 or carry:\n",
        "        sum_val = carry\n",
        "\n",
        "        if temp1:\n",
        "            sum_val += temp1.getData()\n",
        "            temp1 = temp1.getNext()\n",
        "\n",
        "        if temp2:\n",
        "            sum_val += temp2.getData()\n",
        "            temp2 = temp2.getNext()\n",
        "\n",
        "        carry = sum_val // 10  ## this will take carry and add to carry variable\n",
        "\n",
        "        current_head.setNext(Node(sum_val % 10))\n",
        "        current_head = current_head.getNext()\n",
        "\n",
        "    return result_head.getNext()\n",
        "\n",
        "\n",
        "print(f\"List 1 : \",end = \" \")\n",
        "traverse(head1)\n",
        "print(f\"List 2 : \",end = \" \")\n",
        "traverse(head2)\n",
        "\n",
        "print(\"After added : \",end=\" \")\n",
        "head = add_lists(head1,head2)\n",
        "\n",
        "traverse(head)"
      ]
    },
    {
      "cell_type": "markdown",
      "id": "3957ead7",
      "metadata": {
        "id": "3957ead7"
      },
      "source": [
        "Problem 7: Swap nodes in pairs in a linked list\n",
        "\n",
        "Input: 1 -> 2 -> 3 -> 4\n",
        "\n",
        "Output: 2 -> 1 -> 4 -> 3"
      ]
    },
    {
      "cell_type": "code",
      "execution_count": 40,
      "id": "889e98ae",
      "metadata": {
        "colab": {
          "base_uri": "https://localhost:8080/"
        },
        "id": "889e98ae",
        "outputId": "af82fb10-9817-4b57-b9ac-6440d9ca04a8"
      },
      "outputs": [
        {
          "output_type": "stream",
          "name": "stdout",
          "text": [
            "Before swapping :  1->2->3->4\n",
            "After swapping :  2->1->4->3\n"
          ]
        }
      ],
      "source": [
        "class Node:\n",
        "\n",
        "    # constructer initially they set as none\n",
        "    def __init__(self,data=None,Next = None):\n",
        "        self.data = data\n",
        "        self.next = Next\n",
        "\n",
        "    ## this is to insert data\n",
        "    def setData(self,data):\n",
        "        self.data = data\n",
        "\n",
        "    ## this is to retrive the data\n",
        "    def getData(self):\n",
        "        return self.data\n",
        "\n",
        "    ## this is to set the address\n",
        "    def setNext(self,Next):\n",
        "        self.next = Next\n",
        "\n",
        "    ## this is to get the address of the data\n",
        "    def getNext(self):\n",
        "        return self.next\n",
        "\n",
        "\n",
        "## creating list1\n",
        "head = Node(1)\n",
        "node2 = Node(2)\n",
        "node3 = Node(3)\n",
        "node4 = Node(4)\n",
        "\n",
        "\n",
        "## setting addresses for list1\n",
        "head.setNext(node2)\n",
        "node2.setNext(node3)\n",
        "node3.setNext(node4)\n",
        "\n",
        "## this function is for traversing a linked list using recursion\n",
        "def traverse(head):\n",
        "\n",
        "    ## base condition\n",
        "    if not head:\n",
        "        return\n",
        "\n",
        "    ## to avoid the \"->\" in last\n",
        "    elif head.getNext() == None:\n",
        "        print(head.getData())\n",
        "\n",
        "    ## else case for printing each and every node\n",
        "    else:\n",
        "        print(head.getData(),end=\"->\")\n",
        "        return traverse(head.getNext())\n",
        "def swap(head):\n",
        "    head1 = Node()\n",
        "    head1.setNext(head)\n",
        "\n",
        "    ## fast and slow\n",
        "    fast = head1.getNext()\n",
        "    slow = head1\n",
        "\n",
        "    while fast and fast.getNext():\n",
        "        next_pair = fast.getNext().getNext()\n",
        "\n",
        "        fast.getNext().setNext(slow.getNext())\n",
        "        slow.setNext(fast.getNext())\n",
        "        fast.setNext(next_pair)\n",
        "\n",
        "        slow = fast\n",
        "        fast = next_pair\n",
        "\n",
        "    return head1.getNext()\n",
        "print(\"Before swapping : \",end=\" \")\n",
        "traverse(head)\n",
        "print(\"After swapping : \",end = \" \")\n",
        "head = swap(head)\n",
        "traverse(head)"
      ]
    },
    {
      "cell_type": "markdown",
      "id": "e53323ae",
      "metadata": {
        "id": "e53323ae"
      },
      "source": [
        "Problem 8: Reverse nodes in a linked list in groups of k.\n",
        "\n",
        "Input: 1 -> 2 -> 3 -> 4 -> 5, k = 3\n",
        "\n",
        "Output: 3 -> 2 -> 1 -> 4 -> 5"
      ]
    },
    {
      "cell_type": "code",
      "execution_count": 41,
      "id": "61931b0e",
      "metadata": {
        "colab": {
          "base_uri": "https://localhost:8080/"
        },
        "id": "61931b0e",
        "outputId": "32fb73dc-4e15-4b74-fbc3-951ac86b98ee"
      },
      "outputs": [
        {
          "output_type": "stream",
          "name": "stdout",
          "text": [
            "1->2->3->4->5\n",
            "Before reversing :  1->2->3->4->5\n",
            "After reversing :  3->2->1->4->5\n"
          ]
        }
      ],
      "source": [
        "class Link:\n",
        "    def __init__(self, data=None):\n",
        "        self.data = data\n",
        "        self.next = None\n",
        "    def setdata(self,data):\n",
        "        self.data=data\n",
        "    def getdata(self):\n",
        "        return self.data\n",
        "\n",
        "    def setnext(self, node):\n",
        "        self.next = node\n",
        "\n",
        "    def getdata(self):\n",
        "        return self.data\n",
        "\n",
        "    def getnext(self):\n",
        "        return self.next\n",
        "head = Link(1)\n",
        "node2 = Link(2)\n",
        "node3= Link(3)\n",
        "node4 =Link(4)\n",
        "node5=Link(5)\n",
        "\n",
        "head.setnext(node2)\n",
        "node2.setnext(node3)\n",
        "node3.setnext(node4)\n",
        "node4.setnext(node5)\n",
        "\n",
        "def traverse(head):\n",
        "    if not head:\n",
        "        return\n",
        "    elif head.getnext() == None:\n",
        "        print(head.getdata())\n",
        "    else:\n",
        "        print(head.getdata(),end=\"->\")\n",
        "        traverse(head.getnext())\n",
        "traverse(head)\n",
        "\n",
        "def reverse(head, k):\n",
        "    prev = None\n",
        "    current = head\n",
        "    next_node = None\n",
        "    count = 0\n",
        "\n",
        "    # Reverse k nodes\n",
        "    while current and count < k:\n",
        "        next_node = current.getnext()\n",
        "        current.setnext(prev)\n",
        "        prev = current\n",
        "        current = next_node\n",
        "        count += 1\n",
        "\n",
        "    head.setnext(next_node)\n",
        "\n",
        "    return prev\n",
        "\n",
        "print(\"Before reversing : \",end=\" \")\n",
        "traverse(head)\n",
        "print(\"After reversing : \",end = \" \")\n",
        "head = reverse(head,3)\n",
        "traverse(head)"
      ]
    },
    {
      "cell_type": "markdown",
      "id": "29dce624",
      "metadata": {
        "id": "29dce624"
      },
      "source": [
        "Problem 9: Determine if a linked list is a palindrome\n",
        "\n",
        "Input: 1 -> 2 -> 2 -> 1\n",
        "\n",
        "Output: True"
      ]
    },
    {
      "cell_type": "code",
      "execution_count": 42,
      "id": "c773521b",
      "metadata": {
        "colab": {
          "base_uri": "https://localhost:8080/"
        },
        "id": "c773521b",
        "outputId": "a39c6cb3-6a08-4bc5-a59c-531430ebd751"
      },
      "outputs": [
        {
          "output_type": "stream",
          "name": "stdout",
          "text": [
            "1->2->2->1\n",
            "Output : True\n"
          ]
        }
      ],
      "source": [
        "class Link:\n",
        "    def __init__(self, data=None):\n",
        "        self.data = data\n",
        "        self.next = None\n",
        "    def setdata(self,data):\n",
        "        self.data=data\n",
        "    def getdata(self):\n",
        "        return self.data\n",
        "\n",
        "    def setnext(self, node):\n",
        "        self.next = node\n",
        "\n",
        "    def getdata(self):\n",
        "        return self.data\n",
        "\n",
        "    def getnext(self):\n",
        "        return self.next\n",
        "head = Link(1)\n",
        "node2 = Link(2)\n",
        "node3= Link(2)\n",
        "node4 =Link(1)\n",
        "\n",
        "head.setnext(node2)\n",
        "node2.setnext(node3)\n",
        "node3.setnext(node4)\n",
        "\n",
        "def traverse(head):\n",
        "    if not head:\n",
        "        return\n",
        "    elif head.getnext() == None:\n",
        "        print(head.getdata())\n",
        "    else:\n",
        "        print(head.getdata(),end=\"->\")\n",
        "        traverse(head.getnext())\n",
        "\n",
        "\n",
        "def reverse(head):\n",
        "    prev=None\n",
        "    current = head\n",
        "    while current:\n",
        "        next_node=current.getnext()\n",
        "        current.setnext(prev)\n",
        "        prev=current\n",
        "        current=next_node\n",
        "    return prev\n",
        "\n",
        "def check_palindrome(head):\n",
        "    head1 = reverse(head)\n",
        "    head2 = head\n",
        "\n",
        "    temp1 = head1.getnext()\n",
        "    temp2 = head2.getnext()\n",
        "    while head1.getnext() and head2.getnext():\n",
        "\n",
        "        if temp1.getdata() == temp2.getdata():\n",
        "            temp1 = temp1.getnext()\n",
        "            temp2 = temp2.getnext()\n",
        "\n",
        "        else:\n",
        "            return False\n",
        "\n",
        "    return f\"Output : {True}\"\n",
        "traverse(head)\n",
        "print(check_palindrome(head))\n"
      ]
    },
    {
      "cell_type": "markdown",
      "id": "9ac601d0",
      "metadata": {
        "id": "9ac601d0"
      },
      "source": [
        "Problem 10: Rotate a linked list to the right by k places.\n",
        "\n",
        "Input: 1 -> 2 -> 3 -> 4 -> 5, k = 2\n",
        "\n",
        "Output: 4 -> 5 -> 1 -> 2 -> 3"
      ]
    },
    {
      "cell_type": "code",
      "execution_count": 43,
      "id": "59889a24",
      "metadata": {
        "colab": {
          "base_uri": "https://localhost:8080/"
        },
        "id": "59889a24",
        "outputId": "d1e8d162-b939-4654-ec7f-935d761ae271"
      },
      "outputs": [
        {
          "output_type": "stream",
          "name": "stdout",
          "text": [
            "Before reversing :  1->2->3->4->5\n",
            "After reversing :  4->5->1->2->3\n"
          ]
        }
      ],
      "source": [
        "class Node:\n",
        "    # constructer initially they set as none\n",
        "    def __init__(self,data=None,Next = None):\n",
        "        self.data = data\n",
        "        self.next = Next\n",
        "\n",
        "    ## this is to insert data\n",
        "    def setData(self,data):\n",
        "        self.data = data\n",
        "\n",
        "    ## this is to retrive the data\n",
        "    def getData(self):\n",
        "        return self.data\n",
        "\n",
        "    ## this is to set the address\n",
        "    def setNext(self,Next):\n",
        "        self.next = Next\n",
        "\n",
        "    ## this is to get the address of the data\n",
        "    def getNext(self):\n",
        "        return self.next\n",
        "\n",
        "\n",
        "## creating list1\n",
        "head = Node(1)\n",
        "node2 = Node(2)\n",
        "node3 = Node(3)\n",
        "node4 = Node(4)\n",
        "node5 = Node(5)\n",
        "\n",
        "\n",
        "## setting addresses for list1\n",
        "head.setNext(node2)\n",
        "node2.setNext(node3)\n",
        "node3.setNext(node4)\n",
        "node4.setNext(node5)\n",
        "\n",
        "## this function is for traversing a linked list using recursion\n",
        "def traverse(head):\n",
        "\n",
        "    ## base condition\n",
        "    if not head:\n",
        "        return\n",
        "\n",
        "    ## to avoid the \"->\" in last\n",
        "    elif head.getNext() == None:\n",
        "        print(head.getData())\n",
        "\n",
        "    ## else case for printing each and every node\n",
        "    else:\n",
        "        print(head.getData(),end=\"->\")\n",
        "        return traverse(head.getNext())\n",
        "\n",
        "## reversing\n",
        "def reverse(head, k):\n",
        "    if not head or not head.getNext():\n",
        "        return head\n",
        "\n",
        "    current = head\n",
        "    N = 1\n",
        "    while current.getNext():\n",
        "        N+=1\n",
        "        current = current.getNext()\n",
        "\n",
        "    current.setNext(head)\n",
        "\n",
        "    M = N - k%N # list index of new head\n",
        "\n",
        "\n",
        "    i =0\n",
        "\n",
        "    current = head\n",
        "\n",
        "    while i<M:\n",
        "        prev = current\n",
        "        current = current.getNext()\n",
        "        i+=1\n",
        "    prev.setNext(None)\n",
        "    head = current\n",
        "    return head\n",
        "\n",
        "print(\"Before reversing : \",end=\" \")\n",
        "traverse(head)\n",
        "print(\"After reversing : \",end = \" \")\n",
        "head = reverse(head,2)\n",
        "traverse(head)"
      ]
    },
    {
      "cell_type": "markdown",
      "id": "5d928614",
      "metadata": {
        "id": "5d928614"
      },
      "source": [
        "Problem 11: Flatten a multilevel doubly linked list.\n",
        "Input: 1 <-> 2 <-> 3 <-> 7 <-> 8 <-> 11 -> 12, 4 <-> 5 -> 9 -> 10, 6 -> 13\n",
        "Output: 1 <-> 2 <-> 3 <-> 4 <-> 5 <-> 6 <-> 7 <-> 8 <-> 9 <-> 10 <-> 11 <-> 12 <-> 13"
      ]
    },
    {
      "cell_type": "code",
      "execution_count": 44,
      "id": "4e1936ff",
      "metadata": {
        "colab": {
          "base_uri": "https://localhost:8080/"
        },
        "id": "4e1936ff",
        "outputId": "511e3359-6330-4ddb-d5bd-153634ea6824"
      },
      "outputs": [
        {
          "output_type": "stream",
          "name": "stdout",
          "text": [
            "Flattened List:\n",
            "1 <-> 2 <-> 3 <-> 4 <-> 7 <-> 8 <-> 11 <-> 12 <-> None\n"
          ]
        }
      ],
      "source": [
        "class Node:\n",
        "    def __init__(self, data=None, prev=None, next=None, child=None):\n",
        "        self.data = data\n",
        "        self.prev = prev\n",
        "        self.next = next\n",
        "        self.child = child\n",
        "\n",
        "def flatten(head):\n",
        "    current = head\n",
        "    while current:\n",
        "        if current.child:\n",
        "            # Save the next node\n",
        "            next_node = current.next\n",
        "\n",
        "            # Flatten the child list\n",
        "            child_tail = flatten(current.child)\n",
        "\n",
        "            # Connect current node to the child list\n",
        "            current.next = current.child\n",
        "            current.child.prev = current\n",
        "            current.child = None\n",
        "\n",
        "            # Connect the tail of the child list to the next node\n",
        "            if next_node:\n",
        "                child_tail.next = next_node\n",
        "                next_node.prev = child_tail\n",
        "\n",
        "            # Move current to the next node after connecting child list\n",
        "            current = next_node\n",
        "        else:\n",
        "            current = current.next\n",
        "    return head\n",
        "\n",
        "def print_list(head):\n",
        "    current = head\n",
        "    while current:\n",
        "        print(current.data, end=\" <-> \")\n",
        "        current = current.next\n",
        "    print(\"None\")\n",
        "\n",
        "# Creating the multilevel doubly linked list\n",
        "head = Node(1)\n",
        "node2 = Node(2)\n",
        "node3 = Node(3)\n",
        "node4 = Node(4)\n",
        "node5 = Node(5)\n",
        "node6 = Node(6)\n",
        "node7 = Node(7)\n",
        "node8 = Node(8)\n",
        "node9 = Node(9)\n",
        "node10 = Node(10)\n",
        "node11 = Node(11)\n",
        "node12 = Node(12)\n",
        "node13 = Node(13)\n",
        "\n",
        "head.next = node2\n",
        "node2.prev = head\n",
        "node2.next = node3\n",
        "node3.prev = node2\n",
        "node3.next = node7\n",
        "node7.prev = node3\n",
        "node7.next = node8\n",
        "node8.prev = node7\n",
        "node8.next = node11\n",
        "node11.prev = node8\n",
        "node11.next = node12\n",
        "node12.prev = node11\n",
        "\n",
        "node3.child = node4\n",
        "node4.next = node5\n",
        "node5.prev = node4\n",
        "node5.next = node9\n",
        "node9.prev = node5\n",
        "node9.next = node10\n",
        "node10.prev = node9\n",
        "\n",
        "node5.child = node6\n",
        "node6.next = node13\n",
        "node13.prev = node6\n",
        "\n",
        "# Flatten the list\n",
        "head = flatten(head)\n",
        "\n",
        "# Print the flattened list\n",
        "print(\"Flattened List:\")\n",
        "print_list(head)"
      ]
    },
    {
      "cell_type": "code",
      "execution_count": 45,
      "id": "45e5dd2a",
      "metadata": {
        "colab": {
          "base_uri": "https://localhost:8080/"
        },
        "id": "45e5dd2a",
        "outputId": "b5964136-9c99-47d3-b3f9-2a0f9817f84e"
      },
      "outputs": [
        {
          "output_type": "stream",
          "name": "stdout",
          "text": [
            "Before rearranging :  1->2->3->4->5\n",
            "After rearranging :  1->3->5->2->4\n"
          ]
        }
      ],
      "source": [
        "class Node:\n",
        "    # constructer initially they set as none\n",
        "    def __init__(self,data=None,Next = None):\n",
        "        self.data = data\n",
        "        self.next = Next\n",
        "\n",
        "    ## this is to insert data\n",
        "    def setData(self,data):\n",
        "        self.data = data\n",
        "\n",
        "    ## this is to retrive the data\n",
        "    def getData(self):\n",
        "        return self.data\n",
        "\n",
        "    ## this is to set the address\n",
        "    def setNext(self,Next):\n",
        "        self.next = Next\n",
        "\n",
        "    ## this is to get the address of the data\n",
        "    def getNext(self):\n",
        "        return self.next\n",
        "\n",
        "\n",
        "## creating list1\n",
        "head = Node(1)\n",
        "node2 = Node(2)\n",
        "node3 = Node(3)\n",
        "node4 = Node(4)\n",
        "node5 = Node(5)\n",
        "\n",
        "\n",
        "## setting addresses for list1\n",
        "head.setNext(node2)\n",
        "node2.setNext(node3)\n",
        "node3.setNext(node4)\n",
        "node4.setNext(node5)\n",
        "\n",
        "## this function is for traversing a linked list using recursion\n",
        "def traverse(head):\n",
        "\n",
        "    ## base condition\n",
        "    if not head:\n",
        "        return\n",
        "\n",
        "    ## to avoid the \"->\" in last\n",
        "    elif head.getNext() == None:\n",
        "        print(head.getData())\n",
        "\n",
        "    ## else case for printing each and every node\n",
        "    else:\n",
        "        print(head.getData(),end=\"->\")\n",
        "        return traverse(head.getNext())\n",
        "\n",
        "## to rearrange the linked list of even positions at end of the linked list\n",
        "def rearrange(head):\n",
        "    current = head\n",
        "    tail = head\n",
        "    even_list_tail = None\n",
        "    even_list_head = None\n",
        "    even = 1\n",
        "    while current:\n",
        "        if even % 2 == 0:\n",
        "            if not even_list_head:\n",
        "                even_list_head = current\n",
        "                even_list_tail = current\n",
        "            else:\n",
        "                even_list_tail.setNext(current)\n",
        "                even_list_tail = current\n",
        "            tail.setNext(current.getNext())  # Removing even positioned node\n",
        "        else:\n",
        "            tail = current\n",
        "        current = current.getNext()\n",
        "        even += 1\n",
        "    if even_list_tail:\n",
        "        even_list_tail.setNext(None)  # Set the next of last even positioned node to None\n",
        "        tail.setNext(even_list_head)   # Attach the even positioned nodes at the end\n",
        "    return head\n",
        "\n",
        "print(\"Before rearranging : \",end=\" \")\n",
        "traverse(head)\n",
        "print(\"After rearranging : \",end = \" \")\n",
        "head = rearrange(head)\n",
        "traverse(head)"
      ]
    },
    {
      "cell_type": "markdown",
      "id": "b4b848db",
      "metadata": {
        "id": "b4b848db"
      },
      "source": [
        "Problem 13: Given a non-negative number represented as a linked list, add one to it.\n",
        "Input: 1 -> 2 -> 3 (represents the number 123)\n",
        "Output: 1 -> 2 -> 4 (represents the number 124)"
      ]
    },
    {
      "cell_type": "code",
      "execution_count": 46,
      "id": "2ae68322",
      "metadata": {
        "colab": {
          "base_uri": "https://localhost:8080/"
        },
        "id": "2ae68322",
        "outputId": "2a9dee92-2da2-4f52-c7fb-c4155988214e"
      },
      "outputs": [
        {
          "output_type": "stream",
          "name": "stdout",
          "text": [
            "Input :  1->2->3\n",
            "Output :  1->2->4\n"
          ]
        }
      ],
      "source": [
        "class Node:\n",
        "    def __init__(self,data = None,next = None):\n",
        "        self.data = data\n",
        "        self.next = next\n",
        "\n",
        "def traverse(head):\n",
        "    temp = head\n",
        "    while temp:\n",
        "        if temp.next is None:\n",
        "            print(temp.data)\n",
        "        else:\n",
        "            print(temp.data,end = \"->\")\n",
        "        temp = temp.next\n",
        "\n",
        "def reverse(head):\n",
        "    current = head\n",
        "    prev = None\n",
        "    while current:\n",
        "        next_node = current.next\n",
        "        current.next = prev\n",
        "        prev = current\n",
        "        current = next_node\n",
        "    return prev\n",
        "\n",
        "def adding_one(head):\n",
        "\n",
        "    #reversing of head\n",
        "    head = reverse(head)\n",
        "\n",
        "    # Start from the head of the list\n",
        "\n",
        "    current = head\n",
        "    # Initialize carry to 1\n",
        "    carry = 1\n",
        "    prev = None\n",
        "    # Traverse the list\n",
        "    while current:\n",
        "        current.data += carry\n",
        "\n",
        "        carry = current.data//10\n",
        "\n",
        "        current.data = current.data % 10\n",
        "\n",
        "        prev = current\n",
        "        current = current.next\n",
        "\n",
        "    if prev :\n",
        "        prev.next = Node(carry)\n",
        "\n",
        "    head = reverse(head)\n",
        "\n",
        "    return head.next\n",
        "\n",
        "\n",
        "\n",
        "head = Node(1)\n",
        "head.next = Node(2)\n",
        "head.next.next = Node(3)\n",
        "\n",
        "print(\"Input : \",end=\" \")\n",
        "traverse(head)\n",
        "print(\"Output : \",end=\" \")\n",
        "head = adding_one(head)\n",
        "traverse(head)"
      ]
    },
    {
      "cell_type": "markdown",
      "id": "7a143338",
      "metadata": {
        "id": "7a143338"
      },
      "source": [
        "Problem 14: Given a sorted array and a target value, return the index if the target is found. If not, return the index where it would be inserted.\n",
        "Input: nums = [1, 3, 5, 6], target = 5\n",
        "Output: 2"
      ]
    },
    {
      "cell_type": "code",
      "execution_count": 47,
      "id": "11c457eb",
      "metadata": {
        "colab": {
          "base_uri": "https://localhost:8080/"
        },
        "id": "11c457eb",
        "outputId": "5b08b8e8-d815-4acf-e5c3-752227d62af2"
      },
      "outputs": [
        {
          "output_type": "stream",
          "name": "stdout",
          "text": [
            "Index where target is found or should be inserted: 2\n"
          ]
        }
      ],
      "source": [
        "def search_insert_position(nums, target):\n",
        "    low = 0\n",
        "    high = len(nums) - 1\n",
        "\n",
        "    while low <= high:\n",
        "        mid = (low + high) // 2\n",
        "        if nums[mid] == target:\n",
        "            return mid\n",
        "        elif nums[mid] < target:\n",
        "            low = mid + 1\n",
        "        else:\n",
        "            high = mid - 1\n",
        "\n",
        "    # If target is not found, low will be the index where target should be inserted\n",
        "    return low\n",
        "\n",
        "# Test the function\n",
        "nums = [1, 3, 5, 6]\n",
        "target = 5\n",
        "print(\"Index where target is found or should be inserted:\", search_insert_position(nums, target))\n"
      ]
    },
    {
      "cell_type": "markdown",
      "id": "7eb765d0",
      "metadata": {
        "id": "7eb765d0"
      },
      "source": [
        "Problem 15: Find the minimum element in a rotated sorted array.\n",
        "Input: [4, 5, 6, 7, 0, 1, 2]\n",
        "Output: 0"
      ]
    },
    {
      "cell_type": "code",
      "execution_count": 48,
      "id": "03ccb83f",
      "metadata": {
        "colab": {
          "base_uri": "https://localhost:8080/"
        },
        "id": "03ccb83f",
        "outputId": "a4503651-6056-4588-cb9b-bfc6a21cff0a"
      },
      "outputs": [
        {
          "output_type": "execute_result",
          "data": {
            "text/plain": [
              "0"
            ]
          },
          "metadata": {},
          "execution_count": 48
        }
      ],
      "source": [
        "def rotated_arr(arr,target):\n",
        "    left=0\n",
        "    right=len(arr)-1\n",
        "    while(left < right):\n",
        "        mid=(left+right)//2\n",
        "        if arr[mid]>arr[right]:\n",
        "            left=mid+1\n",
        "        else:\n",
        "            right=mid\n",
        "    return arr[left]\n",
        "arr=[4,5,6,7,0,1,2]\n",
        "target=0\n",
        "rotated_arr(arr,target)\n"
      ]
    },
    {
      "cell_type": "markdown",
      "id": "02e203b7",
      "metadata": {
        "id": "02e203b7"
      },
      "source": [
        "Problem 16: Search for a target value in a rotated sorted array.\n",
        "Input: nums = [4, 5, 6, 7, 0, 1, 2], target = 0\n",
        "Output: 4"
      ]
    },
    {
      "cell_type": "code",
      "execution_count": 49,
      "id": "ffec1f89",
      "metadata": {
        "colab": {
          "base_uri": "https://localhost:8080/"
        },
        "id": "ffec1f89",
        "outputId": "e4fe2d46-856d-4031-e41e-f2859636ebe4"
      },
      "outputs": [
        {
          "output_type": "execute_result",
          "data": {
            "text/plain": [
              "4"
            ]
          },
          "metadata": {},
          "execution_count": 49
        }
      ],
      "source": [
        "def check_target(arr,target):\n",
        "    left=0\n",
        "    right=len(arr)-1\n",
        "    while(left <= right):\n",
        "        mid=(left+(right-left)//2)\n",
        "        if arr[mid]==target:\n",
        "            return mid\n",
        "        elif arr[mid]>arr[right]:\n",
        "            if arr[left]<=target and arr[mid]>target:\n",
        "                right=mid-1\n",
        "            else:\n",
        "                left=mid+1\n",
        "        else:\n",
        "            if arr[right]>=target and arr[mid]<target:\n",
        "                left=mid+1\n",
        "            else:\n",
        "                right=mid-1\n",
        "    return -1\n",
        "arr=[4, 5, 6, 7, 0, 1, 2]\n",
        "target=0\n",
        "check_target(arr,target)"
      ]
    },
    {
      "cell_type": "markdown",
      "id": "b910783e",
      "metadata": {
        "id": "b910783e"
      },
      "source": [
        "Problem 17: Find the peak element in an array. A peak element is greater than its neighbors.\n",
        "Input: nums = [1, 2, 3, 1]\n",
        "Output: 2 (index of peak element)"
      ]
    },
    {
      "cell_type": "code",
      "execution_count": 50,
      "id": "3495845c",
      "metadata": {
        "colab": {
          "base_uri": "https://localhost:8080/"
        },
        "id": "3495845c",
        "outputId": "3a414bcc-edc7-402f-9ffb-9ff41c9c7bfd"
      },
      "outputs": [
        {
          "output_type": "execute_result",
          "data": {
            "text/plain": [
              "2"
            ]
          },
          "metadata": {},
          "execution_count": 50
        }
      ],
      "source": [
        "def peak(arr):\n",
        "    max_ele=arr[0]\n",
        "    ind=0\n",
        "    for i in range(len(arr)):\n",
        "        if max_ele<=arr[i]:\n",
        "            max_ele=i\n",
        "            ind=i\n",
        "    return ind\n",
        "\n",
        "arr=[1,2,3,1]\n",
        "peak(arr)"
      ]
    },
    {
      "cell_type": "markdown",
      "id": "2bc8a941",
      "metadata": {
        "id": "2bc8a941"
      },
      "source": [
        "Problem 18: Given a m x n matrix where each row and column is sorted in ascending order, count the number of negative numbers.\n",
        "Input: grid = [[4, 3, 2, -1], [3, 2, 1, -1], [1, 1, -1, -2], [-1, -1, -2, -3]]\n",
        "Output: 8"
      ]
    },
    {
      "cell_type": "code",
      "execution_count": 51,
      "id": "f67ff71b",
      "metadata": {
        "colab": {
          "base_uri": "https://localhost:8080/"
        },
        "id": "f67ff71b",
        "outputId": "13c1eaf5-bade-45be-8700-dd01bad3235e"
      },
      "outputs": [
        {
          "output_type": "execute_result",
          "data": {
            "text/plain": [
              "8"
            ]
          },
          "metadata": {},
          "execution_count": 51
        }
      ],
      "source": [
        "def count_negative(arr):\n",
        "    count = 0\n",
        "    for row in arr:\n",
        "        for column in row:\n",
        "            if column < 0:\n",
        "                count+=1\n",
        "    return count\n",
        "arr = [[4, 3, 2, -1], [3, 2, 1, -1], [1, 1, -1, -2], [-1, -1, -2, -3]]\n",
        "count_negative(arr)"
      ]
    },
    {
      "cell_type": "markdown",
      "id": "0c384d9c",
      "metadata": {
        "id": "0c384d9c"
      },
      "source": [
        "Problem 19: Given a 2D matrix sorted in ascending order in each row, and the first integer of each row is greater than the last integer of the previous row, determine if a target value is present in the matrix.\n",
        "Input: matrix = [[1, 3, 5, 7], [10, 11, 16, 20], [23, 30, 34, 60]], target = 3\n",
        "Output: True"
      ]
    },
    {
      "cell_type": "code",
      "execution_count": 52,
      "id": "5c3da663",
      "metadata": {
        "colab": {
          "base_uri": "https://localhost:8080/"
        },
        "id": "5c3da663",
        "outputId": "a56311f4-c486-4ab3-93b4-543d4646418c"
      },
      "outputs": [
        {
          "output_type": "stream",
          "name": "stdout",
          "text": [
            "Output:  True\n"
          ]
        }
      ],
      "source": [
        "def target_value(arr,target):\n",
        "    for row in arr:\n",
        "        for column in row:\n",
        "            if target in row:\n",
        "                return True\n",
        "    return False\n",
        "\n",
        "## drive code\n",
        "arr = [[1, 3, 5, 7], [10, 11, 16, 20], [23, 30, 34, 60]]\n",
        "target = 3\n",
        "res = target_value(arr,target)\n",
        "print(\"Output: \", res)"
      ]
    },
    {
      "cell_type": "markdown",
      "id": "75b83b85",
      "metadata": {
        "id": "75b83b85"
      },
      "source": [
        "Problem 20: Find Median in Two Sorted Arrays\n",
        "Problem: Given two sorted arrays, find the median of the combined sorted array.\n",
        "Input: nums1 = [1, 3], nums2 = [2]\n",
        "Output: 2.0"
      ]
    },
    {
      "cell_type": "code",
      "execution_count": 53,
      "id": "01fbf7e0",
      "metadata": {
        "colab": {
          "base_uri": "https://localhost:8080/"
        },
        "id": "01fbf7e0",
        "outputId": "f5b63023-1ef5-4d1c-cddc-dcd917355357"
      },
      "outputs": [
        {
          "output_type": "stream",
          "name": "stdout",
          "text": [
            "Output:  2.0\n"
          ]
        }
      ],
      "source": [
        "def sorted_arr(arr1,arr2):\n",
        "    arr=arr1+arr2\n",
        "    for i in range(len(arr)-1):\n",
        "        for j in range(i+1,len(arr)):\n",
        "            if arr[i]>arr[j]:\n",
        "                arr[i],arr[j]=arr[j],arr[i]\n",
        "    return arr\n",
        "\n",
        "def median(arr1,arr2):\n",
        "    arr=sorted_arr(arr1,arr2)\n",
        "    length=len(arr)\n",
        "    if length % 2 ==0:\n",
        "        return(arr[(length)//2]-1)+(arr[lenght]//2)//2\n",
        "    else:\n",
        "        return arr[length//2]\n",
        "arr1 = [1,3]\n",
        "arr2 = [2]\n",
        "res = median(arr1,arr2)\n",
        "print(\"Output: \",float(res))"
      ]
    },
    {
      "cell_type": "markdown",
      "id": "482a3c4d",
      "metadata": {
        "id": "482a3c4d"
      },
      "source": [
        "Problem 21: Given a sorted character array and a target letter, find the smallest letter in the array that is greater than the target.\n",
        "Input: letters = ['c', 'f', 'j'], target = a\n",
        "Output: 'c'"
      ]
    },
    {
      "cell_type": "code",
      "execution_count": 54,
      "id": "5642080f",
      "metadata": {
        "colab": {
          "base_uri": "https://localhost:8080/"
        },
        "id": "5642080f",
        "outputId": "9debbd9b-26ea-4c80-a81b-72dd2599880f"
      },
      "outputs": [
        {
          "output_type": "stream",
          "name": "stdout",
          "text": [
            "Output:  c\n"
          ]
        }
      ],
      "source": [
        "def find_smallest(letters,target):\n",
        "    n = len(letters)\n",
        "    left = 0\n",
        "    right = n-1\n",
        "    while left<=right:\n",
        "        mid = left+(right-left)//2\n",
        "        if letters[mid]<=target:\n",
        "            left = mid+1\n",
        "        else:\n",
        "            right = mid-1\n",
        "\n",
        "    return letters[left % n] if left < n else letters[0]\n",
        "\n",
        "\n",
        "\n",
        "## drive code\n",
        "letters = [\"c\",\"f\",\"j\"]\n",
        "target = \"a\"\n",
        "res = find_smallest(letters,target)\n",
        "print(\"Output: \",res)"
      ]
    },
    {
      "cell_type": "markdown",
      "id": "24efb788",
      "metadata": {
        "id": "24efb788"
      },
      "source": [
        "Problem 22: Given an array with n objects colored red, white, or blue, sort them in-place so that objects of the same color are adjacent, with the colors in the order red, white, and blue.\n",
        "Input: nums = [2, 0, 2, 1, 1, 0]\n",
        "Output: [0, 0, 1, 1, 2, 2]"
      ]
    },
    {
      "cell_type": "code",
      "execution_count": 55,
      "id": "e6652c7b",
      "metadata": {
        "colab": {
          "base_uri": "https://localhost:8080/"
        },
        "id": "e6652c7b",
        "outputId": "d0cfe12b-4fa4-48d2-f9c5-55560cfc0072"
      },
      "outputs": [
        {
          "output_type": "execute_result",
          "data": {
            "text/plain": [
              "[0, 0, 1, 1, 2, 2]"
            ]
          },
          "metadata": {},
          "execution_count": 55
        }
      ],
      "source": [
        "def Arr(arr):\n",
        "    for i in range(len(arr)-1):\n",
        "        for j in range(i+1,len(arr)):\n",
        "            if arr[j]<arr[i]:\n",
        "                arr[i],arr[j]=arr[j],arr[i]\n",
        "    return arr\n",
        "arr=[2,0,2,1,1,0]\n",
        "Arr(arr)"
      ]
    },
    {
      "cell_type": "markdown",
      "id": "333914da",
      "metadata": {
        "id": "333914da"
      },
      "source": [
        "Problem 23: Find the kth largest element in an unsorted array.\n",
        "Input: nums = [3, 2, 1, 5, 6, 4], k = 2\n",
        "Output: 5"
      ]
    },
    {
      "cell_type": "code",
      "execution_count": 56,
      "id": "97c15066",
      "metadata": {
        "colab": {
          "base_uri": "https://localhost:8080/"
        },
        "id": "97c15066",
        "outputId": "fe3c2064-193c-45f2-beed-d43b4057f1b3"
      },
      "outputs": [
        {
          "output_type": "stream",
          "name": "stdout",
          "text": [
            "Output:  5\n"
          ]
        }
      ],
      "source": [
        "def sort(arr,k):\n",
        "    for i in range(len(arr)-1):\n",
        "        for j in range(i+1,len(arr)):\n",
        "            if arr[j] < arr[i]:\n",
        "                arr[i],arr[j] = arr[j],arr[i]\n",
        "\n",
        "    return arr[-k]\n",
        "\n",
        "## drive code\n",
        "arr = [3, 2, 1, 5, 6, 4]\n",
        "k = 2\n",
        "res = sort(arr,k)\n",
        "print(\"Output: \",res)"
      ]
    },
    {
      "cell_type": "markdown",
      "id": "bdc0c097",
      "metadata": {
        "id": "bdc0c097"
      },
      "source": [
        "Problem 24: Given an unsorted array, reorder it in-place such that nums[0] <= nums[1] >= nums[2] <= nums[3]...\n",
        "Input: nums = [3, 5, 2, 1, 6, 4]\n",
        "Output: [3, 5, 1, 6, 2, 4]"
      ]
    },
    {
      "cell_type": "code",
      "execution_count": 57,
      "id": "1bc85bcc",
      "metadata": {
        "colab": {
          "base_uri": "https://localhost:8080/"
        },
        "id": "1bc85bcc",
        "outputId": "becbe39a-15dd-458f-f82b-fe4a4b4d5b28"
      },
      "outputs": [
        {
          "output_type": "stream",
          "name": "stdout",
          "text": [
            "Output:  [3, 5, 1, 6, 2, 4]\n"
          ]
        }
      ],
      "source": [
        "def sort(arr):\n",
        "\n",
        "    for i in range(len(arr)-1):\n",
        "        if i % 2 == 0 :\n",
        "            if arr[i] > arr[i+1]:  ## based on even and odd indexs\n",
        "                arr[i],arr[i+1] = arr[i+1],arr[i]\n",
        "        else:\n",
        "            if arr[i]< arr[i+1]:\n",
        "                arr[i],arr[i+1] = arr[i+1],arr[i]\n",
        "\n",
        "    return arr\n",
        "## drive code\n",
        "arr = [3, 5, 2, 1, 6, 4]\n",
        "res = sort(arr)\n",
        "print(\"Output: \",res)"
      ]
    },
    {
      "cell_type": "markdown",
      "source": [
        "#Problem 25: Given an array of integers, calculate the sum of all its elements.\n",
        "Input: [1, 2, 3, 4, 5]\n",
        "Output: 15"
      ],
      "metadata": {
        "id": "9I6vnNxEi1RR"
      },
      "id": "9I6vnNxEi1RR"
    },
    {
      "cell_type": "code",
      "execution_count": 58,
      "id": "8fc90794",
      "metadata": {
        "colab": {
          "base_uri": "https://localhost:8080/"
        },
        "id": "8fc90794",
        "outputId": "7ac68c2e-31af-46a9-bac0-71f2c3621207"
      },
      "outputs": [
        {
          "output_type": "execute_result",
          "data": {
            "text/plain": [
              "15"
            ]
          },
          "metadata": {},
          "execution_count": 58
        }
      ],
      "source": [
        "def sum_arr(arr):\n",
        "    sum_arr=0\n",
        "    for i in arr:\n",
        "        sum_arr+=i\n",
        "    return sum_arr\n",
        "arr=[1, 2, 3, 4, 5]\n",
        "sum_arr(arr)\n",
        ""
      ]
    },
    {
      "cell_type": "markdown",
      "id": "ba9dd84b",
      "metadata": {
        "id": "ba9dd84b"
      },
      "source": [
        "Problem 26: Find the maximum element in an array of integers.\n",
        "Input: [3, 7, 2, 9, 4, 1]  "
      ]
    },
    {
      "cell_type": "code",
      "execution_count": 59,
      "id": "adf5b595",
      "metadata": {
        "colab": {
          "base_uri": "https://localhost:8080/"
        },
        "id": "adf5b595",
        "outputId": "ad9f9450-ebe2-4a2e-eec3-dfc2d915ef55"
      },
      "outputs": [
        {
          "output_type": "execute_result",
          "data": {
            "text/plain": [
              "9"
            ]
          },
          "metadata": {},
          "execution_count": 59
        }
      ],
      "source": [
        "def max_element(arr):\n",
        "    Max=0\n",
        "    for i in range(len(arr)):\n",
        "        if arr[i]>=Max:\n",
        "            Max=arr[i]\n",
        "    return Max\n",
        "arr=[3, 7, 2, 9, 4, 1]\n",
        "max_element(arr)"
      ]
    },
    {
      "cell_type": "markdown",
      "id": "4d4af1d2",
      "metadata": {
        "id": "4d4af1d2"
      },
      "source": [
        "Problem 27: Implement linear search to find the index of a target element in an array.\n",
        "Input: [5, 3, 8, 2, 7, 4], target = 8\n",
        "Output: 2"
      ]
    },
    {
      "cell_type": "code",
      "execution_count": 60,
      "id": "23b060be",
      "metadata": {
        "colab": {
          "base_uri": "https://localhost:8080/"
        },
        "id": "23b060be",
        "outputId": "b1ce71b0-1ed8-4dc0-c693-7585f92873c4"
      },
      "outputs": [
        {
          "output_type": "execute_result",
          "data": {
            "text/plain": [
              "2"
            ]
          },
          "metadata": {},
          "execution_count": 60
        }
      ],
      "source": [
        "def linear_search(arr,target):\n",
        "    for i in range(len(arr)-1):\n",
        "        for j in range(i+1,len(arr)):\n",
        "            if arr[i]==target:\n",
        "                return i\n",
        "    return -1\n",
        "arr=[5,3,8,2,7,4]\n",
        "target=8\n",
        "linear_search(arr,target)"
      ]
    },
    {
      "cell_type": "markdown",
      "id": "9a574d48",
      "metadata": {
        "id": "9a574d48"
      },
      "source": [
        "Problem 28 Calculate the factorial of a given number.\n",
        "Input: 5\n",
        "Output: 120 (as 5! = 5 * 4 * 3 * 2 * 1 = 120)"
      ]
    },
    {
      "cell_type": "code",
      "execution_count": 61,
      "id": "3d12554c",
      "metadata": {
        "colab": {
          "base_uri": "https://localhost:8080/"
        },
        "id": "3d12554c",
        "outputId": "e8febd23-5d99-43a8-944f-bca9b3798f19"
      },
      "outputs": [
        {
          "output_type": "execute_result",
          "data": {
            "text/plain": [
              "120"
            ]
          },
          "metadata": {},
          "execution_count": 61
        }
      ],
      "source": [
        "def factorial(n):\n",
        "    if n<=0:\n",
        "        return 0\n",
        "    elif n ==1:\n",
        "        return 1\n",
        "    else:\n",
        "        return n*factorial(n-1)\n",
        "factorial(5)"
      ]
    },
    {
      "cell_type": "markdown",
      "id": "4fed200c",
      "metadata": {
        "id": "4fed200c"
      },
      "source": [
        "Problem 29: Check if a given number is a prime number.\n",
        "Input: 7\n",
        "Output: True"
      ]
    },
    {
      "cell_type": "code",
      "execution_count": 62,
      "id": "03a28629",
      "metadata": {
        "colab": {
          "base_uri": "https://localhost:8080/"
        },
        "id": "03a28629",
        "outputId": "434db93c-f6dd-4459-c951-c0bcd3b99099"
      },
      "outputs": [
        {
          "output_type": "execute_result",
          "data": {
            "text/plain": [
              "True"
            ]
          },
          "metadata": {},
          "execution_count": 62
        }
      ],
      "source": [
        "def prime(n):\n",
        "    if n <=1:\n",
        "        return False\n",
        "    else:\n",
        "        for i in range(2,n):\n",
        "            if n%i==0:\n",
        "                return False\n",
        "    return True\n",
        "prime(7)"
      ]
    },
    {
      "cell_type": "markdown",
      "id": "18ce3f3d",
      "metadata": {
        "id": "18ce3f3d"
      },
      "source": [
        "Problem 30: Generate the Fibonacci series up to a given number n.\n",
        "Input: 8\n",
        "Output: [0, 1, 1, 2, 3, 5, 8, 13]"
      ]
    },
    {
      "cell_type": "code",
      "execution_count": 63,
      "id": "62208d27",
      "metadata": {
        "colab": {
          "base_uri": "https://localhost:8080/"
        },
        "id": "62208d27",
        "outputId": "23ed71df-324a-4283-9b77-c2ab29369606"
      },
      "outputs": [
        {
          "output_type": "execute_result",
          "data": {
            "text/plain": [
              "[0, 1, 1, 2, 3, 5, 8, 13]"
            ]
          },
          "metadata": {},
          "execution_count": 63
        }
      ],
      "source": [
        "def fabonacci(num):\n",
        "    lst=[0,1]\n",
        "    while(len(lst)<=num-1):\n",
        "        lst.append(lst[-1]+lst[-2])\n",
        "    return lst\n",
        "fabonacci(8)"
      ]
    },
    {
      "cell_type": "markdown",
      "id": "465f31e0",
      "metadata": {
        "id": "465f31e0"
      },
      "source": [
        "Problem 31: Calculate the power of a number using recursion.\n",
        "Input: base = 3, exponent = 4\n",
        "Output: 81 (as 3^4 = 3 * 3 * 3 * 3 = 81)"
      ]
    },
    {
      "cell_type": "code",
      "execution_count": 64,
      "id": "f6a85512",
      "metadata": {
        "colab": {
          "base_uri": "https://localhost:8080/"
        },
        "id": "f6a85512",
        "outputId": "011f5643-640a-4df5-a38d-3dc4dd044c78"
      },
      "outputs": [
        {
          "output_type": "execute_result",
          "data": {
            "text/plain": [
              "81"
            ]
          },
          "metadata": {},
          "execution_count": 64
        }
      ],
      "source": [
        "def power(base,exponent):\n",
        "    if exponent ==0:\n",
        "        return 1\n",
        "    else:\n",
        "        return base*power(base,exponent-1)\n",
        "power(3,4)"
      ]
    },
    {
      "cell_type": "markdown",
      "id": "5ec39e3e",
      "metadata": {
        "id": "5ec39e3e"
      },
      "source": [
        "Problem 32: Reverse a given string.\n",
        "Input: \"hello\"\n",
        "Output: \"olleh\""
      ]
    },
    {
      "cell_type": "code",
      "execution_count": 75,
      "id": "1eba927c",
      "metadata": {
        "colab": {
          "base_uri": "https://localhost:8080/",
          "height": 36
        },
        "id": "1eba927c",
        "outputId": "ce9a6695-f94a-471e-b19c-e9f6d8384757"
      },
      "outputs": [
        {
          "output_type": "execute_result",
          "data": {
            "text/plain": [
              "'olleh '"
            ],
            "application/vnd.google.colaboratory.intrinsic+json": {
              "type": "string"
            }
          },
          "metadata": {},
          "execution_count": 75
        }
      ],
      "source": [
        "def rev(string):\n",
        "    if len(string) == 0:\n",
        "        return \" \"\n",
        "    else:\n",
        "        return string[-1] + rev(string[:-1])\n",
        "rev(\"hello\")"
      ]
    }
  ],
  "metadata": {
    "kernelspec": {
      "display_name": "Python 3 (ipykernel)",
      "language": "python",
      "name": "python3"
    },
    "language_info": {
      "codemirror_mode": {
        "name": "ipython",
        "version": 3
      },
      "file_extension": ".py",
      "mimetype": "text/x-python",
      "name": "python",
      "nbconvert_exporter": "python",
      "pygments_lexer": "ipython3",
      "version": "3.11.3"
    },
    "colab": {
      "provenance": [],
      "include_colab_link": true
    }
  },
  "nbformat": 4,
  "nbformat_minor": 5
}