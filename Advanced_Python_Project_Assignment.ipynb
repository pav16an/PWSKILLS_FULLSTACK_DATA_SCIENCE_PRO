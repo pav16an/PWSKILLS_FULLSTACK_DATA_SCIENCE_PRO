{
  "cells": [
    {
      "cell_type": "markdown",
      "metadata": {
        "id": "view-in-github",
        "colab_type": "text"
      },
      "source": [
        "<a href=\"https://colab.research.google.com/github/pav16an/PWSKILLS_FULLSTACK_DATA_SCIENCE_PRO/blob/main/Advanced_Python_Project_Assignment.ipynb\" target=\"_parent\"><img src=\"https://colab.research.google.com/assets/colab-badge.svg\" alt=\"Open In Colab\"/></a>"
      ]
    },
    {
      "cell_type": "markdown",
      "metadata": {
        "id": "CkDHC-dohlOE"
      },
      "source": [
        "# Advanced Python Project Assignment\n",
        "This notebook contains solutions for the following Flask-based advanced Python projects:\n",
        "\n",
        "1. Web Scraping App\n",
        "2. API Consumer App\n",
        "3. OAuth2 Authentication App\n",
        "4. Recommendation System App"
      ],
      "id": "CkDHC-dohlOE"
    },
    {
      "cell_type": "markdown",
      "metadata": {
        "id": "eS9GKbrghlOG"
      },
      "source": [
        "## 1. Flask App to Scrape Data from Websites\n",
        "**Note:** Scraping sites like YouTube or Amazon is against their ToS, so for demo purposes, we'll use `books.toscrape.com` which is legal for scraping."
      ],
      "id": "eS9GKbrghlOG"
    },
    {
      "cell_type": "code",
      "execution_count": 1,
      "metadata": {
        "id": "dy2uoyUQhlOG"
      },
      "outputs": [],
      "source": [
        "from flask import Flask, render_template_string\n",
        "import requests\n",
        "from bs4 import BeautifulSoup\n",
        "\n",
        "app = Flask(__name__)\n",
        "\n",
        "@app.route('/')\n",
        "def scrape_books():\n",
        "    url = 'http://books.toscrape.com/'\n",
        "    res = requests.get(url)\n",
        "    soup = BeautifulSoup(res.text, 'html.parser')\n",
        "    books = soup.select('article.product_pod h3 a')\n",
        "    titles = [book['title'] for book in books[:10]]\n",
        "    return render_template_string('<h2>Top Books</h2><ul>{% for title in titles %}<li>{{ title }}</li>{% endfor %}</ul>', titles=titles)\n",
        "\n",
        "# Run with: flask run"
      ],
      "id": "dy2uoyUQhlOG"
    },
    {
      "cell_type": "markdown",
      "metadata": {
        "id": "i75RKgPrhlOH"
      },
      "source": [
        "## 2. Flask App to Consume Public API\n",
        "We'll use the public JSONPlaceholder API to fetch posts."
      ],
      "id": "i75RKgPrhlOH"
    },
    {
      "cell_type": "code",
      "execution_count": 2,
      "metadata": {
        "id": "xT52AL73hlOH"
      },
      "outputs": [],
      "source": [
        "from flask import Flask, render_template_string\n",
        "import requests\n",
        "\n",
        "app = Flask(__name__)\n",
        "\n",
        "@app.route('/posts')\n",
        "def get_posts():\n",
        "    response = requests.get('https://jsonplaceholder.typicode.com/posts')\n",
        "    posts = response.json()[:5]  # First 5 posts\n",
        "    return render_template_string('<h2>Posts</h2><ul>{% for post in posts %}<li>{{ post.title }}</li>{% endfor %}</ul>', posts=posts)\n",
        "\n",
        "# Run with: flask run"
      ],
      "id": "xT52AL73hlOH"
    },
    {
      "cell_type": "markdown",
      "metadata": {
        "id": "5cXapNj2hlOH"
      },
      "source": [
        "## 3. Implement OAuth2 (Google Login)\n",
        "This example uses Flask-Dance for OAuth with Google.\n",
        "You must set up OAuth credentials in your Google Developer Console."
      ],
      "id": "5cXapNj2hlOH"
    },
    {
      "cell_type": "code",
      "source": [
        "!pip install Flask-Dance"
      ],
      "metadata": {
        "colab": {
          "base_uri": "https://localhost:8080/"
        },
        "id": "vgxWCpMth3BY",
        "outputId": "16c71cf0-c5a9-433f-e993-7ebc5994a4d8"
      },
      "id": "vgxWCpMth3BY",
      "execution_count": 4,
      "outputs": [
        {
          "output_type": "stream",
          "name": "stdout",
          "text": [
            "Collecting Flask-Dance\n",
            "  Downloading flask_dance-7.1.0-py3-none-any.whl.metadata (6.9 kB)\n",
            "Requirement already satisfied: requests>=2.0 in /usr/local/lib/python3.11/dist-packages (from Flask-Dance) (2.32.3)\n",
            "Requirement already satisfied: oauthlib>=3.2 in /usr/local/lib/python3.11/dist-packages (from Flask-Dance) (3.2.2)\n",
            "Requirement already satisfied: requests-oauthlib>=1.0.0 in /usr/local/lib/python3.11/dist-packages (from Flask-Dance) (2.0.0)\n",
            "Requirement already satisfied: Flask>=2.0.3 in /usr/local/lib/python3.11/dist-packages (from Flask-Dance) (3.1.1)\n",
            "Requirement already satisfied: Werkzeug in /usr/local/lib/python3.11/dist-packages (from Flask-Dance) (3.1.3)\n",
            "Collecting urlobject (from Flask-Dance)\n",
            "  Downloading URLObject-2.4.3.tar.gz (27 kB)\n",
            "  Preparing metadata (setup.py) ... \u001b[?25l\u001b[?25hdone\n",
            "Requirement already satisfied: blinker>=1.9.0 in /usr/local/lib/python3.11/dist-packages (from Flask>=2.0.3->Flask-Dance) (1.9.0)\n",
            "Requirement already satisfied: click>=8.1.3 in /usr/local/lib/python3.11/dist-packages (from Flask>=2.0.3->Flask-Dance) (8.2.0)\n",
            "Requirement already satisfied: itsdangerous>=2.2.0 in /usr/local/lib/python3.11/dist-packages (from Flask>=2.0.3->Flask-Dance) (2.2.0)\n",
            "Requirement already satisfied: jinja2>=3.1.2 in /usr/local/lib/python3.11/dist-packages (from Flask>=2.0.3->Flask-Dance) (3.1.6)\n",
            "Requirement already satisfied: markupsafe>=2.1.1 in /usr/local/lib/python3.11/dist-packages (from Flask>=2.0.3->Flask-Dance) (3.0.2)\n",
            "Requirement already satisfied: charset-normalizer<4,>=2 in /usr/local/lib/python3.11/dist-packages (from requests>=2.0->Flask-Dance) (3.4.2)\n",
            "Requirement already satisfied: idna<4,>=2.5 in /usr/local/lib/python3.11/dist-packages (from requests>=2.0->Flask-Dance) (3.10)\n",
            "Requirement already satisfied: urllib3<3,>=1.21.1 in /usr/local/lib/python3.11/dist-packages (from requests>=2.0->Flask-Dance) (2.4.0)\n",
            "Requirement already satisfied: certifi>=2017.4.17 in /usr/local/lib/python3.11/dist-packages (from requests>=2.0->Flask-Dance) (2025.4.26)\n",
            "Downloading flask_dance-7.1.0-py3-none-any.whl (62 kB)\n",
            "\u001b[2K   \u001b[90m━━━━━━━━━━━━━━━━━━━━━━━━━━━━━━━━━━━━━━━━\u001b[0m \u001b[32m62.2/62.2 kB\u001b[0m \u001b[31m2.0 MB/s\u001b[0m eta \u001b[36m0:00:00\u001b[0m\n",
            "\u001b[?25hBuilding wheels for collected packages: urlobject\n",
            "  Building wheel for urlobject (setup.py) ... \u001b[?25l\u001b[?25hdone\n",
            "  Created wheel for urlobject: filename=URLObject-2.4.3-py3-none-any.whl size=14509 sha256=b71e3ea77325b0153af7920bd2938ae240e94afed38ef8e00d498baef68c265b\n",
            "  Stored in directory: /root/.cache/pip/wheels/63/69/1e/27e9ecc1870bf9862cc2fb31933b498d6cc6a350e5569d424a\n",
            "Successfully built urlobject\n",
            "Installing collected packages: urlobject, Flask-Dance\n",
            "Successfully installed Flask-Dance-7.1.0 urlobject-2.4.3\n"
          ]
        }
      ]
    },
    {
      "cell_type": "code",
      "execution_count": 5,
      "metadata": {
        "id": "Vl1Zmj-yhlOI"
      },
      "outputs": [],
      "source": [
        "from flask import Flask, redirect, url_for\n",
        "from flask_dance.contrib.google import make_google_blueprint, google\n",
        "\n",
        "app = Flask(__name__)\n",
        "app.secret_key = 'supersecret'\n",
        "blueprint = make_google_blueprint(client_id='YOUR_CLIENT_ID',\n",
        "                                  client_secret='YOUR_CLIENT_SECRET',\n",
        "                                  redirect_to='welcome')\n",
        "app.register_blueprint(blueprint, url_prefix='/login')\n",
        "\n",
        "@app.route('/')\n",
        "def home():\n",
        "    return '<a href=\"/login/google\">Login with Google</a>'\n",
        "\n",
        "@app.route('/welcome')\n",
        "def welcome():\n",
        "    resp = google.get('/oauth2/v2/userinfo')\n",
        "    assert resp.ok, resp.text\n",
        "    email = resp.json()['email']\n",
        "    return f'Welcome {email}!'\n",
        "\n",
        "# Run with: flask run"
      ],
      "id": "Vl1Zmj-yhlOI"
    },
    {
      "cell_type": "markdown",
      "metadata": {
        "id": "8Nwbk-Z-hlOI"
      },
      "source": [
        "## 4. Flask Recommendation System\n",
        "We'll create a simple content-based recommender system using dummy data."
      ],
      "id": "8Nwbk-Z-hlOI"
    },
    {
      "cell_type": "code",
      "execution_count": 6,
      "metadata": {
        "id": "Sv9Ay4FChlOI"
      },
      "outputs": [],
      "source": [
        "from flask import Flask, request, render_template_string\n",
        "\n",
        "app = Flask(__name__)\n",
        "\n",
        "data = {\n",
        "    'sports': ['Football News', 'Cricket Scores', 'Tennis Highlights'],\n",
        "    'tech': ['AI Trends', 'Python Tips', 'Flask Tutorials'],\n",
        "    'movies': ['Top 10 Movies', 'Oscars 2024', 'Marvel Updates']\n",
        "}\n",
        "\n",
        "@app.route('/recommend/<interest>')\n",
        "def recommend(interest):\n",
        "    recommendations = data.get(interest, ['No recommendations available'])\n",
        "    return render_template_string('<h2>Recommendations</h2><ul>{% for rec in recommendations %}<li>{{ rec }}</li>{% endfor %}</ul>', recommendations=recommendations)\n",
        "\n",
        "# Run with: flask run"
      ],
      "id": "Sv9Ay4FChlOI"
    },
    {
      "cell_type": "code",
      "source": [],
      "metadata": {
        "id": "eUWsBl_xh7Dx"
      },
      "id": "eUWsBl_xh7Dx",
      "execution_count": null,
      "outputs": []
    }
  ],
  "metadata": {
    "kernelspec": {
      "display_name": "Python 3",
      "language": "python",
      "name": "python3"
    },
    "language_info": {
      "name": "python",
      "version": "3.8"
    },
    "colab": {
      "provenance": [],
      "include_colab_link": true
    }
  },
  "nbformat": 4,
  "nbformat_minor": 5
}