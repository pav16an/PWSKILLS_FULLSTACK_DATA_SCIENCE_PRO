{
  "cells": [
    {
      "cell_type": "markdown",
      "metadata": {
        "id": "view-in-github",
        "colab_type": "text"
      },
      "source": [
        "<a href=\"https://colab.research.google.com/github/pav16an/PWSKILLS_FULLSTACK_DATA_SCIENCE_PRO/blob/main/20th_Aug'23_Python_basics_practice.ipynb\" target=\"_parent\"><img src=\"https://colab.research.google.com/assets/colab-badge.svg\" alt=\"Open In Colab\"/></a>"
      ]
    },
    {
      "cell_type": "markdown",
      "metadata": {
        "id": "yyKHbubm0vaS"
      },
      "source": [
        "# TOPIC: String Based Assignment Problem"
      ]
    },
    {
      "cell_type": "markdown",
      "metadata": {
        "id": "85vxcewn0Ynt"
      },
      "source": [
        "### 1.Write a program to reverse a string."
      ]
    },
    {
      "cell_type": "code",
      "execution_count": null,
      "metadata": {
        "colab": {
          "base_uri": "https://localhost:8080/"
        },
        "id": "lj8nxTBV00mF",
        "outputId": "253dc2d7-9007-47f2-927f-72ede322dcd3"
      },
      "outputs": [
        {
          "name": "stdout",
          "output_type": "stream",
          "text": [
            "!DLROW OLLEH\n"
          ]
        }
      ],
      "source": [
        "string=\"HELLO WORLD!\"\n",
        "reversed_string=string[::-1]\n",
        "print(reversed_string)"
      ]
    },
    {
      "cell_type": "markdown",
      "metadata": {
        "id": "U0kIZR9E2p9A"
      },
      "source": [
        "### 2. Check if a string is a palindrome."
      ]
    },
    {
      "cell_type": "code",
      "execution_count": null,
      "metadata": {
        "colab": {
          "base_uri": "https://localhost:8080/"
        },
        "id": "oxxgTMeM2ldX",
        "outputId": "cbabb46f-0697-4385-a1cd-8013f78f80b8"
      },
      "outputs": [
        {
          "name": "stdout",
          "output_type": "stream",
          "text": [
            "The string is a palindrome\n"
          ]
        }
      ],
      "source": [
        "String=\"MALAYALAM\"\n",
        "rev_str=String[::-1]\n",
        "if rev_str ==String:\n",
        "  print(\"The string is a palindrome\")\n",
        "else:\n",
        "  print(\"Not an palindrome\")\n"
      ]
    },
    {
      "cell_type": "markdown",
      "metadata": {
        "id": "1zRLkKOD0pe2"
      },
      "source": [
        "### 3.Convert a string to uppercase."
      ]
    },
    {
      "cell_type": "code",
      "execution_count": null,
      "metadata": {
        "colab": {
          "base_uri": "https://localhost:8080/"
        },
        "id": "SE8wOl9U3iay",
        "outputId": "68bb6649-4a29-4eba-bc44-1067ea3f4fe4"
      },
      "outputs": [
        {
          "name": "stdout",
          "output_type": "stream",
          "text": [
            "enter the string:mohit\n",
            "The uppercase of the give string is :MOHIT\n"
          ]
        }
      ],
      "source": [
        "string=str(input(\"enter the string:\"))\n",
        "upper_str=string.upper()\n",
        "print(f\"The uppercase of the give string is :{upper_str}\")"
      ]
    },
    {
      "cell_type": "markdown",
      "metadata": {
        "id": "D3EuK_5w4l09"
      },
      "source": [
        "### 4.Convert a string to lowercase."
      ]
    },
    {
      "cell_type": "code",
      "execution_count": null,
      "metadata": {
        "colab": {
          "base_uri": "https://localhost:8080/"
        },
        "id": "gFkYqNuo4lW0",
        "outputId": "f4cb7943-321b-47d7-d61c-ac194c1320c4"
      },
      "outputs": [
        {
          "name": "stdout",
          "output_type": "stream",
          "text": [
            "enter the string:DIEEEP\n",
            "The uppercase of the give string is :dieeep\n"
          ]
        }
      ],
      "source": [
        "string=str(input(\"enter the string:\"))\n",
        "lower_str=string.lower()\n",
        "print(f\"The uppercase of the give string is :{lower_str}\")"
      ]
    },
    {
      "cell_type": "markdown",
      "metadata": {
        "id": "kKxxYmrk5N2M"
      },
      "source": [
        "### 5. Count the number of vowels in a string."
      ]
    },
    {
      "cell_type": "code",
      "execution_count": null,
      "metadata": {
        "colab": {
          "base_uri": "https://localhost:8080/"
        },
        "id": "30C3eKzF5NDN",
        "outputId": "735955e6-0c17-400a-c714-3ee5c5de5569"
      },
      "outputs": [
        {
          "name": "stdout",
          "output_type": "stream",
          "text": [
            "enter the string:internship\n",
            "The vowel_count: 3\n"
          ]
        }
      ],
      "source": [
        "string=str(input(\"enter the string:\"))\n",
        "vowel_count=0\n",
        "vowel='aeiou'\n",
        "for i in string:\n",
        "  if i in vowel:\n",
        "    vowel_count+=1\n",
        "print(\"The vowel_count:\",vowel_count)"
      ]
    },
    {
      "cell_type": "markdown",
      "metadata": {
        "id": "ThC6-1mN6ucK"
      },
      "source": [
        "### 6. Count the number of consonants in a string."
      ]
    },
    {
      "cell_type": "code",
      "execution_count": null,
      "metadata": {
        "colab": {
          "base_uri": "https://localhost:8080/"
        },
        "id": "DRDEPlv66y4t",
        "outputId": "a2721db5-9130-4a96-9560-70718f5670bc"
      },
      "outputs": [
        {
          "name": "stdout",
          "output_type": "stream",
          "text": [
            "enter the string:mathematics\n",
            "the constant value: 7\n"
          ]
        }
      ],
      "source": [
        "string=str(input(\"enter the string:\"))\n",
        "constant_value=0\n",
        "constant=\"bcdfghjkllmnpqrstvwxyz\"\n",
        "for i in string:\n",
        "  if i in constant:\n",
        "      constant_value+=1\n",
        "print(\"the constant value:\",constant_value)"
      ]
    },
    {
      "cell_type": "markdown",
      "metadata": {
        "id": "GJiuHiz28RZT"
      },
      "source": [
        "### 7. Remove all whitespaces from a string."
      ]
    },
    {
      "cell_type": "code",
      "execution_count": null,
      "metadata": {
        "colab": {
          "base_uri": "https://localhost:8080/"
        },
        "id": "bEMuNCZO8nVu",
        "outputId": "3010b0f4-b86e-443f-d918-7d596e0c360e"
      },
      "outputs": [
        {
          "name": "stdout",
          "output_type": "stream",
          "text": [
            "enter the string:this is an python language \n",
            "the string without space thisisanpythonlanguage\n"
          ]
        }
      ],
      "source": [
        "string=str(input(\"enter the string:\"))\n",
        "new_str=string.replace(\" \",\"\")\n",
        "print(\"the string without space\",new_str)"
      ]
    },
    {
      "cell_type": "markdown",
      "metadata": {
        "id": "e_OT74MS-tIo"
      },
      "source": [
        "### 8. Find the length of a string without using the `len()` function."
      ]
    },
    {
      "cell_type": "code",
      "execution_count": null,
      "metadata": {
        "colab": {
          "base_uri": "https://localhost:8080/"
        },
        "id": "bp1cDjVY-34W",
        "outputId": "c32edd65-d75e-41c3-9bf0-9b95080c2cbd"
      },
      "outputs": [
        {
          "name": "stdout",
          "output_type": "stream",
          "text": [
            "enter the string:physics wala\n",
            "the string count: 12\n"
          ]
        }
      ],
      "source": [
        "string=str(input(\"enter the string:\"))\n",
        "string_count=0\n",
        "for i in string:\n",
        "  string_count+=1\n",
        "print(\"the string count:\",string_count)\n"
      ]
    },
    {
      "cell_type": "markdown",
      "metadata": {
        "id": "PIBPjDSsAJY-"
      },
      "source": [
        "### 9. Check if a string contains a specific word."
      ]
    },
    {
      "cell_type": "code",
      "execution_count": null,
      "metadata": {
        "colab": {
          "base_uri": "https://localhost:8080/"
        },
        "id": "eItJIXAfABc7",
        "outputId": "95fd17e0-3468-419f-8bc4-76e67c971b3f"
      },
      "outputs": [
        {
          "name": "stdout",
          "output_type": "stream",
          "text": [
            "enter the string:India is my country\n",
            "enter the specific word:India\n",
            "The specific word India is available in string\n"
          ]
        }
      ],
      "source": [
        "string = str(input(\"enter the string:\"))\n",
        "specific_word=str(input(\"enter the specific word:\"))\n",
        "if specific_word in string:\n",
        "  print(f\"The specific word {specific_word} is available in string\")\n",
        "else:\n",
        "  print(f\"The specific word {specific_word} is not available in string\")"
      ]
    },
    {
      "cell_type": "markdown",
      "metadata": {
        "id": "753v1CzxB555"
      },
      "source": [
        "### 10. Replace a word in a string with another word."
      ]
    },
    {
      "cell_type": "code",
      "execution_count": null,
      "metadata": {
        "colab": {
          "base_uri": "https://localhost:8080/"
        },
        "id": "smIxgr6YChWS",
        "outputId": "b7349443-bf98-4972-c62b-7a7bd83c0a4d"
      },
      "outputs": [
        {
          "name": "stdout",
          "output_type": "stream",
          "text": [
            "the new string after replacement: India is an beautiful country\n"
          ]
        }
      ],
      "source": [
        "string=\"India is an awesome country\"\n",
        "new_string=string.replace(\"awesome\",\"beautiful\")\n",
        "print(\"The new string after replacement:\",new_string)"
      ]
    },
    {
      "cell_type": "markdown",
      "metadata": {
        "id": "TqU0ek0GIbdu"
      },
      "source": [
        "### 11. Count the occurrences of a word in a string."
      ]
    },
    {
      "cell_type": "code",
      "execution_count": null,
      "metadata": {
        "colab": {
          "base_uri": "https://localhost:8080/"
        },
        "id": "z3f1Lg2XINK_",
        "outputId": "34176df2-e458-4f10-ee6a-fdf0d23b1630"
      },
      "outputs": [
        {
          "name": "stdout",
          "output_type": "stream",
          "text": [
            "enter the string:India is my country,i love my India\n",
            "enter the string:India\n",
            " Count the occurrences of a word 2\n"
          ]
        }
      ],
      "source": [
        "string=str(input(\"enter the string:\"))\n",
        "word=str(input(\"enter the string:\"))\n",
        "words=string.split()\n",
        "count=0\n",
        "for i in words:\n",
        "  if i==word:\n",
        "    count+=1\n",
        "print(\" Count the occurrences of a word\",count)"
      ]
    },
    {
      "cell_type": "markdown",
      "metadata": {
        "id": "K99jtionMnVb"
      },
      "source": [
        "### 12. Find the first occurrence of a word in a string."
      ]
    },
    {
      "cell_type": "code",
      "execution_count": 12,
      "metadata": {
        "colab": {
          "base_uri": "https://localhost:8080/"
        },
        "id": "K7T0FFxRTO5o",
        "outputId": "bbffa8fe-e7a5-4d4e-d5b9-7648fe44ace3"
      },
      "outputs": [
        {
          "metadata": {
            "tags": null
          },
          "name": "stdout",
          "output_type": "stream",
          "text": [
            "the word is not found in the sentence\n"
          ]
        }
      ],
      "source": [
        "string=str(input(\"enter the sentence:\"))\n",
        "word=str(input(\"enter the first occurance of a word:\"))\n",
        "index=string.find(word)\n",
        "if index!=-1:\n",
        "  print(f\"The word of firdt occurance in the sentence\",index)\n",
        "else:\n",
        "  print(f\"the word is not found in the sentence\")\n"
      ]
    },
    {
      "cell_type": "markdown",
      "metadata": {
        "id": "KTvjqm1gXfpg"
      },
      "source": [
        "### 13. Find the last occurrence of a word in a string."
      ]
    },
    {
      "cell_type": "code",
      "execution_count": null,
      "metadata": {
        "id": "lBRpkwN1XlMX"
      },
      "outputs": [],
      "source": [
        "string=str(input(\"enter the sentence:\"))\n",
        "word=str(input(\"enter the occurance of a word:\"))\n",
        "index=string.rfind(word)\n",
        "if index!=-1:\n",
        "  print(f\"The word of last occurance in the sentence\",index)\n",
        "else:\n",
        "  print(f\"the word is not found in the sentence\")\n"
      ]
    },
    {
      "cell_type": "markdown",
      "metadata": {
        "id": "EKCzmqN4Ymqw"
      },
      "source": [
        "### 14.Split a string into a list of words."
      ]
    },
    {
      "cell_type": "code",
      "execution_count": null,
      "metadata": {
        "colab": {
          "base_uri": "https://localhost:8080/"
        },
        "id": "UfWDQ3flY2bn",
        "outputId": "fe003c50-71a1-426e-d23a-72eebb1d6356"
      },
      "outputs": [
        {
          "name": "stdout",
          "output_type": "stream",
          "text": [
            "enter the text:This is an python programming language\n",
            "After the splitting the words: ['This', 'is', 'an', 'python', 'programming', 'language']\n"
          ]
        }
      ],
      "source": [
        "text=str(input(\"enter the text:\"))\n",
        "text_split=text.split()\n",
        "print(\"After the splitting the words:\",text_split)"
      ]
    },
    {
      "cell_type": "markdown",
      "metadata": {
        "id": "OMfauyjSb3Ey"
      },
      "source": [
        "### 15. Join a list of words into a string."
      ]
    },
    {
      "cell_type": "code",
      "execution_count": null,
      "metadata": {
        "colab": {
          "base_uri": "https://localhost:8080/"
        },
        "id": "KXD_--M8bu_f",
        "outputId": "86f8033c-c149-4e61-b145-34f532f3485a"
      },
      "outputs": [
        {
          "name": "stdout",
          "output_type": "stream",
          "text": [
            "This is a list of words\n"
          ]
        }
      ],
      "source": [
        "word_list = [\"This\", \"is\", \"a\", \"list\", \"of\", \"words\"]\n",
        "resulting_string = \" \".join(word_list)\n",
        "print(resulting_string)\n"
      ]
    },
    {
      "cell_type": "markdown",
      "metadata": {
        "id": "rC5ZhfcDcH0b"
      },
      "source": [
        "### 16. Convert a string where words are separated by spaces to one where words are separated by underscores."
      ]
    },
    {
      "cell_type": "code",
      "execution_count": null,
      "metadata": {
        "colab": {
          "base_uri": "https://localhost:8080/"
        },
        "id": "si4fcpJScf-t",
        "outputId": "ecdc848d-7adf-4e7e-cc1b-ef1c9297897f"
      },
      "outputs": [
        {
          "name": "stdout",
          "output_type": "stream",
          "text": [
            "after converted string: This_is_an_example_for_coverting\n"
          ]
        }
      ],
      "source": [
        "text =\"This is an example for coverting\"\n",
        "underscore_text=text.replace(\" \",\"_\")\n",
        "print(\"after converted string:\",underscore_text)"
      ]
    },
    {
      "cell_type": "markdown",
      "metadata": {
        "id": "IWELD5Bleeft"
      },
      "source": [
        "### 17. Check if a string starts with a specific word or phrase."
      ]
    },
    {
      "cell_type": "code",
      "execution_count": null,
      "metadata": {
        "colab": {
          "base_uri": "https://localhost:8080/"
        },
        "id": "0cHhiZU7fPfn",
        "outputId": "128bff0b-ce2b-4113-b1cb-c2f8781aeccd"
      },
      "outputs": [
        {
          "name": "stdout",
          "output_type": "stream",
          "text": [
            "enter the text:This is a statement\n",
            "enter the specific_wordThis\n",
            "string is start with a specific word\n"
          ]
        }
      ],
      "source": [
        "text=str(input(\"enter the text:\"))\n",
        "specific_word=str(input(\"enter the specific_word\"))\n",
        "if text.startswith(specific_word):\n",
        "  print(\"string is start with a specific word\")\n",
        "else:\n",
        "  print(\"string is not start with a specific word\")\n"
      ]
    },
    {
      "cell_type": "markdown",
      "metadata": {
        "id": "H96KRZqcjaQw"
      },
      "source": [
        "### 18. Check if a string ends with a specific word or phrase."
      ]
    },
    {
      "cell_type": "code",
      "execution_count": null,
      "metadata": {
        "colab": {
          "base_uri": "https://localhost:8080/"
        },
        "id": "gMXnj4yIjiVc",
        "outputId": "e1e5dcce-8215-4fdc-df1b-bf71c950a953"
      },
      "outputs": [
        {
          "name": "stdout",
          "output_type": "stream",
          "text": [
            "enter the text:This is a statement\n",
            "enter the specific_wordstatement\n",
            "string is end with a specific word\n"
          ]
        }
      ],
      "source": [
        "text=str(input(\"enter the text:\"))\n",
        "specific_word=str(input(\"enter the specific_word\"))\n",
        "if text.endswith(specific_word):\n",
        "  print(\"string is end with a specific word\")\n",
        "else:\n",
        "  print(\"string is not end with a specific word\")"
      ]
    },
    {
      "cell_type": "markdown",
      "metadata": {
        "id": "rqiJU-Coj6vz"
      },
      "source": [
        "### Convert a string to title case (e.g., \"hello world\" to \"Hello World\")."
      ]
    },
    {
      "cell_type": "code",
      "execution_count": null,
      "metadata": {
        "colab": {
          "base_uri": "https://localhost:8080/"
        },
        "id": "i2_W4cDmkF8A",
        "outputId": "af5a0470-bdce-4204-8410-efe2bc248df3"
      },
      "outputs": [
        {
          "name": "stdout",
          "output_type": "stream",
          "text": [
            "enter the stringhello world!\n",
            "Title case of the string: Hello World!\n"
          ]
        }
      ],
      "source": [
        "string=str(input(\"enter the string\"))\n",
        "title=string.title()\n",
        "print(\"Title case of the string:\",title)"
      ]
    },
    {
      "cell_type": "markdown",
      "metadata": {
        "id": "9Yu50dsoljtO"
      },
      "source": [
        "### 20. Find the longest word in a string."
      ]
    },
    {
      "cell_type": "code",
      "execution_count": null,
      "metadata": {
        "colab": {
          "base_uri": "https://localhost:8080/"
        },
        "id": "EFDNcPxrlnRU",
        "outputId": "bcc56fcd-7a94-4f2b-f50a-47277e1c9256"
      },
      "outputs": [
        {
          "name": "stdout",
          "output_type": "stream",
          "text": [
            "enter the string:this is a statement\n",
            "The longest word in  the string: statement\n"
          ]
        }
      ],
      "source": [
        "string=str(input(\"enter the string:\"))\n",
        "text=string.split()\n",
        "longest_word=\"\"\n",
        "for i in text:\n",
        "  if len(i)>len(longest_word):\n",
        "    longest_word=i\n",
        "print(\"The longest word in  the string:\",longest_word)"
      ]
    },
    {
      "cell_type": "markdown",
      "metadata": {
        "id": "AwUXccmAMXLB"
      },
      "source": [
        "### 21. Find the shortest word in a string."
      ]
    },
    {
      "cell_type": "code",
      "execution_count": null,
      "metadata": {
        "colab": {
          "base_uri": "https://localhost:8080/"
        },
        "id": "_FJWR_KxMoZy",
        "outputId": "ffcc431a-d716-487a-9948-c88af699e5a3"
      },
      "outputs": [
        {
          "name": "stdout",
          "output_type": "stream",
          "text": [
            "enter the string:data science is artificial\n",
            "The short word in the string is : is\n"
          ]
        }
      ],
      "source": [
        "string=str(input(\"enter the string:\"))\n",
        "text=string.split()\n",
        "short_word=\"\"\n",
        "for i in text:\n",
        "  if len(i)<len(text):\n",
        "    short_word=i\n",
        "print(\"The short word in the string is :\",short_word)\n"
      ]
    },
    {
      "cell_type": "markdown",
      "metadata": {
        "id": "xN3pa9MvQpMx"
      },
      "source": [
        "### 22. Reverse the order of words in a string."
      ]
    },
    {
      "cell_type": "code",
      "execution_count": null,
      "metadata": {
        "colab": {
          "base_uri": "https://localhost:8080/"
        },
        "id": "MA5btq-RQHt9",
        "outputId": "46602764-df32-4148-af08-bae01359cfa3"
      },
      "outputs": [
        {
          "name": "stdout",
          "output_type": "stream",
          "text": [
            "enter the text:welcome to the world\n",
            "world the to welcome\n"
          ]
        }
      ],
      "source": [
        "string=str(input(\"enter the text:\"))\n",
        "text=string.split()\n",
        "rev_ord=text[::-1]\n",
        "result=\" \".join(rev_ord)\n",
        "print(result)\n",
        "\n"
      ]
    },
    {
      "cell_type": "markdown",
      "metadata": {
        "id": "8oUxyb86UHEz"
      },
      "source": [
        "### 23. Check if a string is alphanumeric."
      ]
    },
    {
      "cell_type": "code",
      "execution_count": null,
      "metadata": {
        "colab": {
          "base_uri": "https://localhost:8080/"
        },
        "id": "msa0X58FTPsp",
        "outputId": "2f78fa56-c726-48ac-ba32-2ee324ccb4bd"
      },
      "outputs": [
        {
          "name": "stdout",
          "output_type": "stream",
          "text": [
            "enter the sting:216Q1A4270\n",
            "The string is alphanumeric\n"
          ]
        }
      ],
      "source": [
        "string = str(input(\"enter the sting:\"))\n",
        "if string.isalnum():\n",
        "  print(\"The string is alphanumeric\")\n",
        "else:\n",
        "  print(\"The string is not alphanumeric\")\n"
      ]
    },
    {
      "cell_type": "markdown",
      "metadata": {
        "id": "Ek8GMubdWA9u"
      },
      "source": [
        "### 24. Extract all digits from a string."
      ]
    },
    {
      "cell_type": "code",
      "execution_count": null,
      "metadata": {
        "colab": {
          "base_uri": "https://localhost:8080/"
        },
        "id": "YxlYPF3CXLJx",
        "outputId": "b390f3c3-1c0a-46e6-d164-8ddd60dadf4a"
      },
      "outputs": [
        {
          "name": "stdout",
          "output_type": "stream",
          "text": [
            "enter the string:216Q1A4270\n",
            "The digits are: 21614270\n"
          ]
        }
      ],
      "source": [
        "string=str(input(\"enter the string:\"))\n",
        "digit=\"\"\n",
        "for i in string:\n",
        "  if i.isdigit():\n",
        "    digit+=i\n",
        "print(\"The digits are:\",digit)"
      ]
    },
    {
      "cell_type": "markdown",
      "metadata": {
        "id": "IJpoAM5wa9eJ"
      },
      "source": [
        "### 25. Extract all alphabets from a string."
      ]
    },
    {
      "cell_type": "code",
      "execution_count": null,
      "metadata": {
        "colab": {
          "base_uri": "https://localhost:8080/"
        },
        "id": "iwl9LnxHbCan",
        "outputId": "3c3051f4-7a8c-489c-a27f-4cf400f8ad55"
      },
      "outputs": [
        {
          "name": "stdout",
          "output_type": "stream",
          "text": [
            "enter the string:216Q1A4270\n",
            "The alphabets are: QA\n"
          ]
        }
      ],
      "source": [
        "string=str(input(\"enter the string:\"))\n",
        "alpha=\"\"\n",
        "for i in string:\n",
        "  if i.isalpha():\n",
        "    alpha+=i\n",
        "print(\"The alphabets are:\",alpha)"
      ]
    },
    {
      "cell_type": "markdown",
      "metadata": {
        "id": "crVjOYuqbfqi"
      },
      "source": [
        "### 26. Count the number of uppercase letters in a string.\n",
        "\n"
      ]
    },
    {
      "cell_type": "code",
      "execution_count": null,
      "metadata": {
        "colab": {
          "base_uri": "https://localhost:8080/"
        },
        "id": "CJR0fjFCcU4n",
        "outputId": "2878f952-49e0-4976-c3a3-358a1bdcaf60"
      },
      "outputs": [
        {
          "name": "stdout",
          "output_type": "stream",
          "text": [
            "enter the string:Dileep Kumar\n",
            "2\n"
          ]
        }
      ],
      "source": [
        "text=str(input(\"enter the string:\"))\n",
        "count=0\n",
        "for i in text:\n",
        "  if i.isupper():\n",
        "    count+=1\n",
        "print(count)"
      ]
    },
    {
      "cell_type": "markdown",
      "metadata": {
        "id": "OhpN4vg3eeMT"
      },
      "source": [
        "### 27. Count the number of lowercase letters in a string."
      ]
    },
    {
      "cell_type": "code",
      "execution_count": null,
      "metadata": {
        "colab": {
          "base_uri": "https://localhost:8080/"
        },
        "id": "78NoiRDJeduq",
        "outputId": "3c7d6f82-4f2c-40bc-bb8e-dd56bd4afadc"
      },
      "outputs": [
        {
          "name": "stdout",
          "output_type": "stream",
          "text": [
            "enter the string:Dileep Kumar\n",
            "9\n"
          ]
        }
      ],
      "source": [
        "text=str(input(\"enter the string:\"))\n",
        "count=0\n",
        "for i in text:\n",
        "  if i.islower():\n",
        "    count+=1\n",
        "print(count)"
      ]
    },
    {
      "cell_type": "markdown",
      "metadata": {
        "id": "2p3mLWh1e0q9"
      },
      "source": [
        "### 28. Swap the case of each character in a string."
      ]
    },
    {
      "cell_type": "code",
      "execution_count": null,
      "metadata": {
        "colab": {
          "base_uri": "https://localhost:8080/"
        },
        "id": "0igGKdKAb3-s",
        "outputId": "ab07ba4d-6f10-4276-8e7f-c7b92fa48303"
      },
      "outputs": [
        {
          "name": "stdout",
          "output_type": "stream",
          "text": [
            "enter the stringHELLO world!\n",
            "After swap the case: hello WORLD!\n"
          ]
        }
      ],
      "source": [
        "string=str(input(\"enter the string\"))\n",
        "swap=string.swapcase()\n",
        "print(\"After swap the case:\",swap)\n"
      ]
    },
    {
      "cell_type": "markdown",
      "metadata": {
        "id": "rDZhdPlwiCP6"
      },
      "source": [
        "### 29. Remove a specific word from a string.\n"
      ]
    },
    {
      "cell_type": "code",
      "execution_count": null,
      "metadata": {
        "colab": {
          "base_uri": "https://localhost:8080/"
        },
        "id": "eY-CBIbwjEJ9",
        "outputId": "5dfaefd1-9e4a-4b78-f219-c67c326e2133"
      },
      "outputs": [
        {
          "name": "stdout",
          "output_type": "stream",
          "text": [
            "enter the string:my name is dileep kumar \n",
            "enter the specific word:name\n",
            "The modified string after removing: my  is dileep kumar \n"
          ]
        }
      ],
      "source": [
        "string=str(input(\"enter the string:\"))\n",
        "word=str(input(\"enter the specific word:\"))\n",
        "modified_string=string.replace(word,\"\")\n",
        "print(\"The modified string after removing:\",modified_string)\n"
      ]
    },
    {
      "cell_type": "markdown",
      "metadata": {
        "id": "wj5FbB-SP7VG"
      },
      "source": [
        "### 30. Check if a string is a valid email address."
      ]
    },
    {
      "cell_type": "code",
      "execution_count": null,
      "metadata": {
        "colab": {
          "base_uri": "https://localhost:8080/"
        },
        "id": "zfXFrdaYP99s",
        "outputId": "65178fa3-cfe8-4bd8-b080-838790a879c9"
      },
      "outputs": [
        {
          "name": "stdout",
          "output_type": "stream",
          "text": [
            "dileep@email.com is a valid email address.\n"
          ]
        }
      ],
      "source": [
        "email = \"dileep@email.com\"\n",
        "Flag = True\n",
        "if \"@\" not in email:\n",
        "        Flag= False\n",
        "username, domain = email.split(\"@\")\n",
        "if email.count(\"@\") != 1:\n",
        "    Flag = False\n",
        "if not username or \" \" in username:\n",
        "    Flag =False\n",
        "if domain.count(\".\") != 1:\n",
        "    Flag=False\n",
        "if not domain or \" \" in domain:\n",
        "    Flag=False\n",
        "if Flag:\n",
        "    print(f\"{email} is a valid email address.\")\n",
        "else:\n",
        "    print(f\"{email} is not a valid email address.\")"
      ]
    },
    {
      "cell_type": "markdown",
      "metadata": {
        "id": "ZkcHKG4MRkpa"
      },
      "source": [
        "31. Extract the username from an email address string."
      ]
    },
    {
      "cell_type": "code",
      "execution_count": null,
      "metadata": {
        "colab": {
          "base_uri": "https://localhost:8080/"
        },
        "id": "ty8k3A4wRpG_",
        "outputId": "0f83d4f7-a9c7-47dd-ab0d-203cd9c7759f"
      },
      "outputs": [
        {
          "name": "stdout",
          "output_type": "stream",
          "text": [
            "The username for this email is :dileep\n"
          ]
        }
      ],
      "source": [
        "email=\"dileep@gmail.com\"\n",
        "username,domain=email.split(\"@\")\n",
        "print(f\"The username for this email is :{username}\")"
      ]
    },
    {
      "cell_type": "markdown",
      "metadata": {
        "id": "GX7TmECpSSwG"
      },
      "source": [
        "### 32. Extract the domain name from an email address string."
      ]
    },
    {
      "cell_type": "code",
      "execution_count": null,
      "metadata": {
        "colab": {
          "base_uri": "https://localhost:8080/"
        },
        "id": "mUlpBcSlSYZF",
        "outputId": "77dc0361-68b0-4d6c-accd-47f98da50372"
      },
      "outputs": [
        {
          "name": "stdout",
          "output_type": "stream",
          "text": [
            "The domain for this email is :gmail.com\n"
          ]
        }
      ],
      "source": [
        "email=\"dileep@gmail.com\"\n",
        "username,domain=email.split(\"@\")\n",
        "print(f\"The domain for this email is :{domain}\")"
      ]
    },
    {
      "cell_type": "markdown",
      "metadata": {
        "id": "UOHhh3UQSkXi"
      },
      "source": [
        "### 33. Replace multiple spaces in a string with a single space."
      ]
    },
    {
      "cell_type": "code",
      "execution_count": null,
      "metadata": {
        "colab": {
          "base_uri": "https://localhost:8080/"
        },
        "id": "x78oqb1USqag",
        "outputId": "f710d253-5ad4-4640-fa36-4d5a01288565"
      },
      "outputs": [
        {
          "name": "stdout",
          "output_type": "stream",
          "text": [
            "enter the string:My        name    is  Dileep\n",
            "My name is Dileep\n"
          ]
        }
      ],
      "source": [
        "string=str(input(\"enter the string:\"))\n",
        "modified_string=\" \".join(string.split())\n",
        "print(modified_string)"
      ]
    },
    {
      "cell_type": "markdown",
      "metadata": {
        "id": "Wcv3ucj_YRw-"
      },
      "source": [
        "### 34. Check if a string is a valid URL."
      ]
    },
    {
      "cell_type": "code",
      "execution_count": null,
      "metadata": {
        "colab": {
          "base_uri": "https://localhost:8080/"
        },
        "id": "hw8H-GgGWJpe",
        "outputId": "15c27eec-53ed-4b8f-9b45-f60c315b435e"
      },
      "outputs": [
        {
          "name": "stdout",
          "output_type": "stream",
          "text": [
            "https://www.example.com is a valid URL.\n"
          ]
        }
      ],
      "source": [
        "def is_valid_url(url):\n",
        "    valid_schemes = [\"http\", \"https\", \"ftp\", \"ftps\"]\n",
        "    parsed_url = url.split(\"://\")\n",
        "    if len(parsed_url) != 2:\n",
        "        return False\n",
        "    scheme = parsed_url[0]\n",
        "    if scheme not in valid_schemes:\n",
        "        return False\n",
        "    remaining_url = parsed_url[1]\n",
        "    for char in remaining_url:\n",
        "        if char.isalnum() or char in \"-.\":\n",
        "            continue\n",
        "        else:\n",
        "            return False\n",
        "\n",
        "    return True\n",
        "\n",
        "# Example usage\n",
        "url = \"https://www.example.com\"\n",
        "if is_valid_url(url):\n",
        "    print(f\"{url} is a valid URL.\")\n",
        "else:\n",
        "    print(f\"{url} is not a valid URL.\")\n"
      ]
    },
    {
      "cell_type": "markdown",
      "metadata": {
        "id": "NxK7heYDa4q3"
      },
      "source": [
        "### 35. Extract the protocol (http or https) from a URL string.\n"
      ]
    },
    {
      "cell_type": "code",
      "execution_count": null,
      "metadata": {
        "colab": {
          "base_uri": "https://localhost:8080/"
        },
        "id": "0gjRvNJcYox_",
        "outputId": "c1cafbb0-92d1-4b98-dc88-ca19e9d8257b"
      },
      "outputs": [
        {
          "name": "stdout",
          "output_type": "stream",
          "text": [
            "The protocol of the url is :https\n"
          ]
        }
      ],
      "source": [
        "url=\"https://www.example.com\"\n",
        "url_split=url.split(\":\")[0]\n",
        "print(f\"The protocol of the url is :{url_split}\")"
      ]
    },
    {
      "cell_type": "markdown",
      "metadata": {
        "id": "2kAGvQYYcIh6"
      },
      "source": [
        "### 36. Find the frequency of each character in a string."
      ]
    },
    {
      "cell_type": "code",
      "execution_count": null,
      "metadata": {
        "colab": {
          "base_uri": "https://localhost:8080/"
        },
        "id": "C6nSCavFcNfv",
        "outputId": "c8d2dfdb-1376-4a81-807b-6cc3bb750525"
      },
      "outputs": [
        {
          "name": "stdout",
          "output_type": "stream",
          "text": [
            "Character: 'h', Frequency: 1\n",
            "Character: 'e', Frequency: 1\n",
            "Character: 'l', Frequency: 3\n",
            "Character: 'o', Frequency: 2\n",
            "Character: ' ', Frequency: 1\n",
            "Character: 'w', Frequency: 1\n",
            "Character: 'r', Frequency: 1\n",
            "Character: 'd', Frequency: 1\n"
          ]
        }
      ],
      "source": [
        "def character_frequency(input_string):\n",
        "    frequency = {}\n",
        "\n",
        "    for char in input_string:\n",
        "        if char in frequency:\n",
        "            frequency[char] += 1\n",
        "        else:\n",
        "            frequency[char] = 1\n",
        "\n",
        "    return frequency\n",
        "\n",
        "input_str = \"hello world\"\n",
        "\n",
        "char_freq = character_frequency(input_str)\n",
        "\n",
        "for char, freq in char_freq.items():\n",
        "    print(f\"Character: '{char}', Frequency: {freq}\")\n"
      ]
    },
    {
      "cell_type": "markdown",
      "metadata": {
        "id": "zle58gQ5iDtY"
      },
      "source": [
        "### 37. Remove all punctuation from a string."
      ]
    },
    {
      "cell_type": "code",
      "execution_count": null,
      "metadata": {
        "colab": {
          "base_uri": "https://localhost:8080/"
        },
        "id": "MiFTIhrngyp3",
        "outputId": "c05e0e73-b5ba-412c-d673-dbce1827b6bd"
      },
      "outputs": [
        {
          "name": "stdout",
          "output_type": "stream",
          "text": [
            "enter the string:hello\"s world!\n",
            "hellos world\n"
          ]
        }
      ],
      "source": [
        "string=str(input(\"enter the string:\"))\n",
        "non_punct_str=\"\"\n",
        "punctuation=\"!\\\"#$%&'()*+,-./:;<=>?@[\\\\]^_`{|}~\"\n",
        "for i in string:\n",
        "  if i not in punctuation:\n",
        "    non_punct_str+=i\n",
        "print(non_punct_str)\n"
      ]
    },
    {
      "cell_type": "markdown",
      "metadata": {
        "id": "DukcESpqkJ2G"
      },
      "source": [
        "### 38. Check if a string contains only digits."
      ]
    },
    {
      "cell_type": "code",
      "execution_count": null,
      "metadata": {
        "colab": {
          "base_uri": "https://localhost:8080/"
        },
        "id": "dxNulBDVkO3L",
        "outputId": "37389b6b-663f-4912-e730-5d2f0d04c2c5"
      },
      "outputs": [
        {
          "name": "stdout",
          "output_type": "stream",
          "text": [
            "enter the string:2127SH\n",
            "The given string not contain's only digits 2127SH\n"
          ]
        }
      ],
      "source": [
        "string=str(input(\"enter the string:\"))\n",
        "if string.isdigit():\n",
        "  print(\"The given string contains only digits\",string)\n",
        "else:\n",
        "  print(\"The given string not contain's only digits\",string)"
      ]
    },
    {
      "cell_type": "markdown",
      "metadata": {
        "id": "moqeh9LFlTkB"
      },
      "source": [
        "### 39. Check if a string contains only alphabets."
      ]
    },
    {
      "cell_type": "code",
      "execution_count": null,
      "metadata": {
        "colab": {
          "base_uri": "https://localhost:8080/"
        },
        "id": "sCklJJOtlQZZ",
        "outputId": "3e331fd6-ff5d-41f5-dbf9-9ddcf11cc72f"
      },
      "outputs": [
        {
          "name": "stdout",
          "output_type": "stream",
          "text": [
            "enter the string:Dileep\n",
            "The given string 'Dileep' contains only alphabets\n"
          ]
        }
      ],
      "source": [
        "string=str(input(\"enter the string:\"))\n",
        "if string.isalpha():\n",
        "  print(f\"The given string '{string}' contains only alphabets\")\n",
        "else:\n",
        "  print(f\"The given string '{string}'not contain's only alphabets\")"
      ]
    },
    {
      "cell_type": "markdown",
      "metadata": {
        "id": "payjzSnUmBjF"
      },
      "source": [
        "### 40. Convert a string to a list of characters."
      ]
    },
    {
      "cell_type": "code",
      "execution_count": null,
      "metadata": {
        "colab": {
          "base_uri": "https://localhost:8080/"
        },
        "id": "jNX03pe9mHZ3",
        "outputId": "db64e71f-a993-4026-ebfb-588995c1bc3e"
      },
      "outputs": [
        {
          "name": "stdout",
          "output_type": "stream",
          "text": [
            "enter the stringHello world\n",
            "The list of characters ['H', 'e', 'l', 'l', 'o', ' ', 'w', 'o', 'r', 'l', 'd']\n"
          ]
        }
      ],
      "source": [
        "string=str(input(\"enter the string\"))\n",
        "char=list(string)\n",
        "print(\"The list of characters\",char)"
      ]
    },
    {
      "cell_type": "markdown",
      "metadata": {
        "id": "7S0RJc_szrjg"
      },
      "source": [
        "### 41. Check if two strings are anagrams."
      ]
    },
    {
      "cell_type": "code",
      "execution_count": null,
      "metadata": {
        "colab": {
          "background_save": true
        },
        "id": "DWNtWF7Fzx8c",
        "outputId": "07add3cf-76b9-42e5-a406-2d38ff47a6f9"
      },
      "outputs": [
        {
          "name": "stdout",
          "output_type": "stream",
          "text": [
            "The give strings are not anagrams\n"
          ]
        }
      ],
      "source": [
        "string1=str(input(\"enter the string1:\"))\n",
        "string2=str(input(\"enter the string2:\"))\n",
        "string1.lower()\n",
        "string2.lower()\n",
        "if sorted(string1)==sorted(string2):\n",
        "  print(\"The given strings are anagrams\")\n",
        "else:\n",
        "  print(\"The give strings are not anagrams\")\n",
        "\n"
      ]
    },
    {
      "cell_type": "markdown",
      "metadata": {
        "id": "Qzq3Bfe7SrJ0"
      },
      "source": [
        "### 42. Encode a string using a Caesar cipher"
      ]
    },
    {
      "cell_type": "code",
      "execution_count": null,
      "metadata": {
        "colab": {
          "base_uri": "https://localhost:8080/"
        },
        "id": "yJRL6loFSzw4",
        "outputId": "20db8ecd-35f7-4472-c341-5250d77ce179"
      },
      "outputs": [
        {
          "name": "stdout",
          "output_type": "stream",
          "text": [
            "Encoded text: ehoor, zruog!\n"
          ]
        }
      ],
      "source": [
        "def caesar_cipher(text, shift):\n",
        "  \"\"\"\n",
        "  Encodes a string using a Caesar cipher.\n",
        "\n",
        "  Args:\n",
        "    text: The string to encode.\n",
        "    shift: The number of positions to shift each letter.\n",
        "\n",
        "  Returns:\n",
        "    The encoded string.\n",
        "  \"\"\"\n",
        "\n",
        "  # Initialize an empty string to store the encoded text.\n",
        "  encoded_text = \"\"\n",
        "\n",
        "  # Iterate through each character in the input text.\n",
        "  for char in text:\n",
        "    # Check if the character is alphabetic.\n",
        "    if char.isalpha():\n",
        "      # Calculate the encoded character's Unicode code point value by shifting it by the specified amount.\n",
        "      # Ensure the value wraps around within the lowercase alphabet range (a-z).\n",
        "      encoded_char = chr((ord(char) + shift - ord('a')) % 26 + ord('a'))\n",
        "    else:\n",
        "      # Keep non-alphabetic characters unchanged.\n",
        "      encoded_char = char\n",
        "\n",
        "    # Add the encoded character to the encoded text.\n",
        "    encoded_text += encoded_char\n",
        "\n",
        "  # Return the resulting encoded text.\n",
        "  return encoded_text\n",
        "\n",
        "# Define the input text and the shift value for encoding.\n",
        "text = \"Hello, world!\"\n",
        "shift = 3\n",
        "\n",
        "# Call the caesar_cipher function to encode the text using the specified shift.\n",
        "encoded_text = caesar_cipher(text, shift)\n",
        "\n",
        "# Print the encoded text.\n",
        "print(\"Encoded text:\", encoded_text)"
      ]
    },
    {
      "cell_type": "markdown",
      "metadata": {
        "id": "n51hHnhsS9gB"
      },
      "source": [
        "### 43. Decode a Caesar cipher encoded string."
      ]
    },
    {
      "cell_type": "code",
      "execution_count": null,
      "metadata": {
        "colab": {
          "base_uri": "https://localhost:8080/"
        },
        "id": "eI5ee5jrTDBJ",
        "outputId": "19c1250d-2433-418e-d7bb-22d0fcf61fa0"
      },
      "outputs": [
        {
          "name": "stdout",
          "output_type": "stream",
          "text": [
            "Decoded text: ilmm, world!\n"
          ]
        }
      ],
      "source": [
        "def caesar_cipher_decoder(text, shift):\n",
        "    \"\"\"\n",
        "    Decodes a string using a Caesar cipher.\n",
        "\n",
        "    Args:\n",
        "        text: The string to decode.\n",
        "        shift: The number of positions to shift each letter.\n",
        "\n",
        "    Returns:\n",
        "        The decoded string.\n",
        "    \"\"\"\n",
        "\n",
        "    # Initialize an empty string to store the decoded text\n",
        "    decoded_text = \"\"\n",
        "\n",
        "    # Loop through each character in the input text\n",
        "    for char in text:\n",
        "        # Check if the character is an alphabetic character\n",
        "        if char.isalpha():\n",
        "            # Calculate the decoded character using the shift value\n",
        "            decoded_char = chr((ord(char) - shift - ord('a')) % 26 + ord('a'))\n",
        "        else:\n",
        "            # If the character is not alphabetic, keep it unchanged\n",
        "            decoded_char = char\n",
        "\n",
        "        # Add the decoded character to the decoded text\n",
        "        decoded_text += decoded_char\n",
        "\n",
        "    # Return the fully decoded text\n",
        "    return decoded_text\n",
        "\n",
        "# Example input\n",
        "text = \"lopp, zruog!\"\n",
        "shift = 3\n",
        "\n",
        "# Call the caesar_cipher_decoder function to decode the input text\n",
        "decoded_text = caesar_cipher_decoder(text, shift)\n",
        "\n",
        "# Print the decoded text\n",
        "print(\"Decoded text:\", decoded_text)"
      ]
    },
    {
      "cell_type": "markdown",
      "metadata": {
        "id": "xv67QU2fWoD4"
      },
      "source": [
        "### 44. Find the most frequent word in a string."
      ]
    },
    {
      "cell_type": "code",
      "execution_count": null,
      "metadata": {
        "colab": {
          "base_uri": "https://localhost:8080/"
        },
        "id": "_dhxVKVbWtML",
        "outputId": "3856605d-1266-42ae-f2e4-874ed19a4d6f"
      },
      "outputs": [
        {
          "name": "stdout",
          "output_type": "stream",
          "text": [
            "Most frequent word: this\n"
          ]
        }
      ],
      "source": [
        "def find_most_frequent_word(input_string):\n",
        "    words = input_string.split()\n",
        "    cleaned_words = []\n",
        "    for word in words:\n",
        "        cleaned_word = ''.join(char for char in word if char.isalnum()).lower()\n",
        "        if cleaned_word:\n",
        "            cleaned_words.append(cleaned_word)\n",
        "\n",
        "    if not cleaned_words:\n",
        "        return None\n",
        "    word_counts = {}\n",
        "    for word in cleaned_words:\n",
        "        if word in word_counts:\n",
        "            word_counts[word] += 1\n",
        "        else:\n",
        "            word_counts[word] = 1\n",
        "    most_frequent_word = max(word_counts, key=word_counts.get)\n",
        "\n",
        "    return most_frequent_word\n",
        "\n",
        "# Example usage:\n",
        "input_string = \"This is a sample string. This string contains some words, and some of them are unique. This is a sample string.\"\n",
        "most_frequent_word = find_most_frequent_word(input_string)\n",
        "print(\"Most frequent word:\", most_frequent_word)\n"
      ]
    },
    {
      "cell_type": "markdown",
      "metadata": {
        "id": "OTWsXaxJTJWi"
      },
      "source": [
        "### 45. Find all unique words in a string."
      ]
    },
    {
      "cell_type": "code",
      "execution_count": null,
      "metadata": {
        "colab": {
          "base_uri": "https://localhost:8080/"
        },
        "id": "_gSC8HulULmA",
        "outputId": "3a1ab8e2-0d7c-47e0-8d1e-9ce513720939"
      },
      "outputs": [
        {
          "name": "stdout",
          "output_type": "stream",
          "text": [
            "{'some', 'is', 'words', 'and', 'a', 'of', 'this', 'unique', 'them', 'contains', 'are', 'sample', 'string'}\n"
          ]
        }
      ],
      "source": [
        "def remove_punctuation_and_lowercase(word):\n",
        "    # Define a list of punctuation characters you want to remove\n",
        "    punctuation = ['!', '\"', '#', '$', '%', '&', \"'\", '(', ')', '*', '+', ',', '-', '.', '/', ':', ';', '<', '=', '>', '?', '@', '[', '\\\\', ']', '^', '_', '`', '{', '|', '}', '~']\n",
        "\n",
        "    # Remove punctuation characters and convert to lowercase\n",
        "    cleaned_word = ''.join([char for char in word if char not in punctuation]).lower()\n",
        "    return cleaned_word\n",
        "\n",
        "def find_unique_words(input_string):\n",
        "    words = input_string.split()\n",
        "    cleaned_words = [remove_punctuation_and_lowercase(word) for word in words]\n",
        "\n",
        "    unique_words = set(cleaned_words)\n",
        "    return unique_words\n",
        "\n",
        "# Example usage:\n",
        "input_string = \"This is a sample string. This string contains some words, and some of them are unique.\"\n",
        "unique_words = find_unique_words(input_string)\n",
        "print(unique_words)\n"
      ]
    },
    {
      "cell_type": "markdown",
      "metadata": {
        "id": "epfHEhhUV9-N"
      },
      "source": [
        "### 46. Count the number of syllables in a string."
      ]
    },
    {
      "cell_type": "code",
      "execution_count": null,
      "metadata": {
        "colab": {
          "base_uri": "https://localhost:8080/"
        },
        "id": "Gu_XvFsTWROy",
        "outputId": "40be9cc6-6a2d-4bd3-db0d-ce957ea0fe8a"
      },
      "outputs": [
        {
          "name": "stdout",
          "output_type": "stream",
          "text": [
            "Syllables in the word: 3\n"
          ]
        }
      ],
      "source": [
        "def count_syllables(word):\n",
        "    word = word.lower()\n",
        "\n",
        "    # Define a set of vowel characters\n",
        "    vowels = \"aeiouy\"\n",
        "    syllable_count = 0\n",
        "    consecutive_vowels = False\n",
        "\n",
        "    for char in word:\n",
        "        if char in vowels:\n",
        "            if not consecutive_vowels:\n",
        "                syllable_count += 1\n",
        "            consecutive_vowels = True\n",
        "        else:\n",
        "            consecutive_vowels = False\n",
        "    if word.endswith('e'):\n",
        "        syllable_count -= 1\n",
        "    if word.endswith('le'):\n",
        "        syllable_count +=1\n",
        "    if syllable_count == 0:\n",
        "        syllable_count = 1\n",
        "\n",
        "    return syllable_count\n",
        "input_word = \"syllable\"\n",
        "syllable_count = count_syllables(input_word)\n",
        "print(\"Syllables in the word:\", syllable_count)\n"
      ]
    },
    {
      "cell_type": "markdown",
      "metadata": {
        "id": "NQUDZLgGYvEO"
      },
      "source": [
        "### 47. Check if a string contains any special characters.\n"
      ]
    },
    {
      "cell_type": "code",
      "execution_count": null,
      "metadata": {
        "colab": {
          "base_uri": "https://localhost:8080/"
        },
        "id": "HlDG8H-vY8hL",
        "outputId": "32eff25f-9b93-481c-8c1d-be98792d2617"
      },
      "outputs": [
        {
          "name": "stdout",
          "output_type": "stream",
          "text": [
            "enter the string:hello@><world\n",
            "The string does not contain any specia character\n"
          ]
        }
      ],
      "source": [
        "string=str(input(\"enter the string:\"))\n",
        "special_string=('!@#$%^&*()_+{}\\[\\]:;<>,.?~\\\\/')\n",
        "if string in special_string:\n",
        "  print(f\"The string contains this '{special_string}' special character \")\n",
        "else:\n",
        "  print(\"The string does not contain any specia character\")"
      ]
    },
    {
      "cell_type": "markdown",
      "metadata": {
        "id": "nookYymzamhM"
      },
      "source": [
        "### 48. Remove the nth word from a string."
      ]
    },
    {
      "cell_type": "code",
      "execution_count": null,
      "metadata": {
        "colab": {
          "base_uri": "https://localhost:8080/"
        },
        "id": "zA2aCS4ea7vY",
        "outputId": "ef0a3f8c-926a-47cd-a959-8b414615243f"
      },
      "outputs": [
        {
          "name": "stdout",
          "output_type": "stream",
          "text": [
            "Original string: This is an example sentence to test the function.\n",
            "Modified string: This is an sentence to test the function.\n",
            "Removed word: example\n"
          ]
        }
      ],
      "source": [
        "def remove_nth_word(input_string, n):\n",
        "    words = input_string.split()\n",
        "\n",
        "    if n >= 1 and n <= len(words):\n",
        "        removed_word = words.pop(n - 1)\n",
        "        modified_string = ' '.join(words)\n",
        "\n",
        "        return modified_string, removed_word\n",
        "    else:\n",
        "        return None, None\n",
        "input_str = \"This is an example sentence to test the function.\"\n",
        "n_value = 4\n",
        "modified_str, removed_word = remove_nth_word(input_str, n_value)\n",
        "print(\"Original string:\", input_str)\n",
        "if modified_str is not None:\n",
        "    print(\"Modified string:\", modified_str)\n",
        "    print(\"Removed word:\", removed_word)\n",
        "else:\n",
        "    print(\"Invalid n value.\")"
      ]
    },
    {
      "cell_type": "markdown",
      "metadata": {
        "id": "W1A2EwVGeME3"
      },
      "source": [
        "### 49. Insert a word at the nth position in a string."
      ]
    },
    {
      "cell_type": "code",
      "execution_count": null,
      "metadata": {
        "colab": {
          "base_uri": "https://localhost:8080/"
        },
        "id": "Sl-WGaIceSL-",
        "outputId": "525318c3-fe79-4809-9f18-e00d8f6fab3b"
      },
      "outputs": [
        {
          "name": "stdout",
          "output_type": "stream",
          "text": [
            "the new string is This is a sample string, new and we want to insert a word.\n"
          ]
        }
      ],
      "source": [
        "def insert_word_at_position(input_string, word_to_insert, n):\n",
        "    words = input_string.split()\n",
        "    if 0 <= n <= len(words):\n",
        "        words.insert(n, word_to_insert)\n",
        "        result_string = ' '.join(words)\n",
        "\n",
        "        return result_string\n",
        "    else:\n",
        "        return input_string + ' ' + word_to_insert\n",
        "input_string = \"This is a sample string, and we want to insert a word.\"\n",
        "word_to_insert = \"new\"\n",
        "n = 5\n",
        "new_string = insert_word_at_position(input_string, word_to_insert, n)\n",
        "print(\"the new string is\",new_string)\n"
      ]
    },
    {
      "cell_type": "markdown",
      "metadata": {
        "id": "1bKdfIH3hMAG"
      },
      "source": [
        "### 50. Convert a CSV string to a list of lists."
      ]
    },
    {
      "cell_type": "code",
      "execution_count": null,
      "metadata": {
        "colab": {
          "base_uri": "https://localhost:8080/"
        },
        "id": "I1C1Bkkegiyr",
        "outputId": "fab3015a-7fde-471c-fbf4-989aa48ebc87"
      },
      "outputs": [
        {
          "name": "stdout",
          "output_type": "stream",
          "text": [
            "['Name', ' Age', ' Country']\n",
            "['John', ' 25', ' USA']\n",
            "['Alice', ' 30', ' Canada']\n",
            "['Bob', ' 22', ' UK']\n"
          ]
        }
      ],
      "source": [
        "def csv_string_to_list(csv_string):\n",
        "    lines = csv_string.split('\\n')\n",
        "    result = []\n",
        "\n",
        "    for line in lines:\n",
        "\n",
        "        fields = line.split(',')\n",
        "        result.append(fields)\n",
        "\n",
        "    return result\n",
        "csv_data = \"Name, Age, Country\\nJohn, 25, USA\\nAlice, 30, Canada\\nBob, 22, UK\"\n",
        "list_of_lists = csv_string_to_list(csv_data)\n",
        "for row in list_of_lists:\n",
        "    print(row)"
      ]
    },
    {
      "cell_type": "markdown",
      "metadata": {
        "id": "3k2siJb1lyop"
      },
      "source": [
        "# List based practice problem :"
      ]
    },
    {
      "cell_type": "markdown",
      "metadata": {
        "id": "5marFMfsmXKH"
      },
      "source": [
        "### 1. Create a list with integers from 1 to 10."
      ]
    },
    {
      "cell_type": "code",
      "execution_count": null,
      "metadata": {
        "colab": {
          "base_uri": "https://localhost:8080/"
        },
        "id": "96umYOOIlyHy",
        "outputId": "62cb7bd6-7c35-4e9e-fa85-738846b6420f"
      },
      "outputs": [
        {
          "name": "stdout",
          "output_type": "stream",
          "text": [
            "[1, 2, 3, 4, 5, 6, 7, 8, 9, 10]\n"
          ]
        }
      ],
      "source": [
        "lst=[]\n",
        "for i in range(1,11):\n",
        "  lst.append(i)\n",
        "print(lst)\n"
      ]
    },
    {
      "cell_type": "markdown",
      "metadata": {
        "id": "CnWY-6VaoHcD"
      },
      "source": [
        "### 2. Find the length of a list without using the `len()` function."
      ]
    },
    {
      "cell_type": "code",
      "execution_count": null,
      "metadata": {
        "colab": {
          "base_uri": "https://localhost:8080/"
        },
        "id": "ZACxv6WfoIjM",
        "outputId": "69f0fbde-1e37-4932-834a-562fbea1cd31"
      },
      "outputs": [
        {
          "name": "stdout",
          "output_type": "stream",
          "text": [
            "the length of list is : 5\n"
          ]
        }
      ],
      "source": [
        "lst=[10,20,30,40,50]\n",
        "count=0\n",
        "for i in lst:\n",
        "  count+=1\n",
        "print(\"the length of list is :\",count)"
      ]
    },
    {
      "cell_type": "markdown",
      "metadata": {
        "id": "BUPUkDCUpQ8e"
      },
      "source": [
        "### 3. Append an element to the end of a list."
      ]
    },
    {
      "cell_type": "code",
      "execution_count": null,
      "metadata": {
        "colab": {
          "base_uri": "https://localhost:8080/"
        },
        "id": "6Kluk8x_pYbJ",
        "outputId": "41c9c97d-f676-444b-a842-5a0a45baeb48"
      },
      "outputs": [
        {
          "name": "stdout",
          "output_type": "stream",
          "text": [
            "list append [10, 20, 30, 40, 50, 60]\n"
          ]
        }
      ],
      "source": [
        "lst=[10,20,30,40,50]\n",
        "lst.append(60)\n",
        "print(\"list append\",lst)"
      ]
    },
    {
      "cell_type": "markdown",
      "metadata": {
        "id": "Q0u164NFqBCt"
      },
      "source": [
        "### 4. Insert an element at a specific index in a list."
      ]
    },
    {
      "cell_type": "code",
      "execution_count": null,
      "metadata": {
        "colab": {
          "base_uri": "https://localhost:8080/"
        },
        "id": "jQw-SgdTqOLJ",
        "outputId": "7f0fd54a-746c-4fd5-d741-ffcae860053e"
      },
      "outputs": [
        {
          "name": "stdout",
          "output_type": "stream",
          "text": [
            "my updated list [10, 20, 90, 30, 40, 50]\n"
          ]
        }
      ],
      "source": [
        "lst=[10,20,30,40,50]\n",
        "lst.insert(2,90)\n",
        "print(\"my updated list\",lst)"
      ]
    },
    {
      "cell_type": "markdown",
      "metadata": {
        "id": "1VSmZazNqf1G"
      },
      "source": [
        "### 5. Remove an element from a list by its value."
      ]
    },
    {
      "cell_type": "code",
      "execution_count": null,
      "metadata": {
        "colab": {
          "base_uri": "https://localhost:8080/"
        },
        "id": "cVaThNmlql0L",
        "outputId": "e4d268ed-ab66-4da4-c1c6-1785c95ad8df"
      },
      "outputs": [
        {
          "name": "stdout",
          "output_type": "stream",
          "text": [
            "the updated list after remove [23, 64, 23, 56, 23]\n"
          ]
        }
      ],
      "source": [
        "lst=[23,45,64,23,56,23]\n",
        "lst.remove(45)\n",
        "print(\"the updated list after remove\",lst)"
      ]
    },
    {
      "cell_type": "markdown",
      "metadata": {
        "id": "n4AHL2OOrjmy"
      },
      "source": [
        "### 6. Remove an element from a list by its index."
      ]
    },
    {
      "cell_type": "code",
      "execution_count": null,
      "metadata": {
        "colab": {
          "base_uri": "https://localhost:8080/"
        },
        "id": "Uf1KGnEnriSc",
        "outputId": "f1c0510c-2d72-4be5-f126-1a149c935134"
      },
      "outputs": [
        {
          "output_type": "stream",
          "name": "stdout",
          "text": [
            "After remove an element from a list by index: [40, 65, 23, 23, 54]\n"
          ]
        }
      ],
      "source": [
        "lst=[40,65,23,54,23,54]\n",
        "lst.pop(3)\n",
        "print(\"After remove an element from a list by index:\",lst)\n"
      ]
    },
    {
      "cell_type": "markdown",
      "source": [
        "### 7. Check if an element exists in a list."
      ],
      "metadata": {
        "id": "HbbmBEeEf5ds"
      }
    },
    {
      "cell_type": "code",
      "source": [
        "lst=[23,54,87,98,67,12]\n",
        "element=int(input(\"enter the element:\"))\n",
        "if element in lst:\n",
        "  print(\"element exist in the list\")\n",
        "else:\n",
        "  print(\"element not exist in the list\")"
      ],
      "metadata": {
        "colab": {
          "base_uri": "https://localhost:8080/"
        },
        "id": "VFbNEa2fgJLW",
        "outputId": "9523a6dc-03e4-42dd-bfd8-94408177fbe9"
      },
      "execution_count": null,
      "outputs": [
        {
          "output_type": "stream",
          "name": "stdout",
          "text": [
            "enter the element:54\n",
            "element exist in the list\n"
          ]
        }
      ]
    },
    {
      "cell_type": "markdown",
      "source": [
        "### 8. Find the index of the first occurrence of an element in a list."
      ],
      "metadata": {
        "id": "vmo4elhvgu2s"
      }
    },
    {
      "cell_type": "code",
      "source": [
        "lst=[12,32,54,76,89,9]\n",
        "element=int(input(\"enter the element:\"))\n",
        "print(\"The index of an element is:\",lst.index(element))"
      ],
      "metadata": {
        "colab": {
          "base_uri": "https://localhost:8080/"
        },
        "id": "mze2gUc2g2oq",
        "outputId": "b386d3b0-bbea-49bf-fe0b-0c9082ac31d0"
      },
      "execution_count": null,
      "outputs": [
        {
          "output_type": "stream",
          "name": "stdout",
          "text": [
            "enter the element:76\n",
            "The index of an element is: 3\n"
          ]
        }
      ]
    },
    {
      "cell_type": "markdown",
      "source": [
        "### 9. Count the occurrences of an element in a list."
      ],
      "metadata": {
        "id": "vcixmZ5Rhcax"
      }
    },
    {
      "cell_type": "code",
      "source": [
        "lst=[1,23,34,65,23,54,76,45]\n",
        "element=int(input(\"Enter the element\"))\n",
        "print(\"The count of an element is:\",lst.count(element))\n"
      ],
      "metadata": {
        "colab": {
          "base_uri": "https://localhost:8080/"
        },
        "id": "r5-sAQjXhgcK",
        "outputId": "693bdabd-9799-4016-9582-fb4c1eaa1453"
      },
      "execution_count": null,
      "outputs": [
        {
          "output_type": "stream",
          "name": "stdout",
          "text": [
            "Enter the element23\n",
            "The count of an element is: 2\n"
          ]
        }
      ]
    },
    {
      "cell_type": "markdown",
      "source": [
        "### 10. Reverse the order of elements in a list."
      ],
      "metadata": {
        "id": "O61B6X7Gi2V-"
      }
    },
    {
      "cell_type": "code",
      "source": [
        "lst=[8,45,453,2345,78789]\n",
        "print(\"The reverse of a list is:\",lst[::-1])"
      ],
      "metadata": {
        "colab": {
          "base_uri": "https://localhost:8080/"
        },
        "id": "84D9T2Odi7oR",
        "outputId": "5d232fc4-ade7-4a32-f35a-098432621858"
      },
      "execution_count": null,
      "outputs": [
        {
          "output_type": "stream",
          "name": "stdout",
          "text": [
            "The reverse of a list is: [78789, 2345, 453, 45, 8]\n"
          ]
        }
      ]
    },
    {
      "cell_type": "markdown",
      "source": [
        "### 11. Sort a list in ascending order."
      ],
      "metadata": {
        "id": "XykHMo_vjKN6"
      }
    },
    {
      "cell_type": "code",
      "source": [
        "lst=[87,23,76,43,3,45,33]\n",
        "lst.sort()\n",
        "print(\"The ascending order of a list is:\",lst)\n"
      ],
      "metadata": {
        "colab": {
          "base_uri": "https://localhost:8080/"
        },
        "id": "aX1jbNX7jPmf",
        "outputId": "121a1647-ae3a-4f5e-888a-0ab613566645"
      },
      "execution_count": null,
      "outputs": [
        {
          "output_type": "stream",
          "name": "stdout",
          "text": [
            "The ascending order of a list is: [3, 23, 33, 43, 45, 76, 87]\n"
          ]
        }
      ]
    },
    {
      "cell_type": "markdown",
      "source": [
        "### 12. Sort a list in descending order."
      ],
      "metadata": {
        "id": "nBnzHTQxkqw0"
      }
    },
    {
      "cell_type": "code",
      "source": [
        "lst=[87,23,76,43,3,45,33]\n",
        "lst.sort()\n",
        "print(\"The descending  order of a list is:\",lst[::-1])"
      ],
      "metadata": {
        "colab": {
          "base_uri": "https://localhost:8080/"
        },
        "id": "G0KCBfNMknKD",
        "outputId": "17ae96e1-3a59-4971-9e83-2a367b015f67"
      },
      "execution_count": null,
      "outputs": [
        {
          "output_type": "stream",
          "name": "stdout",
          "text": [
            "The descending  order of a list is: [87, 76, 45, 43, 33, 23, 3]\n"
          ]
        }
      ]
    },
    {
      "cell_type": "markdown",
      "source": [
        "### 13. Create a list of even numbers from 1 to 20."
      ],
      "metadata": {
        "id": "xLq5YENDk3av"
      }
    },
    {
      "cell_type": "code",
      "source": [
        "lst=[]\n",
        "for i in range(1,21):\n",
        "  if i%2==0:\n",
        "    lst.append(i)\n",
        "print(\"The list of even numbers are:\",lst)"
      ],
      "metadata": {
        "colab": {
          "base_uri": "https://localhost:8080/"
        },
        "id": "JMT2ThxHlAc5",
        "outputId": "4fecccda-8589-4dcf-9555-47064c8f59a6"
      },
      "execution_count": null,
      "outputs": [
        {
          "output_type": "stream",
          "name": "stdout",
          "text": [
            "The list of even numbers are: [2, 4, 6, 8, 10, 12, 14, 16, 18, 20]\n"
          ]
        }
      ]
    },
    {
      "cell_type": "markdown",
      "source": [
        "### 14. Create a list of odd numbers from 1 to 20."
      ],
      "metadata": {
        "id": "p2ZioobkljTV"
      }
    },
    {
      "cell_type": "code",
      "source": [
        "lst=[]\n",
        "for i in range(1,21):\n",
        "  if i%2!=0:\n",
        "    lst.append(i)\n",
        "print(\"The list of odd numbers are:\",lst)"
      ],
      "metadata": {
        "colab": {
          "base_uri": "https://localhost:8080/"
        },
        "id": "MX7_yTsPloAj",
        "outputId": "928192c1-b74f-44ef-a61e-044f04411b84"
      },
      "execution_count": null,
      "outputs": [
        {
          "output_type": "stream",
          "name": "stdout",
          "text": [
            "The list of odd numbers are: [1, 3, 5, 7, 9, 11, 13, 15, 17, 19]\n"
          ]
        }
      ]
    },
    {
      "cell_type": "markdown",
      "source": [
        "### 15. Find the sum of all elements in a list."
      ],
      "metadata": {
        "id": "zVlLJhrVlu-j"
      }
    },
    {
      "cell_type": "code",
      "source": [
        "lst=[1,23,34,45,56,67,78,89,99,100]\n",
        "sum=0\n",
        "for i in lst:\n",
        "  sum+=i\n",
        "print(\"The sum of a list is:\",sum)"
      ],
      "metadata": {
        "colab": {
          "base_uri": "https://localhost:8080/"
        },
        "id": "GS9IhQ6el9l9",
        "outputId": "2a37848e-830e-4bd4-ea09-8be0a9315261"
      },
      "execution_count": null,
      "outputs": [
        {
          "output_type": "stream",
          "name": "stdout",
          "text": [
            "The sum of a list is: 592\n"
          ]
        }
      ]
    },
    {
      "cell_type": "markdown",
      "source": [
        "### 16. Find the maximum value in a list."
      ],
      "metadata": {
        "id": "ljoSuAr5mSTc"
      }
    },
    {
      "cell_type": "code",
      "source": [
        "lst=[1,23,45,56,67,78,99]\n",
        "print(\"The max number in list is\",max(lst))"
      ],
      "metadata": {
        "colab": {
          "base_uri": "https://localhost:8080/"
        },
        "id": "I7ak3SGtmXU3",
        "outputId": "986f03dc-a8ec-4a2c-9d50-2e2105eb7949"
      },
      "execution_count": null,
      "outputs": [
        {
          "output_type": "stream",
          "name": "stdout",
          "text": [
            "The max number in list is 99\n"
          ]
        }
      ]
    },
    {
      "cell_type": "markdown",
      "source": [
        "### 17. Find the minimum value in a list."
      ],
      "metadata": {
        "id": "dHqN4NaFm-gU"
      }
    },
    {
      "cell_type": "code",
      "source": [
        "lst=[1,23,45,56,67,78,99]\n",
        "print(\"The max number in list is\",min(lst))"
      ],
      "metadata": {
        "colab": {
          "base_uri": "https://localhost:8080/"
        },
        "id": "qNw53xFVnDRm",
        "outputId": "14ec8dba-dbe8-4c28-f0d8-1e5d8df6d0db"
      },
      "execution_count": null,
      "outputs": [
        {
          "output_type": "stream",
          "name": "stdout",
          "text": [
            "The max number in list is 1\n"
          ]
        }
      ]
    },
    {
      "cell_type": "markdown",
      "source": [
        "### 18. Create a list of squares of numbers from 1 to 10.\n"
      ],
      "metadata": {
        "id": "9FxCi4senHIK"
      }
    },
    {
      "cell_type": "code",
      "source": [
        "lst=[]\n",
        "product=0\n",
        "for i in range(1,11):\n",
        "  product=i*i\n",
        "  lst.append(product)\n",
        "print(\"The squares of a numbers are:\",lst)\n",
        "\n",
        "\n"
      ],
      "metadata": {
        "colab": {
          "base_uri": "https://localhost:8080/"
        },
        "id": "btOJTqzTnL3J",
        "outputId": "9b855b96-700f-4829-ca3f-edb16fcd6f30"
      },
      "execution_count": null,
      "outputs": [
        {
          "output_type": "stream",
          "name": "stdout",
          "text": [
            "The squares of a numbers are: [1, 4, 9, 16, 25, 36, 49, 64, 81, 100]\n"
          ]
        }
      ]
    },
    {
      "cell_type": "markdown",
      "source": [
        "### 19. Create a list of random numbers."
      ],
      "metadata": {
        "id": "ZQ0deB8Knn7e"
      }
    },
    {
      "cell_type": "code",
      "source": [
        "import random\n",
        "number=[random.randint(1,100) for _ in range(1,11)]\n",
        "print(\"The random number of a list\",number)\n",
        "\n",
        "\n"
      ],
      "metadata": {
        "colab": {
          "base_uri": "https://localhost:8080/"
        },
        "id": "c_UcNdLtnu0B",
        "outputId": "7402b288-2ad5-41cc-f17e-cf21888505d4"
      },
      "execution_count": null,
      "outputs": [
        {
          "output_type": "stream",
          "name": "stdout",
          "text": [
            "The random number of a list [18, 74, 76, 55, 31, 77, 72, 28, 82, 52]\n"
          ]
        }
      ]
    },
    {
      "cell_type": "markdown",
      "source": [
        "### 20. Remove duplicates from a list."
      ],
      "metadata": {
        "id": "YhmjJDf8proL"
      }
    },
    {
      "cell_type": "code",
      "source": [
        "lst=[12,23,33,33,43,33,54,63,73,23,73,63]\n",
        "lst1=list(set(lst))\n",
        "print(\"The list after removing duplicates :\",lst1)"
      ],
      "metadata": {
        "colab": {
          "base_uri": "https://localhost:8080/"
        },
        "id": "p_XtTFFhpvm0",
        "outputId": "6812dab6-6cc9-465e-e413-f02aa153270b"
      },
      "execution_count": null,
      "outputs": [
        {
          "output_type": "stream",
          "name": "stdout",
          "text": [
            "The list after removing duplicates : [33, 73, 43, 12, 54, 23, 63]\n"
          ]
        }
      ]
    },
    {
      "cell_type": "markdown",
      "source": [
        "### 21. Find the common elements between two lists."
      ],
      "metadata": {
        "id": "NobmDRfoqPCX"
      }
    },
    {
      "cell_type": "code",
      "source": [
        "lst1=[12,22,32,42,52,63,75,78]\n",
        "lst2=[12,22,34,75,23,76,32,98]\n",
        "lst3=list(set(lst1).intersection(lst2))\n",
        "print(\"The common elements of an list is\",lst3)"
      ],
      "metadata": {
        "colab": {
          "base_uri": "https://localhost:8080/"
        },
        "id": "xjVBe-9UqTIg",
        "outputId": "67ed0e1e-3011-4fbb-f492-957074414399"
      },
      "execution_count": null,
      "outputs": [
        {
          "output_type": "stream",
          "name": "stdout",
          "text": [
            "The common elements of an list is [32, 75, 12, 22]\n"
          ]
        }
      ]
    },
    {
      "cell_type": "markdown",
      "source": [
        "### 22. Find the difference between two lists."
      ],
      "metadata": {
        "id": "buaZz9gUq112"
      }
    },
    {
      "cell_type": "code",
      "source": [
        "lst1=[12,22,32,42,52,63,75,78]\n",
        "lst2=[12,22,34,75,23,76,32,98]\n",
        "lst3=list(set(lst1).difference(lst2))\n",
        "print(\"The difference elements of an list is\",lst3)"
      ],
      "metadata": {
        "colab": {
          "base_uri": "https://localhost:8080/"
        },
        "id": "zvK412jQq7bj",
        "outputId": "e62552a3-6421-40cb-927c-18dfc6105750"
      },
      "execution_count": null,
      "outputs": [
        {
          "output_type": "stream",
          "name": "stdout",
          "text": [
            "The difference elements of an list is [42, 78, 52, 63]\n"
          ]
        }
      ]
    },
    {
      "cell_type": "markdown",
      "source": [
        "### 23. Merge two lists."
      ],
      "metadata": {
        "id": "u0Pgb1NwrgXk"
      }
    },
    {
      "cell_type": "code",
      "source": [
        "lst1=[12,22,32,42,52,63,75,78]\n",
        "lst2=[12,22,34,75,23,76,32,98]\n",
        "lst3=lst1+lst2\n",
        "print(\"The final list is\",lst3)"
      ],
      "metadata": {
        "colab": {
          "base_uri": "https://localhost:8080/"
        },
        "id": "bVX6h8RNrx0y",
        "outputId": "569ec71c-e484-46ee-d0d1-79dfb8397359"
      },
      "execution_count": null,
      "outputs": [
        {
          "output_type": "stream",
          "name": "stdout",
          "text": [
            "The final list is [12, 22, 32, 42, 52, 63, 75, 78, 12, 22, 34, 75, 23, 76, 32, 98]\n"
          ]
        }
      ]
    },
    {
      "cell_type": "markdown",
      "source": [
        "### 24. Multiply all elements in a list by 2."
      ],
      "metadata": {
        "id": "Xmu-JJjrsBOi"
      }
    },
    {
      "cell_type": "code",
      "source": [
        "lst=[1,2,3,4,5,6,7,8,9]\n",
        "lst1=[]\n",
        "for i in lst:\n",
        "  i*=2\n",
        "  lst1.append(i)\n",
        "print(\"The list is:\",lst1)\n"
      ],
      "metadata": {
        "colab": {
          "base_uri": "https://localhost:8080/"
        },
        "id": "579_BLvZsF6s",
        "outputId": "767a6447-6ccc-4378-fdff-7a534bb87696"
      },
      "execution_count": null,
      "outputs": [
        {
          "output_type": "stream",
          "name": "stdout",
          "text": [
            "The list is: [2, 4, 6, 8, 10, 12, 14, 16, 18]\n"
          ]
        }
      ]
    },
    {
      "cell_type": "markdown",
      "source": [
        "### 25. Filter out all even numbers from a list."
      ],
      "metadata": {
        "id": "WuqM2BzFskcJ"
      }
    },
    {
      "cell_type": "code",
      "source": [
        "lst=[1,2,3,4,5,6,7,8,9]\n",
        "lst1=[]\n",
        "for i in lst:\n",
        "  if i%2==0:\n",
        "    lst1.append(i)\n",
        "print(\"The final list is \",lst1)\n"
      ],
      "metadata": {
        "colab": {
          "base_uri": "https://localhost:8080/"
        },
        "id": "2h2xQ_L6stwb",
        "outputId": "768f2036-e5d5-4bcb-950d-3924ae164e3d"
      },
      "execution_count": null,
      "outputs": [
        {
          "output_type": "stream",
          "name": "stdout",
          "text": [
            "The final list is  [2, 4, 6, 8]\n"
          ]
        }
      ]
    },
    {
      "cell_type": "markdown",
      "source": [
        "### 26. Convert a list of strings to a list of integers."
      ],
      "metadata": {
        "id": "CLGJLLn-tN-o"
      }
    },
    {
      "cell_type": "code",
      "source": [
        "lst=[\"12\",\"32\",\"43\",\"5654\",\"34\"]\n",
        "lst1=[]\n",
        "for i in lst:\n",
        "  lst1.append(int(i))\n",
        "print(\"The list of integers are:\",lst1)"
      ],
      "metadata": {
        "colab": {
          "base_uri": "https://localhost:8080/"
        },
        "id": "ad9E3E4srsLr",
        "outputId": "ce1ed90d-6c98-4576-d192-2c648a068471"
      },
      "execution_count": null,
      "outputs": [
        {
          "output_type": "stream",
          "name": "stdout",
          "text": [
            "The list of integers are: [12, 32, 43, 5654, 34]\n"
          ]
        }
      ]
    },
    {
      "cell_type": "markdown",
      "source": [
        "### 27. Convert a list of integers to a list of strings."
      ],
      "metadata": {
        "id": "1sKxM3DbtJgp"
      }
    },
    {
      "cell_type": "code",
      "source": [
        "lst=[12,32,43,5654,34]\n",
        "lst1=[]\n",
        "for i in lst:\n",
        "  lst1.append(str(i))\n",
        "print(\"The list of strings are:\",lst1)"
      ],
      "metadata": {
        "colab": {
          "base_uri": "https://localhost:8080/"
        },
        "id": "8CC4_uy4tMPK",
        "outputId": "341455f0-908f-4528-981e-a20ef3290892"
      },
      "execution_count": null,
      "outputs": [
        {
          "output_type": "stream",
          "name": "stdout",
          "text": [
            "The list of strings are: ['12', '32', '43', '5654', '34']\n"
          ]
        }
      ]
    },
    {
      "cell_type": "markdown",
      "source": [
        "### 28. Flatten a nested list."
      ],
      "metadata": {
        "id": "bqqr7XMZtnKg"
      }
    },
    {
      "cell_type": "code",
      "source": [
        "def flatten_list(nested_list):\n",
        "    flat_list = []\n",
        "    for item in nested_list:\n",
        "        if isinstance(item, list):\n",
        "            flat_list.extend(flatten_list(item))\n",
        "        else:\n",
        "            flat_list.append(item)\n",
        "    return flat_list\n",
        "nested_list = [1, [2, 3], [4, [5, 6]], 7]\n",
        "flattened_list = flatten_list(nested_list)\n",
        "print(flattened_list)\n"
      ],
      "metadata": {
        "colab": {
          "base_uri": "https://localhost:8080/"
        },
        "id": "qeznpYzQu5PF",
        "outputId": "ba469748-48af-486c-b8d6-46a16f41253c"
      },
      "execution_count": null,
      "outputs": [
        {
          "output_type": "stream",
          "name": "stdout",
          "text": [
            "[1, 2, 3, 4, 5, 6, 7]\n"
          ]
        }
      ]
    },
    {
      "cell_type": "markdown",
      "source": [
        "### 29. Create a list of the first 10 Fibonacci numbers."
      ],
      "metadata": {
        "id": "4M2HE1F1wUka"
      }
    },
    {
      "cell_type": "code",
      "source": [
        "n = 10\n",
        "fibonacci_sequence = [0, 1]\n",
        "for i in range(2, n):\n",
        "    next_fibonacci = fibonacci_sequence[i - 1] + fibonacci_sequence[i - 2]\n",
        "    fibonacci_sequence.append(next_fibonacci)\n",
        "print(\"list of the first 10 Fibonacci numbers are:\",fibonacci_sequence)\n"
      ],
      "metadata": {
        "colab": {
          "base_uri": "https://localhost:8080/"
        },
        "id": "abmhlhq8wYjB",
        "outputId": "dd5fffe2-48ad-4671-835b-ed03b117591a"
      },
      "execution_count": null,
      "outputs": [
        {
          "output_type": "stream",
          "name": "stdout",
          "text": [
            "list of the first 10 Fibonacci numbers are: [0, 1, 1, 2, 3, 5, 8, 13, 21, 34]\n"
          ]
        }
      ]
    },
    {
      "cell_type": "markdown",
      "source": [
        "### 30. Check if a list is sorted."
      ],
      "metadata": {
        "id": "0J35IR_3xPUH"
      }
    },
    {
      "cell_type": "code",
      "source": [
        "my_list = [1, 2, 3, 4, 5]\n",
        "\n",
        "is_sorted_ascending = True\n",
        "for i in range(1, len(my_list)):\n",
        "    if my_list[i] < my_list[i - 1]:\n",
        "        is_sorted_ascending = False\n",
        "        break\n",
        "print(is_sorted_ascending)\n",
        "my_list = [5, 4, 3, 2, 1]\n",
        "is_sorted_ascending = True\n",
        "for i in range(1, len(my_list)):\n",
        "    if my_list[i] < my_list[i - 1]:\n",
        "        is_sorted_ascending = False\n",
        "        break\n",
        "\n",
        "print(is_sorted_ascending)\n"
      ],
      "metadata": {
        "colab": {
          "base_uri": "https://localhost:8080/"
        },
        "id": "acvoHr-vyXX3",
        "outputId": "f786ace7-2e97-4057-dd8e-550c8f28e9f1"
      },
      "execution_count": null,
      "outputs": [
        {
          "output_type": "stream",
          "name": "stdout",
          "text": [
            "True\n",
            "False\n"
          ]
        }
      ]
    },
    {
      "cell_type": "markdown",
      "source": [
        "### 31. Rotate a list to the left by `n` positions."
      ],
      "metadata": {
        "id": "RVqHHgLYyrA-"
      }
    },
    {
      "cell_type": "code",
      "source": [
        "my_list = [1, 2, 3, 4, 5]\n",
        "n = 2\n",
        "\n",
        "n = n % len(my_list)\n",
        "rotated_list = my_list[n:] + my_list[:n]\n",
        "\n",
        "print(rotated_list)\n"
      ],
      "metadata": {
        "colab": {
          "base_uri": "https://localhost:8080/"
        },
        "id": "n0Vpp7xlyryD",
        "outputId": "2d5bf7f9-4534-4fef-e66b-6318e5a2ce55"
      },
      "execution_count": null,
      "outputs": [
        {
          "output_type": "stream",
          "name": "stdout",
          "text": [
            "[3, 4, 5, 1, 2]\n"
          ]
        }
      ]
    },
    {
      "cell_type": "markdown",
      "source": [
        "### 32. Rotate a list to the right by `n` positions."
      ],
      "metadata": {
        "id": "8Ms7RV5G2PAM"
      }
    },
    {
      "cell_type": "code",
      "source": [
        "my_list = [1, 2, 3, 4, 5]\n",
        "n = 2\n",
        "\n",
        "n = n % len(my_list)\n",
        "rotated_list = my_list[-n:] + my_list[:-n]\n",
        "\n",
        "print(rotated_list)"
      ],
      "metadata": {
        "colab": {
          "base_uri": "https://localhost:8080/"
        },
        "id": "QrynlHTb2cKb",
        "outputId": "d46d64be-b2c1-4576-808a-e959bf94e271"
      },
      "execution_count": null,
      "outputs": [
        {
          "output_type": "stream",
          "name": "stdout",
          "text": [
            "[4, 5, 1, 2, 3]\n"
          ]
        }
      ]
    },
    {
      "cell_type": "markdown",
      "source": [
        "### 33. Create a list of prime numbers up to 50."
      ],
      "metadata": {
        "id": "qRfbSV873EVq"
      }
    },
    {
      "cell_type": "code",
      "source": [
        "def prime_numbers(n):\n",
        "    primes = []\n",
        "    for i in range(2, n + 1):\n",
        "        for j in range(2, int(i ** 0.5) + 1):\n",
        "            if i%j == 0:\n",
        "                break\n",
        "        else:\n",
        "            primes.append(i)\n",
        "    return primes\n",
        "\n",
        "prime_list = prime_numbers(50)\n",
        "print(\"The prime numbers up to 50:\",prime_list)"
      ],
      "metadata": {
        "id": "fCHBs5mw3LJS",
        "colab": {
          "base_uri": "https://localhost:8080/"
        },
        "outputId": "721fd57b-bead-4c16-f5b8-36533266094b"
      },
      "execution_count": null,
      "outputs": [
        {
          "output_type": "stream",
          "name": "stdout",
          "text": [
            "The prime numbers up to 50: [2, 3, 5, 7, 11, 13, 17, 19, 23, 29, 31, 37, 41, 43, 47]\n"
          ]
        }
      ]
    },
    {
      "cell_type": "markdown",
      "source": [
        "### 34. Split a list into chunks of size n."
      ],
      "metadata": {
        "id": "cZ0K7C714dgI"
      }
    },
    {
      "cell_type": "code",
      "source": [
        "def split_list_into_chunks(lst, n):\n",
        "\n",
        "    return [lst[i:i + n] for i in range(0, len(lst), n)]\n",
        "\n",
        "my_list = [1, 2, 3, 4, 5, 6, 7, 8, 9]\n",
        "chunk_size = 3\n",
        "result = split_list_into_chunks(my_list, chunk_size)\n",
        "print(result)"
      ],
      "metadata": {
        "id": "wXHyGFN3FwkG",
        "colab": {
          "base_uri": "https://localhost:8080/"
        },
        "outputId": "265de124-ab48-446b-f1fc-373a99cc47bf"
      },
      "execution_count": null,
      "outputs": [
        {
          "output_type": "stream",
          "name": "stdout",
          "text": [
            "[[1, 2, 3], [4, 5, 6], [7, 8, 9]]\n"
          ]
        }
      ]
    },
    {
      "cell_type": "markdown",
      "source": [
        "### 35. Find the second largest number in a list."
      ],
      "metadata": {
        "id": "r6b8rs-O7gtF"
      }
    },
    {
      "cell_type": "code",
      "source": [
        "lst=[23,54,11,89,76,99,56,11]\n",
        "lst.sort()\n",
        "print(\"The second largest number in a list :\",lst[-2])"
      ],
      "metadata": {
        "colab": {
          "base_uri": "https://localhost:8080/"
        },
        "id": "bPO_mM2K7lVS",
        "outputId": "8df49d20-be6f-4647-9412-1934834f4ad3"
      },
      "execution_count": null,
      "outputs": [
        {
          "output_type": "stream",
          "name": "stdout",
          "text": [
            "The second largest number in a list : 89\n"
          ]
        }
      ]
    },
    {
      "cell_type": "markdown",
      "source": [
        "### 36. Replace every element in a list with its square."
      ],
      "metadata": {
        "id": "FouaGHeK8_TO"
      }
    },
    {
      "cell_type": "code",
      "source": [
        "lst=[1,2,3,4,5]\n",
        "lst2=[]\n",
        "for i in lst:\n",
        "  i=i*i\n",
        "  lst2.append(i)\n",
        "print(\"The squar of a list is :\",lst2)\n"
      ],
      "metadata": {
        "colab": {
          "base_uri": "https://localhost:8080/"
        },
        "id": "me98KrPX9F9H",
        "outputId": "21d0c42e-3d30-4dd8-88a7-6b428a817788"
      },
      "execution_count": null,
      "outputs": [
        {
          "output_type": "stream",
          "name": "stdout",
          "text": [
            "The squar of a list is : [1, 4, 9, 16, 25]\n"
          ]
        }
      ]
    },
    {
      "cell_type": "markdown",
      "source": [
        "### 37. Convert a list to a dictionary where list elements become keys and their indices become values."
      ],
      "metadata": {
        "id": "R3gSNVYO9_9X"
      }
    },
    {
      "cell_type": "code",
      "source": [
        "my_list = ['prasad', 'mohit', 'dinesh', 'pavan']\n",
        "\n",
        "my_dict = {}\n",
        "for index in range(len(my_list)):\n",
        "    value = my_list[index]\n",
        "    my_dict[value] = index\n",
        "\n",
        "print(my_dict)"
      ],
      "metadata": {
        "colab": {
          "base_uri": "https://localhost:8080/"
        },
        "id": "xrCYysGQ-JK3",
        "outputId": "c3081515-5ed5-4ed8-a400-deb4f5e46f10"
      },
      "execution_count": null,
      "outputs": [
        {
          "output_type": "stream",
          "name": "stdout",
          "text": [
            "{'prasad': 0, 'mohit': 1, 'dinesh': 2, 'pavan': 3}\n"
          ]
        }
      ]
    },
    {
      "cell_type": "markdown",
      "source": [
        "### 38. Shuffle the elements of a list randomly."
      ],
      "metadata": {
        "id": "ujpoElRt_V6s"
      }
    },
    {
      "cell_type": "code",
      "source": [
        "import random\n",
        "lst=[10,20,30,40,50]\n",
        "random.shuffle(lst)\n",
        "print(\"The shuffle of a list is:\",lst)"
      ],
      "metadata": {
        "colab": {
          "base_uri": "https://localhost:8080/"
        },
        "id": "cunTY68S_cuD",
        "outputId": "877f734e-3f6b-499b-94d7-519a8b596821"
      },
      "execution_count": null,
      "outputs": [
        {
          "output_type": "stream",
          "name": "stdout",
          "text": [
            "The shuffle of a list is: [40, 50, 10, 20, 30]\n"
          ]
        }
      ]
    },
    {
      "cell_type": "markdown",
      "source": [
        "### 39. Create a list of the first 10 factorial numbers"
      ],
      "metadata": {
        "id": "oQdKNNx-AE92"
      }
    },
    {
      "cell_type": "code",
      "source": [
        "lst = []   #empty list\n",
        "\n",
        "for i in range(10): # iterating till 10 numbers\n",
        "  ans = 1  # initiallize  1 for multiplication\n",
        "  for j in range(1,i+1):\n",
        "    ans*=j\n",
        "  lst.append(ans)\n",
        "  ans = 1\n",
        "print(lst)"
      ],
      "metadata": {
        "colab": {
          "base_uri": "https://localhost:8080/"
        },
        "id": "Uc8AdnuFAsTe",
        "outputId": "82b70184-e20a-44a0-c273-47d19085bb2e"
      },
      "execution_count": null,
      "outputs": [
        {
          "output_type": "stream",
          "name": "stdout",
          "text": [
            "[1, 1, 2, 6, 24, 120, 720, 5040, 40320, 362880]\n"
          ]
        }
      ]
    },
    {
      "cell_type": "markdown",
      "source": [
        "### 40. Check if two lists have at least one element in common."
      ],
      "metadata": {
        "id": "onPrkCYT0LUl"
      }
    },
    {
      "cell_type": "code",
      "source": [
        "list1 = [1, 2, 3, 4, 5]\n",
        "list2 = [5, 6, 7, 8, 9]\n",
        "\n",
        "common_element = False\n",
        "for element in list1:\n",
        "  for element_2 in list2:\n",
        "    if element == element_2:\n",
        "      common_element = True\n",
        "      break\n",
        "  if common_element:\n",
        "    break\n",
        "\n",
        "print(common_element)"
      ],
      "metadata": {
        "colab": {
          "base_uri": "https://localhost:8080/"
        },
        "id": "3LgqeeCrxpWg",
        "outputId": "0e5bed75-dfe6-476d-fca8-2508fe691fef"
      },
      "execution_count": null,
      "outputs": [
        {
          "output_type": "stream",
          "name": "stdout",
          "text": [
            "True\n"
          ]
        }
      ]
    },
    {
      "cell_type": "markdown",
      "source": [
        "### 41. Remove all elements from a list."
      ],
      "metadata": {
        "id": "Z3qcypAL8NA8"
      }
    },
    {
      "cell_type": "code",
      "source": [
        "lst=[1,23,3445,33,765,34,23]\n",
        "lst.clear()\n",
        "print(\"The list after clearing:\",lst)"
      ],
      "metadata": {
        "colab": {
          "base_uri": "https://localhost:8080/"
        },
        "id": "n15onKYB8Vmv",
        "outputId": "d9698835-9cb6-47c6-cb45-4e6cdfd7db1c"
      },
      "execution_count": null,
      "outputs": [
        {
          "output_type": "stream",
          "name": "stdout",
          "text": [
            "The list after clearing: []\n"
          ]
        }
      ]
    },
    {
      "cell_type": "markdown",
      "source": [
        "### 42. Replace negative numbers in a list with 0."
      ],
      "metadata": {
        "id": "_1LlRBCx8qzn"
      }
    },
    {
      "cell_type": "code",
      "source": [
        "lst=[-2,23,-33,32,54,99]\n",
        "for i in range(len(lst)):\n",
        "  if lst[i]<0:\n",
        "    lst[i]=0\n",
        "print(lst)\n",
        "\n",
        "\n"
      ],
      "metadata": {
        "colab": {
          "base_uri": "https://localhost:8080/"
        },
        "id": "x1DYY_qf8xMW",
        "outputId": "3dc52ce1-8545-46d9-c5b9-855fa6ca89d2"
      },
      "execution_count": null,
      "outputs": [
        {
          "output_type": "stream",
          "name": "stdout",
          "text": [
            "[0, 23, 0, 32, 54, 99]\n"
          ]
        }
      ]
    },
    {
      "cell_type": "markdown",
      "source": [
        "### 43. Convert a string into a list of words."
      ],
      "metadata": {
        "id": "z03jc7ss-2QI"
      }
    },
    {
      "cell_type": "code",
      "source": [
        "string=\"This is an python programming\"\n",
        "lst=string.split()\n",
        "print(lst)"
      ],
      "metadata": {
        "colab": {
          "base_uri": "https://localhost:8080/"
        },
        "id": "cwbshhR6-9qQ",
        "outputId": "a1cf2abf-d875-487f-8459-9501ddfc9670"
      },
      "execution_count": null,
      "outputs": [
        {
          "output_type": "stream",
          "name": "stdout",
          "text": [
            "['This', 'is', 'an', 'python', 'programming']\n"
          ]
        }
      ]
    },
    {
      "cell_type": "markdown",
      "source": [
        "### 44. Convert a list of words into a string."
      ],
      "metadata": {
        "id": "-oiUGGPl_RtZ"
      }
    },
    {
      "cell_type": "code",
      "source": [
        "lst=['This', 'is', 'an', 'python', 'programming']\n",
        "string=' '.join(lst)\n",
        "print(string)"
      ],
      "metadata": {
        "colab": {
          "base_uri": "https://localhost:8080/"
        },
        "id": "hpcnALNk_aDI",
        "outputId": "8a6bfdc1-3e04-4105-ac8b-e6a4033db5bc"
      },
      "execution_count": null,
      "outputs": [
        {
          "output_type": "stream",
          "name": "stdout",
          "text": [
            "This is an python programming\n"
          ]
        }
      ]
    },
    {
      "cell_type": "markdown",
      "source": [
        "### 45. Create a list of the first `n` powers of 2."
      ],
      "metadata": {
        "id": "3LCa52ChAJdt"
      }
    },
    {
      "cell_type": "code",
      "source": [
        "lst=[]\n",
        "for i in range(5):\n",
        "  i=2**i\n",
        "  lst.append(i)\n",
        "print(\"list of the first n powers of 2:\",lst)\n",
        "\n"
      ],
      "metadata": {
        "colab": {
          "base_uri": "https://localhost:8080/"
        },
        "id": "CRwVDA7GAXDE",
        "outputId": "b511afc4-f85a-447a-e5fe-fdb763f6b7e6"
      },
      "execution_count": null,
      "outputs": [
        {
          "output_type": "stream",
          "name": "stdout",
          "text": [
            "list of the first n powers of 2: [1, 2, 4, 8, 16]\n"
          ]
        }
      ]
    },
    {
      "cell_type": "markdown",
      "source": [
        "### 46. Find the longest string in a list of strings."
      ],
      "metadata": {
        "id": "Cpd-VckhBxR7"
      }
    },
    {
      "cell_type": "code",
      "source": [
        "lst=['This', 'is', 'an', 'python', 'programming']\n",
        "longest_string=\"\"\n",
        "for i in lst:\n",
        "  if len(i)>len(longest_string):\n",
        "    longest_string=i\n",
        "print(\"The longest string in a list is :\",longest_string)"
      ],
      "metadata": {
        "colab": {
          "base_uri": "https://localhost:8080/"
        },
        "id": "3T47Wn5DCj3Y",
        "outputId": "f657fdd8-4115-4572-c90a-27c1dbabd0a6"
      },
      "execution_count": null,
      "outputs": [
        {
          "output_type": "stream",
          "name": "stdout",
          "text": [
            "The longest string in a list is : programming\n"
          ]
        }
      ]
    },
    {
      "cell_type": "markdown",
      "source": [
        "### 47. Find the shortest string in a list of strings."
      ],
      "metadata": {
        "id": "db56bmKUDimP"
      }
    },
    {
      "cell_type": "code",
      "source": [
        "string_list = [\"prasad\", \"dileep\", \"mohit\", \"pavan kumar\", \"shanmukh\"]\n",
        "shortest_string = string_list[0]\n",
        "for s in string_list:\n",
        "    if len(s) < len(shortest_string):\n",
        "        shortest_string = s\n",
        "print(\"Shortest string:\", shortest_string)"
      ],
      "metadata": {
        "colab": {
          "base_uri": "https://localhost:8080/"
        },
        "id": "gFHTHW3nDo7Y",
        "outputId": "7b6ce9df-fcd2-4f3e-bf74-b6ff50eed2e4"
      },
      "execution_count": null,
      "outputs": [
        {
          "output_type": "stream",
          "name": "stdout",
          "text": [
            "Shortest string: mohit\n"
          ]
        }
      ]
    },
    {
      "cell_type": "markdown",
      "source": [
        "### 48. Create a list of the first `n` triangular numbers."
      ],
      "metadata": {
        "id": "FZlgKPCtFOLT"
      }
    },
    {
      "cell_type": "code",
      "source": [
        "lst=[]\n",
        "for i in range(1,5):\n",
        "  i=i*(i+1)//2\n",
        "  lst.append(i)\n",
        "print(lst)\n"
      ],
      "metadata": {
        "colab": {
          "base_uri": "https://localhost:8080/"
        },
        "id": "zqJTeS_HGBy-",
        "outputId": "2c2106c1-fa0b-4e86-c458-4fec0993f50d"
      },
      "execution_count": null,
      "outputs": [
        {
          "output_type": "stream",
          "name": "stdout",
          "text": [
            "[1, 3, 6, 10]\n"
          ]
        }
      ]
    },
    {
      "cell_type": "markdown",
      "source": [
        "### 49. Check if a list contains another list as a subsequence."
      ],
      "metadata": {
        "id": "palh_Dc2Ilf9"
      }
    },
    {
      "cell_type": "code",
      "source": [
        "main_list = [1, 2, 3, 4, 5, 6, 7]\n",
        "sub_list = [3, 4, 5]\n",
        "\n",
        "main_len = len(main_list)\n",
        "sub_len = len(sub_list)\n",
        "\n",
        "for i in range(main_len - sub_len + 1):\n",
        "    if main_list[i:i + sub_len] == sub_list:\n",
        "        print(\"sub_list is a subsequence of main_list\")\n",
        "        break\n",
        "else:\n",
        "    print(\"sub_list is not a subsequence of main_list\")\n",
        "\n"
      ],
      "metadata": {
        "colab": {
          "base_uri": "https://localhost:8080/"
        },
        "id": "jXpvduRjIrkc",
        "outputId": "711b66ef-f8da-4b8e-c715-0387dde10e00"
      },
      "execution_count": null,
      "outputs": [
        {
          "output_type": "stream",
          "name": "stdout",
          "text": [
            "sub_list is a subsequence of main_list\n"
          ]
        }
      ]
    },
    {
      "cell_type": "markdown",
      "source": [
        "## 50. Swap two elements in a list by their indices."
      ],
      "metadata": {
        "id": "oVpY9jLQMk3W"
      }
    },
    {
      "cell_type": "code",
      "source": [
        "list1 = [1, 2, 3, 4, 5]\n",
        "index1 = 0\n",
        "index2 = 2\n",
        "temp = list1[index1]\n",
        "list1[index1] = list1[index2]\n",
        "list1[index2] = temp\n",
        "\n",
        "print(\"List after swapping elements:\",list1)"
      ],
      "metadata": {
        "colab": {
          "base_uri": "https://localhost:8080/"
        },
        "id": "BRwo0UUPNMVz",
        "outputId": "8efedcec-5ff4-483c-e55d-d89667fb3a96"
      },
      "execution_count": null,
      "outputs": [
        {
          "output_type": "stream",
          "name": "stdout",
          "text": [
            "List after swapping elements: [3, 2, 1, 4, 5]\n"
          ]
        }
      ]
    },
    {
      "cell_type": "markdown",
      "source": [
        "# Tuple based practice problem :"
      ],
      "metadata": {
        "id": "i3bXu6rNREER"
      }
    },
    {
      "cell_type": "markdown",
      "source": [
        "### 1. Create a tuple with integers from 1 to 5."
      ],
      "metadata": {
        "id": "6MvjtefpRYKz"
      }
    },
    {
      "cell_type": "code",
      "source": [
        "tup=(1,2,3,4,5)\n",
        "print(tup)"
      ],
      "metadata": {
        "colab": {
          "base_uri": "https://localhost:8080/"
        },
        "id": "21zznR-5Rypy",
        "outputId": "d8584972-3046-415a-d168-05abaec01879"
      },
      "execution_count": null,
      "outputs": [
        {
          "output_type": "stream",
          "name": "stdout",
          "text": [
            "(1, 2, 3, 4, 5)\n"
          ]
        }
      ]
    },
    {
      "cell_type": "markdown",
      "source": [
        "### 2. Access the third element of a tuple."
      ],
      "metadata": {
        "id": "ty3iWm5_Vkjf"
      }
    },
    {
      "cell_type": "code",
      "source": [
        "tup=(1,2,3,4,5)\n",
        "my_tup=tup[3]\n",
        "print(\"The third element of a tuple :\",my_tup)"
      ],
      "metadata": {
        "colab": {
          "base_uri": "https://localhost:8080/"
        },
        "id": "NLkhg8zrVsfJ",
        "outputId": "8ea2f453-9fae-4895-db70-725192084528"
      },
      "execution_count": null,
      "outputs": [
        {
          "output_type": "stream",
          "name": "stdout",
          "text": [
            "The third element of a tuple : 4\n"
          ]
        }
      ]
    },
    {
      "cell_type": "markdown",
      "source": [
        "### 3. Find the length of a tuple without using the `len()` function."
      ],
      "metadata": {
        "id": "Xw3PcjQgV8Iq"
      }
    },
    {
      "cell_type": "code",
      "source": [
        "tup=(1,2,3,4,5,6,7,8,9,10)\n",
        "count=0\n",
        "for _ in tup:\n",
        "  count+=1\n",
        "print(\"The length  of a tuple is :\",count)"
      ],
      "metadata": {
        "colab": {
          "base_uri": "https://localhost:8080/"
        },
        "id": "8GD_-oOjWBcl",
        "outputId": "b7971dda-77af-41ff-ae31-9759049210cd"
      },
      "execution_count": null,
      "outputs": [
        {
          "output_type": "stream",
          "name": "stdout",
          "text": [
            "The length  of a tuple is : 10\n"
          ]
        }
      ]
    },
    {
      "cell_type": "markdown",
      "source": [
        "### 4. Count the occurrences of an element in a tuple."
      ],
      "metadata": {
        "id": "RtGxPzLRWxAd"
      }
    },
    {
      "cell_type": "code",
      "source": [
        "tup=(11,21,31,21,41,41,21,51)\n",
        "element=21\n",
        "count=0\n",
        "for i in tup:\n",
        "  if i==element:\n",
        "    count+=1\n",
        "print(\"The occurance of a 21 element is :\",count)"
      ],
      "metadata": {
        "colab": {
          "base_uri": "https://localhost:8080/"
        },
        "id": "yUIV8BrHW4pR",
        "outputId": "8b3117a7-fb24-49e8-a7fb-99394aa8b710"
      },
      "execution_count": null,
      "outputs": [
        {
          "output_type": "stream",
          "name": "stdout",
          "text": [
            "The occurance of a 21 element is : 3\n"
          ]
        }
      ]
    },
    {
      "cell_type": "markdown",
      "source": [
        "### 5. Find the index of the first occurrence of an element in a tuple."
      ],
      "metadata": {
        "id": "mVF9A7-4XpMv"
      }
    },
    {
      "cell_type": "code",
      "source": [
        "tup=(10,20,30,40,50)\n",
        "my_tup=tup.index(20)\n",
        "print(\"The index of the first occurrence of an element in a tuple :\",my_tup)"
      ],
      "metadata": {
        "colab": {
          "base_uri": "https://localhost:8080/"
        },
        "id": "hhsbA7WOXoPR",
        "outputId": "65695859-4a6d-4da7-d286-e84cf3244947"
      },
      "execution_count": null,
      "outputs": [
        {
          "output_type": "stream",
          "name": "stdout",
          "text": [
            "The index of the first occurrence of an element in a tuple : 1\n"
          ]
        }
      ]
    },
    {
      "cell_type": "markdown",
      "source": [
        "## 6. Check if an element exists in a tuple."
      ],
      "metadata": {
        "id": "lC7UqLFYZNSR"
      }
    },
    {
      "cell_type": "code",
      "source": [
        "tup=(10,20,30,40,50)\n",
        "my_element=30\n",
        "if my_element in tup:\n",
        "\n",
        "    print(\"element is exist in a tuple\")\n",
        "else:\n",
        "    print(\"element is not exist in a tuple\")"
      ],
      "metadata": {
        "colab": {
          "base_uri": "https://localhost:8080/"
        },
        "id": "bkODL8DtZSvv",
        "outputId": "1789a155-0734-4200-93f6-04f59aefcafd"
      },
      "execution_count": null,
      "outputs": [
        {
          "output_type": "stream",
          "name": "stdout",
          "text": [
            "element is exist in a tuple\n"
          ]
        }
      ]
    },
    {
      "cell_type": "markdown",
      "source": [
        "### 7. Convert a tuple to a list."
      ],
      "metadata": {
        "id": "GqdVdqtraf-I"
      }
    },
    {
      "cell_type": "code",
      "source": [
        "tup=(1,2,3,4,5,6)\n",
        "lst=list(tup)\n",
        "print(lst)"
      ],
      "metadata": {
        "colab": {
          "base_uri": "https://localhost:8080/"
        },
        "id": "KKyc71s_afBt",
        "outputId": "c7cbe35f-7180-4012-a21e-5b7ee821475f"
      },
      "execution_count": null,
      "outputs": [
        {
          "output_type": "stream",
          "name": "stdout",
          "text": [
            "[1, 2, 3, 4, 5, 6]\n"
          ]
        }
      ]
    },
    {
      "cell_type": "markdown",
      "source": [
        "### 8. Convert a list to a tuple."
      ],
      "metadata": {
        "id": "AvjQ1jnZa5U9"
      }
    },
    {
      "cell_type": "code",
      "source": [
        "lst=[1,2,3,4,5]\n",
        "tup=tuple(lst)\n",
        "print(tup)"
      ],
      "metadata": {
        "colab": {
          "base_uri": "https://localhost:8080/"
        },
        "id": "pSuHkqfxbHGN",
        "outputId": "55d7cf22-f9a1-4a0b-e1ac-4b4e7ea50f8f"
      },
      "execution_count": null,
      "outputs": [
        {
          "output_type": "stream",
          "name": "stdout",
          "text": [
            "(1, 2, 3, 4, 5)\n"
          ]
        }
      ]
    },
    {
      "cell_type": "markdown",
      "source": [
        "### 9. Unpack the elements of a tuple into variables."
      ],
      "metadata": {
        "id": "VAW31HiJbisM"
      }
    },
    {
      "cell_type": "code",
      "source": [
        "my_tuple = (10, 20, 30)\n",
        "var1, var2, var3 = my_tuple\n",
        "print(\"var1:\", var1)\n",
        "print(\"var2:\", var2)\n",
        "print(\"var3:\", var3)"
      ],
      "metadata": {
        "colab": {
          "base_uri": "https://localhost:8080/"
        },
        "id": "-ZJhvAeAb4ku",
        "outputId": "a5fa1df4-705c-4c73-9216-d80b7b3b4544"
      },
      "execution_count": null,
      "outputs": [
        {
          "output_type": "stream",
          "name": "stdout",
          "text": [
            "var1: 10\n",
            "var2: 20\n",
            "var3: 30\n"
          ]
        }
      ]
    },
    {
      "cell_type": "markdown",
      "source": [
        "### 10. Create a tuple of even numbers from 1 to 10."
      ],
      "metadata": {
        "id": "OZIIXLvic6y5"
      }
    },
    {
      "cell_type": "code",
      "source": [
        "even_tup=tuple(i for i in range(2,11,2))\n",
        "print(\"The even numbers are:\",even_tup)\n"
      ],
      "metadata": {
        "colab": {
          "base_uri": "https://localhost:8080/"
        },
        "id": "46A7NuuDc6PS",
        "outputId": "60362e8e-ba71-4da5-c7ec-c35fa9edd6bf"
      },
      "execution_count": null,
      "outputs": [
        {
          "output_type": "stream",
          "name": "stdout",
          "text": [
            "The even numbers are: (2, 4, 6, 8, 10)\n"
          ]
        }
      ]
    },
    {
      "cell_type": "markdown",
      "source": [
        "### 11. Create a tuple of odd numbers from 1 to 10."
      ],
      "metadata": {
        "id": "6i_5bJMPfK8x"
      }
    },
    {
      "cell_type": "code",
      "source": [
        "odd_tup=tuple(i for i in range(1,11,2))\n",
        "print(\"The odd numbers are:\",odd_tup)"
      ],
      "metadata": {
        "colab": {
          "base_uri": "https://localhost:8080/"
        },
        "id": "Sg7ewVVjfXvl",
        "outputId": "8d75b111-8111-40e8-d3e7-e82196bec204"
      },
      "execution_count": null,
      "outputs": [
        {
          "output_type": "stream",
          "name": "stdout",
          "text": [
            "The odd numbers are: (1, 3, 5, 7, 9)\n"
          ]
        }
      ]
    },
    {
      "cell_type": "markdown",
      "source": [
        "### 12. Concatenate two tuples."
      ],
      "metadata": {
        "id": "UQNnt-jMfsvL"
      }
    },
    {
      "cell_type": "code",
      "source": [
        "tup1=(1,2,3)\n",
        "tup2=(4,5,6)\n",
        "tup3=tup1+tup2\n",
        "print(\"Concatination of two tuples are:\",tup3)"
      ],
      "metadata": {
        "colab": {
          "base_uri": "https://localhost:8080/"
        },
        "id": "fLl99z05f4ZS",
        "outputId": "22071612-9e95-44c0-d310-803406ea1b48"
      },
      "execution_count": null,
      "outputs": [
        {
          "output_type": "stream",
          "name": "stdout",
          "text": [
            "Concatination of two tuples are: (1, 2, 3, 4, 5, 6)\n"
          ]
        }
      ]
    },
    {
      "cell_type": "markdown",
      "source": [
        "### 13. Repeat a tuple three times."
      ],
      "metadata": {
        "id": "rQNTCUpzgItN"
      }
    },
    {
      "cell_type": "code",
      "source": [
        "tup1=(1,2,3)\n",
        "tup2=tup1*3\n",
        "print(tup2)"
      ],
      "metadata": {
        "colab": {
          "base_uri": "https://localhost:8080/"
        },
        "id": "LSP1JTmhgNht",
        "outputId": "85ef97b1-5932-49bd-d1cd-fe691c6526db"
      },
      "execution_count": null,
      "outputs": [
        {
          "output_type": "stream",
          "name": "stdout",
          "text": [
            "(1, 2, 3, 1, 2, 3, 1, 2, 3)\n"
          ]
        }
      ]
    },
    {
      "cell_type": "markdown",
      "source": [
        "### 14. Check if a tuple is empty."
      ],
      "metadata": {
        "id": "ULiq2pO7hOEE"
      }
    },
    {
      "cell_type": "code",
      "source": [
        "empty_tuple = ()\n",
        "non_empty_tuple = (1, 2, 3)\n",
        "\n",
        "if not empty_tuple:\n",
        "    print(\"The empty_tuple is empty.\")\n",
        "else:\n",
        "    print(\"The empty_tuple is not empty.\")\n",
        "\n",
        "if not non_empty_tuple:\n",
        "    print(\"The non_empty_tuple is empty.\")\n",
        "else:\n",
        "    print(\"The non_empty_tuple is not empty.\")"
      ],
      "metadata": {
        "colab": {
          "base_uri": "https://localhost:8080/"
        },
        "id": "J504JhP3hGbc",
        "outputId": "412cadd4-e733-4981-b9d4-c120a6f63b75"
      },
      "execution_count": null,
      "outputs": [
        {
          "output_type": "stream",
          "name": "stdout",
          "text": [
            "The empty_tuple is empty.\n",
            "The non_empty_tuple is not empty.\n"
          ]
        }
      ]
    },
    {
      "cell_type": "markdown",
      "source": [
        "### 15. Create a nested tuple."
      ],
      "metadata": {
        "id": "oUAbHJcThUnk"
      }
    },
    {
      "cell_type": "code",
      "source": [
        "nested_tuple = ((1, 2, 3), ('Dileep','Mohit','prasad'), (True, False))\n",
        "print(\"Nested tuple:\", nested_tuple)"
      ],
      "metadata": {
        "colab": {
          "base_uri": "https://localhost:8080/"
        },
        "id": "qEf8WjAnh4eq",
        "outputId": "97ddfa60-6ce1-4f39-a137-2624abbc35f1"
      },
      "execution_count": null,
      "outputs": [
        {
          "output_type": "stream",
          "name": "stdout",
          "text": [
            "Nested tuple: ((1, 2, 3), ('Dileep', 'Mohit', 'prasad'), (True, False))\n"
          ]
        }
      ]
    },
    {
      "cell_type": "markdown",
      "source": [
        "## 16. Access the first element of a nested tuple."
      ],
      "metadata": {
        "id": "PTflcWtvixOP"
      }
    },
    {
      "cell_type": "code",
      "source": [
        "nested_tuple = ((1, 2, 3), ('Dileep','Mohit','prasad'), (True, False))\n",
        "tup=nested_tuple[0]\n",
        "print(\"The first tuple of a nested tuple is:\",tup)"
      ],
      "metadata": {
        "colab": {
          "base_uri": "https://localhost:8080/"
        },
        "id": "JKrCm64yoFZj",
        "outputId": "35918426-7e5a-40f8-cbdd-5873666bf330"
      },
      "execution_count": null,
      "outputs": [
        {
          "output_type": "stream",
          "name": "stdout",
          "text": [
            "The first tuple of a nested tuple is: (1, 2, 3)\n"
          ]
        }
      ]
    },
    {
      "cell_type": "markdown",
      "source": [
        "### 17. Create a tuple with a single element."
      ],
      "metadata": {
        "id": "J2702uQIpe7p"
      }
    },
    {
      "cell_type": "code",
      "source": [
        "tup=(23,)\n",
        "print(tup)\n",
        "print(type(tup))"
      ],
      "metadata": {
        "colab": {
          "base_uri": "https://localhost:8080/"
        },
        "id": "58IW1Gk_picx",
        "outputId": "e6d528e7-f069-4a44-e482-ee6dbed2d4ad"
      },
      "execution_count": null,
      "outputs": [
        {
          "output_type": "stream",
          "name": "stdout",
          "text": [
            "(23,)\n",
            "<class 'tuple'>\n"
          ]
        }
      ]
    },
    {
      "cell_type": "markdown",
      "source": [
        "### 18. Compare two tuples."
      ],
      "metadata": {
        "id": "tfuYOvNSp4sD"
      }
    },
    {
      "cell_type": "code",
      "source": [
        "tuple1 = (1, 2, 3)\n",
        "tuple2 = (1, 2, 4)\n",
        "print(\"tuple1 == tuple2:\", tuple1 == tuple2)\n",
        "print(\"tuple1 != tuple2:\", tuple1 != tuple2)\n",
        "print(\"tuple1 < tuple2:\", tuple1 < tuple2)\n",
        "print(\"tuple1 <= tuple2:\", tuple1 <= tuple2)\n",
        "print(\"tuple1 > tuple2:\", tuple1 > tuple2)\n",
        "print(\"tuple1 >= tuple2:\", tuple1 >= tuple2)"
      ],
      "metadata": {
        "colab": {
          "base_uri": "https://localhost:8080/"
        },
        "id": "gMxvMtiwp8kX",
        "outputId": "3396de43-f344-47e7-bf81-a7c6bd58be89"
      },
      "execution_count": null,
      "outputs": [
        {
          "output_type": "stream",
          "name": "stdout",
          "text": [
            "tuple1 == tuple2: False\n",
            "tuple1 != tuple2: True\n",
            "tuple1 < tuple2: True\n",
            "tuple1 <= tuple2: True\n",
            "tuple1 > tuple2: False\n",
            "tuple1 >= tuple2: False\n"
          ]
        }
      ]
    },
    {
      "cell_type": "markdown",
      "source": [
        "### 19. Delete a tuple."
      ],
      "metadata": {
        "id": "szaxBDA9qXij"
      }
    },
    {
      "cell_type": "code",
      "source": [
        "tup=(12,23,45,67,87,65,34)\n",
        "del tup"
      ],
      "metadata": {
        "id": "FkkTM0qmqc4w"
      },
      "execution_count": null,
      "outputs": []
    },
    {
      "cell_type": "markdown",
      "source": [
        "### 20. Slice a tuple."
      ],
      "metadata": {
        "id": "tLzv6HuErEAq"
      }
    },
    {
      "cell_type": "code",
      "source": [
        "tup=(12,23,45,67,87,65,34)\n",
        "slice_tup=tup[2:6]\n",
        "print(\"Slicing of a tupe is :\",slice_tup)"
      ],
      "metadata": {
        "colab": {
          "base_uri": "https://localhost:8080/"
        },
        "id": "V61KK9W3rI80",
        "outputId": "114b2d1b-b3c7-4995-9e02-c290f191a296"
      },
      "execution_count": null,
      "outputs": [
        {
          "output_type": "stream",
          "name": "stdout",
          "text": [
            "Slicing of a tupe is : (45, 67, 87, 65)\n"
          ]
        }
      ]
    },
    {
      "cell_type": "markdown",
      "source": [
        "### 21. Find the maximum value in a tuple."
      ],
      "metadata": {
        "id": "qWhZkdvkrpKt"
      }
    },
    {
      "cell_type": "code",
      "source": [
        "tup=(12,23,45,67,87,65,34)\n",
        "max_tup=max(tup)\n",
        "print(\"The maximun value in the tupe is :\",max_tup)"
      ],
      "metadata": {
        "colab": {
          "base_uri": "https://localhost:8080/"
        },
        "id": "jfIm7yfhruYQ",
        "outputId": "8a7506d5-adde-4a9c-fb63-042465dd96de"
      },
      "execution_count": null,
      "outputs": [
        {
          "output_type": "stream",
          "name": "stdout",
          "text": [
            "The maximun value in the tupe is : 87\n"
          ]
        }
      ]
    },
    {
      "cell_type": "markdown",
      "source": [
        "### 22. Find the minimum value in a tuple."
      ],
      "metadata": {
        "id": "mKxh0vbWr-lG"
      }
    },
    {
      "cell_type": "code",
      "source": [
        "tup=(12,23,45,67,87,65,34)\n",
        "max_tup=min(tup)\n",
        "print(\"The maximun value in the tupe is :\",max_tup)"
      ],
      "metadata": {
        "colab": {
          "base_uri": "https://localhost:8080/"
        },
        "id": "zKKNPsgUsHqv",
        "outputId": "f0eb0026-6202-4286-fc63-169f34032010"
      },
      "execution_count": null,
      "outputs": [
        {
          "output_type": "stream",
          "name": "stdout",
          "text": [
            "The maximun value in the tupe is : 12\n"
          ]
        }
      ]
    },
    {
      "cell_type": "markdown",
      "source": [
        "### 23. Convert a string to a tuple of characters."
      ],
      "metadata": {
        "id": "lAwA2aMasMan"
      }
    },
    {
      "cell_type": "code",
      "source": [
        "string=\"Dileep\"\n",
        "tup=tuple(string)\n",
        "print(\"string to a tuple of characters:\",tup)"
      ],
      "metadata": {
        "colab": {
          "base_uri": "https://localhost:8080/"
        },
        "id": "kbfsz_7-sXT-",
        "outputId": "38e00b00-bc2f-4206-a024-09fe15f1a66d"
      },
      "execution_count": null,
      "outputs": [
        {
          "output_type": "stream",
          "name": "stdout",
          "text": [
            "string to a tuple of characters: ('D', 'i', 'l', 'e', 'e', 'p')\n"
          ]
        }
      ]
    },
    {
      "cell_type": "markdown",
      "source": [
        "### 24. Convert a tuple of characters to a string."
      ],
      "metadata": {
        "id": "1SnkB6cAs531"
      }
    },
    {
      "cell_type": "code",
      "source": [
        "tup=('D', 'i', 'l', 'e', 'e', 'p')\n",
        "string=\"\".join(tup)\n",
        "print(\" tuple of characters to a string:\",string)"
      ],
      "metadata": {
        "colab": {
          "base_uri": "https://localhost:8080/"
        },
        "id": "2C_mG9nDtCgV",
        "outputId": "67c1f60e-2416-44ff-953f-e1adef8672c6"
      },
      "execution_count": null,
      "outputs": [
        {
          "output_type": "stream",
          "name": "stdout",
          "text": [
            " tuple of characters to a string: Dileep\n"
          ]
        }
      ]
    },
    {
      "cell_type": "markdown",
      "source": [
        "### 25. Create a tuple from multiple data types."
      ],
      "metadata": {
        "id": "iBy28lsEtU5W"
      }
    },
    {
      "cell_type": "code",
      "source": [
        "tup=(1,3.4,\"prasad\",True)\n",
        "print(tup)"
      ],
      "metadata": {
        "colab": {
          "base_uri": "https://localhost:8080/"
        },
        "id": "Q4faZf60tiQY",
        "outputId": "9f10d904-7782-4ff4-98e4-7c6b83e7eef0"
      },
      "execution_count": null,
      "outputs": [
        {
          "output_type": "stream",
          "name": "stdout",
          "text": [
            "(1, 3.4, 'prasad', True)\n"
          ]
        }
      ]
    },
    {
      "cell_type": "markdown",
      "source": [
        "### 26. Check if two tuples are identical."
      ],
      "metadata": {
        "id": "sZ-LJ6u1tylO"
      }
    },
    {
      "cell_type": "code",
      "source": [
        "tuple1 = (1, 2, 3)\n",
        "tuple2 = (1, 2, 3)\n",
        "tuple3 = (4, 5, 6)\n",
        "are_identical1 = tuple1 == tuple2\n",
        "are_identical2 = tuple1 == tuple3\n",
        "print(\"tuple1 and tuple2 are identical:\", are_identical1)\n",
        "print(\"tuple1 and tuple3 are identical:\", are_identical2)"
      ],
      "metadata": {
        "colab": {
          "base_uri": "https://localhost:8080/"
        },
        "id": "N797wpKCt3LU",
        "outputId": "5c355c8c-71bc-4931-8d5a-947d458255f9"
      },
      "execution_count": null,
      "outputs": [
        {
          "output_type": "stream",
          "name": "stdout",
          "text": [
            "tuple1 and tuple2 are identical: True\n",
            "tuple1 and tuple3 are identical: False\n"
          ]
        }
      ]
    },
    {
      "cell_type": "markdown",
      "source": [
        "### 27. Sort the elements of a tuple."
      ],
      "metadata": {
        "id": "RWhikndJuIhB"
      }
    },
    {
      "cell_type": "code",
      "source": [
        "tup=(12,23,45,67,87,65,34)\n",
        "print(tuple(sorted(tup)))\n"
      ],
      "metadata": {
        "colab": {
          "base_uri": "https://localhost:8080/"
        },
        "id": "czfxUwQUuKwb",
        "outputId": "604a5dc7-d58b-43e2-827f-4161e954952f"
      },
      "execution_count": null,
      "outputs": [
        {
          "output_type": "stream",
          "name": "stdout",
          "text": [
            "(12, 23, 34, 45, 65, 67, 87)\n"
          ]
        }
      ]
    },
    {
      "cell_type": "markdown",
      "source": [
        "### 28. Convert a tuple of integers to a tuple of strings."
      ],
      "metadata": {
        "id": "dAA5eykYv5Fi"
      }
    },
    {
      "cell_type": "code",
      "source": [
        "tup_int=(1,2,3,4,5)\n",
        "lst=[]\n",
        "for i in tup_int:\n",
        "  i=str(i)\n",
        "  lst.append(i)\n",
        "print(tuple(lst))\n"
      ],
      "metadata": {
        "colab": {
          "base_uri": "https://localhost:8080/"
        },
        "id": "kSh0G6kcwFBJ",
        "outputId": "943fef72-21cc-4cca-f04d-f15b71ad0621"
      },
      "execution_count": null,
      "outputs": [
        {
          "output_type": "stream",
          "name": "stdout",
          "text": [
            "('1', '2', '3', '4', '5')\n"
          ]
        }
      ]
    },
    {
      "cell_type": "markdown",
      "source": [
        "### 29. Convert a tuple of strings to a tuple of integers."
      ],
      "metadata": {
        "id": "kdLdOrlIxN7D"
      }
    },
    {
      "cell_type": "code",
      "source": [
        "tup_str=('1', '2', '3', '4', '5')\n",
        "lst=[]\n",
        "for i in tup_int:\n",
        "  i=int(i)\n",
        "  lst.append(i)\n",
        "print(tuple(lst))"
      ],
      "metadata": {
        "colab": {
          "base_uri": "https://localhost:8080/"
        },
        "id": "8UV8SmOBxSNI",
        "outputId": "d8e454dc-6a44-44d9-8704-253e89f16897"
      },
      "execution_count": null,
      "outputs": [
        {
          "output_type": "stream",
          "name": "stdout",
          "text": [
            "(1, 2, 3, 4, 5)\n"
          ]
        }
      ]
    },
    {
      "cell_type": "markdown",
      "source": [
        "### 30.Merge of two tuple"
      ],
      "metadata": {
        "id": "691IW_ypxfaW"
      }
    },
    {
      "cell_type": "code",
      "source": [
        "tuple1 = (1, 2, 3)\n",
        "tuple2 = (4, 5, 6)\n",
        "merged_tuple = tuple1 + tuple2\n",
        "print(\"Merged tuple:\", merged_tuple)"
      ],
      "metadata": {
        "colab": {
          "base_uri": "https://localhost:8080/"
        },
        "id": "aTmfiL_6xtVC",
        "outputId": "4850ce1f-3b5f-4a18-8992-9ba84911cc1d"
      },
      "execution_count": null,
      "outputs": [
        {
          "output_type": "stream",
          "name": "stdout",
          "text": [
            "Merged tuple: (1, 2, 3, 4, 5, 6)\n"
          ]
        }
      ]
    },
    {
      "cell_type": "markdown",
      "source": [
        "### 31. Flatten a nested tuple."
      ],
      "metadata": {
        "id": "5w1a1K9xuHdp"
      }
    },
    {
      "cell_type": "code",
      "source": [
        "def flatten_tuple(nested_tuple):\n",
        "    flattened = []\n",
        "    for item in nested_tuple:\n",
        "        if isinstance(item, tuple):\n",
        "            flattened.extend(flatten_tuple(item))\n",
        "        else:\n",
        "            flattened.append(item)\n",
        "    return flattened\n",
        "\n",
        "nested_tuple = ((1, 2), (3, 4, 5), (6, (7, 8)))\n",
        "flattened_tuple = tuple(flatten_tuple(nested_tuple))\n",
        "print(\"Flattened tuple:\", flattened_tuple)"
      ],
      "metadata": {
        "colab": {
          "base_uri": "https://localhost:8080/"
        },
        "id": "_bVbgJzQyDBa",
        "outputId": "c0318081-5052-4f8a-eff7-a95347aaf008"
      },
      "execution_count": null,
      "outputs": [
        {
          "output_type": "stream",
          "name": "stdout",
          "text": [
            "Flattened tuple: (1, 2, 3, 4, 5, 6, 7, 8)\n"
          ]
        }
      ]
    },
    {
      "cell_type": "markdown",
      "source": [
        "### 32. Create a tuple of the first 5 prime numbers."
      ],
      "metadata": {
        "id": "WPENB0cu2Ohf"
      }
    },
    {
      "cell_type": "code",
      "source": [
        "prime_numbers = []\n",
        "number = 2\n",
        "\n",
        "while len(prime_numbers) < 5:\n",
        "    is_prime = True\n",
        "    for i in range(2, int(number**0.5) + 1):\n",
        "        if number % i == 0:\n",
        "            is_prime = False\n",
        "            break\n",
        "    if is_prime:\n",
        "        prime_numbers.append(number)\n",
        "    number += 1\n",
        "prime_numbers_tuple = tuple(prime_numbers)\n",
        "\n",
        "print(prime_numbers_tuple)"
      ],
      "metadata": {
        "colab": {
          "base_uri": "https://localhost:8080/"
        },
        "id": "ae7BkOSE2Smm",
        "outputId": "6b30ef1c-fcb1-478c-a77b-cc62f75379fc"
      },
      "execution_count": null,
      "outputs": [
        {
          "output_type": "stream",
          "name": "stdout",
          "text": [
            "(2, 3, 5, 7, 11)\n"
          ]
        }
      ]
    },
    {
      "cell_type": "markdown",
      "source": [
        "### 33. Check if a tuple is a palindrome."
      ],
      "metadata": {
        "id": "O2BDPoBX3bKR"
      }
    },
    {
      "cell_type": "code",
      "source": [
        "tup=(1,2,3,2,1)\n",
        "rev_tup=tup[::-1]\n",
        "if tup==rev_tup:\n",
        "  print(\"Given tuple is palindrome\")\n",
        "else:\n",
        "  print(\"Given tuple is not an palinndrome\")"
      ],
      "metadata": {
        "colab": {
          "base_uri": "https://localhost:8080/"
        },
        "id": "mUxMWJgo3lGm",
        "outputId": "324d1474-95e4-4272-8df6-178c181de695"
      },
      "execution_count": null,
      "outputs": [
        {
          "output_type": "stream",
          "name": "stdout",
          "text": [
            "Given tuple is palindrome\n"
          ]
        }
      ]
    },
    {
      "cell_type": "markdown",
      "source": [
        "### 34. Create a tuple of squares of numbers from 1 to 5."
      ],
      "metadata": {
        "id": "0CfhcScX4EWt"
      }
    },
    {
      "cell_type": "code",
      "source": [
        "lst=[]\n",
        "for i in range(1,6):\n",
        "  i=i*i\n",
        "  lst.append(i)\n",
        "print(tuple(lst))"
      ],
      "metadata": {
        "colab": {
          "base_uri": "https://localhost:8080/"
        },
        "id": "khWLgNzn4D4F",
        "outputId": "24a4ade4-daa7-4ef4-d688-68b782fb1e5b"
      },
      "execution_count": null,
      "outputs": [
        {
          "output_type": "stream",
          "name": "stdout",
          "text": [
            "(1, 4, 9, 16, 25)\n"
          ]
        }
      ]
    },
    {
      "cell_type": "markdown",
      "source": [
        "### 35. Filter out all even numbers from a tuple."
      ],
      "metadata": {
        "id": "9q3jF3iM5pz1"
      }
    },
    {
      "cell_type": "code",
      "source": [
        "tup=(1,2,3,4,5,6,7,8,9,10)\n",
        "lst=[]\n",
        "for i in tup:\n",
        "  if i%2!=0:\n",
        "    lst.append(i)\n",
        "print(tuple(lst))\n"
      ],
      "metadata": {
        "colab": {
          "base_uri": "https://localhost:8080/"
        },
        "id": "h3XtRZ043fbD",
        "outputId": "8dd52d91-f175-411b-f06c-223cca2b8bf6"
      },
      "execution_count": null,
      "outputs": [
        {
          "output_type": "stream",
          "name": "stdout",
          "text": [
            "(1, 3, 5, 7, 9)\n"
          ]
        }
      ]
    },
    {
      "cell_type": "markdown",
      "source": [
        "### 36. Multiply all elements in a tuple by 2."
      ],
      "metadata": {
        "id": "GD1Mg91O6ZkL"
      }
    },
    {
      "cell_type": "code",
      "source": [
        "tup=(1,2,3,4,5,6,7,8,9,10)\n",
        "lst=[]\n",
        "for i in tup:\n",
        "  i=i*2\n",
        "  lst.append(i)\n",
        "print(tuple(lst))"
      ],
      "metadata": {
        "colab": {
          "base_uri": "https://localhost:8080/"
        },
        "id": "u_4h6my16d73",
        "outputId": "a801ef49-8188-4d7b-b5f9-e4c7c3bae76b"
      },
      "execution_count": null,
      "outputs": [
        {
          "output_type": "stream",
          "name": "stdout",
          "text": [
            "(2, 4, 6, 8, 10, 12, 14, 16, 18, 20)\n"
          ]
        }
      ]
    },
    {
      "cell_type": "markdown",
      "source": [
        "### 37. Create a tuple of random numbers."
      ],
      "metadata": {
        "id": "1x_zM7Wm65KI"
      }
    },
    {
      "cell_type": "code",
      "source": [
        "import random\n",
        "random_tuple = tuple(random.randint(1, 100) for _ in range(10))\n",
        "print(\"Random tuple:\", random_tuple)"
      ],
      "metadata": {
        "colab": {
          "base_uri": "https://localhost:8080/"
        },
        "id": "nc6RRfmC67LF",
        "outputId": "29479bf1-e76e-4822-b704-f317c85bbfe5"
      },
      "execution_count": null,
      "outputs": [
        {
          "output_type": "stream",
          "name": "stdout",
          "text": [
            "Random tuple: (39, 88, 8, 99, 69, 18, 74, 65, 77, 34)\n"
          ]
        }
      ]
    },
    {
      "cell_type": "markdown",
      "source": [
        "### 38. Check if a tuple is sorted."
      ],
      "metadata": {
        "id": "-w2Bj1aj7FC2"
      }
    },
    {
      "cell_type": "code",
      "source": [
        "my_tuple = (1, 3, 5, 7, 9)\n",
        "\n",
        "\n",
        "is_sorted = True\n",
        "length = len(my_tuple)\n",
        "\n",
        "for i in range(length - 1):\n",
        "    if my_tuple[i] > my_tuple[i + 1]:\n",
        "        is_sorted = False\n",
        "        break\n",
        "\n",
        "if is_sorted:\n",
        "    print(\"The tuple is sorted.\")\n",
        "else:\n",
        "    print(\"The tuple is not sorted.\")"
      ],
      "metadata": {
        "colab": {
          "base_uri": "https://localhost:8080/"
        },
        "id": "FcBcOv837QTZ",
        "outputId": "7afdb59f-b283-416c-ffe9-fe5cb269fd3e"
      },
      "execution_count": null,
      "outputs": [
        {
          "output_type": "stream",
          "name": "stdout",
          "text": [
            "The tuple is sorted.\n"
          ]
        }
      ]
    },
    {
      "cell_type": "markdown",
      "source": [
        "### 39. Rotate a tuple to the left by `n` positions."
      ],
      "metadata": {
        "id": "zKsdiDhC9KuH"
      }
    },
    {
      "cell_type": "code",
      "source": [
        "tup=(1,2,3,4,5)\n",
        "n=2\n",
        "n = n % len(tup)\n",
        "rotated_tup = tup[n:] + tup[:n]\n",
        "\n",
        "print(rotated_tup)"
      ],
      "metadata": {
        "colab": {
          "base_uri": "https://localhost:8080/"
        },
        "id": "ZrhUF5KB9Qd-",
        "outputId": "01cf3e7b-ad75-45d9-c329-305105c891bf"
      },
      "execution_count": null,
      "outputs": [
        {
          "output_type": "stream",
          "name": "stdout",
          "text": [
            "(3, 4, 5, 1, 2)\n"
          ]
        }
      ]
    },
    {
      "cell_type": "markdown",
      "source": [
        "### 40. Rotate a tuple to the right by `n` positions."
      ],
      "metadata": {
        "id": "mBVESE8M_LNY"
      }
    },
    {
      "cell_type": "code",
      "source": [
        "tup=(1,2,3,4,5)\n",
        "n=2\n",
        "n = n % len(tup)\n",
        "rotated_tup = tup[-n:] + tup[:-n]\n",
        "\n",
        "print(rotated_tup)"
      ],
      "metadata": {
        "colab": {
          "base_uri": "https://localhost:8080/"
        },
        "id": "vwxoQ2yB_LnK",
        "outputId": "f0128913-c57f-45f6-e00c-6a20f932eeeb"
      },
      "execution_count": null,
      "outputs": [
        {
          "output_type": "stream",
          "name": "stdout",
          "text": [
            "(4, 5, 1, 2, 3)\n"
          ]
        }
      ]
    },
    {
      "cell_type": "markdown",
      "source": [
        "### 41. Create a tuple of the first 5 Fibonacci numbers."
      ],
      "metadata": {
        "id": "qMF3iBif6dqL"
      }
    },
    {
      "cell_type": "code",
      "source": [
        "n = 5\n",
        "fibonacci_sequence = [0, 1]\n",
        "for i in range(2, n):\n",
        "    next_fibonacci = fibonacci_sequence[i - 1] + fibonacci_sequence[i - 2]\n",
        "    fibonacci_sequence.append(next_fibonacci)\n",
        "print(\"tuple of the first 10 Fibonacci numbers are:\",(tuple(fibonacci_sequence)))"
      ],
      "metadata": {
        "colab": {
          "base_uri": "https://localhost:8080/"
        },
        "id": "yKdhdtNB6rft",
        "outputId": "ba3badae-7d64-48f7-9dfd-74fc905fe3fa"
      },
      "execution_count": null,
      "outputs": [
        {
          "output_type": "stream",
          "name": "stdout",
          "text": [
            "tuple of the first 10 Fibonacci numbers are: (0, 1, 1, 2, 3)\n"
          ]
        }
      ]
    },
    {
      "cell_type": "markdown",
      "source": [
        "### 42. Create a tuple from user input."
      ],
      "metadata": {
        "id": "tuiRkkgL8mUs"
      }
    },
    {
      "cell_type": "code",
      "source": [
        "input_str = input(\"Enter elements separated by commas: \")\n",
        "input_list = input_str.split(',')\n",
        "user_tuple = tuple(input_list)\n",
        "print(\"User input tuple:\", user_tuple)"
      ],
      "metadata": {
        "colab": {
          "base_uri": "https://localhost:8080/"
        },
        "id": "tUfdoRQ09Jla",
        "outputId": "0594c5a1-d684-4807-fa89-5bed8f7cd72f"
      },
      "execution_count": null,
      "outputs": [
        {
          "output_type": "stream",
          "name": "stdout",
          "text": [
            "Enter elements separated by commas: 34,,564,23,53,23\n",
            "User input tuple: ('34', '', '564', '23', '53', '23')\n"
          ]
        }
      ]
    },
    {
      "cell_type": "markdown",
      "source": [
        "### 43. Swap two elements in a tuple."
      ],
      "metadata": {
        "id": "FD2DD0A1FsQj"
      }
    },
    {
      "cell_type": "code",
      "source": [
        "tup=(1,2,3,4,5)\n",
        "index1=1\n",
        "index2=3\n",
        "lst=list(tup)\n",
        "lst[index1],lst[index2]=lst[index2],lst[index1]\n",
        "print(tuple(lst))"
      ],
      "metadata": {
        "colab": {
          "base_uri": "https://localhost:8080/"
        },
        "id": "cMKW9WqvFwWQ",
        "outputId": "3b4aee33-e485-47a5-bee3-053b8d337d69"
      },
      "execution_count": null,
      "outputs": [
        {
          "output_type": "stream",
          "name": "stdout",
          "text": [
            "(1, 4, 3, 2, 5)\n"
          ]
        }
      ]
    },
    {
      "cell_type": "markdown",
      "source": [
        "### 44. Reverse the elements of a tuple."
      ],
      "metadata": {
        "id": "_atUnGyz83k2"
      }
    },
    {
      "cell_type": "code",
      "source": [
        "tup=(1,2,3,4,5)\n",
        "tup1=tup[::-1]\n",
        "print(\"The reverse of the tuple is:\",tup1)"
      ],
      "metadata": {
        "colab": {
          "base_uri": "https://localhost:8080/"
        },
        "id": "gGJay57qIaR1",
        "outputId": "3610786c-69bb-4b22-9c4b-0d59de9a47da"
      },
      "execution_count": null,
      "outputs": [
        {
          "output_type": "stream",
          "name": "stdout",
          "text": [
            "The reverse of the tuple is: (5, 4, 3, 2, 1)\n"
          ]
        }
      ]
    },
    {
      "cell_type": "markdown",
      "source": [
        "### 45. Create a tuple of the first `n` powers of 2."
      ],
      "metadata": {
        "id": "zwYoG6QVIpc9"
      }
    },
    {
      "cell_type": "code",
      "source": [
        "lst=[]\n",
        "for i in range(1,6):\n",
        "  i=i**2\n",
        "  lst.append(i)\n",
        "print(\" tuple of the first 5 powers of 2 :\",tuple(lst))"
      ],
      "metadata": {
        "colab": {
          "base_uri": "https://localhost:8080/"
        },
        "id": "SLPtYGmWIzyo",
        "outputId": "d503cc1f-fc64-4c00-9423-1d1ebc9582b1"
      },
      "execution_count": null,
      "outputs": [
        {
          "output_type": "stream",
          "name": "stdout",
          "text": [
            " tuple of the first 5 powers of 2 : (1, 4, 9, 16, 25)\n"
          ]
        }
      ]
    },
    {
      "cell_type": "markdown",
      "source": [
        "### 46. Find the longest string in a tuple of strings"
      ],
      "metadata": {
        "id": "-K0o7chrJUWk"
      }
    },
    {
      "cell_type": "code",
      "source": [
        "string_tuple = (\"apple\", \"banana\", \"grape\", \"kiwi\", \"watermelon\")\n",
        "longest_string = max(string_tuple)\n",
        "print(\"Longest string:\", longest_string)"
      ],
      "metadata": {
        "colab": {
          "base_uri": "https://localhost:8080/"
        },
        "id": "qclPFct3Jp4V",
        "outputId": "ff0e8175-4c8b-4844-f195-1bca53653643"
      },
      "execution_count": null,
      "outputs": [
        {
          "output_type": "stream",
          "name": "stdout",
          "text": [
            "Longest string: watermelon\n"
          ]
        }
      ]
    },
    {
      "cell_type": "markdown",
      "source": [
        "### 47. Find the shortest string in a tuple of strings."
      ],
      "metadata": {
        "id": "vgH3Pwp8J4Hu"
      }
    },
    {
      "cell_type": "code",
      "source": [
        "string_tuple = (\"apple\", \"banana\", \"grape\", \"kiwi\", \"watermelon\")\n",
        "longest_string = min(string_tuple,key=len)\n",
        "print(\"Longest string:\", longest_string)"
      ],
      "metadata": {
        "colab": {
          "base_uri": "https://localhost:8080/"
        },
        "id": "w-1VLFBbJ8Ol",
        "outputId": "9025abeb-7c6a-49e2-f607-7d8b756fea67"
      },
      "execution_count": null,
      "outputs": [
        {
          "output_type": "stream",
          "name": "stdout",
          "text": [
            "Longest string: kiwi\n"
          ]
        }
      ]
    },
    {
      "cell_type": "markdown",
      "source": [
        "### 48. Create a tuple of the first `n` triangular numbers."
      ],
      "metadata": {
        "id": "f1zi45ydKWow"
      }
    },
    {
      "cell_type": "code",
      "source": [
        "lst=[]\n",
        "for i in range(1,6):\n",
        "  i=i*(i+1)//2\n",
        "  lst.append(i)\n",
        "print(tuple(lst))"
      ],
      "metadata": {
        "colab": {
          "base_uri": "https://localhost:8080/"
        },
        "id": "BZhZUwoyKa0b",
        "outputId": "5159be7d-3820-4b03-da7a-da07b230f3ab"
      },
      "execution_count": null,
      "outputs": [
        {
          "output_type": "stream",
          "name": "stdout",
          "text": [
            "(1, 3, 6, 10, 15)\n"
          ]
        }
      ]
    },
    {
      "cell_type": "markdown",
      "source": [
        "### 49. Check if a tuple contains another tuple as a subsequence."
      ],
      "metadata": {
        "id": "Vqj-Bay7K7FH"
      }
    },
    {
      "cell_type": "code",
      "source": [
        "original_tuple = (1, 2, 3, 4, 5, 6, 7)\n",
        "subsequence_tuple = (3, 4, 5)\n",
        "\n",
        "for i in range(len(original_tuple) - len(subsequence_tuple) + 1):\n",
        "    if original_tuple[i:i + len(subsequence_tuple)] == subsequence_tuple:\n",
        "        print(\"Subsequence found at index\", i)\n",
        "        break\n",
        "else:\n",
        "    print(\"Subsequence not found\")"
      ],
      "metadata": {
        "colab": {
          "base_uri": "https://localhost:8080/"
        },
        "id": "L2X-Ej5OLAiL",
        "outputId": "853cf7e2-5743-4f22-b16c-12b973f6508a"
      },
      "execution_count": null,
      "outputs": [
        {
          "output_type": "stream",
          "name": "stdout",
          "text": [
            "Subsequence found at index 2\n"
          ]
        }
      ]
    },
    {
      "cell_type": "markdown",
      "source": [
        "### 50. Create a tuple of alternating 1s and 0s of length `n`."
      ],
      "metadata": {
        "id": "SpplBsmNMDLL"
      }
    },
    {
      "cell_type": "code",
      "source": [
        "lst=[]\n",
        "n=10\n",
        "for i in range(1,n):\n",
        "    lst.append(i%2)\n",
        "print(tuple(lst))"
      ],
      "metadata": {
        "colab": {
          "base_uri": "https://localhost:8080/"
        },
        "id": "kfr8ydhgMIFX",
        "outputId": "eb59d06b-4674-465c-af70-02466ba118cb"
      },
      "execution_count": null,
      "outputs": [
        {
          "output_type": "stream",
          "name": "stdout",
          "text": [
            "(1, 0, 1, 0, 1, 0, 1, 0, 1)\n"
          ]
        }
      ]
    },
    {
      "cell_type": "markdown",
      "source": [
        "# Set based problems:"
      ],
      "metadata": {
        "id": "18-6G6YTPfgv"
      }
    },
    {
      "cell_type": "markdown",
      "source": [
        "### 1. Create a set with integers from 1 to 5"
      ],
      "metadata": {
        "id": "BJRumwMvPjkS"
      }
    },
    {
      "cell_type": "code",
      "source": [
        "my_set=set()\n",
        "for i in range(1,6):\n",
        "  my_set.add(i)\n",
        "print(my_set)"
      ],
      "metadata": {
        "colab": {
          "base_uri": "https://localhost:8080/"
        },
        "id": "87hvXP1YPpjL",
        "outputId": "b98ded81-4760-4ef0-b384-857e663c545d"
      },
      "execution_count": null,
      "outputs": [
        {
          "output_type": "stream",
          "name": "stdout",
          "text": [
            "{1, 2, 3, 4, 5}\n"
          ]
        }
      ]
    },
    {
      "cell_type": "markdown",
      "source": [
        "### 2. Add an element to a set"
      ],
      "metadata": {
        "id": "kH6_PFCgQTmI"
      }
    },
    {
      "cell_type": "code",
      "source": [
        "my_set={1,2,3,4,5}\n",
        "my_set.add(6)\n",
        "print(my_set)"
      ],
      "metadata": {
        "colab": {
          "base_uri": "https://localhost:8080/"
        },
        "id": "ixJGMblgQduT",
        "outputId": "5100cad4-0fc4-45d8-8864-34b91359dbf6"
      },
      "execution_count": null,
      "outputs": [
        {
          "output_type": "stream",
          "name": "stdout",
          "text": [
            "{1, 2, 3, 4, 5, 6}\n"
          ]
        }
      ]
    },
    {
      "cell_type": "markdown",
      "source": [
        "### 3. Remove an element from a set"
      ],
      "metadata": {
        "id": "sYZ7Nr4AQoaf"
      }
    },
    {
      "cell_type": "code",
      "source": [
        "my_set={1,2,3,4,5}\n",
        "my_set.remove(5)\n",
        "print(my_set)"
      ],
      "metadata": {
        "colab": {
          "base_uri": "https://localhost:8080/"
        },
        "id": "ZMjHBhc-Q6sA",
        "outputId": "75debdc6-9a46-46ef-90de-4589b0fac569"
      },
      "execution_count": null,
      "outputs": [
        {
          "output_type": "stream",
          "name": "stdout",
          "text": [
            "{1, 2, 3, 4}\n"
          ]
        }
      ]
    },
    {
      "cell_type": "markdown",
      "source": [
        "### 4. Check if an element exists in a set."
      ],
      "metadata": {
        "id": "LgPY5HkQRPcc"
      }
    },
    {
      "cell_type": "code",
      "source": [
        "my_set={1,2,3,4,5}\n",
        "element=int(input(\"enter the element:\"))\n",
        "if element in my_set:\n",
        "  print(\"Element exist in the set\")\n",
        "else:\n",
        "  print(\"Element not exist in the set\")"
      ],
      "metadata": {
        "colab": {
          "base_uri": "https://localhost:8080/"
        },
        "id": "xIzWM_c7RXjj",
        "outputId": "63d1ee0c-aaec-4f56-f456-d5898c5da0ca"
      },
      "execution_count": null,
      "outputs": [
        {
          "output_type": "stream",
          "name": "stdout",
          "text": [
            "enter the element:3\n",
            "Element exist in the set\n"
          ]
        }
      ]
    },
    {
      "cell_type": "markdown",
      "source": [
        "### 5. Find the length of a set without using the `len()` function"
      ],
      "metadata": {
        "id": "d_rSGANuR3gy"
      }
    },
    {
      "cell_type": "code",
      "source": [
        "my_set={1,2,3,4,5}\n",
        "count=0\n",
        "for i in my_set:\n",
        "  count+=1\n",
        "print(\" the length of a set is\",count)"
      ],
      "metadata": {
        "colab": {
          "base_uri": "https://localhost:8080/"
        },
        "id": "I2mLj14gSSR_",
        "outputId": "6f8e115b-a283-4443-ec8d-770d0b42beef"
      },
      "execution_count": null,
      "outputs": [
        {
          "output_type": "stream",
          "name": "stdout",
          "text": [
            " the length of a set is 5\n"
          ]
        }
      ]
    },
    {
      "cell_type": "markdown",
      "source": [
        "### 6. Clear all elements from a set."
      ],
      "metadata": {
        "id": "KE26Jgo7SiwP"
      }
    },
    {
      "cell_type": "code",
      "source": [
        "set_num={12,34,45,65,23,75,86}\n",
        "set_num.clear()\n",
        "print(set_num)"
      ],
      "metadata": {
        "colab": {
          "base_uri": "https://localhost:8080/"
        },
        "id": "ce6fTQKlSntb",
        "outputId": "1576d925-9e22-4af3-d15b-3dff2010563e"
      },
      "execution_count": null,
      "outputs": [
        {
          "output_type": "stream",
          "name": "stdout",
          "text": [
            "set()\n"
          ]
        }
      ]
    },
    {
      "cell_type": "markdown",
      "source": [
        "### 7. Create a set of even numbers from 1 to 10"
      ],
      "metadata": {
        "id": "r_scwsn9SyYc"
      }
    },
    {
      "cell_type": "code",
      "source": [
        "even_set=set()\n",
        "for i in range(1,11):\n",
        "  if i%2==0:\n",
        "    even_set.add(i)\n",
        "print(\"The set of even numbers are:\",even_set)"
      ],
      "metadata": {
        "colab": {
          "base_uri": "https://localhost:8080/"
        },
        "id": "fPdt6afdS8Gs",
        "outputId": "126e1a9f-dfad-43d3-fe62-15dc6a7e0a40"
      },
      "execution_count": null,
      "outputs": [
        {
          "output_type": "stream",
          "name": "stdout",
          "text": [
            "The set of even numbers are: {2, 4, 6, 8, 10}\n"
          ]
        }
      ]
    },
    {
      "cell_type": "markdown",
      "source": [
        "### 8. Create a set of odd numbers from 1 to 10"
      ],
      "metadata": {
        "id": "eIUBuNdOTduH"
      }
    },
    {
      "cell_type": "code",
      "source": [
        "odd_set=set()\n",
        "for i in range(1,11):\n",
        "  if i%2!=0:\n",
        "    odd_set.add(i)\n",
        "print(\"The set of odd numbers are\",odd_set)"
      ],
      "metadata": {
        "colab": {
          "base_uri": "https://localhost:8080/"
        },
        "id": "BvRaTJ31TmSa",
        "outputId": "3afaf70e-4424-4ae6-8f11-caf941743471"
      },
      "execution_count": null,
      "outputs": [
        {
          "output_type": "stream",
          "name": "stdout",
          "text": [
            "The set of odd numbers are {1, 3, 5, 7, 9}\n"
          ]
        }
      ]
    },
    {
      "cell_type": "markdown",
      "source": [
        "### 9. Find the union of two sets"
      ],
      "metadata": {
        "id": "eXsFkfoxT2oQ"
      }
    },
    {
      "cell_type": "code",
      "source": [
        "set1={1,2,3,4,5,6,7}\n",
        "set2={5,6,7,8,9,10}\n",
        "set3=set1.union(set2)\n",
        "print(\"The union of two sets are:\",set3)"
      ],
      "metadata": {
        "colab": {
          "base_uri": "https://localhost:8080/"
        },
        "id": "jfl8OU82T80D",
        "outputId": "57a754b0-7e49-4606-9062-55c02c4a6b2f"
      },
      "execution_count": null,
      "outputs": [
        {
          "output_type": "stream",
          "name": "stdout",
          "text": [
            "The union of two sets are: {1, 2, 3, 4, 5, 6, 7, 8, 9, 10}\n"
          ]
        }
      ]
    },
    {
      "cell_type": "markdown",
      "source": [
        "### 10. Find the intersection of two sets"
      ],
      "metadata": {
        "id": "aYLdyL6wUTBR"
      }
    },
    {
      "cell_type": "code",
      "source": [
        "set1={1,2,3,4,5,6,7}\n",
        "set2={5,6,7,8,9,10}\n",
        "set3=set1.intersection(set2)\n",
        "print(\" the intersection of two sets\",set3)"
      ],
      "metadata": {
        "colab": {
          "base_uri": "https://localhost:8080/"
        },
        "id": "0ACvKF0DUZjz",
        "outputId": "9e922828-ed03-464e-e825-374c5955841d"
      },
      "execution_count": null,
      "outputs": [
        {
          "output_type": "stream",
          "name": "stdout",
          "text": [
            " the intersection of two sets {5, 6, 7}\n"
          ]
        }
      ]
    },
    {
      "cell_type": "markdown",
      "source": [
        "### 11. Find the difference between two sets."
      ],
      "metadata": {
        "id": "67zArwbMUlyD"
      }
    },
    {
      "cell_type": "code",
      "source": [
        "set1={1,2,3,4,5,6,7}\n",
        "set2={5,6,7,8,9,10}\n",
        "set3=set1.difference(set2)\n",
        "print(\" the difference between two sets\",set3)"
      ],
      "metadata": {
        "colab": {
          "base_uri": "https://localhost:8080/"
        },
        "id": "oPvEAufgUlRb",
        "outputId": "8856e06a-fa1f-48a1-93c6-0793004c0c80"
      },
      "execution_count": null,
      "outputs": [
        {
          "output_type": "stream",
          "name": "stdout",
          "text": [
            " the difference between two sets {1, 2, 3, 4}\n"
          ]
        }
      ]
    },
    {
      "cell_type": "markdown",
      "source": [
        "### 12. Check if a set is a subset of another set."
      ],
      "metadata": {
        "id": "Rq3CBvzOU5s4"
      }
    },
    {
      "cell_type": "code",
      "source": [
        "set1 = {1, 2, 3}\n",
        "set2 = {1, 2, 3, 4, 5}\n",
        "is_subset = set1.issubset(set2)\n",
        "print(\"Is set1 a subset of set2:\", is_subset)"
      ],
      "metadata": {
        "colab": {
          "base_uri": "https://localhost:8080/"
        },
        "id": "nJ8HKiSYVFFx",
        "outputId": "11230aa3-8976-4bb0-a7f7-b773168a8842"
      },
      "execution_count": null,
      "outputs": [
        {
          "output_type": "stream",
          "name": "stdout",
          "text": [
            "Is set1 a subset of set2: True\n"
          ]
        }
      ]
    },
    {
      "cell_type": "markdown",
      "source": [
        "### 13. Check if a set is a superset of another set."
      ],
      "metadata": {
        "id": "K7rZ_Q3sVLJZ"
      }
    },
    {
      "cell_type": "code",
      "source": [
        "set1 = {1, 2, 3}\n",
        "set2 = {1, 2, 3, 4, 5}\n",
        "is_subset=set2.issuperset(set1)\n",
        "print(\"Is set2 is superset of set1\",is_subset)"
      ],
      "metadata": {
        "colab": {
          "base_uri": "https://localhost:8080/"
        },
        "id": "0wdmJU0WVQkf",
        "outputId": "2baeb426-e0ec-49a5-853c-eee89d95829a"
      },
      "execution_count": null,
      "outputs": [
        {
          "output_type": "stream",
          "name": "stdout",
          "text": [
            "Is set2 is superset of set1 True\n"
          ]
        }
      ]
    },
    {
      "cell_type": "markdown",
      "source": [
        "### 14. Create a set from a list"
      ],
      "metadata": {
        "id": "gse2n5koVl68"
      }
    },
    {
      "cell_type": "code",
      "source": [
        "lst=[1,2,3,4,5]\n",
        "new_set=set(lst)\n",
        "print(\"set from list is\",new_set)"
      ],
      "metadata": {
        "colab": {
          "base_uri": "https://localhost:8080/"
        },
        "id": "bhWQS2BGVs_7",
        "outputId": "061a9773-e0c3-4910-b321-ae3cdf87c2ed"
      },
      "execution_count": null,
      "outputs": [
        {
          "output_type": "stream",
          "name": "stdout",
          "text": [
            "set from list is {1, 2, 3, 4, 5}\n"
          ]
        }
      ]
    },
    {
      "cell_type": "markdown",
      "source": [
        "### 15. Convert a set to a list."
      ],
      "metadata": {
        "id": "V3WW3iEfV-oM"
      }
    },
    {
      "cell_type": "code",
      "source": [
        "my_set={1, 2, 3, 4, 5}\n",
        "lst=list(my_set)\n",
        "print(\"set to a list is\",lst)"
      ],
      "metadata": {
        "colab": {
          "base_uri": "https://localhost:8080/"
        },
        "id": "s2vpZspGWH6T",
        "outputId": "8b1bfe4c-74d0-45c6-c0e2-e48aa0e87336"
      },
      "execution_count": null,
      "outputs": [
        {
          "output_type": "stream",
          "name": "stdout",
          "text": [
            "set to a list is [1, 2, 3, 4, 5]\n"
          ]
        }
      ]
    },
    {
      "cell_type": "markdown",
      "source": [
        "### 16. Remove a random element from a set."
      ],
      "metadata": {
        "id": "JsJuTjDeWXAJ"
      }
    },
    {
      "cell_type": "code",
      "source": [
        "import random\n",
        "my_set={1,2,3,4,5,6,7,8,9,10}\n",
        "random_element = random.choice(list(my_set))\n",
        "my_set.remove(random_element)\n",
        "print(\"removing of random element is\",my_set\n",
        "+)\n"
      ],
      "metadata": {
        "colab": {
          "base_uri": "https://localhost:8080/"
        },
        "id": "4sB-UF9uWgIi",
        "outputId": "a0ec81f8-7eb9-4237-c5f9-da39fd007ded"
      },
      "execution_count": null,
      "outputs": [
        {
          "output_type": "stream",
          "name": "stdout",
          "text": [
            "removing of random element is {1, 2, 3, 4, 5, 6, 7, 9, 10}\n"
          ]
        }
      ]
    },
    {
      "cell_type": "markdown",
      "source": [
        "### 17. Pop an element from a set."
      ],
      "metadata": {
        "id": "yEEtHNQSXZ1z"
      }
    },
    {
      "cell_type": "code",
      "source": [
        "my_set={1,2,3,4,5,6,7,8,9,10}\n",
        "my_set.pop()\n",
        "print(my_set)"
      ],
      "metadata": {
        "colab": {
          "base_uri": "https://localhost:8080/"
        },
        "id": "kMyAkLLbXfzZ",
        "outputId": "087c71d6-88e3-45c3-b4d4-616bad324280"
      },
      "execution_count": null,
      "outputs": [
        {
          "output_type": "stream",
          "name": "stdout",
          "text": [
            "{2, 3, 4, 5, 6, 7, 8, 9, 10}\n"
          ]
        }
      ]
    },
    {
      "cell_type": "markdown",
      "source": [
        "### 18. Check if two sets have no elements in common."
      ],
      "metadata": {
        "id": "brtbiYjWX4ll"
      }
    },
    {
      "cell_type": "code",
      "source": [
        "set1={1,2,3,4,5}\n",
        "set2={5,6,7,8,9}\n",
        "common_elements = set1.intersection(set2)\n",
        "if not common_elements:\n",
        "    print(\"The two sets have no elements in common.\")\n",
        "else:\n",
        "    print(\"The two sets have common elements:\", common_elements)"
      ],
      "metadata": {
        "colab": {
          "base_uri": "https://localhost:8080/"
        },
        "id": "nW26i2XiYCeV",
        "outputId": "a8c1dcb4-3bba-4421-d1ef-8f7f5847b3fc"
      },
      "execution_count": null,
      "outputs": [
        {
          "output_type": "stream",
          "name": "stdout",
          "text": [
            "The two sets have common elements: {5}\n"
          ]
        }
      ]
    },
    {
      "cell_type": "markdown",
      "source": [
        "### 19. Find the symmetric difference between two sets."
      ],
      "metadata": {
        "id": "B4pGp9tSY4St"
      }
    },
    {
      "cell_type": "code",
      "source": [
        "set1 = {1, 2, 3, 4, 5}\n",
        "set2 = {4, 5, 6, 7, 8}\n",
        "symmetric_difference = set1 ^ set2\n",
        "\n",
        "print(\"Symmetric Difference:\", symmetric_difference)"
      ],
      "metadata": {
        "colab": {
          "base_uri": "https://localhost:8080/"
        },
        "id": "ltvTv0pQZFkf",
        "outputId": "f99a0eb5-a8a0-424b-ef07-65d5f3e697a8"
      },
      "execution_count": null,
      "outputs": [
        {
          "output_type": "stream",
          "name": "stdout",
          "text": [
            "Symmetric Difference: {1, 2, 3, 6, 7, 8}\n"
          ]
        }
      ]
    },
    {
      "cell_type": "markdown",
      "source": [
        "### 20. Update a set with elements from another set."
      ],
      "metadata": {
        "id": "cBGdd-bEZTA1"
      }
    },
    {
      "cell_type": "code",
      "source": [
        "set1 = {1, 2, 3}\n",
        "print(\"Set 1:\", set1)\n",
        "set2 = {3, 4, 5}\n",
        "print(\"Set 2:\", set2)\n",
        "set1.update(set2)\n",
        "print(\"Updated Set 1:\", set1)"
      ],
      "metadata": {
        "colab": {
          "base_uri": "https://localhost:8080/"
        },
        "id": "4Bn8h8a9ZcJ6",
        "outputId": "cdbb6caf-0af6-4a46-fbfa-9735e420b7dd"
      },
      "execution_count": null,
      "outputs": [
        {
          "output_type": "stream",
          "name": "stdout",
          "text": [
            "Set 1: {1, 2, 3}\n",
            "Set 2: {3, 4, 5}\n",
            "Updated Set 1: {1, 2, 3, 4, 5}\n"
          ]
        }
      ]
    },
    {
      "cell_type": "markdown",
      "source": [
        "### 21. Create a set of the first 5 prime numbers."
      ],
      "metadata": {
        "id": "Gg64n5oJZla4"
      }
    },
    {
      "cell_type": "code",
      "source": [
        "\n",
        "prime_set = set()\n",
        "num = 2\n",
        "while len(prime_set) < 5:\n",
        "    is_prime = True\n",
        "    for i in range(2, int(num**0.5) + 1):\n",
        "        if num % i == 0:\n",
        "            is_prime = False\n",
        "            break\n",
        "    if is_prime:\n",
        "        prime_set.add(num)\n",
        "\n",
        "    num += 1\n",
        "\n",
        "print(prime_set)\n",
        "\n",
        "\n"
      ],
      "metadata": {
        "colab": {
          "base_uri": "https://localhost:8080/"
        },
        "id": "hhOuKhm7Z4XF",
        "outputId": "dfc382dc-4293-4707-d2d1-919db013fd10"
      },
      "execution_count": null,
      "outputs": [
        {
          "output_type": "stream",
          "name": "stdout",
          "text": [
            "{2, 3, 5, 7, 11}\n"
          ]
        }
      ]
    },
    {
      "cell_type": "markdown",
      "source": [
        "### 22. Check if two sets are identical."
      ],
      "metadata": {
        "id": "uw-zSRDtg7t5"
      }
    },
    {
      "cell_type": "code",
      "source": [
        "set1 = {1, 2, 3, 4, 5}\n",
        "set2 = {3, 1, 5, 2, 4}\n",
        "if set1 == set2:\n",
        "    print(\"The sets are identical.\")\n",
        "else:\n",
        "    print(\"The sets are not identical.\")"
      ],
      "metadata": {
        "colab": {
          "base_uri": "https://localhost:8080/"
        },
        "id": "HTInznn7hNYO",
        "outputId": "a381cbfb-aea2-4623-9279-912134c0ec99"
      },
      "execution_count": null,
      "outputs": [
        {
          "output_type": "stream",
          "name": "stdout",
          "text": [
            "The sets are identical.\n"
          ]
        }
      ]
    },
    {
      "cell_type": "markdown",
      "source": [
        "### 23. Create a frozen set"
      ],
      "metadata": {
        "id": "j9bwTmXzi7fZ"
      }
    },
    {
      "cell_type": "code",
      "source": [
        "elements = [1, 2, 3, 4, 5]\n",
        "my_frozen_set = frozenset(elements)\n",
        "print(\"Frozen Set:\", my_frozen_set)"
      ],
      "metadata": {
        "colab": {
          "base_uri": "https://localhost:8080/"
        },
        "id": "1tK8Dzmqiu6k",
        "outputId": "9111b469-f47e-4f99-866b-5968ae6dd476"
      },
      "execution_count": null,
      "outputs": [
        {
          "output_type": "stream",
          "name": "stdout",
          "text": [
            "Frozen Set: frozenset({1, 2, 3, 4, 5})\n"
          ]
        }
      ]
    },
    {
      "cell_type": "markdown",
      "source": [
        "### 24. Check if a set is disjoint with another set."
      ],
      "metadata": {
        "id": "Yo_fLkKDjLT9"
      }
    },
    {
      "cell_type": "code",
      "source": [
        "set1={1,2,3,4}\n",
        "set2={5,6,7,8}\n",
        "set1.isdisjoint(set2)"
      ],
      "metadata": {
        "colab": {
          "base_uri": "https://localhost:8080/"
        },
        "id": "LZrQTHWajO8L",
        "outputId": "82a89152-426b-4302-a930-6df029422a7a"
      },
      "execution_count": null,
      "outputs": [
        {
          "output_type": "execute_result",
          "data": {
            "text/plain": [
              "True"
            ]
          },
          "metadata": {},
          "execution_count": 47
        }
      ]
    },
    {
      "cell_type": "markdown",
      "source": [
        "### 25. Create a set of squares of numbers from 1 to 5."
      ],
      "metadata": {
        "id": "ilnfKSLbjsxK"
      }
    },
    {
      "cell_type": "code",
      "source": [
        "my_set={1,2,3,4,5}\n",
        "square_set=set()\n",
        "for i in my_set:\n",
        "  i=i*i\n",
        "  square_set.add(i)\n",
        "print(\"set of squares of numbers from 1 to 5 are:\",square_set)"
      ],
      "metadata": {
        "colab": {
          "base_uri": "https://localhost:8080/"
        },
        "id": "96kImIO_j4rJ",
        "outputId": "bf37a65b-8ffa-4ac1-e1a8-1ea3f05358bf"
      },
      "execution_count": null,
      "outputs": [
        {
          "output_type": "stream",
          "name": "stdout",
          "text": [
            "set of squares of numbers from 1 to 5 are: {1, 4, 9, 16, 25}\n"
          ]
        }
      ]
    },
    {
      "cell_type": "markdown",
      "source": [
        "### 26. Filter out all even numbers from a set."
      ],
      "metadata": {
        "id": "SDwjZCeYkRF7"
      }
    },
    {
      "cell_type": "code",
      "source": [
        "my_set={1,2,3,4,5,6,7,8,9,10}\n",
        "even_set=set()\n",
        "for i in my_set:\n",
        "  if i%2==0:\n",
        "    even_set.add(i)\n",
        "print(\"Even number set is \",even_set)"
      ],
      "metadata": {
        "colab": {
          "base_uri": "https://localhost:8080/"
        },
        "id": "ErdarTq-kZlO",
        "outputId": "18c9aedf-3975-4ace-e364-34093b0b987e"
      },
      "execution_count": null,
      "outputs": [
        {
          "output_type": "stream",
          "name": "stdout",
          "text": [
            "Even number set is  {2, 4, 6, 8, 10}\n"
          ]
        }
      ]
    },
    {
      "cell_type": "markdown",
      "source": [
        "### 27. Multiply all elements in a set by 2."
      ],
      "metadata": {
        "id": "D7FumwW0l3Ls"
      }
    },
    {
      "cell_type": "code",
      "source": [
        "my_set={1,2,3,4,5}\n",
        "double_set=set()\n",
        "for i in my_set:\n",
        "  i=i*2\n",
        "  double_set.add(i)\n",
        "print(double_set)\n"
      ],
      "metadata": {
        "colab": {
          "base_uri": "https://localhost:8080/"
        },
        "id": "BP1N1mB9l_f3",
        "outputId": "3ec0c5ec-f22a-4a86-f641-2cbd8c28f2fc"
      },
      "execution_count": null,
      "outputs": [
        {
          "output_type": "stream",
          "name": "stdout",
          "text": [
            "{2, 4, 6, 8, 10}\n"
          ]
        }
      ]
    },
    {
      "cell_type": "markdown",
      "source": [
        "### 28. Create a set of random numbers."
      ],
      "metadata": {
        "id": "INNU6ozKm-id"
      }
    },
    {
      "cell_type": "code",
      "source": [
        "import random\n",
        "num_random_numbers = 5\n",
        "random_number_set = set()\n",
        "for _ in range(num_random_numbers):\n",
        "\n",
        "    random_num = random.randint(1, 100)\n",
        "    random_number_set.add(random_num)\n",
        "print(\"Generated set of random numbers:\", random_number_set)"
      ],
      "metadata": {
        "colab": {
          "base_uri": "https://localhost:8080/"
        },
        "id": "Iln-D9_jnEXx",
        "outputId": "4399d350-1238-4e75-ec4d-e6fd46004667"
      },
      "execution_count": null,
      "outputs": [
        {
          "output_type": "stream",
          "name": "stdout",
          "text": [
            "Generated set of random numbers: {2, 73, 10, 55, 94}\n"
          ]
        }
      ]
    },
    {
      "cell_type": "markdown",
      "source": [
        "### 29. check if set if empty or not."
      ],
      "metadata": {
        "id": "cNkI_yS3nppc"
      }
    },
    {
      "cell_type": "code",
      "source": [
        "my_set = set()\n",
        "if not my_set:\n",
        "    print(\"The set is empty.\")\n",
        "else:\n",
        "    print(\"The set is not empty.\")"
      ],
      "metadata": {
        "colab": {
          "base_uri": "https://localhost:8080/"
        },
        "id": "NrJjjKp-n08l",
        "outputId": "0610e994-43eb-4af7-9340-f613f7e11870"
      },
      "execution_count": null,
      "outputs": [
        {
          "output_type": "stream",
          "name": "stdout",
          "text": [
            "The set is empty.\n"
          ]
        }
      ]
    },
    {
      "cell_type": "markdown",
      "source": [
        "### 30. Create a nested set (hint: use frozenset)."
      ],
      "metadata": {
        "id": "WafnbbbpoIub"
      }
    },
    {
      "cell_type": "code",
      "source": [
        "set1 = {1, 2, 3, 4, 5}\n",
        "set2 = {6, 7, 8, 9, 10}\n",
        "frozen_set1 = frozenset(set1)\n",
        "frozen_set2 = frozenset(set2)\n",
        "nested_set = {frozen_set1, frozen_set2}\n",
        "print(\"Nested Set:\", nested_set)"
      ],
      "metadata": {
        "id": "03xrvb4doR5G",
        "outputId": "52af9c2e-c7de-43e7-fd71-27d25af9eebd",
        "colab": {
          "base_uri": "https://localhost:8080/"
        }
      },
      "execution_count": null,
      "outputs": [
        {
          "output_type": "stream",
          "name": "stdout",
          "text": [
            "Nested Set: {frozenset({1, 2, 3, 4, 5}), frozenset({6, 7, 8, 9, 10})}\n"
          ]
        }
      ]
    },
    {
      "cell_type": "markdown",
      "source": [
        "### 31. Remove an element from a set using the discard method."
      ],
      "metadata": {
        "id": "HViD78ikLVO7"
      }
    },
    {
      "cell_type": "code",
      "source": [
        "set1={1,2,3,4,5,6}\n",
        "set1.discard(3)\n",
        "print(\"Remove an element from a set using the discard method\",set1)"
      ],
      "metadata": {
        "colab": {
          "base_uri": "https://localhost:8080/"
        },
        "id": "nQOUXZpVLcv7",
        "outputId": "6b54bd6b-4beb-41be-ba5d-9941eef57cb7"
      },
      "execution_count": null,
      "outputs": [
        {
          "output_type": "stream",
          "name": "stdout",
          "text": [
            "Remove an element from a set using the discard method {1, 2, 4, 5, 6}\n"
          ]
        }
      ]
    },
    {
      "cell_type": "markdown",
      "source": [
        "### 32 .compare two sets"
      ],
      "metadata": {
        "id": "H4CtEIL0LzE0"
      }
    },
    {
      "cell_type": "code",
      "source": [
        "\n",
        "set1 = {1, 2, 3, 4, 5}\n",
        "set2 = {4, 5, 6, 7, 8}\n",
        "is_subset = set1.issubset(set2)\n",
        "is_superset = set1.issuperset(set2)\n",
        "\n",
        "intersection = set1.intersection(set2)\n",
        "\n",
        "union = set1.union(set2)\n",
        "\n",
        "difference1 = set1.difference(set2)\n",
        "\n",
        "difference2 = set2.difference(set1)\n",
        "\n",
        "print(\"Set 1:\", set1)\n",
        "print(\"Set 2:\", set2)\n",
        "print(\"Is set1 a subset of set2?\", is_subset)\n",
        "print(\"Is set2 a subset of set1?\", is_superset)\n",
        "print(\"Intersection:\", intersection)\n",
        "print(\"Union:\", union)\n",
        "print(\"Elements in set1 but not in set2:\", difference1)\n",
        "print(\"Elements in set2 but not in set1:\", difference2)"
      ],
      "metadata": {
        "colab": {
          "base_uri": "https://localhost:8080/"
        },
        "id": "DGUb8wZXL_XA",
        "outputId": "70584972-c63e-4d87-fc26-bba64d36189b"
      },
      "execution_count": null,
      "outputs": [
        {
          "output_type": "stream",
          "name": "stdout",
          "text": [
            "Set 1: {1, 2, 3, 4, 5}\n",
            "Set 2: {4, 5, 6, 7, 8}\n",
            "Is set1 a subset of set2? False\n",
            "Is set2 a subset of set1? False\n",
            "Intersection: {4, 5}\n",
            "Union: {1, 2, 3, 4, 5, 6, 7, 8}\n",
            "Elements in set1 but not in set2: {1, 2, 3}\n",
            "Elements in set2 but not in set1: {8, 6, 7}\n"
          ]
        }
      ]
    },
    {
      "cell_type": "markdown",
      "source": [
        "### 33. Create a set from a string."
      ],
      "metadata": {
        "id": "VK1A7Vc6MS7g"
      }
    },
    {
      "cell_type": "code",
      "source": [
        "Str=\"Dileep Kumar\"\n",
        "str1=Str.split()\n",
        "str2=set(str1)\n",
        "print(\"Set from a string is:\",str2)"
      ],
      "metadata": {
        "colab": {
          "base_uri": "https://localhost:8080/"
        },
        "id": "P5yuFaofMbkI",
        "outputId": "01956ddf-060d-44b9-db38-941b8f2e31f9"
      },
      "execution_count": null,
      "outputs": [
        {
          "output_type": "stream",
          "name": "stdout",
          "text": [
            "Set from a string is: {'Dileep', 'Kumar'}\n"
          ]
        }
      ]
    },
    {
      "cell_type": "markdown",
      "source": [
        "### 34. Convert a set of strings to a set of integers."
      ],
      "metadata": {
        "id": "_TgZ1kzuM8BE"
      }
    },
    {
      "cell_type": "code",
      "source": [
        "string={\"1\",\"2\",\"3\",\"4\",\"5\"}\n",
        "int_set=set()\n",
        "for i in string:\n",
        "  i=int(i)\n",
        "  int_set.add(i)\n",
        "print(int_set)"
      ],
      "metadata": {
        "colab": {
          "base_uri": "https://localhost:8080/"
        },
        "id": "k-G2kOx7M-Be",
        "outputId": "f60950d5-cf9c-4857-892f-9c2299f99966"
      },
      "execution_count": null,
      "outputs": [
        {
          "output_type": "stream",
          "name": "stdout",
          "text": [
            "{1, 2, 3, 4, 5}\n"
          ]
        }
      ]
    },
    {
      "cell_type": "markdown",
      "source": [
        "### 35. Convert a set of integers to a set of strings."
      ],
      "metadata": {
        "id": "MUqPRNEZNXrJ"
      }
    },
    {
      "cell_type": "code",
      "source": [
        "int_set={1, 2, 3, 4, 5}\n",
        "str_set=set()\n",
        "for i in int_set:\n",
        "  i=str(i)\n",
        "  str_set.add(i)\n",
        "print(str_set)"
      ],
      "metadata": {
        "colab": {
          "base_uri": "https://localhost:8080/"
        },
        "id": "f0UpbrTdNgAl",
        "outputId": "73ed54bc-c34f-4ebb-8cd3-70cf83f3e64e"
      },
      "execution_count": null,
      "outputs": [
        {
          "output_type": "stream",
          "name": "stdout",
          "text": [
            "{'4', '5', '1', '3', '2'}\n"
          ]
        }
      ]
    },
    {
      "cell_type": "markdown",
      "source": [
        "### 36. Create a set from a tuple."
      ],
      "metadata": {
        "id": "i_BiWcQxN283"
      }
    },
    {
      "cell_type": "code",
      "source": [
        "tup=(1,2,3,4,5,6)\n",
        "my_set=set(tup)\n",
        "print(\"Tuple from a set is \",my_set)"
      ],
      "metadata": {
        "colab": {
          "base_uri": "https://localhost:8080/"
        },
        "id": "4Gn28zzeN8vp",
        "outputId": "53d4d4f4-09f2-40e5-e3fe-99716a9cd47f"
      },
      "execution_count": null,
      "outputs": [
        {
          "output_type": "stream",
          "name": "stdout",
          "text": [
            "Tuple from a set is  {1, 2, 3, 4, 5, 6}\n"
          ]
        }
      ]
    },
    {
      "cell_type": "markdown",
      "source": [
        "### 37. Convert a set to a tuple."
      ],
      "metadata": {
        "id": "K3qUpOVAOOQT"
      }
    },
    {
      "cell_type": "code",
      "source": [
        "my_set={1,2,3,4,5}\n",
        "tup=tuple(my_set)\n",
        "print(\"set to a tuple is\",tup)"
      ],
      "metadata": {
        "colab": {
          "base_uri": "https://localhost:8080/"
        },
        "id": "5D_WZPdJOk0g",
        "outputId": "feca8fbf-bfbe-4ae7-a50c-4e07281dd858"
      },
      "execution_count": null,
      "outputs": [
        {
          "output_type": "stream",
          "name": "stdout",
          "text": [
            "set to a tuple is (1, 2, 3, 4, 5)\n"
          ]
        }
      ]
    },
    {
      "cell_type": "markdown",
      "source": [
        "### 38. Find the maximum value in a set."
      ],
      "metadata": {
        "id": "dgfFYrOmPJIL"
      }
    },
    {
      "cell_type": "code",
      "source": [
        "my_set = {15, 7, 22, 13, 8}\n",
        "\n",
        "max_value = None\n",
        "\n",
        "for num in my_set:\n",
        "    if max_value is None or num > max_value:\n",
        "        max_value = num\n",
        "print(\"Maximum value:\", max_value)"
      ],
      "metadata": {
        "colab": {
          "base_uri": "https://localhost:8080/"
        },
        "id": "cqcNUMwIPNc-",
        "outputId": "fe97af62-80b8-41d0-9cab-749f7914c60c"
      },
      "execution_count": null,
      "outputs": [
        {
          "output_type": "stream",
          "name": "stdout",
          "text": [
            "Maximum value: 22\n"
          ]
        }
      ]
    },
    {
      "cell_type": "markdown",
      "source": [
        "### 39. Find the minimum value in a set."
      ],
      "metadata": {
        "id": "xiTXqq8wQ7rA"
      }
    },
    {
      "cell_type": "code",
      "source": [
        "my_set = {15, 7, 22, 13, 8}\n",
        "\n",
        "min_value = None\n",
        "\n",
        "for num in my_set:\n",
        "    if min_value is None or num < min_value:\n",
        "        min_value = num\n",
        "print(\"Minimum value:\", min_value)"
      ],
      "metadata": {
        "colab": {
          "base_uri": "https://localhost:8080/"
        },
        "id": "7B-ap_fTRB0O",
        "outputId": "f5f93146-ee56-4318-e70d-7c7f4905764e"
      },
      "execution_count": null,
      "outputs": [
        {
          "output_type": "stream",
          "name": "stdout",
          "text": [
            "Minimum value: 7\n"
          ]
        }
      ]
    },
    {
      "cell_type": "markdown",
      "source": [
        "### 40. Create a set from user input."
      ],
      "metadata": {
        "id": "vjPKn4InRZOB"
      }
    },
    {
      "cell_type": "code",
      "source": [
        "user_input_str = input(\"Enter elements for the set separated by commas: \")\n",
        "elements_list = user_input_str.split(',')\n",
        "user_set = set(elements_list)\n",
        "print(\"Set created from user input:\", user_set)\n"
      ],
      "metadata": {
        "colab": {
          "base_uri": "https://localhost:8080/"
        },
        "id": "hFZk1rtlR6nm",
        "outputId": "5e316cdd-9c99-4833-cbfb-fb74369715b4"
      },
      "execution_count": null,
      "outputs": [
        {
          "output_type": "stream",
          "name": "stdout",
          "text": [
            "Enter elements for the set separated by commas: 11,23,45,65,86,878\n",
            "Set created from user input: {'23', '65', '878', '11', '45', '86'}\n"
          ]
        }
      ]
    },
    {
      "cell_type": "markdown",
      "source": [
        "### 41. Check if the intersection of two sets is empty."
      ],
      "metadata": {
        "id": "iN_zz0lnSNZt"
      }
    },
    {
      "cell_type": "code",
      "source": [
        "set1 = {1, 2, 3, 4, 5}\n",
        "set2 = {4, 5, 6, 7, 8}\n",
        "\n",
        "intersection_result = set1.intersection(set2)\n",
        "\n",
        "if not intersection_result:\n",
        "    print(\"The intersection of the two sets is empty.\")\n",
        "else:\n",
        "    print(\"The intersection of the two sets is not empty.\")"
      ],
      "metadata": {
        "colab": {
          "base_uri": "https://localhost:8080/"
        },
        "id": "ydrVhk0ASsmk",
        "outputId": "cec4c058-8160-4428-8102-da885340dc52"
      },
      "execution_count": null,
      "outputs": [
        {
          "output_type": "stream",
          "name": "stdout",
          "text": [
            "The intersection of the two sets is not empty.\n"
          ]
        }
      ]
    },
    {
      "cell_type": "markdown",
      "source": [
        "### 42. Create a set of the first 5 Fibonacci numbers."
      ],
      "metadata": {
        "id": "SBmRmTgISzdJ"
      }
    },
    {
      "cell_type": "code",
      "source": [
        "n=6\n",
        "fabino_sequ=[0,1]\n",
        "for i in range(2,n):\n",
        "  next_fabino=fabino_sequ[i-1]+fabino_sequ[i-2]\n",
        "  fabino_sequ.append(next_fabino)\n",
        "print(\"The set of first 5 fabinacci numbers are:\",set(fabino_sequ))"
      ],
      "metadata": {
        "colab": {
          "base_uri": "https://localhost:8080/"
        },
        "id": "JfC2VxQmS6CS",
        "outputId": "d9c3a95b-c678-4710-b841-20e1e9f7104b"
      },
      "execution_count": null,
      "outputs": [
        {
          "output_type": "stream",
          "name": "stdout",
          "text": [
            "The set of first 5 fabinacci numbers are: {0, 1, 2, 3, 5}\n"
          ]
        }
      ]
    },
    {
      "cell_type": "markdown",
      "source": [
        "### 43. Remove duplicates from a list using sets."
      ],
      "metadata": {
        "id": "S9kkQuHHVwkN"
      }
    },
    {
      "cell_type": "code",
      "source": [
        "lst=[11,22,11,33,44,22,44,33,55,66,55,77]\n",
        "print(\"Remove duplicates from a list using sets\",list(set(lst)))"
      ],
      "metadata": {
        "colab": {
          "base_uri": "https://localhost:8080/"
        },
        "id": "afuEuHh5VwKe",
        "outputId": "9c70206a-42c1-4d9c-de4d-a87da0a3812a"
      },
      "execution_count": null,
      "outputs": [
        {
          "output_type": "stream",
          "name": "stdout",
          "text": [
            "Remove duplicates from a list using sets [33, 66, 11, 44, 77, 22, 55]\n"
          ]
        }
      ]
    },
    {
      "cell_type": "markdown",
      "source": [
        "### 44. Check if two sets have the same elements, regardless of their count ."
      ],
      "metadata": {
        "id": "ECFDQLFIWMzS"
      }
    },
    {
      "cell_type": "code",
      "source": [
        "set1={1,2,3,2,1}\n",
        "set2={1,2,3}\n",
        "set_1=sorted(list(set1))\n",
        "set_2=sorted(list(set2))\n",
        "if set_1==set_2:\n",
        "      print(\"two sets are equal\")\n",
        "else:\n",
        "  print(\"two sets are no equal\")\n"
      ],
      "metadata": {
        "colab": {
          "base_uri": "https://localhost:8080/"
        },
        "id": "uVuZ15fnWsFR",
        "outputId": "54b74c53-3d54-4185-c6a2-3715ab93d0da"
      },
      "execution_count": null,
      "outputs": [
        {
          "output_type": "stream",
          "name": "stdout",
          "text": [
            "two sets are equal\n"
          ]
        }
      ]
    },
    {
      "cell_type": "markdown",
      "source": [
        "### 45. Create a set of the first n powers of 2"
      ],
      "metadata": {
        "id": "bc-CV9UbY1be"
      }
    },
    {
      "cell_type": "code",
      "source": [
        "my_set=set()\n",
        "n=5\n",
        "for i in range(1,n):\n",
        "  i=2**i\n",
        "  my_set.add(i)\n",
        "print(\"set of first n power of 2 is:\",my_set)"
      ],
      "metadata": {
        "colab": {
          "base_uri": "https://localhost:8080/"
        },
        "id": "YIkYEQ8pY_k0",
        "outputId": "ff2a5e4f-3f63-4e9b-f629-e4190c0b6527"
      },
      "execution_count": null,
      "outputs": [
        {
          "output_type": "stream",
          "name": "stdout",
          "text": [
            "set of first n power of 2 is: {8, 16, 2, 4}\n"
          ]
        }
      ]
    },
    {
      "cell_type": "markdown",
      "source": [
        "### 46. Find the common elements between a set and a list."
      ],
      "metadata": {
        "id": "USXnoLT_Zr2a"
      }
    },
    {
      "cell_type": "code",
      "source": [
        "set1={11,22,33,44,55}\n",
        "lst1=[55,66,77,88,99]\n",
        "set2=set(lst1)\n",
        "set3=set1.intersection(set2)\n",
        "print(\"common element between a set and a list is\",set3)"
      ],
      "metadata": {
        "colab": {
          "base_uri": "https://localhost:8080/"
        },
        "id": "Q4_IFQWKZxIO",
        "outputId": "a889f42f-bc6d-44b0-890f-d637b07c8277"
      },
      "execution_count": null,
      "outputs": [
        {
          "output_type": "stream",
          "name": "stdout",
          "text": [
            "common element between a set and a list is {55}\n"
          ]
        }
      ]
    },
    {
      "cell_type": "markdown",
      "source": [
        "### 47. Create a set of the first n triangular numbers.:"
      ],
      "metadata": {
        "id": "PVupZwaKaUUv"
      }
    },
    {
      "cell_type": "code",
      "source": [
        "triangular_set=set()\n",
        "n=10\n",
        "for i in range(1,n):\n",
        "  i=i*(i+1)//2\n",
        "  triangular_set.add(i)\n",
        "print(triangular_set)\n"
      ],
      "metadata": {
        "colab": {
          "base_uri": "https://localhost:8080/"
        },
        "id": "8hnWwCKIahSW",
        "outputId": "f4272083-dfde-499c-c54e-94bdf6d73397"
      },
      "execution_count": null,
      "outputs": [
        {
          "output_type": "stream",
          "name": "stdout",
          "text": [
            "{1, 3, 36, 6, 10, 45, 15, 21, 28}\n"
          ]
        }
      ]
    },
    {
      "cell_type": "markdown",
      "source": [
        "### 48. Check if a set contains another set as a subset."
      ],
      "metadata": {
        "id": "tHcrO4iebck3"
      }
    },
    {
      "cell_type": "code",
      "source": [
        "set1 = {1, 2, 3, 4, 5}\n",
        "set2 = {3, 4}\n",
        "\n",
        "is_subset = set2.issubset(set1)\n",
        "\n",
        "if is_subset:\n",
        "    print(\"set2 is a subset of set1\")\n",
        "else:\n",
        "    print(\"set2 is not a subset of set1\")"
      ],
      "metadata": {
        "colab": {
          "base_uri": "https://localhost:8080/"
        },
        "id": "_OmPgeA5bXve",
        "outputId": "40bdf9f4-aecf-47c2-f2c8-eb8d6221a0ba"
      },
      "execution_count": null,
      "outputs": [
        {
          "output_type": "stream",
          "name": "stdout",
          "text": [
            "set2 is a subset of set1\n"
          ]
        }
      ]
    },
    {
      "cell_type": "markdown",
      "source": [
        "### 49. Create a set of alternating 1s and 0s of length n."
      ],
      "metadata": {
        "id": "1vhPwA1dbla7"
      }
    },
    {
      "cell_type": "code",
      "source": [
        "lst=[]\n",
        "n=10\n",
        "for i in range(1,n):\n",
        "    lst.append(i%2)\n",
        "print(set(lst))"
      ],
      "metadata": {
        "colab": {
          "base_uri": "https://localhost:8080/"
        },
        "id": "B3-zd2_Fbqjq",
        "outputId": "d3ebf5a8-325a-411a-df73-a453d19557f8"
      },
      "execution_count": null,
      "outputs": [
        {
          "output_type": "stream",
          "name": "stdout",
          "text": [
            "{0, 1}\n"
          ]
        }
      ]
    },
    {
      "cell_type": "markdown",
      "source": [
        "### 50. Merge multiple sets into one."
      ],
      "metadata": {
        "id": "CHIQC8tvcOH5"
      }
    },
    {
      "cell_type": "code",
      "source": [
        "set1={1,2,3,4,5,6}\n",
        "set2={3,4,5,6,7,8,9}\n",
        "set3={7,8,9,10}\n",
        "set4=set1.union(set1,set2)\n",
        "print(\"Merging of multiple sets into one set is\",set4)"
      ],
      "metadata": {
        "colab": {
          "base_uri": "https://localhost:8080/"
        },
        "id": "VT3wm7escTfg",
        "outputId": "c220d439-9f93-4038-8daa-38d9cf2428b4"
      },
      "execution_count": null,
      "outputs": [
        {
          "output_type": "stream",
          "name": "stdout",
          "text": [
            "Merging of multiple sets into one set is {1, 2, 3, 4, 5, 6, 7, 8, 9}\n"
          ]
        }
      ]
    }
  ],
  "metadata": {
    "colab": {
      "provenance": [],
      "include_colab_link": true
    },
    "kernelspec": {
      "display_name": "Python 3",
      "name": "python3"
    },
    "language_info": {
      "name": "python"
    }
  },
  "nbformat": 4,
  "nbformat_minor": 0
}