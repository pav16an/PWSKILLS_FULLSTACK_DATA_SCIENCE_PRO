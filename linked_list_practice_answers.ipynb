{
 "cells": [
  {
   "cell_type": "markdown",
   "metadata": {},
   "source": [
    "# Linked List Practice Paper - Answers\n",
    "\n",
    "This notebook contains answers and code examples for linked list practice questions."
   ]
  },
  {
   "cell_type": "markdown",
   "metadata": {},
   "source": [
    "## 1. Define a doubly linked list\n",
    "A doubly linked list is a type of linked list in which each node contains three fields: data, a pointer to the next node, and a pointer to the previous node. This allows traversal in both forward and backward directions."
   ]
  },
  {
   "cell_type": "markdown",
   "metadata": {},
   "source": [
    "## 2. Write a function to reverse a linked list in-place"
   ]
  },
  {
   "cell_type": "code",
   "execution_count": 10,
   "id": "e4e4e967",
   "metadata": {},
   "outputs": [
    {
     "name": "stdout",
     "output_type": "stream",
     "text": [
      "Original list:\n",
      "1 -> 2 -> 3 -> None\n",
      "Reversed list:\n",
      "3 -> 2 -> 1 -> None\n"
     ]
    }
   ],
   "source": [
    "class ListNode:\n",
    "    def __init__(self, val=0, next=None):\n",
    "        self.val = val\n",
    "        self.next = next\n",
    "\n",
    "def reverse_linked_list(head):\n",
    "    prev = None\n",
    "    current = head\n",
    "    while current:\n",
    "        next_node = current.next\n",
    "        current.next = prev\n",
    "        prev = current\n",
    "        current = next_node\n",
    "    return prev\n",
    "\n",
    "# Example usage\n",
    "def print_list(head):\n",
    "    current = head\n",
    "    while current:\n",
    "        print(current.val, end=' -> ')\n",
    "        current = current.next\n",
    "    print('None')\n",
    "\n",
    "head = ListNode(1, ListNode(2, ListNode(3)))\n",
    "print(\"Original list:\")\n",
    "print_list(head)\n",
    "reversed_head = reverse_linked_list(head)\n",
    "print(\"Reversed list:\")\n",
    "print_list(reversed_head)"
   ]
  },
  {
   "cell_type": "markdown",
   "id": "7f8ce185",
   "metadata": {},
   "source": [
    "## 3. Detect cycle in a linked list\n",
    "Use Floyd’s Cycle Detection Algorithm (Tortoise and Hare). Use two pointers moving at different speeds; if they meet, a cycle exists."
   ]
  },
  {
   "cell_type": "code",
   "execution_count": 11,
   "id": "732bc789",
   "metadata": {},
   "outputs": [
    {
     "name": "stdout",
     "output_type": "stream",
     "text": [
      "Has cycle: True\n"
     ]
    }
   ],
   "source": [
    "def has_cycle(head):\n",
    "    slow = head\n",
    "    fast = head\n",
    "    while fast and fast.next:\n",
    "        slow = slow.next\n",
    "        fast = fast.next.next\n",
    "        if slow == fast:\n",
    "            return True\n",
    "    return False\n",
    "\n",
    "# Example usage\n",
    "head = ListNode(3)\n",
    "head.next = ListNode(2)\n",
    "head.next.next = ListNode(0)\n",
    "head.next.next.next = ListNode(-4)\n",
    "head.next.next.next.next = head.next  # Create cycle\n",
    "print(\"Has cycle:\", has_cycle(head))"
   ]
  },
  {
   "cell_type": "markdown",
   "id": "7bf71217",
   "metadata": {},
   "source": [
    "## 4. Merge two sorted linked lists into one"
   ]
  },
  {
   "cell_type": "code",
   "execution_count": 19,
   "id": "e610b7a1",
   "metadata": {},
   "outputs": [
    {
     "name": "stdout",
     "output_type": "stream",
     "text": [
      "Merged list:\n",
      "1 -> 2 -> 3 -> 4 -> 5 -> 6 -> 6 -> 8 -> None\n"
     ]
    }
   ],
   "source": [
    "def merge_two_sorted_lists(l1, l2):\n",
    "    dummy = ListNode(0)\n",
    "    current = dummy\n",
    "    while l1 and l2:\n",
    "        if l1.val < l2.val:\n",
    "            current.next = l1\n",
    "            l1 = l1.next\n",
    "        else:\n",
    "            current.next = l2\n",
    "            l2 = l2.next\n",
    "        current = current.next\n",
    "    current.next = l1 if l1 else l2\n",
    "    return dummy.next\n",
    "\n",
    "\n",
    "# Example usage\n",
    "l1 = ListNode(1, ListNode(3, ListNode(5, ListNode(6))))\n",
    "l2 = ListNode(2, ListNode(4, ListNode(6, ListNode(8))))\n",
    "merged = merge_two_sorted_lists(l1, l2)\n",
    "print(\"Merged list:\")\n",
    "print_list(merged)\n"
   ]
  },
  {
   "cell_type": "markdown",
   "id": "a935ff07",
   "metadata": {},
   "source": [
    "## 5. Write a function to remove nth node from the end in a linked list"
   ]
  },
  {
   "cell_type": "code",
   "execution_count": 20,
   "id": "777e7101",
   "metadata": {},
   "outputs": [
    {
     "name": "stdout",
     "output_type": "stream",
     "text": [
      "Original list:\n",
      "1 -> 2 -> 3 -> 4 -> 6 -> None\n",
      "List after removing 2th node from end:\n",
      "1 -> 2 -> 3 -> 6 -> None\n"
     ]
    }
   ],
   "source": [
    "def remove_nth_from_end(head, n):\n",
    "    dummy = ListNode(0, head)\n",
    "    first = dummy\n",
    "    second = dummy\n",
    "    for _ in range(n + 1):\n",
    "        first = first.next\n",
    "    while first:\n",
    "        first = first.next\n",
    "        second = second.next\n",
    "    second.next = second.next.next\n",
    "    return dummy.next\n",
    "\n",
    "# Example usage\n",
    "head = ListNode(1, ListNode(2, ListNode(3, ListNode(4, ListNode(6)))))\n",
    "n = 2\n",
    "print(\"Original list:\")\n",
    "print_list(head)\n",
    "new_head = remove_nth_from_end(head, n)\n",
    "print(f\"List after removing {n}th node from end:\")\n",
    "print_list(new_head)\n"
   ]
  },
  {
   "cell_type": "markdown",
   "id": "debeb979",
   "metadata": {},
   "source": [
    "## 6. Remove duplicates from a sorted linked list"
   ]
  },
  {
   "cell_type": "code",
   "execution_count": 14,
   "id": "a2bb1a3f",
   "metadata": {},
   "outputs": [
    {
     "name": "stdout",
     "output_type": "stream",
     "text": [
      "Original list:\n",
      "1 -> 2 -> 3 -> 3 -> 4 -> 4 -> 4 -> 5 -> None\n",
      "List after removing duplicates:\n",
      "1 -> 2 -> 3 -> 4 -> 5 -> None\n"
     ]
    }
   ],
   "source": [
    "def remove_duplicates(head):\n",
    "    current = head\n",
    "    while current and current.next:\n",
    "        if current.val == current.next.val:\n",
    "            current.next = current.next.next\n",
    "        else:\n",
    "            current = current.next\n",
    "    return head\n",
    "\n",
    "# Example usage\n",
    "head = ListNode(1, ListNode(2, ListNode(3, ListNode(3, ListNode(4, ListNode(4, ListNode(4, ListNode(5))))))))\n",
    "print(\"Original list:\")\n",
    "print_list(head)\n",
    "new_head = remove_duplicates(head)\n",
    "print(\"List after removing duplicates:\")\n",
    "print_list(new_head)"
   ]
  },
  {
   "cell_type": "markdown",
   "id": "6f83ecbc",
   "metadata": {},
   "source": [
    "## 7. Find the intersection of two linked lists"
   ]
  },
  {
   "cell_type": "code",
   "execution_count": 15,
   "id": "166d1684",
   "metadata": {},
   "outputs": [
    {
     "name": "stdout",
     "output_type": "stream",
     "text": [
      "Intersection node value: 2\n"
     ]
    }
   ],
   "source": [
    "def get_intersection_node(headA, headB):\n",
    "    if not headA or not headB:\n",
    "        return None\n",
    "    a, b = headA, headB\n",
    "    while a != b:\n",
    "        a = a.next if a else headB\n",
    "        b = b.next if b else headA\n",
    "    return a\n",
    "\n",
    "# Example usage\n",
    "a = ListNode(1, ListNode(2, ListNode(3, ListNode(4, ListNode(8, ListNode(6, ListNode(9)))))))\n",
    "b = ListNode(5, ListNode(1, ListNode(6, ListNode(7))))\n",
    "# Creating intersection manually\n",
    "b.next.next.next.next = a.next  # Intersection at node with value 2\n",
    "intersection = get_intersection_node(a, b)\n",
    "print(\"Intersection node value:\", intersection.val if intersection else None)"
   ]
  },
  {
   "cell_type": "markdown",
   "id": "816f0952",
   "metadata": {},
   "source": [
    "## 8. Rotate a linked list by k positions to the right"
   ]
  },
  {
   "cell_type": "code",
   "execution_count": 21,
   "id": "d852c19b",
   "metadata": {},
   "outputs": [
    {
     "name": "stdout",
     "output_type": "stream",
     "text": [
      "Original list:\n",
      "1 -> 2 -> 3 -> 4 -> 8 -> 6 -> 9 -> None\n",
      "List after rotating by 2 positions:\n",
      "6 -> 9 -> 1 -> 2 -> 3 -> 4 -> 8 -> None\n"
     ]
    }
   ],
   "source": [
    "def rotate_right(head, k):\n",
    "    if not head or k == 0:\n",
    "        return head\n",
    "    # Compute the length and get the tail\n",
    "    length = 1\n",
    "    tail = head\n",
    "    while tail.next:\n",
    "        tail = tail.next\n",
    "        length += 1\n",
    "    k = k % length\n",
    "    if k == 0:\n",
    "        return head\n",
    "    # Make it circular\n",
    "    tail.next = head\n",
    "    # Find new tail\n",
    "    steps_to_new_tail = length - k\n",
    "    new_tail = head\n",
    "    for _ in range(steps_to_new_tail - 1):\n",
    "        new_tail = new_tail.next\n",
    "    new_head = new_tail.next\n",
    "    new_tail.next = None\n",
    "    return new_head\n",
    "\n",
    "# Example usage\n",
    "head = ListNode(1, ListNode(2, ListNode(3, ListNode(4, ListNode(8, ListNode(6, ListNode(9)))))))\n",
    "k = 2\n",
    "print(\"Original list:\")\n",
    "print_list(head)\n",
    "rotated = rotate_right(head, k)\n",
    "print(f\"List after rotating by {k} positions:\")\n",
    "print_list(rotated)\n"
   ]
  },
  {
   "cell_type": "markdown",
   "id": "c34763d8",
   "metadata": {},
   "source": [
    "## 9. Add Two Numbers Represented by LinkedLists"
   ]
  },
  {
   "cell_type": "code",
   "execution_count": 22,
   "id": "54869cc2",
   "metadata": {},
   "outputs": [
    {
     "name": "stdout",
     "output_type": "stream",
     "text": [
      "Sum list:\n",
      "7 -> 0 -> 8 -> None\n"
     ]
    }
   ],
   "source": [
    "def add_two_numbers(l1, l2):\n",
    "    dummy = ListNode(0)\n",
    "    current = dummy\n",
    "    carry = 0\n",
    "    while l1 or l2 or carry:\n",
    "        val1 = l1.val if l1 else 0\n",
    "        val2 = l2.val if l2 else 0\n",
    "        total = val1 + val2 + carry\n",
    "        carry = total // 10\n",
    "        current.next = ListNode(total % 10)\n",
    "        current = current.next\n",
    "        if l1:\n",
    "            l1 = l1.next\n",
    "        if l2:\n",
    "            l2 = l2.next\n",
    "    return dummy.next\n",
    "\n",
    "# Example usage\n",
    "l1 = ListNode(2, ListNode(4, ListNode(3)))\n",
    "l2 = ListNode(5, ListNode(6, ListNode(4)))\n",
    "result = add_two_numbers(l1, l2)\n",
    "print(\"Sum list:\")\n",
    "print_list(result)\n"
   ]
  },
  {
   "cell_type": "markdown",
   "id": "8bb69244",
   "metadata": {},
   "source": [
    "## 10. Clone a Linked List with next and Random Pointer"
   ]
  },
  {
   "cell_type": "code",
   "execution_count": 23,
   "id": "a19a86b9",
   "metadata": {},
   "outputs": [
    {
     "name": "stdout",
     "output_type": "stream",
     "text": [
      "Original and cloned list created.\n"
     ]
    }
   ],
   "source": [
    "class RandomListNode:\n",
    "    def __init__(self, x, next=None, arbit=None):\n",
    "        self.val = x\n",
    "        self.next = next\n",
    "        self.arbit = arbit\n",
    "\n",
    "def clone_random_list(head):\n",
    "    if not head:\n",
    "        return None\n",
    "    # Step 1: Create new nodes and insert them after original nodes\n",
    "    current = head\n",
    "    while current:\n",
    "        new_node = RandomListNode(current.val, current.next)\n",
    "        current.next = new_node\n",
    "        current = new_node.next\n",
    "    # Step 2: Set arbit pointers for new nodes\n",
    "    current = head\n",
    "    while current:\n",
    "        if current.arbit:\n",
    "            current.next.arbit = current.arbit.next\n",
    "        current = current.next.next\n",
    "    # Step 3: Separate the lists\n",
    "    current = head\n",
    "    new_head = head.next\n",
    "    while current:\n",
    "        new_node = current.next\n",
    "        current.next = new_node.next\n",
    "        new_node.next = new_node.next.next if new_node.next else None\n",
    "        current = current.next\n",
    "    return new_head\n",
    "\n",
    "# Example usage\n",
    "head = RandomListNode(1)\n",
    "node2 = RandomListNode(2)\n",
    "node3 = RandomListNode(3)\n",
    "head.next = node2\n",
    "node2.next = node3\n",
    "head.arbit = node3\n",
    "node2.arbit = head\n",
    "node3.arbit = node2\n",
    "cloned_head = clone_random_list(head)\n",
    "print(\"Original and cloned list created.\")\n"
   ]
  },
  {
   "cell_type": "code",
   "execution_count": null,
   "id": "d3a0c4f4",
   "metadata": {},
   "outputs": [],
   "source": []
  }
 ],
 "metadata": {
  "kernelspec": {
   "display_name": "Python 3",
   "language": "python",
   "name": "python3"
  },
  "language_info": {
   "codemirror_mode": {
    "name": "ipython",
    "version": 3
   },
   "file_extension": ".py",
   "mimetype": "text/x-python",
   "name": "python",
   "nbconvert_exporter": "python",
   "pygments_lexer": "ipython3",
   "version": "3.13.2"
  }
 },
 "nbformat": 4,
 "nbformat_minor": 5
}
