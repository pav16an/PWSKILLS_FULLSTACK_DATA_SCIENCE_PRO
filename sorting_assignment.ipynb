{
  "nbformat": 4,
  "nbformat_minor": 0,
  "metadata": {
    "colab": {
      "provenance": [],
      "authorship_tag": "ABX9TyOyHPhetQ7ojhTN3Buhyck7",
      "include_colab_link": true
    },
    "kernelspec": {
      "name": "python3",
      "display_name": "Python 3"
    },
    "language_info": {
      "name": "python"
    }
  },
  "cells": [
    {
      "cell_type": "markdown",
      "metadata": {
        "id": "view-in-github",
        "colab_type": "text"
      },
      "source": [
        "<a href=\"https://colab.research.google.com/github/pav16an/PWSKILLS_FULLSTACK_DATA_SCIENCE_PRO/blob/main/sorting_assignment.ipynb\" target=\"_parent\"><img src=\"https://colab.research.google.com/assets/colab-badge.svg\" alt=\"Open In Colab\"/></a>"
      ]
    },
    {
      "cell_type": "markdown",
      "source": [
        "## Problem 1.Given an array of n numbers, give an algorithm which gives the element appearing maximum number of times?"
      ],
      "metadata": {
        "id": "jppo0sJlW2t1"
      }
    },
    {
      "cell_type": "code",
      "execution_count": null,
      "metadata": {
        "colab": {
          "base_uri": "https://localhost:8080/"
        },
        "id": "r_OZBNtoWxPf",
        "outputId": "7b4f85e0-6490-4588-a75b-a252f9a46c67"
      },
      "outputs": [
        {
          "output_type": "stream",
          "name": "stdout",
          "text": [
            "Element appearing maximum number of times: 3\n"
          ]
        }
      ],
      "source": [
        "def find_max_frequency_element(arr):\n",
        "    frequency = {}\n",
        "    max_freq_element = None\n",
        "    max_freq = 0\n",
        "\n",
        "    # Count the frequency of each element\n",
        "    for num in arr:\n",
        "        if num in frequency:\n",
        "            frequency[num] += 1\n",
        "        else:\n",
        "            frequency[num] = 1\n",
        "\n",
        "    # Find the element with maximum frequency\n",
        "    for num, freq in frequency.items():\n",
        "        if freq > max_freq:\n",
        "            max_freq = freq\n",
        "            max_freq_element = num\n",
        "\n",
        "    return max_freq_element\n",
        "\n",
        "# Example usage:\n",
        "arr = [1, 3, 2, 3, 4, 3, 2, 3, 5, 5, 3]\n",
        "result = find_max_frequency_element(arr)\n",
        "print(\"Element appearing maximum number of times:\", result)\n"
      ]
    },
    {
      "cell_type": "markdown",
      "source": [
        "## Problem 2 : We are given a list of n-1 integers and these integers are in the range of 1 to n . There are no duplicates in the list. One of the integers is missing in the list. Give an algorithm to find that element Ex: [1,2,4,6,3,7,8] 5 is the missing num."
      ],
      "metadata": {
        "id": "lnhrr_ihYdyT"
      }
    },
    {
      "cell_type": "code",
      "source": [
        "def find_missing_number(arr):\n",
        "    n = len(arr) + 1  # Since there are n-1 integers and the range is from 1 to n\n",
        "    total_sum = n * (n + 1) // 2  # Sum of integers from 1 to n\n",
        "\n",
        "    # Calculate the sum of all integers in the given list\n",
        "    arr_sum = sum(arr)\n",
        "\n",
        "    # The missing number is the difference between the total sum and the sum of the given list\n",
        "    missing_number = total_sum - arr_sum\n",
        "\n",
        "    return missing_number\n",
        "\n",
        "# Example usage:\n",
        "arr = [1, 2, 4, 6, 3, 7, 8]\n",
        "missing_num = find_missing_number(arr)\n",
        "print(\"Missing number:\", missing_num)\n",
        "\n"
      ],
      "metadata": {
        "id": "ksMVbf5dYc60",
        "colab": {
          "base_uri": "https://localhost:8080/"
        },
        "outputId": "f1b2ff9d-9984-477a-b9ab-dbee8f96a1f6"
      },
      "execution_count": 22,
      "outputs": [
        {
          "output_type": "stream",
          "name": "stdout",
          "text": [
            "Missing number: 5\n"
          ]
        }
      ]
    },
    {
      "cell_type": "markdown",
      "source": [
        "## Problem 3 : Given an array of n positive numbers. All numbers occurs even number of times except 1 which occurs odd number of times. Find that number in O(n) time and O(1) space. Ex: [1,2,3,2,3,1,3]. 3 is repeats odd times."
      ],
      "metadata": {
        "id": "OQegfZouK6i_"
      }
    },
    {
      "cell_type": "code",
      "source": [
        "def find_max_repeate_element(arr):\n",
        "    frequency = {}\n",
        "    max_repeat_element = None\n",
        "    max_repeat = 0\n",
        "\n",
        "    # Count the frequency of each element\n",
        "    for num in arr:\n",
        "        if num in frequency:\n",
        "            frequency[num] += 1\n",
        "        else:\n",
        "            frequency[num] = 1\n",
        "\n",
        "    # Find the element with maximum frequency\n",
        "    for num, freq in frequency.items():\n",
        "        if freq > max_repeat:\n",
        "            max_repeat = freq\n",
        "            max_repeat_element = num\n",
        "\n",
        "    return max_repeat_element\n",
        "\n",
        "# Example usage:\n",
        "arr = [1, 3,2,3,2,1,4,4,3]\n",
        "result = find_max_repeate_element(arr)\n",
        "print(\"Element appearing odd times\", result)"
      ],
      "metadata": {
        "colab": {
          "base_uri": "https://localhost:8080/"
        },
        "id": "Los5WSjIHdpC",
        "outputId": "7da15439-0c73-4768-86f0-8064b1d8caf3"
      },
      "execution_count": 24,
      "outputs": [
        {
          "output_type": "stream",
          "name": "stdout",
          "text": [
            "Element appearing odd times 3\n"
          ]
        }
      ]
    },
    {
      "cell_type": "markdown",
      "source": [
        "## Problem 4 : Given an array of n elements. Find two elements in the array such that their sum is equal to given element K."
      ],
      "metadata": {
        "id": "HC_ZIuspMa33"
      }
    },
    {
      "cell_type": "code",
      "source": [
        "def find_closest_sum(arr, k):\n",
        "    arr.sort()  # Sort the array\n",
        "    left = 0\n",
        "    right = len(arr) - 1\n",
        "    closest_sum = float('inf')  # Initialize with positive infinity\n",
        "    closest_pair = None\n",
        "\n",
        "    while left < right:\n",
        "        current_sum = arr[left] + arr[right]\n",
        "        if abs(current_sum - k) < abs(closest_sum - k):\n",
        "            closest_sum = current_sum\n",
        "            closest_pair = (arr[left], arr[right])\n",
        "        if current_sum < k:\n",
        "            left += 1\n",
        "        elif current_sum > k:\n",
        "            right -= 1\n",
        "        else:\n",
        "            return closest_pair  # If sum is k, return the pair immediately\n",
        "\n",
        "    return closest_pair\n",
        "\n",
        "# Example usage:\n",
        "arr = [1, 2, 3, 4, 55, 6, 7, 9,15,0]\n",
        "target_sum = 15\n",
        "result = find_closest_sum(arr, target_sum)\n",
        "print(\"Pair with sum closest to\", target_sum, \":\", result)\n"
      ],
      "metadata": {
        "colab": {
          "base_uri": "https://localhost:8080/"
        },
        "id": "5QdjsbIeLryF",
        "outputId": "3ee443ce-5b3d-4f4c-e895-0046ce160cb2"
      },
      "execution_count": 44,
      "outputs": [
        {
          "output_type": "stream",
          "name": "stdout",
          "text": [
            "Pair with sum closest to 15 : (0, 15)\n"
          ]
        }
      ]
    },
    {
      "cell_type": "markdown",
      "source": [
        "## Problem 5 : Given an array of both positive and negative numbers, find two numbers such that their sum is closest to 0. Ex: [ 1 ,60 ,-10, 70, -80,85]. Ans : -80,85."
      ],
      "metadata": {
        "id": "HY0vGOLzOWl7"
      }
    },
    {
      "cell_type": "code",
      "source": [
        "def find_closest_to_zero(arr):\n",
        "    arr.sort()  # Sort the array in non-decreasing order\n",
        "    left = 0\n",
        "    right = len(arr) - 1\n",
        "    closest_sum = float('inf')  # Initialize with positive infinity\n",
        "    closest_pair = None\n",
        "\n",
        "    while left < right:\n",
        "        current_sum = arr[left] + arr[right]\n",
        "        if abs(current_sum) < abs(closest_sum):\n",
        "            closest_sum = current_sum\n",
        "            closest_pair = (arr[left], arr[right])\n",
        "        if current_sum < 0:\n",
        "            left += 1\n",
        "        elif current_sum > 0:\n",
        "            right -= 1\n",
        "        else:\n",
        "            return closest_pair  # If sum is 0, return the pair immediately\n",
        "\n",
        "    return closest_pair\n",
        "\n",
        "# Example usage:\n",
        "arr = [1, -2, 3, 4, -54.9, 6, 7, 9.2,-9, 55]\n",
        "result = find_closest_to_zero(arr)\n",
        "print(\"Pair with sum closest to zero:\", result)\n",
        "\n"
      ],
      "metadata": {
        "colab": {
          "base_uri": "https://localhost:8080/"
        },
        "id": "C9eGC6NgNYTt",
        "outputId": "da737936-f9fc-4fdd-d406-373fb6dd31ed"
      },
      "execution_count": 42,
      "outputs": [
        {
          "output_type": "stream",
          "name": "stdout",
          "text": [
            "Pair with sum closest to zero: (-54.9, 55)\n"
          ]
        }
      ]
    },
    {
      "cell_type": "markdown",
      "source": [
        "## Problem 6 : Given an array of n elements . Find three elements such that their sum is equal to the given number."
      ],
      "metadata": {
        "id": "PUwy2CnfQL2H"
      }
    },
    {
      "cell_type": "code",
      "source": [
        "def find_triplet_with_sum(arr, target_sum):\n",
        "    arr.sort()  # Sort the array in non-decreasing order\n",
        "    n = len(arr)\n",
        "\n",
        "    for i in range(n - 2):  # Loop through each element until the third-to-last element\n",
        "        left = i + 1\n",
        "        right = n - 1\n",
        "\n",
        "        while left < right:\n",
        "            current_sum = arr[i] + arr[left] + arr[right]\n",
        "            if current_sum == target_sum:\n",
        "                return [arr[i], arr[left], arr[right]]\n",
        "            elif current_sum < target_sum:\n",
        "                left += 1\n",
        "            else:\n",
        "                right -= 1\n",
        "\n",
        "    return None  # If no triplet is found\n",
        "\n",
        "# Example usage:\n",
        "arr = [1, 4, 45, 6, 10, 8]\n",
        "target_sum = 22\n",
        "result = find_triplet_with_sum(arr, target_sum)\n",
        "if result:\n",
        "    print(\"Triplet with sum\", target_sum, \":\", result)\n",
        "else:\n",
        "    print(\"No triplet found with sum\", target_sum)\n"
      ],
      "metadata": {
        "colab": {
          "base_uri": "https://localhost:8080/"
        },
        "id": "h_eznAbQOjsv",
        "outputId": "8e259ac8-1203-435f-c3be-6a246eeed4ef"
      },
      "execution_count": 45,
      "outputs": [
        {
          "output_type": "stream",
          "name": "stdout",
          "text": [
            "Triplet with sum 22 : [4, 8, 10]\n"
          ]
        }
      ]
    },
    {
      "cell_type": "markdown",
      "source": [
        "## Problem 7 : Given an array of n elements . Find three elements i, j, k in the array such that i * i + j * j = k*k."
      ],
      "metadata": {
        "id": "9191l35FwR04"
      }
    },
    {
      "cell_type": "code",
      "source": [
        "def find_closest_sum(arr, k):\n",
        "    arr.sort()  # Sort the array\n",
        "    left = 0\n",
        "    right = len(arr) - 1\n",
        "    closest_diff = float('inf')  # Initialize with positive infinity\n",
        "    closest_pair = None\n",
        "\n",
        "    while left < right:\n",
        "        current_sum = arr[left] ** 2 + arr[right] ** 2\n",
        "        current_diff = abs(current_sum - k ** 2)\n",
        "\n",
        "        if current_diff < closest_diff:\n",
        "            closest_diff = current_diff\n",
        "            closest_pair = (arr[left], arr[right])\n",
        "\n",
        "        if current_sum < k ** 2:\n",
        "            left += 1\n",
        "        elif current_sum > k ** 2:\n",
        "            right -= 1\n",
        "        else:\n",
        "            return closest_pair\n",
        "\n",
        "    return closest_pair\n",
        "\n",
        "# Example usage:\n",
        "arr = [1, 2, 3, 8, 4, 55, 6, 7, 9, 5]\n",
        "target_sum = 5\n",
        "result = find_closest_sum(arr, target_sum)\n",
        "print(\"Pair with sum closest to\", target_sum, \":\", result)\n",
        "\n"
      ],
      "metadata": {
        "colab": {
          "base_uri": "https://localhost:8080/"
        },
        "id": "kfjPvdjxT3Oj",
        "outputId": "dfe2f3ac-5bfd-41b4-e97a-6e559817429f"
      },
      "execution_count": 7,
      "outputs": [
        {
          "output_type": "stream",
          "name": "stdout",
          "text": [
            "Pair with sum closest to 5 : (3, 4)\n"
          ]
        }
      ]
    },
    {
      "cell_type": "markdown",
      "source": [
        "## Problem 8 : An element is a majority if it appears more than n/2 times. Give an algorithm takes an array of n element as argument and identifies a majority (if it exists)."
      ],
      "metadata": {
        "id": "OUYKkRYg1Tz9"
      }
    },
    {
      "cell_type": "code",
      "source": [
        "def find_majority_element(arr):\n",
        "    candidate = None\n",
        "    count = 0\n",
        "\n",
        "    # Find potential candidate for majority element\n",
        "    for num in arr:\n",
        "        if count == 0:\n",
        "            candidate = num\n",
        "            count = 1\n",
        "        elif num == candidate:\n",
        "            count += 1\n",
        "        else:\n",
        "            count -= 1\n",
        "\n",
        "    # Check if candidate is the majority element\n",
        "    count_candidate = sum(1 for num in arr if num == candidate)\n",
        "    if count_candidate > len(arr) // 2:\n",
        "        return candidate\n",
        "    else:\n",
        "        return None  # No majority element found\n",
        "\n",
        "# Example usage:\n",
        "arr = [3, 3, 4, 2, 4, 4, 2, 4, 4]\n",
        "result = find_majority_element(arr)\n",
        "if result:\n",
        "    print(\"Majority element:\", result)\n",
        "else:\n",
        "    print(\"No majority element found\")\n"
      ],
      "metadata": {
        "colab": {
          "base_uri": "https://localhost:8080/"
        },
        "id": "Nqe4SYsRx3i6",
        "outputId": "2feaf18a-5af6-4da3-fe1f-b54f20c05dca"
      },
      "execution_count": 9,
      "outputs": [
        {
          "output_type": "stream",
          "name": "stdout",
          "text": [
            "Majority element: 4\n"
          ]
        }
      ]
    },
    {
      "cell_type": "markdown",
      "source": [
        "## Problem 9 : Given n × n matrix, and in each row all 1’s are followed by 0’s. Find the row with the maximum number of 0’s."
      ],
      "metadata": {
        "id": "xhA9Zgfm2kNl"
      }
    },
    {
      "cell_type": "code",
      "source": [
        "def find_max_zeros_row(matrix):\n",
        "    max_zeros_row = -1\n",
        "    max_zeros_count = 0\n",
        "\n",
        "    for row_index, row in enumerate(matrix):\n",
        "        left = 0\n",
        "        right = len(row) - 1\n",
        "\n",
        "        # Binary search to find the index of first occurrence of 0\n",
        "        while left <= right:\n",
        "            mid = (left + right) // 2\n",
        "            if row[mid] == 0:\n",
        "                right = mid - 1\n",
        "            else:\n",
        "                left = mid + 1\n",
        "\n",
        "        zeros_count = len(row) - left  # Number of zeros in the row\n",
        "        if zeros_count > max_zeros_count:\n",
        "            max_zeros_row = row_index\n",
        "            max_zeros_count = zeros_count\n",
        "\n",
        "    return max_zeros_row\n",
        "\n",
        "# Example usage:\n",
        "matrix = [\n",
        "    [1, 1, 1, 0, 0],\n",
        "    [1, 1, 0, 0, 0],\n",
        "    [1, 1, 1, 1, 0],\n",
        "    [1, 0, 0, 0, 0],\n",
        "    [1, 1, 1, 1, 1]\n",
        "]\n",
        "result = find_max_zeros_row(matrix)\n",
        "print(\"Row with the maximum number of zeros:\", result)\n"
      ],
      "metadata": {
        "colab": {
          "base_uri": "https://localhost:8080/"
        },
        "id": "tvVNVfVq2I83",
        "outputId": "001f3c90-be14-4e67-c0b9-d80dfe908165"
      },
      "execution_count": 11,
      "outputs": [
        {
          "output_type": "stream",
          "name": "stdout",
          "text": [
            "Row with the maximum number of zeros: 3\n"
          ]
        }
      ]
    },
    {
      "cell_type": "markdown",
      "source": [
        "## Problem 10 : Sort an array of 0’s, 1’s and 2’s [or R’s, G’s and B’s]: Given an array A[] consisting of 0’s, 1’s and2’s, give an algorithm for sorting A[].The algorithm should put all 0’s first, then all 1’s and finally all 2’s at the end. Example Input = {0,1,1,0,1,2,1,2,0,0,0,1}, Output = {0,0,0,0,0,1,1,1,1,1,2,2}"
      ],
      "metadata": {
        "id": "w-c6IkoA7C7W"
      }
    },
    {
      "cell_type": "code",
      "source": [
        "def sort_colors(arr):\n",
        "    low = 0\n",
        "    mid = 0\n",
        "    high = len(arr) - 1\n",
        "\n",
        "    while mid <= high:\n",
        "        if arr[mid] == 0:\n",
        "            arr[low], arr[mid] = arr[mid], arr[low]\n",
        "            low += 1\n",
        "            mid += 1\n",
        "        elif arr[mid] == 1:\n",
        "            mid += 1\n",
        "        else:\n",
        "            arr[mid], arr[high] = arr[high], arr[mid]\n",
        "            high -= 1\n",
        "\n",
        "# Example usage:\n",
        "arr = [0, 1, 1, 0, 1, 2, 1, 2, 0, 0, 0, 1]\n",
        "sort_colors(arr)\n",
        "print(\"Sorted array:\", arr)\n"
      ],
      "metadata": {
        "colab": {
          "base_uri": "https://localhost:8080/"
        },
        "id": "P-qsa4TB7rBQ",
        "outputId": "ffd472c8-b100-4b4c-e8db-41dd482ef3a9"
      },
      "execution_count": 14,
      "outputs": [
        {
          "output_type": "stream",
          "name": "stdout",
          "text": [
            "Sorted array: [0, 0, 0, 0, 0, 1, 1, 1, 1, 1, 2, 2]\n"
          ]
        }
      ]
    },
    {
      "cell_type": "code",
      "source": [],
      "metadata": {
        "id": "hqGMeb875mSa"
      },
      "execution_count": null,
      "outputs": []
    }
  ]
}