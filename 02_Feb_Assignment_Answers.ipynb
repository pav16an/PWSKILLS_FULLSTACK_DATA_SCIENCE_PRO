{
  "cells": [
    {
      "cell_type": "markdown",
      "metadata": {
        "id": "view-in-github",
        "colab_type": "text"
      },
      "source": [
        "<a href=\"https://colab.research.google.com/github/pav16an/PWSKILLS_FULLSTACK_DATA_SCIENCE_PRO/blob/main/02_Feb_Assignment_Answers.ipynb\" target=\"_parent\"><img src=\"https://colab.research.google.com/assets/colab-badge.svg\" alt=\"Open In Colab\"/></a>"
      ]
    },
    {
      "cell_type": "markdown",
      "id": "bb272653",
      "metadata": {
        "id": "bb272653"
      },
      "source": [
        "**Assignment Questions – Python**"
      ]
    },
    {
      "cell_type": "markdown",
      "id": "e988834e",
      "metadata": {
        "id": "e988834e"
      },
      "source": [
        "**Q1. What are the characteristics of the tuples? Is tuple immutable?**\n",
        "Yes, tuples are immutable. Once created, you cannot change, add, or delete elements in a tuple.\n",
        "\n",
        "**Characteristics of Tuples:**\n",
        "1. Immutable\n",
        "2. Ordered\n",
        "3. Allow duplicate values\n",
        "4. Can store heterogeneous data\n",
        "5. Hashable if all elements are hashable\n",
        "6. Faster than lists for fixed-size data\n",
        "7. Support nesting and slicing"
      ]
    },
    {
      "cell_type": "markdown",
      "id": "d497ff16",
      "metadata": {
        "id": "d497ff16"
      },
      "source": [
        "**Q2. What are the two tuple methods in python? Give an example of each method. Give a reason why tuples have only two in-built methods as compared to Lists.**"
      ]
    },
    {
      "cell_type": "code",
      "execution_count": 1,
      "id": "68faf8d8",
      "metadata": {
        "id": "68faf8d8",
        "outputId": "46bfa137-a6ce-4ab6-855d-ed865abefee2",
        "colab": {
          "base_uri": "https://localhost:8080/"
        }
      },
      "outputs": [
        {
          "output_type": "stream",
          "name": "stdout",
          "text": [
            "2\n"
          ]
        }
      ],
      "source": [
        "t = (1, 2, 2, 3)\n",
        "print(t.count(2))  # Output: 2"
      ]
    },
    {
      "cell_type": "code",
      "execution_count": 2,
      "id": "2a861071",
      "metadata": {
        "id": "2a861071",
        "outputId": "2a45d6fe-68f2-4e84-cd9e-faff07664c64",
        "colab": {
          "base_uri": "https://localhost:8080/"
        }
      },
      "outputs": [
        {
          "output_type": "stream",
          "name": "stdout",
          "text": [
            "1\n"
          ]
        }
      ],
      "source": [
        "t = (1, 2, 3)\n",
        "print(t.index(2))  # Output: 1"
      ]
    },
    {
      "cell_type": "markdown",
      "id": "ad177e0c",
      "metadata": {
        "id": "ad177e0c"
      },
      "source": [
        "Reason: Tuples are immutable, so they don’t support modification methods like append, remove, etc."
      ]
    },
    {
      "cell_type": "markdown",
      "id": "7b6e66ad",
      "metadata": {
        "id": "7b6e66ad"
      },
      "source": [
        "**Q3. Which collection datatypes in python do not allow duplicate items? Write a code using a set to remove duplicates from the given list.**"
      ]
    },
    {
      "cell_type": "code",
      "execution_count": 3,
      "id": "6f47a27c",
      "metadata": {
        "id": "6f47a27c",
        "outputId": "5a8c97d3-7142-4971-9973-f442b5e6620b",
        "colab": {
          "base_uri": "https://localhost:8080/"
        }
      },
      "outputs": [
        {
          "output_type": "stream",
          "name": "stdout",
          "text": [
            "[1, 2, 3, 4]\n"
          ]
        }
      ],
      "source": [
        "List = [1, 1, 1, 2, 1, 3, 1, 4, 2, 1, 2, 2, 2, 3, 2, 4, 3, 1, 3, 2, 3, 3, 3, 4, 4, 1, 4, 2, 4, 3, 4, 4]\n",
        "unique_values = list(set(List))\n",
        "print(unique_values)"
      ]
    },
    {
      "cell_type": "markdown",
      "id": "9c8c272a",
      "metadata": {
        "id": "9c8c272a"
      },
      "source": [
        "**Q4. Explain the difference between the union() and update() methods for a set. Give an example of each method.**"
      ]
    },
    {
      "cell_type": "code",
      "execution_count": 4,
      "id": "abee07fe",
      "metadata": {
        "id": "abee07fe",
        "outputId": "8904f304-4854-44ef-c021-28862c1ba184",
        "colab": {
          "base_uri": "https://localhost:8080/"
        }
      },
      "outputs": [
        {
          "output_type": "stream",
          "name": "stdout",
          "text": [
            "{1, 2, 3, 4, 5}\n"
          ]
        }
      ],
      "source": [
        "A = {1, 2, 3}\n",
        "B = {3, 4, 5}\n",
        "print(A.union(B))  # Output: {1, 2, 3, 4, 5}"
      ]
    },
    {
      "cell_type": "code",
      "execution_count": 5,
      "id": "7b01a9fd",
      "metadata": {
        "id": "7b01a9fd",
        "outputId": "d4d1a10e-c1f8-4cf5-e3b0-56e140cd2fc2",
        "colab": {
          "base_uri": "https://localhost:8080/"
        }
      },
      "outputs": [
        {
          "output_type": "stream",
          "name": "stdout",
          "text": [
            "{1, 2, 3, 4, 5}\n"
          ]
        }
      ],
      "source": [
        "A.update(B)\n",
        "print(A)  # Output: {1, 2, 3, 4, 5}"
      ]
    },
    {
      "cell_type": "markdown",
      "id": "1c1bff24",
      "metadata": {
        "id": "1c1bff24"
      },
      "source": [
        "**Q5. What is a dictionary? Give an example. Also, state whether a dictionary is ordered or unordered.**"
      ]
    },
    {
      "cell_type": "code",
      "execution_count": 6,
      "id": "77ac29e2",
      "metadata": {
        "id": "77ac29e2",
        "outputId": "71643fbc-d992-466d-ae9a-1a2bccbef4d2",
        "colab": {
          "base_uri": "https://localhost:8080/"
        }
      },
      "outputs": [
        {
          "output_type": "stream",
          "name": "stdout",
          "text": [
            "Pavan\n"
          ]
        }
      ],
      "source": [
        "student = {'name': 'Pavan', 'age': 22}\n",
        "print(student['name'])  # Output: Pavan"
      ]
    },
    {
      "cell_type": "markdown",
      "id": "3043c198",
      "metadata": {
        "id": "3043c198"
      },
      "source": [
        "**Q6. Can we create a nested dictionary? If so, please give an example by creating a simple one-level nested dictionary.**"
      ]
    },
    {
      "cell_type": "code",
      "execution_count": 7,
      "id": "248418ee",
      "metadata": {
        "id": "248418ee"
      },
      "outputs": [],
      "source": [
        "students = {\n",
        "    \"student1\": {\"name\": \"Pavan\", \"age\": 22},\n",
        "    \"student2\": {\"name\": \"Anu\", \"age\": 21}\n",
        "}"
      ]
    },
    {
      "cell_type": "markdown",
      "id": "75b6f4e4",
      "metadata": {
        "id": "75b6f4e4"
      },
      "source": [
        "**Q7. Using setdefault() method, create key named topics in the given dictionary and also add the value of the key as this list ['Python', 'Machine Learning’, 'Deep Learning']**"
      ]
    },
    {
      "cell_type": "code",
      "execution_count": 8,
      "id": "7a3078e7",
      "metadata": {
        "id": "7a3078e7",
        "outputId": "cec24456-63c2-496e-c389-568d81c56016",
        "colab": {
          "base_uri": "https://localhost:8080/"
        }
      },
      "outputs": [
        {
          "output_type": "stream",
          "name": "stdout",
          "text": [
            "{'language': 'Python', 'course': 'Data Science Masters', 'topics': ['Python', 'Machine Learning', 'Deep Learning']}\n"
          ]
        }
      ],
      "source": [
        "dict1 = {'language': 'Python', 'course': 'Data Science Masters'}\n",
        "dict1.setdefault('topics', ['Python', 'Machine Learning', 'Deep Learning'])\n",
        "print(dict1)"
      ]
    },
    {
      "cell_type": "markdown",
      "id": "397d4b2b",
      "metadata": {
        "id": "397d4b2b"
      },
      "source": [
        "**Q8. What are the three view objects in dictionaries? Use the three in-built methods in python to display these three view objects for the given dictionary.**"
      ]
    },
    {
      "cell_type": "code",
      "execution_count": 9,
      "id": "209b6804",
      "metadata": {
        "id": "209b6804",
        "outputId": "b3e940cf-50c3-4a7d-dcfd-32135f0f92f0",
        "colab": {
          "base_uri": "https://localhost:8080/"
        }
      },
      "outputs": [
        {
          "output_type": "stream",
          "name": "stdout",
          "text": [
            "dict_keys(['Sport', 'Teams'])\n",
            "dict_values(['Cricket', ['India', 'Australia', 'England', 'South Africa', 'Sri Lanka', 'New Zealand']])\n",
            "dict_items([('Sport', 'Cricket'), ('Teams', ['India', 'Australia', 'England', 'South Africa', 'Sri Lanka', 'New Zealand'])])\n"
          ]
        }
      ],
      "source": [
        "dict1 = {'Sport': 'Cricket', 'Teams': ['India', 'Australia', 'England', 'South Africa', 'Sri Lanka', 'New Zealand']}\n",
        "print(dict1.keys())\n",
        "print(dict1.values())\n",
        "print(dict1.items())"
      ]
    }
  ],
  "metadata": {
    "colab": {
      "provenance": [],
      "include_colab_link": true
    },
    "language_info": {
      "name": "python"
    },
    "kernelspec": {
      "name": "python3",
      "display_name": "Python 3"
    }
  },
  "nbformat": 4,
  "nbformat_minor": 5
}