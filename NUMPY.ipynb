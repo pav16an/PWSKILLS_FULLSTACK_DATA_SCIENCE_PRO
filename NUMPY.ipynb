{
  "nbformat": 4,
  "nbformat_minor": 0,
  "metadata": {
    "colab": {
      "provenance": [],
      "authorship_tag": "ABX9TyOmq79WZQdrszxPXUE0NUyk",
      "include_colab_link": true
    },
    "kernelspec": {
      "name": "python3",
      "display_name": "Python 3"
    },
    "language_info": {
      "name": "python"
    }
  },
  "cells": [
    {
      "cell_type": "markdown",
      "metadata": {
        "id": "view-in-github",
        "colab_type": "text"
      },
      "source": [
        "<a href=\"https://colab.research.google.com/github/pav16an/PWSKILLS_FULLSTACK_DATA_SCIENCE_PRO/blob/main/NUMPY.ipynb\" target=\"_parent\"><img src=\"https://colab.research.google.com/assets/colab-badge.svg\" alt=\"Open In Colab\"/></a>"
      ]
    },
    {
      "cell_type": "markdown",
      "source": [
        "## 1. What is a Python library? Why ^o we use Python libraries?"
      ],
      "metadata": {
        "id": "OUakc5Ll8amP"
      }
    },
    {
      "cell_type": "markdown",
      "source": [
        "\n",
        "A Python library is a collection of pre-written code that you can use in your own programs to perform common tasks. These libraries contain modules, which are files with reusable code that can be imported into your Python script.\n",
        "\n",
        "We use Python libraries for several reasons:\n",
        "\n",
        "**Efficiency:** Libraries save you time because you don't have to write code from scratch for common tasks. For example, instead of writing your own functions to handle complex mathematical operations, you can use the NumPy library.\n",
        "\n",
        "**Reliability:** Libraries are often developed and tested by many people, so they are usually more reliable and have fewer bugs than code you might write yourself.\n",
        "\n",
        "**Functionality:** Libraries can provide functionality that would be difficult or time-consuming to develop on your own. For example, the Pandas library provides powerful tools for data manipulation and analysis.\n",
        "\n",
        "**Community Support:** Many libraries are open-source, meaning they have a community of developers who contribute to their development and offer support. This can be very helpful if you run into problems or have questions."
      ],
      "metadata": {
        "id": "LcDz4m0o8kFD"
      }
    },
    {
      "cell_type": "markdown",
      "source": [
        "## 2. What is the difference between Numpy array and List?"
      ],
      "metadata": {
        "id": "QvRGZXT49cM-"
      }
    },
    {
      "cell_type": "markdown",
      "source": [
        "A Python library is a collection of pre-written code that you can use in your own programs to perform common tasks. These libraries contain modules, which are files with reusable code that can be imported into your Python script.\n",
        "\n",
        "We use Python libraries for several reasons:\n",
        "\n",
        "Efficiency: Libraries save you time because you don't have to write code from scratch for common tasks. For example, instead of writing your own functions to handle complex mathematical operations, you can use the NumPy library.\n",
        "\n",
        "Reliability: Libraries are often developed and tested by many people, so they are usually more reliable and have fewer bugs than code you might write yourself.\n",
        "\n",
        "Functionality: Libraries can provide functionality that would be difficult or time-consuming to develop on your own. For example, the Pandas library provides powerful tools for data manipulation and analysis.\n",
        "\n",
        "Community Support: Many libraries are open-source, meaning they have a community of developers who contribute to their development and offer support. This can be very helpful if you run into problems or have questions.\n",
        "\n",
        "Overall, Python libraries make programming easier, faster, and more efficient by providing ready-to-use tools and functions.\n",
        "\n",
        "\n",
        "\n",
        "\n",
        "\n",
        "2. What is the ^ifference between Numpy array an^ List? write as astudent\n",
        "ChatGPT\n",
        "The difference between a NumPy array and a list in Python is quite important, especially when working with data science or numerical computations. Here are the main differences:\n",
        "\n",
        "Performance:\n",
        "\n",
        "NumPy Array: NumPy arrays are more efficient for numerical operations and can handle large amounts of data faster. They use less memory and have better performance because they are implemented in C.\n",
        "List: Lists are built-in Python data structures that are more flexible but slower for numerical operations because they are not optimized for such tasks.\n",
        "Homogeneity:\n",
        "\n",
        "NumPy Array: NumPy arrays require all elements to be of the same data type (e.g., all integers or all floats). This allows for more efficient storage and computation.\n",
        "List: Lists can contain elements of different data types (e.g., integers, floats, strings) in the same list, which provides flexibility but can be less efficient for numerical computations.\n",
        "Functionality:\n",
        "\n",
        "NumPy Array: NumPy provides a wide range of mathematical and logical operations that can be performed on arrays. This includes element-wise operations, broadcasting, and linear algebra functions.\n",
        "List: Lists are more general-purpose and don't have built-in support for advanced mathematical operations. You'd have to use loops or list comprehensions to perform similar tasks, which can be slower and more cumbersome.\n",
        "Multidimensional Support:\n",
        "\n",
        "NumPy Array: NumPy arrays can be multi-dimensional, making them very powerful for representing matrices, tensors, and higher-dimensional data structures.\n",
        "List: While you can create lists of lists to represent multi-dimensional data, this approach is less efficient and lacks the advanced functionality provided by NumPy.\n",
        "Memory Consumption:\n",
        "\n",
        "NumPy Array: Due to their homogeneous nature and efficient implementation, NumPy arrays consume less memory compared to lists for large datasets.\n",
        "List: Lists, being more flexible and able to hold heterogeneous data, generally consume more memory."
      ],
      "metadata": {
        "id": "5ee7Otw39bvQ"
      }
    },
    {
      "cell_type": "markdown",
      "source": [
        "## 3. Find the shape, size and dimension of the following array?\n",
        "\n",
        "[[1, 2, 3, 4]\n",
        "\n",
        "[5, 6, 7, 8],\n",
        "\n",
        "[9, 10, 11, 12]]"
      ],
      "metadata": {
        "id": "FRmeftQk9rW7"
      }
    },
    {
      "cell_type": "code",
      "source": [
        "# shape of the array\n",
        "import numpy as np\n",
        "\n",
        "arr1=np.array([[1, 2, 3, 4],[5, 6, 7, 8],[9, 10, 11, 12]])\n",
        "print(f'Shape of the array is {arr1.shape}')\n",
        "\n",
        "# size of the array\n",
        "print(f'size of the array {arr1.size}')\n",
        "\n",
        "# dimensions of the array\n",
        "print(f'dimensions of the array {arr1.ndim}')\n"
      ],
      "metadata": {
        "colab": {
          "base_uri": "https://localhost:8080/"
        },
        "id": "UXaR0thU8eSN",
        "outputId": "7e9c0d0c-a0dc-44eb-ada8-2ea7824b0563"
      },
      "execution_count": null,
      "outputs": [
        {
          "output_type": "stream",
          "name": "stdout",
          "text": [
            "Shape of the array is (3, 4)\n",
            "size of the array 12\n",
            "dimensions of the array 2\n"
          ]
        }
      ]
    },
    {
      "cell_type": "markdown",
      "source": [
        "## 4. Write python code to access the first row of the following array?\n",
        "\n",
        "[[1, 2, 3, 4]\n",
        "\n",
        "[5, 6, 7, 8],\n",
        "\n",
        "[9, 10, 11, 12]]"
      ],
      "metadata": {
        "id": "Wh9ltZVo_Vy0"
      }
    },
    {
      "cell_type": "code",
      "source": [
        "arr2 = np.array([[1, 2, 3, 4],\n",
        "\n",
        "[5, 6, 7, 8],\n",
        "\n",
        "[9, 10, 11, 12]])\n",
        "\n",
        "print(f'first row of the array {arr2[0:1]} ')"
      ],
      "metadata": {
        "colab": {
          "base_uri": "https://localhost:8080/"
        },
        "id": "HLoRyiqQ99vf",
        "outputId": "7c428188-d83d-47dc-e6a4-0d9433d1b249"
      },
      "execution_count": null,
      "outputs": [
        {
          "output_type": "stream",
          "name": "stdout",
          "text": [
            "first row of the array [[1 2 3 4]] \n"
          ]
        }
      ]
    },
    {
      "cell_type": "markdown",
      "source": [
        "## 5. How do you access the element at the third row and fourth column from the given numpy array?\n",
        "\n",
        "[[1, 2, 3, 4]\n",
        "\n",
        "[5, 6, 7, 8],\n",
        "\n",
        "[9, 10, 11, 12]]"
      ],
      "metadata": {
        "id": "XaqfHF9wAEoC"
      }
    },
    {
      "cell_type": "code",
      "source": [
        "arr2 =np.array( [[1, 2, 3, 4],\n",
        "\n",
        "[5, 6, 7, 8],\n",
        "\n",
        "[9, 10, 11, 12]])\n",
        "\n",
        "print(f'Third row and fourth column elements {arr2[2,3]} ')"
      ],
      "metadata": {
        "colab": {
          "base_uri": "https://localhost:8080/"
        },
        "id": "7YJUysfR_kHK",
        "outputId": "d2ffce8b-1e88-4528-ab00-c387fe9dbf5a"
      },
      "execution_count": null,
      "outputs": [
        {
          "output_type": "stream",
          "name": "stdout",
          "text": [
            "Third row and fourth column elements 12 \n"
          ]
        }
      ]
    },
    {
      "cell_type": "markdown",
      "source": [
        "## 6. Write code to extract all odd-indexed elements from the given numpy array?\n",
        "\n",
        "[[1, 2, 3, 4]\n",
        "\n",
        "[5, 6, 7, 8],\n",
        "\n",
        "[9, 10, 11, 12]]"
      ],
      "metadata": {
        "id": "hJZdd8jeBEO8"
      }
    },
    {
      "cell_type": "code",
      "source": [
        "arr3 = np.array([[1, 2, 3, 4],[5, 6, 7, 8],[9, 10, 11, 12]])\n",
        "print(f'Odd indexed elements are {arr3[0:3 , 1::2]}')"
      ],
      "metadata": {
        "colab": {
          "base_uri": "https://localhost:8080/"
        },
        "id": "UwGB25FXAQEv",
        "outputId": "3d865b3a-48d5-4f6f-e2de-f671563124c2"
      },
      "execution_count": null,
      "outputs": [
        {
          "output_type": "stream",
          "name": "stdout",
          "text": [
            "Odd indexed elements are [[ 2  4]\n",
            " [ 6  8]\n",
            " [10 12]]\n"
          ]
        }
      ]
    },
    {
      "cell_type": "markdown",
      "source": [
        "## 7. How can you generate a random 3x3 matrix with values between 0 and 1?"
      ],
      "metadata": {
        "id": "L1etPwqeFSdb"
      }
    },
    {
      "cell_type": "code",
      "source": [
        "arr4 = np.random.rand(3,3)\n",
        "arr4"
      ],
      "metadata": {
        "colab": {
          "base_uri": "https://localhost:8080/"
        },
        "id": "Fzq9W5ZFBizq",
        "outputId": "ec8dd816-7837-447f-9848-714025e13ce9"
      },
      "execution_count": null,
      "outputs": [
        {
          "output_type": "execute_result",
          "data": {
            "text/plain": [
              "array([[0.74246246, 0.86388168, 0.69679191],\n",
              "       [0.80332666, 0.93792353, 0.43157621],\n",
              "       [0.85366848, 0.4080738 , 0.5410472 ]])"
            ]
          },
          "metadata": {},
          "execution_count": 51
        }
      ]
    },
    {
      "cell_type": "markdown",
      "source": [
        "## 8. Describe the difference between np.random.rand and np.random.randn?"
      ],
      "metadata": {
        "id": "V4Er6uL6KTqk"
      }
    },
    {
      "cell_type": "markdown",
      "source": [
        " The difference between np.random.rand and np.random.randn in NumPy lies in the The difference between np.random.rand and np.random.randn in NumPy lies in the distribution of the generated random numbers. Here’s a detailed comparison:\n",
        "\n",
        "## np.random.rand\n",
        "Purpose: Generates random numbers from a uniform distribution.\n",
        "Range: The values are uniformly distributed between 0 and 1.\n",
        "Usage: Commonly used when you need random numbers within a specific range.\n",
        "Syntax:\n",
        "python\n",
        "Copy code\n",
        "np.random.rand(d0, d1, ..., dn)\n",
        "d0, d1, ..., dn: Dimensions of the returned array.\n",
        "Example:\n",
        "\n",
        "\n",
        "```\n",
        "import numpy as np\n",
        "# Generate a 3x3 matrix with random values between 0 and 1\n",
        "uniform_random_matrix = np.random.rand(3, 3)\n",
        "print(uniform_random_matrix)\n",
        "```\n",
        "Output:\n",
        "\n",
        "[[0.37454012 0.95071431 0.73199394]\n",
        " [0.59865848 0.15601864 0.15599452]\n",
        " [0.05808361 0.86617615 0.60111501]]\n",
        "\n",
        "##np.random.randn\n",
        "\n",
        "Purpose: Generates random numbers from a standard normal distribution (Gaussian distribution).\n",
        "Range: The values follow a normal distribution with a mean of 0 and a standard deviation of 1.\n",
        "Usage: Used when you need random numbers that follow a normal distribution, often used in statistics, machine learning, and data analysis.\n",
        "\n",
        "np.random.randn(d0, d1, ..., dn)\n",
        "d0, d1, ..., dn: Dimensions of the returned array.\n",
        "Example:\n",
        "```\n",
        "import numpy as np\n",
        "# Generate a 3x3 matrix with random values from a standard normal distribution\n",
        "normal_random_matrix = np.random.randn(3, 3)\n",
        "print(normal_random_matrix)\n",
        "```\n",
        "Output:\n",
        "\n",
        "[[ 0.49671415 -0.1382643   0.64768854]\n",
        " [ 1.52302986 -0.23415337 -0.23413696]\n",
        " [ 1.57921282  0.76743473 -0.46947439]]\n",
        "Key Differences:\n",
        "Distribution:\n",
        "\n",
        "np.random.rand: Generates numbers from a uniform distribution between 0 and 1.\n",
        "np.random.randn: Generates numbers from a standard normal distribution with a mean of 0 and a standard deviation of 1.\n",
        "Usage:\n",
        "\n",
        "Use np.random.rand when you need uniformly distributed random numbers within the range [0, 1].\n",
        "Use np.random.randn when you need random numbers that follow a normal distribution, which is useful in various statistical applications and for initializing weights in neural networks."
      ],
      "metadata": {
        "id": "ifGVn6YZKdHj"
      }
    },
    {
      "cell_type": "markdown",
      "source": [
        "## 9. Write code to increase the dimension of the following array?\n",
        "\n",
        "[[1, 2, 3, 4]\n",
        "\n",
        "[5, 6, 7, 8],\n",
        "\n",
        "[9, 10, 11, 12]]"
      ],
      "metadata": {
        "id": "jczXuR4XOH5-"
      }
    },
    {
      "cell_type": "code",
      "source": [
        "arr5=np.array([[1, 2, 3, 4],[5, 6, 7, 8],[9, 10, 11, 12]])\n",
        "np.expand_dims(arr5,axis=0)"
      ],
      "metadata": {
        "id": "hKaMmiC0FgYg",
        "colab": {
          "base_uri": "https://localhost:8080/"
        },
        "outputId": "860135a3-5e87-464e-fa4b-0e2690d58fdf"
      },
      "execution_count": null,
      "outputs": [
        {
          "output_type": "execute_result",
          "data": {
            "text/plain": [
              "array([[[ 1,  2,  3,  4],\n",
              "        [ 5,  6,  7,  8],\n",
              "        [ 9, 10, 11, 12]]])"
            ]
          },
          "metadata": {},
          "execution_count": 53
        }
      ]
    },
    {
      "cell_type": "markdown",
      "source": [
        "## 10. How to transpose the following array in NumPy?\n",
        "\n",
        "[[1, 2, 3, 4]\n",
        "\n",
        "[5, 6, 7, 8],\n",
        "\n",
        "[9, 10, 11, 12]]"
      ],
      "metadata": {
        "id": "XkFAVYYZPoHc"
      }
    },
    {
      "cell_type": "code",
      "source": [
        "arr6=np.array([[1, 2, 3, 4],[5, 6, 7, 8],[9, 10, 11, 12]])\n",
        "arr6.T"
      ],
      "metadata": {
        "colab": {
          "base_uri": "https://localhost:8080/"
        },
        "id": "kpnVYDcZPBeX",
        "outputId": "7d7143c5-e7b5-4c6a-f828-abe3bac25758"
      },
      "execution_count": null,
      "outputs": [
        {
          "output_type": "execute_result",
          "data": {
            "text/plain": [
              "array([[ 1,  5,  9],\n",
              "       [ 2,  6, 10],\n",
              "       [ 3,  7, 11],\n",
              "       [ 4,  8, 12]])"
            ]
          },
          "metadata": {},
          "execution_count": 56
        }
      ]
    },
    {
      "cell_type": "markdown",
      "source": [
        "## 11. Consider the following matrix:\n",
        "\n",
        "Matrix A2 [[1, 2, 3, 4] [5, 6, 7, 8],[9, 10, 11, 12]]\n",
        "\n",
        "Matrix B2 [[1, 2, 3, 4] [5, 6, 7, 8],[9, 10, 11, 12]]\n",
        "\n",
        "Perform the following operation using Python1\n",
        "1. index wise multiplication\n",
        "2. matrix multiplication\n",
        "3. add both the matrics\n",
        "4. Subtract matrix B from A\n",
        "5. Divide Matrix B by A\n"
      ],
      "metadata": {
        "id": "D9v8QJ_7QHyn"
      }
    },
    {
      "cell_type": "code",
      "source": [
        "# index wise multiplication\n",
        "A = np.array([[1, 2, 3, 4],[5, 6, 7, 8],[9, 10, 11, 12]])\n",
        "B = np.array([[1, 2, 3, 4],[5, 6, 7, 8],[9, 10, 11, 12]])\n",
        "c=B.T\n",
        "\n",
        "print(f'index wise multiplication {A*B}')\n",
        "print(f'matrix wise multiplication {A@c}')\n",
        "print(f'add both the matrics {A+B}')\n",
        "print(f'Subtract matric B from A {A-B}')\n",
        "print(f'DIvide Matrix {B/A}')"
      ],
      "metadata": {
        "colab": {
          "base_uri": "https://localhost:8080/"
        },
        "id": "NEt0xrq3P9g3",
        "outputId": "efe4f136-332f-4f81-941d-d2462160f98c"
      },
      "execution_count": null,
      "outputs": [
        {
          "output_type": "stream",
          "name": "stdout",
          "text": [
            "index wise multiplication [[  1   4   9  16]\n",
            " [ 25  36  49  64]\n",
            " [ 81 100 121 144]]\n",
            "matrix wise multiplication [[ 30  70 110]\n",
            " [ 70 174 278]\n",
            " [110 278 446]]\n",
            "add both the matrics [[ 2  4  6  8]\n",
            " [10 12 14 16]\n",
            " [18 20 22 24]]\n",
            "Subtract matric B from A [[0 0 0 0]\n",
            " [0 0 0 0]\n",
            " [0 0 0 0]]\n",
            "DIvide Matrix [[1. 1. 1. 1.]\n",
            " [1. 1. 1. 1.]\n",
            " [1. 1. 1. 1.]]\n"
          ]
        }
      ]
    },
    {
      "cell_type": "markdown",
      "source": [
        "## 12.  Which function in Numpy can be used to swap the byte order of an array?"
      ],
      "metadata": {
        "id": "FM-arOhKSqsb"
      }
    },
    {
      "cell_type": "markdown",
      "source": [
        "In NumPy, the function used to swap the byte order of an array is numpy.ndarray.byteswap. This function allows you to swap the bytes of the array elements, which can be useful when dealing with data that has different endianness.\n",
        "\n"
      ],
      "metadata": {
        "id": "yb034h5Q547T"
      }
    },
    {
      "cell_type": "code",
      "source": [
        "import numpy as np\n",
        "\n",
        "# Create an array with a specific byte order\n",
        "arr = np.array([1, 256, 65536], dtype=np.int32)\n",
        "print(\"Original array:\")\n",
        "print(arr)\n",
        "print(\"Original array byte order:\", arr.dtype.byteorder)\n",
        "\n",
        "# Swap the byte order\n",
        "swapped_arr = arr.byteswap().newbyteorder()\n",
        "print(\"\\nArray after byte swap:\")\n",
        "print(swapped_arr)\n",
        "print(\"Swapped array byte order:\", swapped_arr.dtype.byteorder)\n",
        "\n"
      ],
      "metadata": {
        "colab": {
          "base_uri": "https://localhost:8080/"
        },
        "id": "NAoG5OWPRJGd",
        "outputId": "23683c3d-bc9c-48fd-f992-d288404f198d"
      },
      "execution_count": null,
      "outputs": [
        {
          "output_type": "stream",
          "name": "stdout",
          "text": [
            "Original array:\n",
            "[    1   256 65536]\n",
            "Original array byte order: =\n",
            "\n",
            "Array after byte swap:\n",
            "[    1   256 65536]\n",
            "Swapped array byte order: >\n"
          ]
        }
      ]
    },
    {
      "cell_type": "markdown",
      "source": [
        "## 13.  What is the significance of the np.linalg.inv function?"
      ],
      "metadata": {
        "id": "s-SpcbHB8S2n"
      }
    },
    {
      "cell_type": "markdown",
      "source": [
        "\n",
        "The np.linalg.inv function in NumPy is used to compute the inverse of a given square matrix. The inverse of a matrix\n",
        "𝐴\n",
        "A is a matrix\n",
        "𝐴\n",
        "−\n",
        "1\n",
        "A\n",
        "−1\n",
        "  such that when\n",
        "𝐴\n",
        "A is multiplied by\n",
        "𝐴\n",
        "−\n",
        "1\n",
        "A\n",
        "−1\n",
        " , the result is the identity matrix\n",
        "𝐼\n",
        "I. In mathematical terms,\n",
        "𝐴\n",
        "×\n",
        "𝐴\n",
        "−\n",
        "1\n",
        "=\n",
        "𝐴\n",
        "−\n",
        "1\n",
        "×\n",
        "𝐴\n",
        "=\n",
        "𝐼\n",
        "A×A\n",
        "−1\n",
        " =A\n",
        "−1\n",
        " ×A=I.\n",
        "\n",
        "Significance of np.linalg.inv:\n",
        "Solving Linear Systems: The inverse of a matrix is often used to solve systems of linear equations. If\n",
        "𝐴\n",
        "𝑥\n",
        "=\n",
        "𝑏\n",
        "Ax=b, then\n",
        "𝑥\n",
        "=\n",
        "𝐴\n",
        "−\n",
        "1\n",
        "𝑏\n",
        "x=A\n",
        "−1\n",
        " b. The np.linalg.inv function provides a straightforward way to find\n",
        "𝐴\n",
        "−\n",
        "1\n",
        "A\n",
        "−1\n",
        " .\n",
        "\n",
        "Matrix Operations: Inverse matrices are used in various matrix operations, including transformations, rotations, and scaling in graphics and engineering.\n",
        "\n",
        "Theoretical Applications: In linear algebra and advanced mathematics, the concept of an inverse matrix is fundamental for understanding matrix decompositions, eigenvalues, eigenvectors, and other theoretical constructs."
      ],
      "metadata": {
        "id": "Ny6EA6sb-Dtr"
      }
    },
    {
      "cell_type": "code",
      "source": [
        "import numpy as np\n",
        "\n",
        "# Define a square matrix A\n",
        "A = np.array([[1, 2], [3, 4]])\n",
        "\n",
        "# Compute the inverse of A\n",
        "A_inv = np.linalg.inv(A)\n",
        "\n",
        "print(\"Matrix A:\")\n",
        "print(A)\n",
        "\n",
        "print(\"\\nInverse of Matrix A (A_inv):\")\n",
        "print(A_inv)\n",
        "\n",
        "# Verify that A * A_inv = I\n",
        "identity_matrix = np.dot(A, A_inv)\n",
        "print(\"\\nProduct of A and A_inv (should be identity matrix):\")\n",
        "print(identity_matrix)\n"
      ],
      "metadata": {
        "colab": {
          "base_uri": "https://localhost:8080/"
        },
        "id": "6agpd02W8AH7",
        "outputId": "543d748b-7f09-4d05-bfa0-7dbd5d38ac6d"
      },
      "execution_count": null,
      "outputs": [
        {
          "output_type": "stream",
          "name": "stdout",
          "text": [
            "Matrix A:\n",
            "[[1 2]\n",
            " [3 4]]\n",
            "\n",
            "Inverse of Matrix A (A_inv):\n",
            "[[-2.   1. ]\n",
            " [ 1.5 -0.5]]\n",
            "\n",
            "Product of A and A_inv (should be identity matrix):\n",
            "[[1.0000000e+00 0.0000000e+00]\n",
            " [8.8817842e-16 1.0000000e+00]]\n"
          ]
        }
      ]
    },
    {
      "cell_type": "markdown",
      "source": [
        "## 14. What does the np.reshape function do, and how is it used?"
      ],
      "metadata": {
        "id": "kmfieQCY-YHx"
      }
    },
    {
      "cell_type": "markdown",
      "source": [
        "The np.reshape function in NumPy is used to change the shape of an array without changing its data. It returns a new array with the specified shape.\n",
        "\n",
        "Syntax\n",
        "python\n",
        "Copy code\n",
        "np.reshape(array, newshape, order='C')\n",
        "array: The input array to be reshaped.\n",
        "newshape: The new shape for the array. This can be an int or a tuple of ints.\n",
        "order: Determines the order in which elements are read from the input array and placed into the reshaped array. Can be:\n",
        "'C' (default) for row-major (C-style) order,\n",
        "'F' for column-major (Fortran-style) order,\n",
        "'A' for 'F' if the array is Fortran contiguous, 'C' otherwise,\n",
        "'K' for retaining the order of the input array as much as possible.\n",
        "Example\n",
        "Here's an example of how to use np.reshape:\n",
        "\n",
        "python\n",
        "Copy code\n",
        "import numpy as np\n",
        "\n",
        "# Original array\n",
        "original_array = np.array([1, 2, 3, 4, 5, 6])\n",
        "\n",
        "# Reshape to a 2x3 array\n",
        "reshaped_array = np.reshape(original_array, (2, 3))\n",
        "\n",
        "print(\"Original array:\")\n",
        "print(original_array)\n",
        "\n",
        "print(\"\\nReshaped array (2x3):\")\n",
        "print(reshaped_array)\n",
        "Output:\n",
        "\n",
        "lua\n",
        "Copy code\n",
        "Original array:\n",
        "[1 2 3 4 5 6]\n",
        "\n",
        "Reshaped array (2x3):\n",
        "[[1 2 3]\n",
        " [4 5 6]]\n",
        "Important Points\n",
        "Total Size: The total number of elements in the original array must match the total number of elements in the new shape. For example, a 6-element array can be reshaped to (2, 3) because\n",
        "2\n",
        "×\n",
        "3\n",
        "=\n",
        "6\n",
        "2×3=6.\n",
        "\n",
        "Automatic Dimension Inference: You can use -1 in one of the dimensions to automatically infer what the dimension should be based on the total size of the array. For example:\n",
        "\n",
        "python\n",
        "Copy code\n",
        "reshaped_array = np.reshape(original_array, (3, -1))\n",
        "# This will reshape the array to (3, 2)\n",
        "Order: The order parameter allows control over how elements are read and placed into the reshaped array, which can be important for performance and memory layout considerations."
      ],
      "metadata": {
        "id": "6DNduc5--sOZ"
      }
    },
    {
      "cell_type": "markdown",
      "source": [
        "## The np.reshape function in NumPy is used to change the shape of an array without changing its data. It returns a new array with the specified shape.\n",
        "\n",
        "Syntax\n",
        "python\n",
        "Copy code\n",
        "np.reshape(array, newshape, order='C')\n",
        "array: The input array to be reshaped.\n",
        "newshape: The new shape for the array. This can be an int or a tuple of ints.\n",
        "order: Determines the order in which elements are read from the input array and placed into the reshaped array. Can be:\n",
        "'C' (default) for row-major (C-style) order,\n",
        "'F' for column-major (Fortran-style) order,\n",
        "'A' for 'F' if the array is Fortran contiguous, 'C' otherwise,\n",
        "'K' for retaining the order of the input array as much as possible.\n",
        "Example\n",
        "Here's an example of how to use np.reshape:\n",
        "\n",
        "python\n",
        "Copy code\n",
        "import numpy as np\n",
        "\n",
        "# Original array\n",
        "original_array = np.array([1, 2, 3, 4, 5, 6])\n",
        "\n",
        "# Reshape to a 2x3 array\n",
        "reshaped_array = np.reshape(original_array, (2, 3))\n",
        "\n",
        "print(\"Original array:\")\n",
        "print(original_array)\n",
        "\n",
        "print(\"\\nReshaped array (2x3):\")\n",
        "print(reshaped_array)\n",
        "Output:\n",
        "\n",
        "lua\n",
        "Copy code\n",
        "Original array:\n",
        "[1 2 3 4 5 6]\n",
        "\n",
        "Reshaped array (2x3):\n",
        "[[1 2 3]\n",
        " [4 5 6]]\n",
        "Important Points\n",
        "Total Size: The total number of elements in the original array must match the total number of elements in the new shape. For example, a 6-element array can be reshaped to (2, 3) because\n",
        "2\n",
        "×\n",
        "3\n",
        "=\n",
        "6\n",
        "2×3=6.\n",
        "\n",
        "Automatic Dimension Inference: You can use -1 in one of the dimensions to automatically infer what the dimension should be based on the total size of the array. For example:\n",
        "\n",
        "python\n",
        "Copy code\n",
        "reshaped_array = np.reshape(original_array, (3, -1))\n",
        "# This will reshape the array to (3, 2)\n",
        "Order: The order parameter allows control over how elements are read and placed into the reshaped array, which can be important for performance and memory layout considerations."
      ],
      "metadata": {
        "id": "OeopKkcBzGgF"
      }
    },
    {
      "cell_type": "markdown",
      "source": [
        "## The np.reshape function in NumPy is used to change the shape of an array without changing its data. It returns a new array with the specified shape.\n",
        "\n",
        "Syntax\n",
        "python\n",
        "Copy code\n",
        "np.reshape(array, newshape, order='C')\n",
        "array: The input array to be reshaped.\n",
        "newshape: The new shape for the array. This can be an int or a tuple of ints.\n",
        "order: Determines the order in which elements are read from the input array and placed into the reshaped array. Can be:\n",
        "'C' (default) for row-major (C-style) order,\n",
        "'F' for column-major (Fortran-style) order,\n",
        "'A' for 'F' if the array is Fortran contiguous, 'C' otherwise,\n",
        "'K' for retaining the order of the input array as much as possible.\n",
        "Example\n",
        "Here's an example of how to use np.reshape:\n",
        "\n",
        "python\n",
        "Copy code\n",
        "import numpy as np\n",
        "\n",
        "# Original array\n",
        "original_array = np.array([1, 2, 3, 4, 5, 6])\n",
        "\n",
        "# Reshape to a 2x3 array\n",
        "reshaped_array = np.reshape(original_array, (2, 3))\n",
        "\n",
        "print(\"Original array:\")\n",
        "print(original_array)\n",
        "\n",
        "print(\"\\nReshaped array (2x3):\")\n",
        "print(reshaped_array)\n",
        "Output:\n",
        "\n",
        "lua\n",
        "Copy code\n",
        "Original array:\n",
        "[1 2 3 4 5 6]\n",
        "\n",
        "Reshaped array (2x3):\n",
        "[[1 2 3]\n",
        " [4 5 6]]\n",
        "Important Points\n",
        "Total Size: The total number of elements in the original array must match the total number of elements in the new shape. For example, a 6-element array can be reshaped to (2, 3) because\n",
        "2\n",
        "×\n",
        "3\n",
        "=\n",
        "6\n",
        "2×3=6.\n",
        "\n",
        "Automatic Dimension Inference: You can use -1 in one of the dimensions to automatically infer what the dimension should be based on the total size of the array. For example:\n",
        "\n",
        "python\n",
        "Copy code\n",
        "reshaped_array = np.reshape(original_array, (3, -1))\n",
        "# This will reshape the array to (3, 2)\n",
        "Order: The order parameter allows control over how elements are read and placed into the reshaped array, which can be important for performance and memory layout considerations."
      ],
      "metadata": {
        "id": "azGG4i1qzJcy"
      }
    },
    {
      "cell_type": "markdown",
      "source": [
        "## 15. What is broadcasting in Numpy?"
      ],
      "metadata": {
        "id": "JlVAtD1_zTXs"
      }
    },
    {
      "cell_type": "markdown",
      "source": [
        "Broadcasting in NumPy refers to the ability to perform element-wise operations on arrays of different shapes. This feature allows NumPy to treat smaller arrays during arithmetic operations as if they have the same shape as the larger array, making array operations more efficient and concise.\n",
        "\n",
        "Rules for Broadcasting\n",
        "Alignment of Dimensions: Starting from the trailing dimensions (rightmost), NumPy compares dimensions of the input arrays.\n",
        "\n",
        "Dimension Matching:\n",
        "\n",
        "If the dimensions are equal, they are compatible.\n",
        "If one of the dimensions is 1, it can be stretched to match the other dimension.\n",
        "If neither dimension is 1 and they are not equal, broadcasting cannot be performed.\n",
        "Resulting Shape: The resulting array shape is determined by taking the maximum size along each dimension of the input arrays."
      ],
      "metadata": {
        "id": "tdjKPJRlzmgT"
      }
    },
    {
      "cell_type": "code",
      "source": [
        "import numpy as np\n",
        "\n",
        "# 2D array (3x3)\n",
        "a = np.array([[1, 2, 3],\n",
        "              [4, 5, 6],\n",
        "              [7, 8, 9]])\n",
        "\n",
        "# 1D array (3,)\n",
        "b = np.array([1, 0, 1])\n",
        "\n",
        "# Broadcasting addition\n",
        "result = a + b\n",
        "\n",
        "print(\"2D array (a):\")\n",
        "print(a)\n",
        "\n",
        "print(\"\\n1D array (b):\")\n",
        "print(b)\n",
        "\n",
        "print(\"\\nBroadcasted result (a + b):\")\n",
        "print(result)\n"
      ],
      "metadata": {
        "id": "7t-VplYl-Q4h",
        "colab": {
          "base_uri": "https://localhost:8080/"
        },
        "outputId": "485dd716-c726-4bf7-ebbf-e39d72a6ced6"
      },
      "execution_count": 1,
      "outputs": [
        {
          "output_type": "stream",
          "name": "stdout",
          "text": [
            "2D array (a):\n",
            "[[1 2 3]\n",
            " [4 5 6]\n",
            " [7 8 9]]\n",
            "\n",
            "1D array (b):\n",
            "[1 0 1]\n",
            "\n",
            "Broadcasted result (a + b):\n",
            "[[ 2  2  4]\n",
            " [ 5  5  7]\n",
            " [ 8  8 10]]\n"
          ]
        }
      ]
    },
    {
      "cell_type": "code",
      "source": [],
      "metadata": {
        "id": "XHHqJbq20M6I"
      },
      "execution_count": null,
      "outputs": []
    }
  ]
}