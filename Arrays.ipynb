{
  "cells": [
    {
      "cell_type": "markdown",
      "metadata": {
        "id": "view-in-github",
        "colab_type": "text"
      },
      "source": [
        "<a href=\"https://colab.research.google.com/github/pav16an/PWSKILLS_FULLSTACK_DATA_SCIENCE_PRO/blob/main/Arrays.ipynb\" target=\"_parent\"><img src=\"https://colab.research.google.com/assets/colab-badge.svg\" alt=\"Open In Colab\"/></a>"
      ]
    },
    {
      "cell_type": "markdown",
      "id": "ea005389-124b-4891-b329-8a01fe200406",
      "metadata": {
        "id": "ea005389-124b-4891-b329-8a01fe200406"
      },
      "source": [
        "## 1. Given an array, check if it contains any duplicates or not.\n",
        "arr = [1, 2, 4, 2, 5, 9]\n",
        "Output = True"
      ]
    },
    {
      "cell_type": "code",
      "execution_count": null,
      "id": "7c4b859c-1391-4b00-9c3c-0fad1e5a05e1",
      "metadata": {
        "id": "7c4b859c-1391-4b00-9c3c-0fad1e5a05e1",
        "outputId": "e540b309-24d1-4fee-fb6b-7d8bdabfca6e"
      },
      "outputs": [
        {
          "name": "stdout",
          "output_type": "stream",
          "text": [
            "True\n"
          ]
        }
      ],
      "source": [
        "def duplicate(arr):\n",
        "    n=len(arr)\n",
        "    arr1=[]\n",
        "    for i in range(n):\n",
        "        if arr[i] not  in arr1:\n",
        "            arr1.append(arr[i])\n",
        "        else:\n",
        "            return True\n",
        "\n",
        "arr = [1,2,4,5,5,9]\n",
        "print(duplicate(arr))"
      ]
    },
    {
      "cell_type": "markdown",
      "id": "5481d593-4a86-4de3-b922-fa812654a1a4",
      "metadata": {
        "id": "5481d593-4a86-4de3-b922-fa812654a1a4"
      },
      "source": [
        "## 2. Given an array and an integer k, rotate the array to the right by k steps.\n",
        "arr = [1, 2, 3, 4, 5, 6, 7] k = 3\n",
        "Output = [5, 6, 7, 1, 2, 3, 4]"
      ]
    },
    {
      "cell_type": "code",
      "execution_count": null,
      "id": "28bfba85-cdce-42ad-a346-c76f59a61240",
      "metadata": {
        "id": "28bfba85-cdce-42ad-a346-c76f59a61240",
        "outputId": "b3aeec39-e2d4-4c49-9eb1-2c1aa69e04cb"
      },
      "outputs": [
        {
          "name": "stdout",
          "output_type": "stream",
          "text": [
            "[5, 6, 7, 1, 2, 3, 4]\n",
            "None\n"
          ]
        }
      ],
      "source": [
        "def rotate(arr):\n",
        "    k = 3\n",
        "    n=len(arr)\n",
        "    arr1=[]\n",
        "    for i in range(k+1,n):\n",
        "        arr1.append(arr[i])\n",
        "    for j in range(k+1):\n",
        "        arr1.append(arr[j])\n",
        "\n",
        "    print(arr1)\n",
        "\n",
        "\n",
        "arr = [1, 2, 3, 4, 5, 6, 7]\n",
        "print(rotate(arr))"
      ]
    },
    {
      "cell_type": "markdown",
      "id": "54c4a81a-688a-40c0-8d30-80743f763a3f",
      "metadata": {
        "id": "54c4a81a-688a-40c0-8d30-80743f763a3f"
      },
      "source": [
        "## 3. Reverse the given array in-place, means without using any extra data structure.\n",
        "arr = [2, 4, 5, 7, 9, 12]\n",
        "Output = [12, 9, 7, 5, 4, 2]"
      ]
    },
    {
      "cell_type": "code",
      "execution_count": null,
      "id": "461d4864-5a9b-4e5a-a9f5-15decf9fefaf",
      "metadata": {
        "id": "461d4864-5a9b-4e5a-a9f5-15decf9fefaf",
        "outputId": "cbbee2df-e56b-4dd8-90f0-e095a5f0786c"
      },
      "outputs": [
        {
          "name": "stdout",
          "output_type": "stream",
          "text": [
            "[12, 9, 7, 5, 4, 2]\n",
            "None\n"
          ]
        }
      ],
      "source": [
        "def reverse (arr):\n",
        "    n=len(arr)\n",
        "    k=[arr[-(i+1)] for i in range(n)]\n",
        "    print(k)\n",
        "arr=[2,4,5,7,9,12]\n",
        "print(reverse(arr))"
      ]
    },
    {
      "cell_type": "markdown",
      "id": "9f0512ef-1cc3-429b-87ba-41866d1c7f58",
      "metadata": {
        "id": "9f0512ef-1cc3-429b-87ba-41866d1c7f58"
      },
      "source": [
        "## 4. Given an array of integers, find the maximum element in an array\n",
        "arr = [10, 5, 20, 8, 15]\n",
        "Output = 20"
      ]
    },
    {
      "cell_type": "code",
      "execution_count": null,
      "id": "a4ceacfa-d7b6-4473-b401-70b08e26564e",
      "metadata": {
        "id": "a4ceacfa-d7b6-4473-b401-70b08e26564e",
        "outputId": "504d7513-7dc1-4b0b-adb2-aaf8d03359cc"
      },
      "outputs": [
        {
          "name": "stdout",
          "output_type": "stream",
          "text": [
            "20\n",
            "None\n"
          ]
        }
      ],
      "source": [
        "def maxelement(arr):\n",
        "    Max=max(arr)\n",
        "    print(Max)\n",
        "\n",
        "arr=[10,5,20,8,15]\n",
        "print(maxelement(arr))"
      ]
    },
    {
      "cell_type": "markdown",
      "id": "298dd313-51b8-4067-843d-73df76848f43",
      "metadata": {
        "id": "298dd313-51b8-4067-843d-73df76848f43"
      },
      "source": [
        "## 5. Given a sorted array, remove the duplicate element without using any extra data structure.\n",
        "arr = [1, 1, 2, 2, 2, 3, 3, 4, 4, 4, 5, 5]\n",
        "Output = [1, 2, 3, 4, 5]"
      ]
    },
    {
      "cell_type": "code",
      "execution_count": null,
      "id": "459bf203-fe88-4662-84a6-861cc426942c",
      "metadata": {
        "id": "459bf203-fe88-4662-84a6-861cc426942c",
        "outputId": "f8b20519-ed36-490f-ae4c-35559fb17b06"
      },
      "outputs": [
        {
          "name": "stdout",
          "output_type": "stream",
          "text": [
            "[1, 2, 3, 4, 5]\n"
          ]
        }
      ],
      "source": [
        "arr = [1, 1, 2, 2, 2, 3, 3, 4, 4, 4, 5, 5]\n",
        "print(list(set(arr)))"
      ]
    },
    {
      "cell_type": "code",
      "execution_count": null,
      "id": "329cd3d8-26cf-481f-8bf8-f7f080384265",
      "metadata": {
        "id": "329cd3d8-26cf-481f-8bf8-f7f080384265"
      },
      "outputs": [],
      "source": []
    }
  ],
  "metadata": {
    "kernelspec": {
      "display_name": "Python 3 (ipykernel)",
      "language": "python",
      "name": "python3"
    },
    "language_info": {
      "codemirror_mode": {
        "name": "ipython",
        "version": 3
      },
      "file_extension": ".py",
      "mimetype": "text/x-python",
      "name": "python",
      "nbconvert_exporter": "python",
      "pygments_lexer": "ipython3",
      "version": "3.10.8"
    },
    "colab": {
      "provenance": [],
      "include_colab_link": true
    }
  },
  "nbformat": 4,
  "nbformat_minor": 5
}