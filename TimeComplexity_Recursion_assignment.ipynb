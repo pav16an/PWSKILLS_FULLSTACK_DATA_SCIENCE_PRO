{
  "cells": [
    {
      "cell_type": "markdown",
      "metadata": {
        "id": "view-in-github",
        "colab_type": "text"
      },
      "source": [
        "<a href=\"https://colab.research.google.com/github/pav16an/PWSKILLS_FULLSTACK_DATA_SCIENCE_PRO/blob/main/TimeComplexity_Recursion_assignment.ipynb\" target=\"_parent\"><img src=\"https://colab.research.google.com/assets/colab-badge.svg\" alt=\"Open In Colab\"/></a>"
      ]
    },
    {
      "cell_type": "markdown",
      "id": "218d2070",
      "metadata": {
        "id": "218d2070"
      },
      "source": [
        "# Problem 1 :\n"
      ]
    },
    {
      "cell_type": "code",
      "execution_count": 1,
      "id": "7fbc677b",
      "metadata": {
        "id": "7fbc677b"
      },
      "outputs": [],
      "source": [
        "def quicksort(arr):\n",
        "    if len(arr) <= 1:\n",
        "        return arr\n",
        "    pivot = arr[len(arr) // 2]\n",
        "    left = [x for x in arr if x < pivot]\n",
        "    middle = [x for x in arr if x == pivot]\n",
        "    right = [x for x in arr if x > pivot]\n",
        "    return quicksort(left) + middle + quicksort(right)"
      ]
    },
    {
      "cell_type": "code",
      "execution_count": 2,
      "id": "a70fa0a2",
      "metadata": {
        "colab": {
          "base_uri": "https://localhost:8080/",
          "height": 36
        },
        "id": "a70fa0a2",
        "outputId": "a48e8fff-bd91-4f30-ffea-157cec03e3b7"
      },
      "outputs": [
        {
          "output_type": "execute_result",
          "data": {
            "text/plain": [
              "'\\n    Time complexity of above code is O(n^2) in Worst case and \\n    In Average case the time complexity is O(n logn)\\n'"
            ],
            "application/vnd.google.colaboratory.intrinsic+json": {
              "type": "string"
            }
          },
          "metadata": {},
          "execution_count": 2
        }
      ],
      "source": [
        "\"\"\"\n",
        "    Time complexity of above code is O(n^2) in Worst case and\n",
        "    In Average case the time complexity is O(n logn)\n",
        "\"\"\""
      ]
    },
    {
      "cell_type": "markdown",
      "id": "31aca9a8",
      "metadata": {
        "id": "31aca9a8"
      },
      "source": [
        "# Problem 2 :"
      ]
    },
    {
      "cell_type": "code",
      "execution_count": 3,
      "id": "27cbb193",
      "metadata": {
        "id": "27cbb193"
      },
      "outputs": [],
      "source": [
        "def nested_loop_example(matrix):\n",
        "    rows, cols = len(matrix), len(matrix[0])\n",
        "    total = 0\n",
        "    for i in range(rows):\n",
        "        for j in range(cols):\n",
        "            total += matrix[i][j]\n",
        "    return total"
      ]
    },
    {
      "cell_type": "code",
      "execution_count": 4,
      "id": "3f237910",
      "metadata": {
        "colab": {
          "base_uri": "https://localhost:8080/",
          "height": 36
        },
        "id": "3f237910",
        "outputId": "a29034a1-1001-472c-a69d-36586cdcfa7d"
      },
      "outputs": [
        {
          "output_type": "execute_result",
          "data": {
            "text/plain": [
              "' Time complexity of above code is O(n^2)'"
            ],
            "application/vnd.google.colaboratory.intrinsic+json": {
              "type": "string"
            }
          },
          "metadata": {},
          "execution_count": 4
        }
      ],
      "source": [
        "\"\"\" Time complexity of above code is O(n^2)\"\"\""
      ]
    },
    {
      "cell_type": "markdown",
      "id": "0f849c1f",
      "metadata": {
        "id": "0f849c1f"
      },
      "source": [
        "# Problem 3 :"
      ]
    },
    {
      "cell_type": "code",
      "execution_count": 5,
      "id": "d4ac1cd0",
      "metadata": {
        "id": "d4ac1cd0"
      },
      "outputs": [],
      "source": [
        "def example_function(arr):\n",
        "    result = 0\n",
        "    for element in arr:\n",
        "        result += element\n",
        "    return result"
      ]
    },
    {
      "cell_type": "code",
      "execution_count": 6,
      "id": "7cbe6abe",
      "metadata": {
        "colab": {
          "base_uri": "https://localhost:8080/",
          "height": 36
        },
        "id": "7cbe6abe",
        "outputId": "6588412f-6b4c-440b-88f0-117737c7151f"
      },
      "outputs": [
        {
          "output_type": "execute_result",
          "data": {
            "text/plain": [
              "' Time complexity of above code is O(n)'"
            ],
            "application/vnd.google.colaboratory.intrinsic+json": {
              "type": "string"
            }
          },
          "metadata": {},
          "execution_count": 6
        }
      ],
      "source": [
        "\"\"\" Time complexity of above code is O(n)\"\"\""
      ]
    },
    {
      "cell_type": "markdown",
      "id": "1eb462ea",
      "metadata": {
        "id": "1eb462ea"
      },
      "source": [
        "# Problem 4 :"
      ]
    },
    {
      "cell_type": "code",
      "execution_count": 7,
      "id": "1d161a59",
      "metadata": {
        "id": "1d161a59"
      },
      "outputs": [],
      "source": [
        "def longest_increasing_subsequence(nums):\n",
        "    n = len(nums)\n",
        "    lis = [1] * n\n",
        "    for i in range(1, n):\n",
        "        for j in range(0, i):\n",
        "            if nums[i] > nums[j] and lis[i] < lis[j] + 1:\n",
        "                lis[i] = lis[j] + 1\n",
        "    return max(lis)"
      ]
    },
    {
      "cell_type": "code",
      "execution_count": 8,
      "id": "2c7a1a85",
      "metadata": {
        "colab": {
          "base_uri": "https://localhost:8080/",
          "height": 36
        },
        "id": "2c7a1a85",
        "outputId": "a456446d-d808-4b26-f4f8-d4ea25000d03"
      },
      "outputs": [
        {
          "output_type": "execute_result",
          "data": {
            "text/plain": [
              "' Time complexity of above code is O(n^2)'"
            ],
            "application/vnd.google.colaboratory.intrinsic+json": {
              "type": "string"
            }
          },
          "metadata": {},
          "execution_count": 8
        }
      ],
      "source": [
        "\"\"\" Time complexity of above code is O(n^2)\"\"\""
      ]
    },
    {
      "cell_type": "markdown",
      "id": "ea9cac1c",
      "metadata": {
        "id": "ea9cac1c"
      },
      "source": [
        "# Problem 5 :"
      ]
    },
    {
      "cell_type": "code",
      "execution_count": 9,
      "id": "cbcfedb3",
      "metadata": {
        "id": "cbcfedb3"
      },
      "outputs": [],
      "source": [
        "def mysterious_function(arr):\n",
        "    n = len(arr)\n",
        "    result = 0\n",
        "    for i in range(n):\n",
        "        for j in range(i, n):\n",
        "            result += arr[i] * arr[j]\n",
        "    return result"
      ]
    },
    {
      "cell_type": "code",
      "execution_count": 10,
      "id": "034b3fa8",
      "metadata": {
        "colab": {
          "base_uri": "https://localhost:8080/",
          "height": 36
        },
        "id": "034b3fa8",
        "outputId": "b4106c42-8fb9-4a9e-ad57-53790a7307a3"
      },
      "outputs": [
        {
          "output_type": "execute_result",
          "data": {
            "text/plain": [
              "' Time complexity of above code is O(n^2)'"
            ],
            "application/vnd.google.colaboratory.intrinsic+json": {
              "type": "string"
            }
          },
          "metadata": {},
          "execution_count": 10
        }
      ],
      "source": [
        "\"\"\" Time complexity of above code is O(n^2)\"\"\""
      ]
    },
    {
      "cell_type": "markdown",
      "id": "79f6e66a",
      "metadata": {
        "id": "79f6e66a"
      },
      "source": [
        "# Problem 6 : Sum of Digits\n",
        "## Write a recursive function to calculate the sum of digits of a given positive integer.\n",
        "### sum_of_digits(123) -> 6"
      ]
    },
    {
      "cell_type": "code",
      "execution_count": 11,
      "id": "caf3ad49",
      "metadata": {
        "colab": {
          "base_uri": "https://localhost:8080/"
        },
        "id": "caf3ad49",
        "outputId": "b2548561-0d88-4d48-df2d-8a579f2923de"
      },
      "outputs": [
        {
          "output_type": "execute_result",
          "data": {
            "text/plain": [
              "6"
            ]
          },
          "metadata": {},
          "execution_count": 11
        }
      ],
      "source": [
        "def sum_of_digits(num):\n",
        "    if num<=0:\n",
        "        return 0\n",
        "    return num%10+sum_of_digits(num//10)\n",
        "\n",
        "sum_of_digits(123)"
      ]
    },
    {
      "cell_type": "markdown",
      "id": "06b14efe",
      "metadata": {
        "id": "06b14efe"
      },
      "source": [
        "# Problem 7: Fibonacci Series\n",
        "## Write a recursive function to generate the first n numbers of the Fibonacci series.\n",
        "### fibonacci_series(6) -> [0, 1, 1, 2, 3, 5]"
      ]
    },
    {
      "cell_type": "code",
      "execution_count": 12,
      "id": "b24483b4",
      "metadata": {
        "colab": {
          "base_uri": "https://localhost:8080/"
        },
        "id": "b24483b4",
        "outputId": "74b7afb2-dc91-4b5b-ed65-6378047c1bbe"
      },
      "outputs": [
        {
          "output_type": "execute_result",
          "data": {
            "text/plain": [
              "[0, 1, 1, 2, 3, 5]"
            ]
          },
          "metadata": {},
          "execution_count": 12
        }
      ],
      "source": [
        "def fibonacci_series(num, lst=None):\n",
        "    if lst is None:\n",
        "        lst = [0, 1]\n",
        "    if num <= 0:\n",
        "        return []\n",
        "    elif num == 1:\n",
        "        return [0]\n",
        "    elif num == 2:\n",
        "        return lst\n",
        "    lst.append(lst[-1] + lst[-2])\n",
        "    return fibonacci_series(num - 1, lst)\n",
        "\n",
        "fibonacci_series(6)\n"
      ]
    },
    {
      "cell_type": "markdown",
      "id": "05c832fc",
      "metadata": {
        "id": "05c832fc"
      },
      "source": [
        "# Problem 8 : Subset Sum\n",
        "## Given a set of positive integers and a target sum, write a recursive function to determine if there exists a subset of the integers that adds up to the target sum.\n",
        "### subset_sum([3, 34, 4, 12, 5, 2], 9) -> True"
      ]
    },
    {
      "cell_type": "code",
      "execution_count": 13,
      "id": "a004d2b9",
      "metadata": {
        "colab": {
          "base_uri": "https://localhost:8080/"
        },
        "id": "a004d2b9",
        "outputId": "be12bf4d-083a-4180-cfe5-ec0740e417db"
      },
      "outputs": [
        {
          "output_type": "execute_result",
          "data": {
            "text/plain": [
              "True"
            ]
          },
          "metadata": {},
          "execution_count": 13
        }
      ],
      "source": [
        "def subset_sum(lst,target,n):\n",
        "    if n==0:\n",
        "        return False\n",
        "    if target==0:\n",
        "        return True\n",
        "\n",
        "    # If last element is greater than\n",
        "    # sum, then ignore it\n",
        "    if lst[n-1]>target:\n",
        "        return subset_sum(lst,target,n-1)\n",
        "\n",
        "    # Else, check if sum can be obtained\n",
        "    # by any of the following\n",
        "    # (a) including the last element\n",
        "    # (b) excluding the last element\n",
        "    return subset_sum(\n",
        "        lst, target, n-1) or subset_sum(lst,target-lst[n-1],n-1)\n",
        "\n",
        "lst = [3, 34, 4, 12, 5, 2]\n",
        "target = 9\n",
        "subset_sum(lst,target ,len(lst))\n",
        ""
      ]
    },
    {
      "cell_type": "markdown",
      "id": "238956ca",
      "metadata": {
        "id": "238956ca"
      },
      "source": [
        "# Problem 9: Word Break\n",
        "## Given a non-empty string and a dictionary of words, write a recursive function to determine if the string can be segmented into a space-separated sequence of dictionary words.\n",
        "### word_break( leetcode , [ leet , code ]) -> True"
      ]
    },
    {
      "cell_type": "code",
      "execution_count": 14,
      "id": "463b05cc",
      "metadata": {
        "colab": {
          "base_uri": "https://localhost:8080/"
        },
        "id": "463b05cc",
        "outputId": "46a5437e-85e0-446e-ae79-ad05e53531a6"
      },
      "outputs": [
        {
          "output_type": "execute_result",
          "data": {
            "text/plain": [
              "True"
            ]
          },
          "metadata": {},
          "execution_count": 14
        }
      ],
      "source": [
        "def word_break(string , lst):\n",
        "    if len(string) == 0:\n",
        "        return True\n",
        "\n",
        "    else:\n",
        "        length = len(string)\n",
        "        for i in range(1,length+1):\n",
        "            if string[:i] in lst and word_break(string[i:],lst):\n",
        "                return True\n",
        "\n",
        "    return False\n",
        "\n",
        "\n",
        "word_break( \"leetcode\" , [ \"leet\" , \"code\" ])\n",
        "\n",
        "\n",
        ""
      ]
    },
    {
      "cell_type": "markdown",
      "id": "2fd9fc4f",
      "metadata": {
        "id": "2fd9fc4f"
      },
      "source": [
        "# Problem 10 : N-Queens\n",
        "## Implement a recursive function to solve the N Queens problem, where you have to place N queens on an N×N chessboard in such a way that no two queens threaten each other.\n",
        "### n_queens(4)\n",
        "[\n",
        "[\".Q..\",\n",
        "\"...Q\",\n",
        "\"Q...\",\n",
        "\"..Q.\"],\n",
        "[\"..Q.\",\n",
        "\"Q...\",\n",
        "\"...Q\",\n",
        "\".Q..\"]\n",
        "]"
      ]
    },
    {
      "cell_type": "code",
      "execution_count": 15,
      "id": "e01d7e66",
      "metadata": {
        "colab": {
          "base_uri": "https://localhost:8080/"
        },
        "id": "e01d7e66",
        "outputId": "5e3ea372-89ab-4ebf-a048-24a95873e304"
      },
      "outputs": [
        {
          "output_type": "stream",
          "name": "stdout",
          "text": [
            ". . Q . \n",
            "Q . . . \n",
            ". . . Q \n",
            ". Q . . \n"
          ]
        }
      ],
      "source": [
        "# Problem 10 : N-Queens\n",
        "global N\n",
        "N = 4\n",
        "\n",
        "\n",
        "def printSolution(board):\n",
        "    for i in range(N):\n",
        "        for j in range(N):\n",
        "            if board[i][j] == 1:\n",
        "                print(\"Q\",end=\" \")\n",
        "            else:\n",
        "                print(\".\",end=\" \")\n",
        "        print()\n",
        "\n",
        "\n",
        "def isSafe(board, row, col):\n",
        "\n",
        "    # Check this row on left side\n",
        "    for i in range(col):\n",
        "        if board[row][i] == 1:\n",
        "            return False\n",
        "\n",
        "    # Check upper diagonal on left side\n",
        "    for i, j in zip(range(row, -1, -1),\n",
        "                    range(col, -1, -1)):\n",
        "        if board[i][j] == 1:\n",
        "            return False\n",
        "\n",
        "    # Check lower diagonal on left side\n",
        "    for i, j in zip(range(row, N, 1),\n",
        "                    range(col, -1, -1)):\n",
        "        if board[i][j] == 1:\n",
        "            return False\n",
        "\n",
        "    return True\n",
        "\n",
        "\n",
        "def solveNQUtil(board, col):\n",
        "\n",
        "    # Base case: If all queens are placed\n",
        "    # then return true\n",
        "    if col >= N:\n",
        "        return True\n",
        "\n",
        "    # Consider this column and try placing\n",
        "    # this queen in all rows one by one\n",
        "    for i in range(N):\n",
        "\n",
        "        if isSafe(board, i, col):\n",
        "\n",
        "            # Place this queen in board[i][col]\n",
        "            board[i][col] = 1\n",
        "\n",
        "            # Recur to place rest of the queens\n",
        "            if solveNQUtil(board, col + 1) :\n",
        "                return True\n",
        "\n",
        "            # If placing queen in board[i][col\n",
        "            # doesn't lead to a solution, then\n",
        "            # queen from board[i][col]\n",
        "            board[i][col] = 0\n",
        "\n",
        "    # If the queen can not be placed in any row in\n",
        "    # this column col then return false\n",
        "    return False\n",
        "\n",
        "\n",
        "# This function solves the N Queen problem using\n",
        "# Backtracking. It mainly uses solveNQUtil() to\n",
        "# solve the problem. It returns false if queens\n",
        "# cannot be placed, otherwise return true and\n",
        "# placement of queens in the form of 1s.\n",
        "# note that there may be more than one\n",
        "# solutions, this function prints one of the\n",
        "# feasible solutions.\n",
        "def solveNQ():\n",
        "    board = [[0, 0, 0, 0],\n",
        "             [0, 0, 0, 0],\n",
        "             [0, 0, 0, 0],\n",
        "             [0, 0, 0, 0]]\n",
        "\n",
        "    if not solveNQUtil(board, 0) :\n",
        "        print(\"Solution does not exist\")\n",
        "        return\n",
        "\n",
        "    printSolution(board)\n",
        "\n",
        "\n",
        "\n",
        "solveNQ()\n"
      ]
    },
    {
      "cell_type": "code",
      "execution_count": 15,
      "id": "923dddcf",
      "metadata": {
        "id": "923dddcf"
      },
      "outputs": [],
      "source": []
    }
  ],
  "metadata": {
    "kernelspec": {
      "display_name": "Python 3 (ipykernel)",
      "language": "python",
      "name": "python3"
    },
    "language_info": {
      "codemirror_mode": {
        "name": "ipython",
        "version": 3
      },
      "file_extension": ".py",
      "mimetype": "text/x-python",
      "name": "python",
      "nbconvert_exporter": "python",
      "pygments_lexer": "ipython3",
      "version": "3.11.5"
    },
    "colab": {
      "provenance": [],
      "include_colab_link": true
    }
  },
  "nbformat": 4,
  "nbformat_minor": 5
}