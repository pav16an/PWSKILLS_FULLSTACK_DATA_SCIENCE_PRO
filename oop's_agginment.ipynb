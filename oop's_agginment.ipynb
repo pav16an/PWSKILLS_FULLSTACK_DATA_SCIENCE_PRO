{
  "cells": [
    {
      "cell_type": "markdown",
      "metadata": {
        "id": "view-in-github",
        "colab_type": "text"
      },
      "source": [
        "<a href=\"https://colab.research.google.com/github/pav16an/PWSKILLS_FULLSTACK_DATA_SCIENCE_PRO/blob/main/oop's_agginment.ipynb\" target=\"_parent\"><img src=\"https://colab.research.google.com/assets/colab-badge.svg\" alt=\"Open In Colab\"/></a>"
      ]
    },
    {
      "cell_type": "markdown",
      "metadata": {
        "id": "j2fCBSzUK5Ht"
      },
      "source": [
        "##constructor"
      ]
    },
    {
      "cell_type": "markdown",
      "metadata": {
        "id": "AAMHIq3qKyc1"
      },
      "source": [
        "#1. What is a constructor in Python? Explain its purpose and usage."
      ]
    },
    {
      "cell_type": "markdown",
      "metadata": {
        "id": "pE6usXcPLT5J"
      },
      "source": [
        "\n",
        "In Python, a constructor is a special method within a class that is automatically called when a new instance of the class is created. It typically has the name __init__().\n",
        "\n",
        "The purpose of a constructor is to initialize the newly created object. This is where you can set up initial values for attributes or perform any necessary setup tasks. Constructors allow you to ensure that certain properties of the object are properly initialized before the object is used.\n",
        "\n",
        "Constructors can also perform additional tasks such as validating input parameters, setting default values for attributes, or establishing connections to external resources. Overall, constructors play a crucial role in object initialization and are an essential part of object-oriented programming in Python.\n",
        "\n",
        "\n",
        "\n",
        "\n"
      ]
    },
    {
      "cell_type": "markdown",
      "metadata": {
        "id": "2Y_LhZWcLrtq"
      },
      "source": [
        "#2. Differentiate between a parameterless constructor and a parameterized constructor in Python."
      ]
    },
    {
      "cell_type": "markdown",
      "metadata": {
        "id": "Y9a0AXX9L468"
      },
      "source": [
        "\n",
        "In Python, constructors can be categorized into two types: parameterless constructors and parameterized constructors.\n",
        "\n",
        "Parameterless Constructor:\n",
        "A parameterless constructor is a constructor method that does not take any parameters other than the mandatory self parameter, which represents the instance of the class.\n",
        "It is typically used when the initialization of the object does not require any external input or when default values can be used.\n",
        "This type of constructor is useful when you want to perform some initialization tasks without needing any arguments from the caller.\n",
        "\n",
        "Parameterized Constructor:\n",
        "A parameterized constructor is a constructor method that takes one or more parameters in addition to the self parameter.\n",
        "It allows you to initialize the object with specific values provided by the caller.\n",
        "This type of constructor is useful when you need to customize the initialization process based on external inputs.\n",
        "\n",
        "In summary, the main difference between parameterless and parameterized constructors lies in the presence of parameters. Parameterless constructors do not accept any parameters beyond self, while parameterized constructors accept one or more parameters to customize the initialization of the object."
      ]
    },
    {
      "cell_type": "markdown",
      "metadata": {
        "id": "AXfYZ9BsNayT"
      },
      "source": [
        "#3. How do you define a constructor in a Python class? Provide an example."
      ]
    },
    {
      "cell_type": "code",
      "execution_count": null,
      "metadata": {
        "colab": {
          "base_uri": "https://localhost:8080/"
        },
        "id": "yDKY12CwK2VI",
        "outputId": "34a9663c-8685-4733-e3f1-e264c5eba142"
      },
      "outputs": [
        {
          "name": "stdout",
          "output_type": "stream",
          "text": [
            "Hello my self pavan\n"
          ]
        }
      ],
      "source": [
        "#constructor:- In python we can declare the constructor  as __init__()\n",
        "#example:-\n",
        "class pavan:\n",
        "  def __init__(self):\n",
        "    print(\"Hello my self pavan\")\n",
        "\n",
        "\n",
        "a=pavan()\n"
      ]
    },
    {
      "cell_type": "markdown",
      "metadata": {
        "id": "eryVzBooejL7"
      },
      "source": [
        "#4. Explain the `__init__` method in Python and its role in constructors.\n"
      ]
    },
    {
      "cell_type": "markdown",
      "metadata": {
        "id": "fEba4bR8fyxb"
      },
      "source": [
        "In Python, the __init__ method is a special method used for initializing newly created objects. It is commonly referred to as the constructor method. When you create a new instance of a class, Python automatically calls the __init__ method for that class, passing in the newly created object (referred to as self) along with any additional arguments provided.\n",
        "\n",
        "Here's a breakdown of the __init__ method and its role:\n",
        "\n",
        "Definition: The __init__ method is defined within a class like any other method, but it is named __init__.\n",
        "\n",
        "Initialization: It is used to initialize the state of an object. This typically involves assigning initial values to instance variables or performing any necessary setup actions.\n",
        "\n",
        "Automatically Called: When you create a new instance of a class by calling the class name followed by parentheses (e.g., obj = ClassName()), Python automatically invokes the __init__ method of that class.\n",
        "\n",
        "Self Parameter: The __init__ method takes at least one parameter conventionally named self, which refers to the newly created object. This parameter allows you to access and modify the object's attributes within the method.\n",
        "\n",
        "Optional Parameters: In addition to self, you can define other parameters in the __init__ method to pass initial values to the object upon creation. These parameters are provided when you instantiate the class."
      ]
    },
    {
      "cell_type": "code",
      "execution_count": null,
      "metadata": {
        "colab": {
          "base_uri": "https://localhost:8080/"
        },
        "id": "W5qfTQuceXSN",
        "outputId": "53085534-ce16-4331-9922-3d521c71239b"
      },
      "outputs": [
        {
          "name": "stdout",
          "output_type": "stream",
          "text": [
            "10\n",
            "20\n"
          ]
        }
      ],
      "source": [
        "class MyClass:\n",
        "    def __init__(self, x, y):\n",
        "        self.x = x\n",
        "        self.y = y\n",
        "\n",
        "# Creating an instance of MyClass\n",
        "obj = MyClass(10, 20)\n",
        "\n",
        "print(obj.x)  # Output: 10\n",
        "print(obj.y)  # Output: 20\n"
      ]
    },
    {
      "cell_type": "markdown",
      "metadata": {
        "id": "32wWQy3NiCwj"
      },
      "source": [
        "#5. In a class named `Person`, create a constructor that initializes the `name` and `age` attributes. Provide an example of creating an object of this class."
      ]
    },
    {
      "cell_type": "code",
      "execution_count": null,
      "metadata": {
        "colab": {
          "base_uri": "https://localhost:8080/",
          "height": 36
        },
        "id": "tEbRRrOfgLfn",
        "outputId": "2836650f-1153-4aa9-b7c7-d83054db5f0a"
      },
      "outputs": [
        {
          "data": {
            "application/vnd.google.colaboratory.intrinsic+json": {
              "type": "string"
            },
            "text/plain": [
              "'pavan'"
            ]
          },
          "execution_count": 16,
          "metadata": {},
          "output_type": "execute_result"
        }
      ],
      "source": [
        "class Person:\n",
        "  def __init__(self,name,age):\n",
        "    self.name=name\n",
        "    self.age=age\n",
        "\n",
        "\n",
        "obj=Person(\"pavan\",19)\n",
        "obj.name\n"
      ]
    },
    {
      "cell_type": "markdown",
      "metadata": {
        "id": "BjJ2jGt2jufI"
      },
      "source": [
        "#6. How can you call a constructor explicitly in Python? Give an example."
      ]
    },
    {
      "cell_type": "markdown",
      "metadata": {
        "id": "pheFHXkEj9w2"
      },
      "source": [
        "\n",
        "In Python, you can call a constructor explicitly by using the class name along with the __init__ method and providing the necessary arguments. This approach can be useful in certain scenarios, such as when you want to create a new instance of a class but need to customize the initialization process beyond what is typically done in the constructor."
      ]
    },
    {
      "cell_type": "code",
      "execution_count": null,
      "metadata": {
        "colab": {
          "base_uri": "https://localhost:8080/"
        },
        "id": "fu4cufeTjLjb",
        "outputId": "18f39990-9d14-4070-de88-5f35e8ca62b7"
      },
      "outputs": [
        {
          "name": "stdout",
          "output_type": "stream",
          "text": [
            "10\n"
          ]
        }
      ],
      "source": [
        "class MyClass:\n",
        "    def __init__(self, x, y):\n",
        "        self.x = x\n",
        "        self.y = y\n",
        "\n",
        "\n",
        "obj = MyClass( 10, 20)\n",
        "\n",
        "print(obj.x)\n"
      ]
    },
    {
      "cell_type": "markdown",
      "metadata": {
        "id": "CpPmYIxSkbYH"
      },
      "source": [
        "#7. What is the significance of the `self` parameter in Python constructors? Explain with an example."
      ]
    },
    {
      "cell_type": "markdown",
      "metadata": {
        "id": "uLxMSuETRgwK"
      },
      "source": [
        "\n",
        "In Python, the self parameter in constructors (and other instance methods) refers to the instance of the class itself. It is a convention in Python to use self as the first parameter in instance methods, including the __init__ method, although you can technically name it differently. The purpose of self is to access and modify the attributes (variables) and methods of the current instance within the class.\n",
        "\n",
        "In this example, the Person class has a constructor (__init__ method) that takes two parameters: name and age. Inside the constructor, self.name and self.age are instance attributes that are initialized with the values passed to the constructor. When you create instances of the Person class (person1 and person2), the self parameter refers to each individual instance. Therefore, self.name and self.age uniquely identify the name and age attributes of each instance.\n",
        "\n",
        "Later, when the introduce method is called on each instance (person1.introduce() and person2.introduce()), self within the method refers to the instance itself. This allows the method to access the name and age attributes of the respective instances using self.name and self.age, enabling each instance to introduce itself with its own name and age."
      ]
    },
    {
      "cell_type": "code",
      "execution_count": null,
      "metadata": {
        "colab": {
          "base_uri": "https://localhost:8080/"
        },
        "id": "otKKsiMjkH4n",
        "outputId": "0161e6c5-437b-4054-a688-e48f62a25e77"
      },
      "outputs": [
        {
          "name": "stdout",
          "output_type": "stream",
          "text": [
            "Hello, my name is Alice and I am 30 years old.\n",
            "Hello, my name is Bob and I am 25 years old.\n"
          ]
        }
      ],
      "source": [
        "class Person:\n",
        "    def __init__(self, name, age):\n",
        "        self.name = name\n",
        "        self.age = age\n",
        "\n",
        "    def introduce(self):\n",
        "        print(f\"Hello, my name is {self.name} and I am {self.age} years old.\")\n",
        "\n",
        "\n",
        "person1 = Person(\"Alice\", 30)\n",
        "person2 = Person(\"Bob\", 25)\n",
        "\n",
        "\n",
        "person1.introduce()\n",
        "person2.introduce()\n"
      ]
    },
    {
      "cell_type": "markdown",
      "metadata": {
        "id": "zC3_YjmUTDwy"
      },
      "source": [
        "#8. Discuss the concept of default constructors in Python. When are they used?"
      ]
    },
    {
      "cell_type": "markdown",
      "metadata": {
        "id": "5GStcwQETb7a"
      },
      "source": [
        "\n",
        "In Python, unlike some other programming languages like Java, there is no concept of default constructors in the same sense. In Python, if you don't explicitly define a constructor (__init__ method) in a class, Python automatically provides a default constructor. This default constructor doesn't do anything besides initializing the instance itself.\n",
        "\n",
        "In this example, MyClass doesn't have an explicit __init__ method defined. Therefore, Python automatically provides a default constructor. When obj is created using MyClass(), the default constructor is called implicitly, but since it's empty, it doesn't perform any specific initialization.\n",
        "\n",
        "However, if you define your own __init__ method in a class, then Python will not provide a default constructor. Instead, the explicitly defined __init__ method will be used.\n",
        "\n",
        "Default constructors can be used when you want to keep the initialization process simple or when you want to allow instances of the class to be created without requiring any specific initialization parameters.\n",
        "\n",
        "It's worth noting that even though Python doesn't require an explicit constructor definition, it's common practice to define one explicitly, even if it's empty, for clarity and readability, especially if you intend to initialize attributes or perform setup actions when creating instances of the class."
      ]
    },
    {
      "cell_type": "code",
      "execution_count": null,
      "metadata": {
        "id": "2-kXoCxnSHKM"
      },
      "outputs": [],
      "source": [
        "class MyClass:\n",
        "    pass\n",
        "\n",
        "obj = MyClass()\n"
      ]
    },
    {
      "cell_type": "markdown",
      "metadata": {
        "id": "yDU3X7CAT5MH"
      },
      "source": [
        "#9. Create a Python class called `Rectangle` with a constructor that initializes the `width` and `height` attributes. Provide a method to calculate the area of the rectangle."
      ]
    },
    {
      "cell_type": "code",
      "execution_count": null,
      "metadata": {
        "colab": {
          "base_uri": "https://localhost:8080/"
        },
        "id": "syb-u4aOTlOO",
        "outputId": "03c61179-ec30-4cb5-9b46-1128449ea487"
      },
      "outputs": [
        {
          "name": "stdout",
          "output_type": "stream",
          "text": [
            "Area of Rectangle is 1265\n"
          ]
        }
      ],
      "source": [
        "class Rectangle:\n",
        "  def __init__(self,width,height):\n",
        "    self.width=width\n",
        "    self.height=height\n",
        "\n",
        "  def area_of_Rectangle(self):\n",
        "    print(\"Area of Rectangle is\",self.width*self.height)\n",
        "\n",
        "\n",
        "area=Rectangle(23,55)\n",
        "area.area_of_Rectangle()"
      ]
    },
    {
      "cell_type": "markdown",
      "metadata": {
        "id": "tkdoBb2VVT4U"
      },
      "source": [
        "#10. How can you have multiple constructors in a Python class? Explain with an example."
      ]
    },
    {
      "cell_type": "markdown",
      "metadata": {
        "id": "53wMKpzHWaNd"
      },
      "source": [
        "\n",
        "In Python, you cannot have multiple constructors in the same way as some other programming languages like Java, where you can have constructor overloading. However, you can achieve similar functionality by using default parameter values and/or class methods.\n",
        "\n",
        "In this example, the MyClass has a single __init__ method, which serves as the constructor. It accepts two optional parameters x and y, with default values of None. Inside the __init__ method, it checks if x and y are None. If they are, it initializes the instance attributes x and y with default values (0 in this case). Otherwise, it initializes them with the provided values.\n",
        "\n",
        "In this example, from_default is a class method that creates an instance of MyClass with default values (0, 0) for x and y. This approach provides a more explicit way to create instances with different initialization behaviors."
      ]
    },
    {
      "cell_type": "code",
      "execution_count": null,
      "metadata": {
        "colab": {
          "base_uri": "https://localhost:8080/"
        },
        "id": "j5Ew7pCDVEH2",
        "outputId": "5280837a-18a3-4514-b4c8-04fc92bab8cb"
      },
      "outputs": [
        {
          "name": "stdout",
          "output_type": "stream",
          "text": [
            "0 0\n",
            "10 20\n"
          ]
        }
      ],
      "source": [
        "class MyClass:\n",
        "    def __init__(self, x=None, y=None):\n",
        "        if x is None and y is None:\n",
        "\n",
        "            self.x = 0\n",
        "            self.y = 0\n",
        "        else:\n",
        "            self.x = x\n",
        "            self.y = y\n",
        "\n",
        "obj1 = MyClass()\n",
        "obj2 = MyClass(10, 20)\n",
        "\n",
        "print(obj1.x, obj1.y)\n",
        "print(obj2.x, obj2.y)\n"
      ]
    },
    {
      "cell_type": "markdown",
      "metadata": {
        "id": "MTyFGSfoWmHu"
      },
      "source": [
        "#11. What is method overloading, and how is it related to constructors in Python?"
      ]
    },
    {
      "cell_type": "markdown",
      "metadata": {
        "id": "ct-EZTE9XUQp"
      },
      "source": [
        "\n",
        "\n",
        "Method overloading in Python refers to the ability of a class to define multiple methods with the same name but different parameters or signatures. This allows you to perform different operations or handle different types of input based on the provided arguments.\n",
        "\n",
        "In Python, constructors are also methods, specifically the __init__ method. Therefore, you can technically achieve method overloading with constructors by defining multiple __init__ methods with different parameter lists. However, this is not a common practice and is generally discouraged in Python.\n",
        "\n",
        "Instead, Python provides a more flexible approach to constructor overloading using default parameter values. By assigning default values to parameters in the __init__ method, you can achieve similar functionality without the need for multiple __init__ methods.\n",
        "\n",
        "For example, consider the following class:\n"
      ]
    },
    {
      "cell_type": "code",
      "execution_count": null,
      "metadata": {
        "colab": {
          "base_uri": "https://localhost:8080/"
        },
        "id": "Wt-A9J_jWkk8",
        "outputId": "c0b7e076-c6c0-4fa8-a6ee-abd13c5940ca"
      },
      "outputs": [
        {
          "name": "stdout",
          "output_type": "stream",
          "text": [
            "Method with two arguments: 10 20\n"
          ]
        }
      ],
      "source": [
        "class MyClass:\n",
        "    def my_method(self, x):\n",
        "        print(\"Method with one argument:\", x)\n",
        "\n",
        "    def my_method(self, x, y):\n",
        "        print(\"Method with two arguments:\", x, y)\n",
        "\n",
        "obj = MyClass()\n",
        "obj.my_method(10, 20)\n",
        "\n"
      ]
    },
    {
      "cell_type": "markdown",
      "metadata": {
        "id": "tLoVmNOLX4df"
      },
      "source": [
        "#12. Explain the use of the `super()` function in Python constructors. Provide an example."
      ]
    },
    {
      "cell_type": "markdown",
      "metadata": {
        "id": "GR2Yhbj0YOp1"
      },
      "source": [
        "\n",
        "In Python, the super() function is used to call the constructor or methods of a base class (also known as a superclass) within a subclass. This is particularly useful when you want to extend the functionality of a superclass in a subclass and still execute the initialization logic defined in the superclass's constructor.\n",
        "\n",
        "The super() function returns a proxy object that delegates method calls to the parent or superclass of the current object. It provides a way to access the methods and attributes of the superclass without explicitly naming the superclass.\n",
        "\n",
        "The Parent class defines a constructor (__init__) that initializes an attribute name and a method display that prints the name.\n",
        "The Child class inherits from the Parent class and defines its own constructor. Inside the constructor, super().__init__(name) calls the constructor of the Parent class to initialize the name attribute. Then, it initializes its own attribute age.\n",
        "The Child class also overrides the display method. Inside the overridden display method, super().display() calls the display method of the Parent class to print the name, and then it prints the age.\n",
        "This way, super() helps in maintaining code reusability and supports the principle of inheritance in object-oriented programming."
      ]
    },
    {
      "cell_type": "code",
      "execution_count": null,
      "metadata": {
        "colab": {
          "base_uri": "https://localhost:8080/"
        },
        "id": "sgFFd42BXwTW",
        "outputId": "1e658b99-fcc1-4a23-b299-66a2faa0a8ef"
      },
      "outputs": [
        {
          "name": "stdout",
          "output_type": "stream",
          "text": [
            "Name: Alice\n",
            "Age: 25\n"
          ]
        }
      ],
      "source": [
        "class Parent:\n",
        "    def __init__(self, name):\n",
        "        self.name = name\n",
        "\n",
        "    def display(self):\n",
        "        print(\"Name:\", self.name)\n",
        "\n",
        "class Child(Parent):\n",
        "    def __init__(self, name, age):\n",
        "        super().__init__(name)  # Calling the constructor of the Parent class\n",
        "        self.age = age\n",
        "\n",
        "    def display(self):\n",
        "        super().display()  # Calling the display method of the Parent class\n",
        "        print(\"Age:\", self.age)\n",
        "\n",
        "# Creating an instance of the Child class\n",
        "child = Child(\"Alice\", 25)\n",
        "\n",
        "# Calling the display method of the Child class\n",
        "child.display()\n"
      ]
    },
    {
      "cell_type": "markdown",
      "metadata": {
        "id": "xzTs5oD9s7Gb"
      },
      "source": [
        "#13. Create a class called `Book` with a constructor that initializes the `title`, `author`, and `published_year` attributes. Provide a method to display book details."
      ]
    },
    {
      "cell_type": "code",
      "execution_count": null,
      "metadata": {
        "colab": {
          "base_uri": "https://localhost:8080/"
        },
        "id": "jJXp8N6TYTgl",
        "outputId": "390e29bb-5cd2-4ff0-c3ee-09c9525fcf4f"
      },
      "outputs": [
        {
          "data": {
            "text/plain": [
              "('hello world', 'Pavan', 2020)"
            ]
          },
          "execution_count": 4,
          "metadata": {},
          "output_type": "execute_result"
        }
      ],
      "source": [
        "class Book:\n",
        "  def __init__(self,title,author,published_year):\n",
        "    self.title= title\n",
        "    self.author= author\n",
        "    self.published_year = published_year\n",
        "\n",
        "\n",
        "  def display(self):\n",
        "    return  self.title ,self.author ,self.published_year\n",
        "\n",
        "\n",
        "obj_book=Book(\"hello world\",\"Pavan\",2020)\n",
        "obj_book.display()"
      ]
    },
    {
      "cell_type": "markdown",
      "metadata": {
        "id": "l2hfM9huuy6T"
      },
      "source": [
        "#14. Discuss the differences between constructors and regular methods in Python classes."
      ]
    },
    {
      "cell_type": "markdown",
      "metadata": {
        "id": "MoTTQy8yvDbg"
      },
      "source": [
        "Constructors:\n",
        "\n",
        "Constructors are special methods used for initializing newly created objects. In Python, the constructor method is called __init__.\n",
        "Constructors are automatically called when a new instance of the class is created.\n",
        "They are used to set initial values for the object's attributes or to perform any necessary setup tasks.\n",
        "Constructors do not have a return type. They initialize the object state and prepare it for use.\n",
        "\n",
        "Regular Methods:\n",
        "\n",
        "Regular methods are defined like any other function within a class but are intended to operate on the object's data.\n",
        "They are called using an instance of the class and can access and modify the object's attributes.\n",
        "Regular methods can perform various operations on the object, including calculations, modifications, or interactions with other objects.\n",
        "They can have any name (except reserved names like __init__ for constructors) and can accept parameters just like regular functions."
      ]
    },
    {
      "cell_type": "markdown",
      "metadata": {
        "id": "GJ_Mh2P73fQ0"
      },
      "source": [
        "#15. Explain the role of the `self` parameter in instance variable initialization within a constructor"
      ]
    },
    {
      "cell_type": "markdown",
      "metadata": {
        "id": "LEbVtU8f33eM"
      },
      "source": [
        "In Python, self is a conventional name used as the first parameter in instance methods, including constructors (__init__ method), within a class. The role of self is crucial in initializing and accessing instance variables within the class. Here's a breakdown of its role in instance variable initialization within a constructor:\n",
        "\n",
        "Reference to the Instance Itself:\n",
        "\n",
        "self is a reference to the instance of the class. When a method (including the constructor) is called on an object, Python automatically passes the instance as the first argument to the method.\n",
        "By convention, self is used as the name for this parameter, but you can use any name you prefer. However, using self is recommended for clarity and consistency with Python conventions.\n",
        "Access to Instance Variables:\n",
        "\n",
        "Inside the constructor (__init__ method), self is used to access and initialize instance variables specific to that instance of the class.\n",
        "It allows you to differentiate between the instance variables (belonging to the object) and local variables (used within the method).\n",
        "Initialization of Instance Variables:\n",
        "\n",
        "When initializing instance variables within the constructor, you use self.variable_name to assign values to instance variables.\n",
        "This process ensures that each instance of the class maintains its own set of instance variables, distinct from other instances."
      ]
    },
    {
      "cell_type": "code",
      "execution_count": null,
      "metadata": {
        "colab": {
          "base_uri": "https://localhost:8080/"
        },
        "id": "gKntoiX3uW3Q",
        "outputId": "8a9c35cd-0acd-4f4e-c335-30df9ef624a2"
      },
      "outputs": [
        {
          "name": "stdout",
          "output_type": "stream",
          "text": [
            "3 4\n",
            "5 6\n"
          ]
        }
      ],
      "source": [
        "class MyClass:\n",
        "    def __init__(self, x, y):\n",
        "        self.x = x\n",
        "        self.y = y\n",
        "\n",
        "\n",
        "obj1 = MyClass(3, 4)\n",
        "obj2 = MyClass(5, 6)\n",
        "\n",
        "\n",
        "print(obj1.x, obj1.y)\n",
        "print(obj2.x, obj2.y)\n"
      ]
    },
    {
      "cell_type": "markdown",
      "metadata": {
        "id": "dda12lSh4y8w"
      },
      "source": [
        "#16. How do you prevent a class from having multiple instances by using constructors in Python? Provide an example."
      ]
    },
    {
      "cell_type": "markdown",
      "metadata": {
        "id": "7a1Lu_zZ5Iar"
      },
      "source": [
        "\n",
        "In Python, you can prevent a class from having multiple instances by implementing the Singleton design pattern. The Singleton pattern ensures that a class has only one instance and provides a global point of access to that instance."
      ]
    },
    {
      "cell_type": "code",
      "execution_count": null,
      "metadata": {
        "colab": {
          "base_uri": "https://localhost:8080/"
        },
        "id": "QC_yq6st4h87",
        "outputId": "583b8922-5ece-475a-e46c-d7e85712bb12"
      },
      "outputs": [
        {
          "name": "stdout",
          "output_type": "stream",
          "text": [
            "True\n"
          ]
        }
      ],
      "source": [
        "class SingletonClass:\n",
        "    _instance = None\n",
        "\n",
        "    def __init__(self):\n",
        "        if SingletonClass._instance is not None:\n",
        "            raise Exception(\"Singleton instance already exists. Use get_instance() to access it.\")\n",
        "        SingletonClass._instance = self\n",
        "\n",
        "    @classmethod\n",
        "    def get_instance(cls):\n",
        "        if cls._instance is None:\n",
        "            cls._instance = cls()\n",
        "        return cls._instance\n",
        "\n",
        "\n",
        "\n",
        "# Usage:\n",
        "singleton_instance1 = SingletonClass.get_instance()\n",
        "singleton_instance2 = SingletonClass.get_instance()\n",
        "\n",
        "print(singleton_instance1 is singleton_instance2)  # Output: True (both references point to the same instance)\n",
        "\n"
      ]
    },
    {
      "cell_type": "markdown",
      "metadata": {
        "id": "lNAlwpzS-UQ-"
      },
      "source": [
        "#17. Create a Python class called `Student` with a constructor that takes a list of subjects as a parameter and initializes the `subjects` attribute."
      ]
    },
    {
      "cell_type": "code",
      "execution_count": null,
      "metadata": {
        "colab": {
          "base_uri": "https://localhost:8080/"
        },
        "id": "E3aknhAc-hyb",
        "outputId": "cf79efb6-1fdc-4074-aad5-d0bc9075f050"
      },
      "outputs": [
        {
          "data": {
            "text/plain": [
              "('spm', 'dl', 'mean', 'daa', 'cn')"
            ]
          },
          "execution_count": 6,
          "metadata": {},
          "output_type": "execute_result"
        }
      ],
      "source": [
        "class Student:\n",
        "  def __init__(self,*args):\n",
        "    self.args=args\n",
        "\n",
        "  def display(self):\n",
        "    return self.args\n",
        "\n",
        "\n",
        "branch= Student('spm','dl','mean','daa','cn')\n",
        "branch.display()"
      ]
    },
    {
      "cell_type": "markdown",
      "metadata": {
        "id": "p4KmAY-t_XWy"
      },
      "source": [
        "#18. What is the purpose of the `__del__` method in Python classes, and how does it relate to constructors?"
      ]
    },
    {
      "cell_type": "markdown",
      "metadata": {
        "id": "VJCVlcNO_rwG"
      },
      "source": [
        "\n",
        "The __del__ method in Python classes serves as a destructor, providing a way to clean up resources or perform finalization tasks when an object is about to be destroyed or garbage collected. It is the counterpart to the constructor __init__, which is used for object initialization.\n",
        "\n",
        "Here's how the __del__ method relates to constructors:\n",
        "\n",
        "Purpose:\n",
        "\n",
        "The purpose of the __del__ method is to perform cleanup actions or release resources when an object is no longer needed.\n",
        "This could include tasks like closing files, releasing database connections, or deallocating memory.\n",
        "Invocation:\n",
        "\n",
        "The __del__ method is automatically called by the Python interpreter when an object is garbage collected or explicitly deleted using the del statement.\n",
        "Unlike constructors, which are automatically invoked when an object is created, the __del__ method is invoked implicitly by the interpreter when the object is being destroyed.\n",
        "Usage:\n",
        "\n",
        "It's important to use the __del__ method judiciously, as the timing of its invocation might not be predictable.\n",
        "While the __init__ method is commonly used to initialize object state, the __del__ method is used for finalization tasks.\n",
        "However, it's often recommended to use context managers (with statement) or explicit cleanup methods instead of relying solely on the __del__ method for resource cleanup"
      ]
    },
    {
      "cell_type": "code",
      "execution_count": null,
      "metadata": {
        "colab": {
          "base_uri": "https://localhost:8080/"
        },
        "id": "D1eKgOSk5MQ0",
        "outputId": "be098f66-a845-4271-9ea6-d6a0bc6987fc"
      },
      "outputs": [
        {
          "name": "stdout",
          "output_type": "stream",
          "text": [
            "Object A created\n",
            "Object B created\n",
            "Object A destroyed\n",
            "Object B destroyed\n"
          ]
        }
      ],
      "source": [
        "class MyClass:\n",
        "    def __init__(self, name):\n",
        "        self.name = name\n",
        "        print(f\"Object {self.name} created\")\n",
        "\n",
        "    def __del__(self):\n",
        "        print(f\"Object {self.name} destroyed\")\n",
        "\n",
        "# Creating objects\n",
        "obj1 = MyClass(\"A\")\n",
        "obj2 = MyClass(\"B\")\n",
        "\n",
        "# Deleting objects explicitly\n",
        "del obj1\n",
        "del obj2\n"
      ]
    },
    {
      "cell_type": "markdown",
      "metadata": {
        "id": "mM1NXq3dAQhq"
      },
      "source": [
        "#19. Explain the use of constructor chaining in Python. Provide a practical example."
      ]
    },
    {
      "cell_type": "markdown",
      "metadata": {
        "id": "wed0O3SJAmz3"
      },
      "source": [
        "\n",
        "Constructor chaining in Python refers to the process of one constructor method calling another constructor method within the same class hierarchy. This allows for code reuse and ensures that initialization logic defined in one constructor can be utilized by others. In Python, constructor chaining is typically achieved using the super() function to call the constructor of the superclass.\n",
        "\n",
        "Here's an explanation of how constructor chaining works:\n",
        "\n",
        "Calling Superclass Constructor: Within a subclass constructor, you can call the constructor of its superclass using super().__init__().\n",
        "Initialization Logic: The superclass constructor initializes attributes or performs setup tasks specific to that class.\n",
        "Additional Initialization: The subclass constructor can then perform additional initialization tasks specific to the subclass after calling the superclass constructor."
      ]
    },
    {
      "cell_type": "code",
      "execution_count": null,
      "metadata": {
        "colab": {
          "base_uri": "https://localhost:8080/"
        },
        "id": "QkrocOKpATYJ",
        "outputId": "bbf97494-c634-4318-df13-ddb788fa4040"
      },
      "outputs": [
        {
          "name": "stdout",
          "output_type": "stream",
          "text": [
            "Vehicle initialized\n",
            "Car initialized\n"
          ]
        }
      ],
      "source": [
        "class Vehicle:\n",
        "    def __init__(self, make, model):\n",
        "        self.make = make\n",
        "        self.model = model\n",
        "        print(\"Vehicle initialized\")\n",
        "\n",
        "class Car(Vehicle):\n",
        "    def __init__(self, make, model, year):\n",
        "        super().__init__(make, model)  # Call superclass constructor\n",
        "        self.year = year\n",
        "        print(\"Car initialized\")\n",
        "\n",
        "# Creating a Car object\n",
        "car = Car(\"Toyota\", \"Camry\", 2022)\n"
      ]
    },
    {
      "cell_type": "markdown",
      "metadata": {
        "id": "Otb6ezl3Bjj8"
      },
      "source": [
        "#20. Create a Python class called `Car` with a default constructor that initializes the `make` and `model` attributes. Provide a method to display car information."
      ]
    },
    {
      "cell_type": "code",
      "execution_count": null,
      "metadata": {
        "colab": {
          "base_uri": "https://localhost:8080/"
        },
        "id": "T80XLeilAqQQ",
        "outputId": "977ff031-df35-4072-e4e6-16a208b99434"
      },
      "outputs": [
        {
          "data": {
            "text/plain": [
              "('benz', 'c350')"
            ]
          },
          "execution_count": 9,
          "metadata": {},
          "output_type": "execute_result"
        }
      ],
      "source": [
        "class Car:\n",
        "  def __init__(self,make,model):\n",
        "    self.make=make\n",
        "    self.model=model\n",
        "\n",
        "  def display(self):\n",
        "    return self.make,self.model\n",
        "\n",
        "info=Car(\"benz\",\"c350\")\n",
        "info.display()"
      ]
    },
    {
      "cell_type": "markdown",
      "metadata": {
        "id": "ipm45wdSCzNr"
      },
      "source": [
        "##Inheritance:"
      ]
    },
    {
      "cell_type": "markdown",
      "metadata": {
        "id": "lALZMFS0C4Cy"
      },
      "source": [
        "#1. What is inheritance in Python? Explain its significance in object-oriented programming."
      ]
    },
    {
      "cell_type": "markdown",
      "metadata": {
        "id": "5HOOZSrhDNNO"
      },
      "source": [
        "Inheritance in Python is a mechanism where a new class, known as a subclass or derived class, can inherit attributes and methods from an existing class, known as a superclass or base class. The subclass can then extend or modify the behavior of the superclass by adding new attributes or methods, or by overriding existing ones.\n",
        "\n",
        "The significance of inheritance in object-oriented programming (OOP) lies in its ability to promote code reuse, enhance modularity, and facilitate the creation of hierarchies of related classes. Here's a breakdown of its significance:\n",
        "\n",
        "Code Reuse:\n",
        "\n",
        "Inheritance allows subclasses to inherit attributes and methods from their superclass. This means that common functionality defined in a superclass can be reused across multiple subclasses without reimplementation.\n",
        "It helps in reducing code duplication and promotes a modular approach to programming.\n",
        "Modularity:\n",
        "\n",
        "By organizing classes into a hierarchy based on their relationships, inheritance promotes modularity in code. Related classes can be grouped together, making the codebase easier to understand, maintain, and extend.\n",
        "Changes made to a superclass automatically propagate to its subclasses, ensuring consistency and reducing the risk of errors.\n",
        "Extensibility:\n",
        "\n",
        "Subclasses can extend the functionality of their superclass by adding new attributes and methods or by modifying existing ones.\n",
        "This allows for specialization and customization of behavior, making it possible to create variations of a class tailored to specific requirements without modifying the original class.\n",
        "Polymorphism:\n",
        "\n",
        "Inheritance is closely related to polymorphism, which is the ability of objects to take on different forms based on their class hierarchy.\n",
        "Subclasses can override methods inherited from their superclass to provide specialized implementations. When a method is called on an object, Python dynamically dispatches the call to the appropriate implementation based on the object's actual type."
      ]
    },
    {
      "cell_type": "markdown",
      "metadata": {
        "id": "bIMoMn-MOMN4"
      },
      "source": [
        "#2. Differentiate between single inheritance and multiple inheritance in Python. Provide examples for each."
      ]
    },
    {
      "cell_type": "markdown",
      "metadata": {
        "id": "FL1BJ2ImOWSU"
      },
      "source": [
        "\n",
        "In Python, single inheritance and multiple inheritance are two different approaches to class inheritance, each with its own characteristics and use cases:\n",
        "\n",
        "Single Inheritance:\n",
        "\n",
        "Single inheritance refers to the inheritance of attributes and methods from only one superclass (base class).\n",
        "In single inheritance, a subclass inherits from a single superclass, forming a linear hierarchy.\n",
        "It promotes simplicity and is often sufficient for many scenarios where classes have a straightforward relationship."
      ]
    },
    {
      "cell_type": "code",
      "execution_count": null,
      "metadata": {
        "colab": {
          "base_uri": "https://localhost:8080/"
        },
        "id": "NXeNJm7GCpXh",
        "outputId": "f7297611-5edb-4eb0-f35d-c5a3d5b94b81"
      },
      "outputs": [
        {
          "name": "stdout",
          "output_type": "stream",
          "text": [
            "Animal speaks\n",
            "Dog barks\n"
          ]
        }
      ],
      "source": [
        "class Animal:\n",
        "    def speak(self):\n",
        "        print(\"Animal speaks\")\n",
        "\n",
        "class Dog(Animal):\n",
        "    def bark(self):\n",
        "        print(\"Dog barks\")\n",
        "\n",
        "# Create an instance of Dog\n",
        "dog = Dog()\n",
        "\n",
        "# Call methods inherited from Animal class\n",
        "dog.speak()  # Output: Animal speaks\n",
        "\n",
        "# Call method specific to Dog class\n",
        "dog.bark()   # Output: Dog barks\n"
      ]
    },
    {
      "cell_type": "markdown",
      "metadata": {
        "id": "3E41tK-2OjnK"
      },
      "source": [
        "Multiple Inheritance:\n",
        "\n",
        "Multiple inheritance refers to the inheritance of attributes and methods from more than one superclass.\n",
        "In multiple inheritance, a subclass inherits from multiple superclasses, allowing for more complex class relationships.\n",
        "It provides flexibility but can lead to ambiguity or the diamond problem if not used carefully."
      ]
    },
    {
      "cell_type": "code",
      "execution_count": null,
      "metadata": {
        "colab": {
          "base_uri": "https://localhost:8080/"
        },
        "id": "ljdaAyuFOajZ",
        "outputId": "a0b44c35-2b32-448a-cdeb-866677a2e5a7"
      },
      "outputs": [
        {
          "name": "stdout",
          "output_type": "stream",
          "text": [
            "Animal speaks\n",
            "Pet cuddles\n",
            "Dog barks\n"
          ]
        }
      ],
      "source": [
        "class Animal:\n",
        "    def speak(self):\n",
        "        print(\"Animal speaks\")\n",
        "\n",
        "class Pet:\n",
        "    def cuddle(self):\n",
        "        print(\"Pet cuddles\")\n",
        "\n",
        "class Dog(Animal, Pet):\n",
        "    def bark(self):\n",
        "        print(\"Dog barks\")\n",
        "\n",
        "# Create an instance of Dog\n",
        "dog = Dog()\n",
        "\n",
        "# Call methods inherited from Animal class\n",
        "dog.speak()   # Output: Animal speaks\n",
        "\n",
        "# Call methods inherited from Pet class\n",
        "dog.cuddle()  # Output: Pet cuddles\n",
        "\n",
        "# Call method specific to Dog class\n",
        "dog.bark()    # Output: Dog barks\n"
      ]
    },
    {
      "cell_type": "markdown",
      "metadata": {
        "id": "KbdIEEkbO_DX"
      },
      "source": [
        "#3. Create a Python class called `Vehicle` with attributes `color` and `speed`. Then, create a child class called `Car` that inherits from `Vehicle` and adds a `brand` attribute. Provide an example of creating a `Car` object."
      ]
    },
    {
      "cell_type": "code",
      "execution_count": null,
      "metadata": {
        "colab": {
          "base_uri": "https://localhost:8080/"
        },
        "id": "QzfsMMajO7YX",
        "outputId": "4a6d3286-9be3-4e99-ec6f-6021fd6a89b6"
      },
      "outputs": [
        {
          "name": "stdout",
          "output_type": "stream",
          "text": [
            "Car attributes are: red color, 150 speed, and brand is Rolls Royce\n"
          ]
        }
      ],
      "source": [
        "class Vehicle:\n",
        "    def __init__(self, color, speed):\n",
        "        self.color = color\n",
        "        self.speed = speed\n",
        "\n",
        "class Car(Vehicle):\n",
        "    def __init__(self, color, speed, brand):\n",
        "        super().__init__(color, speed)  # Call superclass constructor\n",
        "        self.brand = brand\n",
        "\n",
        "    def display(self):\n",
        "        print(f\"Car attributes are: {self.color} color, {self.speed} speed, and brand is {self.brand}\")\n",
        "\n",
        "# Create an instance of Car\n",
        "car_attri = Car(\"red\", \"150\", \"Rolls Royce\")\n",
        "car_attri.display()\n"
      ]
    },
    {
      "cell_type": "markdown",
      "metadata": {
        "id": "TZS5tcSoV4J3"
      },
      "source": [
        "#4. Explain the concept of method overriding in inheritance. Provide a practical example."
      ]
    },
    {
      "cell_type": "markdown",
      "metadata": {
        "id": "QfkBo8nhWrgz"
      },
      "source": [
        "\n",
        "Method overriding in inheritance refers to the ability of a subclass to provide a specific implementation for a method that is already defined in its superclass. When a subclass overrides a method from its superclass, the subclass version of the method is called instead of the superclass version when invoked on instances of the subclass.\n",
        "\n",
        "Here's how method overriding works:\n",
        "\n",
        "Same Method Signature:\n",
        "\n",
        "The method to be overridden in the subclass must have the same name and signature (parameters) as the method in the superclass.\n",
        "Override Annotation (Optional):\n",
        "\n",
        "In Python, you can use the @override decorator (available in the abc module) to explicitly indicate that a method is intended to override a method in the superclass. This helps in avoiding accidental overrides due to misspelled method names or incorrect signatures.\n",
        "Subclass Implementation:\n",
        "\n",
        "In the subclass, provide a new implementation for the method with the same name and signature as in the superclass. This new implementation will replace the implementation inherited from the superclass.\n",
        "Invocation:\n",
        "\n",
        "When a method is called on an instance of the subclass, Python first checks if the method is defined in the subclass. If it is, the subclass's implementation is executed. Otherwise, Python looks for the method in the superclass."
      ]
    },
    {
      "cell_type": "code",
      "execution_count": null,
      "metadata": {
        "colab": {
          "base_uri": "https://localhost:8080/"
        },
        "id": "zBBHvT8wRL8-",
        "outputId": "4d283223-6bbb-48a9-8e2d-257db8bc4041"
      },
      "outputs": [
        {
          "name": "stdout",
          "output_type": "stream",
          "text": [
            "Bark\n",
            "Meow\n"
          ]
        }
      ],
      "source": [
        "class Animal:\n",
        "    def make_sound(self):\n",
        "        print(\"Generic animal sound\")\n",
        "\n",
        "class Dog(Animal):\n",
        "    def make_sound(self):\n",
        "        print(\"Bark\")\n",
        "\n",
        "class Cat(Animal):\n",
        "    def make_sound(self):\n",
        "        print(\"Meow\")\n",
        "\n",
        "# Create instances of subclasses\n",
        "dog = Dog()\n",
        "cat = Cat()\n",
        "\n",
        "# Call overridden method\n",
        "dog.make_sound()  # Output: Bark\n",
        "cat.make_sound()  # Output: Meow\n"
      ]
    },
    {
      "cell_type": "markdown",
      "metadata": {
        "id": "u7exNjsztsKo"
      },
      "source": [
        "#5. How can you access the methods and attributes of a parent class from a child class in Python? Give an example."
      ]
    },
    {
      "cell_type": "markdown",
      "metadata": {
        "id": "KLSSxwXnuxVT"
      },
      "source": [
        "\n",
        "In Python, you can access the methods and attributes of a parent class from a child class by using the super() function or by directly referencing the parent class."
      ]
    },
    {
      "cell_type": "code",
      "execution_count": null,
      "metadata": {
        "colab": {
          "base_uri": "https://localhost:8080/"
        },
        "id": "kEXo4A1fYSe6",
        "outputId": "6038187f-5f92-4d39-8473-211a74304d53"
      },
      "outputs": [
        {
          "name": "stdout",
          "output_type": "stream",
          "text": [
            "Hello, I'm Alice!\n",
            "My name is Alice and I'm 10 years old.\n"
          ]
        }
      ],
      "source": [
        "class Parent:\n",
        "    def __init__(self, name):\n",
        "        self.name = name\n",
        "\n",
        "    def greet(self):\n",
        "        print(f\"Hello, I'm {self.name}!\")\n",
        "\n",
        "class Child(Parent):\n",
        "    def __init__(self, name, age):\n",
        "        super().__init__(name)\n",
        "        self.age = age\n",
        "\n",
        "    def introduce(self):\n",
        "        print(f\"My name is {self.name} and I'm {self.age} years old.\")\n",
        "\n",
        "    def greet_and_introduce(self):\n",
        "        super().greet()  # Using super() to access parent class method\n",
        "        self.introduce()  # Accessing child class method\n",
        "\n",
        "# Creating an instance of Child class\n",
        "child = Child(\"Alice\", 10)\n",
        "\n",
        "# Accessing parent class method and child class method from the child instance\n",
        "child.greet_and_introduce()\n"
      ]
    },
    {
      "cell_type": "markdown",
      "metadata": {
        "id": "ghANKt4ZunVB"
      },
      "source": [
        "6. Discuss the use of the `super()` function in Python inheritance. When and why is it used? Provide an\n",
        "example."
      ]
    },
    {
      "cell_type": "markdown",
      "metadata": {
        "id": "8pk1UINEvBDu"
      },
      "source": [
        "\n",
        "In Python, the super() function is used to call methods and access attributes from the parent class within a child class. It is particularly useful in cases of inheritance where a child class inherits behavior from a parent class but needs to extend or modify that behavior.\n",
        "\n",
        "Here are some key points about the use of super() in Python inheritance:\n",
        "\n",
        "Calling Parent Class Methods: super() allows you to call methods defined in the parent class from within the child class. This helps avoid redundancy and promotes code reusability.\n",
        "\n",
        "Method Resolution Order (MRO): super() follows the Method Resolution Order defined by Python's inheritance hierarchy. This ensures that methods are called in a consistent and predictable order, even in complex inheritance structures.\n",
        "\n",
        "Support for Multiple Inheritance: super() is especially helpful when dealing with multiple inheritance, where a class inherits from multiple parent classes. It ensures that methods are called in the correct order according to the MRO.\n",
        "\n",
        "Maintaining Flexibility and Extensibility: By using super(), child classes can easily extend or modify the behavior inherited from the parent class without explicitly referencing the parent class name. This makes the code more flexible and easier to maintain."
      ]
    },
    {
      "cell_type": "code",
      "execution_count": null,
      "metadata": {
        "colab": {
          "base_uri": "https://localhost:8080/"
        },
        "id": "mfcbLGyKuAEV",
        "outputId": "97d75faf-b3a4-4c39-adfe-f6b07886ff39"
      },
      "outputs": [
        {
          "name": "stdout",
          "output_type": "stream",
          "text": [
            "Some generic animal sound Woof! I'm a Labrador!\n"
          ]
        }
      ],
      "source": [
        "class Animal:\n",
        "    def speak(self):\n",
        "        return \"Some generic animal sound\"\n",
        "\n",
        "class Dog(Animal):\n",
        "    def speak(self):\n",
        "        parent_sound = super().speak()  # Call the speak method of the parent class\n",
        "        return f\"{parent_sound} Woof!\"\n",
        "\n",
        "class Labrador(Dog):\n",
        "    def speak(self):\n",
        "        parent_sound = super().speak()  # Call the speak method of the parent class (Dog)\n",
        "        return f\"{parent_sound} I'm a Labrador!\"\n",
        "\n",
        "# Creating instances of Labrador class\n",
        "labrador = Labrador()\n",
        "\n",
        "# Calling the speak method of Labrador class\n",
        "print(labrador.speak())  # Output: Some generic animal sound Woof! I'm a Labrador!\n"
      ]
    },
    {
      "cell_type": "markdown",
      "metadata": {
        "id": "XqZYuMwZ7-WK"
      },
      "source": [
        "#7. Create a Python class called `Animal` with a method `speak()`. Then, create child classes `Dog` and `Cat` that inherit from `Animal` and override the `speak()` method. Provide an example of using these classes"
      ]
    },
    {
      "cell_type": "code",
      "execution_count": null,
      "metadata": {
        "colab": {
          "base_uri": "https://localhost:8080/"
        },
        "id": "QcT-hLeYw896",
        "outputId": "2b00d548-50ba-4298-f3a4-05ce4779f5c5"
      },
      "outputs": [
        {
          "name": "stdout",
          "output_type": "stream",
          "text": [
            "i have some genric sound i can bark\n",
            "i have some genric sound i make meow sound\n"
          ]
        }
      ],
      "source": [
        "class Animal:\n",
        "  def speak(self):\n",
        "    return \"some genric sound\"\n",
        "class Dog(Animal):\n",
        "  def speak(self):\n",
        "    parent=super().speak()\n",
        "    return f\"i have {parent} i can bark\"\n",
        "class Cat(Animal):\n",
        "  def speak(self):\n",
        "    parent=super().speak()\n",
        "    return f\"i have {parent} i make meow sound\"\n",
        "\n",
        "sound=Dog()\n",
        "Sound=Cat()\n",
        "print(sound.speak())\n",
        "print(Sound.speak())\n"
      ]
    },
    {
      "cell_type": "markdown",
      "metadata": {
        "id": "G9dWPTMp_JL5"
      },
      "source": [
        "#8. Explain the role of the `isinstance()` function in Python and how it relates to inheritance."
      ]
    },
    {
      "cell_type": "markdown",
      "metadata": {
        "id": "BFjm9O1lEbwo"
      },
      "source": [
        "\n",
        "In Python, the isinstance() function is used to determine whether an object is an instance of a specified class or of a subclass of that class. It returns True if the object is an instance of the specified class, otherwise, it returns False."
      ]
    },
    {
      "cell_type": "code",
      "execution_count": null,
      "metadata": {
        "colab": {
          "base_uri": "https://localhost:8080/"
        },
        "id": "uv24iAZ-8-Qw",
        "outputId": "03e85433-a995-4ebf-a24d-0dc636000797"
      },
      "outputs": [
        {
          "name": "stdout",
          "output_type": "stream",
          "text": [
            "True\n",
            "True\n",
            "True\n",
            "True\n",
            "False\n",
            "False\n"
          ]
        }
      ],
      "source": [
        "class Animal:\n",
        "    pass\n",
        "\n",
        "class Dog(Animal):\n",
        "    pass\n",
        "\n",
        "class Cat(Animal):\n",
        "    pass\n",
        "\n",
        "dog = Dog()\n",
        "cat = Cat()\n",
        "\n",
        "print(isinstance(dog, Dog))\n",
        "print(isinstance(cat, Cat))\n",
        "\n",
        "\n",
        "print(isinstance(dog, Animal))\n",
        "print(isinstance(cat, Animal))\n",
        "\n",
        "\n",
        "print(isinstance(dog, Cat))\n",
        "print(isinstance(cat, Dog))\n",
        "\n"
      ]
    },
    {
      "cell_type": "markdown",
      "metadata": {
        "id": "4dKqRR_RGKYY"
      },
      "source": [
        "#9. What is the purpose of the `issubclass()` function in Python? Provide an example."
      ]
    },
    {
      "cell_type": "markdown",
      "metadata": {
        "id": "ZMbhXQxNGuG3"
      },
      "source": [
        "issubclass:\n",
        "\n",
        "it is used to  check new class is subclass of the previous class\n",
        "if it is subclass of previous class then it is returns 'True'\n",
        "if it is not subclass of previous class then is returns 'False'"
      ]
    },
    {
      "cell_type": "code",
      "execution_count": null,
      "metadata": {
        "colab": {
          "base_uri": "https://localhost:8080/"
        },
        "id": "HqX7X3HwFB60",
        "outputId": "08be2c68-3e6f-46f8-b1d5-f91933e623f7"
      },
      "outputs": [
        {
          "name": "stdout",
          "output_type": "stream",
          "text": [
            "True\n",
            "True\n",
            "False\n"
          ]
        }
      ],
      "source": [
        "class Animal:\n",
        "    pass\n",
        "\n",
        "class Dog(Animal):\n",
        "    pass\n",
        "\n",
        "class Cat(Animal):\n",
        "    pass\n",
        "\n",
        "dog = Dog()\n",
        "cat = Cat()\n",
        "\n",
        "print(issubclass(Dog,Animal))\n",
        "print(issubclass(Cat, Animal))\n",
        "\n",
        "print(issubclass(Cat, Dog))\n",
        "\n"
      ]
    },
    {
      "cell_type": "markdown",
      "metadata": {
        "id": "ybwFRFLbIV58"
      },
      "source": [
        "#10. Discuss the concept of constructor inheritance in Python. How are constructors inherited in child classes?"
      ]
    },
    {
      "cell_type": "markdown",
      "metadata": {
        "id": "-dCc_O9yIikT"
      },
      "source": [
        "\n",
        "In Python, constructor inheritance refers to the mechanism by which child classes inherit the behavior of constructors (also known as __init__ methods) from their parent classes. When a child class is created without its own __init__ method, it automatically inherits the constructor of its parent class. If the child class defines its own __init__ method, it can still inherit and extend the behavior of the parent class's constructor using the super() function.\n",
        "\n",
        "Here's how constructor inheritance works in Python:\n",
        "\n",
        "Implicit Inheritance: If a child class does not explicitly define its own __init__ method, it automatically inherits the constructor from its parent class. This means that when an instance of the child class is created, the parent class's constructor is called.\n",
        "\n",
        "Explicit Inheritance with super(): If a child class defines its own __init__ method but still wants to utilize the behavior of the parent class's constructor, it can do so by calling super().__init__() within its __init__ method. This allows the child class to execute the initialization code defined in the parent class before adding its own initialization logic.\n",
        "\n",
        "Overriding Constructors: Child classes can override the behavior of the parent class's constructor by defining their own __init__ method. In this case, the child class's __init__ method will be used when creating instances of the child class, and the parent class's constructor will not be automatically called unless explicitly invoked using super()."
      ]
    },
    {
      "cell_type": "code",
      "execution_count": null,
      "metadata": {
        "colab": {
          "base_uri": "https://localhost:8080/"
        },
        "id": "IRBxiX2qHe_0",
        "outputId": "0243620c-ea8c-492d-ad85-b61d6d58871d"
      },
      "outputs": [
        {
          "name": "stdout",
          "output_type": "stream",
          "text": [
            "Parent constructor called.\n",
            "Parent attribute for ChildImplicit\n",
            "Parent constructor called.\n",
            "ChildExplicit constructor called.\n",
            "Parent attribute for ChildExplicit\n",
            "Child attribute\n"
          ]
        }
      ],
      "source": [
        "class Parent:\n",
        "    def __init__(self, parent_attribute):\n",
        "        self.parent_attribute = parent_attribute\n",
        "        print(\"Parent constructor called.\")\n",
        "\n",
        "class ChildImplicit(Parent):\n",
        "    pass\n",
        "\n",
        "class ChildExplicit(Parent):\n",
        "    def __init__(self, parent_attribute, child_attribute):\n",
        "        super().__init__(parent_attribute)\n",
        "        self.child_attribute = child_attribute\n",
        "        print(\"ChildExplicit constructor called.\")\n",
        "\n",
        "child1 = ChildImplicit(\"Parent attribute for ChildImplicit\")\n",
        "print(child1.parent_attribute)\n",
        "\n",
        "child2 = ChildExplicit(\"Parent attribute for ChildExplicit\", \"Child attribute\")\n",
        "print(child2.parent_attribute)\n",
        "print(child2.child_attribute)\n"
      ]
    },
    {
      "cell_type": "markdown",
      "metadata": {
        "id": "BPeplCjtOFvY"
      },
      "source": [
        "#11. Create a Python class called `Shape` with a method `area()` that calculates the area of a shape. Then, create child classes `Circle` and `Rectangle` that inherit from `Shape` and implement the `area()` method accordingly. Provide an example."
      ]
    },
    {
      "cell_type": "code",
      "execution_count": null,
      "metadata": {
        "colab": {
          "base_uri": "https://localhost:8080/"
        },
        "id": "LcnHjVneNeIY",
        "outputId": "73152a28-2b86-4307-d2b4-faab992277df"
      },
      "outputs": [
        {
          "name": "stdout",
          "output_type": "stream",
          "text": [
            "Enter the radius of circle: 5\n",
            "Area of circle: 78.5\n",
            "Enter the length of rectangle: 7\n",
            "Enter the breadth of rectangle: 4\n",
            "Area of rectangle: 28\n",
            "True\n"
          ]
        }
      ],
      "source": [
        "class Shape:\n",
        "    def area(self):\n",
        "        pass\n",
        "\n",
        "class Circle(Shape):\n",
        "    def area(self):\n",
        "        r = int(input(\"Enter the radius of circle: \"))\n",
        "        print(\"Area of circle:\", 3.14 * (r**2))\n",
        "\n",
        "class Rectangle(Shape):\n",
        "    def area(self):\n",
        "        l = int(input(\"Enter the length of rectangle: \"))\n",
        "        b = int(input(\"Enter the breadth of rectangle: \"))\n",
        "        print(\"Area of rectangle:\", l * b)\n",
        "\n",
        "circle = Circle()\n",
        "rectangle = Rectangle()\n",
        "\n",
        "\n",
        "circle.area()\n",
        "rectangle.area()\n",
        "\n",
        "print(issubclass(Circle,Shape))"
      ]
    },
    {
      "cell_type": "markdown",
      "metadata": {
        "id": "aA0d6UEhVbeS"
      },
      "source": [
        "#12. Explain the use of abstract base classes (ABCs) in Python and how they relate to inheritance. Provide an example using the `abc` module."
      ]
    },
    {
      "cell_type": "markdown",
      "metadata": {
        "id": "bWTHZD5oWBf3"
      },
      "source": [
        "\n",
        "Abstract Base Classes (ABCs) in Python provide a way to define interfaces or abstract methods that must be implemented by subclasses. They allow you to define a blueprint for a class without providing a complete implementation, ensuring that certain methods are implemented by all subclasses. ABCs are useful for enforcing a certain structure in class hierarchies and promoting consistency in subclass implementations.\n",
        "\n",
        "Here's how ABCs relate to inheritance:\n",
        "\n",
        "Defining Abstract Methods: ABCs allow you to define abstract methods using the @abstractmethod decorator from the abc module. These abstract methods must be implemented by concrete subclasses. If a subclass fails to implement one of these abstract methods, it will raise an error at runtime, ensuring that all necessary methods are provided.\n",
        "\n",
        "Enforcing Interfaces: ABCs provide a way to enforce interfaces or contracts that subclasses must adhere to. By defining abstract methods in the base class, you can ensure that all subclasses provide implementations for these methods, thereby enforcing a consistent interface across the class hierarchy.\n",
        "\n",
        "Polymorphism: ABCs facilitate polymorphic behavior by allowing different subclasses to implement methods in their own specialized ways while still adhering to a common interface. This allows for code reuse and promotes modularity in object-oriented designs."
      ]
    },
    {
      "cell_type": "code",
      "execution_count": null,
      "metadata": {
        "colab": {
          "base_uri": "https://localhost:8080/"
        },
        "id": "xWzlj9HSQoDk",
        "outputId": "f4f4642b-8446-408a-a962-8ca0202ab308"
      },
      "outputs": [
        {
          "name": "stdout",
          "output_type": "stream",
          "text": [
            "Area of circle: 78.5\n",
            "Area of rectangle: 24\n"
          ]
        }
      ],
      "source": [
        "from abc import ABC, abstractmethod\n",
        "\n",
        "class Shape(ABC):\n",
        "    @abstractmethod\n",
        "    def area(self):\n",
        "        pass\n",
        "\n",
        "class Circle(Shape):\n",
        "    def __init__(self, radius):\n",
        "        self.radius = radius\n",
        "\n",
        "    def area(self):\n",
        "        return 3.14 * (self.radius ** 2)\n",
        "\n",
        "class Rectangle(Shape):\n",
        "    def __init__(self, length, width):\n",
        "        self.length = length\n",
        "        self.width = width\n",
        "\n",
        "    def area(self):\n",
        "        return self.length * self.width\n",
        "\n",
        "# Creating instances of Circle and Rectangle\n",
        "circle = Circle(5)\n",
        "rectangle = Rectangle(4, 6)\n",
        "\n",
        "# Calling area() method on instances\n",
        "print(\"Area of circle:\", circle.area())  # Output: 78.5 (approximately)\n",
        "print(\"Area of rectangle:\", rectangle.area())  # Output: 24\n"
      ]
    },
    {
      "cell_type": "markdown",
      "metadata": {
        "id": "d7GLOdE7xoKF"
      },
      "source": [
        "#13. How can you prevent a child class from modifying certain attributes or methods inherited from a parent class in Python?"
      ]
    },
    {
      "cell_type": "markdown",
      "metadata": {
        "id": "BAcsaD5Cy4rw"
      },
      "source": [
        "\n",
        "In Python, you can prevent a child class from modifying certain attributes or methods inherited from a parent class by using various techniques:\n",
        "\n",
        "Private Attributes and Methods: You can make attributes or methods private in the parent class by prefixing their names with a double underscore (__). This effectively makes them inaccessible to the child class."
      ]
    },
    {
      "cell_type": "code",
      "execution_count": null,
      "metadata": {
        "id": "NQ9UOmRcVL2H"
      },
      "outputs": [],
      "source": [
        "class parent:\n",
        "  def __init__(self):\n",
        "    pass\n",
        "\n",
        "  def __method(self):\n",
        "    pass\n",
        "\n",
        "\n"
      ]
    },
    {
      "cell_type": "markdown",
      "metadata": {
        "id": "6rQeYFuuzZt3"
      },
      "source": [
        "Protected Attributes and Methods: Although Python doesn't have a strict concept of protected members, by convention, attributes or methods prefixed with a single underscore (_) are considered protected. While they can still be accessed and modified by child classes, it signals that they are not part of the public interface and should be used with caution."
      ]
    },
    {
      "cell_type": "code",
      "execution_count": null,
      "metadata": {
        "id": "klMixh32zbVB"
      },
      "outputs": [],
      "source": [
        "class parent:\n",
        "  def __init__(self):\n",
        "    pass\n",
        "\n",
        "  def _method(self):\n",
        "    pass\n"
      ]
    },
    {
      "cell_type": "markdown",
      "metadata": {
        "id": "ytCYEccpz1s9"
      },
      "source": [
        "Using Properties: You can use properties to control access to attributes and enforce restrictions. By defining getter methods, you can allow read-only access to attributes, preventing child classes from modifying them directly."
      ]
    },
    {
      "cell_type": "code",
      "execution_count": null,
      "metadata": {
        "id": "n0QL7iuizqz7"
      },
      "outputs": [],
      "source": [
        "class Parent:\n",
        "    def __init__(self):\n",
        "        self._attribute = 10\n",
        "\n",
        "    @property\n",
        "    def attribute(self):\n",
        "        return self._attribute\n",
        "\n",
        "class Child(Parent):\n",
        "    def __init__(self):\n",
        "        super().__init__()\n",
        "        # Attempting to modify the attribute will raise an AttributeError\n",
        "        self.attribute = 20\n"
      ]
    },
    {
      "cell_type": "markdown",
      "metadata": {
        "id": "eN-txQ2j0eQY"
      },
      "source": [
        "Override Methods: If a method in the parent class should not be modified by the child class, you can prevent it by not calling super() to invoke the parent class method or by explicitly raising an exception in the child class."
      ]
    },
    {
      "cell_type": "code",
      "execution_count": null,
      "metadata": {
        "id": "7TJ5bICXz7aQ"
      },
      "outputs": [],
      "source": [
        "class Parent:\n",
        "    def method(self):\n",
        "        print(\"Parent method\")\n",
        "\n",
        "class Child(Parent):\n",
        "    def method(self):\n",
        "        raise NotImplementedError(\"Child class cannot modify this method\")\n"
      ]
    },
    {
      "cell_type": "markdown",
      "metadata": {
        "id": "OLHqrqS319WX"
      },
      "source": [
        "#14. Create a Python class called `Employee` with attributes `name` and `salary`. Then, create a child class `Manager` that inherits from `Employee` and adds an attribute `department`Provide an example."
      ]
    },
    {
      "cell_type": "code",
      "execution_count": null,
      "metadata": {
        "colab": {
          "base_uri": "https://localhost:8080/"
        },
        "id": "oT-33ors0kzN",
        "outputId": "e5eb8cae-c9ba-4e41-a4f7-8f882ff56819"
      },
      "outputs": [
        {
          "name": "stdout",
          "output_type": "stream",
          "text": [
            "Employee:\n",
            "Name: John Doe\n",
            "Salary: 50000\n",
            "\n",
            "Manager:\n",
            "Name: Alice Smith\n",
            "Salary: 70000\n",
            "Department: Engineering\n"
          ]
        }
      ],
      "source": [
        "class Employee:\n",
        "    def __init__(self, name, salary):\n",
        "        self.name = name\n",
        "        self.salary = salary\n",
        "\n",
        "class Manager(Employee):\n",
        "    def __init__(self, name, salary, department):\n",
        "        super().__init__(name, salary)\n",
        "        self.department = department\n",
        "\n",
        "# Example usage:\n",
        "employee1 = Employee(\"John Doe\", 50000)\n",
        "manager1 = Manager(\"Alice Smith\", 70000, \"Engineering\")\n",
        "\n",
        "print(\"Employee:\")\n",
        "print(\"Name:\", employee1.name)\n",
        "print(\"Salary:\", employee1.salary)\n",
        "\n",
        "print(\"\\nManager:\")\n",
        "print(\"Name:\", manager1.name)\n",
        "print(\"Salary:\", manager1.salary)\n",
        "print(\"Department:\", manager1.department)\n",
        "\n"
      ]
    },
    {
      "cell_type": "markdown",
      "metadata": {
        "id": "LwCZ46BCsM3o"
      },
      "source": [
        "#15. Discuss the concept of method overloading in Python inheritance. How does it differ from method overriding?"
      ]
    },
    {
      "cell_type": "markdown",
      "metadata": {
        "id": "1jc0oqdJsmzU"
      },
      "source": [
        "\n",
        "In Python, method overloading and method overriding are two different concepts related to inheritance:\n",
        "\n",
        "Method Overloading:\n",
        "\n",
        "Method overloading refers to the ability to define multiple methods with the same name but with different signatures (i.e., different parameters) within a single class. These methods can have different numbers or types of parameters.\n",
        "Python does not support method overloading in the traditional sense where you can define multiple methods with the same name but different parameter lists. However, you can achieve a similar effect using default parameter values or variable-length argument lists (*args and **kwargs).\n",
        "Python uses the most recent definition of a method when it's called, so defining multiple methods with the same name in a class will override previous definitions rather than overload them.\n",
        "Method Overriding:\n",
        "\n",
        "Method overriding occurs when a subclass provides a specific implementation of a method that is already defined in its superclass. The method in the subclass has the same name and signature (i.e., same parameters) as the method in the superclass.\n",
        "When an object of the subclass calls the overridden method, the implementation in the subclass is executed instead of the one in the superclass.\n",
        "Method overriding allows subclasses to provide their own specialized implementation of methods inherited from the superclass while maintaining the same interface.\n",
        "Here's a comparison between method overloading and method overriding:\n",
        "\n",
        "Method Overloading:\n",
        "\n",
        "Involves defining multiple methods with the same name but different parameters within a single class.\n",
        "Parameter lists must differ in terms of the number or types of parameters.\n",
        "Not directly supported in Python, but similar behavior can be achieved using default parameter values or variable-length argument lists.\n",
        "Overloading occurs at compile time in languages like Java, but in Python, the most recent definition of a method takes precedence.\n",
        "\n",
        "Method Overriding:\n",
        "\n",
        "Occurs when a subclass provides a specific implementation of a method that is already defined in its superclass.\n",
        "The method in the subclass has the same name and signature (parameters) as the method in the superclass.\n",
        "Subclass method overrides the superclass method when called by an object of the subclass.\n",
        "Overriding allows subclasses to customize the behavior of inherited methods without modifying the superclass implementation.\n",
        "\n",
        "\n",
        "In summary, method overloading involves defining multiple methods with the same name but different parameters within a single class (not directly supported in Python), while method overriding occurs when a subclass provides its own implementation of a method inherited from its superclass, maintaining the same method signature."
      ]
    },
    {
      "cell_type": "markdown",
      "metadata": {
        "id": "3KAvUc5kuNIg"
      },
      "source": [
        "#16. Explain the purpose of the `__init__()` method in Python inheritance and how it is utilized in child classes."
      ]
    },
    {
      "cell_type": "markdown",
      "metadata": {
        "id": "oP0XdTkjxH7d"
      },
      "source": [
        "The __init__() method in Python is a special method used for initializing objects of a class. It is called a constructor method because it gets automatically invoked when a new object of the class is instantiated. The primary purpose of the __init__() method is to initialize the attributes of the object to their initial values.\n",
        "\n",
        "\n",
        "When it comes to inheritance, the __init__() method is utilized in both the parent class and its child classes. Here's how it works:\n",
        "\n",
        "\n",
        "In the Parent Class:\n",
        "\n",
        "\n",
        "In the parent class, the __init__() method is responsible for initializing attributes that are common to all instances of that class.\n",
        "\n",
        "\n",
        "It defines the initial state of the object and sets up any necessary instance variables.\n",
        "\n",
        "\n",
        "The __init__() method in the parent class may accept arguments that are used to initialize its attributes."
      ]
    },
    {
      "cell_type": "code",
      "execution_count": null,
      "metadata": {
        "id": "dUX2aOsD31CN"
      },
      "outputs": [],
      "source": [
        "class Parent:\n",
        "    def __init__(self, attribute1, attribute2):\n",
        "        self.attribute1 = attribute1\n",
        "        self.attribute2 = attribute2\n"
      ]
    },
    {
      "cell_type": "markdown",
      "metadata": {
        "id": "hz5OmgfExb9s"
      },
      "source": [
        "In Child Classes:\n",
        "\n",
        "Child classes can utilize the __init__() method to extend or customize the initialization behavior of their parent class.\n",
        "\n",
        "When a child class defines its own __init__() method, it can call the parent class's __init__() method using super().__init__(...) to ensure that the initialization of inherited attributes is performed.\n",
        "\n",
        "Child classes can add additional attributes specific to themselves or override attributes defined in the parent class."
      ]
    },
    {
      "cell_type": "code",
      "execution_count": null,
      "metadata": {
        "id": "a0LR7u4VOqNs"
      },
      "outputs": [],
      "source": [
        "class Child(Parent):\n",
        "    def __init__(self, attribute1, attribute2, attribute3):\n",
        "        super().__init__(attribute1, attribute2)  # Call parent's __init__ method\n",
        "        self.attribute3 = attribute3  # Additional attribute specific to Child\n"
      ]
    },
    {
      "cell_type": "markdown",
      "metadata": {
        "id": "hvLtgAbrx6j-"
      },
      "source": [
        "#17. Create a Python class called `Bird` with a method `fly()`. Then, create child classes `Eagle` and `Sparrow` that inherit from `Bird` and implement the `fly()` method differently. Provide an example of using these\n",
        "classes."
      ]
    },
    {
      "cell_type": "code",
      "execution_count": null,
      "metadata": {
        "colab": {
          "base_uri": "https://localhost:8080/"
        },
        "id": "dRwSPBC3pyOx",
        "outputId": "0f386a60-7511-4cf8-8ff9-b71c78ed4134"
      },
      "outputs": [
        {
          "name": "stdout",
          "output_type": "stream",
          "text": [
            "can fly\n",
            "Eagle can fly high\n",
            "can fly\n",
            "Sparrow can fly fast\n"
          ]
        }
      ],
      "source": [
        "class Bird:\n",
        "    def fly(self):\n",
        "        print(\"can fly\")\n",
        "\n",
        "class Eagle(Bird):\n",
        "    def fly(self):\n",
        "        super().fly()  # Call fly() method of the parent class\n",
        "        print(\"Eagle can fly high\")\n",
        "\n",
        "class Sparrow(Bird):\n",
        "    def fly(self):\n",
        "        super().fly()  # Call fly() method of the parent class\n",
        "        print(\"Sparrow can fly fast\")\n",
        "\n",
        "# Example usage:\n",
        "eagle = Eagle()\n",
        "eagle.fly()\n",
        "\n",
        "sparrow = Sparrow()\n",
        "sparrow.fly()\n"
      ]
    },
    {
      "cell_type": "markdown",
      "metadata": {
        "id": "HGCLXnZ51UcN"
      },
      "source": [
        "#18. What is the \"diamond problem\" in multiple inheritance, and how does Python address it?"
      ]
    },
    {
      "cell_type": "markdown",
      "metadata": {
        "id": "my_bX53g1oci"
      },
      "source": [
        "\n",
        "The \"diamond problem\" is a common issue that arises in programming languages that support multiple inheritance, where a subclass inherits from two or more classes that have a common ancestor. This creates a diamond-shaped inheritance hierarchy, which can lead to ambiguity and conflicts in method resolution.\n",
        "\n",
        "Here's an illustration of the diamond problem:\n",
        "\n",
        "css\n",
        "Copy code\n",
        "\n",
        "     A\n",
        "    / \\\n",
        "\n",
        "   B   C\n",
        "\n",
        "    \\ /\n",
        "    \n",
        "     D\n",
        "\n",
        "In this diagram:\n",
        "\n",
        "Classes B and C both inherit from class A.\n",
        "Class D inherits from both classes B and C.\n",
        "When a method or attribute is called on an instance of class D, it is not clear whether it should use the implementation from class B, class C, or some combination of both.\n",
        "Python addresses the diamond problem through a mechanism called the Method Resolution Order (MRO). Python uses the C3 linearization algorithm to determine the order in which methods are resolved in cases of multiple inheritance. This ensures that methods are called in a consistent and predictable order, following a linear sequence that respects the hierarchy of classes.\n",
        "\n",
        "The C3 linearization algorithm produces a linearization list (also known as the method resolution order) for each class. The method resolution order defines the order in which Python searches for methods and attributes in the inheritance hierarchy. It ensures that each method is called exactly once, and the order of precedence is determined by the class hierarchy.\n",
        "\n",
        "Python's method resolution order is obtained using the __mro__ attribute or the mro() method. By following the method resolution order, Python resolves the diamond problem by providing a clear and unambiguous order in which methods are inherited and overridden."
      ]
    },
    {
      "cell_type": "markdown",
      "metadata": {
        "id": "lQlPNkd5oZHq"
      },
      "source": [
        "#19. Discuss the concept of \"is-a\" and \"has-a\" relationships in inheritance, and provide examples of each."
      ]
    },
    {
      "cell_type": "markdown",
      "metadata": {
        "id": "1GeAztBmofcX"
      },
      "source": [
        "\n",
        "In object-oriented programming (OOP), inheritance is a fundamental concept that allows classes to inherit properties and behaviors from other classes. This helps in creating a hierarchy of classes where more specialized classes (subclasses or derived classes) can inherit attributes and methods from more general classes (superclasses or base classes). The concepts of \"is-a\" and \"has-a\" relationships are important in understanding how inheritance works:\n",
        "\n",
        "\"Is-a\" Relationship (Inheritance):\n",
        "\n",
        "In an \"is-a\" relationship, one class is a specialized version of another class. This implies that the subclass shares common characteristics and behaviors with its superclass, but may also have additional features specific to itself."
      ]
    },
    {
      "cell_type": "code",
      "execution_count": null,
      "metadata": {
        "id": "RuHzXtWcyvDl"
      },
      "outputs": [],
      "source": [
        "class Shape:\n",
        "    def __init__(self, color):\n",
        "        self.color = color\n",
        "\n",
        "class Circle(Shape):  # Circle \"is-a\" Shape\n",
        "    def __init__(self, color, radius):\n",
        "        super().__init__(color)\n",
        "        self.radius = radius\n",
        "\n",
        "class Square(Shape):  # Square \"is-a\" Shape\n",
        "    def __init__(self, color, side_length):\n",
        "        super().__init__(color)\n",
        "        self.side_length = side_length\n"
      ]
    },
    {
      "cell_type": "markdown",
      "metadata": {
        "id": "JIDc8K4Jomzq"
      },
      "source": [
        "\"Has-a\" Relationship (Composition):\n",
        "\n",
        "In a \"has-a\" relationship, one class has another class as a component or member. This implies that the class contains an instance of another class as one of its attributes."
      ]
    },
    {
      "cell_type": "code",
      "execution_count": null,
      "metadata": {
        "id": "5iQfv5GbzY9o"
      },
      "outputs": [],
      "source": [
        "class Engine:\n",
        "    def __init__(self, horsepower):\n",
        "        self.horsepower = horsepower\n",
        "\n",
        "class Car:\n",
        "    def __init__(self, make, model, year, engine):\n",
        "        self.make = make\n",
        "        self.model = model\n",
        "        self.year = year\n",
        "        self.engine = engine  # Car \"has-a\" Engine\n"
      ]
    },
    {
      "cell_type": "markdown",
      "metadata": {
        "id": "dCY0eAqjqB7u"
      },
      "source": [
        "#20. Create a Python class hierarchy for a university system. Start with a base class `Person` and create child classes `Student` and `Professor`, each with their own attributes and methods. Provide an example of using these classes in a university context."
      ]
    },
    {
      "cell_type": "code",
      "execution_count": null,
      "metadata": {
        "colab": {
          "base_uri": "https://localhost:8080/"
        },
        "id": "HS9uI6l-oqk4",
        "outputId": "87aa26ed-0f7a-4f50-ae68-58f65edd4bc5"
      },
      "outputs": [
        {
          "name": "stdout",
          "output_type": "stream",
          "text": [
            "Hi, I'm Alice, 20 years old, Female.\n",
            "Alice is studying Computer Science.\n",
            "Hi, I'm Dr. Smith, 45 years old, Male.\n",
            "Dr. Smith is teaching in the Computer Science department.\n"
          ]
        }
      ],
      "source": [
        "class Person:\n",
        "    def __init__(self, name, age, gender):\n",
        "        self.name = name\n",
        "        self.age = age\n",
        "        self.gender = gender\n",
        "\n",
        "    def introduce(self):\n",
        "        return f\"Hi, I'm {self.name}, {self.age} years old, {self.gender}.\"\n",
        "\n",
        "\n",
        "class Student(Person):\n",
        "    def __init__(self, name, age, gender, student_id, major):\n",
        "        super().__init__(name, age, gender)\n",
        "        self.student_id = student_id\n",
        "        self.major = major\n",
        "\n",
        "    def study(self):\n",
        "        return f\"{self.name} is studying {self.major}.\"\n",
        "\n",
        "\n",
        "class Professor(Person):\n",
        "    def __init__(self, name, age, gender, employee_id, department):\n",
        "        super().__init__(name, age, gender)\n",
        "        self.employee_id = employee_id\n",
        "        self.department = department\n",
        "\n",
        "    def teach(self):\n",
        "        return f\"{self.name} is teaching in the {self.department} department.\"\n",
        "\n",
        "\n",
        "# Example usage\n",
        "if __name__ == \"__main__\":\n",
        "    student = Student(\"Alice\", 20, \"Female\", \"S001\", \"Computer Science\")\n",
        "    professor = Professor(\"Dr. Smith\", 45, \"Male\", \"P001\", \"Computer Science\")\n",
        "\n",
        "    print(student.introduce())\n",
        "    print(student.study())\n",
        "\n",
        "    print(professor.introduce())\n",
        "    print(professor.teach())\n",
        "\n",
        "\n",
        "\n",
        "\n"
      ]
    },
    {
      "cell_type": "markdown",
      "metadata": {
        "id": "4X3YQUekF-91"
      },
      "source": [
        "##Encapsulation:"
      ]
    },
    {
      "cell_type": "markdown",
      "metadata": {
        "id": "hqvtDKo6GCke"
      },
      "source": [
        "#1. Explain the concept of encapsulation in Python. What is its role in object-oriented programming?"
      ]
    },
    {
      "cell_type": "markdown",
      "metadata": {
        "id": "R9-l5DDCGNQR"
      },
      "source": [
        "Encapsulation is one of the fundamental concepts in object-oriented programming (OOP) and refers to the bundling of data (attributes or properties) and methods (functions or behaviors) that operate on that data within a single unit or class. It allows for the internal representation of an object's state to be hidden from the outside world and only accessible through well-defined interfaces provided by the class.\n",
        "\n",
        "In Python, encapsulation is achieved through the use of classes and access modifiers such as public, private, and protected attributes and methods. Here's how encapsulation works and its role in OOP:\n",
        "\n",
        "Data Hiding: Encapsulation allows the internal state of an object to be hidden from the outside world. By defining attributes as private or protected, you restrict direct access to them from outside the class. This helps in preventing accidental modification or misuse of the object's state.\n",
        "\n",
        "Access Control: With encapsulation, you can control the access to the attributes and methods of a class. By using access modifiers like public, private, and protected, you can specify who can access what. This helps in enforcing data integrity and ensuring that only intended operations are performed on the object's data.\n",
        "\n",
        "Abstraction: Encapsulation also promotes abstraction by providing a clear separation between the implementation details of a class and its interface. Users of the class only need to know how to interact with its public interface without being concerned about its internal implementation.\n",
        "\n",
        "Modularity: Encapsulation promotes modularity by encapsulating related data and behavior within a single unit or class. This makes it easier to manage and maintain code as changes to one part of the codebase are less likely to affect other parts, provided that the interface remains unchanged.\n",
        "\n",
        "Code Reusability: Encapsulation facilitates code reusability by allowing classes to be used as building blocks for creating new classes. By hiding the implementation details and providing well-defined interfaces, encapsulated classes can be easily reused in different contexts without modifying their internal structure.\n",
        "\n",
        "In summary, encapsulation in Python and object-oriented programming is essential for promoting data hiding, access control, abstraction, modularity, and code reusability. It helps in creating robust and maintainable code by enforcing encapsulation principles and providing well-defined interfaces for interacting with objects."
      ]
    },
    {
      "cell_type": "markdown",
      "metadata": {
        "id": "wYYas2tHLFvc"
      },
      "source": [
        "#2. Describe the key principles of encapsulation, including access control and data hiding."
      ]
    },
    {
      "cell_type": "markdown",
      "metadata": {
        "id": "yTn7JbADLU8C"
      },
      "source": [
        "\n",
        "The key principles of encapsulation in object-oriented programming, including access control and data hiding, are fundamental for creating robust, maintainable, and secure code. Here's a detailed description of these principles:\n",
        "\n",
        "Data Hiding:\n",
        "\n",
        "Data hiding refers to the concept of restricting access to certain attributes or properties of an object, preventing direct modification or access from outside the class.\n",
        "In languages like Python, data hiding is typically achieved by marking attributes as private or protected, indicating that they should not be accessed or modified directly from outside the class.\n",
        "Private attributes are usually denoted by prefixing them with a double underscore (__), making them inaccessible from outside the class without using specific getter and setter methods.\n",
        "By hiding the internal representation of an object's state, data hiding helps in preventing unintended modification or misuse of the object's data, thereby promoting data integrity and security.\n",
        "Access Control:\n",
        "\n",
        "Access control refers to the mechanism of controlling the access to the attributes and methods of a class, specifying who can access what.\n",
        "Access control is typically achieved through access modifiers such as public, private, and protected.\n",
        "Public attributes and methods are accessible from anywhere, allowing unrestricted access from both inside and outside the class.\n",
        "Private attributes and methods are accessible only within the class itself, making them inaccessible from outside the class without using special techniques like getter and setter methods.\n",
        "Protected attributes and methods are accessible within the class itself and its subclasses, but not from outside the class hierarchy.\n",
        "By controlling access to the internal components of a class, access control helps in enforcing encapsulation principles and ensuring that the object's state is accessed and modified only through well-defined interfaces provided by the class.\n",
        "Encapsulation:\n",
        "\n",
        "Encapsulation is the overarching principle that encompasses both data hiding and access control.\n",
        "It involves bundling the data (attributes) and methods (behaviors) that operate on that data within a single unit or class.\n",
        "Encapsulation allows for the internal representation of an object's state to be hidden from the outside world, providing a clear separation between the implementation details of a class and its interface.\n",
        "By encapsulating related data and behavior within a class and controlling access to them through access modifiers, encapsulation promotes data integrity, security, abstraction, modularity, and code reusability."
      ]
    },
    {
      "cell_type": "markdown",
      "metadata": {
        "id": "gYa2qCAVTJRT"
      },
      "source": [
        "#3. How can you achieve encapsulation in Python classes? Provide an example."
      ]
    },
    {
      "cell_type": "markdown",
      "metadata": {
        "id": "t4ttPFNBjdFS"
      },
      "source": [
        "In Python, encapsulation can be achieved using access modifiers such as public, private, and protected attributes and methods. Here's how you can achieve encapsulation in Python classes:\n",
        "\n",
        "Private Attributes and Methods: Private attributes and methods are denoted by prefixing their names with double underscores (__). This convention tells Python interpreter to mangle the name, making it harder to access from outside the class.\n",
        "\n",
        "Protected Attributes and Methods: Protected attributes and methods are denoted by prefixing their names with a single underscore (_). This is more of a convention in Python to indicate that these attributes and methods are intended for internal use or for use by subclasses.\n",
        "\n",
        "Public Attributes and Methods: Attributes and methods without any leading underscore are considered public and can be accessed from outside the class."
      ]
    },
    {
      "cell_type": "code",
      "execution_count": null,
      "metadata": {
        "colab": {
          "base_uri": "https://localhost:8080/"
        },
        "id": "QXIeKPFCtvfo",
        "outputId": "43610542-d25f-4c4f-e990-374449c5dc10"
      },
      "outputs": [
        {
          "name": "stdout",
          "output_type": "stream",
          "text": [
            "2020\n",
            "Make: Toyota, Model: Corolla, Year: 2020\n",
            "Corolla\n",
            "Make: Toyota, Model: Camry, Year: 2020\n"
          ]
        }
      ],
      "source": [
        "class Car:\n",
        "    def __init__(self, make, model, year):\n",
        "        self._make = make              # protected attribute\n",
        "        self.__model = model          # private attribute\n",
        "        self.year = year              # public attribute\n",
        "\n",
        "    # public method\n",
        "    def display_details(self):\n",
        "        return f\"Make: {self._make}, Model: {self.__model}, Year: {self.year}\"\n",
        "\n",
        "    # private method\n",
        "    def __update_model(self, new_model):\n",
        "        self.__model = new_model\n",
        "\n",
        "\n",
        "# Creating an instance of the Car class\n",
        "my_car = Car(\"Toyota\", \"Corolla\", 2020)\n",
        "\n",
        "# Accessing public attributes and methods\n",
        "print(my_car.year)                   # Output: 2020\n",
        "print(my_car.display_details())      # Output: Make: Toyota, Model: Corolla, Year: 2020\n",
        "\n",
        "# Attempting to access private and protected attributes directly\n",
        "# print(my_car.__model)   # This will raise an AttributeError\n",
        "# print(my_car._make)     # This is allowed but it's a convention to not access directly\n",
        "\n",
        "# Accessing private method\n",
        "# my_car.__update_model(\"Camry\")   # This will raise an AttributeError\n",
        "\n",
        "# Accessing private attributes and methods using mangling\n",
        "print(my_car._Car__model)     # Output: Corolla\n",
        "my_car._Car__update_model(\"Camry\")\n",
        "print(my_car.display_details())  # Output: Make: Toyota, Model: Camry, Year: 2020\n",
        "\n"
      ]
    },
    {
      "cell_type": "markdown",
      "metadata": {
        "id": "04eiyz6km9dt"
      },
      "source": [
        "#4. Discuss the difference between public, private, and protected access modifiers in Python."
      ]
    },
    {
      "cell_type": "markdown",
      "metadata": {
        "id": "ZW8uub9bnJEQ"
      },
      "source": [
        "In Python, access modifiers—public, private, and protected—affect how attributes and methods of a class can be accessed and modified from within and outside the class. Here's a discussion of the differences between these access modifiers:\n",
        "\n",
        "Public Access Modifier:\n",
        "\n",
        "Public attributes and methods are accessible from anywhere, both inside and outside the class.\n",
        "In Python, attributes and methods without any leading underscore are considered public by convention.\n",
        "Public attributes and methods can be freely accessed and modified by code outside the class."
      ]
    },
    {
      "cell_type": "code",
      "execution_count": null,
      "metadata": {
        "colab": {
          "base_uri": "https://localhost:8080/",
          "height": 36
        },
        "id": "YnUG6dV7k1dZ",
        "outputId": "5cfc4052-6d64-4c82-d287-333b10d8a798"
      },
      "outputs": [
        {
          "data": {
            "application/vnd.google.colaboratory.intrinsic+json": {
              "type": "string"
            },
            "text/plain": [
              "\"I'm a public method\""
            ]
          },
          "execution_count": 10,
          "metadata": {},
          "output_type": "execute_result"
        }
      ],
      "source": [
        "class Example:\n",
        "    def __init__(self):\n",
        "        self.public_attribute = \"I'm public\"\n",
        "\n",
        "    def public_method(self):\n",
        "        return \"I'm a public method\"\n",
        "\n",
        "example=Example()\n",
        "example.public_method()"
      ]
    },
    {
      "cell_type": "markdown",
      "metadata": {
        "id": "8ykJW7U6nfZx"
      },
      "source": [
        "Private Access Modifier:\n",
        "\n",
        "Private attributes and methods are intended to be accessible only within the class itself.\n",
        "In Python, attributes and methods with double underscores (__) as a prefix are considered private.\n",
        "Private attributes and methods are subject to name mangling, which means their names are changed to include the class name to make them harder to access from outside the class.\n",
        "Although they can be accessed using name mangling, it's generally discouraged as it breaks encapsulation."
      ]
    },
    {
      "cell_type": "code",
      "execution_count": null,
      "metadata": {
        "colab": {
          "base_uri": "https://localhost:8080/",
          "height": 36
        },
        "id": "0XCfooDhlNr9",
        "outputId": "1a458aae-7c6b-4b55-f861-e5b34f1feda9"
      },
      "outputs": [
        {
          "data": {
            "application/vnd.google.colaboratory.intrinsic+json": {
              "type": "string"
            },
            "text/plain": [
              "\"I'm a private method\""
            ]
          },
          "execution_count": 13,
          "metadata": {},
          "output_type": "execute_result"
        }
      ],
      "source": [
        "class Example:\n",
        "    def __init__(self):\n",
        "        self.__private_attribute = \"I'm private\"\n",
        "\n",
        "    def __private_method(self):\n",
        "        return \"I'm a private method\"\n",
        "\n",
        "class Example1(Example):\n",
        "  def __init__(self,__private_attribute):\n",
        "    self.__private_attribute=\"i m inside subclass\"\n",
        "\n",
        "example1=Example()\n",
        "example1._Example__private_method()\n",
        " #to access the private method we should use _classname"
      ]
    },
    {
      "cell_type": "markdown",
      "metadata": {
        "id": "E-k6DhSLpJbX"
      },
      "source": [
        "Protected Access Modifier:\n",
        "\n",
        "Protected attributes and methods are intended to be accessible within the class itself and its subclasses.\n",
        "In Python, attributes and methods with a single underscore (_) as a prefix are considered protected.\n",
        "Unlike private attributes, protected attributes and methods are not subject to name mangling.\n",
        "While it's not enforced by the language, it's a convention in Python to treat protected members as non-public and to discourage their direct access from outside the class hierarchy."
      ]
    },
    {
      "cell_type": "code",
      "execution_count": null,
      "metadata": {
        "colab": {
          "base_uri": "https://localhost:8080/",
          "height": 36
        },
        "id": "69CuO8u3lP6Q",
        "outputId": "e50895f5-2f77-4026-ae44-33aae980c33f"
      },
      "outputs": [
        {
          "data": {
            "application/vnd.google.colaboratory.intrinsic+json": {
              "type": "string"
            },
            "text/plain": [
              "\"I'm a protected method\""
            ]
          },
          "execution_count": 15,
          "metadata": {},
          "output_type": "execute_result"
        }
      ],
      "source": [
        "class Example:\n",
        "    def __init__(self):\n",
        "        self._protected_attribute = \"I'm protected\"\n",
        "\n",
        "    def _protected_method(self):\n",
        "        return \"I'm a protected method\"\n",
        "example2=Example()\n",
        "example2._protected_method()"
      ]
    },
    {
      "cell_type": "markdown",
      "metadata": {
        "id": "tr3kUZeJt3bM"
      },
      "source": [
        "#5. Create a Python class called `Person` with a private attribute `__name`. Provide methods to get and set the name attribute."
      ]
    },
    {
      "cell_type": "code",
      "execution_count": null,
      "metadata": {
        "colab": {
          "base_uri": "https://localhost:8080/",
          "height": 36
        },
        "id": "-tBTjJmUqPtF",
        "outputId": "993b4df7-d6fb-4de9-9ae3-425512eea421"
      },
      "outputs": [
        {
          "data": {
            "application/vnd.google.colaboratory.intrinsic+json": {
              "type": "string"
            },
            "text/plain": [
              "'sai'"
            ]
          },
          "execution_count": 18,
          "metadata": {},
          "output_type": "execute_result"
        }
      ],
      "source": [
        "class Person:\n",
        "  def __init__(self,name):\n",
        "    self.__name=name\n",
        "  def display(self):\n",
        "    return self.__name\n",
        "  def update(self,name):\n",
        "    self.__name=name\n",
        "\n",
        "person=Person(\"pavan\")\n",
        "person.update(\"sai\")\n",
        "person.display()"
      ]
    },
    {
      "cell_type": "markdown",
      "metadata": {
        "id": "CdANyn8Suynn"
      },
      "source": [
        "#6. Explain the purpose of getter and setter methods in encapsulation. Provide examples."
      ]
    },
    {
      "cell_type": "markdown",
      "metadata": {
        "id": "UmuaNiTOu8AL"
      },
      "source": [
        "\n",
        "Getter and setter methods, also known as accessor and mutator methods, are used in encapsulation to provide controlled access to the attributes of a class. They allow indirect access to private attributes, enabling the implementation of data validation, manipulation, and abstraction. Here's a detailed explanation of the purpose of getter and setter methods:\n",
        "\n",
        "Getter Methods:\n",
        "\n",
        "Getter methods are used to retrieve the value of a private attribute.\n",
        "They provide controlled access to the private attributes, allowing read-only access from outside the class.\n",
        "Getter methods can perform additional operations such as validation, computation, or formatting before returning the attribute value.\n",
        "Getter methods are helpful for maintaining encapsulation by ensuring that the internal state of the object is not modified directly from outside the class."
      ]
    },
    {
      "cell_type": "code",
      "execution_count": null,
      "metadata": {
        "colab": {
          "base_uri": "https://localhost:8080/"
        },
        "id": "MG6sFrXxunPm",
        "outputId": "10741965-474d-4484-c489-2b00b7dd6917"
      },
      "outputs": [
        {
          "name": "stdout",
          "output_type": "stream",
          "text": [
            "5\n"
          ]
        }
      ],
      "source": [
        "class Circle:\n",
        "    def __init__(self, radius):\n",
        "        self.__radius = radius   # Private attribute\n",
        "\n",
        "    def get_radius(self):\n",
        "        return self.__radius\n",
        "\n",
        "# Usage\n",
        "circle = Circle(5)\n",
        "print(circle.get_radius())  # Output: 5\n"
      ]
    },
    {
      "cell_type": "markdown",
      "metadata": {
        "id": "fMfKzM4lweDK"
      },
      "source": [
        "Setter Methods:\n",
        "\n",
        "Setter methods are used to modify the value of a private attribute.\n",
        "They provide controlled access to the private attributes, allowing write-only access from outside the class.\n",
        "Setter methods can perform validation checks to ensure that the new value meets certain criteria or constraints before modifying the attribute.\n",
        "Setter methods are helpful for maintaining encapsulation by controlling how the internal state of the object is modified."
      ]
    },
    {
      "cell_type": "code",
      "execution_count": null,
      "metadata": {
        "colab": {
          "base_uri": "https://localhost:8080/"
        },
        "id": "XJh0EC0Lv7Mp",
        "outputId": "7bbc71b3-ce67-4d65-c87a-c311d43e68e2"
      },
      "outputs": [
        {
          "name": "stdout",
          "output_type": "stream",
          "text": [
            "7\n",
            "Radius must be greater than zero.\n",
            "7\n"
          ]
        }
      ],
      "source": [
        "class Circle:\n",
        "    def __init__(self, radius):\n",
        "        self.__radius = radius   # Private attribute\n",
        "\n",
        "    def set_radius(self, radius):\n",
        "        if radius > 0:\n",
        "            self.__radius = radius\n",
        "        else:\n",
        "            print(\"Radius must be greater than zero.\")\n",
        "    def get_radius(self):\n",
        "      return self.__radius\n",
        "\n",
        "# Usage\n",
        "circle = Circle(5)\n",
        "circle.set_radius(7)\n",
        "print(circle.get_radius())   # Output: 7\n",
        "\n",
        "circle.set_radius(-3)        # Output: Radius must be greater than zero.\n",
        "print(circle.get_radius())   # Output: 7 (radius remains unchanged)\n"
      ]
    },
    {
      "cell_type": "markdown",
      "metadata": {
        "id": "Dht3w32r1ciF"
      },
      "source": [
        "#7. What is name mangling in Python, and how does it affect encapsulation?"
      ]
    },
    {
      "cell_type": "markdown",
      "metadata": {
        "id": "jBFiIjg11mYd"
      },
      "source": [
        "\n",
        "Name mangling in Python is a mechanism that alters the name of class members (attributes and methods) by adding a prefix of __ (double underscore) to them. This process is applied to attributes and methods whose names start with at least two underscores and do not end with more than one underscore. The primary purpose of name mangling is to avoid naming conflicts in subclasses that inherit from a parent class with private members.\n",
        "\n",
        "When name mangling is applied to an attribute or method, Python internally renames it by prepending the class name (with a single underscore) to the original name. This effectively makes the attribute or method difficult to access from outside the class, thereby providing a form of pseudo-private access control.\n",
        "\n",
        "Here's how name mangling affects encapsulation:\n",
        "\n",
        "Private Access Control: When an attribute or method is marked as private (by prefixing its name with __), name mangling is automatically applied. This means that the attribute or method is renamed with the class name prefixed by a single underscore followed by the original name. This alteration makes it harder for external code to access the private members directly.\n",
        "\n",
        "Protection Against Subclass Naming Conflicts: Name mangling helps prevent unintentional overriding of attributes or methods in subclasses. If a subclass defines a member with the same name as a private member in its superclass, name mangling ensures that the names do not clash by altering the name of the subclass member."
      ]
    },
    {
      "cell_type": "code",
      "execution_count": null,
      "metadata": {
        "colab": {
          "base_uri": "https://localhost:8080/"
        },
        "id": "GkqSUESXwn75",
        "outputId": "603e3480-5f70-4f44-8374-805faca59236"
      },
      "outputs": [
        {
          "name": "stdout",
          "output_type": "stream",
          "text": [
            "42\n",
            "42\n"
          ]
        }
      ],
      "source": [
        "class MyClass:\n",
        "    def __init__(self):\n",
        "        self.__attribute = 42\n",
        "\n",
        "    def get_attribute(self):\n",
        "        return self.__attribute\n",
        "\n",
        "# Attempting to access __attribute directly outside the class will raise an error\n",
        "obj = MyClass()\n",
        "# print(obj.__attribute)  # This would raise an AttributeError\n",
        "\n",
        "# Accessing the attribute using name mangling\n",
        "print(obj._MyClass__attribute)  # Outputs: 42\n",
        "\n",
        "# Using the getter method to access the attribute\n",
        "print(obj.get_attribute())  # Outputs: 42\n"
      ]
    },
    {
      "cell_type": "markdown",
      "metadata": {
        "id": "cHzWNhmoXBFh"
      },
      "source": [
        "#8. Create a Python class called `BankAccount` with private attributes for the account balance (`__balance`) and account number (`__account_number`). Provide methods for depositing and withdrawing money."
      ]
    },
    {
      "cell_type": "code",
      "execution_count": null,
      "metadata": {
        "colab": {
          "base_uri": "https://localhost:8080/"
        },
        "id": "0UaOHpZAWl4r",
        "outputId": "eef1bd79-66b4-46fc-e669-51caacb08feb"
      },
      "outputs": [
        {
          "name": "stdout",
          "output_type": "stream",
          "text": [
            "50 is deposited to 4567 your total balance is 30050\n",
            "3000 is withdraw to 27000\n"
          ]
        }
      ],
      "source": [
        "class BankAccount():\n",
        "  def __init__(self,account,balance):\n",
        "    self.__account_number=account\n",
        "    self.__balance=balance\n",
        "\n",
        "  def deposite(self,account,balance):\n",
        "    if account ==self.__account_number:\n",
        "      a=self.__balance\n",
        "      a+=balance\n",
        "      print(f\"{balance} is deposited to {self.__account_number} your total balance is {a}\")\n",
        "    else:\n",
        "      print(\"enter a valid account number\")\n",
        "\n",
        "  def withdraw(self,account,balance):\n",
        "     if account ==self.__account_number:\n",
        "        b=self. __balance\n",
        "        b=b-balance\n",
        "        print(f\"{balance} is withdraw to {b}\")\n",
        "     else:\n",
        "       print(\"insuficient funds\")\n",
        "\n",
        "banking=BankAccount(4567,30000)\n",
        "banking.deposite(4567,50)\n",
        "banking.withdraw(4567,3000)"
      ]
    },
    {
      "cell_type": "markdown",
      "metadata": {
        "id": "t6jDK4N0rjSB"
      },
      "source": [
        "#9. Discuss the advantages of encapsulation in terms of code maintainability and security."
      ]
    },
    {
      "cell_type": "markdown",
      "metadata": {
        "id": "xUi68NR2t9wG"
      },
      "source": [
        "\n",
        "Encapsulation, one of the fundamental principles of object-oriented programming, involves bundling data (attributes) and methods (functions) that operate on that data within a single unit, typically a class. Encapsulation offers several advantages in terms of code maintainability and security:\n",
        "\n",
        "Modularity and Abstraction: Encapsulation promotes modularity by hiding the internal workings of an object from the outside world. This allows for easier comprehension of code since users only need to understand the public interface of a class without worrying about its implementation details. By abstracting away the complexity, encapsulation enables developers to work on different parts of a system independently, which enhances maintainability.\n",
        "\n",
        "Code Reusability: Encapsulation encourages the reuse of code. Once a class is encapsulated with well-defined interfaces, it can be reused in various parts of an application or even in different projects without needing to know how it's implemented internally. This saves development time and reduces the likelihood of introducing bugs.\n",
        "\n",
        "Flexibility and Evolution: Encapsulation provides flexibility in modifying the implementation of a class without affecting its users. Developers can refactor the internal structure of a class, add new features, or optimize its performance without breaking existing code that relies on its public interface. This makes it easier to adapt to changing requirements and improve the design of the software over time.\n",
        "\n",
        "Security: Encapsulation helps in enforcing access control mechanisms. By designating certain attributes or methods as private or protected, encapsulation prevents unauthorized access and modification of sensitive data. It reduces the risk of unintentional misuse of class members by external code, leading to more robust and secure applications.\n",
        "\n",
        "Maintainability and Debugging: Encapsulation contributes to code maintainability by localizing changes. When a bug is found or a feature needs to be updated, developers can focus on the specific class affected rather than having to sift through the entire codebase. This localized scope simplifies debugging and reduces the risk of introducing unintended side effects.\n",
        "\n",
        "Encapsulation of Invariants: Encapsulation allows developers to enforce class invariants, which are conditions that must always be true for an object. By encapsulating data and controlling access to it through methods, developers can ensure that these invariants are maintained, leading to more reliable and predictable behavior of objects in the system.\n",
        "\n",
        "Overall, encapsulation plays a crucial role in building maintainable, secure, and robust software systems by promoting modular design, code reuse, access control, and flexibility in evolution and maintenance."
      ]
    },
    {
      "cell_type": "markdown",
      "metadata": {
        "id": "PWaCi0Oy3Zm5"
      },
      "source": [
        "#10. How can you access private attributes in Python? Provide an example demonstrating the use of name mangling."
      ]
    },
    {
      "cell_type": "markdown",
      "metadata": {
        "id": "Fq5NWYgI3wie"
      },
      "source": [
        "\n",
        "In Python, private attributes can be accessed indirectly using name mangling, although it's generally discouraged as it goes against the principle of encapsulation. Name mangling is a technique where Python internally changes the name of a private attribute by adding a prefix to it, making it less accessible from outside the class. However, it's still possible to access these attributes using their mangled names."
      ]
    },
    {
      "cell_type": "code",
      "execution_count": null,
      "metadata": {
        "colab": {
          "base_uri": "https://localhost:8080/"
        },
        "id": "a02PwB1Sn-SJ",
        "outputId": "c9e870e0-2da3-49d6-ac29-943334bcdc6c"
      },
      "outputs": [
        {
          "name": "stdout",
          "output_type": "stream",
          "text": [
            "42\n",
            "42\n"
          ]
        }
      ],
      "source": [
        "class MyClass:\n",
        "    def __init__(self):\n",
        "        self.__private_attribute = 42\n",
        "\n",
        "    def get_private_attribute(self):\n",
        "        return self.__private_attribute\n",
        "\n",
        "# Create an instance of MyClass\n",
        "obj = MyClass()\n",
        "\n",
        "# Attempting to access the private attribute directly raises an AttributeError\n",
        "# print(obj.__private_attribute)  # This would raise an AttributeError\n",
        "\n",
        "# Accessing the private attribute using name mangling\n",
        "print(obj._MyClass__private_attribute)  # Outputs: 42\n",
        "\n",
        "# Using the getter method to access the private attribute\n",
        "print(obj.get_private_attribute())  # Outputs: 42\n"
      ]
    },
    {
      "cell_type": "markdown",
      "metadata": {
        "id": "PgRInVB5E44u"
      },
      "source": [
        "#11. Create a Python class hierarchy for a school system, including classes for students, teachers, and courses, and implement encapsulation principles to protect sensitive information."
      ]
    },
    {
      "cell_type": "code",
      "execution_count": null,
      "metadata": {
        "colab": {
          "base_uri": "https://localhost:8080/"
        },
        "id": "8GcUkwUS4FlM",
        "outputId": "4e6856e8-cf2d-42ed-c7d6-9831197d3ed5"
      },
      "outputs": [
        {
          "name": "stdout",
          "output_type": "stream",
          "text": [
            "Alice Smith is enrolled in the following courses:\n",
            "Mathematics\n",
            "Science\n",
            "\n",
            "John Doe teaches the following courses:\n",
            "Mathematics\n",
            "Science\n"
          ]
        }
      ],
      "source": [
        "class Person:\n",
        "    def __init__(self, name, age, gender):\n",
        "        self._name = name\n",
        "        self._age = age\n",
        "        self._gender = gender\n",
        "\n",
        "    def get_name(self):\n",
        "        return self._name\n",
        "\n",
        "    def get_age(self):\n",
        "        return self._age\n",
        "\n",
        "    def get_gender(self):\n",
        "        return self._gender\n",
        "\n",
        "\n",
        "class Student(Person):\n",
        "    def __init__(self, name, age, gender, student_id):\n",
        "        super().__init__(name, age, gender)\n",
        "        self._student_id = student_id\n",
        "        self._courses = []\n",
        "\n",
        "    def get_student_id(self):\n",
        "        return self._student_id\n",
        "\n",
        "    def enroll_course(self, course):\n",
        "        self._courses.append(course)\n",
        "\n",
        "    def get_courses(self):\n",
        "        return self._courses\n",
        "\n",
        "\n",
        "class Teacher(Person):\n",
        "    def __init__(self, name, age, gender, teacher_id):\n",
        "        super().__init__(name, age, gender)\n",
        "        self._teacher_id = teacher_id\n",
        "        self._courses_taught = []\n",
        "\n",
        "    def get_teacher_id(self):\n",
        "        return self._teacher_id\n",
        "\n",
        "    def assign_course(self, course):\n",
        "        self._courses_taught.append(course)\n",
        "\n",
        "    def get_courses_taught(self):\n",
        "        return self._courses_taught\n",
        "\n",
        "\n",
        "class Course:\n",
        "    def __init__(self, course_name, course_code, teacher):\n",
        "        self._course_name = course_name\n",
        "        self._course_code = course_code\n",
        "        self._teacher = teacher\n",
        "\n",
        "    def get_course_name(self):\n",
        "        return self._course_name\n",
        "\n",
        "    def get_course_code(self):\n",
        "        return self._course_code\n",
        "\n",
        "    def get_teacher(self):\n",
        "        return self._teacher.get_name()  # Return teacher's name\n",
        "\n",
        "\n",
        "# Example usage:\n",
        "\n",
        "teacher1 = Teacher(\"John Doe\", 35, \"Male\", \"T001\")\n",
        "student1 = Student(\"Alice Smith\", 17, \"Female\", \"S001\")\n",
        "\n",
        "math_course = Course(\"Mathematics\", \"MATH101\", teacher1)\n",
        "science_course = Course(\"Science\", \"SCI101\", teacher1)\n",
        "\n",
        "teacher1.assign_course(math_course)\n",
        "teacher1.assign_course(science_course)\n",
        "\n",
        "student1.enroll_course(math_course)\n",
        "student1.enroll_course(science_course)\n",
        "\n",
        "print(f\"{student1.get_name()} is enrolled in the following courses:\")\n",
        "for course in student1.get_courses():\n",
        "    print(course.get_course_name())\n",
        "\n",
        "print(f\"\\n{teacher1.get_name()} teaches the following courses:\")\n",
        "for course in teacher1.get_courses_taught():\n",
        "    print(course.get_course_name())\n"
      ]
    },
    {
      "cell_type": "markdown",
      "metadata": {
        "id": "oN0L1HHHVxj9"
      },
      "source": [
        "#12. Explain the concept of property decorators in Python and how they relate to encapsulation."
      ]
    },
    {
      "cell_type": "markdown",
      "metadata": {
        "id": "LK6ZjUa5WAOB"
      },
      "source": [
        "\n",
        "In Python, property decorators are a way to define properties on a class that allow controlled access to an object's attributes. They provide a mechanism to encapsulate attributes by allowing you to define custom behavior when accessing, setting, or deleting an attribute. Property decorators are typically used to create getter, setter, and deleter methods for attributes.\n",
        "\n",
        "Here's how property decorators work:\n",
        "\n",
        "Getter method: Property decorators can be used to define a method that acts as a getter for an attribute. This method is called whenever the attribute is accessed.\n",
        "\n",
        "Setter method: Property decorators can also define a method that acts as a setter for an attribute. This method is called whenever the attribute is assigned a new value.\n",
        "\n",
        "Deleter method: Additionally, property decorators can define a method that acts as a deleter for an attribute. This method is called whenever the del statement is used to delete the attribute.\n",
        "\n",
        "Property decorators provide a way to enforce encapsulation by allowing you to control how attributes are accessed and modified. They enable you to perform actions or apply validation logic whenever an attribute is accessed or modified, ensuring that the object's internal state remains consistent."
      ]
    },
    {
      "cell_type": "code",
      "execution_count": null,
      "metadata": {
        "colab": {
          "base_uri": "https://localhost:8080/"
        },
        "id": "1C9w6aSlY6nw",
        "outputId": "42088683-38ae-4011-ca43-95097f3769de"
      },
      "outputs": [
        {
          "name": "stdout",
          "output_type": "stream",
          "text": [
            "Radius: 5\n",
            "Area: 78.5\n",
            "Circumference: 31.400000000000002\n",
            "Updated Radius: 7\n",
            "Updated Area: 153.86\n",
            "Updated Circumference: 43.96\n"
          ]
        }
      ],
      "source": [
        "class Circle:\n",
        "    def __init__(self, radius):\n",
        "        self._radius = radius\n",
        "\n",
        "    @property\n",
        "    def radius(self):\n",
        "        return self._radius\n",
        "\n",
        "    @radius.setter\n",
        "    def radius(self, value):\n",
        "        if value <= 0:\n",
        "            raise ValueError(\"Radius must be a positive number\")\n",
        "        self._radius = value\n",
        "\n",
        "    @property\n",
        "    def area(self):\n",
        "        return 3.14 * self._radius ** 2\n",
        "\n",
        "    @property\n",
        "    def circumference(self):\n",
        "        return 2 * 3.14 * self._radius\n",
        "\n",
        "\n",
        "# Example usage\n",
        "circle = Circle(5)\n",
        "print(\"Radius:\", circle.radius)\n",
        "print(\"Area:\", circle.area)\n",
        "print(\"Circumference:\", circle.circumference)\n",
        "\n",
        "circle.radius = 7  # Setting the radius using the setter method\n",
        "print(\"Updated Radius:\", circle.radius)\n",
        "print(\"Updated Area:\", circle.area)\n",
        "print(\"Updated Circumference:\", circle.circumference)\n"
      ]
    },
    {
      "cell_type": "markdown",
      "metadata": {
        "id": "UMKryubcYyRQ"
      },
      "source": [
        "#13. What is data hiding, and why is it important in encapsulation? Provide examples."
      ]
    },
    {
      "cell_type": "markdown",
      "metadata": {
        "id": "qk0qyRYyZXdS"
      },
      "source": [
        "\n",
        "Data hiding is a fundamental concept in object-oriented programming that refers to the practice of restricting access to certain attributes or methods of an object. It is achieved by encapsulating the internal state of an object and providing controlled access to it through well-defined interfaces. Data hiding helps to prevent direct manipulation of an object's internal state from outside the object's scope, which promotes better maintainability, security, and flexibility of the codebase.\n",
        "\n",
        "Data hiding is important in encapsulation because it allows developers to hide the implementation details of an object and only expose the necessary functionalities. This helps to prevent unintended modifications to an object's state, reduces the risk of introducing bugs, and facilitates easier modification of the implementation without affecting other parts of the codebase."
      ]
    },
    {
      "cell_type": "code",
      "execution_count": null,
      "metadata": {
        "colab": {
          "base_uri": "https://localhost:8080/"
        },
        "id": "cXNPZ7zQSnc5",
        "outputId": "662a5cb0-725d-4b6c-d1e6-51f2127eef75"
      },
      "outputs": [
        {
          "name": "stdout",
          "output_type": "stream",
          "text": [
            "Balance before direct access: 1000\n",
            "Balance after direct access: 500\n",
            "Balance using getter method: 500\n"
          ]
        }
      ],
      "source": [
        "class BankAccount:\n",
        "    def __init__(self, account_number, balance):\n",
        "        self._account_number = account_number  # Encapsulated attribute\n",
        "        self._balance = balance  # Encapsulated attribute\n",
        "\n",
        "    def deposit(self, amount):\n",
        "        if amount > 0:\n",
        "            self._balance += amount\n",
        "\n",
        "    def withdraw(self, amount):\n",
        "        if 0 < amount <= self._balance:\n",
        "            self._balance -= amount\n",
        "\n",
        "    def get_balance(self):\n",
        "        return self._balance\n",
        "\n",
        "\n",
        "# Example usage\n",
        "account = BankAccount(\"1234567890\", 1000)\n",
        "\n",
        "# Direct access to balance attribute (not recommended)\n",
        "print(\"Balance before direct access:\", account._balance)\n",
        "account._balance -= 500  # Direct modification (not recommended)\n",
        "print(\"Balance after direct access:\", account._balance)\n",
        "\n",
        "# Accessing balance through getter method (recommended)\n",
        "print(\"Balance using getter method:\", account.get_balance())\n"
      ]
    },
    {
      "cell_type": "markdown",
      "metadata": {
        "id": "J4slz322fcEp"
      },
      "source": [
        "#14. Create a Python class called `Employee` with private attributes for salary (`__salary`) and employee ID (`__employee_id`). Provide a method to calculate yearly bonuses."
      ]
    },
    {
      "cell_type": "code",
      "execution_count": null,
      "metadata": {
        "colab": {
          "base_uri": "https://localhost:8080/"
        },
        "id": "V6CA0eHJZ_wy",
        "outputId": "2a565021-3507-4b9d-906b-8d175a406902"
      },
      "outputs": [
        {
          "name": "stdout",
          "output_type": "stream",
          "text": [
            "30000\n"
          ]
        },
        {
          "data": {
            "text/plain": [
              "0.0048000000003438625"
            ]
          },
          "execution_count": 19,
          "metadata": {},
          "output_type": "execute_result"
        }
      ],
      "source": [
        "class Employee:\n",
        "    def __init__(self,salary,employe_id):\n",
        "      self.__salary=salary\n",
        "      self.__employee_id=employe_id\n",
        "    def bonuses(self):\n",
        "      salary=int(input())\n",
        "      self.__salary=salary\n",
        "      bonus=self.__salary%(8.33/100)\n",
        "      return bonus\n",
        "\n",
        "bon=Employee(30000,345)\n",
        "bon.bonuses()\n"
      ]
    },
    {
      "cell_type": "markdown",
      "metadata": {
        "id": "KzTEubRkh2JF"
      },
      "source": [
        "#15. Discuss the use of accessors and mutators in encapsulation. How do they help maintain control over attribute access?"
      ]
    },
    {
      "cell_type": "markdown",
      "metadata": {
        "id": "2EGtCGKJiF7J"
      },
      "source": [
        "Accessors and mutators, also known as getters and setters, are methods used in encapsulation to control access to an object's attributes. They play a crucial role in maintaining control over attribute access by providing controlled read and write access to the internal state of an object.\n",
        "\n",
        "Accessors (Getters):\n",
        "Accessors are methods used to retrieve the values of private attributes. They allow controlled read access to the attributes by providing a way to retrieve their values without directly exposing the attributes themselves. Accessors typically have names prefixed with \"get_\" followed by the attribute name."
      ]
    },
    {
      "cell_type": "code",
      "execution_count": null,
      "metadata": {
        "id": "xBNe58O_hn-z"
      },
      "outputs": [],
      "source": [
        "class Student:\n",
        "    def __init__(self, name, age):\n",
        "        self._name = name\n",
        "        self._age = age\n",
        "\n",
        "    def get_name(self):\n",
        "        return self._name\n",
        "\n",
        "    def get_age(self):\n",
        "        return self._age\n"
      ]
    },
    {
      "cell_type": "markdown",
      "metadata": {
        "id": "Fb7bfh3Wi5q_"
      },
      "source": [
        "Mutators (Setters):\n",
        "Mutators are methods used to modify the values of private attributes. They allow controlled write access to the attributes by providing a way to modify their values with optional validation or additional logic. Mutators typically have names prefixed with \"set_\" followed by the attribute name."
      ]
    },
    {
      "cell_type": "code",
      "execution_count": null,
      "metadata": {
        "id": "oaxgKFWoi108"
      },
      "outputs": [],
      "source": [
        "class Student:\n",
        "    def __init__(self, name, age):\n",
        "        self._name = name\n",
        "        self._age = age\n",
        "\n",
        "    def set_name(self, name):\n",
        "        self._name = name\n",
        "\n",
        "    def set_age(self, age):\n",
        "        if age >= 0:\n",
        "            self._age = age\n",
        "        else:\n",
        "            print(\"Age cannot be negative.\")\n"
      ]
    },
    {
      "cell_type": "markdown",
      "metadata": {
        "id": "qMrTh_I7jm6w"
      },
      "source": [
        "Access to the object's attributes is controlled through methods, allowing for validation, additional logic, or side effects to be applied when reading or modifying attribute values.\n",
        "The internal representation of the object can be changed without affecting the external interface, as long as the accessor and mutator methods remain consistent.\n",
        "It provides a clear separation between the internal implementation details of the class and its external interface, enhancing code readability and maintainability.\n",
        "Accessors and mutators can enforce constraints or business rules on attribute values, ensuring that the object remains in a valid state at all times.\n",
        "Overall, accessors and mutators help ensure that attributes are accessed and modified in a controlled and consistent manner, which is essential for maintaining encapsulation and the integrity of the object's state."
      ]
    },
    {
      "cell_type": "markdown",
      "metadata": {
        "id": "0JMuiCl-0cjd"
      },
      "source": [
        "#16. What are the potential drawbacks or disadvantages of using encapsulation in Python?\n",
        "\n",
        "\n",
        "\n",
        "Encapsulation is a fundamental principle of object-oriented programming (OOP) that promotes the bundling of data and methods that operate on the data within a single unit or class. In Python, encapsulation is typically achieved through the use of access modifiers like public, private, and protected attributes and methods. While encapsulation offers several benefits such as improved code organization, modularity, and security, there are also potential drawbacks or disadvantages:\n",
        "\n",
        "Increased Complexity: Implementing encapsulation adds an additional layer of complexity to the code, especially when dealing with access modifiers like private and protected members. Developers need to be mindful of the visibility of attributes and methods and ensure proper encapsulation without overcomplicating the design.\n",
        "\n",
        "Performance Overhead: Accessing private or protected members often involves invoking getter and setter methods, which can incur a slight performance overhead compared to direct attribute access. While this overhead is usually negligible, it can become a concern in performance-critical applications.\n",
        "\n",
        "Reduced Flexibility: Encapsulation restricts direct access to class members from outside the class, which can sometimes limit the flexibility of the code. In certain situations, direct access to class members may be necessary for specific optimizations or design patterns.\n",
        "\n",
        "Debugging Challenges: Since encapsulation hides the internal details of a class from external users, debugging can become more challenging, especially when dealing with complex inheritance hierarchies or when troubleshooting issues related to encapsulated members.\n",
        "\n",
        "Increased Coupling: Overuse of encapsulation, particularly when combined with strict access modifiers like private, can lead to increased coupling between classes. Tight coupling can make the codebase more rigid and harder to maintain or refactor.\n",
        "\n",
        "Encapsulation Violation: Python's encapsulation mechanisms (such as name mangling for private members) are primarily conventions rather than strict rules enforced by the language itself. This means that encapsulation can be easily violated if developers access private members directly, potentially leading to unexpected behavior and bugs.\n",
        "\n",
        "Boilerplate Code: Implementing encapsulation often requires writing additional boilerplate code for getter and setter methods, especially for languages like Python that lack built-in support for properties or automatic getters/setters.\n",
        "\n",
        "Despite these potential drawbacks, encapsulation remains a valuable tool for managing complexity, promoting code reuse, and enhancing maintainability in object-oriented Python code. It's essential to strike a balance between encapsulation and flexibility, applying it judiciously where it provides the most significant benefits without introducing unnecessary complexity or constraints.\n",
        "\n",
        "\n",
        "\n",
        "\n",
        "#17. Create a Python class for a library system that encapsulates book information, including titles, authors,\n",
        "and availability status."
      ]
    },
    {
      "cell_type": "code",
      "execution_count": null,
      "metadata": {
        "id": "TjcyBat5jdkx"
      },
      "outputs": [],
      "source": [
        "class library:\n",
        "    def __init__(self,title,author,status):\n",
        "        self.__title=title\n",
        "        self.__author=author\n",
        "        self.__status=status\n",
        "\n",
        "    def display(self):\n",
        "\n",
        "        return self.__title,self.__author,self.__status\n",
        "\n",
        "\n",
        "lib_sys=library(\"To Kill a Mockingbird\",\"Harper Lee\",\"yes\")\n",
        "lib_sys.display()\n"
      ]
    },
    {
      "cell_type": "markdown",
      "metadata": {
        "id": "qVLfAJKOxkh8"
      },
      "source": [
        "# 18. Explain how encapsulation enhances code reusability and modularity in Python programs."
      ]
    },
    {
      "cell_type": "markdown",
      "metadata": {
        "id": "n0f_4qhlxkh8"
      },
      "source": [
        "Encapsulation is a fundamental principle of object-oriented programming (OOP) that promotes bundling data and methods that operate on the data within a single unit or class. In Python, encapsulation is typically achieved through the use of access modifiers like public, private, and protected attributes and methods. Encapsulation enhances code reusability and modularity in Python programs in several ways:\n",
        "\n",
        "Code Organization: Encapsulation helps organize code by grouping related data and behavior together within a class. This improves code readability and maintainability, as it makes it easier to understand the structure and purpose of different components of the program.\n",
        "\n",
        "Information Hiding: Encapsulation allows developers to hide the internal implementation details of a class from the outside world. By designating certain attributes and methods as private or protected, encapsulation prevents direct access to these members from outside the class. This helps reduce dependencies and minimizes the risk of unintended side effects when making changes to the class.\n",
        "\n",
        "Modularity: Encapsulation promotes modularity by encapsulating functionality into reusable components (classes). These components can be easily reused in different parts of the program or in other programs altogether. This promotes code reuse, as developers can leverage existing classes without needing to reimplement the same functionality.\n",
        "\n",
        "Reduced Coupling: Encapsulation helps reduce coupling between different parts of the program by limiting interactions between classes to well-defined interfaces. This makes the codebase more flexible and easier to maintain, as changes to one class are less likely to have ripple effects on other parts of the program.\n",
        "\n",
        "Inheritance and Polymorphism: Encapsulation plays a crucial role in inheritance and polymorphism, two key principles of OOP. By encapsulating behavior within classes, developers can create hierarchies of classes that inherit and extend functionality from parent classes. This promotes code reuse and allows for the creation of specialized subclasses that can be used interchangeably with their parent classes (polymorphism).\n",
        "\n",
        "Encapsulation of State: Encapsulation allows for the encapsulation of the state (data) of an object along with the methods that operate on that state. This helps ensure data integrity and prevents unauthorized access or modification of object state from outside the class.\n",
        "\n",
        "Overall, encapsulation enhances code reusability and modularity in Python programs by promoting organized, modular, and reusable code components while reducing coupling and increasing flexibility and maintainability. It encourages best practices in software design and contributes to the creation of robust, scalable, and maintainable software systems."
      ]
    },
    {
      "cell_type": "markdown",
      "metadata": {
        "id": "OLSJpHecxkh8"
      },
      "source": [
        "# 19. Describe the concept of information hiding in encapsulation. Why is it essential in software development?"
      ]
    },
    {
      "cell_type": "markdown",
      "metadata": {
        "id": "g67OvCnFxkh9"
      },
      "source": [
        "\n",
        "Information hiding is a concept in software development that refers to the practice of restricting access to certain components or details of a software module, class, or system. In the context of encapsulation, information hiding involves hiding the internal implementation details of a class or module from the outside world while exposing only the necessary interfaces or functionalities. This is typically achieved by designating certain attributes and methods as private or protected, preventing direct access from external code.\n",
        "\n",
        "The concept of information hiding is essential in software development for several reasons:\n",
        "\n",
        "Abstraction: Information hiding allows developers to create abstractions that simplify the complexity of a system. By hiding unnecessary details and exposing only relevant interfaces, developers can create more intuitive and easy-to-use APIs for interacting with their code.\n",
        "\n",
        "Encapsulation: Information hiding is closely related to encapsulation, which bundles data and methods together within a single unit or class. By encapsulating the implementation details of a class, developers can protect the integrity of the class's internal state and behavior, preventing external code from directly accessing or modifying it.\n",
        "\n",
        "Modularity: Information hiding promotes modularity by encapsulating functionality into reusable components with well-defined interfaces. This allows developers to independently develop, test, and maintain different modules or classes without needing to understand the internal details of each component.\n",
        "\n",
        "Security: Information hiding enhances security by limiting access to sensitive data and functionality. By restricting access to certain components or methods, developers can prevent unauthorized code from tampering with critical parts of the system, reducing the risk of security vulnerabilities and exploits.\n",
        "\n",
        "Flexibility and Maintainability: Information hiding increases the flexibility and maintainability of software systems by decoupling different components and reducing dependencies between them. This makes it easier to make changes to one part of the system without affecting other parts, leading to more robust and maintainable codebases.\n",
        "\n",
        "Enhanced Encapsulation: Information hiding is essential for achieving effective encapsulation. By hiding the internal details of a class or module, developers can enforce encapsulation and ensure that the class's interface remains stable over time, even as the implementation details change.\n",
        "\n",
        "Overall, information hiding is a fundamental principle in software development that promotes abstraction, encapsulation, modularity, security, flexibility, and maintainability. By concealing unnecessary details and exposing only relevant interfaces, developers can create more robust, secure, and maintainable software systems."
      ]
    },
    {
      "cell_type": "markdown",
      "metadata": {
        "id": "uzgsi7CExkh9"
      },
      "source": [
        "# 20. Create a Python class called `Customer` with private attributes for customer details like name, address, and contact information. Implement encapsulation to ensure data integrity and security."
      ]
    },
    {
      "cell_type": "code",
      "execution_count": null,
      "metadata": {
        "id": "STwBmZgxxkh9",
        "outputId": "96e1e5c9-8457-48f2-c816-e7ddac77d195"
      },
      "outputs": [
        {
          "data": {
            "text/plain": [
              "('pavan', '2-7', 9675749372)"
            ]
          },
          "execution_count": 20,
          "metadata": {},
          "output_type": "execute_result"
        }
      ],
      "source": [
        "class customer:\n",
        "    def __init__(self,name,address,contact):\n",
        "        self._name=name\n",
        "        self._address=address\n",
        "        self._contact=contact\n",
        "\n",
        "    def display(self):\n",
        "        return self._name,self._address,self._contact\n",
        "\n",
        "customer1=customer(\"pavan\",\"2-7\",9675749372)\n",
        "customer1.display()"
      ]
    },
    {
      "cell_type": "code",
      "execution_count": null,
      "metadata": {
        "id": "_32HbjjVxkh9",
        "outputId": "2d271232-f4d1-4f09-b4bb-efd30257eeba"
      },
      "outputs": [
        {
          "name": "stdout",
          "output_type": "stream",
          "text": [
            "John Doe\n",
            "123 Main St\n",
            "john@example.com\n"
          ]
        }
      ],
      "source": [
        "class Customer:\n",
        "    def __init__(self, name, address, contact_info):\n",
        "        self.__name = name\n",
        "        self.__address = address\n",
        "        self.__contact_info = contact_info\n",
        "\n",
        "    def get_name(self):\n",
        "        return self.__name\n",
        "\n",
        "    def get_address(self):\n",
        "        return self.__address\n",
        "\n",
        "    def get_contact_info(self):\n",
        "        return self.__contact_info\n",
        "\n",
        "    def set_name(self, name):\n",
        "        self.__name = name\n",
        "\n",
        "    def set_address(self, address):\n",
        "        self.__address = address\n",
        "\n",
        "    def set_contact_info(self, contact_info):\n",
        "        self.__contact_info = contact_info\n",
        "\n",
        "# Example usage:\n",
        "customer1 = Customer(\"John Doe\", \"123 Main St\", \"john@example.com\")\n",
        "print(customer1.get_name())  # Output: John Doe\n",
        "print(customer1.get_address())  # Output: 123 Main St\n",
        "print(customer1.get_contact_info())  # Output: john@example.com\n",
        "\n",
        "# Attempting to access private attributes directly will result in an AttributeError\n",
        "# print(customer1.__name)  # This line would raise an AttributeError\n"
      ]
    },
    {
      "cell_type": "markdown",
      "metadata": {
        "id": "JYRtOSMhxkh9"
      },
      "source": [
        "# Polymorphism:"
      ]
    },
    {
      "cell_type": "markdown",
      "metadata": {
        "id": "meAdCGUexkh9"
      },
      "source": [
        "# 1. What is polymorphism in Python? Explain how it is related to object-oriented programming."
      ]
    },
    {
      "cell_type": "markdown",
      "metadata": {
        "id": "kXuIpG0kxkh-"
      },
      "source": [
        "Polymorphism in Python refers to the ability of different objects to respond to the same method or function call in different ways. In other words, it allows objects of different classes to be treated as objects of a common superclass, enabling them to be used interchangeably. This is a fundamental concept in object-oriented programming (OOP), where polymorphism allows for flexibility and abstraction.\n",
        "\n",
        "Polymorphism is closely related to two main principles of OOP: inheritance and method overriding. Inheritance allows a subclass to inherit attributes and methods from its superclass. Method overriding occurs when a subclass provides a specific implementation of a method that is already defined in its superclass, effectively replacing or extending the behavior of that method.\n",
        "\n",
        "Polymorphism enables code to work with objects of different classes through a common interface. This means that different objects can respond to the same method call in ways that are appropriate for their respective types. For example, consider a superclass called Shape with a method called area(). Subclasses such as Circle and Square can override the area() method to provide their own implementations specific to circles and squares, respectively. When you call the area() method on objects of type Circle or Square, polymorphism ensures that the appropriate implementation of area() is invoked based on the type of object being used."
      ]
    },
    {
      "cell_type": "code",
      "execution_count": null,
      "metadata": {
        "id": "Oxzkzf7xxkh-",
        "outputId": "c8520024-5df5-4174-f788-222e1e9a991b"
      },
      "outputs": [
        {
          "name": "stdout",
          "output_type": "stream",
          "text": [
            "Area of circle: 78.5\n",
            "Area of square: 16\n"
          ]
        }
      ],
      "source": [
        "class Shape:\n",
        "    def area(self):\n",
        "        pass\n",
        "\n",
        "class Circle(Shape):\n",
        "    def __init__(self, radius):\n",
        "        self.radius = radius\n",
        "\n",
        "    def area(self):\n",
        "        return 3.14 * self.radius * self.radius\n",
        "\n",
        "class Square(Shape):\n",
        "    def __init__(self, side):\n",
        "        self.side = side\n",
        "\n",
        "    def area(self):\n",
        "        return self.side * self.side\n",
        "\n",
        "# Polymorphism in action\n",
        "circle = Circle(5)\n",
        "square = Square(4)\n",
        "\n",
        "print(\"Area of circle:\", circle.area())  # Output will be the area of a circle\n",
        "print(\"Area of square:\", square.area())  # Output will be the area of a square\n"
      ]
    },
    {
      "cell_type": "markdown",
      "metadata": {
        "id": "hnZS-aUxxkh-"
      },
      "source": [
        "# 2. Describe the difference between compile-time polymorphism and runtime polymorphism in Python."
      ]
    },
    {
      "cell_type": "markdown",
      "metadata": {
        "id": "jImB-Xooxkh-"
      },
      "source": [
        "\n",
        "In Python, the difference between compile-time polymorphism (also known as static polymorphism) and runtime polymorphism (also known as dynamic polymorphism) lies in the timing of method resolution.\n",
        "\n",
        "Compile-time polymorphism:\n",
        "In compile-time polymorphism, method resolution occurs at compile time, i.e., during the compilation phase.\n",
        "It is typically achieved through method overloading and function overloading.\n",
        "Method overloading refers to defining multiple methods with the same name but with different parameters or argument types.\n",
        "Python does not directly support method overloading based on the number or type of arguments because it is a dynamically typed language. However, you can achieve similar behavior using default parameter values or variable-length argument lists.\n",
        "The determination of which method to call is based on the number and types of arguments provided at compile time.\n",
        "Since Python is dynamically typed, it does not have true compile-time polymorphism in the same sense as statically typed languages like C++ or Java."
      ]
    },
    {
      "cell_type": "code",
      "execution_count": null,
      "metadata": {
        "id": "qRX2jKhWxkh-"
      },
      "outputs": [],
      "source": [
        "class MathOperations:\n",
        "    def add(self, a, b=0):  # Method with default parameter\n",
        "        return a + b\n",
        "\n",
        "# Usage\n",
        "math_ops = MathOperations()\n",
        "result1 = math_ops.add(5)        # Calls add(a), b is assigned default value 0\n",
        "result2 = math_ops.add(5, 3)     # Calls add(a, b)\n"
      ]
    },
    {
      "cell_type": "markdown",
      "metadata": {
        "id": "hCKI-yEUxkh-"
      },
      "source": [
        "Runtime polymorphism:\n",
        "In runtime polymorphism, method resolution occurs at runtime, i.e., when the program is executing.\n",
        "It is typically achieved through method overriding, which involves defining a method in a subclass that has the same signature as a method in its superclass.\n",
        "The determination of which method to call is based on the type of object invoking the method.\n",
        "Python supports runtime polymorphism naturally through method overriding, as it is a key feature of object-oriented programming.\n",
        "The appropriate method to call is resolved dynamically based on the actual type of the object."
      ]
    },
    {
      "cell_type": "code",
      "execution_count": null,
      "metadata": {
        "id": "SG-Nh-Ksxkh-",
        "outputId": "4e682c46-c797-4a9e-9928-a8148c44f0e4"
      },
      "outputs": [
        {
          "name": "stdout",
          "output_type": "stream",
          "text": [
            "Woof!\n",
            "Meow!\n"
          ]
        }
      ],
      "source": [
        "class Animal:\n",
        "    def make_sound(self):\n",
        "        pass\n",
        "\n",
        "class Dog(Animal):\n",
        "    def make_sound(self):\n",
        "        return \"Woof!\"\n",
        "\n",
        "class Cat(Animal):\n",
        "    def make_sound(self):\n",
        "        return \"Meow!\"\n",
        "\n",
        "# Usage\n",
        "dog = Dog()\n",
        "cat = Cat()\n",
        "\n",
        "print(dog.make_sound())  # Output: Woof!\n",
        "print(cat.make_sound())  # Output: Meow!\n"
      ]
    },
    {
      "cell_type": "markdown",
      "metadata": {
        "id": "X5ranYydxkh-"
      },
      "source": [
        "# 3. Create a Python class hierarchy for shapes (e.g., circle, square, triangle) and demonstrate polymorphism  through a common method, such as `calculate_area()`."
      ]
    },
    {
      "cell_type": "code",
      "execution_count": null,
      "metadata": {
        "id": "1Xmoprztxkh_",
        "outputId": "e2724376-8fff-4435-c458-09fc016f7924"
      },
      "outputs": [
        {
          "data": {
            "text/plain": [
              "12.56"
            ]
          },
          "execution_count": 9,
          "metadata": {},
          "output_type": "execute_result"
        }
      ],
      "source": [
        "class shapes:\n",
        "    def calculate_Area(self):\n",
        "        pass\n",
        "\n",
        "class circle(shapes):\n",
        "    def __init__(self,radius):\n",
        "        self.radius=radius\n",
        "    def calculate_Area(self):\n",
        "        return 3.14 * (self.radius**2)\n",
        "class square(shapes):\n",
        "    def __init__(self,side):\n",
        "        self.side=side\n",
        "    def calculate_Area(self):\n",
        "        return side**2\n",
        "class triangle(shapes):\n",
        "    def __init__(self,bredth,height):\n",
        "        self.bredth=bredth\n",
        "        self.height=height\n",
        "    def calculate_Area(self):\n",
        "        return 0.5 * (self.bredth*self.hheight)\n",
        "\n",
        "\n",
        "shape=circle(2)\n",
        "shape.calculate_Area()"
      ]
    },
    {
      "cell_type": "markdown",
      "metadata": {
        "id": "ew7a75Z1xkh_"
      },
      "source": [
        "# 4. Explain the concept of method overriding in polymorphism. Provide an example."
      ]
    },
    {
      "cell_type": "markdown",
      "metadata": {
        "id": "qVTBYbeDxkh_"
      },
      "source": [
        "Method overriding is a fundamental concept in polymorphism that allows a subclass to provide a specific implementation of a method that is already defined in its superclass. When a method is overridden in a subclass, it replaces the implementation of that method inherited from the superclass. This enables objects of the subclass to exhibit behavior specific to their type while still adhering to a common interface defined by the superclass.\n",
        "\n",
        "Here's a breakdown of the concept:\n",
        "\n",
        "Inheritance: Method overriding builds upon the principle of inheritance, where subclasses inherit attributes and methods from their superclasses.\n",
        "\n",
        "Common Interface: Superclasses define a common interface that specifies the methods that can be called on objects of that class.\n",
        "\n",
        "Custom Behavior: Subclasses can override methods inherited from their superclass to provide custom behavior that is specific to the subclass.\n",
        "\n",
        "Dynamic Dispatch: When a method is called on an object, the appropriate implementation of the method is dynamically determined based on the actual type of the object at runtime."
      ]
    },
    {
      "cell_type": "code",
      "execution_count": null,
      "metadata": {
        "id": "zoddguHcxkh_",
        "outputId": "74e6fcea-3a52-48b9-b884-d251ffd39b99"
      },
      "outputs": [
        {
          "name": "stdout",
          "output_type": "stream",
          "text": [
            "Woof!\n",
            "Meow!\n"
          ]
        }
      ],
      "source": [
        "class Animal:\n",
        "    def make_sound(self):\n",
        "        return \"Generic animal sound\"\n",
        "\n",
        "class Dog(Animal):\n",
        "    def make_sound(self):\n",
        "        return \"Woof!\"\n",
        "\n",
        "class Cat(Animal):\n",
        "    def make_sound(self):\n",
        "        return \"Meow!\"\n",
        "\n",
        "\n",
        "dog = Dog()\n",
        "cat = Cat()\n",
        "\n",
        "print(dog.make_sound())\n",
        "print(cat.make_sound())\n"
      ]
    },
    {
      "cell_type": "markdown",
      "metadata": {
        "id": "STT7H8k0xkh_"
      },
      "source": [
        "# 5. How is polymorphism different from method overloading in Python? Provide examples for both."
      ]
    },
    {
      "cell_type": "markdown",
      "metadata": {
        "id": "w1q_GjCrxkh_"
      },
      "source": [
        "\n",
        "Polymorphism and method overloading are related concepts in object-oriented programming, but they serve different purposes and are implemented differently in Python.\n",
        "\n",
        "Polymorphism refers to the ability of different objects to respond to the same method or function call in different ways. It allows objects of different classes to be treated as objects of a common superclass, enabling them to be used interchangeably. Polymorphism is typically achieved through method overriding, where a subclass provides a specific implementation of a method that is already defined in its superclass."
      ]
    },
    {
      "cell_type": "code",
      "execution_count": null,
      "metadata": {
        "id": "L7kI6d_yxkh_",
        "outputId": "c9258235-d891-4600-d757-659d4cdefa69"
      },
      "outputs": [
        {
          "name": "stdout",
          "output_type": "stream",
          "text": [
            "Woof!\n",
            "Meow!\n"
          ]
        }
      ],
      "source": [
        "class Animal:\n",
        "    def make_sound(self):\n",
        "        pass\n",
        "\n",
        "class Dog(Animal):\n",
        "    def make_sound(self):\n",
        "        return \"Woof!\"\n",
        "\n",
        "class Cat(Animal):\n",
        "    def make_sound(self):\n",
        "        return \"Meow!\"\n",
        "\n",
        "# Usage\n",
        "dog = Dog()\n",
        "cat = Cat()\n",
        "\n",
        "print(dog.make_sound())  # Output: Woof!\n",
        "print(cat.make_sound())  # Output: Meow!\n"
      ]
    },
    {
      "cell_type": "markdown",
      "metadata": {
        "id": "oOqk5a7mxkiA"
      },
      "source": [
        "Method overloading, on the other hand, involves defining multiple methods with the same name but with different parameters or argument types within the same class. In some languages like Java or C++, method overloading is achieved through static polymorphism (compile-time polymorphism), where the appropriate method to call is determined at compile time based on the number and types of arguments provided. However, in Python, method overloading is not directly supported in the same way because it is a dynamically typed language."
      ]
    },
    {
      "cell_type": "code",
      "execution_count": null,
      "metadata": {
        "id": "X_yKLWbaxkiA"
      },
      "outputs": [],
      "source": [
        "class MathOperations:\n",
        "    def add(self, a, b=0):  # Method with default parameter\n",
        "        return a + b\n",
        "\n",
        "\n",
        "math_ops = MathOperations()\n",
        "result1 = math_ops.add(5)\n",
        "result2 = math_ops.add(5, 3)\n"
      ]
    },
    {
      "cell_type": "markdown",
      "metadata": {
        "id": "pIbNGZqYxkiA"
      },
      "source": [
        "Polymorphism enables objects of different classes to be treated interchangeably through a common interface, typically achieved through method overriding.\n",
        "Method overloading involves defining multiple methods with the same name but different parameters within the same class, which is not directly supported in Python, but can be emulated using default parameter values or variable-length argument lists"
      ]
    },
    {
      "cell_type": "markdown",
      "metadata": {
        "id": "5fXNJMxzxkiA"
      },
      "source": [
        "# 6. Create a Python class called `Animal` with a method `speak()`. Then, create child classes like `Dog`, `Cat`, and `Bird`, each with their own `speak()` method. Demonstrate polymorphism by calling the `speak()` method on objects of different subclasses."
      ]
    },
    {
      "cell_type": "code",
      "execution_count": null,
      "metadata": {
        "id": "kSKF2g7XxkiA",
        "outputId": "7b7dd6b4-682b-425d-d098-79b29883bab6"
      },
      "outputs": [
        {
          "name": "stdout",
          "output_type": "stream",
          "text": [
            "woof\n",
            "meow\n",
            "kuuu\n"
          ]
        }
      ],
      "source": [
        "class Animal:\n",
        "    def speak(self):\n",
        "        return \"animal can speak in different ways\"\n",
        "class Dog(Animal):\n",
        "    def speak(self):\n",
        "        return \"woof\"\n",
        "class Cat(Animal):\n",
        "    def speak(self):\n",
        "        return \"meow\"\n",
        "class Bird(Animal):\n",
        "    def speak(self):\n",
        "        return \"kuuu\"\n",
        "\n",
        "animal1=Dog()\n",
        "animal2=Cat()\n",
        "animal3=Bird()\n",
        "print(animal1.speak())\n",
        "print(animal2.speak())\n",
        "print(animal3.speak())\n"
      ]
    },
    {
      "cell_type": "markdown",
      "metadata": {
        "id": "EH0uo4SqxkiA"
      },
      "source": [
        "# 7. Discuss the use of abstract methods and classes in achieving polymorphism in Python. Provide an example using the `abc` module."
      ]
    },
    {
      "cell_type": "markdown",
      "metadata": {
        "id": "E9I-clrGxkiA"
      },
      "source": [
        "Abstract methods and classes provide a mechanism for defining a common interface without necessarily providing implementations for all methods. They are particularly useful in achieving polymorphism by enforcing subclasses to implement specific methods, ensuring that objects of different classes can be treated interchangeably while adhering to a common interface.\n",
        "\n",
        "In Python, the abc module (Abstract Base Classes) provides support for abstract methods and classes. Abstract base classes can have abstract methods, which are declared but not implemented in the base class. Subclasses are then required to provide concrete implementations for these abstract methods."
      ]
    },
    {
      "cell_type": "code",
      "execution_count": null,
      "metadata": {
        "id": "0CMviTMtxkiA",
        "outputId": "df5cefad-8c92-4018-e89e-3b252db6565e"
      },
      "outputs": [
        {
          "name": "stdout",
          "output_type": "stream",
          "text": [
            "Area of Circle: 78.5\n",
            "Area of Square: 16\n"
          ]
        }
      ],
      "source": [
        "from abc import ABC, abstractmethod\n",
        "\n",
        "class Shape(ABC):  # Abstract base class\n",
        "    @abstractmethod\n",
        "    def area(self):\n",
        "        pass\n",
        "\n",
        "class Circle(Shape):\n",
        "    def __init__(self, radius):\n",
        "        self.radius = radius\n",
        "\n",
        "    def area(self):\n",
        "        return 3.14 * self.radius * self.radius\n",
        "\n",
        "class Square(Shape):\n",
        "    def __init__(self, side):\n",
        "        self.side = side\n",
        "\n",
        "    def area(self):\n",
        "        return self.side * self.side\n",
        "\n",
        "# Usage\n",
        "shapes = [Circle(5), Square(4)]  # List of shapes\n",
        "\n",
        "for shape in shapes:\n",
        "    print(f\"Area of {shape.__class__.__name__}: {shape.area()}\")\n"
      ]
    },
    {
      "cell_type": "markdown",
      "metadata": {
        "id": "eePSlQomxkiB"
      },
      "source": [
        "# 8. Create a Python class hierarchy for a vehicle system (e.g., car, bicycle, boat) and implement a polymorphic `start()` method that prints a message specific to each vehicle type."
      ]
    },
    {
      "cell_type": "code",
      "execution_count": null,
      "metadata": {
        "id": "R3UXjWMuxkiB",
        "outputId": "3dd027b1-bf86-4106-aa94-88df8358bdcf"
      },
      "outputs": [
        {
          "name": "stdout",
          "output_type": "stream",
          "text": [
            "Car started. Vroom vroom!\n",
            "Bicycle started. Pedal pedal!\n",
            "Boat started. Row row!\n"
          ]
        }
      ],
      "source": [
        "class Vehicle:\n",
        "    def start(self):\n",
        "        raise NotImplementedError(\"Subclasses must implement start() method\")\n",
        "\n",
        "class Car(Vehicle):\n",
        "    def start(self):\n",
        "        return \"Car started. Vroom vroom!\"\n",
        "\n",
        "class Bicycle(Vehicle):\n",
        "    def start(self):\n",
        "        return \"Bicycle started. Pedal pedal!\"\n",
        "\n",
        "class Boat(Vehicle):\n",
        "    def start(self):\n",
        "        return \"Boat started. Row row!\"\n",
        "\n",
        "# Usage\n",
        "vehicles = [Car(), Bicycle(), Boat()]\n",
        "\n",
        "for vehicle in vehicles:\n",
        "    print(vehicle.start())\n"
      ]
    },
    {
      "cell_type": "markdown",
      "metadata": {
        "id": "S5f0FoepxkiB"
      },
      "source": [
        "# 9. Explain the significance of the `isinstance()` and `issubclass()` functions in Python polymorphism."
      ]
    },
    {
      "cell_type": "markdown",
      "metadata": {
        "id": "BZnDQIWIxkiC"
      },
      "source": [
        "The isinstance() and issubclass() functions in Python are significant in the context of polymorphism as they allow you to check relationships between objects and classes, enabling you to write more flexible and polymorphic code.\n",
        "\n",
        "isinstance() Function:\n",
        "\n",
        "The isinstance() function is used to check if an object is an instance of a particular class or of a subclass.\n",
        "It takes two arguments: the object to be checked and the class or tuple of classes to check against.\n",
        "Returns True if the object is an instance of the specified class or subclass, otherwise returns False.\n",
        "isinstance() is commonly used to handle polymorphic behavior, where different actions are taken based on the type of object."
      ]
    },
    {
      "cell_type": "code",
      "execution_count": null,
      "metadata": {
        "id": "AH3n-CfDxkiC",
        "outputId": "c3151d12-9d26-4cce-ccb9-b95657fcec98"
      },
      "outputs": [
        {
          "name": "stdout",
          "output_type": "stream",
          "text": [
            "True\n",
            "True\n",
            "False\n"
          ]
        }
      ],
      "source": [
        "class Animal:\n",
        "    pass\n",
        "\n",
        "class Dog(Animal):\n",
        "    pass\n",
        "\n",
        "class Cat(Animal):\n",
        "    pass\n",
        "\n",
        "dog = Dog()\n",
        "cat = Cat()\n",
        "\n",
        "print(isinstance(dog, Dog))      # Output: True\n",
        "print(isinstance(cat, Animal))   # Output: True (Cat is an instance of Animal)\n",
        "print(isinstance(dog, Cat))      # Output: False (Dog is not an instance of Cat)\n"
      ]
    },
    {
      "cell_type": "markdown",
      "metadata": {
        "id": "dcNvpTXPxkiC"
      },
      "source": [
        "issubclass() Function:\n",
        "\n",
        "The issubclass() function is used to check if a class is a subclass of another class.\n",
        "It takes two arguments: the subclass to be checked and the superclass or tuple of superclasses to check against.\n",
        "Returns True if the first argument is a subclass of the specified superclass or any class in the tuple, otherwise returns False.\n",
        "issubclass() is useful for determining inheritance relationships and designing class hierarchies."
      ]
    },
    {
      "cell_type": "code",
      "execution_count": null,
      "metadata": {
        "id": "MPvM9SvbxkiC",
        "outputId": "604c694a-f329-456a-d4be-900f885072fc"
      },
      "outputs": [
        {
          "name": "stdout",
          "output_type": "stream",
          "text": [
            "True\n",
            "True\n",
            "True\n",
            "False\n"
          ]
        }
      ],
      "source": [
        "class Animal:\n",
        "    pass\n",
        "\n",
        "class Dog(Animal):\n",
        "    pass\n",
        "\n",
        "class Cat(Animal):\n",
        "    pass\n",
        "\n",
        "class Labrador(Dog):\n",
        "    pass\n",
        "\n",
        "print(issubclass(Dog, Animal))     # Output: True\n",
        "print(issubclass(Cat, Animal))     # Output: True\n",
        "print(issubclass(Labrador, Dog))   # Output: True\n",
        "print(issubclass(Cat, Dog))        # Output: False (Cat is not a subclass of Dog)\n"
      ]
    },
    {
      "cell_type": "markdown",
      "metadata": {
        "id": "PnYbRVIFxkiC"
      },
      "source": [
        "# 10. What is the role of the `@abstractmethod` decorator in achieving polymorphism in Python? Provide an example."
      ]
    },
    {
      "cell_type": "markdown",
      "metadata": {
        "id": "wwY3y14lxkiC"
      },
      "source": [
        "\n",
        "The @abstractmethod decorator is used in Python to define abstract methods within abstract base classes (ABCs). Abstract methods are methods that are declared in a base class but are meant to be implemented in subclasses. This decorator ensures that subclasses provide concrete implementations for these abstract methods, enforcing a common interface and promoting polymorphism.\n",
        "\n",
        "Here's the role of @abstractmethod decorator in achieving polymorphism:\n",
        "\n",
        "Define Abstract Base Classes (ABCs): Abstract base classes are used to define a common interface that must be implemented by subclasses. They typically contain one or more abstract methods.\n",
        "\n",
        "Use @abstractmethod Decorator: The @abstractmethod decorator is applied to the method(s) within the abstract base class that are meant to be abstract. This decorator marks the method as abstract, indicating that subclasses must provide their own implementation.\n",
        "\n",
        "Enforce Implementation: Subclasses that inherit from the abstract base class are required to implement all abstract methods declared in the base class. If a subclass fails to implement any abstract method, it will raise an error at runtime."
      ]
    },
    {
      "cell_type": "code",
      "execution_count": null,
      "metadata": {
        "id": "j41CUDfNxkiC",
        "outputId": "641820d2-0403-481b-f665-99f42bd86dcb"
      },
      "outputs": [
        {
          "name": "stdout",
          "output_type": "stream",
          "text": [
            "Woof!\n",
            "Meow!\n"
          ]
        }
      ],
      "source": [
        "from abc import ABC, abstractmethod\n",
        "\n",
        "class Animal(ABC):  # Abstract base class\n",
        "    @abstractmethod\n",
        "    def make_sound(self):\n",
        "        pass\n",
        "\n",
        "class Dog(Animal):\n",
        "    def make_sound(self):\n",
        "        return \"Woof!\"\n",
        "\n",
        "class Cat(Animal):\n",
        "    def make_sound(self):\n",
        "        return \"Meow!\"\n",
        "\n",
        "# Usage\n",
        "animals = [Dog(), Cat()]\n",
        "\n",
        "for animal in animals:\n",
        "    print(animal.make_sound())\n"
      ]
    },
    {
      "cell_type": "markdown",
      "metadata": {
        "id": "tIlLFxwwxkiD"
      },
      "source": [
        "# 11. Create a Python class called `Shape` with a polymorphic method `area()` that calculates the area of different shapes (e.g., circle, rectangle, triangle)."
      ]
    },
    {
      "cell_type": "markdown",
      "metadata": {
        "id": "ILWrGsXgxkiD"
      },
      "source": [
        "import math\n",
        "\n",
        "class Shape:\n",
        "    def area(self):\n",
        "        raise NotImplementedError(\"Subclasses must implement area() method\")\n",
        "\n",
        "class Circle(Shape):\n",
        "    def __init__(self, radius):\n",
        "        self.radius = radius\n",
        "    \n",
        "    def area(self):\n",
        "        return math.pi * self.radius**2\n",
        "\n",
        "class Rectangle(Shape):\n",
        "    def __init__(self, width, height):\n",
        "        self.width = width\n",
        "        self.height = height\n",
        "    \n",
        "    def area(self):\n",
        "        return self.width * self.height\n",
        "\n",
        "class Triangle(Shape):\n",
        "    def __init__(self, base, height):\n",
        "        self.base = base\n",
        "        self.height = height\n",
        "    \n",
        "    def area(self):\n",
        "        return 0.5 * self.base * self.height\n",
        "\n",
        "\n",
        "circle = Circle(5)\n",
        "rectangle = Rectangle(4, 6)\n",
        "triangle = Triangle(3, 4)\n",
        "\n",
        "print(\"Area of circle:\", circle.area())          # Output: Area of circle: 78.53981633974483\n",
        "print(\"Area of rectangle:\", rectangle.area())    # Output: Area of rectangle: 24\n",
        "print(\"Area of triangle:\", triangle.area())      # Output: Area of triangle: 6.0\n"
      ]
    },
    {
      "cell_type": "markdown",
      "metadata": {
        "id": "KwTcALe4xkiD"
      },
      "source": [
        "# 12. Discuss the benefits of polymorphism in terms of code reusability and flexibility in Python programs."
      ]
    },
    {
      "cell_type": "markdown",
      "metadata": {
        "id": "BKJz6Pm5xkiD"
      },
      "source": [
        "Polymorphism in Python offers several benefits in terms of code reusability and flexibility:\n",
        "\n",
        "Code Reusability:\n",
        "\n",
        "Polymorphism allows you to write code that can work with objects of different classes through a common interface.\n",
        "By defining a common interface through abstract base classes or inheritance, you can reuse the same code to manipulate objects of different types.\n",
        "This promotes code reusability by eliminating the need to duplicate code for similar operations on different types of objects.\n",
        "Flexibility:\n",
        "\n",
        "Polymorphism makes code more flexible and adaptable to changes.\n",
        "It allows you to extend and modify the behavior of a system without modifying existing code by simply adding new subclasses or overriding methods in existing classes.\n",
        "You can introduce new subclasses to provide alternative implementations or extend existing functionality without affecting the existing codebase.\n",
        "Encapsulation:\n",
        "\n",
        "Polymorphism supports encapsulation by hiding the implementation details of objects behind a common interface.\n",
        "Users of the code interact with objects through the common interface, which shields them from the complexities of the underlying implementations.\n",
        "This separation of interface from implementation promotes better code organization and reduces dependencies between different components of a system.\n",
        "Simplicity and Readability:\n",
        "\n",
        "Polymorphism leads to simpler and more readable code by promoting a uniform way of interacting with objects.\n",
        "Code that leverages polymorphism tends to be more concise and easier to understand since it focuses on the common behaviors and characteristics shared by objects rather than their specific types.\n",
        "Enhanced Maintenance:\n",
        "\n",
        "Polymorphic code is easier to maintain and evolve over time.\n",
        "Changes to the behavior of objects can be localized to the relevant subclasses or overridden methods, minimizing the risk of unintended side effects in other parts of the codebase.\n",
        "This modular approach to development simplifies debugging, testing, and maintenance activities.\n",
        "In summary, polymorphism in Python enhances code reusability, flexibility, encapsulation, simplicity, and maintenance by providing a mechanism for working with objects of different types through a common interface. It encourages modular, extensible, and readable code, making it easier to develop and maintain complex software systems.\n",
        "\n",
        "\n",
        "\n",
        "\n",
        "\n"
      ]
    },
    {
      "cell_type": "markdown",
      "metadata": {
        "id": "fvH8HVl7xkiD"
      },
      "source": [
        "# 13. Explain the use of the `super()` function in Python polymorphism. How does it help call methods of parent classes?"
      ]
    },
    {
      "cell_type": "markdown",
      "metadata": {
        "id": "L9ZJRFWxxkiD"
      },
      "source": [
        "In Python, the super() function is used to call methods and access attributes of a superclass (parent class) from within a subclass (child class). It provides a way to invoke the methods and constructors of the superclass, facilitating method delegation and method overriding in inheritance hierarchies. This is particularly useful in achieving polymorphism, where different classes share a common interface.\n",
        "\n",
        "Here's how super() helps call methods of parent classes:\n",
        "\n",
        "Accessing Methods of Parent Classes:\n",
        "\n",
        "In a subclass, you can use super() to access and call methods defined in its superclass.\n",
        "This allows you to extend the functionality of the superclass by adding new methods or overriding existing ones in the subclass while still being able to invoke the methods of the superclass.\n",
        "Method Delegation:\n",
        "\n",
        "When a method is called using super(), Python searches for the method in the superclass of the current class and executes the first matching method it finds.\n",
        "If the method is not found in the immediate superclass, Python continues searching up the inheritance hierarchy until it finds a matching method or reaches the topmost superclass (usually object).\n",
        "Support for Multiple Inheritance:\n",
        "\n",
        "super() is also useful in cases of multiple inheritance, where a class inherits from more than one superclass.\n",
        "It ensures that methods are called in a consistent and predictable order according to the method resolution order (MRO), which follows the C3 linearization algorithm.\n",
        "Method Overriding:\n",
        "\n",
        "In the context of method overriding, super() allows you to invoke the overridden method of the superclass from within the subclass.\n",
        "This is particularly useful when you want to extend the behavior of the superclass's method in the subclass without completely replacing it."
      ]
    },
    {
      "cell_type": "code",
      "execution_count": null,
      "metadata": {
        "id": "tadV-zDfxkiD",
        "outputId": "ce834440-c913-4580-984e-f3f9610480ca"
      },
      "outputs": [
        {
          "name": "stdout",
          "output_type": "stream",
          "text": [
            "Hello from Parent and Child\n"
          ]
        }
      ],
      "source": [
        "class Parent:\n",
        "    def greet(self):\n",
        "        return \"Hello from Parent\"\n",
        "\n",
        "class Child(Parent):\n",
        "    def greet(self):\n",
        "        # Call the greet() method of the superclass using super()\n",
        "        parent_greeting = super().greet()\n",
        "        return f\"{parent_greeting} and Child\"\n",
        "\n",
        "# Usage\n",
        "child = Child()\n",
        "print(child.greet())  # Output: Hello from Parent and Child\n"
      ]
    },
    {
      "cell_type": "markdown",
      "metadata": {
        "id": "xRUFJC-5xkiD"
      },
      "source": [
        "# 14. Create a Python class hierarchy for a banking system with various account types (e.g., savings, checking, credit card) and demonstrate polymorphism by implementing a common `withdraw()` method."
      ]
    },
    {
      "cell_type": "code",
      "execution_count": null,
      "metadata": {
        "id": "Zy5_8F4cxkiE",
        "outputId": "fd7b2ba0-940b-43fa-ff57-a77cf06a5af1"
      },
      "outputs": [
        {
          "name": "stdout",
          "output_type": "stream",
          "text": [
            "Savings Account: Withdrew 102.0 units. Remaining balance: 898.0\n",
            "Checking Account: Insufficient funds\n",
            "Credit Card Account: Insufficient funds\n"
          ]
        }
      ],
      "source": [
        "class Account:\n",
        "    def __init__(self, account_number, balance):\n",
        "        self.account_number = account_number\n",
        "        self.balance = balance\n",
        "\n",
        "    def withdraw(self, amount):\n",
        "        if amount > self.balance:\n",
        "            return \"Insufficient funds\"\n",
        "        self.balance -= amount\n",
        "        return f\"Withdrew {amount} units. Remaining balance: {self.balance}\"\n",
        "\n",
        "class SavingsAccount(Account):\n",
        "    def __init__(self, account_number, balance, interest_rate):\n",
        "        super().__init__(account_number, balance)\n",
        "        self.interest_rate = interest_rate\n",
        "\n",
        "    def withdraw(self, amount):\n",
        "        withdrawal_fee = 0.02 * amount\n",
        "        return super().withdraw(amount + withdrawal_fee)\n",
        "\n",
        "class CheckingAccount(Account):\n",
        "    def __init__(self, account_number, balance, overdraft_limit):\n",
        "        super().__init__(account_number, balance)\n",
        "        self.overdraft_limit = overdraft_limit\n",
        "\n",
        "    def withdraw(self, amount):\n",
        "        if amount > self.balance + self.overdraft_limit:\n",
        "            return \"Withdrawal amount exceeds overdraft limit\"\n",
        "        return super().withdraw(amount)\n",
        "\n",
        "class CreditCardAccount(Account):\n",
        "    def __init__(self, account_number, balance, credit_limit):\n",
        "        super().__init__(account_number, balance)\n",
        "        self.credit_limit = credit_limit\n",
        "\n",
        "    def withdraw(self, amount):\n",
        "        if amount > self.balance + self.credit_limit:\n",
        "            return \"Withdrawal amount exceeds credit limit\"\n",
        "        return super().withdraw(amount)\n",
        "\n",
        "# Usage\n",
        "savings_account = SavingsAccount(\"SA001\", 1000, 0.05)\n",
        "checking_account = CheckingAccount(\"CA001\", 2000, 500)\n",
        "credit_card_account = CreditCardAccount(\"CC001\", 500, 1000)\n",
        "\n",
        "print(\"Savings Account:\", savings_account.withdraw(100))\n",
        "print(\"Checking Account:\", checking_account.withdraw(2500))\n",
        "print(\"Credit Card Account:\", credit_card_account.withdraw(700))"
      ]
    },
    {
      "cell_type": "markdown",
      "metadata": {
        "id": "snSS1fTHxkiE"
      },
      "source": [
        "# 15. Describe the concept of operator overloading in Python and how it relates to polymorphism. Provide examples using operators like `+` and `*`."
      ]
    },
    {
      "cell_type": "markdown",
      "metadata": {
        "id": "-C1EJ3lAxkiE"
      },
      "source": [
        "\n",
        "Operator overloading in Python refers to the ability to define custom behavior for operators such as +, -, *, /, ==, !=, <, >, etc., so that they can be used with user-defined objects in addition to built-in data types. This allows objects of a class to respond to standard operators in a way that makes sense for the specific context of the class. Operator overloading enables more natural and intuitive syntax, making code more readable and expressive.\n",
        "\n",
        "Operator overloading is closely related to polymorphism in Python. Polymorphism, as discussed earlier, refers to the ability of different objects to respond to the same method or function call in different ways. When operators are overloaded, they enable polymorphic behavior by allowing different objects to respond to operators in ways appropriate to their types.\n",
        "\n",
        "Here's how operator overloading relates to polymorphism:\n",
        "\n",
        "Common Interface:\n",
        "\n",
        "Operator overloading allows different classes to provide their own implementation for standard operators, thereby defining a common interface for those operators across various objects.\n",
        "Dynamic Dispatch:\n",
        "\n",
        "When an operator is applied to objects of different types, Python dynamically dispatches the operation to the appropriate method based on the types of the operands.\n",
        "This dynamic dispatch is a form of polymorphism, where the behavior of the operator varies depending on the types of the operands involved.\n",
        "Code Reusability:\n",
        "\n",
        "By defining operator overloading methods in classes, you can reuse the same operator syntax for different types of objects, promoting code reusability and consistency."
      ]
    },
    {
      "cell_type": "code",
      "execution_count": null,
      "metadata": {
        "id": "7nIgMOMlxkiE",
        "outputId": "64279432-b031-485c-e486-c5fbeabc4028"
      },
      "outputs": [
        {
          "name": "stdout",
          "output_type": "stream",
          "text": [
            "6 8\n"
          ]
        }
      ],
      "source": [
        "class Vector:\n",
        "    def __init__(self, x, y):\n",
        "        self.x = x\n",
        "        self.y = y\n",
        "\n",
        "    def __add__(self, other):\n",
        "        return Vector(self.x + other.x, self.y + other.y)\n",
        "\n",
        "# Usage\n",
        "v1 = Vector(2, 3)\n",
        "v2 = Vector(4, 5)\n",
        "result = v1 + v2\n",
        "print(result.x, result.y)\n"
      ]
    },
    {
      "cell_type": "markdown",
      "metadata": {
        "id": "QAIqGySYxkiE"
      },
      "source": [
        "# 16. What is dynamic polymorphism, and how is it achieved in Python?"
      ]
    },
    {
      "cell_type": "markdown",
      "metadata": {
        "id": "3sqUOusdxkiE"
      },
      "source": [
        "Dynamic polymorphism, also known as runtime polymorphism, is a type of polymorphism in which the appropriate method or function call is determined at runtime based on the actual type of the object being referenced. This allows different objects to respond to the same method or function call in different ways, depending on their specific types.\n",
        "\n",
        "In Python, dynamic polymorphism is achieved through method overriding, which involves defining a method in a subclass that has the same name and signature as a method in its superclass. When the method is called on an object of the subclass, Python dynamically dispatches the call to the appropriate method based on the type of the object at runtime.\n",
        "\n",
        "Here's how dynamic polymorphism is achieved in Python:\n",
        "\n",
        "Inheritance:\n",
        "\n",
        "Dynamic polymorphism relies on the principle of inheritance, where subclasses inherit attributes and methods from their superclasses.\n",
        "Method Overriding:\n",
        "\n",
        "Subclasses provide their own implementation of a method that is already defined in their superclass.\n",
        "This is achieved by defining a method with the same name and signature in the subclass as the method in the superclass.\n",
        "Dynamic Dispatch:\n",
        "\n",
        "When a method is called on an object, Python determines the appropriate method to invoke based on the actual type of the object at runtime.\n",
        "If the method is overridden in the subclass, Python dynamically dispatches the call to the subclass's implementation of the method.\n",
        "This dynamic dispatch is what enables dynamic polymorphism, allowing different objects to exhibit different behaviors in response to the same method call."
      ]
    },
    {
      "cell_type": "code",
      "execution_count": null,
      "metadata": {
        "id": "yupnT_8jxkiE",
        "outputId": "e57b7be7-5c10-4002-8899-6ff782ed9879"
      },
      "outputs": [
        {
          "name": "stdout",
          "output_type": "stream",
          "text": [
            "Woof!\n",
            "Meow!\n"
          ]
        }
      ],
      "source": [
        "class Animal:\n",
        "    def make_sound(self):\n",
        "        return \"Generic animal sound\"\n",
        "\n",
        "class Dog(Animal):\n",
        "    def make_sound(self):\n",
        "        return \"Woof!\"\n",
        "\n",
        "class Cat(Animal):\n",
        "    def make_sound(self):\n",
        "        return \"Meow!\"\n",
        "\n",
        "# Usage\n",
        "dog = Dog()\n",
        "cat = Cat()\n",
        "\n",
        "print(dog.make_sound())  # Output: Woof!\n",
        "print(cat.make_sound())  # Output: Meow!\n"
      ]
    },
    {
      "cell_type": "markdown",
      "metadata": {
        "id": "ohjFyMhWxkiE"
      },
      "source": [
        "# 17. Create a Python class hierarchy for employees in a company (e.g., manager, developer, designer) and implement polymorphism through a common `calculate_salary()` method."
      ]
    },
    {
      "cell_type": "code",
      "execution_count": null,
      "metadata": {
        "id": "At5mnyB5xkiF",
        "outputId": "545ee6ce-eb2b-441c-ea5e-5b0c12c835fc"
      },
      "outputs": [
        {
          "name": "stdout",
          "output_type": "stream",
          "text": [
            "Manager's Salary: 5000\n",
            "Developer's Salary: 8000\n",
            "Designer's Salary: 4500\n"
          ]
        }
      ],
      "source": [
        "class Employee:\n",
        "    def __init__(self, name, designation):\n",
        "        self.name = name\n",
        "        self.designation = designation\n",
        "\n",
        "    def calculate_salary(self):\n",
        "        raise NotImplementedError(\"Subclasses must implement calculate_salary() method\")\n",
        "\n",
        "class Manager(Employee):\n",
        "    def __init__(self, name, salary):\n",
        "        super().__init__(name, \"Manager\")\n",
        "        self.salary = salary\n",
        "\n",
        "    def calculate_salary(self):\n",
        "        return self.salary\n",
        "\n",
        "class Developer(Employee):\n",
        "    def __init__(self, name, hourly_rate, hours_worked):\n",
        "        super().__init__(name, \"Developer\")\n",
        "        self.hourly_rate = hourly_rate\n",
        "        self.hours_worked = hours_worked\n",
        "\n",
        "    def calculate_salary(self):\n",
        "        return self.hourly_rate * self.hours_worked\n",
        "\n",
        "class Designer(Employee):\n",
        "    def __init__(self, name, monthly_salary, bonus):\n",
        "        super().__init__(name, \"Designer\")\n",
        "        self.monthly_salary = monthly_salary\n",
        "        self.bonus = bonus\n",
        "\n",
        "    def calculate_salary(self):\n",
        "        return self.monthly_salary + self.bonus\n",
        "\n",
        "# Usage\n",
        "manager = Manager(\"John Doe\", 5000)\n",
        "developer = Developer(\"Alice Smith\", 50, 160)\n",
        "designer = Designer(\"Bob Brown\", 4000, 500)\n",
        "\n",
        "print(\"Manager's Salary:\", manager.calculate_salary())    # Output: Manager's Salary: 5000\n",
        "print(\"Developer's Salary:\", developer.calculate_salary())# Output: Developer's Salary: 8000\n",
        "print(\"Designer's Salary:\", designer.calculate_salary())  # Output: Designer's Salary: 4500\n"
      ]
    },
    {
      "cell_type": "markdown",
      "metadata": {
        "id": "GE1DKRKLxkiF"
      },
      "source": [
        "# 18. Discuss the concept of function pointers and how they can be used to achieve polymorphism in Python."
      ]
    },
    {
      "cell_type": "markdown",
      "metadata": {
        "id": "znCPO3wixkiF"
      },
      "source": [
        "In Python, the concept of function pointers is closely related to the idea of first-class functions, which are functions that can be passed around as values. While Python does not have explicit function pointers like some other programming languages (such as C or C++), the ability to pass functions as arguments and return them from other functions enables similar functionality.\n",
        "\n",
        "Polymorphism in Python can be achieved using function pointers by passing different functions as arguments to a common function or method, allowing the behavior of the function to vary depending on the function passed in. This is a form of dynamic polymorphism, where the appropriate behavior is determined at runtime based on the function provided.\n",
        "\n",
        "Here's how function pointers can be used to achieve polymorphism in Python:\n",
        "\n",
        "Passing Functions as Arguments:\n",
        "\n",
        "Functions can be passed as arguments to other functions or methods, enabling them to be called within the receiving function.\n",
        "By passing different functions as arguments to a common function, you can achieve polymorphic behavior, where the function behaves differently based on the function passed in.\n",
        "Dynamic Dispatch:\n",
        "\n",
        "The function that is passed as an argument determines the behavior of the receiving function at runtime.\n",
        "This dynamic dispatch allows for flexibility and adaptability in the behavior of the function, similar to how method overriding works in object-oriented programming.\n",
        "Code Reusability and Flexibility:\n",
        "\n",
        "Function pointers promote code reusability and flexibility by allowing the same function or method to be used with different behaviors without modifying the function itself.\n",
        "This enables modular and extensible code designs, where different behaviors can be easily plugged in by providing different functions as arguments."
      ]
    },
    {
      "cell_type": "code",
      "execution_count": null,
      "metadata": {
        "id": "5R79cSabxkiF",
        "outputId": "0b165a75-c77d-4467-d390-ee1b9fab352d"
      },
      "outputs": [
        {
          "name": "stdout",
          "output_type": "stream",
          "text": [
            "Result 1: 8\n",
            "Result 2: 2\n"
          ]
        }
      ],
      "source": [
        "def add(a, b):\n",
        "    return a + b\n",
        "\n",
        "def subtract(a, b):\n",
        "    return a - b\n",
        "\n",
        "def calculate(operation, a, b):\n",
        "    return operation(a, b)\n",
        "\n",
        "# Usage\n",
        "result1 = calculate(add, 5, 3)       # Calls add(5, 3)\n",
        "result2 = calculate(subtract, 5, 3)  # Calls subtract(5, 3)\n",
        "\n",
        "print(\"Result 1:\", result1)  # Output: Result 1: 8\n",
        "print(\"Result 2:\", result2)  # Output: Result 2: 2\n"
      ]
    },
    {
      "cell_type": "markdown",
      "metadata": {
        "id": "H8jo48e4xkiF"
      },
      "source": [
        "# 19. Explain the role of interfaces and abstract classes in polymorphism, drawing comparisons between them"
      ]
    },
    {
      "cell_type": "markdown",
      "metadata": {
        "id": "MA1YTw6bxkiF"
      },
      "source": [
        "In the context of polymorphism, both interfaces and abstract classes play a crucial role in defining a common interface for objects of different types. They enable objects of different classes to be treated interchangeably through a shared interface, promoting code reusability and flexibility. However, there are differences between interfaces and abstract classes in how they achieve polymorphism and enforce common behavior among classes.\n",
        "\n",
        "Interfaces:\n",
        "\n",
        "Definition:\n",
        "An interface defines a contract specifying a set of methods that a class must implement.\n",
        "In Python, interfaces are not a built-in language feature, but they can be emulated using abstract base classes (ABCs) from the abc module.\n",
        "Method Signature:\n",
        "Interfaces only declare method signatures, without providing any implementation details.\n",
        "Implementation:\n",
        "Classes that implement an interface must provide concrete implementations for all the methods declared in the interface.\n",
        "Flexibility:\n",
        "Interfaces provide maximum flexibility, as a class can implement multiple interfaces."
      ]
    },
    {
      "cell_type": "code",
      "execution_count": null,
      "metadata": {
        "id": "UGHBAzFMxkiF"
      },
      "outputs": [],
      "source": [
        "from abc import ABC, abstractmethod\n",
        "\n",
        "class Shape(ABC):\n",
        "    @abstractmethod\n",
        "    def area(self):\n",
        "        pass\n",
        "\n",
        "class Circle(Shape):\n",
        "    def area(self):\n",
        "        # Implementation of area calculation for Circle\n",
        "        pass\n",
        "\n",
        "class Square(Shape):\n",
        "    def area(self):\n",
        "        # Implementation of area calculation for Square\n",
        "        pass\n"
      ]
    },
    {
      "cell_type": "markdown",
      "metadata": {
        "id": "jZsbN7NjxkiG"
      },
      "source": [
        "Abstract Classes:\n",
        "\n",
        "Definition:\n",
        "\n",
        "An abstract class is a class that cannot be instantiated and may contain one or more abstract methods.\n",
        "Abstract classes can also contain concrete methods with implementations.\n",
        "Method Signature:\n",
        "\n",
        "Abstract classes can have both abstract methods (without implementations) and concrete methods (with implementations).\n",
        "Implementation:\n",
        "\n",
        "Abstract classes can provide default implementations for some methods, leaving others abstract for subclasses to implement.\n",
        "Flexibility:\n",
        "\n",
        "A class can inherit from only one abstract class, limiting the flexibility compared to interfaces."
      ]
    },
    {
      "cell_type": "code",
      "execution_count": null,
      "metadata": {
        "id": "nPQhnW8LxkiG"
      },
      "outputs": [],
      "source": [
        "from abc import ABC, abstractmethod\n",
        "\n",
        "class Shape(ABC):\n",
        "    @abstractmethod\n",
        "    def area(self):\n",
        "        pass\n",
        "\n",
        "    def perimeter(self):\n",
        "        pass  # Concrete method with default implementation\n",
        "\n",
        "class Circle(Shape):\n",
        "    def area(self):\n",
        "        # Implementation of area calculation for Circle\n",
        "        pass\n",
        "\n",
        "    def perimeter(self):\n",
        "        # Implementation of perimeter calculation for Circle\n",
        "        pass\n"
      ]
    },
    {
      "cell_type": "markdown",
      "metadata": {
        "id": "Ju5oDM95xkiG"
      },
      "source": [
        "Comparisons:\n",
        "\n",
        "Flexibility:\n",
        "Interfaces offer more flexibility, as a class can implement multiple interfaces, while a class can inherit from only one abstract class.\n",
        "Implementation:\n",
        "Abstract classes can provide concrete method implementations, allowing for code reuse among subclasses, while interfaces only define method signatures without implementations.\n",
        "Purpose:\n",
        "Interfaces are primarily used to define contracts and provide a common interface for unrelated classes, while abstract classes are used to define common behavior among related classes.\n",
        "Enforcement:\n",
        "Interfaces enforce that all methods must be implemented by concrete classes, while abstract classes can have both abstract and concrete methods.\n",
        "Pythonic Approach:\n",
        "In Python, abstract classes (using ABCs) are more commonly used to achieve polymorphism and code reuse, as they allow for a combination of abstract and concrete methods, providing a balance between flexibility and structure. However, interfaces can be emulated using ABCs if needed.\n",
        "In summary, both interfaces and abstract classes play a role in achieving polymorphism by defining a common interface for objects of different types. The choice between interfaces and abstract classes depends on the specific requirements and design considerations of the application."
      ]
    },
    {
      "cell_type": "markdown",
      "metadata": {
        "id": "JJEGuGw3xkiG"
      },
      "source": [
        "# 20. Create a Python class for a zoo simulation, demonstrating polymorphism with different animal types (e.g., mammals, birds, reptiles) and their behavior (e.g., eating, sleeping, making sounds)."
      ]
    },
    {
      "cell_type": "code",
      "execution_count": null,
      "metadata": {
        "id": "QweqVy9UxkiG",
        "outputId": "27453ce2-9b73-4d90-c5d5-6a8fe6b1b8ca"
      },
      "outputs": [
        {
          "name": "stdout",
          "output_type": "stream",
          "text": [
            "Lion:\n",
            "Sound: Mammal sound\n",
            "Eating: Mammal eating\n",
            "Sleeping: Mammal sleeping\n",
            "\n",
            "Eagle:\n",
            "Sound: Bird sound\n",
            "Eating: Bird eating\n",
            "Sleeping: Bird sleeping\n",
            "\n",
            "Snake:\n",
            "Sound: Reptile sound\n",
            "Eating: Reptile eating\n",
            "Sleeping: Reptile sleeping\n",
            "\n"
          ]
        }
      ],
      "source": [
        "class Animal:\n",
        "    def __init__(self, name):\n",
        "        self.name = name\n",
        "\n",
        "    def make_sound(self):\n",
        "        pass\n",
        "\n",
        "    def eat(self):\n",
        "        pass\n",
        "\n",
        "    def sleep(self):\n",
        "        pass\n",
        "\n",
        "class Mammal(Animal):\n",
        "    def make_sound(self):\n",
        "        return \"Mammal sound\"\n",
        "\n",
        "    def eat(self):\n",
        "        return \"Mammal eating\"\n",
        "\n",
        "    def sleep(self):\n",
        "        return \"Mammal sleeping\"\n",
        "\n",
        "class Bird(Animal):\n",
        "    def make_sound(self):\n",
        "        return \"Bird sound\"\n",
        "\n",
        "    def eat(self):\n",
        "        return \"Bird eating\"\n",
        "\n",
        "    def sleep(self):\n",
        "        return \"Bird sleeping\"\n",
        "\n",
        "class Reptile(Animal):\n",
        "    def make_sound(self):\n",
        "        return \"Reptile sound\"\n",
        "\n",
        "    def eat(self):\n",
        "        return \"Reptile eating\"\n",
        "\n",
        "    def sleep(self):\n",
        "        return \"Reptile sleeping\"\n",
        "\n",
        "# Example usage:\n",
        "if __name__ == \"__main__\":\n",
        "    zoo = [Mammal(\"Lion\"), Bird(\"Eagle\"), Reptile(\"Snake\")]\n",
        "\n",
        "    for animal in zoo:\n",
        "        print(animal.name + \":\")\n",
        "        print(\"Sound:\", animal.make_sound())\n",
        "        print(\"Eating:\", animal.eat())\n",
        "        print(\"Sleeping:\", animal.sleep())\n",
        "        print()\n",
        "\n",
        "\n",
        ""
      ]
    },
    {
      "cell_type": "markdown",
      "metadata": {
        "id": "kliJUkZwxkiG"
      },
      "source": [
        "# Abstraction:"
      ]
    },
    {
      "cell_type": "markdown",
      "metadata": {
        "id": "SL3RyOKRxkiG"
      },
      "source": [
        "## 1. What is abstraction in Python, and how does it relate to object-oriented programming?"
      ]
    },
    {
      "cell_type": "markdown",
      "metadata": {
        "id": "D3MGLP7-xkiG"
      },
      "source": [
        "\n",
        "Abstraction in Python, as well as in object-oriented programming (OOP) in general, refers to the concept of hiding the complex implementation details and showing only the necessary features of an object or a system. It allows programmers to focus on essential aspects while hiding irrelevant details.\n",
        "\n",
        "In Python, abstraction can be achieved through several mechanisms, including classes, functions, and modules. However, in the context of OOP, abstraction primarily revolves around classes and objects.\n",
        "\n",
        "Here's how abstraction relates to object-oriented programming in Python:\n",
        "\n",
        "Classes and Objects: In Python, classes act as blueprints for creating objects. They encapsulate data (attributes) and behavior (methods) relevant to a particular concept or entity. Abstraction in OOP allows us to define these classes in a way that hides the internal complexities and exposes only the necessary functionalities to the outside world.\n",
        "\n",
        "Encapsulation: Encapsulation is closely related to abstraction. It involves bundling the data (attributes) and methods (behaviors) that operate on the data within a single unit, i.e., a class. By defining methods as interfaces to interact with the data, encapsulation hides the internal workings of the class and allows for better abstraction.\n",
        "\n",
        "Data Hiding: Abstraction often involves restricting direct access to certain attributes or methods of a class, thereby enforcing proper usage and preventing unintended modifications. In Python, this is often achieved using access modifiers such as private (__) and protected (_) attributes/methods, although Python emphasizes \"we're all consenting adults here\" philosophy, meaning there are no strict rules to prevent access.\n",
        "\n",
        "Inheritance and Polymorphism: Abstraction also plays a role in inheritance and polymorphism, two fundamental concepts in OOP. Inheritance allows classes to inherit attributes and methods from their parent classes, promoting code reuse and abstraction of common functionalities. Polymorphism, on the other hand, enables objects to be treated as instances of their parent class, allowing for generic code that can operate on objects of different subclasses.\n",
        "\n",
        "Overall, abstraction in Python facilitates better code organization, modularity, and reusability by focusing on essential aspects while hiding unnecessary details. It promotes a clear separation of concerns and helps manage complexity in large-scale software projects"
      ]
    },
    {
      "cell_type": "markdown",
      "metadata": {
        "id": "UcYxJVnAxkiG"
      },
      "source": [
        "## 2. Describe the benefits of abstraction in terms of code organization and complexity reduction."
      ]
    },
    {
      "cell_type": "markdown",
      "metadata": {
        "id": "aIWt0C_BxkiH"
      },
      "source": [
        "Abstraction offers several benefits in terms of code organization and complexity reduction in software development:\n",
        "\n",
        "Modularity: Abstraction promotes modularity by breaking down a system into smaller, manageable units (classes or modules). Each unit encapsulates a specific set of functionalities, making it easier to understand and maintain. By hiding internal details behind well-defined interfaces, abstraction allows developers to focus on individual components without worrying about the complexities of the entire system.\n",
        "\n",
        "Encapsulation: Encapsulation, a key aspect of abstraction, bundles data and methods into a single unit (class), thereby hiding the internal state and implementation details from the outside world. This protects the integrity of the data and prevents unintended modifications. Encapsulation ensures that each component is responsible for its own functionality, leading to cleaner and more maintainable code.\n",
        "\n",
        "Code Reusability: Abstraction promotes code reusability by enabling developers to create generic, reusable components that can be used across different parts of the system or in multiple projects. By defining abstract interfaces and implementing concrete functionalities separately, developers can easily plug and play these components without duplicating code. This not only saves development time but also reduces the likelihood of errors and inconsistencies.\n",
        "\n",
        "Scalability: Abstraction facilitates scalability by allowing systems to grow and evolve over time without becoming overly complex or unwieldy. By modularizing the codebase and defining clear boundaries between components, abstraction makes it easier to extend or modify existing functionalities without affecting other parts of the system. This flexibility is particularly valuable in large-scale projects where requirements may change frequently.\n",
        "\n",
        "Maintenance and Debugging: Abstraction simplifies maintenance and debugging by isolating each component and reducing dependencies between them. When a bug or issue arises, developers can focus on the relevant component without being distracted by unrelated details. Similarly, when making changes or updates, developers can ensure that modifications are localized and do not have unintended side effects on other parts of the system.\n",
        "\n",
        "Enhanced Collaboration: Abstraction enhances collaboration among team members by providing clear interfaces and well-defined contracts between different components. Developers can work on individual modules or classes independently, knowing how they interact with other parts of the system. This promotes better communication, code sharing, and teamwork, ultimately leading to more efficient development processes.\n",
        "\n",
        "Overall, abstraction is a powerful technique for organizing code, reducing complexity, and improving maintainability, scalability, and collaboration in software projects. By emphasizing clarity, modularity, and reusability, abstraction helps developers build robust, flexible, and maintainable systems that can adapt to changing requirements and scale gracefully over time."
      ]
    },
    {
      "cell_type": "markdown",
      "metadata": {
        "id": "NJTNJChKxkiH"
      },
      "source": [
        "## 3. Create a Python class called `Shape` with an abstract method `calculate_area()`. Then, create child classes (e.g., `Circle`, `Rectangle`) that implement the `calculate_area()` method. Provide an example of using these classes."
      ]
    },
    {
      "cell_type": "code",
      "execution_count": null,
      "metadata": {
        "id": "nTJMta2zxkiH",
        "outputId": "9ec91507-c445-4ca2-b283-2cb3c8f1bd4f"
      },
      "outputs": [
        {
          "name": "stdout",
          "output_type": "stream",
          "text": [
            "Area of circle with radius 5: 78.53981633974483\n",
            "Area of rectangle with width 4 and height 6: 24\n"
          ]
        }
      ],
      "source": [
        "from abc import ABC, abstractmethod\n",
        "import math\n",
        "\n",
        "class Shape(ABC):\n",
        "    @abstractmethod\n",
        "    def calculate_area(self):\n",
        "        pass\n",
        "\n",
        "class Circle(Shape):\n",
        "    def __init__(self, radius):\n",
        "        self.radius = radius\n",
        "\n",
        "    def calculate_area(self):\n",
        "        return math.pi * self.radius**2\n",
        "\n",
        "class Rectangle(Shape):\n",
        "    def __init__(self, width, height):\n",
        "        self.width = width\n",
        "        self.height = height\n",
        "\n",
        "    def calculate_area(self):\n",
        "        return self.width * self.height\n",
        "\n",
        "# Example usage:\n",
        "if __name__ == \"__main__\":\n",
        "    circle = Circle(5)\n",
        "    print(\"Area of circle with radius 5:\", circle.calculate_area())\n",
        "\n",
        "    rectangle = Rectangle(4, 6)\n",
        "    print(\"Area of rectangle with width 4 and height 6:\", rectangle.calculate_area())\n"
      ]
    },
    {
      "cell_type": "markdown",
      "metadata": {
        "id": "6eOM99FoxkiH"
      },
      "source": [
        "## 4. Explain the concept of abstract classes in Python and how they are defined using the `abc` module. Provide an example."
      ]
    },
    {
      "cell_type": "markdown",
      "metadata": {
        "id": "GT8PbxVUxkiH"
      },
      "source": [
        "\n",
        "In Python, abstract classes are classes that cannot be instantiated directly and are meant to be subclassed. They often contain one or more abstract methods, which are declared but not implemented in the abstract class. Subclasses of abstract classes must provide concrete implementations for all abstract methods, thus enforcing a certain structure or interface.\n",
        "\n",
        "The abc module in Python provides tools for working with abstract classes. It includes the ABC (Abstract Base Class) class and the abstractmethod decorator, which are used together to define abstract classes and abstract methods, respectively.\n",
        "\n",
        "Here's how abstract classes are defined using the abc module:\n",
        "\n",
        "Define an Abstract Base Class (ABC): Create a class that inherits from ABC to define an abstract base class.\n",
        "\n",
        "Declare Abstract Methods: Use the @abstractmethod decorator to mark methods within the abstract class as abstract. These methods are declared but not implemented in the abstract class itself.\n",
        "\n",
        "Implement Abstract Methods in Subclasses: Subclasses of the abstract class must provide concrete implementations for all abstract methods, or they will themselves be considered abstract."
      ]
    },
    {
      "cell_type": "code",
      "execution_count": null,
      "metadata": {
        "id": "pGrL1FCsxkiH",
        "outputId": "d2aeb57d-c16c-435a-f34f-adcae734f0fb"
      },
      "outputs": [
        {
          "name": "stdout",
          "output_type": "stream",
          "text": [
            "Area of circle with radius 5: 78.5\n",
            "Area of rectangle with width 4 and height 6: 24\n"
          ]
        }
      ],
      "source": [
        "from abc import ABC, abstractmethod\n",
        "\n",
        "class Shape(ABC):\n",
        "    @abstractmethod\n",
        "    def calculate_area(self):\n",
        "        pass\n",
        "\n",
        "class Circle(Shape):\n",
        "    def __init__(self, radius):\n",
        "        self.radius = radius\n",
        "\n",
        "    def calculate_area(self):\n",
        "        return 3.14 * self.radius**2\n",
        "\n",
        "class Rectangle(Shape):\n",
        "    def __init__(self, width, height):\n",
        "        self.width = width\n",
        "        self.height = height\n",
        "\n",
        "    def calculate_area(self):\n",
        "        return self.width * self.height\n",
        "\n",
        "# Attempting to instantiate the abstract class directly will raise an error\n",
        "# shape = Shape()  # This will raise an error\n",
        "\n",
        "# However, we can instantiate subclasses of the abstract class\n",
        "circle = Circle(5)\n",
        "print(\"Area of circle with radius 5:\", circle.calculate_area())\n",
        "\n",
        "rectangle = Rectangle(4, 6)\n",
        "print(\"Area of rectangle with width 4 and height 6:\", rectangle.calculate_area())\n"
      ]
    },
    {
      "cell_type": "markdown",
      "metadata": {
        "id": "QhkQzQqIxkiH"
      },
      "source": [
        "## 5. How do abstract classes differ from regular classes in Python? Discuss their use cases."
      ]
    },
    {
      "cell_type": "markdown",
      "metadata": {
        "id": "I1QVrJolxkiI"
      },
      "source": [
        "Abstract classes and regular classes in Python differ primarily in their behavior and intended use cases:\n",
        "\n",
        "Instantiation:\n",
        "\n",
        "Regular classes can be instantiated directly, meaning objects can be created from them.\n",
        "Abstract classes cannot be instantiated directly. They are meant to serve as blueprints for other classes and typically contain one or more abstract methods that must be implemented by subclasses.\n",
        "Abstract Methods:\n",
        "\n",
        "Regular classes may or may not have abstract methods. They can contain concrete methods with implementations.\n",
        "Abstract classes always have one or more abstract methods. These methods are declared but not implemented in the abstract class itself, leaving their implementation to subclasses.\n",
        "Inheritance:\n",
        "\n",
        "Regular classes can be subclassed, meaning they can serve as base classes for other classes. Subclasses inherit attributes and methods from their parent classes.\n",
        "Abstract classes are often intended to be subclassed. Subclasses inherit the structure of the abstract class and must provide concrete implementations for all abstract methods.\n",
        "Purpose:\n",
        "\n",
        "Regular classes are used to create objects that represent specific entities or concepts in a program. They encapsulate data and behavior related to those entities.\n",
        "Abstract classes are used to define common interfaces or behaviors that other classes must implement. They provide a way to enforce a certain structure or contract among subclasses.\n",
        "Use Cases:\n",
        "\n",
        "Regular classes are suitable for modeling real-world entities, implementing algorithms, or encapsulating related functionalities.\n",
        "Abstract classes are useful when you want to define a template or interface for a group of related classes that share common behaviors but have different implementations. They are commonly used in frameworks and libraries to define plugin architectures, where concrete implementations of abstract classes provide specific functionalities while adhering to a common interface.\n",
        "In summary, regular classes are instantiated directly to create objects, while abstract classes serve as templates for other classes and enforce a certain structure through abstract methods. Regular classes are used to represent specific entities or functionalities, while abstract classes are used to define common interfaces or behaviors for subclasses to implement.\n",
        "\n",
        "\n",
        "\n",
        "\n",
        "\n"
      ]
    },
    {
      "cell_type": "markdown",
      "metadata": {
        "id": "Bd4NE9uYxkiI"
      },
      "source": [
        "## 6. Create a Python class for a bank account and demonstrate abstraction by hiding the account balance and providing methods to deposit and withdraw funds."
      ]
    },
    {
      "cell_type": "code",
      "execution_count": null,
      "metadata": {
        "id": "kYbw9wxRxkiI",
        "outputId": "38de6e1e-2b7c-41eb-d282-8b54199f168e"
      },
      "outputs": [
        {
          "name": "stdout",
          "output_type": "stream",
          "text": [
            "Savings Account Number: 1234567890\n",
            "Savings Account Holder: John Doe\n",
            "Savings Account Balance: 1000\n",
            "Deposited $500. New balance: $1500\n",
            "Withdrew $200. New balance: $1300\n",
            "Insufficient funds or invalid amount for withdrawal.\n",
            "\n",
            "Current Account Number: 0987654321\n",
            "Current Account Holder: Jane Smith\n",
            "Current Account Balance: 2000\n",
            "Deposited $1000. New balance: $3000\n",
            "Withdrew $1500. New balance: $1500\n",
            "Withdrew $3000. New balance: $-1500\n"
          ]
        }
      ],
      "source": [
        "from abc import ABC, abstractmethod\n",
        "\n",
        "class BankAccount(ABC):\n",
        "    def __init__(self, account_number, account_holder, initial_balance=0):\n",
        "        self._account_number = account_number\n",
        "        self._account_holder = account_holder\n",
        "        self._balance = initial_balance\n",
        "\n",
        "    @abstractmethod\n",
        "    def deposit(self, amount):\n",
        "        pass\n",
        "\n",
        "    @abstractmethod\n",
        "    def withdraw(self, amount):\n",
        "        pass\n",
        "\n",
        "    def get_balance(self):\n",
        "        return self._balance\n",
        "\n",
        "    def get_account_number(self):\n",
        "        return self._account_number\n",
        "\n",
        "    def get_account_holder(self):\n",
        "        return self._account_holder\n",
        "\n",
        "class SavingsAccount(BankAccount):\n",
        "    def deposit(self, amount):\n",
        "        if amount > 0:\n",
        "            self._balance += amount\n",
        "            print(f\"Deposited ${amount}. New balance: ${self._balance}\")\n",
        "        else:\n",
        "            print(\"Invalid amount for deposit.\")\n",
        "\n",
        "    def withdraw(self, amount):\n",
        "        if 0 < amount <= self._balance:\n",
        "            self._balance -= amount\n",
        "            print(f\"Withdrew ${amount}. New balance: ${self._balance}\")\n",
        "        else:\n",
        "            print(\"Insufficient funds or invalid amount for withdrawal.\")\n",
        "\n",
        "class CurrentAccount(BankAccount):\n",
        "    def deposit(self, amount):\n",
        "        if amount > 0:\n",
        "            self._balance += amount\n",
        "            print(f\"Deposited ${amount}. New balance: ${self._balance}\")\n",
        "        else:\n",
        "            print(\"Invalid amount for deposit.\")\n",
        "\n",
        "    def withdraw(self, amount):\n",
        "        if amount > 0:\n",
        "            self._balance -= amount\n",
        "            print(f\"Withdrew ${amount}. New balance: ${self._balance}\")\n",
        "        else:\n",
        "            print(\"Invalid amount for withdrawal.\")\n",
        "\n",
        "# Example usage:\n",
        "if __name__ == \"__main__\":\n",
        "    # Create a savings account\n",
        "    savings_account = SavingsAccount(\"1234567890\", \"John Doe\", 1000)\n",
        "    print(\"Savings Account Number:\", savings_account.get_account_number())\n",
        "    print(\"Savings Account Holder:\", savings_account.get_account_holder())\n",
        "    print(\"Savings Account Balance:\", savings_account.get_balance())\n",
        "    savings_account.deposit(500)\n",
        "    savings_account.withdraw(200)\n",
        "    savings_account.withdraw(2000)\n",
        "\n",
        "    # Create a current account\n",
        "    current_account = CurrentAccount(\"0987654321\", \"Jane Smith\", 2000)\n",
        "    print(\"\\nCurrent Account Number:\", current_account.get_account_number())\n",
        "    print(\"Current Account Holder:\", current_account.get_account_holder())\n",
        "    print(\"Current Account Balance:\", current_account.get_balance())\n",
        "    current_account.deposit(1000)\n",
        "    current_account.withdraw(1500)\n",
        "    current_account.withdraw(3000)\n"
      ]
    },
    {
      "cell_type": "markdown",
      "metadata": {
        "id": "faDIZnemxkiI"
      },
      "source": [
        "## 7. Discuss the concept of interface classes in Python and their role in achieving abstraction."
      ]
    },
    {
      "cell_type": "markdown",
      "metadata": {
        "id": "SuTX63ffxkiI"
      },
      "source": [
        "\n",
        "In Python, interface classes are classes that define a set of methods without providing any implementation details. They serve as contracts or blueprints for classes that implement them, specifying the methods that must be implemented by concrete subclasses. Interface classes play a crucial role in achieving abstraction by hiding implementation details and defining a clear interface for interacting with objects.\n",
        "\n",
        "Here are some key points about interface classes and their role in achieving abstraction:\n",
        "\n",
        "Defining a Contract: Interface classes define a contract or agreement between different parts of a program. They specify the methods that must be implemented by classes that adhere to the interface. By defining a set of method signatures without providing implementations, interface classes establish a clear set of expectations for subclasses.\n",
        "\n",
        "Hiding Implementation Details: Interface classes hide implementation details from users of the interface. Clients interacting with objects through the interface do not need to know how methods are implemented; they only need to know the methods that are available and their expected behavior. This promotes encapsulation and reduces dependencies between components.\n",
        "\n",
        "Enforcing Abstraction: Interface classes enforce abstraction by allowing developers to work with objects at a higher level of abstraction. By interacting with objects through their interfaces, developers can focus on what objects can do rather than how they do it. This promotes modularity, flexibility, and maintainability in the codebase.\n",
        "\n",
        "Achieving Polymorphism: Interface classes enable polymorphism, allowing objects of different classes to be treated interchangeably if they adhere to the same interface. This promotes code reuse and flexibility in the design of object-oriented systems.\n",
        "\n",
        "Providing Flexibility: Interface classes provide flexibility in the implementation of concrete subclasses. Multiple classes can implement the same interface, each providing its own unique implementation of the interface methods. This allows for variations in behavior while maintaining a consistent interface for clients to interact with.\n",
        "\n",
        "Pythonic Approach: While some programming languages like Java have explicit support for interface classes, Python follows a more flexible approach. In Python, interfaces are typically represented using abstract base classes (ABCs) defined in the abc module. Subclasses of ABCs are expected to implement all abstract methods defined in the base class, effectively adhering to the interface.\n",
        "\n",
        "In summary, interface classes in Python play a crucial role in achieving abstraction by defining clear contracts between classes, hiding implementation details, promoting modularity and flexibility, enabling polymorphism, and providing a clear and consistent interface for interacting with objects. They are essential for building robust, maintainable, and flexible object-oriented systems."
      ]
    },
    {
      "cell_type": "markdown",
      "metadata": {
        "id": "8WdOJIxaxkiI"
      },
      "source": [
        "## 8. Create a Python class hierarchy for animals and implement abstraction by defining common methods (e.g., `eat()`, `sleep()`) in an abstract base class."
      ]
    },
    {
      "cell_type": "code",
      "execution_count": null,
      "metadata": {
        "id": "t2SDjmpHxkiJ",
        "outputId": "dec1e37b-91c4-4d7f-ba57-a8b6ee99f2a3"
      },
      "outputs": [
        {
          "name": "stdout",
          "output_type": "stream",
          "text": [
            "Lion the mammal is eating\n",
            "Lion the mammal is sleeping\n",
            "Eagle the bird is eating\n",
            "Eagle the bird is sleeping\n",
            "Snake the reptile is eating\n",
            "Snake the reptile is sleeping\n"
          ]
        }
      ],
      "source": [
        "from abc import ABC, abstractmethod\n",
        "\n",
        "class Animal(ABC):\n",
        "    def __init__(self, name):\n",
        "        self.name = name\n",
        "\n",
        "    @abstractmethod\n",
        "    def eat(self):\n",
        "        pass\n",
        "\n",
        "    @abstractmethod\n",
        "    def sleep(self):\n",
        "        pass\n",
        "\n",
        "class Mammal(Animal):\n",
        "    def eat(self):\n",
        "        return f\"{self.name} the mammal is eating\"\n",
        "\n",
        "    def sleep(self):\n",
        "        return f\"{self.name} the mammal is sleeping\"\n",
        "\n",
        "class Bird(Animal):\n",
        "    def eat(self):\n",
        "        return f\"{self.name} the bird is eating\"\n",
        "\n",
        "    def sleep(self):\n",
        "        return f\"{self.name} the bird is sleeping\"\n",
        "\n",
        "class Reptile(Animal):\n",
        "    def eat(self):\n",
        "        return f\"{self.name} the reptile is eating\"\n",
        "\n",
        "    def sleep(self):\n",
        "        return f\"{self.name} the reptile is sleeping\"\n",
        "\n",
        "# Example usage:\n",
        "if __name__ == \"__main__\":\n",
        "    mammal = Mammal(\"Lion\")\n",
        "    print(mammal.eat())\n",
        "    print(mammal.sleep())\n",
        "\n",
        "    bird = Bird(\"Eagle\")\n",
        "    print(bird.eat())\n",
        "    print(bird.sleep())\n",
        "\n",
        "    reptile = Reptile(\"Snake\")\n",
        "    print(reptile.eat())\n",
        "    print(reptile.sleep())\n"
      ]
    },
    {
      "cell_type": "markdown",
      "metadata": {
        "id": "aQhGEu-5xkiJ"
      },
      "source": [
        "## 9. Explain the significance of encapsulation in achieving abstraction. Provide examples."
      ]
    },
    {
      "cell_type": "markdown",
      "metadata": {
        "id": "nzpR3o_NxkiJ"
      },
      "source": [
        "\n",
        "Encapsulation and abstraction are closely related concepts in object-oriented programming, and encapsulation plays a significant role in achieving abstraction. Encapsulation refers to the bundling of data (attributes) and methods (behaviors) that operate on the data within a single unit, typically a class. It hides the internal state of an object from outside access and restricts direct manipulation of the object's data, thereby promoting abstraction by exposing only essential functionalities to the outside world.\n",
        "\n",
        "Here's why encapsulation is significant in achieving abstraction:\n",
        "\n",
        "Hiding Implementation Details: Encapsulation allows the internal details of an object's implementation to be hidden from external code. By encapsulating data and methods within a class, developers can define a clear interface through which external code interacts with the object. This separation of concerns ensures that clients of the class only need to know how to use the object, rather than how it is implemented internally."
      ]
    },
    {
      "cell_type": "code",
      "execution_count": null,
      "metadata": {
        "id": "9tbLFPfyxkiJ",
        "outputId": "206d6d3f-47bc-4556-cbe9-ff07e5cc0fa3"
      },
      "outputs": [
        {
          "name": "stdout",
          "output_type": "stream",
          "text": [
            "Starting the engine of Toyota Camry\n"
          ]
        }
      ],
      "source": [
        "class Car:\n",
        "    def __init__(self, make, model):\n",
        "        self.make = make\n",
        "        self.model = model\n",
        "\n",
        "    def start_engine(self):\n",
        "        # Implementation details hidden from external code\n",
        "        print(f\"Starting the engine of {self.make} {self.model}\")\n",
        "\n",
        "my_car = Car(\"Toyota\", \"Camry\")\n",
        "my_car.start_engine()  # External code interacts with the object through a defined interface\n"
      ]
    },
    {
      "cell_type": "markdown",
      "metadata": {
        "id": "iOmMdHxCxkiJ"
      },
      "source": [
        "Promoting Abstraction: Encapsulation promotes abstraction by defining a clear boundary between the internal implementation of an object and its external interface. External code interacts with the object through well-defined methods, without needing to know how those methods are implemented or how the object's data is stored internally. This allows for easier comprehension, maintenance, and modification of code.\n",
        "\n",
        "Enhancing Modularity: Encapsulation enhances modularity by encapsulating related data and methods within a single unit (class). This makes it easier to manage and organize code, as each class represents a self-contained entity with its own set of responsibilities. Changes to the internal implementation of a class can be made without affecting other parts of the program, as long as the external interface remains unchanged.\n",
        "\n",
        "Preventing Unintended Modifications: Encapsulation helps prevent unintended modifications to an object's internal state by controlling access to its data. By using access modifiers such as private (__) and protected (_) attributes, developers can restrict direct access to an object's data and enforce access through well-defined methods. This reduces the risk of accidental data corruption or misuse.\n",
        "\n",
        "In summary, encapsulation is significant in achieving abstraction by hiding implementation details, promoting a clear separation of concerns between internal implementation and external interface, enhancing modularity, and preventing unintended modifications to an object's internal state. It plays a crucial role in building maintainable, flexible, and scalable object-oriented software systems."
      ]
    },
    {
      "cell_type": "markdown",
      "metadata": {
        "id": "iLSHfmmJxkiJ"
      },
      "source": [
        "## 10. What is the purpose of abstract methods, and how do they enforce abstraction in Python classes?"
      ]
    },
    {
      "cell_type": "markdown",
      "metadata": {
        "id": "pEX15YzCxkiK"
      },
      "source": [
        "\n",
        "Abstract methods in Python serve the purpose of defining methods in a class that must be implemented by any subclass. They provide a way to define a common interface or behavior without providing any implementation details in the abstract base class. Abstract methods enforce abstraction by requiring concrete subclasses to provide their own implementations, thus ensuring a consistent interface across multiple subclasses.\n",
        "\n",
        "Here's how abstract methods enforce abstraction in Python classes:\n",
        "\n",
        "Defining a Common Interface: Abstract methods define a common interface or contract that subclasses must adhere to. By declaring certain methods as abstract in an abstract base class, developers establish a set of expectations for subclasses. This promotes code consistency and clarity by ensuring that subclasses implement the required functionality.\n",
        "\n",
        "Hiding Implementation Details: Abstract methods hide implementation details from the abstract base class. Since abstract methods have no implementation in the base class, they do not dictate how the functionality should be implemented. This allows subclasses to provide their own implementations based on their specific requirements, while adhering to the common interface defined by the abstract base class.\n",
        "\n",
        "Enforcing Polymorphism: Abstract methods enforce polymorphism by allowing objects of different subclasses to be treated interchangeably if they implement the same abstract methods. This enables developers to write code that operates on objects at a higher level of abstraction, without needing to know the specific subclass. This promotes code reusability and flexibility in the design of object-oriented systems.\n",
        "\n",
        "Providing Flexibility: Abstract methods provide flexibility in the design of class hierarchies. By defining abstract methods in an abstract base class, developers can create a blueprint for multiple related subclasses to follow. Subclasses can provide their own unique implementations of abstract methods, allowing for variations in behavior while maintaining a consistent interface.\n",
        "\n",
        "In Python, abstract methods are defined using the @abstractmethod decorator from the abc module. Abstract base classes (ABCs) are used to define abstract methods, and concrete subclasses of ABCs are expected to implement all abstract methods defined in the base class. If a subclass fails to implement any abstract method, it will raise an error at runtime, enforcing the contract defined by the abstract base class.\n",
        "\n",
        "Overall, abstract methods enforce abstraction in Python classes by defining common interfaces, hiding implementation details, promoting polymorphism, and providing flexibility in class hierarchies. They are essential for building modular, maintainable, and extensible object-oriented systems."
      ]
    },
    {
      "cell_type": "markdown",
      "metadata": {
        "id": "U1qpmOAKxkiK"
      },
      "source": [
        "## 11. Create a Python class for a vehicle system and demonstrate abstraction by defining common methods (e.g., `start()`, `stop()`) in an abstract base class."
      ]
    },
    {
      "cell_type": "code",
      "execution_count": null,
      "metadata": {
        "id": "OnrnZBQWxkiK",
        "outputId": "6514ee60-a343-4b8e-eafa-9ca73480b06e"
      },
      "outputs": [
        {
          "name": "stdout",
          "output_type": "stream",
          "text": [
            "Starting the engine of Toyota Corolla\n",
            "Stopping the engine of Toyota Corolla\n",
            "Starting the engine of Harley-Davidson Sportster\n",
            "Engine is already started.\n",
            "Stopping the engine of Harley-Davidson Sportster\n"
          ]
        }
      ],
      "source": [
        "from abc import ABC, abstractmethod\n",
        "\n",
        "class Vehicle(ABC):\n",
        "    def __init__(self, make, model):\n",
        "        self.make = make\n",
        "        self.model = model\n",
        "        self.engine_started = False\n",
        "\n",
        "    @abstractmethod\n",
        "    def start(self):\n",
        "        pass\n",
        "\n",
        "    @abstractmethod\n",
        "    def stop(self):\n",
        "        pass\n",
        "\n",
        "class Car(Vehicle):\n",
        "    def start(self):\n",
        "        if not self.engine_started:\n",
        "            print(f\"Starting the engine of {self.make} {self.model}\")\n",
        "            self.engine_started = True\n",
        "        else:\n",
        "            print(\"Engine is already started.\")\n",
        "\n",
        "    def stop(self):\n",
        "        if self.engine_started:\n",
        "            print(f\"Stopping the engine of {self.make} {self.model}\")\n",
        "            self.engine_started = False\n",
        "        else:\n",
        "            print(\"Engine is already stopped.\")\n",
        "\n",
        "class Motorcycle(Vehicle):\n",
        "    def start(self):\n",
        "        if not self.engine_started:\n",
        "            print(f\"Starting the engine of {self.make} {self.model}\")\n",
        "            self.engine_started = True\n",
        "        else:\n",
        "            print(\"Engine is already started.\")\n",
        "\n",
        "    def stop(self):\n",
        "        if self.engine_started:\n",
        "            print(f\"Stopping the engine of {self.make} {self.model}\")\n",
        "            self.engine_started = False\n",
        "        else:\n",
        "            print(\"Engine is already stopped.\")\n",
        "\n",
        "# Example usage:\n",
        "if __name__ == \"__main__\":\n",
        "    car = Car(\"Toyota\", \"Corolla\")\n",
        "    car.start()\n",
        "    car.stop()\n",
        "\n",
        "    motorcycle = Motorcycle(\"Harley-Davidson\", \"Sportster\")\n",
        "    motorcycle.start()\n",
        "    motorcycle.start()\n",
        "    motorcycle.stop()\n"
      ]
    },
    {
      "cell_type": "markdown",
      "metadata": {
        "id": "e4Ru4JwsxkiK"
      },
      "source": [
        "## 12. Describe the use of abstract properties in Python and how they can be employed in abstract classes."
      ]
    },
    {
      "cell_type": "markdown",
      "metadata": {
        "id": "9uKvLezjxkiK"
      },
      "source": [
        "In Python, abstract properties are properties defined in abstract base classes (ABCs) using the @property decorator along with the @abstractmethod decorator. They allow developers to define a common interface for accessing and setting attributes across multiple subclasses while deferring the implementation details to the subclasses.\n",
        "\n",
        "Here's how abstract properties can be employed in abstract classes:\n",
        "\n",
        "Defining Abstract Properties: Abstract properties are defined in abstract base classes using the @property decorator along with the @abstractmethod decorator. This allows developers to define getter and setter methods for attributes without providing implementations."
      ]
    },
    {
      "cell_type": "code",
      "execution_count": null,
      "metadata": {
        "id": "RLmAcCtyxkiK"
      },
      "outputs": [],
      "source": [
        "from abc import ABC, abstractmethod\n",
        "\n",
        "class Vehicle(ABC):\n",
        "    @property\n",
        "    @abstractmethod\n",
        "    def make(self):\n",
        "        pass\n",
        "\n",
        "    @make.setter\n",
        "    @abstractmethod\n",
        "    def make(self, value):\n",
        "        pass\n"
      ]
    },
    {
      "cell_type": "markdown",
      "metadata": {
        "id": "ghfMDZjWxkiL"
      },
      "source": [
        "Subclass Implementation: Subclasses of the abstract base class are required to provide concrete implementations for the abstract properties defined in the base class. This ensures that all subclasses adhere to the common interface specified by the abstract properties."
      ]
    },
    {
      "cell_type": "code",
      "execution_count": null,
      "metadata": {
        "id": "uzIUEU4rxkiL"
      },
      "outputs": [],
      "source": [
        "class Car(Vehicle):\n",
        "    def __init__(self):\n",
        "        self._make = \"\"\n",
        "\n",
        "    @property\n",
        "    def make(self):\n",
        "        return self._make\n",
        "\n",
        "    @make.setter\n",
        "    def make(self, value):\n",
        "        self._make = value\n"
      ]
    },
    {
      "cell_type": "markdown",
      "metadata": {
        "id": "5FFkqktsxkiL"
      },
      "source": [
        "Usage: Abstract properties can be accessed and set on instances of concrete subclasses just like regular properties. However, the underlying implementations are provided by the concrete subclasses rather than the abstract base class."
      ]
    },
    {
      "cell_type": "code",
      "execution_count": null,
      "metadata": {
        "id": "TBOc2MqlxkiL",
        "outputId": "3a3c0caf-7c1f-4017-c81c-3defb2de784f"
      },
      "outputs": [
        {
          "name": "stdout",
          "output_type": "stream",
          "text": [
            "Toyota\n"
          ]
        }
      ],
      "source": [
        "car = Car()\n",
        "car.make = \"Toyota\"\n",
        "print(car.make)\n"
      ]
    },
    {
      "cell_type": "markdown",
      "metadata": {
        "id": "1lE1gI6zxkiL"
      },
      "source": [
        "Abstract properties are useful in scenarios where you want to enforce a common interface for accessing and setting attributes across multiple subclasses. They promote code consistency, modularity, and flexibility by defining a clear contract for attribute access while allowing subclasses to provide their own implementations. This approach facilitates polymorphism and abstraction in object-oriented design, making it easier to work with related classes in a uniform manner."
      ]
    },
    {
      "cell_type": "markdown",
      "metadata": {
        "id": "iMxe73qLxkiL"
      },
      "source": [
        "## 13. Create a Python class hierarchy for employees in a company (e.g., manager, developer, designer) and implement abstraction by defining a common `get_salary()` method."
      ]
    },
    {
      "cell_type": "code",
      "execution_count": null,
      "metadata": {
        "id": "9Rx6wAaWxkiL",
        "outputId": "c7d95473-750f-4646-9d22-62e062d99bb1"
      },
      "outputs": [
        {
          "name": "stdout",
          "output_type": "stream",
          "text": [
            "Manager Salary: 80000\n",
            "Developer Salary: 8000\n",
            "Designer Salary: 6000\n"
          ]
        }
      ],
      "source": [
        "from abc import ABC, abstractmethod\n",
        "\n",
        "class Employee(ABC):\n",
        "    def __init__(self, name, employee_id):\n",
        "        self.name = name\n",
        "        self.employee_id = employee_id\n",
        "\n",
        "    @abstractmethod\n",
        "    def get_salary(self):\n",
        "        pass\n",
        "\n",
        "class Manager(Employee):\n",
        "    def get_salary(self):\n",
        "        # Example: Managers have a fixed salary\n",
        "        return 80000\n",
        "\n",
        "class Developer(Employee):\n",
        "    def __init__(self, name, employee_id, hourly_rate, hours_worked):\n",
        "        super().__init__(name, employee_id)\n",
        "        self.hourly_rate = hourly_rate\n",
        "        self.hours_worked = hours_worked\n",
        "\n",
        "    def get_salary(self):\n",
        "        # Example: Developers get paid based on hours worked\n",
        "        return self.hourly_rate * self.hours_worked\n",
        "\n",
        "class Designer(Employee):\n",
        "    def __init__(self, name, employee_id, monthly_salary):\n",
        "        super().__init__(name, employee_id)\n",
        "        self.monthly_salary = monthly_salary\n",
        "\n",
        "    def get_salary(self):\n",
        "        # Example: Designers have a fixed monthly salary\n",
        "        return self.monthly_salary\n",
        "\n",
        "# Example usage:\n",
        "if __name__ == \"__main__\":\n",
        "    manager = Manager(\"John Doe\", \"M001\")\n",
        "    print(\"Manager Salary:\", manager.get_salary())\n",
        "\n",
        "    developer = Developer(\"Alice Smith\", \"D001\", 50, 160)\n",
        "    print(\"Developer Salary:\", developer.get_salary())\n",
        "\n",
        "    designer = Designer(\"Bob Johnson\", \"D002\", 6000)\n",
        "    print(\"Designer Salary:\", designer.get_salary())\n"
      ]
    },
    {
      "cell_type": "markdown",
      "metadata": {
        "id": "YF2G2cW6xkiL"
      },
      "source": [
        "## 14. Discuss the differences between abstract classes and concrete classes in Python, including their instantiation."
      ]
    },
    {
      "cell_type": "markdown",
      "metadata": {
        "id": "6goGctqqxkiL"
      },
      "source": [
        "\n",
        "In Python, abstract classes and concrete classes are two types of classes that serve different purposes and have distinct characteristics. Let's discuss the differences between them, including their instantiation:\n",
        "\n",
        "Abstract Classes:\n",
        "\n",
        "Definition: Abstract classes are classes that cannot be instantiated directly and are meant to serve as blueprints for other classes. They typically contain one or more abstract methods, which are declared but not implemented in the abstract class itself.\n",
        "Purpose: Abstract classes define a common interface or behavior that subclasses must implement. They provide a way to enforce a certain structure or contract among subclasses.\n",
        "Instantiation: Abstract classes cannot be instantiated directly. Attempting to create an instance of an abstract class will raise an error. Instead, subclasses must be created to provide concrete implementations for the abstract methods.\n",
        "Concrete Classes:\n",
        "\n",
        "Definition: Concrete classes are classes that can be instantiated directly and are meant to represent specific entities or concepts in a program. They may or may not have abstract methods.\n",
        "Purpose: Concrete classes encapsulate data and behavior related to specific entities or functionalities. They provide concrete implementations for all methods, including any inherited abstract methods.\n",
        "Instantiation: Concrete classes can be instantiated directly by calling their constructor (__init__() method) with the appropriate arguments. Objects created from concrete classes represent instances of those classes and can be used to perform operations as defined by their methods.\n",
        "Here are some key differences summarized:\n",
        "\n",
        "Instantiation: Abstract classes cannot be instantiated directly, while concrete classes can be instantiated.\n",
        "Purpose: Abstract classes define common interfaces or behaviors that subclasses must implement, while concrete classes represent specific entities or functionalities.\n",
        "Implementation: Abstract classes may contain abstract methods (without implementations), while concrete classes provide concrete implementations for all methods.\n",
        "Usage: Abstract classes are used as blueprints for other classes, while concrete classes are used to create objects that represent specific entities or concepts.\n",
        "In summary, abstract classes define a common interface or behavior that subclasses must implement and cannot be instantiated directly, while concrete classes represent specific entities or functionalities, can be instantiated directly, and provide concrete implementations for all methods."
      ]
    },
    {
      "cell_type": "markdown",
      "metadata": {
        "id": "QdL5SMTAxkiM"
      },
      "source": [
        "## 15. Explain the concept of abstract data types (ADTs) and their role in achieving abstraction in Python."
      ]
    },
    {
      "cell_type": "raw",
      "metadata": {
        "id": "rE_e4qVkxkiM"
      },
      "source": [
        "\n",
        "Abstract Data Types (ADTs) are a theoretical concept in computer science that define a data structure along with a set of operations to manipulate that structure. The key idea behind ADTs is to separate the interface (i.e., the operations that can be performed on the data) from the implementation (i.e., how the data structure is actually implemented). This separation allows developers to work with data structures at a higher level of abstraction, focusing on what operations can be performed rather than how they are performed.\n",
        "\n",
        "In Python, while ADTs are not explicitly defined as they are in languages like Java or C++, the concept of ADTs is still relevant and achievable through the use of classes and objects. Here's how ADTs can be achieved in Python:\n",
        "\n",
        "Defining Data Structures: ADTs define the structure of the data being manipulated. In Python, this can be achieved by defining classes that encapsulate the data and provide methods to manipulate that data. For example, a Stack ADT could be implemented using a Python class with methods like push(), pop(), and peek().\n",
        "\n",
        "Encapsulation: ADTs encapsulate data and operations within a single unit. In Python, this is achieved through class definitions, where data attributes and methods are bundled together within a class.\n",
        "\n",
        "Abstraction: ADTs provide an abstract interface for interacting with data structures, hiding implementation details from users of the data structure. In Python, abstraction is achieved by defining clear interfaces through method definitions in classes. Users interact with objects using these methods without needing to know the internal details of how the operations are implemented.\n",
        "\n",
        "Separation of Concerns: ADTs separate the interface (i.e., the operations that can be performed) from the implementation (i.e., how those operations are actually carried out). This separation allows for flexibility in implementation while maintaining a consistent interface. In Python, this separation is achieved through class definitions, where methods serve as the interface to interact with objects.\n",
        "\n",
        "Code Reusability: ADTs promote code reusability by providing a standardized way to work with data structures. Once an ADT is defined, it can be reused across different parts of a program or in different programs altogether. In Python, classes can be reused in a similar manner, allowing for the creation of modular and reusable code.\n",
        "\n",
        "In summary, while Python does not have built-in support for ADTs like some other programming languages, the concepts of encapsulation, abstraction, separation of concerns, and code reusability can still be achieved through the use of classes and objects. By defining classes that encapsulate data and provide methods to manipulate that data, developers can create abstract data types that promote abstraction and code organization."
      ]
    },
    {
      "cell_type": "markdown",
      "metadata": {
        "id": "Lo7UN-o4xkiM"
      },
      "source": [
        "## 16. Create a Python class for a computer system, demonstrating abstraction by defining common methods (e.g., `power_on()`, `shutdown()`) in an abstract base class."
      ]
    },
    {
      "cell_type": "code",
      "execution_count": null,
      "metadata": {
        "id": "pqcBDCHvxkiM",
        "outputId": "3afb05fc-7e0f-4723-9e71-08384bccdee4"
      },
      "outputs": [
        {
          "name": "stdout",
          "output_type": "stream",
          "text": [
            "Powering on MyDesktop desktop...\n",
            "Shutting down MyDesktop desktop...\n",
            "Powering on MyLaptop laptop...\n",
            "MyLaptop laptop is already powered on.\n",
            "Shutting down MyLaptop laptop...\n",
            "MyLaptop laptop is already powered off.\n"
          ]
        }
      ],
      "source": [
        "from abc import ABC, abstractmethod\n",
        "\n",
        "class ComputerSystem(ABC):\n",
        "    def __init__(self, name):\n",
        "        self.name = name\n",
        "        self.powered_on = False\n",
        "\n",
        "    @abstractmethod\n",
        "    def power_on(self):\n",
        "        pass\n",
        "\n",
        "    @abstractmethod\n",
        "    def shutdown(self):\n",
        "        pass\n",
        "\n",
        "class Desktop(ComputerSystem):\n",
        "    def power_on(self):\n",
        "        if not self.powered_on:\n",
        "            print(f\"Powering on {self.name} desktop...\")\n",
        "            self.powered_on = True\n",
        "        else:\n",
        "            print(f\"{self.name} desktop is already powered on.\")\n",
        "\n",
        "    def shutdown(self):\n",
        "        if self.powered_on:\n",
        "            print(f\"Shutting down {self.name} desktop...\")\n",
        "            self.powered_on = False\n",
        "        else:\n",
        "            print(f\"{self.name} desktop is already powered off.\")\n",
        "\n",
        "class Laptop(ComputerSystem):\n",
        "    def power_on(self):\n",
        "        if not self.powered_on:\n",
        "            print(f\"Powering on {self.name} laptop...\")\n",
        "            self.powered_on = True\n",
        "        else:\n",
        "            print(f\"{self.name} laptop is already powered on.\")\n",
        "\n",
        "    def shutdown(self):\n",
        "        if self.powered_on:\n",
        "            print(f\"Shutting down {self.name} laptop...\")\n",
        "            self.powered_on = False\n",
        "        else:\n",
        "            print(f\"{self.name} laptop is already powered off.\")\n",
        "\n",
        "if __name__ == \"__main__\":\n",
        "    desktop = Desktop(\"MyDesktop\")\n",
        "    desktop.power_on()\n",
        "    desktop.shutdown()\n",
        "\n",
        "    laptop = Laptop(\"MyLaptop\")\n",
        "    laptop.power_on()\n",
        "    laptop.power_on()\n",
        "    laptop.shutdown()\n",
        "    laptop.shutdown()\n"
      ]
    },
    {
      "cell_type": "markdown",
      "metadata": {
        "id": "JIVtvH4jxkiM"
      },
      "source": [
        "## 17. Discuss the benefits of using abstraction in large-scale software development projects."
      ]
    },
    {
      "cell_type": "markdown",
      "metadata": {
        "id": "cX1VYpnsxkiM"
      },
      "source": [
        "\n",
        "Using abstraction in large-scale software development projects offers several benefits that contribute to the overall efficiency, maintainability, and scalability of the project. Here are some key benefits:\n",
        "\n",
        "Modularity: Abstraction allows developers to break down complex systems into smaller, more manageable modules. Each module encapsulates a specific functionality or component, making it easier to understand, maintain, and update. This modular approach promotes code reusability and facilitates collaboration among team members working on different parts of the project.\n",
        "\n",
        "Reduced Complexity: Abstraction hides unnecessary details and focuses on the essential aspects of a system. By providing a simplified interface for interacting with complex components, abstraction helps reduce cognitive load and makes the system easier to comprehend. This is particularly important in large-scale projects where complexity can quickly become overwhelming.\n",
        "\n",
        "Flexibility and Extensibility: Abstraction allows for flexibility and extensibility in software design. By defining clear interfaces and separating concerns, developers can easily add new features or modify existing ones without impacting other parts of the system. This promotes agility and adaptability, enabling the software to evolve over time in response to changing requirements or technological advancements.\n",
        "\n",
        "Code Reusability: Abstraction encourages the reuse of code components across different parts of the project. By defining abstract interfaces and implementing reusable modules, developers can avoid duplicating code and promote consistency throughout the codebase. This not only reduces development time but also improves code maintainability and reduces the risk of errors.\n",
        "\n",
        "Encapsulation of Complexity: Abstraction encapsulates complexity within well-defined boundaries, allowing developers to focus on high-level design decisions rather than getting bogged down in implementation details. This separation of concerns makes it easier to reason about the system as a whole and facilitates testing, debugging, and troubleshooting.\n",
        "\n",
        "Ease of Maintenance: Abstraction makes it easier to maintain and update software over time. By isolating changes within specific modules and providing clear interfaces, developers can minimize the ripple effects of modifications and reduce the likelihood of introducing unintended side effects. This improves the stability and reliability of the software, especially as it grows in size and complexity.\n",
        "\n",
        "Team Collaboration: Abstraction promotes effective collaboration among team members by providing a common language and framework for discussing and understanding the system. By adhering to established design patterns and architectural principles based on abstraction, developers can communicate more effectively and work together more efficiently towards achieving project goals.\n",
        "\n",
        "In summary, abstraction plays a crucial role in large-scale software development projects by promoting modularity, reducing complexity, enhancing flexibility and extensibility, facilitating code reuse, encapsulating complexity, easing maintenance efforts, and fostering effective team collaboration. By leveraging abstraction effectively, developers can build robust, scalable, and maintainable software systems that meet the evolving needs of users and stakeholders."
      ]
    },
    {
      "cell_type": "markdown",
      "metadata": {
        "id": "alR-5fOKxkiM"
      },
      "source": [
        "## 18. Explain how abstraction enhances code reusability and modularity in Python programs"
      ]
    },
    {
      "cell_type": "markdown",
      "metadata": {
        "id": "V3oSd2k4xkiM"
      },
      "source": [
        "Abstraction enhances code reusability and modularity in Python programs by providing a clear separation between different components of the codebase and promoting the creation of reusable modules. Here's how abstraction achieves this:\n",
        "\n",
        "Encapsulation of Implementation Details: Abstraction allows developers to hide implementation details behind well-defined interfaces. By encapsulating complex logic within functions, classes, or modules, developers can create black-box components that expose only essential functionalities to the outside world. This encapsulation shields the users of the component from unnecessary complexity, making it easier to understand and use.\n",
        "\n",
        "Promotion of Reusable Components: Abstraction encourages the creation of reusable components that can be easily integrated into different parts of a program. By defining clear interfaces and providing well-defined functionalities, abstract components can be reused across multiple modules or projects without modification. This reduces code duplication and promotes consistency throughout the codebase.\n",
        "\n",
        "Modular Design: Abstraction facilitates modular design by breaking down a large program into smaller, more manageable modules. Each module encapsulates a specific set of functionalities and provides a clear interface for interacting with those functionalities. This modular approach makes it easier to develop, test, and maintain individual components of the program independently, leading to better code organization and improved maintainability.\n",
        "\n",
        "Separation of Concerns: Abstraction encourages the separation of concerns by isolating different aspects of the program's functionality into distinct modules or classes. Each module or class focuses on a specific aspect of the problem domain, such as data processing, user interface, or business logic. This separation of concerns reduces complexity, promotes code clarity, and facilitates collaboration among team members working on different parts of the program.\n",
        "\n",
        "Flexibility and Extensibility: Abstraction promotes flexibility and extensibility by allowing developers to modify or extend the behavior of a program without affecting other parts of the codebase. By defining clear interfaces and providing well-defined extension points, abstract components can be easily customized or extended to meet changing requirements or accommodate new use cases. This flexibility enables the program to evolve over time without requiring major refactoring or rewriting.\n",
        "\n",
        "Overall, abstraction enhances code reusability and modularity in Python programs by promoting the creation of reusable components, modular design, separation of concerns, and flexibility in design and implementation. By leveraging abstraction effectively, developers can build scalable, maintainable, and extensible software systems that are easier to develop, test, and maintain."
      ]
    },
    {
      "cell_type": "markdown",
      "metadata": {
        "id": "oQGAZtJ5xkiM"
      },
      "source": [
        "## 19. Create a Python class for a library system, implementing abstraction by defining common methods (e.g., `add_book()`, `borrow_book()`) in an abstract base class."
      ]
    },
    {
      "cell_type": "code",
      "execution_count": null,
      "metadata": {
        "id": "ek3i3yuqxkiN",
        "outputId": "76322bbf-1ee6-4a4d-f535-6e6f1c60ec30"
      },
      "outputs": [
        {
          "name": "stdout",
          "output_type": "stream",
          "text": [
            "Book1 is added to the library\n",
            "Book2 is added to the library\n",
            "Book1 is borrowed from the library\n",
            "Book3 is not available in the library\n"
          ]
        }
      ],
      "source": [
        "from abc import ABC, abstractmethod\n",
        "\n",
        "class LibrarySystem(ABC):\n",
        "    def __init__(self, name):\n",
        "        self.name = name\n",
        "        self.books = []\n",
        "\n",
        "    @abstractmethod\n",
        "    def add_book(self, book):\n",
        "        pass\n",
        "\n",
        "    @abstractmethod\n",
        "    def borrow_book(self, book):\n",
        "        pass\n",
        "\n",
        "class Sports(LibrarySystem):\n",
        "    def add_book(self, book):\n",
        "        self.books.append(book)\n",
        "        print(f\"{book} is added to the library\")\n",
        "\n",
        "    def borrow_book(self, book):\n",
        "        if book in self.books:\n",
        "            self.books.remove(book)\n",
        "            print(f\"{book} is borrowed from the library\")\n",
        "        else:\n",
        "            print(f\"{book} is not available in the library\")\n",
        "\n",
        "if __name__ == \"__main__\":\n",
        "    library = Sports(\"Sports Library\")\n",
        "    library.add_book(\"Book1\")\n",
        "    library.add_book(\"Book2\")\n",
        "    library.borrow_book(\"Book1\")\n",
        "    library.borrow_book(\"Book3\")\n",
        "\n",
        ""
      ]
    },
    {
      "cell_type": "markdown",
      "metadata": {
        "id": "wSeRgOtaxkiN"
      },
      "source": [
        "## 20. Describe the concept of method abstraction in Python and how it relates to polymorphism."
      ]
    },
    {
      "cell_type": "markdown",
      "metadata": {
        "id": "BN0Q_t8WxkiN"
      },
      "source": [
        "Method abstraction in Python refers to the process of hiding implementation details of a method and exposing only its essential functionality through a well-defined interface. This concept is closely related to polymorphism, as it allows different objects to respond to the same method call in different ways based on their individual implementations.\n",
        "\n",
        "Here's how method abstraction relates to polymorphism:\n",
        "\n",
        "Abstraction through Method Signatures: When defining a method in a class, you provide a signature that specifies the method's name, parameters, and return type (if any), without necessarily providing the implementation details. This abstraction allows users of the class to interact with the method based on its signature, without needing to know how the method is implemented internally.\n",
        "\n",
        "Polymorphic Behavior: Different subclasses of a common base class can provide their own implementations of the same method, thereby exhibiting polymorphic behavior. Despite having the same method signature, each subclass can perform different actions based on its specific implementation. This allows for flexibility and adaptability in how objects respond to method calls, depending on their individual types.\n",
        "\n",
        "Dynamic Binding: Polymorphism in Python is achieved through dynamic binding, where method calls are resolved at runtime based on the actual type of the object rather than its declared type. This means that when a method is called on an object, Python determines the appropriate method implementation to invoke based on the object's type, enabling polymorphic behavior.\n",
        "\n",
        "Code Reusability and Flexibility: Method abstraction and polymorphism promote code reusability and flexibility by allowing developers to define generic interfaces (method signatures) that can be implemented differently by various subclasses. This facilitates the creation of modular, maintainable code that can easily adapt to changing requirements or accommodate new types of objects.\n",
        "\n",
        "In summary, method abstraction in Python involves hiding implementation details of methods behind well-defined interfaces, while polymorphism allows objects of different types to respond to the same method call in different ways based on their individual implementations. Together, these concepts enable code reusability, flexibility, and modularity in object-oriented programming, promoting better design practices and more maintainable software systems."
      ]
    },
    {
      "cell_type": "markdown",
      "metadata": {
        "id": "wabhFwqExkiN"
      },
      "source": [
        "## Composition:"
      ]
    },
    {
      "cell_type": "markdown",
      "metadata": {
        "id": "WuUjZ5vaxkiN"
      },
      "source": [
        "## 1. Explain the concept of composition in Python and how it is used to build complex objects from simpler ones."
      ]
    },
    {
      "cell_type": "markdown",
      "metadata": {
        "id": "-Sf5PdsrxkiN"
      },
      "source": [
        "Composition in Python is a design principle that allows you to create complex objects by combining simpler objects. It involves constructing objects by embedding other objects within them, forming a \"has-a\" relationship between the containing object (composite) and the contained objects (components). Composition enables developers to build modular, reusable, and flexible code by promoting code reuse and separation of concerns.\n",
        "\n",
        "Here's how composition works and how it is used to build complex objects from simpler ones:\n",
        "\n",
        "Embedding Objects: In composition, objects are embedded within other objects as attributes. These embedded objects are typically instances of other classes and provide specific functionalities or behaviors to the containing object. The containing object delegates tasks or operations to the embedded objects to achieve its functionality.\n",
        "\n",
        "\"Has-a\" Relationship: Composition establishes a \"has-a\" relationship between the containing object and the embedded objects. This relationship signifies that the containing object contains (has) instances of other objects as part of its internal structure. For example, a Car object may have (contains) instances of Engine, Wheel, and Transmission objects.\n",
        "\n",
        "Code Reusability: Composition promotes code reusability by allowing developers to create modular components that can be easily reused across different objects. Instead of duplicating code, common functionalities can be encapsulated within separate classes and composed together to build complex objects. This leads to cleaner, more maintainable code.\n",
        "\n",
        "Separation of Concerns: Composition facilitates separation of concerns by dividing complex functionalities into smaller, more manageable components. Each component is responsible for a specific aspect of functionality, making it easier to understand, test, and maintain. This modular approach promotes better code organization and reduces the complexity of individual objects.\n",
        "\n",
        "Flexibility and Extensibility: Composition allows for greater flexibility and extensibility in object design. Since objects are composed of smaller, interchangeable components, they can be easily customized or extended by adding or replacing components. This makes it easier to adapt objects to changing requirements or add new features without modifying existing code.\n",
        "\n",
        "Dynamic Composition: Composition in Python is dynamic, meaning that components can be added, removed, or replaced at runtime. This flexibility allows objects to adapt to different scenarios or configurations dynamically, enhancing their versatility and adaptability.\n",
        "\n",
        "Overall, composition is a powerful design principle in Python that enables developers to create complex objects from simpler ones by embedding objects within each other. It promotes code reusability, separation of concerns, flexibility, and extensibility, leading to cleaner, more modular, and maintainable code."
      ]
    },
    {
      "cell_type": "markdown",
      "metadata": {
        "id": "dZtfdNFrxkiN"
      },
      "source": [
        "## 2. Describe the difference between composition and inheritance in object-oriented programming."
      ]
    },
    {
      "cell_type": "markdown",
      "metadata": {
        "id": "QmdGQp9vxkiN"
      },
      "source": [
        "In object-oriented programming (OOP), both composition and inheritance are mechanisms for building relationships between classes and creating complex objects. However, they differ in their approach and the nature of the relationships they establish:\n",
        "\n",
        "Composition:\n",
        "\n",
        "Definition: Composition involves constructing objects by embedding instances of other classes within them. In composition, a class contains one or more instances of other classes as attributes, forming a \"has-a\" relationship.\n",
        "\n",
        "Relationship: In composition, the containing object (composite) is composed of one or more instances of other classes (components). The composite object \"has\" instances of the component classes as part of its internal structure.\n",
        "\n",
        "Flexibility: Composition promotes flexibility and loose coupling between classes. Components can be added, removed, or replaced at runtime, allowing for dynamic changes in the structure of composite objects.\n",
        "\n",
        "Code Reusability: Composition facilitates code reusability by encapsulating common functionalities within separate classes. Components can be reused across different composite objects, leading to cleaner, more maintainable code.\n",
        "\n",
        "Example: A Car class may contain instances of Engine, Wheel, and Transmission classes as attributes to represent its internal components.\n",
        "\n",
        "Inheritance:\n",
        "\n",
        "Definition: Inheritance involves creating new classes (derived or subclass) based on existing classes (base or superclass). The derived class inherits attributes and methods from the base class, forming an \"is-a\" relationship.\n",
        "\n",
        "Relationship: In inheritance, the derived class inherits the properties and behaviors of the base class. The derived class \"is a\" type of the base class and extends or modifies its functionality.\n",
        "\n",
        "Rigidity: Inheritance can lead to tight coupling between classes, as changes to the base class can affect all derived classes. It may result in a more rigid class hierarchy that is harder to modify or extend.\n",
        "\n",
        "Code Reuse and Specialization: Inheritance facilitates code reuse by allowing derived classes to inherit and reuse the properties and methods of the base class. Derived classes can specialize or extend the behavior of the base class to suit specific requirements.\n",
        "\n",
        "Example: A Rectangle class may inherit from a Shape class to inherit common properties and methods, and then extend it with specific attributes and methods, such as calculate_area().\n",
        "\n",
        "In summary, composition involves building objects by embedding instances of other classes, promoting flexibility and code reusability. In contrast, inheritance involves creating new classes based on existing classes, facilitating code reuse and specialization but potentially leading to tighter coupling and a more rigid class hierarchy. Both mechanisms have their advantages and use cases, and the choice between them depends on the specific requirements and design goals of the application.\n",
        "\n",
        "\n",
        "\n",
        "\n"
      ]
    },
    {
      "cell_type": "markdown",
      "metadata": {
        "id": "0wyv9SUjxkiN"
      },
      "source": [
        "## 3. Create a Python class called `Author` with attributes for name and birthdate. Then, create a `Book` class that contains an instance of `Author` as a composition. Provide an example of creating a `Book` object."
      ]
    },
    {
      "cell_type": "code",
      "execution_count": null,
      "metadata": {
        "id": "9PgKmLNXxkiO",
        "outputId": "e10de9aa-e334-4ba1-87f1-5e95d7c28627"
      },
      "outputs": [
        {
          "name": "stdout",
          "output_type": "stream",
          "text": [
            "Book Title: Pride and Prejudice\n",
            "Author: Jane Austen\n",
            "Author's Birth Date: December 16, 1775\n"
          ]
        }
      ],
      "source": [
        "class Author:\n",
        "    def __init__(self, name, birth_date):\n",
        "        self.name = name\n",
        "        self.birth_date = birth_date\n",
        "\n",
        "class Book:\n",
        "    def __init__(self, title, author_name, author_birth_date):\n",
        "        self.title = title\n",
        "        self.author = Author(author_name, author_birth_date)  # Composition: Book \"has an\" Author\n",
        "\n",
        "# Example of creating a Book object\n",
        "if __name__ == \"__main__\":\n",
        "    # Creating an Author object\n",
        "    author = Author(\"Jane Austen\", \"December 16, 1775\")\n",
        "\n",
        "    # Creating a Book object\n",
        "    book = Book(\"Pride and Prejudice\", author.name, author.birth_date)\n",
        "\n",
        "    # Displaying Book details\n",
        "    print(\"Book Title:\", book.title)\n",
        "    print(\"Author:\", book.author.name)\n",
        "    print(\"Author's Birth Date:\", book.author.birth_date)\n",
        "\n"
      ]
    },
    {
      "cell_type": "markdown",
      "metadata": {
        "id": "1BOgPp6LxkiO"
      },
      "source": [
        "## 4. Discuss the benefits of using composition over inheritance in Python, especially in terms of code flexibility and reusability."
      ]
    },
    {
      "cell_type": "markdown",
      "metadata": {
        "id": "UBNPbrcxxkiO"
      },
      "source": [
        "Using composition over inheritance in Python offers several benefits, especially in terms of code flexibility and reusability. Here are some key advantages:\n",
        "\n",
        "Flexibility:\n",
        "\n",
        "Composition allows for greater flexibility in object design by enabling objects to be composed of multiple components with different behaviors and functionalities.\n",
        "With composition, objects can dynamically change their behavior by replacing or modifying their components at runtime, leading to more adaptable and versatile code.\n",
        "Code Reusability:\n",
        "\n",
        "Composition promotes code reusability by encouraging the creation of modular and reusable components that can be easily composed together to build complex objects.\n",
        "Components can be reused across multiple objects without creating tight coupling between them, leading to cleaner, more maintainable code.\n",
        "Loose Coupling:\n",
        "\n",
        "Composition results in loose coupling between classes, as components are typically instantiated within the containing class rather than inherited from a base class.\n",
        "Loose coupling makes it easier to modify or extend the behavior of individual components without affecting other parts of the codebase, leading to better separation of concerns and improved code maintainability.\n",
        "Single Responsibility Principle (SRP):\n",
        "\n",
        "Composition aligns well with the Single Responsibility Principle (SRP), which states that a class should have only one reason to change.\n",
        "By composing objects from smaller, more focused components, each component can encapsulate a single responsibility or functionality, making it easier to understand, test, and maintain.\n",
        "Encapsulation:\n",
        "\n",
        "Composition promotes encapsulation by allowing objects to encapsulate their behavior within separate components.\n",
        "Each component can hide its internal implementation details, exposing only a well-defined interface to the containing object, which improves code clarity and reduces complexity.\n",
        "Avoiding the Fragile Base Class Problem:\n",
        "\n",
        "Composition helps avoid the Fragile Base Class Problem, which occurs when changes to a base class inadvertently affect all derived classes.\n",
        "By favoring composition over inheritance, changes to individual components are localized and have minimal impact on other parts of the codebase, reducing the risk of unintended consequences.\n",
        "Enhanced Testability:\n",
        "\n",
        "Composition improves testability by allowing individual components to be easily isolated and tested in isolation, leading to more comprehensive and reliable unit tests.\n",
        "Testing becomes easier as each component can be tested independently, without the need to consider the interactions between different inheritance hierarchies.\n",
        "In summary, using composition over inheritance in Python promotes code flexibility and reusability by enabling objects to be composed of multiple components with different behaviors and responsibilities. It leads to more adaptable, maintainable, and testable code, with reduced coupling and improved code organization.\n",
        "\n",
        "\n",
        "\n",
        "\n",
        "\n"
      ]
    },
    {
      "cell_type": "markdown",
      "metadata": {
        "id": "dzZBfb2dxkiO"
      },
      "source": [
        "## 5. How can you implement composition in Python classes? Provide examples of using composition to create complex objects."
      ]
    },
    {
      "cell_type": "markdown",
      "metadata": {
        "id": "XLkvwpR0xkiO"
      },
      "source": [
        "\n",
        "In Python, composition can be implemented by embedding instances of other classes within a containing class. This allows the containing class to delegate functionalities to its component objects, forming a \"has-a\" relationship. Here's how you can implement composition in Python classes with examples:"
      ]
    },
    {
      "cell_type": "code",
      "execution_count": null,
      "metadata": {
        "id": "vCuKynsuxkiO",
        "outputId": "793e8fd4-af64-4cd1-f769-280568310982"
      },
      "outputs": [
        {
          "name": "stdout",
          "output_type": "stream",
          "text": [
            "Car starting...\n",
            "Engine started\n",
            "Car stopping...\n",
            "Engine stopped\n"
          ]
        }
      ],
      "source": [
        "class Engine:\n",
        "    def start(self):\n",
        "        print(\"Engine started\")\n",
        "\n",
        "    def stop(self):\n",
        "        print(\"Engine stopped\")\n",
        "\n",
        "class Car:\n",
        "    def __init__(self):\n",
        "        self.engine = Engine()  # Composition: Car \"has an\" Engine\n",
        "\n",
        "    def start(self):\n",
        "        print(\"Car starting...\")\n",
        "        self.engine.start()\n",
        "\n",
        "    def stop(self):\n",
        "        print(\"Car stopping...\")\n",
        "        self.engine.stop()\n",
        "\n",
        "# Usage\n",
        "if __name__ == \"__main__\":\n",
        "    car = Car()\n",
        "    car.start()\n",
        "    car.stop()\n"
      ]
    },
    {
      "cell_type": "markdown",
      "metadata": {
        "id": "LrwIvoawxkiO"
      },
      "source": [
        "##  6. Create a Python class hierarchy for a music player system, using composition to represent playlists and songs."
      ]
    },
    {
      "cell_type": "code",
      "execution_count": null,
      "metadata": {
        "id": "vzzGrs-6xkiO",
        "outputId": "e03f5fce-5124-4288-9729-856b2e3b9641"
      },
      "outputs": [
        {
          "name": "stdout",
          "output_type": "stream",
          "text": [
            "('romantic', 50)\n"
          ]
        }
      ],
      "source": [
        "class MusicPlayer:\n",
        "    def __init__(self, playlist, songs):\n",
        "        self.playlist = playlist\n",
        "        self.songs = songs\n",
        "\n",
        "class Phone:\n",
        "    def __init__(self, playlist, songs):\n",
        "        self.music_player = MusicPlayer(playlist, songs)  # Composition: Phone \"has a\" MusicPlayer\n",
        "        self.songs = songs\n",
        "\n",
        "    def display(self):\n",
        "        return self.music_player.playlist, self.songs\n",
        "\n",
        "# Create instances of MusicPlayer and Phone classes\n",
        "system = MusicPlayer(\"romantic\", 50)\n",
        "system1 = Phone(\"romantic\", 50)\n",
        "\n",
        "# Display the information\n",
        "print(system1.display())\n"
      ]
    },
    {
      "cell_type": "markdown",
      "metadata": {
        "id": "h6F2S9LMxkiP"
      },
      "source": [
        "## 7. Explain the concept of \"has-a\" relationships in composition and how it helps design software systems."
      ]
    },
    {
      "cell_type": "markdown",
      "metadata": {
        "id": "ESNgWSFMxkiP"
      },
      "source": [
        "The concept of \"has-a\" relationships in composition refers to the relationship between two classes where one class contains an instance of another class as one of its attributes. This relationship signifies that the containing class \"has\" an instance of the other class as part of its internal structure. Here's how it helps design software systems:\n",
        "\n",
        "Modularity and Encapsulation: \"Has-a\" relationships promote modularity and encapsulation by allowing you to break down complex systems into smaller, more manageable components. Each component encapsulates a specific functionality or behavior, making it easier to understand, test, and maintain.\n",
        "\n",
        "Code Reusability: Composition facilitates code reusability by encouraging the creation of reusable components that can be easily composed together to build complex objects. Components can be reused across different parts of the system without duplicating code, leading to cleaner, more maintainable code.\n",
        "\n",
        "Flexibility and Extensibility: Composition promotes flexibility and extensibility in software design. Since objects are composed of smaller, interchangeable components, they can be easily customized or extended by adding, removing, or replacing components. This makes it easier to adapt software systems to changing requirements or accommodate new use cases.\n",
        "\n",
        "Separation of Concerns: \"Has-a\" relationships facilitate separation of concerns by dividing complex functionalities into smaller, more focused components. Each component is responsible for a specific aspect of functionality, making it easier to manage complexity and reduce coupling between different parts of the system.\n",
        "\n",
        "Dynamic Composition: Composition allows for dynamic composition of objects at runtime, enabling objects to change their behavior or characteristics dynamically based on external factors or user interactions. This enhances the versatility and adaptability of software systems, allowing them to respond to changing conditions or requirements.\n",
        "\n",
        "Scalability: \"Has-a\" relationships make it easier to scale software systems by allowing you to add new features or functionalities without impacting existing code. New components can be added to existing objects or composed together to create more complex objects, allowing the system to grow and evolve over time.\n",
        "\n",
        "In summary, the concept of \"has-a\" relationships in composition is a powerful design principle that promotes modularity, code reusability, flexibility, and scalability in software systems. By breaking down complex systems into smaller, reusable components and composing them together, you can design software systems that are easier to understand, maintain, and extend, while also promoting code reusability and flexibility."
      ]
    },
    {
      "cell_type": "markdown",
      "metadata": {
        "id": "lwCy4GmBxkiP"
      },
      "source": [
        "##  8. Create a Python class for a computer system, using composition to represent components like CPU, RAM, and storage devices."
      ]
    },
    {
      "cell_type": "code",
      "execution_count": null,
      "metadata": {
        "id": "MZEk6FcoxkiP",
        "outputId": "6ab2405f-933f-4e59-ab38-e9719bac0f63"
      },
      "outputs": [
        {
          "name": "stdout",
          "output_type": "stream",
          "text": [
            "Computer System:\n",
            "CPU: Intel, Cores: 4\n",
            "RAM: 8GB, Speed: 2400MHz\n",
            "Storage: SSD, Capacity: 512GB\n"
          ]
        }
      ],
      "source": [
        "class CPU:\n",
        "    def __init__(self, brand, cores):\n",
        "        self.brand = brand\n",
        "        self.cores = cores\n",
        "\n",
        "    def __str__(self):\n",
        "        return f\"CPU: {self.brand}, Cores: {self.cores}\"\n",
        "\n",
        "class RAM:\n",
        "    def __init__(self, capacity_gb, speed_mhz):\n",
        "        self.capacity_gb = capacity_gb\n",
        "        self.speed_mhz = speed_mhz\n",
        "\n",
        "    def __str__(self):\n",
        "        return f\"RAM: {self.capacity_gb}GB, Speed: {self.speed_mhz}MHz\"\n",
        "\n",
        "class StorageDevice:\n",
        "    def __init__(self, type, capacity_gb):\n",
        "        self.type = type\n",
        "        self.capacity_gb = capacity_gb\n",
        "\n",
        "    def __str__(self):\n",
        "        return f\"Storage: {self.type}, Capacity: {self.capacity_gb}GB\"\n",
        "\n",
        "class ComputerSystem:\n",
        "    def __init__(self, cpu, ram, storage):\n",
        "        self.cpu = cpu\n",
        "        self.ram = ram\n",
        "        self.storage = storage\n",
        "\n",
        "    def __str__(self):\n",
        "        return f\"Computer System:\\n{self.cpu}\\n{self.ram}\\n{self.storage}\"\n",
        "\n",
        "# Example usage\n",
        "if __name__ == \"__main__\":\n",
        "    cpu = CPU(\"Intel\", 4)\n",
        "    ram = RAM(8, 2400)\n",
        "    storage = StorageDevice(\"SSD\", 512)\n",
        "\n",
        "    computer = ComputerSystem(cpu, ram, storage)\n",
        "    print(computer)\n"
      ]
    },
    {
      "cell_type": "markdown",
      "metadata": {
        "id": "ttf2du9wxkiT"
      },
      "source": [
        "## 9. Describe the concept of \"delegation\" in composition and how it simplifies the design of complex systems"
      ]
    },
    {
      "cell_type": "markdown",
      "metadata": {
        "id": "yViYqDO7xkiT"
      },
      "source": [
        "Delegation in composition is a design pattern where an object forwards a method call or operation to another object, typically one of its components, to perform the actual work. Instead of implementing the functionality directly, the containing object delegates the responsibility to its components, leveraging their specific expertise or capabilities. This simplifies the design of complex systems in several ways:\n",
        "\n",
        "Modularity: Delegation promotes modularity by breaking down complex functionalities into smaller, more manageable components. Each component is responsible for a specific aspect of functionality, making it easier to understand, test, and maintain.\n",
        "\n",
        "Separation of Concerns: Delegation facilitates separation of concerns by dividing responsibilities between objects. The containing object focuses on coordinating and delegating tasks, while the component objects handle the actual implementation of those tasks. This separation helps to reduce coupling and improve code organization.\n",
        "\n",
        "Code Reusability: Delegation encourages code reusability by promoting the creation of reusable components that can be easily composed together to build complex systems. Components with well-defined interfaces can be reused across different objects, leading to cleaner, more maintainable code.\n",
        "\n",
        "Flexibility and Extensibility: Delegation enhances flexibility and extensibility in software design. Since objects can delegate tasks to their components, they can easily adapt to changing requirements or accommodate new functionalities by replacing or adding components. This makes it easier to customize and extend the behavior of complex systems without modifying existing code.\n",
        "\n",
        "Dynamic Behavior: Delegation enables dynamic behavior in complex systems. Objects can dynamically change their behavior at runtime by delegating tasks to different components based on external factors or user interactions. This allows for greater adaptability and responsiveness in software systems.\n",
        "\n",
        "Encapsulation: Delegation promotes encapsulation by allowing objects to hide their internal implementation details behind well-defined interfaces. Components encapsulate their behavior within themselves, exposing only the necessary methods or properties to the containing object. This improves code clarity and reduces complexity.\n",
        "\n",
        "In summary, delegation in composition simplifies the design of complex systems by promoting modularity, separation of concerns, code reusability, flexibility, and encapsulation. By breaking down functionalities into smaller, reusable components and delegating responsibilities to them, developers can build cleaner, more maintainable, and extensible software systems."
      ]
    },
    {
      "cell_type": "markdown",
      "metadata": {
        "id": "N1L-a7ooxkiT"
      },
      "source": [
        "## 10. Create a Python class for a car, using composition to represent components like the engine, wheels, and transmission."
      ]
    },
    {
      "cell_type": "code",
      "execution_count": null,
      "metadata": {
        "id": "1odHC54hxkiT",
        "outputId": "f28c30ff-1989-4385-81e9-ee723207bf0f"
      },
      "outputs": [
        {
          "name": "stdout",
          "output_type": "stream",
          "text": [
            "Starting the car...\n",
            "Engine started\n",
            "Driving the car...\n",
            "Gear shifted\n",
            "4 wheels rolling\n",
            "Stopping the car...\n",
            "Engine stopped\n"
          ]
        }
      ],
      "source": [
        "class Engine:\n",
        "    def __init__(self, horsepower):\n",
        "        self.horsepower = horsepower\n",
        "\n",
        "    def start(self):\n",
        "        print(\"Engine started\")\n",
        "\n",
        "    def stop(self):\n",
        "        print(\"Engine stopped\")\n",
        "\n",
        "class Wheels:\n",
        "    def __init__(self, count):\n",
        "        self.count = count\n",
        "\n",
        "    def roll(self):\n",
        "        print(f\"{self.count} wheels rolling\")\n",
        "\n",
        "class Transmission:\n",
        "    def __init__(self, transmission_type):\n",
        "        self.transmission_type = transmission_type\n",
        "\n",
        "    def shift_gear(self):\n",
        "        print(\"Gear shifted\")\n",
        "\n",
        "class Car:\n",
        "    def __init__(self, engine, wheels, transmission):\n",
        "        self.engine = engine\n",
        "        self.wheels = wheels\n",
        "        self.transmission = transmission\n",
        "\n",
        "    def start(self):\n",
        "        print(\"Starting the car...\")\n",
        "        self.engine.start()\n",
        "\n",
        "    def stop(self):\n",
        "        print(\"Stopping the car...\")\n",
        "        self.engine.stop()\n",
        "\n",
        "    def drive(self):\n",
        "        print(\"Driving the car...\")\n",
        "        self.transmission.shift_gear()\n",
        "        self.wheels.roll()\n",
        "\n",
        "# Example usage\n",
        "if __name__ == \"__main__\":\n",
        "    engine = Engine(200)\n",
        "    wheels = Wheels(4)\n",
        "    transmission = Transmission(\"Automatic\")\n",
        "\n",
        "    car = Car(engine, wheels, transmission)\n",
        "    car.start()\n",
        "    car.drive()\n",
        "    car.stop()\n"
      ]
    },
    {
      "cell_type": "markdown",
      "metadata": {
        "id": "X0g1DDFIxkiU"
      },
      "source": [
        "## 11. How can you encapsulate and hide the details of composed objects in Python classes to maintain abstraction?"
      ]
    },
    {
      "cell_type": "markdown",
      "metadata": {
        "id": "ZxK8dedjxkiU"
      },
      "source": [
        "Encapsulation is a fundamental concept in object-oriented programming that involves bundling the data and methods that operate on the data into a single unit, and restricting access to the internal details of an object. In the context of composition, encapsulation allows you to hide the details of composed objects within a containing class, maintaining abstraction and improving modularity. Here's how you can achieve encapsulation and hide the details of composed objects in Python classes:\n",
        "\n",
        "Private Attributes and Methods: Use private attributes and methods within the containing class to encapsulate the details of composed objects. In Python, you can denote a member as private by prefixing its name with an underscore (_). While not strictly enforced, this convention indicates that the attribute or method is intended for internal use only.\n",
        "\n",
        "Accessor and Mutator Methods: Define accessor (getter) and mutator (setter) methods within the containing class to provide controlled access to the attributes of composed objects. This allows you to enforce constraints or perform validation before accessing or modifying the attributes.\n",
        "\n",
        "Property Decorators: Use property decorators to define getter and setter methods for properties of composed objects. Property decorators allow you to define custom behavior for attribute access and modification, while still providing a simple interface for accessing and modifying attributes.\n",
        "\n",
        "Delegate Methods: Define wrapper methods within the containing class that delegate operations to the composed objects. This allows you to expose a simplified interface while hiding the internal details of composed objects.\n",
        "\n",
        "Documentation and Interface Design: Document the public interface of the containing class to provide guidance on how to use the class and interact with its composed objects. Clearly define the responsibilities and expectations of the containing class, and hide implementation details that are not relevant to external users."
      ]
    },
    {
      "cell_type": "markdown",
      "metadata": {
        "id": "Tt3x7-z1xkiU"
      },
      "source": [
        "## 12. Create a Python class for a university course, using composition to represent students, instructors, and course materials."
      ]
    },
    {
      "cell_type": "code",
      "execution_count": null,
      "metadata": {
        "id": "sPJyY55xxkiU",
        "outputId": "706402c8-963f-4696-94ca-f9b0597d30e7"
      },
      "outputs": [
        {
          "name": "stdout",
          "output_type": "stream",
          "text": [
            "Course: Python Programming\n",
            "Instructor: Instructor: Dr. Smith, ID: I001\n",
            "Students: Student: Alice, ID: S001, Student: Bob, ID: S002\n",
            "Course Material: Textbook: Introduction to Python, Slides: Lecture Slides\n"
          ]
        }
      ],
      "source": [
        "class Student:\n",
        "    def __init__(self, name, student_id):\n",
        "        self.name = name\n",
        "        self.student_id = student_id\n",
        "\n",
        "    def __str__(self):\n",
        "        return f\"Student: {self.name}, ID: {self.student_id}\"\n",
        "\n",
        "class Instructor:\n",
        "    def __init__(self, name, employee_id):\n",
        "        self.name = name\n",
        "        self.employee_id = employee_id\n",
        "\n",
        "    def __str__(self):\n",
        "        return f\"Instructor: {self.name}, ID: {self.employee_id}\"\n",
        "\n",
        "class CourseMaterial:\n",
        "    def __init__(self, textbook, slides):\n",
        "        self.textbook = textbook\n",
        "        self.slides = slides\n",
        "\n",
        "    def __str__(self):\n",
        "        return f\"Textbook: {self.textbook}, Slides: {self.slides}\"\n",
        "\n",
        "class UniversityCourse:\n",
        "    def __init__(self, name, instructor, students, course_material):\n",
        "        self.name = name\n",
        "        self.instructor = instructor\n",
        "        self.students = students\n",
        "        self.course_material = course_material\n",
        "\n",
        "    def __str__(self):\n",
        "        student_list = \", \".join([str(student) for student in self.students])\n",
        "        return f\"Course: {self.name}\\nInstructor: {self.instructor}\\nStudents: {student_list}\\nCourse Material: {self.course_material}\"\n",
        "\n",
        "# Example usage\n",
        "if __name__ == \"__main__\":\n",
        "    student1 = Student(\"Alice\", \"S001\")\n",
        "    student2 = Student(\"Bob\", \"S002\")\n",
        "    instructor = Instructor(\"Dr. Smith\", \"I001\")\n",
        "    course_material = CourseMaterial(\"Introduction to Python\", \"Lecture Slides\")\n",
        "\n",
        "    course = UniversityCourse(\"Python Programming\", instructor, [student1, student2], course_material)\n",
        "    print(course)\n"
      ]
    },
    {
      "cell_type": "markdown",
      "metadata": {
        "id": "PDnmD_R5xkiV"
      },
      "source": [
        "## 13. Discuss the challenges and drawbacks of composition, such as increased complexity and potential for tight coupling between objects."
      ]
    },
    {
      "cell_type": "markdown",
      "metadata": {
        "id": "DSrho2IBxkiV"
      },
      "source": [
        "While composition is a powerful design pattern, it also comes with its own set of challenges and drawbacks. Some of the main challenges and drawbacks of composition include:\n",
        "\n",
        "Increased Complexity: As the number of composed objects increases, the overall complexity of the system may also increase. Managing the interactions between multiple objects and ensuring proper coordination can become challenging, leading to more complex code and potentially increased debugging and maintenance efforts.\n",
        "\n",
        "Potential for Tight Coupling: Composition can lead to tight coupling between objects, especially if the containing class relies heavily on the internal details of its composed objects. Tight coupling makes it difficult to modify or replace individual components without affecting other parts of the system, reducing flexibility and making the system more brittle.\n",
        "\n",
        "Dependency Management: Composition introduces dependencies between objects, as the containing class relies on its composed objects to perform certain tasks or provide specific functionalities. Managing these dependencies can be complex, especially in large systems with many interconnected components, and can lead to issues such as circular dependencies or dependency cycles.\n",
        "\n",
        "Initialization Order: The order in which composed objects are initialized can be critical, especially if there are dependencies between them. Ensuring the correct initialization order can be challenging, and improper initialization can lead to errors or unexpected behavior at runtime.\n",
        "\n",
        "Performance Overhead: Composition can introduce performance overhead, especially if there are many interactions between composed objects or if there is significant overhead associated with creating and managing object instances. Careful design and optimization may be necessary to minimize this overhead and ensure acceptable system performance.\n",
        "\n",
        "Code Duplication: In some cases, composition may lead to code duplication, especially if similar compositions are used in multiple parts of the system. This can result in redundant code and increased maintenance efforts, as changes to one composition may need to be replicated in other parts of the system.\n",
        "\n",
        "Increased Memory Usage: Composing objects within a containing class can increase memory usage, especially if the composed objects are large or if there are many instances of the containing class. This can impact system performance and scalability, especially in resource-constrained environments.\n",
        "\n",
        "To mitigate these challenges and drawbacks, it's important to carefully design and architect systems using composition, taking into account factors such as object interactions, dependency management, and performance considerations. Additionally, following best practices such as minimizing dependencies, encapsulating implementation details, and favoring loose coupling can help address some of the challenges associated with composition"
      ]
    },
    {
      "cell_type": "markdown",
      "metadata": {
        "id": "dzwK2bCnxkiV"
      },
      "source": [
        "## 14. Create a Python class hierarchy for a restaurant system, using composition to represent menus, dishes, and ingredients."
      ]
    },
    {
      "cell_type": "code",
      "execution_count": null,
      "metadata": {
        "id": "Vtvw3AesxkiW",
        "outputId": "89365964-7be5-4cec-90b2-ffafc984ff23"
      },
      "outputs": [
        {
          "name": "stdout",
          "output_type": "stream",
          "text": [
            "Restaurant: Italian Restaurant\n",
            "Menus:\n",
            "Menu: Pizza Menu\n",
            "Dishes:\n",
            "Dish: Margherita Pizza\n",
            "Ingredients: 2 Tomato, 200 Cheese\n",
            "Menu: Pasta Menu\n",
            "Dishes:\n",
            "Dish: Pasta Marinara\n",
            "Ingredients: 300 Pasta, 100 Tomato Sauce, 10 Basil\n"
          ]
        }
      ],
      "source": [
        "class Ingredient:\n",
        "    def __init__(self, name, quantity):\n",
        "        self.name = name\n",
        "        self.quantity = quantity\n",
        "\n",
        "    def __str__(self):\n",
        "        return f\"{self.quantity} {self.name}\"\n",
        "\n",
        "class Dish:\n",
        "    def __init__(self, name, ingredients):\n",
        "        self.name = name\n",
        "        self.ingredients = ingredients\n",
        "\n",
        "    def __str__(self):\n",
        "        ingredient_list = \", \".join([str(ingredient) for ingredient in self.ingredients])\n",
        "        return f\"Dish: {self.name}\\nIngredients: {ingredient_list}\"\n",
        "\n",
        "class Menu:\n",
        "    def __init__(self, name, dishes):\n",
        "        self.name = name\n",
        "        self.dishes = dishes\n",
        "\n",
        "    def __str__(self):\n",
        "        dish_list = \"\\n\".join([str(dish) for dish in self.dishes])\n",
        "        return f\"Menu: {self.name}\\nDishes:\\n{dish_list}\"\n",
        "\n",
        "class Restaurant:\n",
        "    def __init__(self, name, menus):\n",
        "        self.name = name\n",
        "        self.menus = menus\n",
        "\n",
        "    def __str__(self):\n",
        "        menu_list = \"\\n\".join([str(menu) for menu in self.menus])\n",
        "        return f\"Restaurant: {self.name}\\nMenus:\\n{menu_list}\"\n",
        "\n",
        "# Example usage\n",
        "if __name__ == \"__main__\":\n",
        "    ingredient1 = Ingredient(\"Tomato\", 2)\n",
        "    ingredient2 = Ingredient(\"Cheese\", 200)\n",
        "    dish1 = Dish(\"Margherita Pizza\", [ingredient1, ingredient2])\n",
        "\n",
        "    ingredient3 = Ingredient(\"Pasta\", 300)\n",
        "    ingredient4 = Ingredient(\"Tomato Sauce\", 100)\n",
        "    ingredient5 = Ingredient(\"Basil\", 10)\n",
        "    dish2 = Dish(\"Pasta Marinara\", [ingredient3, ingredient4, ingredient5])\n",
        "\n",
        "    menu1 = Menu(\"Pizza Menu\", [dish1])\n",
        "    menu2 = Menu(\"Pasta Menu\", [dish2])\n",
        "\n",
        "    restaurant = Restaurant(\"Italian Restaurant\", [menu1, menu2])\n",
        "    print(restaurant)\n"
      ]
    },
    {
      "cell_type": "markdown",
      "metadata": {
        "id": "y1y8njW3xkiW"
      },
      "source": [
        "## 15. Explain how composition enhances code maintainability and modularity in Python programs."
      ]
    },
    {
      "cell_type": "markdown",
      "metadata": {
        "id": "vnauscM9xkiW"
      },
      "source": [
        "\n",
        "Composition enhances code maintainability and modularity in Python programs in several ways:\n",
        "\n",
        "Encapsulation: Composition promotes encapsulation by allowing you to hide the internal details of objects within a containing class. Each component encapsulates its functionality, exposing only the necessary interface to the containing class. This reduces the complexity of the containing class and makes it easier to understand and maintain.\n",
        "\n",
        "Modularity: Composition encourages modularity by breaking down complex systems into smaller, reusable components. Each component can be developed, tested, and maintained independently, leading to cleaner and more manageable code. Components can also be reused across different parts of the system, promoting code reusability and reducing redundancy.\n",
        "\n",
        "Flexibility: Composition enhances flexibility by allowing you to easily modify or replace individual components without affecting other parts of the system. You can customize or extend the behavior of a system by adding, removing, or replacing components as needed, without modifying existing code. This makes it easier to adapt the system to changing requirements or accommodate new use cases.\n",
        "\n",
        "Loose Coupling: Composition promotes loose coupling between objects, as the containing class relies on the interface of its composed objects rather than their internal details. This reduces dependencies and increases the flexibility of the system, making it easier to maintain and modify. Loose coupling also improves code readability and understandability, as the interactions between objects are more explicit and transparent.\n",
        "\n",
        "Separation of Concerns: Composition facilitates separation of concerns by dividing responsibilities between objects. Each component is responsible for a specific aspect of functionality, making it easier to manage complexity and reduce coupling between different parts of the system. This improves code organization and makes it easier to identify and isolate issues when debugging or maintaining the code.\n",
        "\n",
        "Code Reusability: Composition promotes code reusability by encouraging the creation of reusable components that can be easily composed together to build complex systems. Components with well-defined interfaces can be reused across different parts of the system, leading to cleaner, more maintainable, and extensible code.\n",
        "\n",
        "Overall, composition enhances code maintainability and modularity in Python programs by promoting encapsulation, modularity, flexibility, loose coupling, separation of concerns, and code reusability. By breaking down complex systems into smaller, reusable components and composing them together, you can build cleaner, more maintainable, and extensible code that is easier to understand, modify, and maintain over time."
      ]
    },
    {
      "cell_type": "markdown",
      "metadata": {
        "id": "I6lMn-DhxkiW"
      },
      "source": [
        "## 16. Create a Python class for a computer game character, using composition to represent attributes like weapons, armor, and inventory."
      ]
    },
    {
      "cell_type": "code",
      "execution_count": null,
      "metadata": {
        "id": "zcWvNi9YxkiW",
        "outputId": "d88c5557-b6dd-41b1-d274-1aca3a5dd7ec"
      },
      "outputs": [
        {
          "name": "stdout",
          "output_type": "stream",
          "text": [
            "Character: Hero\n",
            "Weapons: [<__main__.Weapon object at 0x0000019889876390>]\n",
            "Armor: [<__main__.Armor object at 0x00000198898756D0>]\n",
            "Inventory:\n",
            "Weapon: Sword, Damage: 20\n",
            "Weapon: Axe, Damage: 25\n",
            "Armor: Helmet, Defense: 10\n",
            "Armor: Chestplate, Defense: 20\n",
            "\n",
            "After equipping a new weapon:\n",
            "Character: Hero\n",
            "Weapons: [<__main__.Weapon object at 0x0000019889876390>, <__main__.Weapon object at 0x00000198897D8A90>]\n",
            "Armor: [<__main__.Armor object at 0x00000198898756D0>]\n",
            "Inventory:\n",
            "Weapon: Sword, Damage: 20\n",
            "Weapon: Axe, Damage: 25\n",
            "Armor: Helmet, Defense: 10\n",
            "Armor: Chestplate, Defense: 20\n",
            "\n",
            "After adding a new armor to inventory:\n",
            "Character: Hero\n",
            "Weapons: [<__main__.Weapon object at 0x0000019889876390>, <__main__.Weapon object at 0x00000198897D8A90>]\n",
            "Armor: [<__main__.Armor object at 0x00000198898756D0>]\n",
            "Inventory:\n",
            "Weapon: Sword, Damage: 20\n",
            "Weapon: Axe, Damage: 25\n",
            "Armor: Helmet, Defense: 10\n",
            "Armor: Chestplate, Defense: 20\n",
            "Armor: Shield, Defense: 15\n"
          ]
        }
      ],
      "source": [
        "class Weapon:\n",
        "    def __init__(self, name, damage):\n",
        "        self.name = name\n",
        "        self.damage = damage\n",
        "\n",
        "    def __str__(self):\n",
        "        return f\"Weapon: {self.name}, Damage: {self.damage}\"\n",
        "\n",
        "class Armor:\n",
        "    def __init__(self, name, defense):\n",
        "        self.name = name\n",
        "        self.defense = defense\n",
        "\n",
        "    def __str__(self):\n",
        "        return f\"Armor: {self.name}, Defense: {self.defense}\"\n",
        "\n",
        "class Inventory:\n",
        "    def __init__(self, items):\n",
        "        self.items = items\n",
        "\n",
        "    def add_item(self, item):\n",
        "        self.items.append(item)\n",
        "\n",
        "    def remove_item(self, item):\n",
        "        if item in self.items:\n",
        "            self.items.remove(item)\n",
        "        else:\n",
        "            print(f\"{item} not found in inventory\")\n",
        "\n",
        "    def __str__(self):\n",
        "        item_list = \"\\n\".join([str(item) for item in self.items])\n",
        "        return f\"Inventory:\\n{item_list}\"\n",
        "\n",
        "class Character:\n",
        "    def __init__(self, name, weapons=None, armor=None, inventory=None):\n",
        "        self.name = name\n",
        "        self.weapons = weapons or []\n",
        "        self.armor = armor or []\n",
        "        self.inventory = inventory or Inventory([])\n",
        "\n",
        "    def equip_weapon(self, weapon):\n",
        "        self.weapons.append(weapon)\n",
        "\n",
        "    def equip_armor(self, armor):\n",
        "        self.armor.append(armor)\n",
        "\n",
        "    def __str__(self):\n",
        "        return f\"Character: {self.name}\\nWeapons: {self.weapons}\\nArmor: {self.armor}\\n{self.inventory}\"\n",
        "\n",
        "# Example usage\n",
        "if __name__ == \"__main__\":\n",
        "    sword = Weapon(\"Sword\", 20)\n",
        "    axe = Weapon(\"Axe\", 25)\n",
        "\n",
        "    helmet = Armor(\"Helmet\", 10)\n",
        "    chestplate = Armor(\"Chestplate\", 20)\n",
        "\n",
        "    inventory = Inventory([sword, axe, helmet, chestplate])\n",
        "\n",
        "    character = Character(\"Hero\", weapons=[sword], armor=[helmet], inventory=inventory)\n",
        "    print(character)\n",
        "\n",
        "    new_weapon = Weapon(\"Bow\", 15)\n",
        "    character.equip_weapon(new_weapon)\n",
        "    print(\"\\nAfter equipping a new weapon:\")\n",
        "    print(character)\n",
        "\n",
        "    character.inventory.add_item(Armor(\"Shield\", 15))\n",
        "    print(\"\\nAfter adding a new armor to inventory:\")\n",
        "    print(character)\n"
      ]
    },
    {
      "cell_type": "markdown",
      "metadata": {
        "id": "fEU6EloKxkiW"
      },
      "source": [
        "## 17. Describe the concept of \"aggregation\" in composition and how it differs from simple composition."
      ]
    },
    {
      "cell_type": "markdown",
      "metadata": {
        "id": "ZqjDmrV3xkiW"
      },
      "source": [
        "In object-oriented programming, aggregation is a form of composition where one object (the containing object) contains another object (the component object), but the component object can exist independently of the containing object. Aggregation implies a relationship where the component object is a part of, or belongs to, the containing object, but it is not exclusively owned by it.\n",
        "\n",
        "Here's how aggregation differs from simple composition:\n",
        "\n",
        "Independence of Component Objects: In aggregation, the component object can exist independently of the containing object. It can be created, modified, and destroyed separately from the containing object. This means that multiple instances of the containing object can share the same instance of the component object, or the component object can be reused in different contexts.\n",
        "\n",
        "Ownership: In aggregation, the containing object does not own the component object exclusively. This means that the component object can be shared among multiple containing objects, or it can exist outside the scope of any containing object altogether. In contrast, in simple composition, the containing object typically owns and controls the lifecycle of the component object.\n",
        "\n",
        "Cardinality: Aggregation often implies a one-to-many or many-to-many relationship between containing objects and component objects. This means that a single component object can be associated with multiple containing objects, or multiple component objects can be associated with a single containing object. Simple composition, on the other hand, typically implies a one-to-one relationship between containing objects and component objects.\n",
        "\n",
        "Lifetime: The lifetime of the component object in aggregation is not necessarily tied to the lifetime of the containing object. In other words, the component object can outlive the containing object and continue to exist independently. This allows for greater flexibility and reusability of the component object.\n",
        "\n",
        "Semantic Meaning: Aggregation often carries a semantic meaning that implies a whole-part relationship between the containing object and the component object. For example, a university contains multiple departments, but each department can exist independently of the university. This semantic meaning distinguishes aggregation from other forms of composition.\n",
        "\n",
        "In summary, aggregation in composition represents a relationship where one object contains another object, but the component object can exist independently and be shared among multiple containing objects. This differs from simple composition, where the containing object typically owns and controls the lifecycle of the component object in a one-to-one relationship. Aggregation offers greater flexibility, reusability, and semantic clarity in modeling relationships between objects."
      ]
    },
    {
      "cell_type": "markdown",
      "metadata": {
        "id": "on7x8vSLxkiX"
      },
      "source": [
        "## 18. Create a Python class for a house, using composition to represent rooms, furniture, and appliances."
      ]
    },
    {
      "cell_type": "code",
      "execution_count": null,
      "metadata": {
        "id": "PqzmygMvxkiX",
        "outputId": "91aae1d5-4d0c-4b37-e707-d8a0a35d7b8d"
      },
      "outputs": [
        {
          "name": "stdout",
          "output_type": "stream",
          "text": [
            "House:\n",
            "Room: Living Room\n",
            "Furniture:\n",
            "Furniture: Sofa\n",
            "Furniture: Coffee Table\n",
            "Furniture: TV Stand\n",
            "Appliances:\n",
            "\n",
            "\n",
            "Room: Kitchen\n",
            "Furniture:\n",
            "\n",
            "Appliances:\n",
            "Appliance: Refrigerator\n",
            "Appliance: Oven\n",
            "Appliance: Microwave\n"
          ]
        }
      ],
      "source": [
        "class Furniture:\n",
        "    def __init__(self, name):\n",
        "        self.name = name\n",
        "\n",
        "    def __str__(self):\n",
        "        return f\"Furniture: {self.name}\"\n",
        "\n",
        "class Appliance:\n",
        "    def __init__(self, name):\n",
        "        self.name = name\n",
        "\n",
        "    def __str__(self):\n",
        "        return f\"Appliance: {self.name}\"\n",
        "\n",
        "class Room:\n",
        "    def __init__(self, name, furniture=None, appliances=None):\n",
        "        self.name = name\n",
        "        self.furniture = furniture or []\n",
        "        self.appliances = appliances or []\n",
        "\n",
        "    def add_furniture(self, furniture):\n",
        "        self.furniture.append(furniture)\n",
        "\n",
        "    def add_appliance(self, appliance):\n",
        "        self.appliances.append(appliance)\n",
        "\n",
        "    def __str__(self):\n",
        "        furniture_list = \"\\n\".join([str(item) for item in self.furniture])\n",
        "        appliance_list = \"\\n\".join([str(item) for item in self.appliances])\n",
        "        return f\"Room: {self.name}\\nFurniture:\\n{furniture_list}\\nAppliances:\\n{appliance_list}\"\n",
        "\n",
        "class House:\n",
        "    def __init__(self, rooms):\n",
        "        self.rooms = rooms\n",
        "\n",
        "    def __str__(self):\n",
        "        room_list = \"\\n\\n\".join([str(room) for room in self.rooms])\n",
        "        return f\"House:\\n{room_list}\"\n",
        "\n",
        "# Example usage\n",
        "if __name__ == \"__main__\":\n",
        "    living_room_furniture = [Furniture(\"Sofa\"), Furniture(\"Coffee Table\"), Furniture(\"TV Stand\")]\n",
        "    kitchen_appliances = [Appliance(\"Refrigerator\"), Appliance(\"Oven\"), Appliance(\"Microwave\")]\n",
        "\n",
        "    living_room = Room(\"Living Room\", furniture=living_room_furniture)\n",
        "    kitchen = Room(\"Kitchen\", appliances=kitchen_appliances)\n",
        "\n",
        "    house = House([living_room, kitchen])\n",
        "    print(house)\n"
      ]
    },
    {
      "cell_type": "markdown",
      "metadata": {
        "id": "44mzrG-BxkiX"
      },
      "source": [
        "## 19. How can you achieve flexibility in composed objects by allowing them to be replaced or modified dynamically at runtime?"
      ]
    },
    {
      "cell_type": "markdown",
      "metadata": {
        "id": "tFBSs-uexkiX"
      },
      "source": [
        "\n",
        "Achieving flexibility in composed objects by allowing them to be replaced or modified dynamically at runtime involves designing the containing class in a way that promotes loose coupling and allows for interchangeable components. Here are some strategies to achieve this flexibility:\n",
        "\n",
        "Define an Interface: Create an interface or base class that defines the common behavior expected from the components. This allows different implementations of the components to be used interchangeably.\n",
        "\n",
        "Use Dependency Injection: Instead of creating instances of the components within the containing class, pass them as parameters to the constructor or setter methods. This allows different instances of the components to be injected into the containing class at runtime.\n",
        "\n",
        "Factory Method: Use a factory method or factory class to create instances of the components based on certain criteria or conditions. This allows for dynamic instantiation of different component implementations.\n",
        "\n",
        "Strategy Pattern: Implement the strategy pattern, where the containing class encapsulates a strategy interface and delegates the behavior to a concrete strategy object. Different strategy implementations can be swapped at runtime, allowing for dynamic behavior changes.\n",
        "\n",
        "Dependency Inversion Principle (DIP): Follow the Dependency Inversion Principle, which states that high-level modules should not depend on low-level modules, but both should depend on abstractions. Define abstract interfaces for the components and inject them into the containing class, allowing for flexibility in component implementations.\n",
        "\n",
        "Composition Over Inheritance: Prefer composition over inheritance to allow for greater flexibility and modularity in composing objects. Instead of relying on inheritance hierarchies, use composition to assemble objects dynamically at runtime.\n",
        "\n",
        "Dynamic Modification: Provide methods in the containing class to dynamically modify or replace the components at runtime. This could involve adding, removing, or swapping components based on changing requirements or conditions.\n",
        "\n",
        "By implementing these strategies, you can design the containing class to be more flexible and adaptable to changes in component implementations at runtime. This promotes loose coupling, modularity, and maintainability, allowing for easier modification and extension of the composed objects in the system."
      ]
    },
    {
      "cell_type": "markdown",
      "metadata": {
        "id": "_JTSo7cmxkiX"
      },
      "source": [
        "## 20. Create a Python class for a social media application, using composition to represent users, posts, and comments."
      ]
    },
    {
      "cell_type": "code",
      "execution_count": null,
      "metadata": {
        "id": "WkaD21ytxkiX",
        "outputId": "d020afe4-1eb4-4f06-991c-6725c95eecf7"
      },
      "outputs": [
        {
          "name": "stdout",
          "output_type": "stream",
          "text": [
            "User: Alice\n",
            "Posts:\n",
            "Post by Alice: Hello, world!\n",
            "Comments:\n",
            "Comment by Charlie: Great post!\n",
            "\n",
            "\n",
            "\n",
            "User: Bob\n",
            "Posts:\n",
            "Post by Bob: Nice day today.\n",
            "Comments:\n",
            "Comment by David: I agree!\n"
          ]
        }
      ],
      "source": [
        "class Comment:\n",
        "    def __init__(self, text, author):\n",
        "        self.text = text\n",
        "        self.author = author\n",
        "\n",
        "    def __str__(self):\n",
        "        return f\"Comment by {self.author}: {self.text}\"\n",
        "\n",
        "class Post:\n",
        "    def __init__(self, text, author, comments=None):\n",
        "        self.text = text\n",
        "        self.author = author\n",
        "        self.comments = comments or []\n",
        "\n",
        "    def add_comment(self, comment):\n",
        "        self.comments.append(comment)\n",
        "\n",
        "    def __str__(self):\n",
        "        comments_list = \"\\n\".join([str(comment) for comment in self.comments])\n",
        "        return f\"Post by {self.author}: {self.text}\\nComments:\\n{comments_list}\"\n",
        "\n",
        "class User:\n",
        "    def __init__(self, username, posts=None):\n",
        "        self.username = username\n",
        "        self.posts = posts or []\n",
        "\n",
        "    def create_post(self, text):\n",
        "        post = Post(text, self.username)\n",
        "        self.posts.append(post)\n",
        "        return post\n",
        "\n",
        "    def __str__(self):\n",
        "        posts_list = \"\\n\\n\".join([str(post) for post in self.posts])\n",
        "        return f\"User: {self.username}\\nPosts:\\n{posts_list}\"\n",
        "\n",
        "# Example usage\n",
        "if __name__ == \"__main__\":\n",
        "    user1 = User(\"Alice\")\n",
        "    user2 = User(\"Bob\")\n",
        "\n",
        "    post1 = user1.create_post(\"Hello, world!\")\n",
        "    post2 = user2.create_post(\"Nice day today.\")\n",
        "\n",
        "    comment1 = Comment(\"Great post!\", \"Charlie\")\n",
        "    comment2 = Comment(\"I agree!\", \"David\")\n",
        "    post1.add_comment(comment1)\n",
        "    post2.add_comment(comment2)\n",
        "\n",
        "    print(user1)\n",
        "    print(\"\\n\\n\")\n",
        "    print(user2)\n"
      ]
    },
    {
      "cell_type": "code",
      "execution_count": null,
      "metadata": {
        "id": "DxopxkU6xkiX"
      },
      "outputs": [],
      "source": []
    }
  ],
  "metadata": {
    "colab": {
      "provenance": [],
      "include_colab_link": true
    },
    "kernelspec": {
      "display_name": "Python 3 (ipykernel)",
      "language": "python",
      "name": "python3"
    },
    "language_info": {
      "codemirror_mode": {
        "name": "ipython",
        "version": 3
      },
      "file_extension": ".py",
      "mimetype": "text/x-python",
      "name": "python",
      "nbconvert_exporter": "python",
      "pygments_lexer": "ipython3",
      "version": "3.11.5"
    }
  },
  "nbformat": 4,
  "nbformat_minor": 0
}