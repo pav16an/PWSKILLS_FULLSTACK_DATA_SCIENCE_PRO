{
  "cells": [
    {
      "cell_type": "markdown",
      "metadata": {
        "id": "view-in-github",
        "colab_type": "text"
      },
      "source": [
        "<a href=\"https://colab.research.google.com/github/pav16an/PWSKILLS_FULLSTACK_DATA_SCIENCE_PRO/blob/main/Recursion_Assignment__6th_nov.ipynb\" target=\"_parent\"><img src=\"https://colab.research.google.com/assets/colab-badge.svg\" alt=\"Open In Colab\"/></a>"
      ]
    },
    {
      "cell_type": "markdown",
      "id": "9b826830-d6d4-4ac4-8cf9-970b2e31081b",
      "metadata": {
        "id": "9b826830-d6d4-4ac4-8cf9-970b2e31081b"
      },
      "source": [
        "## Q.1 Can you explain the logic and working of the Tower of Hanoi algorithm by writing a Java program?  How does the recursion work, and how are the movements of disks between rods accomplished?"
      ]
    },
    {
      "cell_type": "markdown",
      "id": "43100ce2-b949-4352-bb2b-b9df7349475c",
      "metadata": {
        "id": "43100ce2-b949-4352-bb2b-b9df7349475c"
      },
      "source": [
        "def move_disks(n, source, destination, auxiliary):\n",
        "    if n == 1:\n",
        "        print(f\"Move disk 1 from rod {source} to rod {destination}\")\n",
        "        return\n",
        "    move_disks(n - 1, source, auxiliary, destination)\n",
        "    print(f\"Move disk {n} from rod {source} to rod {destination}\")\n",
        "    move_disks(n - 1, auxiliary, destination, source)\n",
        "\n",
        "def tower_of_hanoi(num_disks):\n",
        "    move_disks(num_disks, 'A', 'C', 'B')\n",
        "\n",
        "# Example usage:\n",
        "num_disks = 3\n",
        "tower_of_hanoi(num_disks)\n"
      ]
    },
    {
      "cell_type": "markdown",
      "id": "a8aa928d-4f0b-4be7-9735-244c31d02713",
      "metadata": {
        "id": "a8aa928d-4f0b-4be7-9735-244c31d02713"
      },
      "source": [
        "## Q.2 Given two strings word1 and word2, return the minimum number of operations required to convert word1  to word2."
      ]
    },
    {
      "cell_type": "code",
      "execution_count": null,
      "id": "766dcbe9-e565-41bb-9473-48ab0debee38",
      "metadata": {
        "id": "766dcbe9-e565-41bb-9473-48ab0debee38",
        "outputId": "9433bfe1-fe9e-43b5-c503-99c095582662"
      },
      "outputs": [
        {
          "name": "stdout",
          "output_type": "stream",
          "text": [
            "3\n"
          ]
        }
      ],
      "source": [
        "def minDistance(word1, word2):\n",
        "    m = len(word1)\n",
        "    n = len(word2)\n",
        "\n",
        "    # Create a table to store the minimum number of operations required to convert\n",
        "    # word1[:i] to word2[:j]\n",
        "    dp = [[0] * (n + 1) for _ in range(m + 1)]\n",
        "\n",
        "    # Initialize the table for the base cases:\n",
        "    # When word1 is empty, we need to perform n insertions to convert it to word2\n",
        "    for j in range(1, n + 1):\n",
        "        dp[0][j] = j\n",
        "\n",
        "    # When word2 is empty, we need to perform m deletions to convert word1 to an empty string\n",
        "    for i in range(1, m + 1):\n",
        "        dp[i][0] = i\n",
        "\n",
        "    # Fill in the table using dynamic programming\n",
        "    for i in range(1, m + 1):\n",
        "        for j in range(1, n + 1):\n",
        "            # If the characters are the same, no operation needed, so take the value diagonally left-up\n",
        "            if word1[i - 1] == word2[j - 1]:\n",
        "                dp[i][j] = dp[i - 1][j - 1]\n",
        "            else:\n",
        "                # Otherwise, we choose the minimum of the three possible operations:\n",
        "                # 1. Insertion: dp[i][j - 1] + 1\n",
        "                # 2. Deletion: dp[i - 1][j] + 1\n",
        "                # 3. Substitution: dp[i - 1][j - 1] + 1\n",
        "                dp[i][j] = min(dp[i][j - 1], dp[i - 1][j], dp[i - 1][j - 1]) + 1\n",
        "\n",
        "    # The minimum number of operations required to convert word1 to word2 is stored in dp[m][n]\n",
        "    return dp[m][n]\n",
        "\n",
        "# Example usage:\n",
        "word1 = \"horse\"\n",
        "word2 = \"ros\"\n",
        "print(minDistance(word1, word2))  # Output: 3\n"
      ]
    },
    {
      "cell_type": "markdown",
      "id": "b0ab07de-704b-4203-91b3-fbdaf1f36265",
      "metadata": {
        "id": "b0ab07de-704b-4203-91b3-fbdaf1f36265"
      },
      "source": [
        "## Q. 3 Print the max value of the array [ 13, 1, -3, 22, 5]."
      ]
    },
    {
      "cell_type": "code",
      "execution_count": null,
      "id": "cb054981-ea58-4a0b-9bd0-238d1084eefb",
      "metadata": {
        "id": "cb054981-ea58-4a0b-9bd0-238d1084eefb",
        "outputId": "231084f1-e905-4c1b-e33f-5150003bfb27"
      },
      "outputs": [
        {
          "name": "stdout",
          "output_type": "stream",
          "text": [
            "22\n",
            "22\n"
          ]
        }
      ],
      "source": [
        "#1st way\n",
        "array=[ 13, 1, -3, 22, 5]\n",
        "print(max(array))\n",
        "\n",
        "#2nd way\n",
        "def maxval(array):\n",
        "    if len(array) <= 1:\n",
        "        return array\n",
        "\n",
        "    temp = 0\n",
        "\n",
        "    for i in range(1,len(array)):\n",
        "            if array[i] > temp:\n",
        "                temp=array[i]\n",
        "\n",
        "    return temp\n",
        "\n",
        "print(maxval([ 13, 1, -3, 22, 5]))"
      ]
    },
    {
      "cell_type": "markdown",
      "id": "d95b92b9-4b08-474a-a31e-0c3a3394454e",
      "metadata": {
        "id": "d95b92b9-4b08-474a-a31e-0c3a3394454e"
      },
      "source": [
        "## Q.4 Find the sum of the values of the array [92, 23, 15, -20, 10]."
      ]
    },
    {
      "cell_type": "code",
      "execution_count": null,
      "id": "89691595-e3de-4807-9d8f-ab3c806cdcb4",
      "metadata": {
        "id": "89691595-e3de-4807-9d8f-ab3c806cdcb4",
        "outputId": "479c793c-7e94-48d5-ddf1-ef3fd70533f5"
      },
      "outputs": [
        {
          "data": {
            "text/plain": [
              "120"
            ]
          },
          "execution_count": 66,
          "metadata": {},
          "output_type": "execute_result"
        }
      ],
      "source": [
        "def sum_of_values(array):\n",
        "    if len(array) < 1:\n",
        "        return array\n",
        "    val=0\n",
        "    for i in range(len(array)):\n",
        "        val+=array[i]\n",
        "    return val\n",
        "\n",
        "sum_of_values([92, 23, 15, -20, 10])"
      ]
    },
    {
      "cell_type": "markdown",
      "id": "4988d80c-2ffb-44f9-a5df-cfa7094dd0bc",
      "metadata": {
        "id": "4988d80c-2ffb-44f9-a5df-cfa7094dd0bc"
      },
      "source": [
        "## Q.5 Given a number n. Print if it is an armstrong number or not.An armstrong number is a number if the sum of every digit in that number raised to the power of total digits in that number is equal to the number."
      ]
    },
    {
      "cell_type": "code",
      "execution_count": null,
      "id": "7629c598-d295-446d-97c3-28bf4ade153f",
      "metadata": {
        "id": "7629c598-d295-446d-97c3-28bf4ade153f",
        "outputId": "6ae2f2e4-a3d1-4c53-d462-3f35f75b225a"
      },
      "outputs": [
        {
          "name": "stdin",
          "output_type": "stream",
          "text": [
            "Enter a number:  153\n"
          ]
        },
        {
          "name": "stdout",
          "output_type": "stream",
          "text": [
            "153 is an Armstrong number.\n"
          ]
        }
      ],
      "source": [
        "def count_digits(n):\n",
        "    if n == 0:\n",
        "        return 0\n",
        "    return 1 + count_digits(n // 10)\n",
        "\n",
        "def is_armstrong_recursive(n, num_digits):\n",
        "    if n == 0:\n",
        "        return 0\n",
        "    return (n % 10) ** num_digits + is_armstrong_recursive(n // 10, num_digits)\n",
        "\n",
        "def is_armstrong(n):\n",
        "    num_digits = count_digits(n)\n",
        "    return n == is_armstrong_recursive(n, num_digits)\n",
        "\n",
        "# Example usage:\n",
        "number = int(input(\"Enter a number: \"))\n",
        "if is_armstrong(number):\n",
        "    print(number, \"is an Armstrong number.\")\n",
        "else:\n",
        "    print(number, \"is not an Armstrong number.\")\n"
      ]
    },
    {
      "cell_type": "code",
      "execution_count": null,
      "id": "bdd1adaa-5d5c-492f-9c0c-b7ed1d88971e",
      "metadata": {
        "id": "bdd1adaa-5d5c-492f-9c0c-b7ed1d88971e",
        "outputId": "2db894f5-4e63-4452-fc8e-84e31e5db77c"
      },
      "outputs": [
        {
          "data": {
            "text/plain": [
              "5"
            ]
          },
          "execution_count": 5,
          "metadata": {},
          "output_type": "execute_result"
        }
      ],
      "source": []
    },
    {
      "cell_type": "markdown",
      "id": "bdfd0cdc-ef86-4c14-9092-5c48bc8cb5de",
      "metadata": {
        "id": "bdfd0cdc-ef86-4c14-9092-5c48bc8cb5de"
      },
      "source": []
    }
  ],
  "metadata": {
    "kernelspec": {
      "display_name": "Python 3 (ipykernel)",
      "language": "python",
      "name": "python3"
    },
    "language_info": {
      "codemirror_mode": {
        "name": "ipython",
        "version": 3
      },
      "file_extension": ".py",
      "mimetype": "text/x-python",
      "name": "python",
      "nbconvert_exporter": "python",
      "pygments_lexer": "ipython3",
      "version": "3.10.8"
    },
    "colab": {
      "provenance": [],
      "include_colab_link": true
    }
  },
  "nbformat": 4,
  "nbformat_minor": 5
}