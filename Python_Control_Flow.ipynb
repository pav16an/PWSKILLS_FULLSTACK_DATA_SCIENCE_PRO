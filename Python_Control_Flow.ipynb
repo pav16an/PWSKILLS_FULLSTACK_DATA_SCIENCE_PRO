{
  "nbformat": 4,
  "nbformat_minor": 0,
  "metadata": {
    "colab": {
      "provenance": [],
      "include_colab_link": true
    },
    "kernelspec": {
      "name": "python3",
      "display_name": "Python 3"
    },
    "language_info": {
      "name": "python"
    }
  },
  "cells": [
    {
      "cell_type": "markdown",
      "metadata": {
        "id": "view-in-github",
        "colab_type": "text"
      },
      "source": [
        "<a href=\"https://colab.research.google.com/github/pav16an/PWSKILLS_FULLSTACK_DATA_SCIENCE_PRO/blob/main/Python_Control_Flow.ipynb\" target=\"_parent\"><img src=\"https://colab.research.google.com/assets/colab-badge.svg\" alt=\"Open In Colab\"/></a>"
      ]
    },
    {
      "cell_type": "markdown",
      "source": [
        "# Basic If-Else Statements:"
      ],
      "metadata": {
        "id": "i__BVwc4oLy9"
      }
    },
    {
      "cell_type": "markdown",
      "source": [
        "### 1. Write a Python program to check if a given number is positive or negative."
      ],
      "metadata": {
        "id": "Sd3X9st6oRob"
      }
    },
    {
      "cell_type": "code",
      "source": [
        "n=int(input(\"enter the number:\"))\n",
        "if(n>0):\n",
        "  print(f\"The given number {n} is positive\")\n",
        "else:\n",
        "  print(f\"The give number {n} is negative\")"
      ],
      "metadata": {
        "colab": {
          "base_uri": "https://localhost:8080/"
        },
        "id": "B3hUb7JroaLg",
        "outputId": "3a5df835-6a88-4ba8-8e72-70a2e9ee4ccc"
      },
      "execution_count": null,
      "outputs": [
        {
          "output_type": "stream",
          "name": "stdout",
          "text": [
            "enter the number:3\n",
            "The given number 3 is positive\n"
          ]
        }
      ]
    },
    {
      "cell_type": "markdown",
      "source": [
        "### 2. Create a program that determines if a person is eligible to vote based on their age."
      ],
      "metadata": {
        "id": "Ouja2ONUpE_u"
      }
    },
    {
      "cell_type": "code",
      "source": [
        "age=int(input(\"Enter the age:\"))\n",
        "if(age<18):\n",
        "  print(\"The person is not elgible for vote\")\n",
        "else:\n",
        "  print(\"The person is elgible for vote\")"
      ],
      "metadata": {
        "colab": {
          "base_uri": "https://localhost:8080/"
        },
        "id": "4ES6G2b2pERG",
        "outputId": "951e3de0-779b-4afa-d39e-d7b15ad6a309"
      },
      "execution_count": null,
      "outputs": [
        {
          "output_type": "stream",
          "name": "stdout",
          "text": [
            "Enter the age:45\n",
            "The person is elgible for vote\n"
          ]
        }
      ]
    },
    {
      "cell_type": "markdown",
      "source": [
        "### 3. Develop a program to find the maximum of two numbers using if-else statements."
      ],
      "metadata": {
        "id": "NUXW8I34p14n"
      }
    },
    {
      "cell_type": "code",
      "source": [
        "a=int(input(\"Enter the number:\"))\n",
        "b=int(input(\"Enter the number:\"))\n",
        "if(a<b):\n",
        "  print(f\"number {b} is the maximum number than number {a}\")\n",
        "else:\n",
        "  print(f\"number {a} is the maximum number than number {b}\")"
      ],
      "metadata": {
        "colab": {
          "base_uri": "https://localhost:8080/"
        },
        "id": "rZM0ZVWep4cB",
        "outputId": "7f4330a1-ea7d-4ea8-adb7-8760f9a9adf1"
      },
      "execution_count": null,
      "outputs": [
        {
          "output_type": "stream",
          "name": "stdout",
          "text": [
            "Enter the number:33\n",
            "Enter the number:23\n",
            "number 33 is the maximum number than number 23\n"
          ]
        }
      ]
    },
    {
      "cell_type": "markdown",
      "source": [
        "### 4. Write a Python script to classify a given year as a leap year or not."
      ],
      "metadata": {
        "id": "KeF58yqAq3MZ"
      }
    },
    {
      "cell_type": "code",
      "source": [
        "year=int(input(\"Enter the year:\"))\n",
        "if year % 4 == 0 and year % 100 != 0:\n",
        "  print(f\"The year {year} is a leap year\")\n",
        "elif year % 400 == 0 and year % 100 == 0:\n",
        "  print(f\"The year {year} is a leap year\")\n",
        "else:\n",
        "  print(f\"The year {year} is not a leap year\")"
      ],
      "metadata": {
        "colab": {
          "base_uri": "https://localhost:8080/"
        },
        "id": "JnuJuf86q9N1",
        "outputId": "62b74325-ab3c-478b-85cd-062aea3d2252"
      },
      "execution_count": null,
      "outputs": [
        {
          "output_type": "stream",
          "name": "stdout",
          "text": [
            "Enter the year:2024\n",
            "The year 2024 is a leap year\n"
          ]
        }
      ]
    },
    {
      "cell_type": "markdown",
      "source": [
        "### 5. Create a program that checks whether a character is a vowel or a consonant."
      ],
      "metadata": {
        "id": "zEHBJI4OsbPX"
      }
    },
    {
      "cell_type": "code",
      "source": [
        "char=input(\"Enter the character:\")\n",
        "vowels=\"aeiouAEIOU\"\n",
        "if char in vowels:\n",
        "  print(\"The given character is a vowel\")\n",
        "else:\n",
        "  print(\"The given character is a consonant\")"
      ],
      "metadata": {
        "colab": {
          "base_uri": "https://localhost:8080/"
        },
        "id": "pF82Inc6sk-5",
        "outputId": "d35e3f75-ce79-47b7-f1cd-fc899eecc95f"
      },
      "execution_count": null,
      "outputs": [
        {
          "output_type": "stream",
          "name": "stdout",
          "text": [
            "Enter the character:d\n",
            "The given character is a consonant\n"
          ]
        }
      ]
    },
    {
      "cell_type": "markdown",
      "source": [
        "### 6. Implement a program to determine whether a given number is even or odd."
      ],
      "metadata": {
        "id": "KdLiEz1TtimS"
      }
    },
    {
      "cell_type": "code",
      "source": [
        "n=int(input(\"Enter the number:\"))\n",
        "if n % 2 == 0:\n",
        "  print(f\"The given number {n} is an even number\")\n",
        "else:\n",
        "  print(f\"The given number {n} is a odd number\")"
      ],
      "metadata": {
        "colab": {
          "base_uri": "https://localhost:8080/"
        },
        "id": "CMNnGk6btote",
        "outputId": "f08856fc-da5d-4cbc-b97c-0e4d71274383"
      },
      "execution_count": null,
      "outputs": [
        {
          "output_type": "stream",
          "name": "stdout",
          "text": [
            "Enter the number:22\n",
            "The given number 22 is an even number\n"
          ]
        }
      ]
    },
    {
      "cell_type": "markdown",
      "source": [
        "### 7. Write a Python function to calculate the absolute value of a number without using the `abs()` function."
      ],
      "metadata": {
        "id": "54F3nh_YuE1o"
      }
    },
    {
      "cell_type": "code",
      "source": [
        "n=int(input(\"Enter the number:\"))\n",
        "if(n<0):\n",
        "  print(f\"The absolute number of the {n} is\",-(n))\n",
        "else:\n",
        "  print(f\"The absolute number of the number is{n} is {n}\")\n"
      ],
      "metadata": {
        "colab": {
          "base_uri": "https://localhost:8080/"
        },
        "id": "a5id4ZEwuOmk",
        "outputId": "b41e424a-5705-4a88-ac42-b3612324d341"
      },
      "execution_count": null,
      "outputs": [
        {
          "output_type": "stream",
          "name": "stdout",
          "text": [
            "Enter the number:-4\n",
            "The absolute number of the -4 is 4\n"
          ]
        }
      ]
    },
    {
      "cell_type": "markdown",
      "source": [
        "### 8. Develop a program that determines the largest of three given numbers using if-else statements."
      ],
      "metadata": {
        "id": "Y-lxLjnVwbxa"
      }
    },
    {
      "cell_type": "code",
      "source": [
        "a=input(\"Enter the first number:\")\n",
        "b=input(\"Enter the second number:\")\n",
        "c=input(\"Enter the third number:\")\n",
        "if a > b and a > c :\n",
        "  print(f\"{a} is the largest number than {b} and {c}\")\n",
        "elif b > c :\n",
        "  print(f\"{b} is the largest number than {a} and {c}\")\n",
        "else:\n",
        "  print(f\"{c} is the largest number than {a} and {b}\")"
      ],
      "metadata": {
        "colab": {
          "base_uri": "https://localhost:8080/"
        },
        "id": "GtEDX6Vmwe3j",
        "outputId": "af7882ae-9098-4843-d095-f6e46d4d4886"
      },
      "execution_count": null,
      "outputs": [
        {
          "output_type": "stream",
          "name": "stdout",
          "text": [
            "Enter the first number:23\n",
            "Enter the second number:45\n",
            "Enter the third number:33\n",
            "45 is the largest number than 23 and 33\n"
          ]
        }
      ]
    },
    {
      "cell_type": "markdown",
      "source": [
        "### 9. Create a program that checks if a given string is a palindrome."
      ],
      "metadata": {
        "id": "wY44ldEEz10z"
      }
    },
    {
      "cell_type": "code",
      "source": [
        "string=input(\"Enter the string:\")\n",
        "if string==string[::-1]:\n",
        "  print(f\"The string {string} is a palindrome\")\n",
        "else:\n",
        "  print(f\"The string {string} is not a palindrome\")"
      ],
      "metadata": {
        "colab": {
          "base_uri": "https://localhost:8080/"
        },
        "id": "tEodx9Ggz6QJ",
        "outputId": "b7513102-4efd-4eb1-ef74-ce617f2bccf4"
      },
      "execution_count": null,
      "outputs": [
        {
          "output_type": "stream",
          "name": "stdout",
          "text": [
            "Enter the string:malayalam\n",
            "The string malayalam is a palindrome\n"
          ]
        }
      ]
    },
    {
      "cell_type": "markdown",
      "source": [
        "### 10. Write a Python program to calculate the grade based on a student's score."
      ],
      "metadata": {
        "id": "Ae5qk0810h2Y"
      }
    },
    {
      "cell_type": "code",
      "source": [
        "score=int(input(\"Enter the number:\"))\n",
        "if score > 90:\n",
        "  print(\"The grade of a student is A+\")\n",
        "elif score > 80:\n",
        "  print(\"The grade of a student is A\")\n",
        "elif score > 70:\n",
        "  print(\"The grade of a student is B\")\n",
        "elif score > 60:\n",
        "  print(\"The grade of a student is c\")\n",
        "else:\n",
        "  print(\"The grade of a student is F\")"
      ],
      "metadata": {
        "colab": {
          "base_uri": "https://localhost:8080/"
        },
        "id": "UvWVt1lx0t5X",
        "outputId": "bc321084-cff5-4d81-ee48-81cc0576a6e9"
      },
      "execution_count": null,
      "outputs": [
        {
          "output_type": "stream",
          "name": "stdout",
          "text": [
            "Enter the number:97\n",
            "The grade of a student is A+\n"
          ]
        }
      ]
    },
    {
      "cell_type": "markdown",
      "source": [
        "# Nested If-Else Statements:"
      ],
      "metadata": {
        "id": "O1O4lxsnFCAh"
      }
    },
    {
      "cell_type": "markdown",
      "source": [
        "### 11. Write a program to find the largest among three numbers using nested if-else statements."
      ],
      "metadata": {
        "id": "mk7o5GfBFHBR"
      }
    },
    {
      "cell_type": "code",
      "source": [
        "a=int(input(\"Enter the  number:\"))\n",
        "b=int(input(\"Enter the number:\"))\n",
        "c=int(input(\"Enter the number:\"))\n",
        "if a > b:\n",
        "  if a > c:\n",
        "    print(f\"{a} is greater than the number {b} and {c}\")\n",
        "  else:\n",
        "    print(f\"{c} is greater than the number {a} and {b} \")\n",
        "elif b > c :\n",
        "  print(f\"{b} is greater than the numer {a} and {c}\")\n",
        "else:\n",
        "  print(f\"{c} is greater  than the number than {a} and {b}\")\n"
      ],
      "metadata": {
        "colab": {
          "base_uri": "https://localhost:8080/"
        },
        "id": "1-8tSkEvIEzf",
        "outputId": "fc3405d4-028b-4cda-cc5b-8fe167345056"
      },
      "execution_count": null,
      "outputs": [
        {
          "output_type": "stream",
          "name": "stdout",
          "text": [
            "Enter the  number:33\n",
            "Enter the number:45\n",
            "Enter the number:97\n",
            "97 is greater  than the number than 33 and 45\n"
          ]
        }
      ]
    },
    {
      "cell_type": "markdown",
      "source": [
        "### 12. Implement a program to determine if a triangle is equilateral, isosceles, or scalene."
      ],
      "metadata": {
        "id": "DvM7SjUsJ1gq"
      }
    },
    {
      "cell_type": "code",
      "source": [
        "A = int(input(\" enter 1st side length : \"))\n",
        "B = int(input(\"enter 2nd side length : \"))\n",
        "C = int(input(\"enter 3rd side length : \"))\n",
        "\n",
        "if A == B :\n",
        "    if A == C :\n",
        "        print(f\"Given sides all are equal , so it is a 'Equilateral Triangle'. \")\n",
        "    else :\n",
        "        print(f\"Two sides are equal , so it is a 'Isosceles Triangle'. \")\n",
        "elif B == C or A == C:\n",
        "\n",
        "    print(f\"Two sides are equal , so it is a 'Isosceles Triangle'. \")\n",
        "\n",
        "else:\n",
        "    print(\"All sides are not equal , so it is a 'Scalene Triangle'.\")"
      ],
      "metadata": {
        "colab": {
          "base_uri": "https://localhost:8080/"
        },
        "id": "bB87VkbpJ69W",
        "outputId": "343b522d-7f35-4632-90f8-55ded5d65672"
      },
      "execution_count": null,
      "outputs": [
        {
          "output_type": "stream",
          "name": "stdout",
          "text": [
            " enter 1st side length : 23\n",
            "enter 2nd side length : 23\n",
            "enter 3rd side length : 56\n",
            "Two sides are equal , so it is a 'Isosceles Triangle'. \n"
          ]
        }
      ]
    },
    {
      "cell_type": "markdown",
      "source": [
        "## 13. Develop a program that checks if a year is a leap year and also if it is a century year."
      ],
      "metadata": {
        "id": "kunOZvhBKX9s"
      }
    },
    {
      "cell_type": "code",
      "source": [
        "year = int(input(\"Enter year : \"))\n",
        "\n",
        "if year % 4 == 0 and year % 100 != 0 :\n",
        "    print(f\"'{year}' year is a leap year but it is not a Century year.\")\n",
        "\n",
        "elif year % 400 == 0 and year % 100 == 0 :\n",
        "    print(f\" '{year}' year is a leap year and also it is a Century year\")\n",
        "\n",
        "else:\n",
        "    if year % 100 == 0 :\n",
        "        print(f\" '{year}' year is not a leap year but it is a Century year.\")\n",
        "    else:\n",
        "        print(f\" '{year}' year is not a leap year and also it is not a Century year.\")"
      ],
      "metadata": {
        "colab": {
          "base_uri": "https://localhost:8080/"
        },
        "id": "MFeIzxtBKmaQ",
        "outputId": "aaa29fa2-8429-4987-9b94-1c33004eb9fc"
      },
      "execution_count": null,
      "outputs": [
        {
          "output_type": "stream",
          "name": "stdout",
          "text": [
            "Enter year : 2020\n",
            "'2020' year is a leap year but it is not a Century year.\n"
          ]
        }
      ]
    },
    {
      "cell_type": "markdown",
      "source": [
        "### 14. Write a Python script to determine if a number is positive, negative, or zero."
      ],
      "metadata": {
        "id": "Hmjbl-QpKuDM"
      }
    },
    {
      "cell_type": "code",
      "source": [
        "\n",
        "number = float(input(\"Enter a number: \"))\n",
        "if number > 0:\n",
        "    print(\"The number is positive.\")\n",
        "elif number < 0:\n",
        "    print(\"The number is negative.\")\n",
        "else:\n",
        "    print(\"The number is zero.\")\n"
      ],
      "metadata": {
        "colab": {
          "base_uri": "https://localhost:8080/"
        },
        "id": "1cbWjJWOKtgP",
        "outputId": "3699a8e7-f559-48cd-a02e-feb5090af201"
      },
      "execution_count": null,
      "outputs": [
        {
          "output_type": "stream",
          "name": "stdout",
          "text": [
            "Enter a number: -3\n",
            "The number is negative.\n"
          ]
        }
      ]
    },
    {
      "cell_type": "markdown",
      "source": [
        "### 15. Create a program to check if a person is a teenager (between 13 and 19 years old)."
      ],
      "metadata": {
        "id": "X_8ZhpbYLID0"
      }
    },
    {
      "cell_type": "code",
      "source": [
        "age=int(input(\"Enter age:\"))\n",
        "if age <= 18:\n",
        "  if age >= 13:\n",
        "    print(\"The person is a teenager\")\n",
        "  else:\n",
        "    print(\"The person is not a teenager\")\n",
        "else:\n",
        "  print(\"The person is not a teenager\")"
      ],
      "metadata": {
        "colab": {
          "base_uri": "https://localhost:8080/"
        },
        "id": "bxSUlJlSLM00",
        "outputId": "37767279-da13-4e6f-87e8-24fcd22ebc18"
      },
      "execution_count": null,
      "outputs": [
        {
          "output_type": "stream",
          "name": "stdout",
          "text": [
            "Enter age:15\n",
            "The person is a teenager\n"
          ]
        }
      ]
    },
    {
      "cell_type": "markdown",
      "source": [
        "### 16. Develop a program that determines the type of angle based on its measure (acute, obtuse, or right)."
      ],
      "metadata": {
        "id": "IIvaoZbmL18Z"
      }
    },
    {
      "cell_type": "code",
      "source": [
        "angle = int(input(\"enter length of a angle : \"))\n",
        "\n",
        "if angle < 90:\n",
        "    print(\"This is a acute angle.\")\n",
        "\n",
        "elif angle > 90 :\n",
        "    print(\"This is obtuse angle.\")\n",
        "\n",
        "else:\n",
        "    print(\"This is a right angle.\")"
      ],
      "metadata": {
        "colab": {
          "base_uri": "https://localhost:8080/"
        },
        "id": "gE8zO_KFL-QY",
        "outputId": "c1a80d70-3ebf-4719-c9f0-34a33cc71229"
      },
      "execution_count": null,
      "outputs": [
        {
          "output_type": "stream",
          "name": "stdout",
          "text": [
            "enter length of a angle : 90\n",
            "This is a right angle.\n"
          ]
        }
      ]
    },
    {
      "cell_type": "markdown",
      "source": [
        "### 17. Write a Python program to calculate the roots of a quadratic equation."
      ],
      "metadata": {
        "id": "wpWzn_XWMGod"
      }
    },
    {
      "cell_type": "code",
      "source": [
        "import math\n",
        "coefficient_of_a = float(input(\"enter coefficient of a : \"))\n",
        "coefficient_of_b = float(input(\"enter coefficient of b : \"))\n",
        "coefficient_of_c = float(input(\"enter coefficient of c : \"))\n",
        "\n",
        "print(\"Entered equation is : \")\n",
        "print(f\"{coefficient_of_a} X`2 + {coefficient_of_b} Y`2 + {coefficient_of_c} = 0\")\n",
        "\n",
        "a = coefficient_of_a\n",
        "b = coefficient_of_b\n",
        "c = coefficient_of_c\n",
        "\n",
        "dis = b ** 2 - 4 * a * c\n",
        "sqrt_val = math.sqrt(abs(dis))\n",
        "\n",
        "if dis > 0 :\n",
        "    print(\"real and different roots \")\n",
        "    print((-b + sqrt_val)/ (2 * a))\n",
        "    print((-b - sqrt_val) / (2 * a))\n",
        "\n",
        "elif dis == 0 :\n",
        "    print(\"real and same roots\")\n",
        "    print(-b/(2 * a))\n",
        "\n",
        "else:\n",
        "    print(\"complex roots\")\n",
        "    print(-b / (2*a) , \"+ i\", sqrt_val)\n",
        "    print(-b / (2*a) , \"- i\" , sqrt_val)"
      ],
      "metadata": {
        "colab": {
          "base_uri": "https://localhost:8080/"
        },
        "id": "P2_XU9pLMMX6",
        "outputId": "0958fba6-dfe4-4626-ec68-caf36eca84fa"
      },
      "execution_count": null,
      "outputs": [
        {
          "output_type": "stream",
          "name": "stdout",
          "text": [
            "enter coefficient of a : 2\n",
            "enter coefficient of b : 4\n",
            "enter coefficient of c : 8\n",
            "Entered equation is : \n",
            "2.0 X`2 + 4.0 Y`2 + 8.0 = 0\n",
            "complex roots\n",
            "-1.0 + i 6.928203230275509\n",
            "-1.0 - i 6.928203230275509\n"
          ]
        }
      ]
    },
    {
      "cell_type": "markdown",
      "source": [
        "### 18. Implement a program to determine the day of the week based on a user-provided number (1 for Monday, 2 for Tuesday, etc.).\n"
      ],
      "metadata": {
        "id": "YGn4AfaSNeTq"
      }
    },
    {
      "cell_type": "code",
      "source": [
        "number = int(input(\"enter number : \"))\n",
        "\n",
        "if number == 1 :\n",
        "    print(\"Monday\")\n",
        "elif number == 2 :\n",
        "    print(\"Tuesday\")\n",
        "elif number == 3 :\n",
        "    print(\"Wednesday\")\n",
        "elif number == 4 :\n",
        "    print(\"Thursday\")\n",
        "elif number == 5 :\n",
        "    print(\"Friday\")\n",
        "elif number == 6 :\n",
        "    print(\"Saturday\")\n",
        "elif number == 7 :\n",
        "    print(\"Sunday\")\n",
        "else:\n",
        "    print(\"Enter number between 1 to 7.\")"
      ],
      "metadata": {
        "colab": {
          "base_uri": "https://localhost:8080/"
        },
        "id": "kKa4lMtyNnCH",
        "outputId": "886b0b3f-6930-4048-ba21-c03d2505e5d3"
      },
      "execution_count": null,
      "outputs": [
        {
          "output_type": "stream",
          "name": "stdout",
          "text": [
            "enter number : 3\n",
            "Wednesday\n"
          ]
        }
      ]
    },
    {
      "cell_type": "markdown",
      "source": [
        "### 19. Create a program that determines if a year is a leap year and also if it is evenly divisible by 400."
      ],
      "metadata": {
        "id": "Ko6PlHjvOMvv"
      }
    },
    {
      "cell_type": "code",
      "source": [
        "year= int(input(\"Enter the number:\"))\n",
        "if year % 4 ==0 and year % 100 != 0:\n",
        "  print(f\"{year} is a leap year and not divisible by 400\")\n",
        "elif year % 400 ==0 and year % 100 ==0 :\n",
        "  print(f\"{year} is a leap year it is divisible by 400\")\n",
        "else:\n",
        "  if year % 400 ==0 :\n",
        "    print(f\"{year} is a leap year and it is divisible by 400\")\n",
        "  else:\n",
        "    print(f\"{year} is a leap year and it is not divisible by 400\")"
      ],
      "metadata": {
        "colab": {
          "base_uri": "https://localhost:8080/"
        },
        "id": "zklq0X24PNtB",
        "outputId": "cba699cd-7b58-4ea7-810b-3d4ca8ebaa5d"
      },
      "execution_count": null,
      "outputs": [
        {
          "output_type": "stream",
          "name": "stdout",
          "text": [
            "Enter the number:2000\n",
            "2000 is a leap year it is divisible by 400\n"
          ]
        }
      ]
    },
    {
      "cell_type": "markdown",
      "source": [
        "### 20. Develop a program that checks if a given number is prime or not using nested if-else statements."
      ],
      "metadata": {
        "id": "AcTlBi2uRNRp"
      }
    },
    {
      "cell_type": "code",
      "source": [
        "n=int(input(\"Enter the number:\"))\n",
        "if n <=1:\n",
        "  print(\"number is not a prime number\")\n",
        "elif n==2:\n",
        "  print(\"number is a prime number\")\n",
        "\n",
        "else:\n",
        "  is_prime=True\n",
        "  for i in range(2,int(n**0.5)+1):\n",
        "    if n%i ==0:\n",
        "      print(\"number is not a prime number\")\n",
        "      is_prime=False\n",
        "      break\n",
        "if is_prime:\n",
        "  print(f\"{n} is a prime number\")\n",
        "else:\n",
        "  print(f\"{n} is not a prime number\")\n"
      ],
      "metadata": {
        "colab": {
          "base_uri": "https://localhost:8080/"
        },
        "id": "ohvh9yImRTH6",
        "outputId": "7b144403-a298-4076-b0ff-027f7b54696e"
      },
      "execution_count": null,
      "outputs": [
        {
          "output_type": "stream",
          "name": "stdout",
          "text": [
            "Enter the number:17\n",
            "17 is a prime number\n"
          ]
        }
      ]
    },
    {
      "cell_type": "markdown",
      "source": [
        "# Elif Statements:\n"
      ],
      "metadata": {
        "id": "GbOvbKv-VPkM"
      }
    },
    {
      "cell_type": "markdown",
      "source": [
        "### 21. Write a Python program to assign grades based on different ranges of scores using elif statements."
      ],
      "metadata": {
        "id": "QcCWLIuLYKP_"
      }
    },
    {
      "cell_type": "code",
      "source": [
        "score=int(input(\"Enter the number:\"))\n",
        "if score > 90:\n",
        "  print(\"The grade of a student is A+\")\n",
        "elif score > 80:\n",
        "  print(\"The grade of a student is A\")\n",
        "elif score > 70:\n",
        "  print(\"The grade of a student is B\")\n",
        "elif score > 60:\n",
        "  print(\"The grade of a student is C\")\n",
        "elif score > 50:\n",
        "  print(\"The grade of a student is D\")\n",
        "elif score >40:\n",
        "  print(\"The grade of a student is E\")\n",
        "else:\n",
        "  print(\"The grade of a student is F\")"
      ],
      "metadata": {
        "colab": {
          "base_uri": "https://localhost:8080/"
        },
        "id": "7DBXFj3lxlAG",
        "outputId": "3bb08305-f1c0-428c-d804-8e3eb49ecfa2"
      },
      "execution_count": null,
      "outputs": [
        {
          "output_type": "stream",
          "name": "stdout",
          "text": [
            "Enter the number:75\n",
            "The grade of a student is B\n"
          ]
        }
      ]
    },
    {
      "cell_type": "markdown",
      "source": [
        "### 22. Implement a program to determine the type of a triangle based on its angles."
      ],
      "metadata": {
        "id": "VEjncdTayTWR"
      }
    },
    {
      "cell_type": "code",
      "source": [
        "angle1 = int(input(\"enter first angle : \"))\n",
        "angle2 = int(input(\"enter second angle : \"))\n",
        "angle3 = int(input(\"enter third angle : \"))\n",
        "\n",
        "if angle1 + angle2 + angle3 == 180 :\n",
        "    if angle1 == 90 or angle2 == 90 or angle3 == 90 :\n",
        "        print(\"the triangle is classified as : Right-angled Triangle.\")\n",
        "    elif angle1 == angle2 == angle3 :\n",
        "        print(\"The triangle is classified as : Equilateral Triangle.\")\n",
        "    elif angle1 > 90 or angle2 > 90 or angle3 > 90:\n",
        "        print(\"The Triangle is classified as : Obtuse-angled triangle\")\n",
        "    else:\n",
        "        print(\"The Triangle is classified as : Actue-angled triangle\")\n",
        "else:\n",
        "    print(\"Invalid Triangle - sum of angles must be 180 degrees.\")"
      ],
      "metadata": {
        "id": "iJyWBHKZyaej",
        "colab": {
          "base_uri": "https://localhost:8080/"
        },
        "outputId": "46b2c61b-8666-4ee2-cda3-293c817d803a"
      },
      "execution_count": null,
      "outputs": [
        {
          "output_type": "stream",
          "name": "stdout",
          "text": [
            "enter first angle : 30\n",
            "enter second angle : 90\n",
            "enter third angle : 60\n",
            "the triangle is classified as : Right-angled Triangle.\n"
          ]
        }
      ]
    },
    {
      "cell_type": "markdown",
      "source": [
        "### 23. Develop a program to categorize a given person's BMI into underweight, normal, overweight, or obese using elif statements."
      ],
      "metadata": {
        "id": "O13Ld1F9nMwl"
      }
    },
    {
      "cell_type": "code",
      "source": [
        "weight = float(input(\"enter weight : \"))\n",
        "height_feet = float(input(\"enter height : \"))\n",
        "\n",
        "height = height_feet * 0.3048\n",
        "\n",
        "bmi = weight / ((height) ** 2)\n",
        "\n",
        "\n",
        "if bmi < 18.5 :\n",
        "    print(\"the person is in : 'Under weight'.\")\n",
        "\n",
        "elif 18.5 <= bmi <24.9 :\n",
        "    print(\"the person is in : 'Normal weight'.\")\n",
        "\n",
        "elif 24.9 <= bmi < 29.9 :\n",
        "    print(\"the person is in : 'Over weight'.\")\n",
        "\n",
        "else:\n",
        "    print(\"the person is in : 'Obese'.\")\n"
      ],
      "metadata": {
        "colab": {
          "base_uri": "https://localhost:8080/"
        },
        "id": "5thSIecenMb7",
        "outputId": "fd767dc8-c377-4758-fdb6-3801f4c9aba3"
      },
      "execution_count": null,
      "outputs": [
        {
          "output_type": "stream",
          "name": "stdout",
          "text": [
            "enter weight : 54\n",
            "enter height : 5.7\n",
            "the person is in : 'Under weight'.\n"
          ]
        }
      ]
    },
    {
      "cell_type": "markdown",
      "source": [
        "### 24. Create a program that determines whether a given number is positive, negative, or zero using elif statements."
      ],
      "metadata": {
        "id": "jtOzvywRniZB"
      }
    },
    {
      "cell_type": "code",
      "source": [
        "number=int(input(\"Enter the number:\"))\n",
        "if number == 0:\n",
        "  print(f\"{number} is zero\")\n",
        "\n",
        "elif number > 0:\n",
        "  print(f\"Given number {number} is a positive number\")\n",
        "else:\n",
        "  print(f\"Given {number} is a negative number\")"
      ],
      "metadata": {
        "colab": {
          "base_uri": "https://localhost:8080/"
        },
        "id": "TcQTSex2nnaA",
        "outputId": "b0d43164-2db3-49e1-f167-39326cf5b336"
      },
      "execution_count": null,
      "outputs": [
        {
          "output_type": "stream",
          "name": "stdout",
          "text": [
            "Enter the number:3\n",
            "Given number 3 is a positive number\n"
          ]
        }
      ]
    },
    {
      "cell_type": "markdown",
      "source": [
        "25. Write a Python script to determine the type of a character (uppercase, lowercase, or special) using elif statements."
      ],
      "metadata": {
        "id": "dIN3g8cgoydA"
      }
    },
    {
      "cell_type": "code",
      "source": [
        "char=input(\"Enter the character:\")\n",
        "upper_case=\"ABCDEFGHIJKLMNOPQRSTUVWXYZ\"\n",
        "lower_case=\"abcdefghijklmnopqrstuvwxyz\"\n",
        "if char in upper_case:\n",
        "  print(\"Character is in upper case\")\n",
        "elif char in lower_case:\n",
        "  print(\"Character is in lower case\")\n",
        "else:\n",
        "  print(\"Character is in special case\")"
      ],
      "metadata": {
        "colab": {
          "base_uri": "https://localhost:8080/"
        },
        "id": "CjhGP4j7oyDc",
        "outputId": "761e380d-30b7-4e11-f9f0-1e74589aca60"
      },
      "execution_count": null,
      "outputs": [
        {
          "output_type": "stream",
          "name": "stdout",
          "text": [
            "Enter the character:$\n",
            "Character is in special case\n"
          ]
        }
      ]
    },
    {
      "cell_type": "markdown",
      "source": [
        "### 26. Implement a program to calculate the discounted price based on different purchase amounts using elif statements."
      ],
      "metadata": {
        "id": "CJlJ4sp6pxq4"
      }
    },
    {
      "cell_type": "code",
      "source": [
        "amount = float(input(\"enter purchase amount : \"))\n",
        "\n",
        "if amount < 100 :\n",
        "    print(f\"the discount percentage is : 0% \")\n",
        "elif amount <500 :\n",
        "    print(\"the discount percentage is : 10%\")\n",
        "elif amount <1000 :\n",
        "    print(\"the discount percentage is : 20%\")\n",
        "else:\n",
        "    print(\"the discount percentage is : 30%\")"
      ],
      "metadata": {
        "colab": {
          "base_uri": "https://localhost:8080/"
        },
        "id": "xmmBLRjkpwuK",
        "outputId": "3f2f5318-e13c-4c0b-9054-c3d858da2d91"
      },
      "execution_count": null,
      "outputs": [
        {
          "output_type": "stream",
          "name": "stdout",
          "text": [
            "enter purchase amount : 600\n",
            "the discount percentage is : 20%\n"
          ]
        }
      ]
    },
    {
      "cell_type": "markdown",
      "source": [
        "### 27. Develop a program to calculate the electricity bill based on different consumption slabs using elif statements."
      ],
      "metadata": {
        "id": "Ff1BVtMfp-E5"
      }
    },
    {
      "cell_type": "code",
      "source": [
        "def calculate_electricity_bill(units_consumed):\n",
        "    # Define the electricity consumption slabs and rates\n",
        "    slab_limits = [100, 200, 300]\n",
        "    rates = [2.50, 3.00, 4.50, 5.00]\n",
        "\n",
        "    # Calculate the electricity bill based on consumption slabs\n",
        "    bill_amount = 0\n",
        "    remaining_units = units_consumed\n",
        "\n",
        "    for limit, rate in zip(slab_limits, rates):\n",
        "        if remaining_units <= limit:\n",
        "            bill_amount += remaining_units * rate\n",
        "            break\n",
        "        else:\n",
        "            bill_amount += limit * rate\n",
        "            remaining_units -= limit\n",
        "\n",
        "    return bill_amount\n",
        "\n",
        "# Example usage:\n",
        "units_consumed = float(input(\"Enter the units consumed: \"))\n",
        "electricity_bill = calculate_electricity_bill(units_consumed)\n",
        "print(f\"Electricity Bill: ${electricity_bill:.2f}\")"
      ],
      "metadata": {
        "colab": {
          "base_uri": "https://localhost:8080/"
        },
        "id": "7vWDKCZrqCJX",
        "outputId": "e1f819ec-2409-412e-bf96-9fc3523b79c5"
      },
      "execution_count": null,
      "outputs": [
        {
          "output_type": "stream",
          "name": "stdout",
          "text": [
            "Enter the units consumed: 566\n",
            "Electricity Bill: $2047.00\n"
          ]
        }
      ]
    },
    {
      "cell_type": "markdown",
      "source": [
        "###28. Create a program to determine the type of quadrilateral based on its angles and sides using elif statements."
      ],
      "metadata": {
        "id": "hC8Cqm8Gqd-b"
      }
    },
    {
      "cell_type": "code",
      "source": [
        "angle1 = int(input(\"enter 1st angle : \"))\n",
        "angle2 = int(input(\"enter 2nd angle : \"))\n",
        "angle3 = int(input(\"enter 3rd angle : \"))\n",
        "angle4 = int(input(\"enter 4th angle : \"))\n",
        "\n",
        "side1 = int(input(\"enter length of 1st side : \"))\n",
        "side2 = int(input(\"enter length of 2nd side : \"))\n",
        "side3 = int(input(\"enter length of 3rd side : \"))\n",
        "side4 = int(input(\"enter length of 4th side : \"))\n",
        "\n",
        "# Check for a valid quadrilateral (sum of interior angles is 360 degrees)\n",
        "if angle1 + angle2 + angle3 + angle4 != 360:\n",
        "    print(\"Invalid Quadrilateral\")\n",
        "\n",
        "# Check for different types of quadrilaterals based on angles and sides\n",
        "if angle1 == angle2 == angle3 == angle4 == 90:\n",
        "    print(\"Rectangle\")\n",
        "elif angle1 == angle2 == angle3 == angle4:\n",
        "    print(\"Rhombus\")\n",
        "elif angle1 == angle3 == 90 and angle2 == angle4 == 90:\n",
        "    print(\"Square\")\n",
        "elif angle1 == angle3 and angle2 == angle4 and side1 == side3 and side2 == side4:\n",
        "    print(\"Parallelogram\")\n",
        "else:\n",
        "    print(\"Quadrilateral\")"
      ],
      "metadata": {
        "colab": {
          "base_uri": "https://localhost:8080/"
        },
        "id": "igJ4e2tZqjZ1",
        "outputId": "efa5925d-9d80-4340-cb2a-e6cc73793901"
      },
      "execution_count": null,
      "outputs": [
        {
          "output_type": "stream",
          "name": "stdout",
          "text": [
            "enter 1st angle : 90\n",
            "enter 2nd angle : 45\n",
            "enter 3rd angle : 45\n",
            "enter 4th angle : 90\n",
            "enter length of 1st side : 30\n",
            "enter length of 2nd side : 56\n",
            "enter length of 3rd side : 30\n",
            "enter length of 4th side : 56\n",
            "Invalid Quadrilateral\n",
            "Quadrilateral\n"
          ]
        }
      ]
    },
    {
      "cell_type": "markdown",
      "source": [
        "### 29. Write a Python script to determine the season based on a user-provided month using elif statements."
      ],
      "metadata": {
        "id": "I0U_iTAlq5Su"
      }
    },
    {
      "cell_type": "code",
      "source": [
        "winter = [\"november\",\"december\",\"january\",\"february\"]\n",
        "summer = [\"march\",\"april\",\"may\",\"june\"]\n",
        "rainy = [\"july\",\"august\",\"september\",\"october\"]\n",
        "\n",
        "month = input(\"enter month name  : \").lower()\n",
        "\n",
        "if month in winter :\n",
        "    print(\"the entered month is in 'winter' season. \")\n",
        "elif month in summer:\n",
        "    print(\"the entered month is in 'summer' season. \")\n",
        "elif month in rainy :\n",
        "    print(\"the entered month is in 'rainy' season. \")\n",
        "else:\n",
        "    print(\"ERROR : please enter valid month name. \")"
      ],
      "metadata": {
        "colab": {
          "base_uri": "https://localhost:8080/"
        },
        "id": "DLr9xNkBq-z6",
        "outputId": "a4afbb0c-8ed8-434b-a3e4-dde968ce691f"
      },
      "execution_count": null,
      "outputs": [
        {
          "output_type": "stream",
          "name": "stdout",
          "text": [
            "enter month name  : october\n",
            "the entered month is in 'rainy' season. \n"
          ]
        }
      ]
    },
    {
      "cell_type": "markdown",
      "source": [
        "###30. Implement a program to determine the type of a year (leap or common) and month (30 or 31 days) using elif statements."
      ],
      "metadata": {
        "id": "Z5oFZbn6rIKk"
      }
    },
    {
      "cell_type": "code",
      "source": [
        "def is_leap_year(year):\n",
        "    # Check if a year is a leap year\n",
        "    if (year % 4 == 0 and year % 100 != 0) or (year % 400 == 0):\n",
        "        return True\n",
        "    else:\n",
        "        return False\n",
        "\n",
        "def days_in_month(month, year):\n",
        "    # Check the number of days in a month\n",
        "    if month in [1, 3, 5, 7, 8, 10, 12]:\n",
        "        return 31\n",
        "    elif month in [4, 6, 9, 11]:\n",
        "        return 30\n",
        "    elif month == 2:\n",
        "        return 29 if is_leap_year(year) else 28\n",
        "    else:\n",
        "        return -1  # Invalid month\n",
        "\n",
        "# Example usage:\n",
        "year = int(input(\"Enter the year: \"))\n",
        "month = int(input(\"Enter the month (1-12): \"))\n",
        "\n",
        "if 1 <= month <= 12\n",
        "    leap_year = is_leap_year(year)\n",
        "    days = days_in_month(month, year)\n",
        "\n",
        "    if leap_year:\n",
        "        print(f\"{year} is a leap year.\")\n",
        "    else:\n",
        "        print(f\"{year} is a common year.\")\n",
        "\n",
        "    if days != -1:\n",
        "        print(f\"The month {month} has {days} days.\")\n",
        "    else:\n",
        "        print(\"Invalid month.\")\n",
        "else:\n",
        "    print(\"Invalid month. Please enter a month between 1 and 12.\")"
      ],
      "metadata": {
        "colab": {
          "base_uri": "https://localhost:8080/"
        },
        "id": "p0wcaBk4rM__",
        "outputId": "282ceb28-2c73-4f5a-b724-b93ab7600f45"
      },
      "execution_count": null,
      "outputs": [
        {
          "output_type": "stream",
          "name": "stdout",
          "text": [
            "Enter the year: 2020\n",
            "Enter the month (1-12): 10\n",
            "2020 is a leap year.\n",
            "The month 10 has 31 days.\n"
          ]
        }
      ]
    },
    {
      "cell_type": "markdown",
      "source": [
        "# BASIC LEVEL:"
      ],
      "metadata": {
        "id": "FkEJy0iXsHev"
      }
    },
    {
      "cell_type": "markdown",
      "source": [
        "### 1. Write a Python program that checks if a given number is positive, negative, or zero."
      ],
      "metadata": {
        "id": "H6Asqlu3sQbL"
      }
    },
    {
      "cell_type": "code",
      "source": [
        "number=int(input(\"Enter the number:\"))\n",
        "if number == 0:\n",
        "  print(f\"{number} is zero\")\n",
        "\n",
        "elif number > 0:\n",
        "  print(f\"Given number {number} is a positive number\")\n",
        "else:\n",
        "  print(f\"Given {number} is a negative number\")"
      ],
      "metadata": {
        "colab": {
          "base_uri": "https://localhost:8080/"
        },
        "id": "gldMMFnesMPh",
        "outputId": "033b18e4-77bb-4c9f-f7f7-47a4a72085f5"
      },
      "execution_count": null,
      "outputs": [
        {
          "output_type": "stream",
          "name": "stdout",
          "text": [
            "Enter the number:-5\n",
            "Given -5 is a negative number\n"
          ]
        }
      ]
    },
    {
      "cell_type": "markdown",
      "source": [
        "### 2. Create a program to determine if a person is eligible to vote based on their age."
      ],
      "metadata": {
        "id": "PYtL6p82sek6"
      }
    },
    {
      "cell_type": "code",
      "source": [
        "age=int(input(\"Enter person age:\"))\n",
        "if age > 18:\n",
        "  print(\"person is elgible for voting\")\n",
        "else:\n",
        "  print(\"person not elgible for voting\")"
      ],
      "metadata": {
        "colab": {
          "base_uri": "https://localhost:8080/"
        },
        "id": "jK4G0us2skp7",
        "outputId": "70427402-6d30-47dc-9b59-b9565e827a3d"
      },
      "execution_count": null,
      "outputs": [
        {
          "output_type": "stream",
          "name": "stdout",
          "text": [
            "Enter person age:20\n",
            "person is elgible for voting\n"
          ]
        }
      ]
    },
    {
      "cell_type": "markdown",
      "source": [
        "### 3. Write a program to find the maximum of two given numbers using conditional statements."
      ],
      "metadata": {
        "id": "B5ezSDiptAsM"
      }
    },
    {
      "cell_type": "code",
      "source": [
        "a=int(input(\"Enter the number:\"))\n",
        "b=int(input(\"Enter the number:\"))\n",
        "if a > b:\n",
        "  print(f\"{a} is maximum number than {b}\")\n",
        "else:\n",
        "  print(f\"{b} is maximum number than {a}\")"
      ],
      "metadata": {
        "colab": {
          "base_uri": "https://localhost:8080/"
        },
        "id": "7itCXxRetG1n",
        "outputId": "bd3eed77-fca8-4dc7-d660-7cb298d9e427"
      },
      "execution_count": null,
      "outputs": [
        {
          "output_type": "stream",
          "name": "stdout",
          "text": [
            "Enter the number:67\n",
            "Enter the number:89\n",
            "89 is maximum number than 67\n"
          ]
        }
      ]
    },
    {
      "cell_type": "markdown",
      "source": [
        "### 4. Develop a program that calculates the grade of a student based on their exam score."
      ],
      "metadata": {
        "id": "vwKroNCvt093"
      }
    },
    {
      "cell_type": "code",
      "source": [
        "score = int(input(\"Enter the number:\"))\n",
        "if score > 90:\n",
        "  print(\"Grade of a student:A+\")\n",
        "elif score > 80:\n",
        "  print(\"Grade of a student:A\")\n",
        "elif score > 70:\n",
        "  print(\"Grade of a student:B\")\n",
        "elif score > 60:\n",
        "  print(\"Grade of a student:C\")\n",
        "elif score > 50:\n",
        "  print(\"Grade of a student:D\")\n",
        "elif score > 40:\n",
        "  print(\"Grade of a student:E\")\n",
        "else:\n",
        "  print(\"Grade of a student:F\")\n"
      ],
      "metadata": {
        "colab": {
          "base_uri": "https://localhost:8080/"
        },
        "id": "3VbTm5Pdt7N0",
        "outputId": "dd7efbdd-8dfe-4762-dcf5-52a09ce11f78"
      },
      "execution_count": null,
      "outputs": [
        {
          "output_type": "stream",
          "name": "stdout",
          "text": [
            "Enter the number:30\n",
            "Grade of a student:F\n"
          ]
        }
      ]
    },
    {
      "cell_type": "markdown",
      "source": [
        "### 5. Create a program that checks if a year is a leap year or not."
      ],
      "metadata": {
        "id": "tC4ZEEpcvHcX"
      }
    },
    {
      "cell_type": "code",
      "source": [
        "year=int(input(\"Enter year:\"))\n",
        "if year % 4 ==0 and year % 100 !=0:\n",
        "  print(f\"{year} is a leap year\")\n",
        "elif year % 400 ==0 and year % 100 ==0:\n",
        "  print(f\"{year} is a leap year\")\n",
        "else:\n",
        "  print(f\"{year} is not a leap year\")"
      ],
      "metadata": {
        "colab": {
          "base_uri": "https://localhost:8080/"
        },
        "id": "utMnPKh4uZem",
        "outputId": "922eed5b-6b7c-4483-e904-6438c6b33ae3"
      },
      "execution_count": null,
      "outputs": [
        {
          "output_type": "stream",
          "name": "stdout",
          "text": [
            "Enter year:2020\n",
            "2020 is a leap year\n"
          ]
        }
      ]
    },
    {
      "cell_type": "markdown",
      "source": [
        "### 6. Write a program to classify a triangle based on its sides' lengths."
      ],
      "metadata": {
        "id": "6IIweZsjwE97"
      }
    },
    {
      "cell_type": "code",
      "source": [
        "side1 = float(input(\"Enter the first side of a triangle : \"))\n",
        "side2 = float(input(\"Enter the second side of a triangle : \"))\n",
        "side3 = float(input(\"Enter the third side of a triangle : \"))\n",
        "\n",
        "if side1 == side2 == side3 :\n",
        "    print(\"Equilateral Triangle.\")\n",
        "elif side1 == side2 or side1 == side3 or side2 == side3 :\n",
        "    print(\"Isosceles Triangle.\")\n",
        "else:\n",
        "    print(\"Scalene Triangle.\")"
      ],
      "metadata": {
        "colab": {
          "base_uri": "https://localhost:8080/"
        },
        "id": "zz0SRsRuwHgC",
        "outputId": "b937dfad-a94d-45a6-937a-878a5215d68c"
      },
      "execution_count": null,
      "outputs": [
        {
          "output_type": "stream",
          "name": "stdout",
          "text": [
            "Enter the first side of a triangle : 60\n",
            "Enter the second side of a triangle : 60\n",
            "Enter the third side of a triangle : 60\n",
            "Equilateral Triangle.\n"
          ]
        }
      ]
    },
    {
      "cell_type": "markdown",
      "source": [
        "### 7. Build a program that determines the largest of three given numbers."
      ],
      "metadata": {
        "id": "gB34Jv9IwQ3z"
      }
    },
    {
      "cell_type": "code",
      "source": [
        "a = int(input('Enter first number:'))\n",
        "b = int(input(\"Enter second number:\"))\n",
        "c = int(input(\"Enter third number:\"))\n",
        "if a > b and a > c:\n",
        "  print(f\"{a} is larger number than {b} and {c}\")\n",
        "elif b > c :\n",
        "  print(f\"{b} is larger number than {a} and {c}\")\n",
        "else:\n",
        "  print(f\"{c} is larger number than {b} and {a}\")\n",
        "\n"
      ],
      "metadata": {
        "colab": {
          "base_uri": "https://localhost:8080/"
        },
        "id": "OhZzg39bwSyk",
        "outputId": "17b07ecb-9c4a-4177-998f-5da6dfa4b36f"
      },
      "execution_count": null,
      "outputs": [
        {
          "output_type": "stream",
          "name": "stdout",
          "text": [
            "Enter first number:45\n",
            "Enter second number:76\n",
            "Enter third number:23\n",
            "76 is larger number than 45 and 23\n"
          ]
        }
      ]
    },
    {
      "cell_type": "markdown",
      "source": [
        "### 8. Develop a program that checks whether a character is a vowel or a consonant."
      ],
      "metadata": {
        "id": "4xG5iuYyxOF9"
      }
    },
    {
      "cell_type": "code",
      "source": [
        "char=input(\"Enter the character:\")\n",
        "vowels=\"AEIOUaeiou\"\n",
        "if char in vowels:\n",
        "  print(\"character is a vowel\")\n",
        "else:\n",
        "  print(\"character is a consonant\")"
      ],
      "metadata": {
        "colab": {
          "base_uri": "https://localhost:8080/"
        },
        "id": "LFDd7xyMxSua",
        "outputId": "92c7899e-1261-4d58-c9ed-4a879e8b6996"
      },
      "execution_count": null,
      "outputs": [
        {
          "output_type": "stream",
          "name": "stdout",
          "text": [
            "Enter the character:D\n",
            "character is a consonant\n"
          ]
        }
      ]
    },
    {
      "cell_type": "markdown",
      "source": [
        "### 9. Create a program to calculate the total cost of a shopping cart based on discounts."
      ],
      "metadata": {
        "id": "LtJTLrQmx0Eg"
      }
    },
    {
      "cell_type": "code",
      "source": [
        "cart_items_price = []\n",
        "n = int(input(\"enter the number of items : \"))\n",
        "\n",
        "for i in range (1,n+1):\n",
        "    price = int(input(f\"Enter the {i} item price :  \"))\n",
        "    cart_items_price.append(price)\n",
        "\n",
        "discount_percentage = float(input(\"enter discount Percentage : \"))\n",
        "\n",
        "total_price = sum(cart_items_price)\n",
        "\n",
        "print(f\"before reducing discount Price is : {total_price} /-.\")\n",
        "\n",
        "discount_amount = ( discount_percentage / 100 ) * total_price\n",
        "\n",
        "total_cost = total_price - discount_amount\n",
        "\n",
        "print(f\"The total price of items is : {total_cost} /-.\")\n"
      ],
      "metadata": {
        "colab": {
          "base_uri": "https://localhost:8080/"
        },
        "id": "hwCUqHxbx6nd",
        "outputId": "b187a26f-6491-41a0-c64e-12665a591748"
      },
      "execution_count": null,
      "outputs": [
        {
          "output_type": "stream",
          "name": "stdout",
          "text": [
            "enter the number of items : 4\n",
            "Enter the 1 item price :  200\n",
            "Enter the 2 item price :  300\n",
            "Enter the 3 item price :  500\n",
            "Enter the 4 item price :  240\n",
            "enter discount Percentage : 30\n",
            "before reducing discount Price is : 1240 /-.\n",
            "The total price of items is : 868.0 /-.\n"
          ]
        }
      ]
    },
    {
      "cell_type": "markdown",
      "source": [
        "### 10. Write a program that checks if a given number is even or odd."
      ],
      "metadata": {
        "id": "eIN0mHSsy_o8"
      }
    },
    {
      "cell_type": "code",
      "source": [
        "n = int(input(\"Enter the number:\"))\n",
        "if n % 2 == 0:\n",
        "  print(f\"{n} is an even number\")\n",
        "else:\n",
        "  print(f\"{n} is an odd number\")\n"
      ],
      "metadata": {
        "colab": {
          "base_uri": "https://localhost:8080/"
        },
        "id": "r5folKtmzElB",
        "outputId": "7e4ac182-a89b-43a6-b586-312ca40db95f"
      },
      "execution_count": null,
      "outputs": [
        {
          "output_type": "stream",
          "name": "stdout",
          "text": [
            "Enter the number:2887672\n",
            "2887672 is an even number\n"
          ]
        }
      ]
    },
    {
      "cell_type": "markdown",
      "source": [
        "# Intermediate Level:"
      ],
      "metadata": {
        "id": "1ozZ3Dat7KYZ"
      }
    },
    {
      "cell_type": "markdown",
      "source": [
        "### 11. Write a program that calculates the roots of a quadratic equation ."
      ],
      "metadata": {
        "id": "dUC4ETFGBjwO"
      }
    },
    {
      "cell_type": "code",
      "source": [
        "import math\n",
        "\n",
        "coefficient_of_a = float(input(\"enter coefficient of a : \"))\n",
        "coefficient_of_b = float(input(\"enter coefficient of b : \"))\n",
        "coefficient_of_c = float(input(\"enter coefficient of c : \"))\n",
        "\n",
        "print(\"Entered equation is : \")\n",
        "print(f\"{coefficient_of_a} X`2 + {coefficient_of_b} Y`2 + {coefficient_of_c} = 0\")\n",
        "\n",
        "a = coefficient_of_a\n",
        "b = coefficient_of_b\n",
        "c = coefficient_of_c\n",
        "\n",
        "dis = b ** 2 - 4 * a * c\n",
        "sqrt_val = math.sqrt(abs(dis))\n",
        "\n",
        "if dis > 0 :\n",
        "    print(\"real and different roots \")\n",
        "    print((-b + sqrt_val)/ (2 * a))\n",
        "    print((-b - sqrt_val) / (2 * a))\n",
        "\n",
        "elif dis == 0 :\n",
        "    print(\"real and same roots\")\n",
        "    print(-b/(2 * a))\n",
        "\n",
        "else:\n",
        "    print(\"complex roots\")\n",
        "    print(-b / (2*a) , \"+ i\", sqrt_val)\n",
        "    print(-b / (2*a) , \"- i\" , sqrt_val)"
      ],
      "metadata": {
        "colab": {
          "base_uri": "https://localhost:8080/"
        },
        "id": "Dg66trDW7Meu",
        "outputId": "572e8b43-7efd-4611-ff6f-0c423d1652a1"
      },
      "execution_count": null,
      "outputs": [
        {
          "output_type": "stream",
          "name": "stdout",
          "text": [
            "enter coefficient of a : 3\n",
            "enter coefficient of b : 6\n",
            "enter coefficient of c : 9\n",
            "Entered equation is : \n",
            "3.0 X`2 + 6.0 Y`2 + 9.0 = 0\n",
            "complex roots\n",
            "-1.0 + i 8.48528137423857\n",
            "-1.0 - i 8.48528137423857\n"
          ]
        }
      ]
    },
    {
      "cell_type": "markdown",
      "source": [
        "### 12. Create a program that determines the day of the week based on the day number (1-7)."
      ],
      "metadata": {
        "id": "MJH0WGVRCXLt"
      }
    },
    {
      "cell_type": "code",
      "source": [
        "number=int(input(\"Enter number:\"))\n",
        "if number==1:\n",
        "  print(\"moday\")\n",
        "elif number==2:\n",
        "  print(\"tuesday\")\n",
        "elif number ==3:\n",
        "  print(\"wednesday\")\n",
        "elif number ==4:\n",
        "  print(\"thursday\")\n",
        "elif number ==5:\n",
        "  print(\"friday\")\n",
        "elif number ==6:\n",
        "  print(\"saturday\")\n",
        "elif number ==7:\n",
        "  print(\"sunday\")\n",
        "else:\n",
        "  print(\"Enter number from 1-7\")\n"
      ],
      "metadata": {
        "id": "eAo8iUeqCc1M",
        "colab": {
          "base_uri": "https://localhost:8080/"
        },
        "outputId": "bd1684d3-9b2b-4b52-9302-f31b3356bf13"
      },
      "execution_count": null,
      "outputs": [
        {
          "output_type": "stream",
          "name": "stdout",
          "text": [
            "Enter number:5\n",
            "friday\n"
          ]
        }
      ]
    },
    {
      "cell_type": "markdown",
      "source": [
        "### 13. Develop a program that calculates the factorial of a given number using recursion."
      ],
      "metadata": {
        "id": "JXeCMDeKDuog"
      }
    },
    {
      "cell_type": "code",
      "source": [
        "def fact(number):\n",
        "    if number == 0 or number == 1 :\n",
        "        return 1\n",
        "    else:\n",
        "        return number * fact(number-1)\n",
        "\n",
        "num = int(input(\"Enter a number to calculate the factorial : \"))\n",
        "\n",
        "result = fact(num)\n",
        "\n",
        "print(f\"The factorial of a given number is : {result}.\")\n",
        "\n"
      ],
      "metadata": {
        "id": "pHKLD55TD3lc",
        "colab": {
          "base_uri": "https://localhost:8080/"
        },
        "outputId": "7ef37da1-e7d2-47f3-992a-ffae00ff4786"
      },
      "execution_count": null,
      "outputs": [
        {
          "output_type": "stream",
          "name": "stdout",
          "text": [
            "Enter a number to calculate the factorial : 6\n",
            "The factorial of a given number is : 720.\n"
          ]
        }
      ]
    },
    {
      "cell_type": "markdown",
      "source": [
        "### 14. Write a program to find the largest among three numbers without using the `max()` function."
      ],
      "metadata": {
        "id": "6B9YIaQ6GK3N"
      }
    },
    {
      "cell_type": "code",
      "source": [
        "num = 3\n",
        "\n",
        "lst = []\n",
        "\n",
        "for i in range(1,num+1) :\n",
        "    n = int(input(f\"enter {i} number : \"))\n",
        "    lst.append(n)\n",
        "\n",
        "maximum = 0\n",
        "\n",
        "for i in lst :\n",
        "    if i > maximum :\n",
        "        maximum = i\n",
        "\n",
        "print(f\"The maximum number of given numbers is  : {maximum}\")"
      ],
      "metadata": {
        "colab": {
          "base_uri": "https://localhost:8080/"
        },
        "id": "RMjIePoXNEx1",
        "outputId": "bd214564-0141-4713-fe5a-d6d69045ad7b"
      },
      "execution_count": null,
      "outputs": [
        {
          "output_type": "stream",
          "name": "stdout",
          "text": [
            "enter 1 number : 3\n",
            "enter 2 number : 5\n",
            "enter 3 number : 8\n",
            "The maximum number of given numbers is  : 8\n"
          ]
        }
      ]
    },
    {
      "cell_type": "markdown",
      "source": [
        "### 15. Create a program that simulates a basic ATM transaction menu."
      ],
      "metadata": {
        "id": "Ns6Z5Um-NPtc"
      }
    },
    {
      "cell_type": "code",
      "source": [
        "def display_menu():\n",
        "    print(\"==== Welcome to the ATM ====\")\n",
        "    print(\"1. Check Balance\")\n",
        "    print(\"2. Deposit Money\")\n",
        "    print(\"3. Withdraw Money\")\n",
        "    print(\"4. Quit\")\n",
        "    print(\"==============================\")\n",
        "\n",
        "def check_balance(balance):\n",
        "    print(f\"Your current balance is: ${balance :.2f}\")\n",
        "\n",
        "def deposit_money(balance, amount):\n",
        "    balance += amount\n",
        "    print(f\"${amount:.2f} deposited successfully.\")\n",
        "    return balance\n",
        "\n",
        "def withdraw_money(balance, amount):\n",
        "    if amount <= balance:\n",
        "        balance -= amount\n",
        "        print(f\"${amount:.2f} withdrawn successfully.\")\n",
        "    else:\n",
        "        print(\"Insufficient funds. Withdrawal failed.\")\n",
        "    return balance\n",
        "\n",
        "# Example ATM simulation\n",
        "current_balance = 1000.00\n",
        "\n",
        "while True:\n",
        "    display_menu()\n",
        "    choice = input(\"Enter your choice (1-4): \")\n",
        "\n",
        "    if choice == '1':\n",
        "        check_balance(current_balance)\n",
        "    elif choice == '2':\n",
        "        deposit_amount = float(input(\"Enter the deposit amount: $\"))\n",
        "        current_balance = deposit_money(current_balance, deposit_amount)\n",
        "    elif choice == '3':\n",
        "        withdraw_amount = float(input(\"Enter the withdrawal amount: $\"))\n",
        "        current_balance = withdraw_money(current_balance, withdraw_amount)\n",
        "    elif choice == '4':\n",
        "        print(\"Thank you for using the ATM. Goodbye!\")\n",
        "        break\n",
        "    else:\n",
        "        print(\"Invalid choice. Please enter a number between 1 and 4.\")"
      ],
      "metadata": {
        "colab": {
          "base_uri": "https://localhost:8080/"
        },
        "id": "NS2vO32ROS7y",
        "outputId": "6edd8c04-d0ee-479e-9324-94225abd7d20"
      },
      "execution_count": null,
      "outputs": [
        {
          "output_type": "stream",
          "name": "stdout",
          "text": [
            "==== Welcome to the ATM ====\n",
            "1. Check Balance\n",
            "2. Deposit Money\n",
            "3. Withdraw Money\n",
            "4. Quit\n",
            "==============================\n",
            "Enter your choice (1-4): 1\n",
            "Your current balance is: $1000.00\n",
            "==== Welcome to the ATM ====\n",
            "1. Check Balance\n",
            "2. Deposit Money\n",
            "3. Withdraw Money\n",
            "4. Quit\n",
            "==============================\n",
            "Enter your choice (1-4): 4\n",
            "Thank you for using the ATM. Goodbye!\n"
          ]
        }
      ]
    },
    {
      "cell_type": "markdown",
      "source": [
        "### 16. Build a program that checks if a given string is a palindrome or not."
      ],
      "metadata": {
        "id": "1EDnVi02Og4H"
      }
    },
    {
      "cell_type": "code",
      "source": [
        "string=input(\"Enter the  string:\")\n",
        "if string == string[::-1]:\n",
        "  print(\"Given string is a palindrome\")\n",
        "else:\n",
        "  print(\"Given string is not a palindrome\")"
      ],
      "metadata": {
        "colab": {
          "base_uri": "https://localhost:8080/"
        },
        "id": "KCMuxnqIOoTA",
        "outputId": "3415b81f-6787-4c32-e926-d3bd9f857d20"
      },
      "execution_count": null,
      "outputs": [
        {
          "output_type": "stream",
          "name": "stdout",
          "text": [
            "Enter the  string:malayalam\n",
            "Given string is a palindrome\n"
          ]
        }
      ]
    },
    {
      "cell_type": "markdown",
      "source": [
        "### 17. Write a program that calculates the average of a list of numbers, excluding the smallest and largest values."
      ],
      "metadata": {
        "id": "UDekOzpzPALf"
      }
    },
    {
      "cell_type": "code",
      "source": [
        "lst=[10,20,30,40,50,60]\n",
        "lst.remove(min(lst))\n",
        "lst.remove(max(lst))\n",
        "avg=sum(lst)/len(lst)\n",
        "print(\"The average of the list of the number is :\",avg)\n"
      ],
      "metadata": {
        "colab": {
          "base_uri": "https://localhost:8080/"
        },
        "id": "rVjY3PrrPHUl",
        "outputId": "23993b2c-8533-4489-e5bc-8d52be2bd269"
      },
      "execution_count": null,
      "outputs": [
        {
          "output_type": "stream",
          "name": "stdout",
          "text": [
            "The average of the list of the number is : 35.0\n"
          ]
        }
      ]
    },
    {
      "cell_type": "markdown",
      "source": [
        "### 18. Develop a program that converts a given temperature from Celsius to Fahrenheit."
      ],
      "metadata": {
        "id": "E36S-d_IRaSN"
      }
    },
    {
      "cell_type": "code",
      "source": [
        "def celsius_to_fahrenheit(celsius):\n",
        "    fahrenheit = (celsius * 9/5) + 32\n",
        "    return fahrenheit\n",
        "\n",
        "# Example usage:\n",
        "try:\n",
        "    celsius_temp = float(input(\"Enter temperature in Celsius: \"))\n",
        "    fahrenheit_temp = celsius_to_fahrenheit(celsius_temp)\n",
        "    print(f\"{celsius_temp} degrees Celsius is equal to {fahrenheit_temp:.2f} degrees Fahrenheit.\")\n",
        "except ValueError:\n",
        "    print(\"Invalid input. Please enter a valid temperature in Celsius.\")"
      ],
      "metadata": {
        "colab": {
          "base_uri": "https://localhost:8080/"
        },
        "id": "MHmwKcCVR4Jh",
        "outputId": "ef10f570-88de-4359-eadc-868790f7c4f4"
      },
      "execution_count": null,
      "outputs": [
        {
          "output_type": "stream",
          "name": "stdout",
          "text": [
            "Enter temperature in Celsius: 27\n",
            "27.0 degrees Celsius is equal to 80.60 degrees Fahrenheit.\n"
          ]
        }
      ]
    },
    {
      "cell_type": "markdown",
      "source": [
        "### 19. Create a program that simulates a basic calculator for addition, subtraction, multiplication, and division."
      ],
      "metadata": {
        "id": "KdG81mN6OD9X"
      }
    },
    {
      "cell_type": "code",
      "source": [
        "a=int(input(\"Enter first number:\"))\n",
        "b=int(input(\"Enter second number:\"))\n",
        "print(\"1.Addition\")\n",
        "print(\"2.Substraction\")\n",
        "print(\"3.Mutiplication\")\n",
        "print(\"4.Division\")\n",
        "option=int(input(\"Enter your option:\"))\n",
        "if option == 1:\n",
        "  print(\"Addition:\",a+b)\n",
        "elif option == 2 :\n",
        "  print(\"Substraction:\",a-b)\n",
        "elif option == 3:\n",
        "  print(\"Multiplication:\",a*b)\n",
        "elif option == 4:\n",
        "  print(\"Division\",a/b)\n",
        "else:\n",
        "  print(\"Enter valid option from 1-4\")"
      ],
      "metadata": {
        "colab": {
          "base_uri": "https://localhost:8080/"
        },
        "id": "djbIHJ34Sl2N",
        "outputId": "b162e235-2da1-4eee-e7f0-9bcce8c7044c"
      },
      "execution_count": null,
      "outputs": [
        {
          "output_type": "stream",
          "name": "stdout",
          "text": [
            "Enter first number:34\n",
            "Enter second number:45\n",
            "1.Addition\n",
            "2.Substraction\n",
            "3.Mutiplication\n",
            "4.Division\n",
            "Enter your option:1\n",
            "Addition: 79\n"
          ]
        }
      ]
    },
    {
      "cell_type": "markdown",
      "source": [
        "### 20. Write a program that determines the roots of a cubic equation using the Cardano formula."
      ],
      "metadata": {
        "id": "PlcOc4JuUSRv"
      }
    },
    {
      "cell_type": "code",
      "source": [
        "import cmath  # Complex math library for handling complex roots\n",
        "\n",
        "def solve_cubic_equation(a, b, c, d):\n",
        "    # Calculate the discriminant\n",
        "    delta0 = c**2 - 3*b*d\n",
        "    delta1 = 2*c**3 - 9*b*c*d + 27*a*d**2\n",
        "    delta = delta1**2 - 4*delta0**3\n",
        "\n",
        "    # Calculate the roots using Cardano formula\n",
        "    C = ((delta1 + cmath.sqrt(delta)) / 2)**(1/3)\n",
        "    root1 = -1/(3*a) * (C + delta0/C + complex(1, 0) * cmath.sqrt(3) * (C - delta0/C))\n",
        "\n",
        "    # Calculate the other roots using complex conjugates\n",
        "    omega = complex(-0.5, cmath.sqrt(3)/2)\n",
        "    root2 = -1/(3*a) * (C + delta0/C + omega * cmath.sqrt(3) * (C - delta0/C))\n",
        "    root3 = -1/(3*a) * (C + delta0/C + omega.conjugate() * cmath.sqrt(3) * (C - delta0/C))\n",
        "\n",
        "    return root1, root2, root3\n",
        "\n",
        "# Example usage:\n",
        "try:\n",
        "    a = float(input(\"Enter the coefficient a: \"))\n",
        "    b = float(input(\"Enter the coefficient b: \"))\n",
        "    c = float(input(\"Enter the coefficient c: \"))\n",
        "    d = float(input(\"Enter the coefficient d: \"))\n",
        "\n",
        "    roots = solve_cubic_equation(a, b, c, d)\n",
        "\n",
        "    print(f\"The roots of the cubic equation are:\")\n",
        "    for i, root in enumerate(roots, start=1):\n",
        "        print(f\"Root {i}: {root:.2f}\")\n",
        "\n",
        "except ValueError:\n",
        "    print(\"Invalid input. Please enter numeric coefficients.\")"
      ],
      "metadata": {
        "colab": {
          "base_uri": "https://localhost:8080/"
        },
        "id": "-1yuhopPUYa8",
        "outputId": "3e70b4f9-0467-4160-8d25-70b6eb6ab1c6"
      },
      "execution_count": null,
      "outputs": [
        {
          "output_type": "stream",
          "name": "stdout",
          "text": [
            "Enter the coefficient a: 3\n",
            "Enter the coefficient b: 5\n",
            "Enter the coefficient c: 6\n",
            "Enter the coefficient d: 7\n",
            "The roots of the cubic equation are:\n",
            "Root 1: -4.60+0.00j\n",
            "Root 2: 0.83-3.13j\n",
            "Root 3: 0.83+3.13j\n"
          ]
        }
      ]
    },
    {
      "cell_type": "markdown",
      "source": [
        "# Advanced Level:"
      ],
      "metadata": {
        "id": "8LfThGaVUklM"
      }
    },
    {
      "cell_type": "markdown",
      "source": [
        "### 21. Create a program that calculates the income tax based on the user's income and tax brackets."
      ],
      "metadata": {
        "id": "oSRM1kqbhPp4"
      }
    },
    {
      "cell_type": "code",
      "source": [
        "brackets = [10000, 30000, 70000, float('inf')]\n",
        "rates = [0.10, 0.20, 0.30, 0.40]\n",
        "\n",
        "# Get user input for income\n",
        "income_str = input(\"Enter your annual income: $\")\n",
        "\n",
        "# Check if input is numeric\n",
        "if income_str.replace('.', '', 1).isdigit():\n",
        "    income = float(income_str)\n",
        "\n",
        "    if income < 0:\n",
        "        print(\"Invalid income. Please enter a non-negative amount.\")\n",
        "    else:\n",
        "        # Calculate tax based on income and brackets\n",
        "        tax = 0\n",
        "        remaining_income = income\n",
        "\n",
        "        for i in range(len(brackets)):\n",
        "            if remaining_income <= 0:\n",
        "                break\n",
        "            if i < len(brackets) - 1:\n",
        "                taxable_amount = min(remaining_income, brackets[i+1] - brackets[i])\n",
        "            else:\n",
        "                taxable_amount = remaining_income\n",
        "\n",
        "            tax += taxable_amount * rates[i]\n",
        "            remaining_income -= taxable_amount\n",
        "\n",
        "        print(f\"Your income tax is: ${tax:.2f}\")\n",
        "\n",
        "else:\n",
        "    print(\"Invalid input. Please enter a valid numeric income.\")"
      ],
      "metadata": {
        "colab": {
          "base_uri": "https://localhost:8080/"
        },
        "id": "3aINBW9VivKl",
        "outputId": "5aad3bb6-4b8a-4a93-dbe8-f5a1ff47c4cb"
      },
      "execution_count": null,
      "outputs": [
        {
          "output_type": "stream",
          "name": "stdout",
          "text": [
            "Enter your annual income: $345\n",
            "Your income tax is: $34.50\n"
          ]
        }
      ]
    },
    {
      "cell_type": "markdown",
      "source": [
        "### 22. Write a program that simulates a rock-paper-scissors game against the computer."
      ],
      "metadata": {
        "id": "GvQ_-8J4nEoG"
      }
    },
    {
      "cell_type": "code",
      "source": [
        "import random\n",
        "user_choice=int(input(\"choose 1.Rock\\2.paper\\3.scissor:\"))\n",
        "computer_choice=random.randint(0,2)\n",
        "if  user_choice > 2 or user_choice < 0 :\n",
        "  print(\"Enter the correct value \")\n",
        "else:\n",
        "  print(computer_choice)\n",
        "  if user_choice == computer_choice:\n",
        "    print(\"It's a Draw\")\n",
        "  elif user_choice < computer_choice:\n",
        "    print(\"computer win's the match\")\n",
        "  elif user_choice > computer_choice :\n",
        "    print(\"You win the match\")\n",
        "  elif user_choice ==0 and computer_choice ==2:\n",
        "    print(\"you win the match\")\n",
        "  elif computer_choice == 0 and user_choice ==2:\n",
        "    print(\"computer win the match\")\n",
        "  else:\n",
        "    print(\"User invaid\")\n",
        "\n"
      ],
      "metadata": {
        "colab": {
          "base_uri": "https://localhost:8080/"
        },
        "id": "tZUneUZqnEWH",
        "outputId": "85c5d65d-cb68-429e-8d92-bc3f44ad6d16"
      },
      "execution_count": null,
      "outputs": [
        {
          "output_type": "stream",
          "name": "stdout",
          "text": [
            "choose 1.Rock\u0002.paper\u0003.scissor:2\n",
            "1\n",
            "You win the match\n"
          ]
        }
      ]
    },
    {
      "cell_type": "markdown",
      "source": [
        "### 23. Develop a program that generates a random password based on user preferences (length, complexity)."
      ],
      "metadata": {
        "id": "yxyXtXCmtQGE"
      }
    },
    {
      "cell_type": "code",
      "source": [
        "import random\n",
        "import string\n",
        "\n",
        "def generate_password(length, uppercase, lowercase, digits, special_characters):\n",
        "    characters = \"\"\n",
        "\n",
        "    if uppercase:\n",
        "        characters += string.ascii_uppercase\n",
        "    if lowercase:\n",
        "        characters += string.ascii_lowercase\n",
        "    if digits:\n",
        "        characters += string.digits\n",
        "    if special_characters:\n",
        "        characters += string.punctuation\n",
        "\n",
        "    if not characters:\n",
        "        print(\"Invalid preferences. Please select at least one character type.\")\n",
        "        return None\n",
        "\n",
        "   # print(characters)\n",
        "\n",
        "    password = ''.join(random.choice(characters) for _ in range(length))\n",
        "    return password\n",
        "\n",
        "# Get user preferences\n",
        "length = int(input(\"Enter the desired length of the password: \"))\n",
        "uppercase = input(\"Include uppercase letters? (yes/no): \").lower() == 'yes'\n",
        "lowercase = input(\"Include lowercase letters? (yes/no): \").lower() == 'yes'\n",
        "digits = input(\"Include digits? (yes/no): \").lower() == 'yes'\n",
        "special_characters = input(\"Include special characters? (yes/no): \").lower() == 'yes'\n",
        "\n",
        "# Generate password\n",
        "password = generate_password(length, uppercase, lowercase, digits, special_characters)\n",
        "\n",
        "# Display the generated password\n",
        "if password:\n",
        "    print(f\"Generated Password: {password}\")"
      ],
      "metadata": {
        "colab": {
          "base_uri": "https://localhost:8080/"
        },
        "id": "YEGN0nDbwL8A",
        "outputId": "1f1aebed-523e-4cad-ecf8-8a58cf47d8aa"
      },
      "execution_count": null,
      "outputs": [
        {
          "output_type": "stream",
          "name": "stdout",
          "text": [
            "Enter the desired length of the password: 6\n",
            "Include uppercase letters? (yes/no): yes\n",
            "Include lowercase letters? (yes/no): yes\n",
            "Include digits? (yes/no): yes\n",
            "Include special characters? (yes/no): yes\n",
            "Generated Password: +*.gtl\n"
          ]
        }
      ]
    },
    {
      "cell_type": "markdown",
      "source": [
        "### 24. Create a program that implements a simple text-based adventure game with branching scenarios."
      ],
      "metadata": {
        "id": "XxaCIIBixTGE"
      }
    },
    {
      "cell_type": "code",
      "source": [
        "import time\n",
        "\n",
        "def delay_print(text, delay=1):\n",
        "    for char in text:\n",
        "        print(char, end='', flush=True)\n",
        "        time.sleep(delay)\n",
        "    print()\n",
        "\n",
        "def adventure_game():\n",
        "    delay_print(\"Welcome to the Text Adventure Game!\")\n",
        "    delay_print(\"You find yourself in front of a mysterious cave.\")\n",
        "    delay_print(\"Do you want to enter the cave? (yes/no)\")\n",
        "\n",
        "    choice1 = input().lower()\n",
        "\n",
        "    if choice1 == 'yes':\n",
        "        delay_print(\"You enter the dark cave and see two tunnels.\")\n",
        "        delay_print(\"Do you want to go left or right? (left/right)\")\n",
        "\n",
        "        choice2 = input().lower()\n",
        "\n",
        "        if choice2 == 'left':\n",
        "            delay_print(\"You find a treasure chest! You win!\")\n",
        "        elif choice2 == 'right':\n",
        "            delay_print(\"You encounter a giant spider. Game over!\")\n",
        "        else:\n",
        "            delay_print(\"Invalid choice. Game over!\")\n",
        "    elif choice1 == 'no':\n",
        "        delay_print(\"You decide not to enter the cave. Game over!\")\n",
        "    else:\n",
        "        delay_print(\"Invalid choice. Game over!\")\n",
        "adventure_game()"
      ],
      "metadata": {
        "colab": {
          "base_uri": "https://localhost:8080/"
        },
        "id": "pGr5eBQJxZMP",
        "outputId": "fcb54818-82e3-414e-e054-dd32e2e6d4df"
      },
      "execution_count": null,
      "outputs": [
        {
          "output_type": "stream",
          "name": "stdout",
          "text": [
            "Welcome to the Text Adventure Game!\n",
            "You find yourself in front of a mysterious cave.\n",
            "Do you want to enter the cave? (yes/no)\n",
            "yes\n",
            "You enter the dark cave and see two tunnels.\n",
            "Do you want to go left or right? (left/right)\n",
            "left\n",
            "You find a treasure chest! You win!\n"
          ]
        }
      ]
    },
    {
      "cell_type": "markdown",
      "source": [
        "### 25. Build a program that solves a linear equation for x, considering different cases."
      ],
      "metadata": {
        "id": "WuL62Qh8yphc"
      }
    },
    {
      "cell_type": "code",
      "source": [
        "def solve_linear_equation(a, b):\n",
        "    if a == 0 and b == 0:\n",
        "        return \"Infinite solutions (0 = 0)\"\n",
        "    elif a == 0 and b != 0:\n",
        "        return \"No solution (0 ≠ 0)\"\n",
        "    else:\n",
        "        x = -b / a\n",
        "        return f\"The solution for the equation {a}x + {b} = 0 is x = {x:.2f}\"\n",
        "\n",
        "# Get user input for coefficients\n",
        "a = float(input(\"Enter the coefficient a: \"))\n",
        "b = float(input(\"Enter the coefficient b: \"))\n",
        "\n",
        "# Solve the linear equation\n",
        "result = solve_linear_equation(a, b)\n",
        "print(result)"
      ],
      "metadata": {
        "colab": {
          "base_uri": "https://localhost:8080/"
        },
        "id": "pzE016yNyrt2",
        "outputId": "f1cabafe-71cd-4387-f4a9-32e9de13f76b"
      },
      "execution_count": null,
      "outputs": [
        {
          "output_type": "stream",
          "name": "stdout",
          "text": [
            "Enter the coefficient a: 3\n",
            "Enter the coefficient b: 4\n",
            "The solution for the equation 3.0x + 4.0 = 0 is x = -1.33\n"
          ]
        }
      ]
    },
    {
      "cell_type": "markdown",
      "source": [
        "###  26. Write a program that simulates a basic quiz game with multiple-choice questions and scoring."
      ],
      "metadata": {
        "id": "tNOLptUDzBPy"
      }
    },
    {
      "cell_type": "code",
      "source": [
        "\n",
        "import random\n",
        "\n",
        "questions = [\n",
        "    {\n",
        "        'text': 'What is the capital of France?',\n",
        "        'options': ['Berlin', 'Paris', 'Madrid', 'Rome'],\n",
        "        'correct_option': 2\n",
        "    },\n",
        "    {\n",
        "        'text': 'Which planet is known as the Red Planet?',\n",
        "        'options': ['Mars', 'Jupiter', 'Venus', 'Saturn'],\n",
        "        'correct_option': 1\n",
        "    },\n",
        "    {\n",
        "        'text': 'What is the largest mammal on Earth?',\n",
        "        'options': ['Elephant', 'Blue Whale', 'Giraffe', 'Hippopotamus'],\n",
        "        'correct_option': 2\n",
        "    }\n",
        "]\n",
        "\n",
        "score = 0\n",
        "\n",
        "random.shuffle(questions)\n",
        "\n",
        "for question in questions:\n",
        "    print(question['text'])\n",
        "    for i, option in enumerate(question['options'], start=1):\n",
        "        print(f\"{i}. {option}\")\n",
        "\n",
        "    user_answer = int(input(\"Enter your choice (1-4): \"))\n",
        "\n",
        "    if user_answer == question['correct_option']:\n",
        "        print(\"Correct!\\n\")\n",
        "        score += 1\n",
        "    else:\n",
        "        print(f\"Wrong! The correct answer is {question['correct_option']}: {question['options'][question['correct_option'] - 1]}\\n\")\n",
        "\n",
        "print(f\"Quiz completed! Your score is: {score}/{len(questions)}\")"
      ],
      "metadata": {
        "colab": {
          "base_uri": "https://localhost:8080/"
        },
        "id": "naJUXNTRzNws",
        "outputId": "29e93fcb-60ed-4fa2-94c7-5648cffd6e3e"
      },
      "execution_count": null,
      "outputs": [
        {
          "output_type": "stream",
          "name": "stdout",
          "text": [
            "What is the capital of France?\n",
            "1. Berlin\n",
            "2. Paris\n",
            "3. Madrid\n",
            "4. Rome\n",
            "Enter your choice (1-4): 1\n",
            "Wrong! The correct answer is 2: Paris\n",
            "\n",
            "What is the largest mammal on Earth?\n",
            "1. Elephant\n",
            "2. Blue Whale\n",
            "3. Giraffe\n",
            "4. Hippopotamus\n",
            "Enter your choice (1-4): 2\n",
            "Correct!\n",
            "\n",
            "Which planet is known as the Red Planet?\n",
            "1. Mars\n",
            "2. Jupiter\n",
            "3. Venus\n",
            "4. Saturn\n",
            "Enter your choice (1-4): 2\n",
            "Wrong! The correct answer is 1: Mars\n",
            "\n",
            "Quiz completed! Your score is: 1/3\n"
          ]
        }
      ]
    },
    {
      "cell_type": "markdown",
      "source": [
        "### 27. Develop a program that determines whether a given year is a prime number or not."
      ],
      "metadata": {
        "id": "N8k6H-Wvzzh0"
      }
    },
    {
      "cell_type": "code",
      "source": [
        "year=int(input(\"Enter year:\"))\n",
        "if year < 2:\n",
        "  print(f\"{year} is not a prime number\")\n",
        "else:\n",
        "  is_prime=True\n",
        "  for i in range(2,year):\n",
        "    if year%i==0:\n",
        "      is_prime=False\n",
        "      break\n",
        "  if is_prime:\n",
        "    print(f\"The {year} is a prime year\")\n",
        "  else:\n",
        "    print(f\"The {year} is not a prime year\")\n"
      ],
      "metadata": {
        "colab": {
          "base_uri": "https://localhost:8080/"
        },
        "id": "1XRl0NQZz4j8",
        "outputId": "ca7c9a21-7570-49ad-9e8f-f0c91b280e8e"
      },
      "execution_count": null,
      "outputs": [
        {
          "output_type": "stream",
          "name": "stdout",
          "text": [
            "Enter year:2024\n",
            "The 2024 is not a prime year\n"
          ]
        }
      ]
    },
    {
      "cell_type": "markdown",
      "source": [
        "### 28. Create a program that sorts three numbers in ascending order using conditional statements."
      ],
      "metadata": {
        "id": "5OQL9hkJ115P"
      }
    },
    {
      "cell_type": "code",
      "source": [
        "n1 = int(input(\"Enter the first number: \"))\n",
        "n2 = int(input(\"Enter the second number: \"))\n",
        "n3 = int(input(\"Enter the third number: \"))\n",
        "\n",
        "if n1 <= n2 <= n3:\n",
        "    sorted_numbers = (n1, n2, n3)\n",
        "elif n1 <= n3 <= n2:\n",
        "    sorted_numbers = (n1, n3, n2)\n",
        "elif n2 <= n1 <= n3:\n",
        "    sorted_numbers = (n2, n1, n3)\n",
        "elif n2 <= n3 <= n1:\n",
        "    sorted_numbers = (n2, n3, n1)\n",
        "elif n3 <= n1 <= n2:\n",
        "    sorted_numbers = (n3, n1, n2)\n",
        "else:\n",
        "    sorted_numbers = (n3, n2, n1)\n",
        "\n",
        "print(\"Numbers in ascending order:\", sorted_numbers)\n"
      ],
      "metadata": {
        "colab": {
          "base_uri": "https://localhost:8080/"
        },
        "id": "hE40vu2U1ZnU",
        "outputId": "acef310e-56a8-41cb-f841-c73b92f0bfab"
      },
      "execution_count": null,
      "outputs": [
        {
          "output_type": "stream",
          "name": "stdout",
          "text": [
            "Enter the first number: 89\n",
            "Enter the second number: 42\n",
            "Enter the third number: 65\n",
            "Numbers in ascending order: (42, 65, 89)\n"
          ]
        }
      ]
    },
    {
      "cell_type": "markdown",
      "source": [
        "### 29. Build a program that determines the roots of a quartic equation using numerical methods"
      ],
      "metadata": {
        "id": "_ruJmCBq2JOM"
      }
    },
    {
      "cell_type": "code",
      "source": [
        "def quartic_equation(x, coefficients):\n",
        "    # Function representing the quartic equation\n",
        "    return coefficients[0]*x**4 + coefficients[1]*x**3 + coefficients[2]*x**2 + coefficients[3]*x + coefficients[4]\n",
        "\n",
        "def quartic_derivative(x, coefficients):\n",
        "    # Derivative of the quartic equation\n",
        "    return 4*coefficients[0]*x**3 + 3*coefficients[1]*x**2 + 2*coefficients[2]*x + coefficients[3]\n",
        "\n",
        "def newton_raphson_quartic(guess, coefficients, tolerance=1e-6, max_iterations=100):\n",
        "    # Newton-Raphson method to find the root of the quartic equation\n",
        "    x = guess\n",
        "    iteration = 0\n",
        "\n",
        "    while abs(quartic_equation(x, coefficients)) > tolerance and iteration < max_iterations:\n",
        "        x = x - quartic_equation(x, coefficients) / quartic_derivative(x, coefficients)\n",
        "        iteration += 1\n",
        "\n",
        "    return x\n",
        "\n",
        "# Example usage:\n",
        "coefficients = [1, -10, 35, -50, 24]  # Adjust coefficients as needed\n",
        "initial_guess = 2.0\n",
        "\n",
        "root = newton_raphson_quartic(initial_guess, coefficients)\n",
        "\n",
        "print(f\"Approximate root of the quartic equation: {root}\")"
      ],
      "metadata": {
        "colab": {
          "base_uri": "https://localhost:8080/"
        },
        "id": "mtEk686j2PSu",
        "outputId": "6176f519-f6f6-422b-e3e6-70859a7a5ba1"
      },
      "execution_count": null,
      "outputs": [
        {
          "output_type": "stream",
          "name": "stdout",
          "text": [
            "Approximate root of the quartic equation: 2.0\n"
          ]
        }
      ]
    },
    {
      "cell_type": "markdown",
      "source": [
        "### 30. Write a program that calculates the BMI (Body Mass Index) and provides health recommendations based on the user's input."
      ],
      "metadata": {
        "id": "O7w79zJc2dj9"
      }
    },
    {
      "cell_type": "code",
      "source": [
        "def calculate_bmi(weight, height):\n",
        "    # Formula to calculate BMI: weight (kg) / (height (m) * height (m))\n",
        "    bmi = weight / (height ** 2)\n",
        "    return bmi\n",
        "\n",
        "def interpret_bmi(bmi):\n",
        "    if bmi < 18.5:\n",
        "        return \"Underweight\"\n",
        "    elif 18.5 <= bmi < 24.9:\n",
        "        return \"Normal weight\"\n",
        "    elif 25 <= bmi < 29.9:\n",
        "        return \"Overweight\"\n",
        "    else:\n",
        "        return \"Obese\"\n",
        "\n",
        "# Get user input for weight and height\n",
        "weight = float(input(\"Enter your weight in kilograms: \"))\n",
        "height = float(input(\"Enter your height in meters: \"))\n",
        "\n",
        "# Calculate BMI\n",
        "bmi = calculate_bmi(weight, height)\n",
        "\n",
        "# Interpret BMI and provide recommendations\n",
        "health_status = interpret_bmi(bmi)\n",
        "\n",
        "print(f\"Your BMI is: {bmi:.2f}\")\n",
        "print(f\"You are classified as: {health_status}\")\n",
        "\n",
        "if health_status == \"Underweight\":\n",
        "    print(\"Recommendation: Consider gaining some weight for better health.\")\n",
        "elif health_status == \"Normal weight\":\n",
        "    print(\"Recommendation: Maintain a healthy lifestyle to stay in the normal weight range.\")\n",
        "elif health_status == \"Overweight\":\n",
        "    print(\"Recommendation: Consider adopting a healthier diet and exercise routine.\")\n",
        "else:\n",
        "    print(\"Recommendation: Consult with a healthcare professional for weight management.\")"
      ],
      "metadata": {
        "colab": {
          "base_uri": "https://localhost:8080/"
        },
        "id": "KHmrDPe12foN",
        "outputId": "874d3b85-a251-4772-dd86-9b6f3d7453f6"
      },
      "execution_count": null,
      "outputs": [
        {
          "output_type": "stream",
          "name": "stdout",
          "text": [
            "Enter your weight in kilograms: 55\n",
            "Enter your height in meters: 5.7\n",
            "Your BMI is: 1.69\n",
            "You are classified as: Underweight\n",
            "Recommendation: Consider gaining some weight for better health.\n"
          ]
        }
      ]
    },
    {
      "cell_type": "markdown",
      "source": [
        "# Challenge Level:"
      ],
      "metadata": {
        "id": "P-_LXNpG21Oq"
      }
    },
    {
      "cell_type": "markdown",
      "source": [
        "### 31. Create a program that validates a password based on complexity rules (length, characters, etc.)."
      ],
      "metadata": {
        "id": "b6ouXJxC23xa"
      }
    },
    {
      "cell_type": "code",
      "source": [
        "password = input(\"Enter a password: \")\n",
        "\n",
        "# Check if the password is at least 8 characters long\n",
        "if len(password) < 8:\n",
        "    print(\"Password is not valid. It must be at least 8 characters long.\")\n",
        "\n",
        "else:\n",
        "\n",
        "\n",
        "    if not any(char.isupper() for char in password):\n",
        "        print(\"Password is not valid. It must contain at least one uppercase letter.\")\n",
        "\n",
        "    else:\n",
        "\n",
        "        if not any(char.islower() for char in password):\n",
        "            print(\"Password is not valid. It must contain at least one lowercase letter.\")\n",
        "        else:\n",
        "\n",
        "            if not any(char.isdigit() for char in password):\n",
        "                print(\"Password is not valid. It must contain at least one digit.\")\n",
        "            else:\n",
        "\n",
        "                if not any(char in \"!@#$%^&*()-_+=\" for char in password):\n",
        "                    print(\"Password is not valid. It must contain at least one special character.\")\n",
        "                else:\n",
        "                    print(\"Password is valid.\")"
      ],
      "metadata": {
        "colab": {
          "base_uri": "https://localhost:8080/"
        },
        "id": "vfy2oAqB3Asj",
        "outputId": "5838b818-d4c6-459b-b3bd-44e9ac0f45c8"
      },
      "execution_count": null,
      "outputs": [
        {
          "output_type": "stream",
          "name": "stdout",
          "text": [
            "Enter a password: Dileep@123\n",
            "Password is valid.\n"
          ]
        }
      ]
    },
    {
      "cell_type": "markdown",
      "source": [
        "### 32. Develop a program that performs matrix addition and subtraction based on user input."
      ],
      "metadata": {
        "id": "A9WQKl-A3htY"
      }
    },
    {
      "cell_type": "code",
      "source": [
        "row = int(input(\"Enter the number of rows: \"))\n",
        "col = int(input(\"Enter the number of columns: \"))\n",
        "\n",
        "# Input for the first matrix\n",
        "print(\"Enter the elements for matrix 1:\")\n",
        "matrix1 = [[int(input(f\"enter element at position ({i+1},{j+1}): \")) for i in range(col)] for j in range(row)]\n",
        "\n",
        "# Display the first matrix\n",
        "print(\"Matrix 1:\")\n",
        "for i in range(row):\n",
        "    for j in range(col):\n",
        "        print(matrix1[i][j], end=\" \")\n",
        "    print()\n",
        "\n",
        "# Input for the second matrix\n",
        "print(\"Enter the elements for matrix 2:\")\n",
        "matrix2 = [[int(input(f\"enter element at position ({i+1},{j+1}): \")) for i in range(col)] for j in range(row)]\n",
        "\n",
        "# Display the second matrix\n",
        "print(\"Matrix 2:\")\n",
        "for i in range(row):\n",
        "    for j in range(col):\n",
        "        print(matrix2[i][j], end=\" \")\n",
        "    print()\n",
        "\n",
        "# Matrix addition\n",
        "result_of_addition = [[0 for i in range(col)] for j in range(row)]\n",
        "for i in range(row):\n",
        "    for j in range(col):\n",
        "        result_of_addition[i][j] = matrix1[i][j] + matrix2[i][j]\n",
        "\n",
        "# Matrix subtraction\n",
        "result_of_subtraction = [[0 for i in range(col)] for j in range(row)]\n",
        "for i in range(row):\n",
        "    for j in range(col):\n",
        "        result_of_subtraction[i][j] = matrix1[i][j] - matrix2[i][j]\n",
        "\n",
        "# Display the results\n",
        "print(\"The addition of two matrices is:\")\n",
        "for i in range(row):\n",
        "    for j in range(col):\n",
        "        print(result_of_addition[i][j], end=\" \")\n",
        "    print()\n",
        "\n",
        "print(\"The subtraction of two matrices is:\")\n",
        "for i in range(row):\n",
        "    for j in range(col):\n",
        "        print(result_of_subtraction[i][j], end=\" \")\n",
        "    print()"
      ],
      "metadata": {
        "colab": {
          "base_uri": "https://localhost:8080/"
        },
        "id": "dCMEs9aQ4qdk",
        "outputId": "b77069d5-cfce-48e5-f4a7-3a32e9810b3c"
      },
      "execution_count": null,
      "outputs": [
        {
          "output_type": "stream",
          "name": "stdout",
          "text": [
            "Enter the number of rows: 2\n",
            "Enter the number of columns: 2\n",
            "Enter the elements for matrix 1:\n",
            "enter element at position (1,1): 1\n",
            "enter element at position (2,1): 2\n",
            "enter element at position (1,2): 3\n",
            "enter element at position (2,2): 4\n",
            "Matrix 1:\n",
            "1 2 \n",
            "3 4 \n",
            "Enter the elements for matrix 2:\n",
            "enter element at position (1,1): 5\n",
            "enter element at position (2,1): 6\n",
            "enter element at position (1,2): 7\n",
            "enter element at position (2,2): 8\n",
            "Matrix 2:\n",
            "5 6 \n",
            "7 8 \n",
            "The addition of two matrices is:\n",
            "6 8 \n",
            "10 12 \n",
            "The subtraction of two matrices is:\n",
            "-4 -4 \n",
            "-4 -4 \n"
          ]
        }
      ]
    },
    {
      "cell_type": "markdown",
      "source": [
        "### 33. Write a program that calculates the greatest common divisor (GCD) of two numbers using the Euclidean algorithm."
      ],
      "metadata": {
        "id": "4MrSJZug5Qs4"
      }
    },
    {
      "cell_type": "code",
      "source": [
        "def euclidean_gcd(a, b):\n",
        "    while b:\n",
        "        a, b = b, a % b\n",
        "    return a\n",
        "\n",
        "# Get user input for two numbers\n",
        "num1 = int(input(\"Enter the first number: \"))\n",
        "num2 = int(input(\"Enter the second number: \"))\n",
        "\n",
        "# Calculate and display the GCD using the Euclidean algorithm\n",
        "gcd_result = euclidean_gcd(num1, num2)\n",
        "print(f\"The GCD of {num1} and {num2} is: {gcd_result}\")"
      ],
      "metadata": {
        "colab": {
          "base_uri": "https://localhost:8080/"
        },
        "id": "HuIEfzZ44x6o",
        "outputId": "46973129-6f1d-4e2f-8851-64ba563f6e39"
      },
      "execution_count": null,
      "outputs": [
        {
          "output_type": "stream",
          "name": "stdout",
          "text": [
            "Enter the first number: 36\n",
            "Enter the second number: 42\n",
            "The GCD of 36 and 42 is: 6\n"
          ]
        }
      ]
    },
    {
      "cell_type": "markdown",
      "source": [
        "### 34. Build a program that performs matrix multiplication using nested loops and conditional statements."
      ],
      "metadata": {
        "id": "lFz57JCt5r6M"
      }
    },
    {
      "cell_type": "code",
      "source": [
        "row1 = int(input(\"Enter the number of rows for the first matrix: \"))\n",
        "col1 = int(input(\"Enter the number of columns for the first matrix: \"))\n",
        "row2_col1 = int(input(\"Enter the number of columns for the second matrix (should be equal to the first matrix's number of rows): \"))\n",
        "\n",
        "if row2_col1 == row1 :\n",
        "    # Input for the first matrix\n",
        "    print(\"Enter the elements for matrix 1:\")\n",
        "    matrix1 = [[int(input(f\"Enter element at position ({i+1}, {j+1}): \")) for j in range(col1)] for i in range(row1)]\n",
        "\n",
        "    # Display the first matrix\n",
        "    print(\"Matrix 1:\")\n",
        "    for i in range(row1):\n",
        "        for j in range(col1):\n",
        "            print(matrix1[i][j], end=\" \")\n",
        "        print()\n",
        "\n",
        "    # Input for the second matrix\n",
        "    print(\"Enter the elements for matrix 2:\")\n",
        "    matrix2 = [[int(input(f\"Enter element at position ({i+1}, {j+1}): \")) for j in range(row2_col1)] for i in range(col1)]\n",
        "\n",
        "    # Display the second matrix\n",
        "    print(\"Matrix 2:\")\n",
        "    for i in range(col1):\n",
        "        for j in range(row2_col1):\n",
        "            print(matrix2[i][j], end=\" \")\n",
        "        print()\n",
        "\n",
        "    # Result matrix initialization\n",
        "    result = [[0 for i in range(row2_col1)] for j in range(row1)]\n",
        "\n",
        "    # Matrix multiplication\n",
        "    for i in range(row1):\n",
        "        for j in range(row2_col1):\n",
        "            for k in range(col1):\n",
        "                result[i][j] += matrix1[i][k] * matrix2[k][j]\n",
        "\n",
        "    # Display the result\n",
        "    print(\"The multiplication of two matrices is:\")\n",
        "    for i in range(row1):\n",
        "        for j in range(row2_col1):\n",
        "            print(result[i][j], end=\" \")\n",
        "        print()\n",
        "\n",
        "else:\n",
        "    print(\"Please enter correct number ... which is equal to the first matrix. \")"
      ],
      "metadata": {
        "colab": {
          "base_uri": "https://localhost:8080/"
        },
        "id": "mszTDvVQ5xKK",
        "outputId": "d369e78b-55e7-4bec-a681-4a3dcc7da520"
      },
      "execution_count": null,
      "outputs": [
        {
          "output_type": "stream",
          "name": "stdout",
          "text": [
            "Enter the number of rows for the first matrix: 2\n",
            "Enter the number of columns for the first matrix: 3\n",
            "Enter the number of columns for the second matrix (should be equal to the first matrix's number of rows): 2\n",
            "Enter the elements for matrix 1:\n",
            "Enter element at position (1, 1): 1\n",
            "Enter element at position (1, 2): 2\n",
            "Enter element at position (1, 3): 3\n",
            "Enter element at position (2, 1): 2\n",
            "Enter element at position (2, 2): 1\n",
            "Enter element at position (2, 3): 3\n",
            "Matrix 1:\n",
            "1 2 3 \n",
            "2 1 3 \n",
            "Enter the elements for matrix 2:\n",
            "Enter element at position (1, 1): 3\n",
            "Enter element at position (1, 2): 1\n",
            "Enter element at position (2, 1): 4\n",
            "Enter element at position (2, 2): 3\n",
            "Enter element at position (3, 1): 1\n",
            "Enter element at position (3, 2): 3\n",
            "Matrix 2:\n",
            "3 1 \n",
            "4 3 \n",
            "1 3 \n",
            "The multiplication of two matrices is:\n",
            "14 16 \n",
            "13 14 \n"
          ]
        }
      ]
    },
    {
      "cell_type": "markdown",
      "source": [
        "### 35. Create a program that simulates a basic text-based tic-tac-toe game against the computer."
      ],
      "metadata": {
        "id": "k0QwhtHr6vyf"
      }
    },
    {
      "cell_type": "code",
      "source": [
        "import random\n",
        "\n",
        "def print_board(board):\n",
        "    for row in board:\n",
        "        print(\" | \".join(row))\n",
        "        print(\"-\" * 17)\n",
        "\n",
        "def check_winner(board, player):\n",
        "    # Check rows and columns\n",
        "    for i in range(3):\n",
        "        if all(board[i][j] == player for j in range(3)) or all(board[j][i] == player for j in range(3)):\n",
        "            return True\n",
        "\n",
        "    # Check diagonals\n",
        "    if all(board[i][i] == player for i in range(3)) or all(board[i][2 - i] == player for i in range(3)):\n",
        "        return True\n",
        "\n",
        "    return False\n",
        "\n",
        "def is_board_full(board):\n",
        "    return all(board[i][j] != ' ' for i in range(3) for j in range(3))\n",
        "\n",
        "def get_empty_cells(board):\n",
        "    return [(i, j) for i in range(3) for j in range(3) if board[i][j] == ' ']\n",
        "\n",
        "def player_move(board):\n",
        "    while True:\n",
        "        try:\n",
        "            row = int(input(\"Enter the row (1, 2, or 3): \")) - 1\n",
        "            col = int(input(\"Enter the column (1, 2, or 3): \")) - 1\n",
        "\n",
        "            if board[row][col] == ' ':\n",
        "                return row, col\n",
        "            else:\n",
        "                print(\"Cell already taken. Try again.\")\n",
        "        except (ValueError, IndexError):\n",
        "            print(\"Invalid input. Please enter valid row and column numbers.\")\n",
        "\n",
        "def computer_move(board):\n",
        "    empty_cells = get_empty_cells(board)\n",
        "    return random.choice(empty_cells)\n",
        "\n",
        "def play_tic_tac_toe():\n",
        "    board = [[' ' for _ in range(3)] for _ in range(3)]\n",
        "    player_symbol = 'X'\n",
        "    computer_symbol = 'O'\n",
        "\n",
        "    while True:\n",
        "        print_board(board)\n",
        "\n",
        "        # Player move\n",
        "        row, col = player_move(board)\n",
        "        board[row][col] = player_symbol\n",
        "\n",
        "        # Check if the player wins\n",
        "        if check_winner(board, player_symbol):\n",
        "            print_board(board)\n",
        "            print(\"Congratulations! You win!\")\n",
        "            break\n",
        "\n",
        "        # Check if the game is a tie\n",
        "        if is_board_full(board):\n",
        "            print_board(board)\n",
        "            print(\"It's a tie!\")\n",
        "            break\n",
        "\n",
        "        print_board(board)\n",
        "\n",
        "        # Computer move\n",
        "        print(\"Computer's move:\")\n",
        "        row, col = computer_move(board)\n",
        "        board[row][col] = computer_symbol\n",
        "\n",
        "        # Check if the computer wins\n",
        "        if check_winner(board, computer_symbol):\n",
        "            print_board(board)\n",
        "            print(\"Sorry, you lose. Better luck next time!\")\n",
        "            break\n",
        "\n",
        "        # Check if the game is a tie\n",
        "        if is_board_full(board):\n",
        "            print_board(board)\n",
        "            print(\"It's a tie!\")\n",
        "            break\n",
        "\n",
        "if __name__ == \"__main__\":\n",
        "    print(\"Welcome to Tic-Tac-Toe!\")\n",
        "    play_tic_tac_toe()"
      ],
      "metadata": {
        "colab": {
          "base_uri": "https://localhost:8080/"
        },
        "id": "jO23XwHi60TW",
        "outputId": "4d710527-9006-4576-8e7d-6ba4804bf6e7"
      },
      "execution_count": null,
      "outputs": [
        {
          "output_type": "stream",
          "name": "stdout",
          "text": [
            "Welcome to Tic-Tac-Toe!\n",
            "  |   |  \n",
            "-----------------\n",
            "  |   |  \n",
            "-----------------\n",
            "  |   |  \n",
            "-----------------\n",
            "Enter the row (1, 2, or 3): 1\n",
            "Enter the column (1, 2, or 3): 2\n",
            "  | X |  \n",
            "-----------------\n",
            "  |   |  \n",
            "-----------------\n",
            "  |   |  \n",
            "-----------------\n",
            "Computer's move:\n",
            "  | X |  \n",
            "-----------------\n",
            "  |   |  \n",
            "-----------------\n",
            "  |   | O\n",
            "-----------------\n",
            "Enter the row (1, 2, or 3): 3\n",
            "Enter the column (1, 2, or 3): 1\n",
            "  | X |  \n",
            "-----------------\n",
            "  |   |  \n",
            "-----------------\n",
            "X |   | O\n",
            "-----------------\n",
            "Computer's move:\n",
            "  | X |  \n",
            "-----------------\n",
            "  |   | O\n",
            "-----------------\n",
            "X |   | O\n",
            "-----------------\n",
            "Enter the row (1, 2, or 3): 1\n",
            "Enter the column (1, 2, or 3): 3\n",
            "  | X | X\n",
            "-----------------\n",
            "  |   | O\n",
            "-----------------\n",
            "X |   | O\n",
            "-----------------\n",
            "Computer's move:\n",
            "  | X | X\n",
            "-----------------\n",
            "O |   | O\n",
            "-----------------\n",
            "X |   | O\n",
            "-----------------\n",
            "Enter the row (1, 2, or 3): 1\n",
            "Enter the column (1, 2, or 3): 1\n",
            "X | X | X\n",
            "-----------------\n",
            "O |   | O\n",
            "-----------------\n",
            "X |   | O\n",
            "-----------------\n",
            "Congratulations! You win!\n"
          ]
        }
      ]
    },
    {
      "cell_type": "markdown",
      "source": [
        "### 36. Write a program that generates Fibonacci numbers up to a specified term using iterative methods."
      ],
      "metadata": {
        "id": "3mDcgU3p7KNF"
      }
    },
    {
      "cell_type": "code",
      "source": [
        "specific_term = int(input(\"Enter specific term: \"))\n",
        "\n",
        "lst = [0, 1]\n",
        "\n",
        "while lst[-1] < specific_term:\n",
        "    lst.append(lst[-1] + lst[-2])\n",
        "\n",
        "# Exclude the term greater than or equal to the specified term\n",
        "fibonacci_sequence = [i for i in lst if i < specific_term]\n",
        "\n",
        "print(f\"Fibonacci sequence up to {specific_term}: {fibonacci_sequence}\")\n"
      ],
      "metadata": {
        "colab": {
          "base_uri": "https://localhost:8080/"
        },
        "id": "IVUtWZ6B7U9A",
        "outputId": "23a5925a-5408-4be8-fe28-f32a8b8c8bb1"
      },
      "execution_count": null,
      "outputs": [
        {
          "output_type": "stream",
          "name": "stdout",
          "text": [
            "Enter specific term: 10\n",
            "Fibonacci sequence up to 10: [0, 1, 1, 2, 3, 5, 8]\n"
          ]
        }
      ]
    },
    {
      "cell_type": "markdown",
      "source": [
        "### 37. Develop a program that calculates the nth term of the Fibonacci sequence using memoization."
      ],
      "metadata": {
        "id": "qNb9lHbO9Nem"
      }
    },
    {
      "cell_type": "code",
      "source": [
        "term = int(input(\"Enter the number for the required Fibonacci nth term: \"))\n",
        "\n",
        "lst = [0, 1]\n",
        "\n",
        "if term >= len(lst):\n",
        "    while len(lst) < term:\n",
        "        lst.append(lst[-1] + lst[-2])\n",
        "\n",
        "print(f\"The {term}th term of the Fibonacci sequence is: {lst[term-1]}\")"
      ],
      "metadata": {
        "colab": {
          "base_uri": "https://localhost:8080/"
        },
        "id": "_gyxzzwP9UhY",
        "outputId": "a1a4c479-1372-4d1c-df0b-c091ec3e482b"
      },
      "execution_count": null,
      "outputs": [
        {
          "output_type": "stream",
          "name": "stdout",
          "text": [
            "Enter the number for the required Fibonacci nth term: 10\n",
            "The 10th term of the Fibonacci sequence is: 34\n"
          ]
        }
      ]
    },
    {
      "cell_type": "markdown",
      "source": [
        "### 38. Create a program that generates a calendar for a given month and year using conditional statements."
      ],
      "metadata": {
        "id": "eodfw3fb9tzk"
      }
    },
    {
      "cell_type": "code",
      "source": [
        "import calendar\n",
        "\n",
        "# Get user input for month and year\n",
        "year = int(input(\"Enter the year: \"))\n",
        "month = int(input(\"Enter the month (1-12): \"))\n",
        "\n",
        "# Check if the provided month and year are valid\n",
        "if 1 <= month <= 12:\n",
        "\n",
        "    # Generate and print the calendar\n",
        "    cal = calendar.month(year,month)\n",
        "    print(f\"\\nCalendar for {calendar.month_name[month]} {year}:\\n\")\n",
        "    print(cal)\n",
        "\n",
        "else:\n",
        "    print(\"Invalid month. Please enter a month between 1 and 12.\")"
      ],
      "metadata": {
        "colab": {
          "base_uri": "https://localhost:8080/"
        },
        "id": "-ebilkDI91Qw",
        "outputId": "0a083a69-02f8-4912-9891-6177bf1d7305"
      },
      "execution_count": null,
      "outputs": [
        {
          "output_type": "stream",
          "name": "stdout",
          "text": [
            "Enter the year: 2024\n",
            "Enter the month (1-12): 10\n",
            "\n",
            "Calendar for October 2024:\n",
            "\n",
            "    October 2024\n",
            "Mo Tu We Th Fr Sa Su\n",
            "    1  2  3  4  5  6\n",
            " 7  8  9 10 11 12 13\n",
            "14 15 16 17 18 19 20\n",
            "21 22 23 24 25 26 27\n",
            "28 29 30 31\n",
            "\n"
          ]
        }
      ]
    },
    {
      "cell_type": "markdown",
      "source": [
        "### 39. Build a program that simulates a basic text-based blackjack game against the computer."
      ],
      "metadata": {
        "id": "BEd_Ot4C80IU"
      }
    },
    {
      "cell_type": "code",
      "source": [
        "import random\n",
        "\n",
        "def deal_card():\n",
        "    \"\"\"Returns a random card from the deck.\"\"\"\n",
        "    cards = [11, 2, 3, 4, 5, 6, 7, 8, 9, 10, 10, 10, 10]\n",
        "    return random.choice(cards)\n",
        "\n",
        "def calculate_score(cards):\n",
        "    \"\"\"Calculates the total score of a hand of cards.\"\"\"\n",
        "    if sum(cards) == 21 and len(cards) == 2:\n",
        "        return 0  # Blackjack\n",
        "\n",
        "    if 11 in cards and sum(cards) > 21:\n",
        "        cards.remove(11)\n",
        "        cards.append(1)\n",
        "\n",
        "    return sum(cards)\n",
        "\n",
        "def compare(user_score, computer_score):\n",
        "    \"\"\"Compares the scores and determines the winner.\"\"\"\n",
        "    if user_score == computer_score:\n",
        "        return \"It's a draw!\"\n",
        "    elif computer_score == 0:\n",
        "        return \"Computer has Blackjack. You lose.\"\n",
        "    elif user_score == 0:\n",
        "        return \"You have Blackjack. You win!\"\n",
        "    elif user_score > 21:\n",
        "        return \"You went over. You lose.\"\n",
        "    elif computer_score > 21:\n",
        "        return \"Computer went over. You win!\"\n",
        "    elif user_score > computer_score:\n",
        "        return \"You win!\"\n",
        "    else:\n",
        "        return \"You lose.\"\n",
        "\n",
        "def play_blackjack():\n",
        "    \"\"\"Plays a text-based Blackjack game.\"\"\"\n",
        "    user_cards = []\n",
        "    computer_cards = []\n",
        "    game_over = False\n",
        "\n",
        "    for _ in range(2):\n",
        "        user_cards.append(deal_card())\n",
        "        computer_cards.append(deal_card())\n",
        "\n",
        "    while not game_over:\n",
        "        user_score = calculate_score(user_cards)\n",
        "        computer_score = calculate_score(computer_cards)\n",
        "\n",
        "        print(f\"Your cards: {user_cards}, current score: {user_score}\")\n",
        "        print(f\"Computer's first card: {computer_cards[0]}\")\n",
        "\n",
        "        if user_score == 0 or computer_score == 0 or user_score > 21:\n",
        "            game_over = True\n",
        "        else:\n",
        "            should_continue = input(\"Type 'y' to get another card, or 'n' to pass: \").lower()\n",
        "            if should_continue == 'y':\n",
        "                user_cards.append(deal_card())\n",
        "            else:\n",
        "                game_over = True\n",
        "\n",
        "    while computer_score != 0 and computer_score < 17:\n",
        "        computer_cards.append(deal_card())\n",
        "        computer_score = calculate_score(computer_cards)\n",
        "\n",
        "    print(f\"Your final hand: {user_cards}, final score: {user_score}\")\n",
        "    print(f\"Computer's final hand: {computer_cards}, final score: {computer_score}\")\n",
        "    print(compare(user_score, computer_score))\n",
        "\n",
        "play_blackjack()"
      ],
      "metadata": {
        "colab": {
          "base_uri": "https://localhost:8080/"
        },
        "id": "O0i6o08j-Mtp",
        "outputId": "444a305a-fa98-4736-8a48-ce11ff3c4982"
      },
      "execution_count": null,
      "outputs": [
        {
          "output_type": "stream",
          "name": "stdout",
          "text": [
            "Your cards: [9, 4], current score: 13\n",
            "Computer's first card: 10\n",
            "Type 'y' to get another card, or 'n' to pass: n\n",
            "Your final hand: [9, 4], final score: 13\n",
            "Computer's final hand: [10, 9], final score: 19\n",
            "You lose.\n"
          ]
        }
      ]
    },
    {
      "cell_type": "markdown",
      "source": [
        "### 40. Write a program that generates the prime factors of a given number using trial division."
      ],
      "metadata": {
        "id": "TXpQdC_q-g27"
      }
    },
    {
      "cell_type": "code",
      "source": [
        "number = int(input(\"Enter a number to find its prime factors: \"))\n",
        "factors = []\n",
        "\n",
        "# Trial division to find prime factors\n",
        "divisor = 2\n",
        "while divisor <= number:\n",
        "    if number % divisor == 0:\n",
        "        factors.append(divisor)\n",
        "        number //= divisor\n",
        "    else:\n",
        "        divisor += 1\n",
        "\n",
        "# Display the prime factors\n",
        "print(f\"The prime factors of {number} are: {factors}\")"
      ],
      "metadata": {
        "colab": {
          "base_uri": "https://localhost:8080/"
        },
        "id": "QuYdplxu-lS_",
        "outputId": "73e8cb84-0435-4c8e-a1bd-32cf9c302a0a"
      },
      "execution_count": null,
      "outputs": [
        {
          "output_type": "stream",
          "name": "stdout",
          "text": [
            "Enter a number to find its prime factors: 10\n",
            "The prime factors of 1 are: [2, 5]\n"
          ]
        }
      ]
    },
    {
      "cell_type": "markdown",
      "source": [],
      "metadata": {
        "id": "-6RrwpXu-Lnh"
      }
    }
  ]
}