{
  "cells": [
    {
      "cell_type": "markdown",
      "metadata": {
        "id": "view-in-github",
        "colab_type": "text"
      },
      "source": [
        "<a href=\"https://colab.research.google.com/github/pav16an/PWSKILLS_FULLSTACK_DATA_SCIENCE_PRO/blob/main/ml_assignment_4.ipynb\" target=\"_parent\"><img src=\"https://colab.research.google.com/assets/colab-badge.svg\" alt=\"Open In Colab\"/></a>"
      ]
    },
    {
      "cell_type": "markdown",
      "metadata": {
        "id": "G4Jkj_fr-wg3"
      },
      "source": [
        "# Machine Learning Assignment 5 Answers\n",
        "\n",
        "This notebook contains comprehensive answers to the questions from the assignment_4.pdf."
      ],
      "id": "G4Jkj_fr-wg3"
    },
    {
      "cell_type": "markdown",
      "metadata": {
        "id": "wmlV8f4e-wg5"
      },
      "source": [
        "### 1. What is clustering in machine learning?\n",
        "Clustering is an unsupervised learning technique that groups similar data points into clusters based on their features."
      ],
      "id": "wmlV8f4e-wg5"
    },
    {
      "cell_type": "markdown",
      "metadata": {
        "id": "bCOmJrFT-wg5"
      },
      "source": [
        "### 2. Explain the difference between supervised and unsupervised clustering?\n",
        "Supervised learning uses labeled data; clustering is unsupervised and uses unlabeled data to find inherent groupings."
      ],
      "id": "bCOmJrFT-wg5"
    },
    {
      "cell_type": "markdown",
      "metadata": {
        "id": "iDBG5pNV-wg5"
      },
      "source": [
        "### 3. What are the key applications of clustering algorithms?\n",
        "Customer segmentation, image segmentation, anomaly detection."
      ],
      "id": "iDBG5pNV-wg5"
    },
    {
      "cell_type": "markdown",
      "metadata": {
        "id": "_EuyYjB8-wg5"
      },
      "source": [
        "### 4. Describe the K-means clustering algorithm?\n",
        "Partitions data into K clusters by minimizing within-cluster variance iteratively."
      ],
      "id": "_EuyYjB8-wg5"
    },
    {
      "cell_type": "markdown",
      "metadata": {
        "id": "P_lQGNZv-wg6"
      },
      "source": [
        "### 5. Main advantages and disadvantages of K-means clustering?\n",
        "Advantages: Simple, scalable. Disadvantages: Requires K, sensitive to initialization and outliers."
      ],
      "id": "P_lQGNZv-wg6"
    },
    {
      "cell_type": "markdown",
      "metadata": {
        "id": "zwz9C6TF-wg6"
      },
      "source": [
        "### 6. How does hierarchical clustering work?\n",
        "Builds a tree of clusters by either agglomerative (bottom-up) or divisive (top-down) methods."
      ],
      "id": "zwz9C6TF-wg6"
    },
    {
      "cell_type": "markdown",
      "metadata": {
        "id": "KB1pULzq-wg6"
      },
      "source": [
        "### 7. Different linkage criteria used in hierarchical clustering?\n",
        "Single, complete, average linkage."
      ],
      "id": "KB1pULzq-wg6"
    },
    {
      "cell_type": "markdown",
      "metadata": {
        "id": "oxFLrdDa-wg6"
      },
      "source": [
        "### 8. Explain the concept of DBSCAN clustering?\n",
        "Density-based clustering that groups points closely packed together and marks others as noise."
      ],
      "id": "oxFLrdDa-wg6"
    },
    {
      "cell_type": "markdown",
      "metadata": {
        "id": "MVlpeafi-wg7"
      },
      "source": [
        "### 9. Parameters involved in DBSCAN clustering?\n",
        "Epsilon (neighborhood radius), MinPts (minimum points to form a cluster)."
      ],
      "id": "MVlpeafi-wg7"
    },
    {
      "cell_type": "markdown",
      "metadata": {
        "id": "l0UmniBc-wg7"
      },
      "source": [
        "### 10. Describe the process of evaluating clustering algorithms?\n",
        "Using metrics like silhouette score, Davies-Bouldin index."
      ],
      "id": "l0UmniBc-wg7"
    },
    {
      "cell_type": "markdown",
      "metadata": {
        "id": "1_Gv4EpZ-wg7"
      },
      "source": [
        "### 11. What is the silhouette score, and how is it calculated?\n",
        "Measures how similar a point is to its cluster compared to other clusters; ranges from -1 to 1."
      ],
      "id": "1_Gv4EpZ-wg7"
    },
    {
      "cell_type": "markdown",
      "metadata": {
        "id": "RcHOEvpr-wg7"
      },
      "source": [
        "### 12. Challenges of clustering high-dimensional data?\n",
        "Curse of dimensionality, distance measures become less meaningful."
      ],
      "id": "RcHOEvpr-wg7"
    },
    {
      "cell_type": "markdown",
      "metadata": {
        "id": "L8OHrMde-wg7"
      },
      "source": [
        "### 13. Explain the concept of density-based clustering?\n",
        "Clusters are dense regions separated by sparse regions."
      ],
      "id": "L8OHrMde-wg7"
    },
    {
      "cell_type": "markdown",
      "metadata": {
        "id": "AtmSHWBd-wg7"
      },
      "source": [
        "### 14. How does Gaussian Mixture Model (GMM) clustering differ from K-means?\n",
        "GMM models clusters as Gaussian distributions, allowing soft assignments."
      ],
      "id": "AtmSHWBd-wg7"
    },
    {
      "cell_type": "markdown",
      "metadata": {
        "id": "AClQZ6fT-wg7"
      },
      "source": [
        "### 15. Limitations of traditional clustering algorithms?\n",
        "Sensitivity to noise, need to specify number of clusters."
      ],
      "id": "AClQZ6fT-wg7"
    },
    {
      "cell_type": "markdown",
      "metadata": {
        "id": "vXokO5Es-wg8"
      },
      "source": [
        "### 16. Applications of spectral clustering?\n",
        "Image segmentation, social network analysis."
      ],
      "id": "vXokO5Es-wg8"
    },
    {
      "cell_type": "markdown",
      "metadata": {
        "id": "p3Nap0Ir-wg8"
      },
      "source": [
        "### 17. Explain the concept of affinity propagation?\n",
        "Clustering by message passing between points without specifying number of clusters."
      ],
      "id": "p3Nap0Ir-wg8"
    },
    {
      "cell_type": "markdown",
      "metadata": {
        "id": "9NaGqmYu-wg8"
      },
      "source": [
        "### 18. How do you handle categorical variables in clustering?\n",
        "Using encoding techniques or specialized algorithms."
      ],
      "id": "9NaGqmYu-wg8"
    },
    {
      "cell_type": "markdown",
      "metadata": {
        "id": "-hesQJ9q-wg8"
      },
      "source": [
        "### 19. Describe the elbow method for determining the optimal number of clusters?\n",
        "Plot within-cluster sum of squares vs number of clusters and look for elbow point."
      ],
      "id": "-hesQJ9q-wg8"
    },
    {
      "cell_type": "markdown",
      "metadata": {
        "id": "oXIqFxAW-wg8"
      },
      "source": [
        "### 20. Emerging trends in clustering research?\n",
        "Deep clustering, scalable algorithms."
      ],
      "id": "oXIqFxAW-wg8"
    },
    {
      "cell_type": "markdown",
      "metadata": {
        "id": "O5tv4kke-wg8"
      },
      "source": [
        "### 21. What is anomaly detection, and why is it important?\n",
        "Identifying rare or unusual data points; important for fraud detection, fault diagnosis."
      ],
      "id": "O5tv4kke-wg8"
    },
    {
      "cell_type": "markdown",
      "metadata": {
        "id": "3JIDAJE5-wg8"
      },
      "source": [
        "### 22. Types of anomalies encountered in anomaly detection?\n",
        "Point anomalies, contextual anomalies, collective anomalies."
      ],
      "id": "3JIDAJE5-wg8"
    },
    {
      "cell_type": "markdown",
      "metadata": {
        "id": "7GCYSUez-wg8"
      },
      "source": [
        "### 23. Explain the difference between supervised and unsupervised anomaly detection techniques?\n",
        "Supervised uses labeled anomalies; unsupervised detects anomalies without labels."
      ],
      "id": "7GCYSUez-wg8"
    },
    {
      "cell_type": "markdown",
      "metadata": {
        "id": "i6Uv4IhG-wg8"
      },
      "source": [
        "### 24. Describe the Isolation Forest algorithm for anomaly detection?\n",
        "An ensemble method isolating anomalies by random partitioning."
      ],
      "id": "i6Uv4IhG-wg8"
    },
    {
      "cell_type": "markdown",
      "metadata": {
        "id": "zy4oBKPz-wg8"
      },
      "source": [
        "### 25. How does One-Class SVM work in anomaly detection?\n",
        "Learns boundary around normal data to detect outliers."
      ],
      "id": "zy4oBKPz-wg8"
    },
    {
      "cell_type": "markdown",
      "metadata": {
        "id": "iDAqYdMp-wg8"
      },
      "source": [
        "### 26. Discuss the challenges of anomaly detection in high-dimensional data?\n",
        "Sparsity, noise, computational complexity."
      ],
      "id": "iDAqYdMp-wg8"
    },
    {
      "cell_type": "markdown",
      "metadata": {
        "id": "RpvVTSKt-wg8"
      },
      "source": [
        "### 27. Explain the concept of novelty detection?\n",
        "Detecting new or unseen anomalies in data."
      ],
      "id": "RpvVTSKt-wg8"
    },
    {
      "cell_type": "markdown",
      "metadata": {
        "id": "dyXv_w---wg8"
      },
      "source": [
        "### 28. What are some real-world applications of anomaly detection?\n",
        "Network security, healthcare monitoring."
      ],
      "id": "dyXv_w---wg8"
    },
    {
      "cell_type": "markdown",
      "metadata": {
        "id": "8UdGcaHf-wg8"
      },
      "source": [
        "### 29. Describe the Local Outlier Factor (LOF) algorithm?\n",
        "Measures local density deviation to identify outliers."
      ],
      "id": "8UdGcaHf-wg8"
    },
    {
      "cell_type": "markdown",
      "metadata": {
        "id": "IOiXvS1F-wg9"
      },
      "source": [
        "### 30. How do you evaluate the performance of an anomaly detection model?\n",
        "Using precision, recall, F1-score, ROC curves."
      ],
      "id": "IOiXvS1F-wg9"
    },
    {
      "cell_type": "markdown",
      "metadata": {
        "id": "vlTkG1Ze-wg9"
      },
      "source": [
        "### 31. Discuss the role of feature engineering in anomaly detection?\n",
        "Improves detection by creating informative features."
      ],
      "id": "vlTkG1Ze-wg9"
    },
    {
      "cell_type": "markdown",
      "metadata": {
        "id": "tAXqjBc2-wg9"
      },
      "source": [
        "### 32. What are the limitations of traditional anomaly detection methods?\n",
        "Assumptions about data distribution, sensitivity to noise."
      ],
      "id": "tAXqjBc2-wg9"
    },
    {
      "cell_type": "markdown",
      "metadata": {
        "id": "bwOtp6rq-wg9"
      },
      "source": [
        "### 33. Explain the concept of ensemble methods in anomaly detection?\n",
        "Combining multiple detectors to improve robustness."
      ],
      "id": "bwOtp6rq-wg9"
    },
    {
      "cell_type": "markdown",
      "metadata": {
        "id": "_D-WcAWm-wg9"
      },
      "source": [
        "### 34. How does autoencoder-based anomaly detection work?\n",
        "Learns compressed representation; high reconstruction error indicates anomaly."
      ],
      "id": "_D-WcAWm-wg9"
    },
    {
      "cell_type": "markdown",
      "metadata": {
        "id": "VKKmJ2wy-wg9"
      },
      "source": [
        "### 35. What are some approaches for handling imbalanced data in anomaly detection?\n",
        "Resampling, synthetic data generation."
      ],
      "id": "VKKmJ2wy-wg9"
    },
    {
      "cell_type": "markdown",
      "metadata": {
        "id": "COtnlWQ8-wg9"
      },
      "source": [
        "### 36. Describe the concept of semi-supervised anomaly detection?\n",
        "Uses labeled normal data and unlabeled data to detect anomalies."
      ],
      "id": "COtnlWQ8-wg9"
    },
    {
      "cell_type": "markdown",
      "metadata": {
        "id": "KPCscAL2-wg9"
      },
      "source": [
        "### 37. Discuss the trade-offs between false positives and false negatives in anomaly detection?\n",
        "Balancing detection sensitivity and false alarm rate."
      ],
      "id": "KPCscAL2-wg9"
    },
    {
      "cell_type": "markdown",
      "metadata": {
        "id": "q2cLreJC-wg-"
      },
      "source": [
        "### 38. How do you interpret the results of an anomaly detection model?\n",
        "Analyzing detected anomalies and their context."
      ],
      "id": "q2cLreJC-wg-"
    },
    {
      "cell_type": "markdown",
      "metadata": {
        "id": "Ze6qy-fb-wg-"
      },
      "source": [
        "### 39. What are some open research challenges in anomaly detection?\n",
        "Scalability, interpretability, evolving data."
      ],
      "id": "Ze6qy-fb-wg-"
    },
    {
      "cell_type": "markdown",
      "metadata": {
        "id": "JaHONreo-wg-"
      },
      "source": [
        "### 40. Explain the concept of contextual anomaly detection?\n",
        "Detecting anomalies considering context or environment."
      ],
      "id": "JaHONreo-wg-"
    },
    {
      "cell_type": "markdown",
      "metadata": {
        "id": "zMDNv37O-wg-"
      },
      "source": [
        "### 41. What is time series analysis, and what are its key components?\n",
        "Analyzing data points over time; components include trend, seasonality, noise."
      ],
      "id": "zMDNv37O-wg-"
    },
    {
      "cell_type": "markdown",
      "metadata": {
        "id": "uqtAhNfu-wg-"
      },
      "source": [
        "### 42. Discuss the difference between univariate and multivariate time series analysis?\n",
        "Univariate analyzes one variable; multivariate analyzes multiple variables."
      ],
      "id": "uqtAhNfu-wg-"
    },
    {
      "cell_type": "markdown",
      "metadata": {
        "id": "5-2mN9hJ-wg-"
      },
      "source": [
        "### 43. Describe the process of time series decomposition?\n",
        "Separating series into trend, seasonal, and residual components."
      ],
      "id": "5-2mN9hJ-wg-"
    },
    {
      "cell_type": "markdown",
      "metadata": {
        "id": "H6uGFjr0-wg-"
      },
      "source": [
        "### 44. What are the main components of a time series decomposition?\n",
        "Trend, seasonality, residual."
      ],
      "id": "H6uGFjr0-wg-"
    },
    {
      "cell_type": "markdown",
      "metadata": {
        "id": "_Uat-kNF-wg_"
      },
      "source": [
        "### 45. Explain the concept of stationarity in time series data?\n",
        "Statistical properties like mean and variance are constant over time."
      ],
      "id": "_Uat-kNF-wg_"
    },
    {
      "cell_type": "markdown",
      "metadata": {
        "id": "0UGGhL3q-wg_"
      },
      "source": [
        "### 46. How do you test for stationarity in a time series?\n",
        "Using tests like Augmented Dickey-Fuller (ADF)."
      ],
      "id": "0UGGhL3q-wg_"
    },
    {
      "cell_type": "markdown",
      "metadata": {
        "id": "4Zqz7Pc3-wg_"
      },
      "source": [
        "### 47. Discuss the autoregressive integrated moving average (ARIMA) model?\n",
        "Autoregressive Integrated Moving Average model for forecasting stationary time series."
      ],
      "id": "4Zqz7Pc3-wg_"
    },
    {
      "cell_type": "markdown",
      "metadata": {
        "id": "Uk0F55GO-wg_"
      },
      "source": [
        "### 48. What are the parameters of the ARIMA model?\n",
        "p (autoregressive order), d (differencing order), q (moving average order)."
      ],
      "id": "Uk0F55GO-wg_"
    },
    {
      "cell_type": "markdown",
      "metadata": {
        "id": "ptcSCqxE-wg_"
      },
      "source": [
        "### 49. Describe the seasonal autoregressive integrated moving average (SARIMA) model?\n",
        "Seasonal ARIMA model accounting for seasonality."
      ],
      "id": "ptcSCqxE-wg_"
    },
    {
      "cell_type": "markdown",
      "metadata": {
        "id": "PLFF7dqs-wg_"
      },
      "source": [
        "### 50. How do you choose the appropriate lag order in an ARIMA model?\n",
        "Using ACF and PACF plots."
      ],
      "id": "PLFF7dqs-wg_"
    },
    {
      "cell_type": "markdown",
      "metadata": {
        "id": "dQDmutO5-wg_"
      },
      "source": [
        "### 51. Explain the concept of differencing in time series analysis?\n",
        "Subtracting previous observations to make series stationary."
      ],
      "id": "dQDmutO5-wg_"
    },
    {
      "cell_type": "markdown",
      "metadata": {
        "id": "PQYwEHON-wg_"
      },
      "source": [
        "### 52. What is the Box-Jenkins methodology?\n",
        "Systematic approach to identify, estimate, and check ARIMA models."
      ],
      "id": "PQYwEHON-wg_"
    },
    {
      "cell_type": "markdown",
      "metadata": {
        "id": "aqXcBMXe-wg_"
      },
      "source": [
        "### 53. Discuss the role of ACF and PACF plots in identifying ARIMA parameters?\n",
        "Identify order of AR and MA components."
      ],
      "id": "aqXcBMXe-wg_"
    },
    {
      "cell_type": "markdown",
      "metadata": {
        "id": "Qkd1kyyQ-wg_"
      },
      "source": [
        "### 54. How do you handle missing values in time series data?\n",
        "Interpolation, forward/backward fill."
      ],
      "id": "Qkd1kyyQ-wg_"
    },
    {
      "cell_type": "markdown",
      "metadata": {
        "id": "5i978dQu-wg_"
      },
      "source": [
        "### 55. Describe the concept of exponential smoothing?\n",
        "Weighted moving average giving more weight to recent observations."
      ],
      "id": "5i978dQu-wg_"
    },
    {
      "cell_type": "markdown",
      "metadata": {
        "id": "u573y8m--whA"
      },
      "source": [
        "### 56. What is the Holt-Winters method, and when is it used?\n",
        "Exponential smoothing method for data with trend and seasonality."
      ],
      "id": "u573y8m--whA"
    },
    {
      "cell_type": "markdown",
      "metadata": {
        "id": "Gdb8LpkI-whA"
      },
      "source": [
        "### 57. Discuss the challenges of forecasting long-term trends in time series data?\n",
        "Model drift, changing patterns."
      ],
      "id": "Gdb8LpkI-whA"
    },
    {
      "cell_type": "markdown",
      "metadata": {
        "id": "hObjmu_v-whA"
      },
      "source": [
        "### 58. Explain the concept of seasonality in time series analysis?\n",
        "Regular repeating patterns over fixed periods."
      ],
      "id": "hObjmu_v-whA"
    },
    {
      "cell_type": "markdown",
      "metadata": {
        "id": "f5kFe8-k-whA"
      },
      "source": [
        "### 59. How do you evaluate the performance of a time series forecasting model?\n",
        "Using metrics like MAE, RMSE."
      ],
      "id": "f5kFe8-k-whA"
    },
    {
      "cell_type": "markdown",
      "metadata": {
        "id": "3ziKx90f-whA"
      },
      "source": [
        "### 60. What are some advanced techniques for time series forecasting?\n",
        "LSTM, Prophet, state-space models."
      ],
      "id": "3ziKx90f-whA"
    }
  ],
  "metadata": {
    "kernelspec": {
      "display_name": "Python 3",
      "language": "python",
      "name": "python3"
    },
    "language_info": {
      "name": "python",
      "version": "3.8"
    },
    "colab": {
      "provenance": [],
      "include_colab_link": true
    }
  },
  "nbformat": 4,
  "nbformat_minor": 5
}