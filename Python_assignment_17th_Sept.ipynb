{
  "cells": [
    {
      "cell_type": "markdown",
      "metadata": {
        "id": "view-in-github",
        "colab_type": "text"
      },
      "source": [
        "<a href=\"https://colab.research.google.com/github/pav16an/PWSKILLS_FULLSTACK_DATA_SCIENCE_PRO/blob/main/Python_assignment_17th_Sept.ipynb\" target=\"_parent\"><img src=\"https://colab.research.google.com/assets/colab-badge.svg\" alt=\"Open In Colab\"/></a>"
      ]
    },
    {
      "cell_type": "code",
      "execution_count": null,
      "metadata": {
        "colab": {
          "base_uri": "https://localhost:8080/"
        },
        "id": "773924e6",
        "outputId": "d2130403-fd93-4345-d78a-64e6562c779b"
      },
      "outputs": [
        {
          "data": {
            "text/plain": [
              "445"
            ]
          },
          "execution_count": 33,
          "metadata": {},
          "output_type": "execute_result"
        }
      ],
      "source": [
        "445##For Loop :-"
      ],
      "id": "773924e6"
    },
    {
      "cell_type": "code",
      "execution_count": null,
      "metadata": {
        "colab": {
          "base_uri": "https://localhost:8080/"
        },
        "id": "edb28431",
        "outputId": "a361e264-fb64-44b5-e0c8-69aa20e9ecb1"
      },
      "outputs": [
        {
          "name": "stdout",
          "output_type": "stream",
          "text": [
            "1 2 3 4 5 6 7 8 9 10 "
          ]
        }
      ],
      "source": [
        "#1.Write a Python program to print numbers from 1 to 10 using a for loop.\n",
        "\n",
        "for i in range(1,11):\n",
        "    print(i,end=\" \")"
      ],
      "id": "edb28431"
    },
    {
      "cell_type": "markdown",
      "metadata": {
        "id": "e3fc5ed6"
      },
      "source": [
        "#Explain the difference between a for loop and a while loop in Python.\n",
        "\n",
        "for loop:-\n",
        "-> for loop is used iterate the loop multiple times.\n",
        "-> it is used when know the howmany iterations to do.\n",
        "-> for loop contains inside for loop called nested for loop.\n",
        "\n",
        "\n",
        "\n",
        "while loop:-\n",
        "->while loops iterate the loop untill satisfies the condition.\n",
        "->it is used when we dont know the number of iterations.\n",
        "->it does not contain nested while loop..\n",
        "        \n"
      ],
      "id": "e3fc5ed6"
    },
    {
      "cell_type": "code",
      "execution_count": null,
      "metadata": {
        "colab": {
          "base_uri": "https://localhost:8080/"
        },
        "id": "d42e0af8",
        "outputId": "3d698fd2-6cbe-48cf-eab7-f6c66adb22b2"
      },
      "outputs": [
        {
          "name": "stdout",
          "output_type": "stream",
          "text": [
            "5050\n"
          ]
        }
      ],
      "source": [
        "#3.Write a Python program to calculate the sum of all numbers from 1 to 100 using a for loop.\n",
        "total=0\n",
        "for i in range(1,101):\n",
        "    total+=i\n",
        "print(total)\n"
      ],
      "id": "d42e0af8"
    },
    {
      "cell_type": "code",
      "execution_count": null,
      "metadata": {
        "colab": {
          "base_uri": "https://localhost:8080/",
          "height": 88
        },
        "id": "14b47218",
        "outputId": "c03137f9-31a6-407e-aacf-e5213b5bb51b"
      },
      "outputs": [
        {
          "name": "stdout",
          "output_type": "stream",
          "text": [
            "1 2 3 4 5 6 7 8 9 I like apple\n",
            "I like banana\n",
            "I like orange\n"
          ]
        },
        {
          "data": {
            "application/vnd.google.colaboratory.intrinsic+json": {
              "type": "string"
            },
            "text/plain": [
              "'This loop would iterate through each fruit in the fruits list and print a message for each one.'"
            ]
          },
          "execution_count": 36,
          "metadata": {},
          "output_type": "execute_result"
        }
      ],
      "source": [
        "#4.How do you iterate through a list using a for loop in Python?\n",
        "'''In Python, you can use a for loop to iterate through a list. Here's a basic syntax for a for loop:'''\n",
        "for i in range(1,10):\n",
        "    print(i,end=\" \")\n",
        "\n",
        "'''In this example, my_list is a list of integers. The for loop iterates through each element in the list, and the variable item takes on the value of each element during each iteration. The indented block following the for statement is the body of the loop, where you can perform operations on each item.\n",
        "\n",
        "You can replace item with any variable name you prefer. For example, you might write:'''\n",
        "\n",
        "fruits = [\"apple\", \"banana\", \"orange\"]\n",
        "\n",
        "for fruit in fruits:\n",
        "    print(\"I like\", fruit)\n",
        "\n",
        "\n",
        "\n",
        "'''This loop would iterate through each fruit in the fruits list and print a message for each one.'''"
      ],
      "id": "14b47218"
    },
    {
      "cell_type": "code",
      "execution_count": null,
      "metadata": {
        "colab": {
          "base_uri": "https://localhost:8080/"
        },
        "id": "9a8b7189",
        "outputId": "749013b9-3890-470f-eca4-23f9bb76b2df"
      },
      "outputs": [
        {
          "name": "stdout",
          "output_type": "stream",
          "text": [
            "120\n"
          ]
        }
      ],
      "source": [
        "#5.Write a Python program to find the product of all elements in a list using a for loop\n",
        "total=1\n",
        "for i in range(1,6):\n",
        "    total=i*total\n",
        "print(total)"
      ],
      "id": "9a8b7189"
    },
    {
      "cell_type": "code",
      "execution_count": null,
      "metadata": {
        "colab": {
          "base_uri": "https://localhost:8080/"
        },
        "id": "d6432a7a",
        "outputId": "5ebec445-dfca-424f-afc4-e0edd72a0b60"
      },
      "outputs": [
        {
          "name": "stdout",
          "output_type": "stream",
          "text": [
            "2 4 6 8 10 12 14 16 18 20 "
          ]
        }
      ],
      "source": [
        "#6.Create a Python program that prints all even numbers from 1 to 20 using a for loop.\n",
        "for i in range(1,21):\n",
        "    if i%2 == 0:\n",
        "        print(i,end=\" \")\n",
        "\n"
      ],
      "id": "d6432a7a"
    },
    {
      "cell_type": "code",
      "execution_count": null,
      "metadata": {
        "colab": {
          "base_uri": "https://localhost:8080/"
        },
        "id": "c7e6fe66",
        "outputId": "126c44fc-7f57-465e-aa61-85e88776085f"
      },
      "outputs": [
        {
          "name": "stdout",
          "output_type": "stream",
          "text": [
            "5\n",
            "120\n"
          ]
        }
      ],
      "source": [
        "#7.Write a Python program that calculates the factorial of a number using a for loop.\n",
        "n=int(input())\n",
        "total=1\n",
        "for i in range(1,n+1):\n",
        "    total=total*i\n",
        "print(total)"
      ],
      "id": "c7e6fe66"
    },
    {
      "cell_type": "code",
      "execution_count": null,
      "metadata": {
        "colab": {
          "base_uri": "https://localhost:8080/"
        },
        "id": "28609991",
        "outputId": "6c045584-cc11-42a0-c027-cdae60b55f8e"
      },
      "outputs": [
        {
          "name": "stdout",
          "output_type": "stream",
          "text": [
            "Object `Python` not found.\n",
            "1\n",
            "2\n",
            "3\n",
            "4\n",
            "5\n",
            "I like apple\n",
            "I like banana\n",
            "I like orange\n"
          ]
        }
      ],
      "source": [
        "8.How can you iterate through the characters of a string using a for loop in Python?\n",
        "\n",
        "'''In Python, you can use a for loop to iterate through a list. Here's a basic syntax for a for loop:'''\n",
        "my_list = [1, 2, 3, 4, 5]\n",
        "\n",
        "for item in my_list:\n",
        "    # Code to be executed for each item in the list\n",
        "    print(item)\n",
        "\n",
        "'''In this example, my_list is a list of integers. The for loop iterates through each element in the list, and the variable item takes on the value of each element during each iteration. The indented block following the for statement is the body of the loop, where you can perform operations on each item.\n",
        "\n",
        "You can replace item with any variable name you prefer. For example, you might write:'''\n",
        "\n",
        "fruits = [\"apple\", \"banana\", \"orange\"]\n",
        "\n",
        "for fruit in fruits:\n",
        "    print(\"I like\", fruit)\n",
        "\n",
        "\n"
      ],
      "id": "28609991"
    },
    {
      "cell_type": "code",
      "execution_count": null,
      "metadata": {
        "colab": {
          "base_uri": "https://localhost:8080/"
        },
        "id": "89349cd3",
        "outputId": "f36d8ced-b78b-4524-c528-e659169f5b48"
      },
      "outputs": [
        {
          "name": "stdout",
          "output_type": "stream",
          "text": [
            "The largest number in the list is: 908\n"
          ]
        }
      ],
      "source": [
        "#9.Write a Python program to find the largest number in a list using a for loop.\n",
        "def find_largest_number(input_list):\n",
        "\n",
        "    if not input_list:\n",
        "        return \"The list is empty.\"\n",
        "\n",
        "\n",
        "    largest_number = input_list[0]\n",
        "\n",
        "    for number in input_list[1:]:\n",
        "\n",
        "        if number > largest_number:\n",
        "            largest_number = number\n",
        "\n",
        "    return largest_number\n",
        "\n",
        "\n",
        "my_list = [5, 2, 908, 10, 3, 1]\n",
        "result = find_largest_number(my_list)\n",
        "print(\"The largest number in the list is:\", result)\n",
        "\n"
      ],
      "id": "89349cd3"
    },
    {
      "cell_type": "code",
      "execution_count": null,
      "metadata": {
        "colab": {
          "base_uri": "https://localhost:8080/"
        },
        "id": "8bbe8de8",
        "outputId": "36cbe041-3821-497e-c57d-b68a743e292e"
      },
      "outputs": [
        {
          "name": "stdout",
          "output_type": "stream",
          "text": [
            "5\n",
            "[0, 1, 1, 2, 3, 5, 8]\n"
          ]
        }
      ],
      "source": [
        "#10.Create a Python program that prints the Fibonacci sequence up to a specified limit using a for loop.\n",
        "list=[0,1]\n",
        "num=int(input())\n",
        "for i in range(1,num+1):\n",
        "    list.append(list[i]+list[i-1])\n",
        "print(list)"
      ],
      "id": "8bbe8de8"
    },
    {
      "cell_type": "code",
      "execution_count": null,
      "metadata": {
        "colab": {
          "base_uri": "https://localhost:8080/"
        },
        "id": "faaa35bc",
        "outputId": "e65927f0-fd4a-4b9d-ab8c-2d2aff2c9198"
      },
      "outputs": [
        {
          "name": "stdout",
          "output_type": "stream",
          "text": [
            "a\n",
            "1 "
          ]
        }
      ],
      "source": [
        "#11.Write a Python program to count the number of vowels in a given string using a for loop.\n",
        "vowel=\"aeiouAEIOU\"\n",
        "str=input()\n",
        "count=0\n",
        "for i in str:\n",
        "    if i in vowel:\n",
        "        count+=1\n",
        "\n",
        "print(count,end=\" \")\n"
      ],
      "id": "faaa35bc"
    },
    {
      "cell_type": "code",
      "execution_count": null,
      "metadata": {
        "colab": {
          "base_uri": "https://localhost:8080/"
        },
        "id": "a86dc539",
        "outputId": "7c6bdd25-bf04-4de9-b689-96ea02cdc46c"
      },
      "outputs": [
        {
          "name": "stdout",
          "output_type": "stream",
          "text": [
            "enter the table number:7\n",
            "7x1=7\n",
            "7x2=14\n",
            "7x3=21\n",
            "7x4=28\n",
            "7x5=35\n",
            "7x6=42\n",
            "7x7=49\n",
            "7x8=56\n",
            "7x9=63\n",
            "7x10=70\n"
          ]
        }
      ],
      "source": [
        "#12.Create a Python program that generates a multiplication table for a given number using a for loop.\n",
        "n=int(input(\"enter the table number:\"))\n",
        "for i in range(1,11):\n",
        "     print(f'{n}x{i}={n*i}')\n"
      ],
      "id": "a86dc539"
    },
    {
      "cell_type": "code",
      "execution_count": null,
      "metadata": {
        "colab": {
          "base_uri": "https://localhost:8080/"
        },
        "id": "62df62f8",
        "outputId": "4c3a15a7-b42f-47e0-ca75-835a54f78207"
      },
      "outputs": [
        {
          "data": {
            "text/plain": [
              "[1, 264, 3, 4, 57, 4, 3, 2, 1]"
            ]
          },
          "execution_count": 45,
          "metadata": {},
          "output_type": "execute_result"
        }
      ],
      "source": [
        "#13.Write a Python program to reverse a list using a for loop.\n",
        "list=[1,2,3,4,57,4,3,264,1]\n",
        "[i for i in list[::-1]]"
      ],
      "id": "62df62f8"
    },
    {
      "cell_type": "code",
      "execution_count": null,
      "metadata": {
        "colab": {
          "base_uri": "https://localhost:8080/"
        },
        "id": "36807a0d",
        "outputId": "347832fa-22f7-4d69-a93d-0885705f53e0"
      },
      "outputs": [
        {
          "name": "stdout",
          "output_type": "stream",
          "text": [
            "3 \n",
            "no more matches found\n"
          ]
        }
      ],
      "source": [
        "#14.Write a Python program to find the common elements between two lists using a for loop.\n",
        "list1=[1,2,3,45,6,]\n",
        "list2=[5,8,90,0,8,3]\n",
        "for i in list1:\n",
        "    for  j in list2:\n",
        "        if i == j :\n",
        "            print(i,end=' \\n')\n",
        "else:\n",
        "            print(\"no more matches found\")"
      ],
      "id": "36807a0d"
    },
    {
      "cell_type": "code",
      "execution_count": null,
      "metadata": {
        "colab": {
          "base_uri": "https://localhost:8080/"
        },
        "id": "9f6e3159",
        "outputId": "30ada05f-cdb5-4fef-b887-5d8892c51ae2"
      },
      "outputs": [
        {
          "name": "stdout",
          "output_type": "stream",
          "text": [
            "key:a value: 1\n",
            "key:b value: 2\n",
            "key:c value: 3\n",
            "key:d value: 4\n"
          ]
        }
      ],
      "source": [
        "#15.Explain how to use a for loop to iterate through the keys and values of a dictionary in Python.\n",
        "dic={\n",
        "    \"a\":1,\n",
        "    \"b\":2,\n",
        "    \"c\":3,\n",
        "    \"d\":4\n",
        "}\n",
        "\n",
        "for key,value in dic.items():\n",
        "    print(f\"key:{key} value: {value}\")"
      ],
      "id": "9f6e3159"
    },
    {
      "cell_type": "code",
      "execution_count": null,
      "metadata": {
        "colab": {
          "base_uri": "https://localhost:8080/"
        },
        "id": "93160042",
        "outputId": "d31ac821-f588-429c-d448-09c161148da0"
      },
      "outputs": [
        {
          "name": "stdout",
          "output_type": "stream",
          "text": [
            "Enter the first number: 5\n",
            "Enter the second number: 6\n",
            "The GCD of 5 and 6 is: 1\n"
          ]
        }
      ],
      "source": [
        "#16.Write a Python program to find the GCD (Greatest Common Divisor) of two numbers using a for loop.\n",
        "def find_gcd(a, b):\n",
        "\n",
        "    if b > a:\n",
        "        a, b = b, a\n",
        "\n",
        "\n",
        "    for divisor in range(b, 0, -1):\n",
        "        if a % divisor == 0 and b % divisor == 0:\n",
        "            return divisor\n",
        "\n",
        "\n",
        "num1 = int(input(\"Enter the first number: \"))\n",
        "num2 = int(input(\"Enter the second number: \"))\n",
        "\n",
        "result = find_gcd(num1, num2)\n",
        "\n",
        "print(f\"The GCD of {num1} and {num2} is: {result}\")\n",
        "\n",
        "\n"
      ],
      "id": "93160042"
    },
    {
      "cell_type": "code",
      "execution_count": null,
      "metadata": {
        "colab": {
          "base_uri": "https://localhost:8080/"
        },
        "id": "3b225dfa",
        "outputId": "7ce7ceb1-43f8-431c-87b9-e557237eeaf4"
      },
      "outputs": [
        {
          "name": "stdout",
          "output_type": "stream",
          "text": [
            "Enter a string: madam\n"
          ]
        }
      ],
      "source": [
        "#17.Create a Python program that checks if a string is a palindrome using a for loop.\n",
        "def is_palindrome(input_str):\n",
        "    # Convert the string to lowercase to make the check case-insensitive\n",
        "    input_str = input_str.lower()\n",
        "\n",
        "    # Remove spaces from the string\n",
        "    input_str = ''.join(input_str.split())\n",
        "\n",
        "    # Initialize a variable to store the reversed string\n",
        "    reversed_str = \"\"\n",
        "\n",
        "    # Iterate through the characters of the string in reverse order\n",
        "    for char in reversed(input_str):\n",
        "        reversed_str += char\n",
        "\n",
        "    # Check if the original and reversed strings are the same\n",
        "    if input_str == reversed_str:\n",
        "        return True\n",
        "    else:\n",
        "        return False\n",
        "\n",
        "# Example usage:\n",
        "user_input = input(\"Enter a string: \")\n",
        "if is_palindrome(user_input):\n",
        "    print(f\"{user_input} is a palindrome.\")\n",
        "else:\n",
        "    print(f\"{user_input} is not a palindrome.\")\n",
        "\n"
      ],
      "id": "3b225dfa"
    },
    {
      "cell_type": "code",
      "execution_count": null,
      "metadata": {
        "id": "012cbceb"
      },
      "outputs": [],
      "source": [
        "#18.Write a Python program to remove duplicates from a list using a for loop.\n",
        "list=[1,2,3,4,5,2,245,2,2,2,2,6,7,99,2,3,2,3]\n",
        "list1=[]\n",
        "for i in list:\n",
        "    if i not in list1:\n",
        "        list1.append(i)\n",
        "print(list1)\n",
        "\n",
        "\n"
      ],
      "id": "012cbceb"
    },
    {
      "cell_type": "code",
      "execution_count": null,
      "metadata": {
        "id": "28fc5831"
      },
      "outputs": [],
      "source": [
        "#19.Create a Python program that counts the number of words in a sentence using a for loop.\n",
        "sentence=\"hello sir, my self pavan \"\n",
        "count=0\n",
        "for i in sentence:\n",
        "    if i == \" \":\n",
        "        count+=1\n",
        "print(count)"
      ],
      "id": "28fc5831"
    },
    {
      "cell_type": "code",
      "execution_count": null,
      "metadata": {
        "id": "1fd79fcc"
      },
      "outputs": [],
      "source": [
        "#20.Write a Python program to find the sum of all odd numbers from 1 to 50 using a for loop.\n",
        "count=0\n",
        "for i in range(1,51):\n",
        "    if i % 2!= 0:\n",
        "        count+=i\n",
        "print(\"sum of all odd numbers upto 50 :\",count)"
      ],
      "id": "1fd79fcc"
    },
    {
      "cell_type": "code",
      "execution_count": null,
      "metadata": {
        "id": "be61d5be"
      },
      "outputs": [],
      "source": [
        "#21.Write a Python program that checks if a given year is a leap year using a for loop.\n",
        "def is_leap_year(year):\n",
        "    # Check if the year is divisible by 4\n",
        "    if year % 4 == 0:\n",
        "        # If the year is divisible by 100, it must also be divisible by 400\n",
        "        if year % 100 == 0:\n",
        "            for divisor in range(400, year, 400):\n",
        "                if year % divisor == 0:\n",
        "                    return True\n",
        "            return False\n",
        "        return True\n",
        "    else:\n",
        "        return False\n",
        "\n",
        "# Example usage:\n",
        "try:\n",
        "    user_input = int(input(\"Enter a year: \"))\n",
        "    if is_leap_year(user_input):\n",
        "        print(f\"{user_input} is a leap year.\")\n",
        "    else:\n",
        "        print(f\"{user_input} is not a leap year.\")\n",
        "except ValueError:\n",
        "    print(\"Invalid input. Please enter a valid year.\")\n"
      ],
      "id": "be61d5be"
    },
    {
      "cell_type": "code",
      "execution_count": null,
      "metadata": {
        "id": "8c101442"
      },
      "outputs": [],
      "source": [
        "#22.Create a Python program that calculates the square root of a number using a for loop.\n",
        "num=int(input())\n",
        "for i in range(num,num+1):\n",
        "    print(float(i**(0.5)))"
      ],
      "id": "8c101442"
    },
    {
      "cell_type": "code",
      "execution_count": null,
      "metadata": {
        "id": "5afd74c5"
      },
      "outputs": [],
      "source": [
        "#23.Write a Python program to find the LCM (Least Common Multiple) of two numbers using a for loop.\n",
        "def lcm(a, b):\n",
        "    if a > b:\n",
        "        higher = a\n",
        "    else:\n",
        "        higher = b\n",
        "    value = higher\n",
        "    for num in range(higher, a * b + 1, higher):\n",
        "        if num % a == 0 and num % b == 0:\n",
        "            print(num)\n",
        "            break\n",
        "\n",
        "\n",
        "lcm(24, 36)\n",
        "\n"
      ],
      "id": "5afd74c5"
    },
    {
      "cell_type": "code",
      "execution_count": null,
      "metadata": {
        "id": "c60779a2"
      },
      "outputs": [],
      "source": [
        "##If else :"
      ],
      "id": "c60779a2"
    },
    {
      "cell_type": "code",
      "execution_count": null,
      "metadata": {
        "colab": {
          "background_save": true
        },
        "id": "a0f5414d",
        "outputId": "b3e7d749-a57b-47e1-d725-5574ec732b6d"
      },
      "outputs": [
        {
          "name": "stdout",
          "output_type": "stream",
          "text": [
            "positive\n"
          ]
        }
      ],
      "source": [
        "#1.Write a Python program to check if a number is positive, negative, or zero using an if-else statement.\n",
        "num=int(input())\n",
        "if  num == 0:\n",
        "    print(\"zero\")\n",
        "else:\n",
        "    if num>0:\n",
        "        print(\"positive\")\n",
        "    else:\n",
        "        print(\"negative\")\n"
      ],
      "id": "a0f5414d"
    },
    {
      "cell_type": "code",
      "execution_count": null,
      "metadata": {
        "colab": {
          "background_save": true
        },
        "id": "e3050625",
        "outputId": "9416646d-c4e6-4b3d-e595-f4661c72173f"
      },
      "outputs": [
        {
          "name": "stdout",
          "output_type": "stream",
          "text": [
            "negative\n"
          ]
        }
      ],
      "source": [
        "#2.Create a Python program that checks if a given number is even or odd using an if-else statement.\n",
        "number=int(input())\n",
        "if number%2==0:\n",
        "    print(\"positive\")\n",
        "else:\n",
        "    print(\"negative\")"
      ],
      "id": "e3050625"
    },
    {
      "cell_type": "code",
      "execution_count": null,
      "metadata": {
        "colab": {
          "background_save": true
        },
        "id": "16eb1eba",
        "outputId": "c1d82e55-201b-456e-d3de-80b643a20794"
      },
      "outputs": [
        {
          "name": "stdout",
          "output_type": "stream",
          "text": [
            "5 is less than 8\n",
            "8 is an even number.\n",
            "10 is greater than 7\n",
            "3 is equal to 3\n"
          ]
        }
      ],
      "source": [
        "#3.How can you use nested if-else statements in Python, and provide an example?\n",
        "'''Nested if-else statements in Python are used when you want to have an if-else statement inside another if-else statement. This allows for more complex decision-making based on multiple conditions. The syntax for nested if-else statements looks '''\n",
        "def check_numbers(a, b):\n",
        "    if a > b:\n",
        "        print(f\"{a} is greater than {b}\")\n",
        "    elif a < b:\n",
        "        print(f\"{a} is less than {b}\")\n",
        "        if b % 2 == 0:\n",
        "            print(f\"{b} is an even number.\")\n",
        "        else:\n",
        "            print(f\"{b} is an odd number.\")\n",
        "    else:\n",
        "        print(f\"{a} is equal to {b}\")\n",
        "\n",
        "# Example usage:\n",
        "check_numbers(5, 8)\n",
        "check_numbers(10, 7)\n",
        "check_numbers(3, 3)\n",
        "\n"
      ],
      "id": "16eb1eba"
    },
    {
      "cell_type": "code",
      "execution_count": null,
      "metadata": {
        "id": "f14b6428"
      },
      "outputs": [],
      "source": [
        "#4.Write a Python program to determine the largest of three numbers using if-else.\n",
        "num1=int(input())\n",
        "num2=int(input())\n",
        "num3=int(input())\n",
        "if num1 > num2 and num1 > num3:\n",
        "    print(f\"{num1} is greate\")\n",
        "else:\n",
        "    if num2 > num1 and num2 > num3:\n",
        "        print(f\"{num2} is greater\")\n",
        "    else:\n",
        "        print(f\"{num3} is greater\")"
      ],
      "id": "f14b6428"
    },
    {
      "cell_type": "code",
      "execution_count": null,
      "metadata": {
        "id": "e768756d"
      },
      "outputs": [],
      "source": [
        "5\n",
        "#5.Write a Python program that calculates the absolute value of a number using if-else.\n",
        "value=int(input())\n",
        "\n",
        "if value > 0:\n",
        "    print(f\"absolute value of {value} is: {value}\")\n",
        "\n",
        "else:\n",
        "    if value < 0:\n",
        "        print(f\"absolute value of {value}is {-value}\")"
      ],
      "id": "e768756d"
    },
    {
      "cell_type": "code",
      "execution_count": null,
      "metadata": {
        "colab": {
          "background_save": true
        },
        "id": "df63e611",
        "outputId": "babfe478-672f-4cdb-d05a-430528068d8d"
      },
      "outputs": [
        {
          "name": "stdout",
          "output_type": "stream",
          "text": [
            "7 is a consonant\n"
          ]
        }
      ],
      "source": [
        "#6.Create a Python program that checks if a given character is a vowel or consonant using if-else.\n",
        "char=input()\n",
        "vowels=\"aeiouAEIOU\"\n",
        "if char in vowels:\n",
        "    print(f\"{char} is a vowel\")\n",
        "else:\n",
        "    print(f\"{char} is a consonant\")"
      ],
      "id": "df63e611"
    },
    {
      "cell_type": "code",
      "execution_count": null,
      "metadata": {
        "colab": {
          "background_save": true
        },
        "id": "e16050d7",
        "outputId": "2bf7d4b2-09f8-46df-cc23-97a5b9c826fd"
      },
      "outputs": [
        {
          "name": "stdout",
          "output_type": "stream",
          "text": [
            "not eligible\n"
          ]
        }
      ],
      "source": [
        "#7.Write a Python program to determine if a user is eligible to vote based on their age using if-else.\n",
        "user=int(input())\n",
        "\n",
        "if user > 18:\n",
        "    print(\"user is eligible for vote\")\n",
        "else:\n",
        "    print(\"not eligible\")"
      ],
      "id": "e16050d7"
    },
    {
      "cell_type": "code",
      "execution_count": null,
      "metadata": {
        "colab": {
          "background_save": true
        },
        "id": "aca793d9",
        "outputId": "d13ead58-984e-4d55-dfa0-8130febb31cc"
      },
      "outputs": [
        {
          "name": "stdout",
          "output_type": "stream",
          "text": [
            "customer got 20% discount\n"
          ]
        }
      ],
      "source": [
        "#8.Create a Python program that calculates the discount amount based on the purchase amount using if-else.\n",
        "purchase=int(input())\n",
        "\n",
        "if purchase > 1000:\n",
        "    print(\"customer got 30% discount\")\n",
        "else:\n",
        "    if  500 > purchase < 1000:\n",
        "        print(\"customer got 20% discount\")\n",
        "    else:\n",
        "        if 100 > purchase <500:\n",
        "            print(\"customer got 10% discount\")\n",
        "        else:\n",
        "            print(\"customer got 5% discount\")"
      ],
      "id": "aca793d9"
    },
    {
      "cell_type": "code",
      "execution_count": 65,
      "metadata": {
        "id": "2c34eae2",
        "colab": {
          "base_uri": "https://localhost:8080/"
        },
        "outputId": "6f59aea1-e5cb-44af-8a1d-f81f279591b7"
      },
      "outputs": [
        {
          "output_type": "stream",
          "name": "stdout",
          "text": [
            "6\n",
            "number is within the range\n"
          ]
        }
      ],
      "source": [
        "#9.Write a Python program to check if a number is within a specified range using if-else.\n",
        "number=int(input())\n",
        "range=500\n",
        "\n",
        "if number > range:\n",
        "    print(\"number is out of the range\")\n",
        "else:\n",
        "\n",
        "    print(\"number is within the range\")"
      ],
      "id": "2c34eae2"
    },
    {
      "cell_type": "code",
      "execution_count": 66,
      "metadata": {
        "id": "0edee7b3",
        "colab": {
          "base_uri": "https://localhost:8080/"
        },
        "outputId": "c879438d-c5c7-4503-8473-1c1d3ea89419"
      },
      "outputs": [
        {
          "output_type": "stream",
          "name": "stdout",
          "text": [
            "7\n",
            "student is failed\n"
          ]
        }
      ],
      "source": [
        "#10.Create a Python program that determines the grade of a student based on their score using if-else.\n",
        "marks=int(input())\n",
        "\n",
        "if marks > 40 and marks < 100:\n",
        "    print(\"student is passed\")\n",
        "else:\n",
        "    print(\"student is failed\")"
      ],
      "id": "0edee7b3"
    },
    {
      "cell_type": "code",
      "execution_count": 67,
      "metadata": {
        "id": "a520b766",
        "colab": {
          "base_uri": "https://localhost:8080/"
        },
        "outputId": "80e6eb27-bf45-4f29-a601-6db52889cbf0"
      },
      "outputs": [
        {
          "output_type": "stream",
          "name": "stdout",
          "text": [
            "hello\n",
            "string is not empty\n"
          ]
        }
      ],
      "source": [
        "#11.Write a Python program to check if a string is empty or not using if-else.\n",
        "string=input()\n",
        "x=len(string)\n",
        "if x < 1:\n",
        "    print(\"string is empty\")\n",
        "else:\n",
        "    print(\"string is not empty\")"
      ],
      "id": "a520b766"
    },
    {
      "cell_type": "code",
      "execution_count": null,
      "metadata": {
        "id": "5b6dba9a"
      },
      "outputs": [],
      "source": [
        "#12.Create a Python program that identifies the type of a triangle (e.g., equilateral, isosceles, or scalene) based on input values using if-else.\n",
        "side1=int(input(\"enter side1:\"))\n",
        "side2=int(input(\"enter side2:\"))\n",
        "side3=int(input(\"enter side3:\"))\n",
        "\n",
        "if side1== side2 and side1 == side3 and side2 == side3:\n",
        "    print(\"Triangle is equilateral\")\n",
        "else:\n",
        "    if side1 == side2 or side1 == side3 or side2 == side3:\n",
        "        print(\"Triangle is isoscles\")\n",
        "    else:\n",
        "        print(\"Triangle is scalene\")"
      ],
      "id": "5b6dba9a"
    },
    {
      "cell_type": "code",
      "execution_count": null,
      "metadata": {
        "id": "b60c87c5"
      },
      "outputs": [],
      "source": [
        "#13.Write a Python program to determine the day of the week based on a user-provided number using if-else.\n",
        "def day_of_week(number):\n",
        "    if number == 1:\n",
        "        print(\"Monday\")\n",
        "    else:\n",
        "        if number == 2:\n",
        "            print(\"Tuesday\")\n",
        "        else:\n",
        "            if number == 3:\n",
        "                print(\"Wednesday\")\n",
        "            else:\n",
        "                if number == 4:\n",
        "                    print(\"Thursday\")\n",
        "                else:\n",
        "                    if number == 5:\n",
        "                        print(\"Friday\")\n",
        "                    else:\n",
        "                        if number == 6:\n",
        "                            print(\"Saturday\")\n",
        "                        else:\n",
        "                            if number == 7:\n",
        "                                print(\"Sunday\")\n",
        "                            else:\n",
        "                                print(\"Invalid input. Please enter a number between 1 and 7.\")\n",
        "\n",
        "# Get user input\n",
        "user_input = input(\"Enter a number (1-7) to represent the day of the week: \")\n",
        "\n",
        "# Convert user input to an integer\n",
        "try:\n",
        "    user_number = int(user_input)\n",
        "    day_of_week(user_number)\n",
        "except ValueError:\n",
        "    print(\"Invalid input. Please enter a valid integer.\")\n"
      ],
      "id": "b60c87c5"
    },
    {
      "cell_type": "code",
      "execution_count": null,
      "metadata": {
        "id": "859f1961"
      },
      "outputs": [],
      "source": [
        "#14.Create a Python program that checks if a given year is a leap year using both if-else and a function.\n",
        "year=int(input())\n",
        "\n",
        "if year % 4 == 0 and year%100 !=0:\n",
        "    print(\"leap year\")\n",
        "else:\n",
        "    print(\"not leap year\")"
      ],
      "id": "859f1961"
    },
    {
      "cell_type": "code",
      "execution_count": null,
      "metadata": {
        "id": "8a69ae18"
      },
      "outputs": [],
      "source": [
        "#15.How do you use the \"assert\" statement in Python to add debugging checks within if-else blocks?\n",
        "'''The assert statement in Python is used for debugging purposes to check whether a given expression is True. If it's not true, an AssertionError exception is raised, which can be caught to handle debugging and identify issues in your code. It is typically used during development and testing and is not meant for production code.\n",
        "\n",
        "Here's a simple example of using assert within an if-else block:'''\n",
        "\n",
        "def divide(a, b):\n",
        "    assert b != 0, \"Cannot divide by zero!\"\n",
        "\n",
        "    result = a / b\n",
        "    return result\n",
        "\n",
        "# Example usage:\n",
        "numerator = 10\n",
        "denominator = 0\n",
        "\n",
        "try:\n",
        "    result = divide(numerator, denominator)\n",
        "    print(f\"Result of division: {result}\")\n",
        "except AssertionError as e:\n",
        "    print(f\"AssertionError: {e}\")\n",
        "except Exception as e:\n",
        "    print(f\"An error occurred: {e}\")\n",
        "\n",
        "\n",
        "#In this example, the assert statement is used to check if the denominator is not equal to zero before performing the division. If the condition is False, an AssertionError is raised, and the associated message (\"Cannot divide by zero!\") is displayed. This helps in identifying the issue during debugging.\n",
        "\n",
        "#It's important to note that the assert statements can be disabled globally by running Python with the -O (optimize) command-line switch. Therefore, assert is typically used for debugging and testing and should not be relied upon for handling runtime errors in production code."
      ],
      "id": "8a69ae18"
    },
    {
      "cell_type": "code",
      "execution_count": null,
      "metadata": {
        "id": "27a768b8"
      },
      "outputs": [],
      "source": [
        "#16.Create a Python program that determines the eligibility of a person for a senior citizen discount based on age using if-else.\n",
        "age=int(input())\n",
        "\n",
        "if age > 50:\n",
        "    print(\"person got 50% discount\")\n",
        "else:\n",
        "    print(\"person got 25% discount\")"
      ],
      "id": "27a768b8"
    },
    {
      "cell_type": "code",
      "execution_count": null,
      "metadata": {
        "id": "27c2a389"
      },
      "outputs": [],
      "source": [
        "#17.Write a Python program to categorize a given character as uppercase, lowercase, or neither using if-else.\n",
        "char=input()\n",
        "if char.isupper():\n",
        "    print(\"char in upper case\")\n",
        "else:\n",
        "    print(\"char in lower case\")"
      ],
      "id": "27c2a389"
    },
    {
      "cell_type": "code",
      "execution_count": null,
      "metadata": {
        "id": "33db6966"
      },
      "outputs": [],
      "source": [
        "#18.Write a Python program to determine the roots of a quadratic equation using if-else.\n",
        "a=int(input())\n",
        "b=int(input())\n",
        "c=int(input())\n",
        "\n",
        "discrimenant=b**2 - 4*a*c\n",
        "\n",
        "if discrimenant > 0:\n",
        "\n",
        "    root1=((-b) - ((discrimenant)**0.5))/(2*a)\n",
        "    root1=((-b) + ((discrimenant)**0.5))/(2*a)\n",
        "    print(f\"Roots are real and distinct: {root1} and {root2}\")\n",
        "else:\n",
        "    if discrimenant == 0:\n",
        "        root= -b / (2*a)\n",
        "        print(f\"Root is real and repeated: {root}\")\n",
        "    else:\n",
        "\n",
        "        real_part = -b / (2*a)\n",
        "        imaginary_part =((discrimenant)**(0.5)) / (2*a)\n",
        "        root1 = f\"{real_part} + {imaginary_part}i\"\n",
        "        root2 = f\"{real_part} - {imaginary_part}i\"\n",
        "        print(f\"Roots are complex: {root1} and {root2}\")"
      ],
      "id": "33db6966"
    },
    {
      "cell_type": "code",
      "execution_count": null,
      "metadata": {
        "id": "286dd0ce"
      },
      "outputs": [],
      "source": [
        "#19.Create a Python program that checks if a given year is a century year or not using if-else.\n",
        "year=int(input())\n",
        "\n",
        "if year % 100 == 0:\n",
        "    print(\"century year\")\n",
        "else:\n",
        "    print(\"not century year\")"
      ],
      "id": "286dd0ce"
    },
    {
      "cell_type": "code",
      "execution_count": null,
      "metadata": {
        "id": "2f296de4"
      },
      "outputs": [],
      "source": [
        "#20.Write a Python program to determine if a given number is a perfect square using if-else.\n",
        "# Get the number from the user\n",
        "number = int(input(\"Enter a number: \"))\n",
        "\n",
        "# Check if the number is a perfect square or not using if-else statements\n",
        "if number < 0:\n",
        "    print(\"Please enter a non-negative number.\")\n",
        "else:\n",
        "    square_root = int(number**0.5)\n",
        "    if square_root**2 == number:\n",
        "        print(f\"{number} is a perfect square.\")\n",
        "    else:\n",
        "        print(f\"{number} is not a perfect square.\")\n",
        "\n",
        "\n"
      ],
      "id": "2f296de4"
    },
    {
      "cell_type": "code",
      "execution_count": null,
      "metadata": {
        "id": "8faeada2"
      },
      "outputs": [],
      "source": [
        "#21.Explain the purpose of the \"continue\" and \"break\" statements within if-else loops.\n",
        "'''Purpose: The \"continue\" statement is used to skip the rest of the code inside a loop for the current iteration and move to the next iteration.\n",
        "Usage: It is typically used when a certain condition is met, and you want to skip the remaining code in the loop for that specific iteration.'''\n",
        "\n",
        "for i in range(1, 6):\n",
        "    if i == 3:\n",
        "        continue  # Skip the rest of the code for i = 3\n",
        "    print(i)\n",
        "print(\"__________________________________________________\")\n",
        "\n",
        "\n",
        "'''In this example, when i is equal to 3, the \"continue\" statement is encountered, and the remaining code for that iteration is skipped. The loop moves on to the next iteration.'''\n",
        "'''Break Statement:\n",
        "\n",
        "Purpose: The \"break\" statement is used to exit a loop prematurely when a certain condition is met.\n",
        "Usage: It is typically used when you want to terminate the loop before it naturally completes all iterations.'''\n",
        "\n",
        "for i in range(1, 6):\n",
        "    if i == 4:\n",
        "        break  # Terminate the loop when i = 4\n",
        "    print(i)\n",
        "'''In this example, when i is equal to 4, the \"break\" statement is encountered, and the loop is terminated immediately. The remaining iterations are skipped.\n",
        "In summary, \"continue\" is used to skip the rest of the code for the current iteration and move to the next one, while \"break\" is used to exit the loop prematurely when a certain condition is met. Both statements provide flexibility in controlling the flow of execution within loops.'''"
      ],
      "id": "8faeada2"
    },
    {
      "cell_type": "code",
      "execution_count": null,
      "metadata": {
        "id": "e9b733bb"
      },
      "outputs": [],
      "source": [
        "#22.Create a Python program that calculates the BMI (Body Mass Index) of a person based on their weight and height using if-else.\n",
        "# Get weight and height from the user\n",
        "weight = float(input(\"Enter your weight in kilograms: \"))\n",
        "height = float(input(\"Enter your height in meters: \"))\n",
        "\n",
        "# Calculate BMI\n",
        "bmi = weight / (height ** 2)\n",
        "\n",
        "# Determine BMI category using if-else statements\n",
        "if bmi < 18.5:\n",
        "    print(f\"Your BMI is: {bmi:.2f}\")\n",
        "    print(\"You are Underweight.\")\n",
        "else:\n",
        "    if 18.5 <= bmi < 25:\n",
        "        print(f\"Your BMI is: {bmi:.2f}\")\n",
        "        print(\"You have Normal weight.\")\n",
        "    else:\n",
        "        if 25 <= bmi < 30:\n",
        "            print(f\"Your BMI is: {bmi:.2f}\")\n",
        "            print(\"You are Overweight.\")\n",
        "        else:\n",
        "            print(f\"Your BMI is: {bmi:.2f}\")\n",
        "            print(\"You are Obese.\")\n"
      ],
      "id": "e9b733bb"
    },
    {
      "cell_type": "code",
      "execution_count": null,
      "metadata": {
        "id": "e43909c8"
      },
      "outputs": [],
      "source": [
        "#23.How can you use the \"filter()\" function with if-else statements to filter elements from a list?\n",
        "# Sample list of numbers\n",
        "numbers = [1, 5, 8, 10, 15, 20, 25]\n",
        "\n",
        "# Using filter with a lambda function and if-else statement to filter even numbers\n",
        "filtered_numbers = filter(lambda x: x % 2 == 0, numbers)\n",
        "\n",
        "# Converting the result to a list\n",
        "filtered_numbers_list = list(filtered_numbers)\n",
        "\n",
        "# Print the filtered numbers\n",
        "print(\"Original list:\", numbers)\n",
        "print(\"Filtered list (even numbers):\", filtered_numbers_list)\n"
      ],
      "id": "e43909c8"
    },
    {
      "cell_type": "code",
      "execution_count": null,
      "metadata": {
        "id": "e632da06"
      },
      "outputs": [],
      "source": [
        "#24.Write a Python program to determine if a given number is prime or not using if-else\n",
        "# Get the number from the user\n",
        "num = int(input(\"Enter a number: \"))\n",
        "\n",
        "# Check if the number is greater than 1\n",
        "if num > 1:\n",
        "    # Check for factors\n",
        "    for i in range(2, int(num**0.5) + 1):\n",
        "        if (num % i) == 0:\n",
        "            print(f\"{num} is not a prime number.\")\n",
        "            break\n",
        "    else:\n",
        "        print(f\"{num} is a prime number.\")\n",
        "else:\n",
        "    # If the number is less than or equal to 1, it's not prime\n",
        "    print(f\"{num} is not a prime number.\")\n"
      ],
      "id": "e632da06"
    },
    {
      "cell_type": "code",
      "execution_count": null,
      "metadata": {
        "id": "d782c2d8"
      },
      "outputs": [],
      "source": [
        "##Map :-"
      ],
      "id": "d782c2d8"
    },
    {
      "cell_type": "code",
      "execution_count": null,
      "metadata": {
        "id": "3c99e145"
      },
      "outputs": [],
      "source": [
        "#1.Explain the purpose of the `map()` function in Python and provide an example of how it can be used to apply a function to each element of an iterable.\n",
        "'''\n",
        "The map() function in Python is a built-in function that allows you to apply a specified function to all the items in an iterable (e.g., a list, tuple, or other iterable objects) and returns an iterator that produces the results. The syntax of the map() function is as follows:'''\n",
        "lst=[1,2,3,56,73,]\n",
        "map(lambda a:a+b, lst)\n",
        "\n",
        "'''function: The function to apply to each item in the iterable.\n",
        "iterable: The iterable whose elements will be processed by the function.\n",
        "The map() function applies the specified function to each element in the iterable, and the result is an iterator containing the transformed values.'''\n",
        "\n",
        "# Define a function to square a number\n",
        "def square(x):\n",
        "    return x ** 2\n",
        "\n",
        "# Create a list of numbers\n",
        "numbers = [1, 2, 3, 4, 5]\n",
        "\n",
        "# Use map() to apply the square function to each element in the list\n",
        "squared_numbers = map(square, numbers)\n",
        "\n",
        "# Convert the result to a list for easy inspection\n",
        "result_list = list(squared_numbers)\n",
        "\n",
        "# Output the squared numbers\n",
        "print(result_list)\n",
        "\n",
        "#In this example, the square function is applied to each element in the numbers list using the map() function. The output will be a list containing the squared values:\n",
        "#Note that the map() function returns an iterator, so we convert it to a list to see the results. This is a simple example, but map() can be useful for more complex scenarios where you want to transform each element in an iterable using a custom function."
      ],
      "id": "3c99e145"
    },
    {
      "cell_type": "code",
      "execution_count": null,
      "metadata": {
        "id": "c5cd310f"
      },
      "outputs": [],
      "source": [
        "#2.Write a Python program that uses the `map()` function to square each element of a list of numbers\n",
        "lst1=[1,2,3,4,5,6,7,8]\n",
        "evens=map(lambda a:a**2, lst1)\n",
        "even_num=list(evens)\n",
        "print(even_num)"
      ],
      "id": "c5cd310f"
    },
    {
      "cell_type": "code",
      "execution_count": null,
      "metadata": {
        "id": "8d1657c1"
      },
      "outputs": [],
      "source": [
        "#3.How does the `map()` function differ from a list comprehension in Python, and when would you choose one over the other?\n",
        "'''The map() function and list comprehensions in Python both allow you to apply a function to each element of an iterable, but they have different syntax and use cases. Here are the main differences between map() and list comprehensions:\n",
        "\n",
        "Syntax:\n",
        "\n",
        "map() requires a function and an iterable as arguments.\n",
        "List comprehensions have a more concise and expressive syntax and do not require an explicit function.'''\n",
        "\n",
        "result_map = map(lambda x: x * 2, [1, 2, 3, 4])\n",
        "\n",
        "result_list = [x * 2 for x in [1, 2, 3, 4]]\n",
        "\n",
        "'''Return Type:\n",
        "\n",
        "map() returns an iterator, and you may need to convert it to a list to see the results.\n",
        "List comprehensions return a new list directly.\n",
        "Readability:\n",
        "\n",
        "List comprehensions are often considered more readable and Pythonic, especially for simple transformations on an iterable.\n",
        "Applicability:\n",
        "\n",
        "map() is more suitable when you need to apply a function that already exists or is defined separately.\n",
        "List comprehensions are often preferred for concise and direct construction of lists with simple transformations.\n",
        "Here's an example illustrating the use of both approaches to double each element in a list:'''\n",
        "\n",
        "numbers = [1, 2, 3, 4]\n",
        "doubled_numbers = map(lambda x: x * 2, numbers)\n",
        "result_list = list(doubled_numbers)\n",
        "print(result_list)\n",
        "\n",
        "#Using list comprehension:\n",
        "\n",
        "numbers = [1, 2, 3, 4]\n",
        "doubled_numbers = [x * 2 for x in numbers]\n",
        "print(doubled_numbers)\n",
        "\n",
        "'''Both approaches will produce the same output: [2, 4, 6, 8]. The choice between map() and list comprehensions often comes down to personal preference and the specific requirements of your code. List comprehensions are generally more concise and readable for simple operations, while map() can be useful when working with existing functions or when the transformation logic is more complex.'''\n",
        "\n"
      ],
      "id": "8d1657c1"
    },
    {
      "cell_type": "code",
      "execution_count": null,
      "metadata": {
        "id": "8ba27a0b"
      },
      "outputs": [],
      "source": [
        "#4.Create a Python program that uses the `map()` function to convert a list of names to uppercase.\n",
        "lst=[\"hii\",'my','self','pavan']\n",
        "upper_word=map(lambda a:a.upper(),lst)\n",
        "upper_list=list(upper_word)\n",
        "print(upper_list)"
      ],
      "id": "8ba27a0b"
    },
    {
      "cell_type": "code",
      "execution_count": null,
      "metadata": {
        "id": "8e04394d"
      },
      "outputs": [],
      "source": [
        "#5.Write a Python program that uses the `map()` function to calculate the length of each word in a list of strings.\n",
        "list1=[\"hii\",'my','self','pavan']\n",
        "length=map(lambda a:len(a),list1)\n",
        "length_list=list(length)\n",
        "print(length_list)"
      ],
      "id": "8e04394d"
    },
    {
      "cell_type": "code",
      "execution_count": null,
      "metadata": {
        "id": "3cfefa97"
      },
      "outputs": [],
      "source": [
        "#6.How can you use the `map()` function to apply a custom function to elements of multiple lists simultaneously in Python?\n",
        "a=[1,2,3,4,5]\n",
        "b=[6,7,8,9,10]\n",
        "\n",
        "result=map(lambda a,b: a+b,a,b)\n",
        "addition=list(result)\n",
        "print(addition)"
      ],
      "id": "3cfefa97"
    },
    {
      "cell_type": "code",
      "execution_count": null,
      "metadata": {
        "id": "428214f2"
      },
      "outputs": [],
      "source": [
        "#7.Create a Python program that uses `map()` to convert a list of temperatures from Celsius to Fahrenheit.\n",
        "def celsius_to_fahrenheit(celsius):\n",
        "    return (celsius * 9/5) + 32\n",
        "\n",
        "# Create a list of temperatures in Celsius\n",
        "celsius_temperatures = [0, 10, 20, 30, 40]\n",
        "\n",
        "# Use map() to apply the conversion function to each element in the list\n",
        "fahrenheit_temperatures = map(celsius_to_fahrenheit, celsius_temperatures)\n",
        "\n",
        "# Convert the result to a list for easy inspection\n",
        "fahrenheit_list = list(fahrenheit_temperatures)\n",
        "\n",
        "# Output the converted temperatures\n",
        "print(\"Celsius Temperatures:\", celsius_temperatures)\n",
        "print(\"Fahrenheit Temperatures:\", fahrenheit_list)\n"
      ],
      "id": "428214f2"
    },
    {
      "cell_type": "code",
      "execution_count": null,
      "metadata": {
        "id": "71847149"
      },
      "outputs": [],
      "source": [
        "#8.Write a Python program that uses the `map()` function to round each element of a list of floating-point numbers to the nearest integer.\n",
        " # Function to round a number to the nearest integer\n",
        "def round_to_nearest_integer(num):\n",
        "    return round(num)\n",
        "\n",
        "# List of floating-point numbers\n",
        "float_numbers = [3.14, 2.718, 1.5, 4.9, 6.75]\n",
        "\n",
        "# Use the map() function to round each element to the nearest integer\n",
        "rounded_numbers = list(map(round_to_nearest_integer, float_numbers))\n",
        "\n",
        "# Print the original and rounded numbers\n",
        "print(\"Original Numbers:\", float_numbers)\n",
        "print(\"Rounded Numbers:\", rounded_numbers)\n"
      ],
      "id": "71847149"
    },
    {
      "cell_type": "code",
      "execution_count": null,
      "metadata": {
        "id": "6b41bd49"
      },
      "outputs": [],
      "source": [
        "##Reduce :-"
      ],
      "id": "6b41bd49"
    },
    {
      "cell_type": "code",
      "execution_count": null,
      "metadata": {
        "id": "acd98798"
      },
      "outputs": [],
      "source": [
        "#1.What is the `reduce()` function in Python, and what module should you import to use it? Provide an example of its basic usage.\n",
        "'''from functools import reduce\n",
        "\n",
        "# Example function for demonstration (multiply two numbers)\n",
        "def multiply(x, y):\n",
        "    return x * y\n",
        "\n",
        "# List of numbers\n",
        "numbers = [1, 2, 3, 4, 5]\n",
        "\n",
        "# Use reduce() to multiply all elements in the list cumulatively\n",
        "result = reduce(multiply, numbers)\n",
        "\n",
        "# Print the result\n",
        "print(\"Result of multiplying all elements:\", result)\n",
        "'''\n",
        "\n",
        "from functools import reduce\n",
        "\n",
        "# Example function for demonstration (multiply two numbers)\n",
        "def multiply(x, y):\n",
        "    return x * y\n",
        "\n",
        "# List of numbers\n",
        "numbers = [1, 2, 3, 4, 5]\n",
        "\n",
        "# Use reduce() to multiply all elements in the list cumulatively\n",
        "result = reduce(multiply, numbers)\n",
        "\n",
        "# Print the result\n",
        "print(\"Result of multiplying all elements:\", result)\n",
        "\n",
        "'''In this example, the multiply function takes two arguments and returns their product. The reduce() function is then used to apply this function cumulatively to the list of numbers. The result is the product of all the elements in the list, which is printed to the console.\n",
        "\n",
        "Note: In Python 3, the reduce() function has been moved to the functools module, so you need to import it explicitly as shown in the example.'''\n"
      ],
      "id": "acd98798"
    },
    {
      "cell_type": "code",
      "execution_count": null,
      "metadata": {
        "id": "faa9ccd5"
      },
      "outputs": [],
      "source": [
        "#2.Write a Python program that uses the `reduce()` function to find the product of all elements in a list.\n",
        "list3=[1,2,3,4,5]\n",
        "\n",
        "product=reduce(lambda a,b:a*b,list3)\n",
        "\n",
        "product"
      ],
      "id": "faa9ccd5"
    },
    {
      "cell_type": "code",
      "execution_count": null,
      "metadata": {
        "id": "1cfabac9"
      },
      "outputs": [],
      "source": [
        "#3.Create a Python program that uses `reduce()` to find the maximum element in a list of numbers.\n",
        "list4=[1,2,5,6,3,67,3,2,2]\n",
        "\n",
        "maximum=reduce(lambda a,b: a if a>b  else b  ,list4)\n",
        "maximum"
      ],
      "id": "1cfabac9"
    },
    {
      "cell_type": "code",
      "execution_count": null,
      "metadata": {
        "id": "f6cb9059"
      },
      "outputs": [],
      "source": [
        "#4.How can you use the `reduce()` function to concatenate a list of strings into a single string?\n",
        "list5=['hii ','my ','self ','pavan']\n",
        "\n",
        "concatenate=reduce(lambda a,b:a+b,list5)\n",
        "concatenate"
      ],
      "id": "f6cb9059"
    },
    {
      "cell_type": "code",
      "execution_count": null,
      "metadata": {
        "id": "4f4786cf"
      },
      "outputs": [],
      "source": [
        "#5.Write a Python program that calculates the factorial of a number using the `reduce()` function.\n",
        "num=5\n",
        "fact=reduce(lambda a,b:a*b,range(1,num+1) )\n",
        "fact"
      ],
      "id": "4f4786cf"
    },
    {
      "cell_type": "code",
      "execution_count": null,
      "metadata": {
        "id": "d63aee69"
      },
      "outputs": [],
      "source": [
        "#6.Create a Python program that uses `reduce()` to find the GCD (Greatest Common Divisor) of a list of numbers.\n",
        "from functools import reduce\n",
        "from math import gcd\n",
        "\n",
        "# List of numbers\n",
        "numbers = [24, 36, 48, 60, 72]\n",
        "\n",
        "# Function to find the GCD of two numbers\n",
        "def find_gcd(x, y):\n",
        "    return gcd(x, y)\n",
        "\n",
        "# Use reduce() to find the GCD of all elements in the list\n",
        "gcd_result = reduce(find_gcd, numbers)\n",
        "\n",
        "# Print the result\n",
        "print(\"GCD of the numbers:\", gcd_result)\n"
      ],
      "id": "d63aee69"
    },
    {
      "cell_type": "code",
      "execution_count": null,
      "metadata": {
        "id": "a6040d67"
      },
      "outputs": [],
      "source": [
        "#7.Write a Python program that uses the `reduce()` function to find the sum of the digits of a given number.\n",
        "from functools import reduce\n",
        "\n",
        "# Function to sum the digits of a number\n",
        "def sum_digits(x, y):\n",
        "    return int(x) + int(y)\n",
        "\n",
        "# Input number\n",
        "input_number = int(input(\"Enter a number: \"))\n",
        "\n",
        "# Convert the number to a string to iterate over its digits\n",
        "number_str = str(abs(input_number))\n",
        "\n",
        "# Use reduce() to find the sum of the digits\n",
        "result = reduce(sum_digits, number_str)\n",
        "\n",
        "# Print the result\n",
        "print(f\"Sum of the digits of {input_number}: {result}\")\n"
      ],
      "id": "a6040d67"
    },
    {
      "cell_type": "code",
      "execution_count": null,
      "metadata": {
        "id": "6cb391f2"
      },
      "outputs": [],
      "source": [
        "##recursion"
      ],
      "id": "6cb391f2"
    },
    {
      "cell_type": "code",
      "execution_count": null,
      "metadata": {
        "id": "128320c8"
      },
      "outputs": [],
      "source": [
        "#1.Explain the concept of recursion in Python. How does it differ from iteration?\n",
        "\n",
        "##Recursion is a programming concept where a function calls itself in its own definition. In Python, a recursive function is a function that solves a problem by solving smaller instances of the same problem. Recursion consists of two main components: a base case and a recursive case.'''\n",
        "def factorial(n):\n",
        "    # Base case\n",
        "    if n == 0 or n == 1:\n",
        "        return 1\n",
        "    # Recursive case\n",
        "    else:\n",
        "        return n * factorial(n - 1)\n",
        "\n",
        "\n",
        "#In this example, the base case (n == 0 or n == 1) is the termination condition that prevents the function from calling itself indefinitely. The recursive case (n * factorial(n - 1)) breaks down the problem into smaller subproblems until it reaches the base case.\n",
        "\n",
        "#Recursion differs from iteration in that iteration is a process where a set of instructions are repeated a certain number of times or until a condition is met using loops (e.g., for or while loops). In contrast, recursion solves a problem by breaking it down into smaller instances of the same problem, calling the function itself.'''\n",
        "\n",
        "def factorial_iterative(n):\n",
        "    result = 1\n",
        "    for i in range(1, n + 1):\n",
        "        result *= i\n",
        "    return result\n",
        "\n",
        "\n",
        "#In general, recursion and iteration can be used interchangeably for many problems, but each has its strengths and weaknesses. Recursion often provides a more natural and elegant solution for problems that exhibit a recursive structure, while iteration may be preferred for efficiency or when dealing with problems that don't naturally lend themselves to recursion.'''"
      ],
      "id": "128320c8"
    },
    {
      "cell_type": "code",
      "execution_count": null,
      "metadata": {
        "id": "0d814841"
      },
      "outputs": [],
      "source": [
        "#2.Write a Python program to calculate the factorial of a number using recursion.\n",
        "def factorial(n):\n",
        "    if n==0 or n==1:\n",
        "        return 1\n",
        "    else:\n",
        "        return n*factorial(n-1)\n",
        "\n",
        "\n",
        "n=int(input())\n",
        "result=factorial(n)\n",
        "print(result)"
      ],
      "id": "0d814841"
    },
    {
      "cell_type": "code",
      "execution_count": null,
      "metadata": {
        "id": "9ae9513b"
      },
      "outputs": [],
      "source": [
        "#3.Create a recursive Python function to find the nth Fibonacci number.\n",
        "def fibonacci(n):\n",
        "    if n <= 0:\n",
        "        return \"Invalid input, please enter a positive integer.\"\n",
        "    elif n == 1:\n",
        "        return 0\n",
        "    elif n == 2:\n",
        "        return 1\n",
        "    else:\n",
        "        return fibonacci(n - 1) + fibonacci(n - 2)\n",
        "\n",
        "# Example usage\n",
        "n = 6\n",
        "result = fibonacci(n)\n",
        "print(f\"The {n}th Fibonacci number is: {result}\")\n"
      ],
      "id": "9ae9513b"
    },
    {
      "cell_type": "code",
      "execution_count": null,
      "metadata": {
        "id": "7b534305"
      },
      "outputs": [],
      "source": [
        "#4.Write a recursive Python function to calculate the sum of all elements in a list.\n",
        "def recursive_sum(lst):\n",
        "    if not lst:\n",
        "        return 0\n",
        "    else:\n",
        "        return lst[0] + recursive_sum(lst[1:])\n",
        "\n",
        "# Example usage\n",
        "my_list = [1, 2, 3, 4, 5]\n",
        "result = recursive_sum(my_list)\n",
        "print(f\"The sum of elements in the list is: {result}\")\n",
        "\n"
      ],
      "id": "7b534305"
    },
    {
      "cell_type": "code",
      "execution_count": null,
      "metadata": {
        "id": "932e0753"
      },
      "outputs": [],
      "source": [
        "#5.How can you prevent a recursive function from running indefinitely, causing a stack overflow error?\n",
        "def factorial(n):\n",
        "    # Base case\n",
        "    if n == 0 or n == 1:\n",
        "        return 1\n",
        "    # Recursive case\n",
        "    else:\n",
        "        return n * factorial(n - 1)\n"
      ],
      "id": "932e0753"
    },
    {
      "cell_type": "code",
      "execution_count": null,
      "metadata": {
        "id": "07b5d07a"
      },
      "outputs": [],
      "source": [
        "#6.Create a recursive Python function to find the greatest common divisor (GCD) of two numbers using the Euclidean algorithm.\n",
        "def gcd_euclidean(a, b):\n",
        "    # Base case\n",
        "    if b == 0:\n",
        "        return a\n",
        "    # Recursive case\n",
        "    else:\n",
        "        return gcd_euclidean(b, a % b)\n",
        "\n",
        "# Example usage\n",
        "num1 = 48\n",
        "num2 = 18\n",
        "result = gcd_euclidean(num1, num2)\n",
        "print(f\"The GCD of {num1} and {num2} is: {result}\")\n"
      ],
      "id": "07b5d07a"
    },
    {
      "cell_type": "code",
      "execution_count": null,
      "metadata": {
        "id": "21268b6f"
      },
      "outputs": [],
      "source": [
        "#7.Write a recursive Python function to reverse a string.\n",
        "def reverse_string(input_str):\n",
        "    # Base case\n",
        "    if len(input_str) == 0:\n",
        "        return input_str\n",
        "    # Recursive case\n",
        "    else:\n",
        "        return input_str[-1] + reverse_string(input_str[:-1])\n",
        "\n",
        "# Example usage\n",
        "original_str = \"Hello, World!\"\n",
        "reversed_str = reverse_string(original_str)\n",
        "print(f\"The reversed string is: {reversed_str}\")\n"
      ],
      "id": "21268b6f"
    },
    {
      "cell_type": "code",
      "execution_count": null,
      "metadata": {
        "id": "6187cadb"
      },
      "outputs": [],
      "source": [
        "#8.Create a recursive Python function to calculate the power of a number (x^n).\n",
        "def power(x, n):\n",
        "    # Base case\n",
        "    if n == 0:\n",
        "        return 1\n",
        "    # Recursive case\n",
        "    else:\n",
        "        return x * power(x, n - 1)\n",
        "\n",
        "# Example usage\n",
        "base = 2\n",
        "exponent = 5\n",
        "result = power(base, exponent)\n",
        "print(f\"{base} raised to the power of {exponent} is: {result}\")\n"
      ],
      "id": "6187cadb"
    },
    {
      "cell_type": "code",
      "execution_count": null,
      "metadata": {
        "id": "62151043"
      },
      "outputs": [],
      "source": [
        "#9.Write a recursive Python function to find all permutations of a given string.\n",
        "def find_permutations(s):\n",
        "    # Base case: if the string has only one character or is empty\n",
        "    if len(s) <= 1:\n",
        "        return [s]\n",
        "\n",
        "    # Recursive case: find permutations for the substring without the first character\n",
        "    permutations_of_substring = find_permutations(s[1:])\n",
        "\n",
        "    # Insert the first character at all possible positions in each permutation of the substring\n",
        "    result = []\n",
        "    for perm in permutations_of_substring:\n",
        "        for i in range(len(perm) + 1):\n",
        "            result.append(perm[:i] + s[0] + perm[i:])\n",
        "\n",
        "    return result\n",
        "\n",
        "# Example usage:\n",
        "input_string = \"abc\"\n",
        "permutations = find_permutations(input_string)\n",
        "print(permutations)\n"
      ],
      "id": "62151043"
    },
    {
      "cell_type": "code",
      "execution_count": null,
      "metadata": {
        "id": "3c8f8320"
      },
      "outputs": [],
      "source": [
        "#10.Write a recursive Python function to check if a string is a palindrome.\n",
        "def is_palindrome(s):\n",
        "    # Base case: an empty string or a string with one character is always a palindrome\n",
        "    if len(s) <= 1:\n",
        "        return True\n",
        "\n",
        "    # Recursive case: check if the first and last characters are equal\n",
        "    # and recursively check the substring without those characters\n",
        "    return s[0] == s[-1] and is_palindrome(s[1:-1])\n",
        "\n",
        "# Example usage:\n",
        "input_string = \"radar\"\n",
        "result = is_palindrome(input_string)\n",
        "print(f\"The string '{input_string}' is {'a palindrome' if result else 'not a palindrome'}.\")\n"
      ],
      "id": "3c8f8320"
    },
    {
      "cell_type": "code",
      "execution_count": null,
      "metadata": {
        "id": "2a1e1ddf"
      },
      "outputs": [],
      "source": [
        "#11.Create a recursive Python function to generate all possible combinations of a list of elements.\n",
        "def generate_combinations(elements):\n",
        "    # Base case: an empty list has one combination, an empty list\n",
        "    if not elements:\n",
        "        return [[]]\n",
        "\n",
        "    # Recursive case: generate combinations without the first element\n",
        "    combinations_without_first = generate_combinations(elements[1:])\n",
        "\n",
        "    # Add combinations with the first element at the beginning\n",
        "    result = combinations_without_first + [ [elements[0]] + combo for combo in combinations_without_first]\n",
        "\n",
        "    return result\n",
        "\n",
        "# Example usage:\n",
        "input_list = [1, 2, 3]\n",
        "combinations = generate_combinations(input_list)\n",
        "print(combinations)\n"
      ],
      "id": "2a1e1ddf"
    },
    {
      "cell_type": "code",
      "execution_count": null,
      "metadata": {
        "id": "b8b4b3a0"
      },
      "outputs": [],
      "source": [
        "##Basics of Functions:"
      ],
      "id": "b8b4b3a0"
    },
    {
      "cell_type": "markdown",
      "metadata": {
        "id": "39bd8516"
      },
      "source": [
        "#1.What is a function in Python, and why is it used?\n",
        "\n",
        "In Python, a function is a reusable block of code that performs a specific task or set of tasks. Functions allow you to organize code into modular and logical units, making it easier to understand, maintain, and reuse. Functions are a fundamental concept in programming and are used for various purposes. Here are some key aspects of functions in Python:\n",
        "\n",
        "Modularity: Functions help break down a large and complex program into smaller, manageable parts. Each function can be designed to perform a specific task, and the overall logic of the program is built by combining these smaller functions.\n",
        "\n",
        "Reusability: Once a function is defined, it can be called multiple times from different parts of the program. This promotes code reuse, reducing redundancy and making it easier to maintain and update the codebase.\n",
        "\n",
        "Readability: Functions improve the readability of your code by providing a way to encapsulate functionality with a meaningful name. This makes the code more self-explanatory and easier to understand, especially when someone else is reviewing or working on the code.\n",
        "\n",
        "Parameterization: Functions can accept parameters (inputs) and return values (outputs), allowing you to create flexible and customizable code. By passing different arguments to a function, you can achieve different results without duplicating code.\n",
        "\n",
        "Abstraction: Functions provide a level of abstraction, allowing you to focus on the high-level functionality without worrying about the details of how the function achieves its task. This separation of concerns makes it easier to reason about and maintain the code.'''\n"
      ],
      "id": "39bd8516"
    },
    {
      "cell_type": "code",
      "execution_count": null,
      "metadata": {
        "id": "4da4df81"
      },
      "outputs": [],
      "source": [
        "#2.How do you define a function in Python? Provide an example\n",
        "#In Python, you can define a function using the def keyword, followed by the function name, a pair of parentheses, and a colon. The function body is indented below the definition\n",
        "\n",
        "def greet(name):\n",
        "    \"\"\"This function greets the person passed in as a parameter.\"\"\"\n",
        "    print(f\"Hello, {name}!\")\n",
        "\n",
        "greet(\"John\")\n",
        "\n",
        "# this example, the function greet takes one parameter name and prints a greeting using that parameter. The triple-quoted string right after the function definition is a docstring, which is used to document the purpose and usage of the function.\n",
        "\n",
        "#When you call the function with greet(\"John\"), it will output: \"Hello, John!\"\n"
      ],
      "id": "4da4df81"
    },
    {
      "cell_type": "markdown",
      "metadata": {
        "id": "f3eb15ac"
      },
      "source": [
        "#3.Explain the difference between a function definition and a function call.\n",
        "Function Definition:-\n",
        "\n",
        "A function definition is the actual implementation of a function. It includes the function name, parameters (if any), and the code block that is executed when the function is called.\n",
        "\n",
        "In Python, a function is defined using the def keyword, followed by the function name, parameters in parentheses, a colon, and then the indented code block.\n",
        "\n",
        "Function Call:-\n",
        "\n",
        "A function call is the action of invoking or executing a function that has been defined. It involves providing the required arguments (if any) to the function and using the function name to trigger the execution of the code within the function.\n",
        "\n",
        "In Python, a function is called by using its name followed by parentheses containing the arguments (if any).\n",
        "\n",
        "In summary, the function definition defines the structure and behavior of a function, while the function call is the actual execution of that function with specific values or arguments."
      ],
      "id": "f3eb15ac"
    },
    {
      "cell_type": "code",
      "execution_count": null,
      "metadata": {
        "id": "e3b514ce"
      },
      "outputs": [],
      "source": [
        "#4.Write a Python program that defines a function to calculate the sum of two numbers and then calls the function.\n",
        "def sum_function(a,b):\n",
        "    c=a+b\n",
        "    return c\n",
        "\n",
        "sums=sum_function(4,6)\n",
        "print(sums)"
      ],
      "id": "e3b514ce"
    },
    {
      "cell_type": "markdown",
      "metadata": {
        "id": "67af44c0"
      },
      "source": [
        "#5.What is a function signature, and what information does it typically include?\n",
        "\n",
        "A function signature is a concise and standardized way of representing the essential information about a function. It provides a high-level overview of the function's interface without detailing the implementation. The function signature typically includes the following elements:\n",
        "\n",
        "Function Name:\n",
        "\n",
        "The name of the function, which uniquely identifies it within the code.\n",
        "Return Type:\n",
        "\n",
        "The data type of the value that the function returns. In Python, this may include types such as int, float, str, list, tuple, dict, None, or a custom class/type.\n",
        "Parameters/Arguments:\n",
        "\n",
        "The input values that the function expects. It includes the names and data types of the parameters.\n",
        "Parameters can be classified as required, optional, default, or variable-length arguments.\n",
        "Exceptions/Errors:\n",
        "\n",
        "If the function can raise exceptions or errors, the function signature may include information about the types of exceptions that can be raised.\n",
        "Visibility (Optional):\n",
        "\n",
        "In some languages, the function signature may include information about the visibility of the function, indicating whether it's public, private, or protected.\n",
        "Documentation (Optional):\n",
        "\n",
        "A brief description or docstring explaining the purpose and usage of the function.\n",
        "Function signatures are useful for understanding how to use a function correctly without delving into its implementation details. They serve as a form of documentation for developers working with the code."
      ],
      "id": "67af44c0"
    },
    {
      "cell_type": "code",
      "execution_count": null,
      "metadata": {
        "id": "9f2c6aa5"
      },
      "outputs": [],
      "source": [
        "#6.Create a Python function that takes two arguments and returns their product.\n",
        "\n",
        "def product(a,b):\n",
        "    c=a*b\n",
        "    return c\n",
        "\n",
        "result=product(4,5)\n",
        "result"
      ],
      "id": "9f2c6aa5"
    },
    {
      "cell_type": "code",
      "execution_count": null,
      "metadata": {
        "id": "33c90713"
      },
      "outputs": [],
      "source": [
        "##Function Parameters and Arguments:"
      ],
      "id": "33c90713"
    },
    {
      "cell_type": "markdown",
      "metadata": {
        "id": "9bfb8f8f"
      },
      "source": [
        "#1.Explain the concepts of formal parameters and actual arguments in Python functions.\n",
        "\n",
        "In Python functions, the terms \"formal parameters\" and \"actual arguments\" refer to the variables used in the function definition and the values or expressions provided during a function call, respectively.\n",
        "\n",
        "Formal Parameters:\n",
        "\n",
        "Formal parameters are placeholders used in the function definition to represent the values that the function expects to receive when it is called.\n",
        "\n",
        "They are declared in the function signature inside the parentheses.\n",
        "\n",
        "Formal parameters act as local variables within the function and are assigned the values passed as actual arguments during the function call.\n",
        "\n",
        "These parameters define the structure and interface of the function but don't have specific values until the function is called.\n",
        "\n",
        "Actual Arguments:\n",
        "\n",
        "Actual arguments are the values or expressions provided when calling a function. They correspond to the formal parameters of the function and supply the necessary data for the function to operate on.\n",
        "\n",
        "Actual arguments can take various forms, including variables, literals, expressions, or even the result of other function calls.\n",
        "\n",
        "There are different types of actual arguments, such as positional arguments, keyword arguments, default arguments, and variable-length arguments.\n",
        "\n",
        "Understanding the relationship between formal parameters and actual arguments is crucial for working with functions in Python. It allows developers to design flexible functions that can accept different inputs and perform specific tasks based on those inputs."
      ],
      "id": "9bfb8f8f"
    },
    {
      "cell_type": "code",
      "execution_count": null,
      "metadata": {
        "id": "844b3c27"
      },
      "outputs": [],
      "source": [
        "#2.Write a Python program that defines a function with default argument values.\n",
        "def greet(name, greeting=\"Hello\"):\n",
        "\n",
        "    complete_greeting = f\"{greeting}, {name}!\"\n",
        "    return complete_greeting\n",
        "\n",
        "\n",
        "greet_default = greet(\"Alice\")\n",
        "greet_custom = greet(\"Bob\", \"Good morning\")\n",
        "\n",
        "\n",
        "print(greet_default)\n",
        "print(greet_custom)\n"
      ],
      "id": "844b3c27"
    },
    {
      "cell_type": "code",
      "execution_count": null,
      "metadata": {
        "id": "e6a1a5d0"
      },
      "outputs": [],
      "source": [
        "#3.How do you use keyword arguments in Python function calls? Provide an example.\n",
        "#In Python, you can use keyword arguments in function calls by explicitly specifying the parameter names along with their corresponding values. This allows you to pass arguments to a function in any order, as long as you mention the parameter names.\n",
        "def describe_person(name, age, occupation):\n",
        "\n",
        "    description = f\"{name} is {age} years old and works as a {occupation}.\"\n",
        "    return description\n",
        "\n",
        "\n",
        "person_info = describe_person(name=\"Alice\", age=30, occupation=\"software engineer\")\n",
        "\n",
        "print(person_info)\n"
      ],
      "id": "e6a1a5d0"
    },
    {
      "cell_type": "code",
      "execution_count": null,
      "metadata": {
        "id": "2e24738a"
      },
      "outputs": [],
      "source": [
        "#4.Create a Python function that accepts a variable number of arguments and calculates their sum.\n",
        "def no_of_args(*args):\n",
        "    sums=sum(args)\n",
        "    return sums\n",
        "sum_of_nums=no_of_args(1,2,3,4,5,6)\n",
        "print(sum_of_nums)"
      ],
      "id": "2e24738a"
    },
    {
      "cell_type": "markdown",
      "metadata": {
        "id": "2a63e3d6"
      },
      "source": [
        "#5.What is the purpose of the `*args` and `**kwargs` syntax in function parameter lists?\n",
        "\n",
        "The *args and **kwargs syntax in function parameter lists in Python provides a way to work with a variable number of arguments in a function.\n",
        "\n",
        "*args (Arbitrary Positional Arguments):\n",
        "\n",
        "The *args syntax allows a function to accept any number of positional arguments.\n",
        "\n",
        "It collects these arguments into a tuple, which can be accessed within the function using the name args or any other name preceded by the * operator.\n",
        "\n",
        "This is useful when you want to create functions that can take a variable number of arguments without specifying them explicitly in the function signature.\n",
        "\n",
        "def sum_numbers(*args):\n",
        "    total = sum(args)\n",
        "    return total\n",
        "\n",
        "result = sum_numbers(1, 2, 3, 4, 5)\n",
        "print(result)  # Output: 15\n",
        "\n",
        "\n",
        "\n",
        "**kwargs (Arbitrary Keyword Arguments):\n",
        "\n",
        "The **kwargs syntax allows a function to accept any number of keyword arguments.\n",
        "\n",
        "It collects these arguments into a dictionary, where the keys are the parameter names and the values are the corresponding argument values.\n",
        "\n",
        "The kwargs name is a convention, but you can use any other name preceded by the ** operator to access the dictionary within the function.\n",
        "\n",
        "This is useful when you want to create functions that can take a variable number of keyword arguments without specifying them explicitly in the function signature.\n",
        "\n",
        "\n",
        "def display_info(**kwargs):\n",
        "    for key, value in kwargs.items():\n",
        "        print(f\"{key}: {value}\")\n",
        "\n",
        "display_info(name=\"Alice\", age=25, occupation=\"engineer\")\n",
        "\n",
        "Using *args and **kwargs makes your functions more flexible and adaptable to different use cases. It allows you to create functions that can handle a variable number of arguments without explicitly defining each parameter, making the code more concise and versatile."
      ],
      "id": "2a63e3d6"
    },
    {
      "cell_type": "code",
      "execution_count": null,
      "metadata": {
        "id": "797f8530"
      },
      "outputs": [],
      "source": [
        "##Return Values and Scoping:"
      ],
      "id": "797f8530"
    },
    {
      "cell_type": "code",
      "execution_count": null,
      "metadata": {
        "id": "bb21b831"
      },
      "outputs": [],
      "source": [
        "#1.Describe the role of the `return` statement in Python functions and provide examples.\n",
        "\n",
        "#The return statement in Python functions is used to specify the value that a function should return to the caller. When a function is called, it may perform some computations, and the result can be passed back to the calling code using the return statement. If a function does not have a return statement or if it explicitly specifies return without a value, it implicitly returns None.\n",
        "def my_function(parameters):\n",
        "    # Code that performs some computations\n",
        "    result = ...  # The result of the computations\n",
        "\n",
        "    # Using the return statement to pass the result back to the caller\n",
        "    return result\n",
        "\n",
        "\n",
        "#Function without return:\n",
        "\n",
        "def greet(name):\n",
        "    print(f\"Hello, {name}!\")\n",
        "\n",
        "result = greet(\"Alice\")\n",
        "print(result)\n",
        "\n",
        "#The return statement allows functions to communicate their results back to the calling code, enabling the use of the computed values in subsequent parts of the program."
      ],
      "id": "bb21b831"
    },
    {
      "cell_type": "code",
      "execution_count": null,
      "metadata": {
        "id": "4fb8a6af"
      },
      "outputs": [],
      "source": [
        "#2.Explain the concept of variable scope in Python, including local and global variables.\n",
        "\n",
        "#Variable scope in Python refers to the region of a program where a variable is accessible or can be modified. The two main types of variable scope in Python are local and global.\n",
        "\n",
        "##Local Variable Scope:\n",
        "\n",
        "#A local variable is a variable that is defined within a function or a block of code. It is only accessible and valid within that specific function or block.\n",
        "\n",
        "#Local variables are created when the function is called and cease to exist when the function completes its execution.\n",
        "\n",
        "def example_function():\n",
        "\n",
        "    local_variable = 42\n",
        "    print(local_variable)\n",
        "\n",
        "example_function()\n",
        "\n",
        "##Global Variable Scope:\n",
        "\n",
        "#A global variable is a variable that is defined outside of any function or block. It is accessible throughout the entire program.\n",
        "\n",
        "#Global variables are created when the program starts and persist until the program terminates.\n",
        "\n",
        "global_variable = 10  # This is a global variable\n",
        "\n",
        "def example_function():\n",
        "\n",
        "    print(global_variable)\n",
        "\n",
        "example_function()\n",
        "\n",
        "global_variable = 20\n",
        "print(global_variable)\n",
        "\n",
        "\n",
        "global_variable = 10\n",
        "\n",
        "def modify_global_variable():\n",
        "    global global_variable\n",
        "    global_variable += 5\n",
        "\n",
        "modify_global_variable()\n",
        "print(global_variable)  # Output: 15\n",
        "\n",
        "#Understanding variable scope is crucial to avoiding naming conflicts, maintaining code clarity, and ensuring that variables are used in the appropriate context. Local variables are isolated to specific functions, while global variables are accessible throughout the entire program. It's generally considered good practice to minimize the use of global variables to improve code maintainability and reduce the risk of unintended side effects."
      ],
      "id": "4fb8a6af"
    },
    {
      "cell_type": "code",
      "execution_count": null,
      "metadata": {
        "id": "3f063523"
      },
      "outputs": [],
      "source": [
        "#3.Write a Python program that demonstrates the use of global variables within functions.\n",
        "global_variable = 10\n",
        "\n",
        "def modify_global_variable():\n",
        "\n",
        "    global global_variable\n",
        "    print(f\"Inside the function: global_variable = {global_variable}\")\n",
        "\n",
        "\n",
        "    global_variable += 5\n",
        "\n",
        "\n",
        "print(f\"Before function call: global_variable = {global_variable}\")\n",
        "\n",
        "modify_global_variable()\n",
        "\n",
        "\n",
        "print(f\"After function call: global_variable = {global_variable}\")\n"
      ],
      "id": "3f063523"
    },
    {
      "cell_type": "code",
      "execution_count": null,
      "metadata": {
        "id": "e0d4ed70"
      },
      "outputs": [],
      "source": [
        "#4.Create a Python function that calculates the factorial of a number and returns it.\n",
        "def factorial_num(num):\n",
        "    if num == 0:\n",
        "        print(num)\n",
        "    else:\n",
        "        numb=1\n",
        "        for i in range(1,num+1):\n",
        "            numb=numb*i\n",
        "    return numb\n",
        "\n",
        "\n",
        "factorial_num(5)"
      ],
      "id": "e0d4ed70"
    },
    {
      "cell_type": "code",
      "execution_count": null,
      "metadata": {
        "id": "c8a13639"
      },
      "outputs": [],
      "source": [
        "#5.How can you access variables defined outside a function from within the function?\n",
        "\n",
        "#In Python, you can access variables defined outside a function from within the fu###nction by using the global keyword or by directly referencing the variable without the global keyword. However, it's important to note that there is a distinction between reading and modifying global variables within a function.\n",
        "\n",
        "#Here are the two scenarios:\n",
        "\n",
        "##Accessing (Reading) Global Variables:\n",
        "\n",
        "#You can access the value of a global variable directly within a function without using the global keyword.\n",
        "\n",
        "#Example:\n",
        "\n",
        "global_variable = 42\n",
        "\n",
        "def read_global_variable():\n",
        "\n",
        "\n",
        "    print(\"Inside the function:\", global_variable)\n",
        "\n",
        "read_global_variable()\n",
        "\n",
        "#Modifying Global Variables:\n",
        "\n",
        "#To modify the value of a global variable within a function, you need to use the global keyword to indicate that you are referring to the global variable, not creating a local variable with the same name.\n",
        "\n",
        "#Example:\n",
        "\n"
      ],
      "id": "c8a13639"
    },
    {
      "cell_type": "code",
      "execution_count": null,
      "metadata": {
        "id": "ab0da31b"
      },
      "outputs": [],
      "source": [
        "##Lambda Functions and Higher-Order Functions:"
      ],
      "id": "ab0da31b"
    },
    {
      "cell_type": "code",
      "execution_count": null,
      "metadata": {
        "id": "82b86e55"
      },
      "outputs": [],
      "source": [
        "#1.What are lambda functions in Python, and when are they typically used?\n",
        "\n",
        "#In Python, a lambda function is a concise way to create anonymous functions, also known as lambda expressions. A lambda function can take any number of arguments but can only have one expression. The syntax for a lambda function is:\n",
        "\n",
        "#lambda arguments: expression\n",
        "\n",
        "#Lambda functions are typically used in situations where a small, short-lived function is needed for a short duration, and there is no intention to reuse the function elsewhere in the code. They are often used for one-time operations where the brevity of a lambda expression is preferred over the more verbose syntax of a regular function definition.\n",
        "\n",
        "#Here's a simple example to demonstrate a lambda function:\n",
        "\n",
        "# Regular function\n",
        "def add(x, y):\n",
        "    return x + y\n",
        "\n",
        "# Equivalent lambda function\n",
        "lambda_add = lambda x, y: x + y\n",
        "\n",
        "# Using both functions\n",
        "result1 = add(2, 3)\n",
        "result2 = lambda_add(2, 3)\n",
        "\n",
        "print(result1)  # Output: 5\n",
        "print(result2)  # Output: 5\n",
        "\n",
        "#In this example, the add function and the lambda_add lambda function both perform the same addition operation. Lambda functions are especially useful in scenarios where a small function is needed for a short operation, such as when using functions like map, filter, or sorted.\n"
      ],
      "id": "82b86e55"
    },
    {
      "cell_type": "code",
      "execution_count": null,
      "metadata": {
        "id": "a451c84d"
      },
      "outputs": [],
      "source": [
        "#2.Write a Python program that uses lambda functions to sort a list of tuples based on the second element.\n",
        "# List of tuples\n",
        "data = [(1, 5), (3, 2), (2, 8), (4, 1)]\n",
        "\n",
        "# Sorting the list of tuples based on the second element\n",
        "sorted_data = sorted(data, key=lambda x: x[1])\n",
        "\n",
        "# Displaying the sorted list\n",
        "print(\"Original data:\", data)\n",
        "print(\"Sorted data based on the second element:\", sorted_data)\n"
      ],
      "id": "a451c84d"
    },
    {
      "cell_type": "code",
      "execution_count": null,
      "metadata": {
        "id": "d735b4c9"
      },
      "outputs": [],
      "source": [
        "# 3.Explain the concept of higher-order functions in Python, and provide an example.\n",
        "\n",
        "#In Python, higher-order functions are functions that can accept other functions as arguments, return functions as results, or both. This concept is closely related to functional programming, where functions are treated as first-class citizens. Higher-order functions enable a more expressive and flexible coding style.\n",
        "\n",
        "#Here's a brief explanation of the two main types of higher-order functions:\n",
        "\n",
        "#Functions as Arguments:\n",
        "\n",
        "#Higher-order functions can take other functions as arguments. This allows you to pass behavior as a parameter to a function. This is often used with functions like map(), filter(), and reduce().\n",
        "\n",
        "#Functions as Return Values:\n",
        "\n",
        "#Higher-order functions can also return functions. This is useful when you want to generate functions dynamically or create functions based on certain conditions.\n",
        "\n",
        "\n",
        "# Higher-order function taking a function as an argument\n",
        "def apply_operation(operation, x, y):\n",
        "    return operation(x, y)\n",
        "\n",
        "# Functions that can be passed as arguments\n",
        "def add(x, y):\n",
        "    return x + y\n",
        "\n",
        "def multiply(x, y):\n",
        "    return x * y\n",
        "\n",
        "# Using apply_operation with different operations\n",
        "result_addition = apply_operation(add, 5, 3)\n",
        "result_multiplication = apply_operation(multiply, 5, 3)\n",
        "\n",
        "print(\"Addition:\", result_addition)  # Output: 8\n",
        "print(\"Multiplication:\", result_multiplication)  # Output: 15\n",
        "\n",
        "# Higher-order function returning a function\n",
        "def power_of(n):\n",
        "    def exponentiation(x):\n",
        "        return x ** n\n",
        "    return exponentiation\n",
        "\n",
        "# Using power_of to create different power functions\n",
        "square = power_of(2)\n",
        "cube = power_of(3)\n",
        "\n",
        "print(\"Square of 4:\", square(4))  # Output: 16\n",
        "print(\"Cube of 3:\", cube(3))  # Output: 27\n",
        "\n"
      ],
      "id": "d735b4c9"
    },
    {
      "cell_type": "code",
      "execution_count": null,
      "metadata": {
        "id": "2ec060a7"
      },
      "outputs": [],
      "source": [
        "#4.Create a Python function that takes a list of numbers and a function as arguments, applying the function to each element in the list.\n",
        "def apply_function_to_list(numbers, func):\n",
        "    \"\"\"\n",
        "    Apply the given function to each element in the list.\n",
        "\n",
        "    Parameters:\n",
        "    - numbers (list): List of numbers.\n",
        "    - func (function): The function to apply to each element.\n",
        "\n",
        "    Returns:\n",
        "    - list: A new list with the function applied to each element.\n",
        "    \"\"\"\n",
        "    result = [func(num) for num in numbers]\n",
        "    return result\n",
        "\n",
        "# Example usage:\n",
        "numbers_list = [1, 2, 3, 4, 5]\n",
        "\n",
        "# Define a function to be applied\n",
        "def square(x):\n",
        "    return x ** 2\n",
        "\n",
        "# Applying the square function to each element in the list\n",
        "result_squared = apply_function_to_list(numbers_list, square)\n",
        "\n",
        "print(\"Original List:\", numbers_list)\n",
        "print(\"Squared List:\", result_squared)\n"
      ],
      "id": "2ec060a7"
    },
    {
      "cell_type": "code",
      "execution_count": null,
      "metadata": {
        "id": "0adb4d04"
      },
      "outputs": [],
      "source": [
        "##Built-in Functions:"
      ],
      "id": "0adb4d04"
    },
    {
      "cell_type": "code",
      "execution_count": null,
      "metadata": {
        "id": "18af914b"
      },
      "outputs": [],
      "source": [
        "#1.Describe the role of built-in functions like `len()`, `max()`, and `min()` in Python.\n",
        "#-> built in functions are pre defined functions which is already declared in program\n",
        "#-> len(): It is one one of the built in function in python which is used find the length of the string or list,tuple\n",
        "string=\"hello\"\n",
        "len(string)\n",
        "#-> max():- It is also a one of the built in function in python it is used to find the maximum number in the list,tuple and etc...\n",
        "list=[1,3,6,7,3,6,7,43,6]\n",
        "max(list)\n",
        "#-> min():- It is also a built in function it is used to find the minimum number in the list,tuple,etc...\n",
        "list=[1,3,6,7,3,6,7,43,6]\n",
        "min(list)"
      ],
      "id": "18af914b"
    },
    {
      "cell_type": "code",
      "execution_count": null,
      "metadata": {
        "id": "592f1f93"
      },
      "outputs": [],
      "source": [
        "#2.Write a Python program that uses the `map()` function to apply a function to each element of a list.\n",
        "\n",
        "def square(x):\n",
        "    return x ** 2\n",
        "\n",
        "numbers_list = [1, 2, 3, 4, 5]\n",
        "\n",
        "squared_result = map(square, numbers_list)\n",
        "\n",
        "squared_list = list(squared_result)\n",
        "\n",
        "print(\"Original List:\", numbers_list)\n",
        "print(\"Squared List:\", squared_list)\n"
      ],
      "id": "592f1f93"
    },
    {
      "cell_type": "code",
      "execution_count": null,
      "metadata": {
        "id": "db39858c"
      },
      "outputs": [],
      "source": [
        "#3.How does the `filter()` function work in Python, and when would you use it?\n",
        "#The filter() function in Python is a built-in higher-order function that is used to filter elements from an iterable (such as a list) based on a specified condition. It returns an iterator containing only the elements for which the provided function returns True.\n",
        "\n",
        "#Here's the basic syntax of the filter() function:\n",
        "\n",
        "#filter(function, iterable)\n",
        "\n",
        "#function: A function that tests whether each element of the iterable satisfies a certain condition. It should return True or False.\n",
        "#iterable: An iterable (e.g., a list, tuple, etc.) whose elements are tested by the function.\n",
        "#The filter() function applies the provided function to each element in the iterable and includes only the elements for which the function returns True.\n",
        "\n",
        "#Here's an example to illustrate the usage of filter():\n",
        "\n",
        "\n",
        "def is_even(num):\n",
        "    return num % 2 == 0\n",
        "\n",
        "\n",
        "numbers_list = [1, 2, 3, 4, 5, 6, 7, 8, 9, 10]\n",
        "\n",
        "\n",
        "even_numbers = filter(is_even, numbers_list)\n",
        "\n",
        "\n",
        "even_numbers_list = list(even_numbers)\n",
        "\n",
        "\n",
        "print(\"Original List:\", numbers_list)\n",
        "print(\"Even Numbers List:\", even_numbers_list)\n",
        "\n"
      ],
      "id": "db39858c"
    },
    {
      "cell_type": "code",
      "execution_count": null,
      "metadata": {
        "id": "3d74f627"
      },
      "outputs": [],
      "source": [
        "#4.Create a Python program that uses the `reduce()` function to find the product of all elements in a list.\n",
        "from functools import reduce\n",
        "list=[1,2,3,4,5]\n",
        "\n",
        "\n",
        "products=reduce(lambda a,b : a*b,list)\n",
        "products\n"
      ],
      "id": "3d74f627"
    },
    {
      "cell_type": "code",
      "execution_count": null,
      "metadata": {
        "id": "8fe12a3c"
      },
      "outputs": [],
      "source": [
        "##Function Documentation and Best Practices:"
      ],
      "id": "8fe12a3c"
    },
    {
      "cell_type": "code",
      "execution_count": null,
      "metadata": {
        "id": "a1044fe6"
      },
      "outputs": [],
      "source": [
        "#Explain the purpose of docstrings in Python functions and how to write them.\n",
        "\"\"\"\n",
        "Docstrings (documentation strings) in Python are used to provide documentation for functions, classes, methods, and modules. They serve as a form of inline documentation, providing information about the purpose, usage, and parameters of a particular piece of code. Docstrings are enclosed in triple quotes (either single or double) and are placed immediately after the function, class, method, or module definition.\n",
        "\n",
        "The main purposes of docstrings are:\n",
        "\n",
        "Documentation: Docstrings provide a convenient way to document the purpose and usage of a function or module. This documentation helps other developers (or even yourself) understand how to use the code without having to examine the source code.\n",
        "\n",
        "Automatic Generation of Documentation: Docstrings can be accessed programmatically, allowing tools like help() or documentation generators to automatically generate documentation from the docstrings. This makes it easier for developers to access information about the code.\"\"\"\n",
        "\n",
        "def add(x, y):\n",
        "    \"\"\"\n",
        "    Adds two numbers.\n",
        "\n",
        "    Parameters:\n",
        "    - x (int): The first number.\n",
        "    - y (int): The second number.\n",
        "\n",
        "    Returns:\n",
        "    int: The sum of x and y.\n",
        "    \"\"\"\n",
        "    return x + y\n",
        "#In this example, the docstring is placed immediately after the function signature and provides information about the purpose of the function, the parameters it accepts, and the type of values it returns.\n",
        "\n",
        "#Here are some tips for writing effective docstrings:\n",
        "\n",
        "#Start with a one-line summary that concisely describes the purpose of the function.\n",
        "#If the function has parameters, list them along with their types and a brief description.\n",
        "#Include a \"Returns\" section to describe the type of value the function returns.\n",
        "#+If relevant, provide additional details or examples to help users understand how to use the function.\n",
        "#Using docstrings consistently in your code enhances the overall readability and maintainability of your Python projects. Additionally, it makes it easier for others (and your future self) to understand and use your code.\"\"\"++"
      ],
      "id": "a1044fe6"
    },
    {
      "cell_type": "code",
      "execution_count": null,
      "metadata": {
        "id": "5b7c0a33"
      },
      "outputs": [],
      "source": [
        "#2.Describe some best practices for naming functions and variables in Python, including naming conventions and guidelines.\n",
        "\"\"\"Naming functions and variables in a consistent and meaningful way is crucial for writing clean and readable Python code. Following naming conventions and guidelines helps improve code maintainability and collaboration. Here are some best practices for naming functions and variables in Python:\n",
        "\n",
        "Functions:\n",
        "Use Descriptive Names:\n",
        "\n",
        "Choose names that clearly convey the purpose of the function.\n",
        "Avoid single-letter or overly abbreviated names unless they are well-known conventions (e.g., i for an index in a loop).\n",
        "Follow Snake Case:\n",
        "\n",
        "Use lowercase letters with underscores to separate words (snake_case).\n",
        "Example: calculate_average, process_data.\n",
        "Use Verbs for Actions:\n",
        "\n",
        "Start function names with verbs to indicate actions or operations.\n",
        "Example: get_data, calculate_total.\n",
        "Be Consistent:\n",
        "\n",
        "Maintain a consistent naming style throughout your codebase.\n",
        "Avoid Shadowing Built-in Functions:\n",
        "\n",
        "Avoid using names that may overshadow built-in functions (e.g., don't name a function print).\n",
        "Variables:\n",
        "Use Descriptive Names:\n",
        "\n",
        "Choose meaningful and descriptive names for variables.\n",
        "Avoid generic names like temp or data.\n",
        "Follow Snake Case:\n",
        "\n",
        "Use lowercase letters with underscores to separate words.\n",
        "Example: user_name, total_count.\n",
        "Be Consistent:\n",
        "\n",
        "Maintain a consistent naming style for variables within your code.\n",
        "Avoid Magic Numbers:\n",
        "\n",
        "Assign meaningful names to constants instead of using \"magic numbers\" in your code.\n",
        "Example: SECONDS_IN_MINUTE = 60 instead of using 60 directly.\n",
        "Use Plural for Collections:\n",
        "\n",
        "When a variable represents a collection or iterable, use a plural form.\n",
        "Example: students, items.\n",
        "Constants:\n",
        "Use Uppercase for Constants:\n",
        "Use uppercase letters with underscores to represent constants.\n",
        "Example: PI = 3.14159, MAX_VALUE = 100.\n",
        "Classes:\n",
        "Use CamelCase for Class Names:\n",
        "\n",
        "Class names should start with an uppercase letter and use camel case.\n",
        "Example: MyClass, CarModel.\n",
        "Use Descriptive Class Names:\n",
        "\n",
        "Class names should convey the purpose of the class.\n",
        "Example: UserManager, HttpRequest.\n",
        "Miscellaneous:\n",
        "Avoid Ambiguous Names:\n",
        "\n",
        "Choose names that are not easily confused or misinterpreted.\n",
        "Make sure the name accurately reflects the purpose of the variable or function.\n",
        "Follow PEP 8:\n",
        "\n",
        "Adhere to the Python Enhancement Proposal (PEP) 8 style guide for naming conventions.\n",
        "By following these best practices, you contribute to the readability and maintainability of your Python code, making it easier for both yourself and others to understand and work with the codebase. Consistency in naming conventions across projects is also valuable for collaboration and adherence to community standards.\"\"\""
      ],
      "id": "5b7c0a33"
    },
    {
      "cell_type": "code",
      "execution_count": null,
      "metadata": {
        "id": "39d5e2a5"
      },
      "outputs": [],
      "source": [],
      "id": "39d5e2a5"
    }
  ],
  "metadata": {
    "colab": {
      "provenance": [],
      "include_colab_link": true
    },
    "kernelspec": {
      "display_name": "Python 3 (ipykernel)",
      "language": "python",
      "name": "python3"
    },
    "language_info": {
      "codemirror_mode": {
        "name": "ipython",
        "version": 3
      },
      "file_extension": ".py",
      "mimetype": "text/x-python",
      "name": "python",
      "nbconvert_exporter": "python",
      "pygments_lexer": "ipython3",
      "version": "3.11.5"
    }
  },
  "nbformat": 4,
  "nbformat_minor": 5
}