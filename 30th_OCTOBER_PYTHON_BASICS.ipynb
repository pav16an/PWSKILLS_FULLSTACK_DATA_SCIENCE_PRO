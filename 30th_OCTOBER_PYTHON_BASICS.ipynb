{
  "nbformat": 4,
  "nbformat_minor": 0,
  "metadata": {
    "colab": {
      "provenance": [],
      "authorship_tag": "ABX9TyN0e5+rhKVyTPX0NdCgCoIA",
      "include_colab_link": true
    },
    "kernelspec": {
      "name": "python3",
      "display_name": "Python 3"
    },
    "language_info": {
      "name": "python"
    }
  },
  "cells": [
    {
      "cell_type": "markdown",
      "metadata": {
        "id": "view-in-github",
        "colab_type": "text"
      },
      "source": [
        "<a href=\"https://colab.research.google.com/github/pav16an/PWSKILLS_FULLSTACK_DATA_SCIENCE_PRO/blob/main/30th_OCTOBER_PYTHON_BASICS.ipynb\" target=\"_parent\"><img src=\"https://colab.research.google.com/assets/colab-badge.svg\" alt=\"Open In Colab\"/></a>"
      ]
    },
    {
      "cell_type": "markdown",
      "source": [
        "#TOPIC_1: Python Basics Variable"
      ],
      "metadata": {
        "id": "hvyPY8zKuHDz"
      }
    },
    {
      "cell_type": "markdown",
      "source": [
        "1. Declare two variables, `x` and `y`, and assign them integer values. Swap the\n",
        "values of these variables without using any temporary variable."
      ],
      "metadata": {
        "id": "Js4r1qNnns9M"
      }
    },
    {
      "cell_type": "code",
      "execution_count": 5,
      "metadata": {
        "colab": {
          "base_uri": "https://localhost:8080/"
        },
        "id": "27KqrOBwk3Yi",
        "outputId": "55f0b960-e918-4e9b-daaa-be19881f7ac0"
      },
      "outputs": [
        {
          "output_type": "stream",
          "name": "stdout",
          "text": [
            "before swap x:10 and y:20\n",
            "after swaping x:20 and y:10\n"
          ]
        }
      ],
      "source": [
        "# step 1: Declare and initialize variables\n",
        "x=10\n",
        "y=20\n",
        "print(f\"before swap x:{x} and y:{y}\")\n",
        "# step 2: taking temp variable to swap the variable\n",
        "temp=x\n",
        "x=y\n",
        "y=temp\n",
        "print(f\"after swaping x:{x} and y:{y}\")"
      ]
    },
    {
      "cell_type": "markdown",
      "source": [
        "> x = 10 and y = 20:\n",
        "\n",
        " > You start by declaring two variables, x and y.\n",
        "\n",
        "x is assigned the value 10. y is assigned the value 20. print(\"x before swaping:\", x, \"y before swaping:\", y):\n",
        "\n",
        "> This line prints the values of x and `y before swapping.\n",
        "The output will be something like: \"x before swaping: 10 y before swaping: 20\".\n",
        "\n",
        "> temp=x\n",
        "  x=y\n",
        "  y=temp\n",
        "\n",
        "This is a swapping operation using tuple unpacking. It means that the values of x and y are exchanged. After this line, x will have the value 20, and y will have the value 10. print(\"x after swaping:\", x, \"y after swaping:\", y):\n",
        "\n",
        "> This line prints the values of x and `y after the swapping.\n",
        "\n",
        "The output will be something like: \"x after swaping: 20 y after swaping: 10\"."
      ],
      "metadata": {
        "id": "DwpUK8wuwlwn"
      }
    },
    {
      "cell_type": "markdown",
      "source": [
        "2. Create a program that calculates the area of a rectangle. Take the length and\n",
        "width as inputs from the user and store them in variables. Calculate and\n",
        "display the area."
      ],
      "metadata": {
        "id": "a0R4L3rguM6G"
      }
    },
    {
      "cell_type": "code",
      "source": [
        "#Take the length and width as inputs from the user\n",
        "length=int(input(\"enter length of rectangle : \"))\n",
        "width=int(input(\"enter widht of rectangle : \"))\n",
        "#area of rectangle formula\n",
        "area=length*width\n",
        "print(\"area of rectangle : \",area)#printing values\n"
      ],
      "metadata": {
        "colab": {
          "base_uri": "https://localhost:8080/"
        },
        "id": "4zGavZu8mWsc",
        "outputId": "0efa44f3-9b1e-4e1c-ff8d-12877b1d87e6"
      },
      "execution_count": 8,
      "outputs": [
        {
          "output_type": "stream",
          "name": "stdout",
          "text": [
            "enter length of rectangle : 46\n",
            "enter widht of rectangle : 34\n",
            "area of rectangle :  1564\n"
          ]
        }
      ]
    },
    {
      "cell_type": "markdown",
      "source": [
        "-> length = int(input(\"enter length of rectangle:\")):\n",
        "\n",
        "-> This line of code prompts the user to enter the length of a rectangle and waits for their input.\n",
        "\n",
        "input() is used to take user input, and int() is used to convert the user's input (which is initially a string) into an integer. The entered value is stored in the variable length. breath = int(input(\"enter breath of rectangle:\")):\n",
        "\n",
        "-> Similar to the previous line, this line prompts the user to enter the breadth (width) of the rectangle and stores the input as an integer in the variable breath.\n",
        "area = length * breath:\n",
        "\n",
        "-> This line calculates the area of the rectangle. It multiplies the values stored in length and breath to compute the area.\n",
        "The result is stored in the variable area. print(\"area of a rectangle:\", area):\n",
        "\n",
        "-> This line prints the calculated area of the rectangle.\n",
        "It displays a message \"area of a rectangle:\" followed by the value stored in the area variable."
      ],
      "metadata": {
        "id": "caTX6CKZwQnF"
      }
    },
    {
      "cell_type": "markdown",
      "source": [
        "#3. Write a Python program that converts temperatures from Celsius toFahrenheit. Take the temperature in Celsius as input, store it in a variable,convert it to Fahrenheit, and display the result."
      ],
      "metadata": {
        "id": "VBDNEesQygMD"
      }
    },
    {
      "cell_type": "code",
      "source": [
        "celsius_temperature=int(input(\"enter temperature in celsius : \")) #taking celsius_temperature in user input method\n",
        "Fahrenheit_temperature=(celsius_temperature * 9/5)+32 # Formula for converting celsius_temperature to Fahrenheit_temperature\n",
        "print(\"Fahrenheit_temperature :\",Fahrenheit_temperature)"
      ],
      "metadata": {
        "colab": {
          "base_uri": "https://localhost:8080/"
        },
        "id": "CgqrfpKLvrCt",
        "outputId": "35647fa9-0716-44f5-bb3a-6c5d6e064d72"
      },
      "execution_count": 9,
      "outputs": [
        {
          "output_type": "stream",
          "name": "stdout",
          "text": [
            "enter temperature in celsius : 43\n",
            "Fahrenheit_temperature : 109.4\n"
          ]
        }
      ]
    },
    {
      "cell_type": "markdown",
      "source": [
        "-> celsius_temperature = int(input(\"enter temperature in celsius:\")):\n",
        "\n",
        "-> This line of code prompts the user to enter a temperature in degrees Celsius and waits for their input.\n",
        "\n",
        "input() is used to take user input, and int() is used to convert the user's input (which is initially a string) into an integer. The entered temperature in degrees Celsius is stored in the variable celsius_temperature. Fahrenheit_temperature = (celsius_temperature * 9/5) + 32:\n",
        "\n",
        "-> This line calculates the equivalent temperature in degrees Fahrenheit.\n",
        "\n",
        "The formula to convert temperature from Celsius to Fahrenheit is (°C × 9/5) + 32. This formula is applied here. The result of the conversion is stored in the variable Fahrenheit_temperature. print(\"Fahrenheit_temperature:\", Fahrenheit_temperature):\n",
        "\n",
        "-> This line prints the converted temperature in degrees Fahrenheit.\n",
        "\n",
        "It displays the message \"Fahrenheit_temperature:\" followed by the value stored in the Fahrenheit_temperature variable, which represents the temperature in Fahrenheit.\n",
        "\n",
        "The code allows the user to input a temperature in degrees Celsius, converts it to degrees Fahrenheit using the conversion formula, and then prints the result. This is a common task when working with temperature units in different systems (Celsius and Fahrenheit)."
      ],
      "metadata": {
        "id": "S_88Xtl6yjjv"
      }
    },
    {
      "cell_type": "markdown",
      "source": [
        "#TOPIC_2: String Based Questions"
      ],
      "metadata": {
        "id": "hXs8iN460iUo"
      }
    },
    {
      "cell_type": "markdown",
      "source": [
        "#1. Write a Python program that takes a string as input and prints the length the string."
      ],
      "metadata": {
        "id": "zexOuX8Z0nNx"
      }
    },
    {
      "cell_type": "code",
      "source": [
        "string=input() # taking string as input\n",
        "length_of_string=len(string) #calculate the length of string\n",
        "print(\"length_of_string :\",length_of_string)"
      ],
      "metadata": {
        "colab": {
          "base_uri": "https://localhost:8080/"
        },
        "id": "IMAhSBvn0svl",
        "outputId": "1fe74e5e-9f64-4840-fea1-21aa7e7a9ab3"
      },
      "execution_count": 12,
      "outputs": [
        {
          "output_type": "stream",
          "name": "stdout",
          "text": [
            "pavan\n",
            "length_of_string : 5\n"
          ]
        }
      ]
    },
    {
      "cell_type": "markdown",
      "source": [
        "-> string = str(input(\"enter the string\")):\n",
        "\n",
        "This line of code prompts the user to enter a string and waits for their input. input() is used to take user input, and str() is used to convert the user's input (which is initially a string) into a string. However, this conversion is not necessary since input() already returns a string. The entered string is stored in the variable string.\n",
        "\n",
        "-> length_of_string = len(string):\n",
        "\n",
        "This line calculates the length of the string. The len() function is used to determine the number of characters (including spaces) in the string stored in the variable string. The result is stored in the variable length_of_string.\n",
        "\n",
        "-> print(\"length of string:\", length_of_string):\n",
        "\n",
        "This line prints the length of the input string. It displays the message \"length of string:\" followed by the value stored in the length_of_string variable, which represents the length of the string."
      ],
      "metadata": {
        "id": "vpJ-_JbH1Sg6"
      }
    },
    {
      "cell_type": "markdown",
      "source": [
        "#2. Create a program that takes a sentence from the user and counts the number of vowels (a, e, i, o, u) in the string."
      ],
      "metadata": {
        "id": "onQQ92ow1fBC"
      }
    },
    {
      "cell_type": "code",
      "source": [
        "sentence =str(input(\"enter sentence :\")) #taking string as input\n",
        "vowel_count=0\n",
        "for i in sentence:\n",
        "   if i in'aeiou':\n",
        "    vowel_count +=1\n",
        "print(\"no_of_vowels in the sentence :\",vowel_count) # printing the no_of_vowels in sentence"
      ],
      "metadata": {
        "colab": {
          "base_uri": "https://localhost:8080/"
        },
        "id": "Gwzenavn04D5",
        "outputId": "4674d6d7-85fd-46cd-a6e4-7d971d328160"
      },
      "execution_count": 13,
      "outputs": [
        {
          "output_type": "stream",
          "name": "stdout",
          "text": [
            "enter sentence :hello world\n",
            "no_of_vowels in the sentence : 3\n"
          ]
        }
      ]
    },
    {
      "cell_type": "markdown",
      "source": [
        "-> sentence = str(input(\"enter sentence:\")):\n",
        "\n",
        "This line prompts the user to enter a sentence and waits for their input. input() is used to take user input, and str() is used to convert the user's input (which is initially a string) into a string, although the conversion is not strictly necessary since input() already returns a string. The entered sentence is stored in the variable sentence.\n",
        "\n",
        "-> vowel_count = 0:\n",
        "\n",
        "This line initializes a variable vowel_count to 0. This variable will be used to keep track of the number of vowels in the input sentence.\n",
        "\n",
        "-> for i in sentence::\n",
        "\n",
        "This line starts a for loop that iterates through each character in the sentence string. It processes one character at a time.\n",
        "\n",
        "-> if i in \"aeiou\"::\n",
        "\n",
        "This line checks if the current character i is a vowel. It does so by comparing i to the string \"aeiou\", which contains all the lowercase vowels ('a', 'e', 'i', 'o', 'u').\n",
        "\n",
        "-> vowel_count += 1:\n",
        "\n",
        "If the current character i is a vowel, this line increments the vowel_count variable by 1. It counts the vowels in the sentence.\n",
        "\n",
        "-> print(\"the number of vowels in sentence:\", vowel_count):\n",
        "\n",
        "After the loop completes, this line prints the count of vowels in the sentence. It displays the message \"the number of vowels in sentence:\" followed by the value stored in the vowel_count variable, which represents the count of vowels in the input sentence."
      ],
      "metadata": {
        "id": "tS-hnDIN22BF"
      }
    },
    {
      "cell_type": "markdown",
      "source": [
        "#3. Given a string, reverse the order of characters using string slicing and print the reversed string."
      ],
      "metadata": {
        "id": "7XCxY-BL3H8y"
      }
    },
    {
      "cell_type": "code",
      "source": [
        "String=str(input(\"enter the  string\")) #taking string as input\n",
        "reversed_string=String[::-1] #reversed the given string\n",
        "print(\"reversed_string of given string :\",reversed_string)"
      ],
      "metadata": {
        "colab": {
          "base_uri": "https://localhost:8080/"
        },
        "id": "NlbdvkO-3G8w",
        "outputId": "80015bbf-ed20-497d-fdf7-8c81fc27cbd6"
      },
      "execution_count": 15,
      "outputs": [
        {
          "output_type": "stream",
          "name": "stdout",
          "text": [
            "enter the  stringpshycology\n",
            "reversed_string of given string : ygolocyhsp\n"
          ]
        }
      ]
    },
    {
      "cell_type": "markdown",
      "source": [
        "-> String = str(input(\"enter the string\")): This line takes input from the user and stores it in the variable String. The input() function is used to get a string input from the user. The str() function is used to ensure that the input is treated as a string.\n",
        "\n",
        "-> reversed_string = String[::-1]: This line creates a new variable called reversed_string by using slicing notation with [::-1]. This slicing notation is used to reverse the characters in the String.\n",
        "\n",
        "-> print(\"reversed string of the given string is:\", reversed_string): This line prints the original string with the message \"reversed string of the given string is:\" and then appends the reversed_string to the message. This displays the reversed string to the user."
      ],
      "metadata": {
        "id": "O9v_92tM5BSb"
      }
    },
    {
      "cell_type": "markdown",
      "source": [
        "#4. Write a program that takes a string as input and checks if it is a palindrome (reads the same forwards and backwards)."
      ],
      "metadata": {
        "id": "07We6dXP5I1x"
      }
    },
    {
      "cell_type": "code",
      "source": [
        "String=str(input(\"enter the string \")) #taking string as  input\n",
        "reversed_string=String[::-1] #reversed the given string\n",
        "if String == reversed_string:\n",
        "  print(\"given string is palindrome\")\n",
        "else:\n",
        "  print(\"given string is not palindrome \")\n"
      ],
      "metadata": {
        "colab": {
          "base_uri": "https://localhost:8080/"
        },
        "id": "Cf30Xbk55OxR",
        "outputId": "7c2693ac-f3a2-4661-da26-df1eaaf08145"
      },
      "execution_count": 18,
      "outputs": [
        {
          "output_type": "stream",
          "name": "stdout",
          "text": [
            "enter the string MALAYALAM\n",
            "given string is palindrome\n"
          ]
        }
      ]
    },
    {
      "cell_type": "markdown",
      "source": [
        "-> string = str(input(\"enter the string:\")): This line takes an input string from the user and stores it in the variable string. The input() function is used to get a string input from the user, and the str() function is used to ensure that the input is treated as a string.\n",
        "\n",
        "-> reversed_string = string[::-1]: This line creates a new variable called reversed_string by using slicing notation with [::-1]. This slicing notation is used to reverse the characters in the string.\n",
        "\n",
        "-> if string == reversed_string:: This line begins an if statement to compare the original string string with the reversed string reversed_string. If they are equal, it means the input string is a palindrome because it reads the same forward and backward.\n",
        "\n",
        "-> print(\"given string is palindrome\"): If the condition in the if statement is True (i.e., the string is a palindrome), this line prints \"given string is palindrome\" to indicate that the input string is indeed a palindrome.\n",
        "\n",
        "-> else:: If the condition in the if statement is False (i.e., the string is not a palindrome), the code in the else block will be executed.\n",
        "\n",
        "-> print(\"given string is not a palindrome\"): In the else block, this line prints \"given string is not a palindrome\" to indicate that the input string is not a palindrome."
      ],
      "metadata": {
        "id": "rG3WhPVV6jCq"
      }
    },
    {
      "cell_type": "markdown",
      "source": [
        "#5.Create a program that takes a string as input and removes all the spaces from it. Print the modified string without spaces."
      ],
      "metadata": {
        "id": "KAlBuNus6rIz"
      }
    },
    {
      "cell_type": "code",
      "source": [
        "string=str(input(\"enter the string \"))#taking string as input\n",
        "modified_string=string.replace(\" \",\"\")#removing the spaces using replace funtion\n",
        "print(\"modified_string\",modified_string) #printing the modified_string"
      ],
      "metadata": {
        "colab": {
          "base_uri": "https://localhost:8080/"
        },
        "id": "7O-qIxKN61l5",
        "outputId": "5274089e-0713-4e0a-8917-1b7fcbde36cf"
      },
      "execution_count": 22,
      "outputs": [
        {
          "output_type": "stream",
          "name": "stdout",
          "text": [
            "enter the string HELLO WORLD\n",
            "modified_string HELLOWORLD\n"
          ]
        }
      ]
    },
    {
      "cell_type": "markdown",
      "source": [
        "-> string = str(input(\"enter the string:\")): This line prompts the user to enter a string and stores the input in the variable string. The input() function is used to get a string input from the user, and the str() function ensures that the input is treated as a string.\n",
        "\n",
        "-> modified_string = string.replace(\" \", \"\"): This line creates a new variable called modified_string by using the replace() method on the string. The replace() method is used to find all occurrences of a space character (\" \") in the original string and replace them with an empty string (i.e., remove the spaces).\n",
        "\n",
        "-> print(\"the string without spaces:\", modified_string): This line prints the original string with the message \"the string without spaces:\" and then appends the modified_string to the message. It displays the modified string without spaces to the user."
      ],
      "metadata": {
        "id": "zjeaTJXZ79i5"
      }
    }
  ]
}